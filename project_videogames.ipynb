{
 "cells": [
  {
   "cell_type": "markdown",
   "metadata": {},
   "source": [
    "Привет, Максим!\n",
    "\n",
    "Меня зовут Вячеслав Погорелый, и я буду проводить ревью твоего проекта. \n",
    "\n",
    "Предлагаю перейти на \"ты\", если не против)\n",
    "\n",
    "Но если это не удобно - дай знать, и мы перейдем на \"вы\". Моя главная задача — не находить сделанные тобою ошибки, а передать свой опыт и помочь тебе стать аналитиком данных.\n",
    "\n",
    "Я отметил комментарии и замечания разным цветом далее по тексту markdown:\n",
    "\n",
    "---    \n",
    "<div class=\"alert alert-block alert-danger\">\n",
    "    \n",
    "### Ошибка\n",
    "    \n",
    "Критическое замечание, которые следует исправить.\n",
    "</div> \n",
    "    \n",
    "---\n",
    "    \n",
    "<div class=\"alert alert-block alert-warning\">\n",
    "    \n",
    "### Совет\n",
    "    \n",
    "Замечание\\совет на будущее.\n",
    "</div>\n",
    "    \n",
    "---\n",
    "    \n",
    "<div class=\"alert alert-block alert-success\">\n",
    "    \n",
    "### Успех\n",
    "\n",
    "Все здорово"
   ]
  },
  {
   "cell_type": "markdown",
   "metadata": {},
   "source": [
    "<div class=\"alert alert-block alert-info\">\n",
    "\n",
    "Рад снова приветствовать, Вячеслав!\n",
    "    \n",
    "Спасибо за твои комментарии и поправки, как видишь, ни один совет не проходит мимо меня."
   ]
  },
  {
   "cell_type": "markdown",
   "metadata": {},
   "source": [
    "# Статистическое исследование данных компьютерных и видеоигр"
   ]
  },
  {
   "cell_type": "markdown",
   "metadata": {},
   "source": [
    "**Описание данных:**\n",
    "Исторические данные (до 2016 г.) о продажах игр, оценки пользователей и экспертов, жанры и платформы из открытых источников. Таблица содержит следующие столбцы:\n",
    "+ `Name` — название игры\n",
    "+ `Platform` — платформа\n",
    "+ `Year_of_Release` — год выпуска\n",
    "+ `Genre` — жанр игры\n",
    "+ `NA_sales` — продажи в Северной Америке (миллионы проданных копий)\n",
    "+ `EU_sales` — продажи в Европе (миллионы проданных копий)\n",
    "+ `JP_sales` — продажи в Японии (миллионы проданных копий)\n",
    "+ `Other_sales` — продажи в других странах (миллионы проданных копий)\n",
    "+ `Critic_Score` — оценка критиков (максимум 100)\n",
    "+ `User_Score` — оценка пользователей (максимум 10)\n",
    "+ `Rating` — рейтинг от организации ESRB (англ. Entertainment Software Rating Board). Эта ассоциация определяет рейтинг компьютерных игр и присваивает им подходящую возрастную категорию.\n",
    "\n",
    "**Файлы:**\n",
    "games.csv\n",
    "\n",
    "**Цель исследования:**\n",
    "\n",
    "Выявление закономерностей, определяющих успешность игры. Прогнозирование популярных проектов для планирования рекламных кампаний интернет-магазина.\n",
    "\n",
    "**План исследования:**\n",
    "\n",
    "1. Загрузка и знакомство с данными. Оценка качества данных.\n",
    "2. Работа по устранению проблемам в данных.\n",
    "3. Исследовательский анализ данных.\n",
    "4. Работа с гипотезами.\n",
    "5. Общий вывод."
   ]
  },
  {
   "cell_type": "markdown",
   "metadata": {},
   "source": [
    "<div class=\"alert alert-block alert-success\">\n",
    " \n",
    "### Комментарий ревьюера\n",
    "    \n",
    "#### Успех\n",
    "\n",
    "Оформить оглавление не забыл. Это признак хорошего тона. Отлично вышло"
   ]
  },
  {
   "cell_type": "markdown",
   "metadata": {},
   "source": [
    "**Импорт библиотек:**"
   ]
  },
  {
   "cell_type": "code",
   "execution_count": 1,
   "metadata": {},
   "outputs": [
    {
     "name": "stdout",
     "output_type": "stream",
     "text": [
      "Requirement already satisfied: missingno in /opt/conda/lib/python3.9/site-packages (0.5.2)\r\n",
      "Requirement already satisfied: scipy in /opt/conda/lib/python3.9/site-packages (from missingno) (1.9.1)\r\n",
      "Requirement already satisfied: seaborn in /opt/conda/lib/python3.9/site-packages (from missingno) (0.11.1)\r\n",
      "Requirement already satisfied: matplotlib in /opt/conda/lib/python3.9/site-packages (from missingno) (3.3.4)\r\n",
      "Requirement already satisfied: numpy in /opt/conda/lib/python3.9/site-packages (from missingno) (1.21.1)\r\n",
      "Requirement already satisfied: pyparsing!=2.0.4,!=2.1.2,!=2.1.6,>=2.0.3 in /opt/conda/lib/python3.9/site-packages (from matplotlib->missingno) (2.4.7)\r\n",
      "Requirement already satisfied: pillow>=6.2.0 in /opt/conda/lib/python3.9/site-packages (from matplotlib->missingno) (8.4.0)\r\n",
      "Requirement already satisfied: python-dateutil>=2.1 in /opt/conda/lib/python3.9/site-packages (from matplotlib->missingno) (2.8.1)\r\n",
      "Requirement already satisfied: cycler>=0.10 in /opt/conda/lib/python3.9/site-packages (from matplotlib->missingno) (0.11.0)\r\n",
      "Requirement already satisfied: kiwisolver>=1.0.1 in /opt/conda/lib/python3.9/site-packages (from matplotlib->missingno) (1.4.4)\r\n",
      "Requirement already satisfied: six>=1.5 in /opt/conda/lib/python3.9/site-packages (from python-dateutil>=2.1->matplotlib->missingno) (1.16.0)\r\n",
      "Requirement already satisfied: pandas>=0.23 in /opt/conda/lib/python3.9/site-packages (from seaborn->missingno) (1.2.4)\r\n",
      "Requirement already satisfied: pytz>=2017.3 in /opt/conda/lib/python3.9/site-packages (from pandas>=0.23->seaborn->missingno) (2021.1)\r\n"
     ]
    }
   ],
   "source": [
    "import pandas as pd\n",
    "import warnings\n",
    "warnings.filterwarnings('ignore')\n",
    "!pip install missingno\n",
    "import missingno as msno\n",
    "import matplotlib.pyplot as plt\n",
    "import seaborn as sns\n",
    "from scipy import stats as st"
   ]
  },
  {
   "cell_type": "markdown",
   "metadata": {},
   "source": [
    "<div class=\"alert alert-block alert-success\">\n",
    " \n",
    "### Комментарий ревьюера\n",
    "    \n",
    "#### Успех\n",
    "\n",
    "Импорт библиотек проведен в отдельной ячейке кода. Подготовка выполнена правильно"
   ]
  },
  {
   "cell_type": "markdown",
   "metadata": {},
   "source": [
    "## Загрузка и предпросмотр данных"
   ]
  },
  {
   "cell_type": "code",
   "execution_count": 2,
   "metadata": {},
   "outputs": [],
   "source": [
    "# записываем в переменную наш датафрейм из csv файла\n",
    "try:\n",
    "    data = pd.read_csv('/datasets/games.csv')\n",
    "except:\n",
    "    data = pd.read_csv('https://code.s3.yandex.net/datasets/games.csv')"
   ]
  },
  {
   "cell_type": "code",
   "execution_count": 3,
   "metadata": {},
   "outputs": [
    {
     "data": {
      "text/html": [
       "<div>\n",
       "<style scoped>\n",
       "    .dataframe tbody tr th:only-of-type {\n",
       "        vertical-align: middle;\n",
       "    }\n",
       "\n",
       "    .dataframe tbody tr th {\n",
       "        vertical-align: top;\n",
       "    }\n",
       "\n",
       "    .dataframe thead th {\n",
       "        text-align: right;\n",
       "    }\n",
       "</style>\n",
       "<table border=\"1\" class=\"dataframe\">\n",
       "  <thead>\n",
       "    <tr style=\"text-align: right;\">\n",
       "      <th></th>\n",
       "      <th>Name</th>\n",
       "      <th>Platform</th>\n",
       "      <th>Year_of_Release</th>\n",
       "      <th>Genre</th>\n",
       "      <th>NA_sales</th>\n",
       "      <th>EU_sales</th>\n",
       "      <th>JP_sales</th>\n",
       "      <th>Other_sales</th>\n",
       "      <th>Critic_Score</th>\n",
       "      <th>User_Score</th>\n",
       "      <th>Rating</th>\n",
       "    </tr>\n",
       "  </thead>\n",
       "  <tbody>\n",
       "    <tr>\n",
       "      <th>0</th>\n",
       "      <td>Wii Sports</td>\n",
       "      <td>Wii</td>\n",
       "      <td>2006.0</td>\n",
       "      <td>Sports</td>\n",
       "      <td>41.36</td>\n",
       "      <td>28.96</td>\n",
       "      <td>3.77</td>\n",
       "      <td>8.45</td>\n",
       "      <td>76.0</td>\n",
       "      <td>8</td>\n",
       "      <td>E</td>\n",
       "    </tr>\n",
       "    <tr>\n",
       "      <th>1</th>\n",
       "      <td>Super Mario Bros.</td>\n",
       "      <td>NES</td>\n",
       "      <td>1985.0</td>\n",
       "      <td>Platform</td>\n",
       "      <td>29.08</td>\n",
       "      <td>3.58</td>\n",
       "      <td>6.81</td>\n",
       "      <td>0.77</td>\n",
       "      <td>NaN</td>\n",
       "      <td>NaN</td>\n",
       "      <td>NaN</td>\n",
       "    </tr>\n",
       "    <tr>\n",
       "      <th>2</th>\n",
       "      <td>Mario Kart Wii</td>\n",
       "      <td>Wii</td>\n",
       "      <td>2008.0</td>\n",
       "      <td>Racing</td>\n",
       "      <td>15.68</td>\n",
       "      <td>12.76</td>\n",
       "      <td>3.79</td>\n",
       "      <td>3.29</td>\n",
       "      <td>82.0</td>\n",
       "      <td>8.3</td>\n",
       "      <td>E</td>\n",
       "    </tr>\n",
       "    <tr>\n",
       "      <th>3</th>\n",
       "      <td>Wii Sports Resort</td>\n",
       "      <td>Wii</td>\n",
       "      <td>2009.0</td>\n",
       "      <td>Sports</td>\n",
       "      <td>15.61</td>\n",
       "      <td>10.93</td>\n",
       "      <td>3.28</td>\n",
       "      <td>2.95</td>\n",
       "      <td>80.0</td>\n",
       "      <td>8</td>\n",
       "      <td>E</td>\n",
       "    </tr>\n",
       "    <tr>\n",
       "      <th>4</th>\n",
       "      <td>Pokemon Red/Pokemon Blue</td>\n",
       "      <td>GB</td>\n",
       "      <td>1996.0</td>\n",
       "      <td>Role-Playing</td>\n",
       "      <td>11.27</td>\n",
       "      <td>8.89</td>\n",
       "      <td>10.22</td>\n",
       "      <td>1.00</td>\n",
       "      <td>NaN</td>\n",
       "      <td>NaN</td>\n",
       "      <td>NaN</td>\n",
       "    </tr>\n",
       "    <tr>\n",
       "      <th>...</th>\n",
       "      <td>...</td>\n",
       "      <td>...</td>\n",
       "      <td>...</td>\n",
       "      <td>...</td>\n",
       "      <td>...</td>\n",
       "      <td>...</td>\n",
       "      <td>...</td>\n",
       "      <td>...</td>\n",
       "      <td>...</td>\n",
       "      <td>...</td>\n",
       "      <td>...</td>\n",
       "    </tr>\n",
       "    <tr>\n",
       "      <th>16710</th>\n",
       "      <td>Samurai Warriors: Sanada Maru</td>\n",
       "      <td>PS3</td>\n",
       "      <td>2016.0</td>\n",
       "      <td>Action</td>\n",
       "      <td>0.00</td>\n",
       "      <td>0.00</td>\n",
       "      <td>0.01</td>\n",
       "      <td>0.00</td>\n",
       "      <td>NaN</td>\n",
       "      <td>NaN</td>\n",
       "      <td>NaN</td>\n",
       "    </tr>\n",
       "    <tr>\n",
       "      <th>16711</th>\n",
       "      <td>LMA Manager 2007</td>\n",
       "      <td>X360</td>\n",
       "      <td>2006.0</td>\n",
       "      <td>Sports</td>\n",
       "      <td>0.00</td>\n",
       "      <td>0.01</td>\n",
       "      <td>0.00</td>\n",
       "      <td>0.00</td>\n",
       "      <td>NaN</td>\n",
       "      <td>NaN</td>\n",
       "      <td>NaN</td>\n",
       "    </tr>\n",
       "    <tr>\n",
       "      <th>16712</th>\n",
       "      <td>Haitaka no Psychedelica</td>\n",
       "      <td>PSV</td>\n",
       "      <td>2016.0</td>\n",
       "      <td>Adventure</td>\n",
       "      <td>0.00</td>\n",
       "      <td>0.00</td>\n",
       "      <td>0.01</td>\n",
       "      <td>0.00</td>\n",
       "      <td>NaN</td>\n",
       "      <td>NaN</td>\n",
       "      <td>NaN</td>\n",
       "    </tr>\n",
       "    <tr>\n",
       "      <th>16713</th>\n",
       "      <td>Spirits &amp; Spells</td>\n",
       "      <td>GBA</td>\n",
       "      <td>2003.0</td>\n",
       "      <td>Platform</td>\n",
       "      <td>0.01</td>\n",
       "      <td>0.00</td>\n",
       "      <td>0.00</td>\n",
       "      <td>0.00</td>\n",
       "      <td>NaN</td>\n",
       "      <td>NaN</td>\n",
       "      <td>NaN</td>\n",
       "    </tr>\n",
       "    <tr>\n",
       "      <th>16714</th>\n",
       "      <td>Winning Post 8 2016</td>\n",
       "      <td>PSV</td>\n",
       "      <td>2016.0</td>\n",
       "      <td>Simulation</td>\n",
       "      <td>0.00</td>\n",
       "      <td>0.00</td>\n",
       "      <td>0.01</td>\n",
       "      <td>0.00</td>\n",
       "      <td>NaN</td>\n",
       "      <td>NaN</td>\n",
       "      <td>NaN</td>\n",
       "    </tr>\n",
       "  </tbody>\n",
       "</table>\n",
       "<p>16715 rows × 11 columns</p>\n",
       "</div>"
      ],
      "text/plain": [
       "                                Name Platform  Year_of_Release         Genre  \\\n",
       "0                         Wii Sports      Wii           2006.0        Sports   \n",
       "1                  Super Mario Bros.      NES           1985.0      Platform   \n",
       "2                     Mario Kart Wii      Wii           2008.0        Racing   \n",
       "3                  Wii Sports Resort      Wii           2009.0        Sports   \n",
       "4           Pokemon Red/Pokemon Blue       GB           1996.0  Role-Playing   \n",
       "...                              ...      ...              ...           ...   \n",
       "16710  Samurai Warriors: Sanada Maru      PS3           2016.0        Action   \n",
       "16711               LMA Manager 2007     X360           2006.0        Sports   \n",
       "16712        Haitaka no Psychedelica      PSV           2016.0     Adventure   \n",
       "16713               Spirits & Spells      GBA           2003.0      Platform   \n",
       "16714            Winning Post 8 2016      PSV           2016.0    Simulation   \n",
       "\n",
       "       NA_sales  EU_sales  JP_sales  Other_sales  Critic_Score User_Score  \\\n",
       "0         41.36     28.96      3.77         8.45          76.0          8   \n",
       "1         29.08      3.58      6.81         0.77           NaN        NaN   \n",
       "2         15.68     12.76      3.79         3.29          82.0        8.3   \n",
       "3         15.61     10.93      3.28         2.95          80.0          8   \n",
       "4         11.27      8.89     10.22         1.00           NaN        NaN   \n",
       "...         ...       ...       ...          ...           ...        ...   \n",
       "16710      0.00      0.00      0.01         0.00           NaN        NaN   \n",
       "16711      0.00      0.01      0.00         0.00           NaN        NaN   \n",
       "16712      0.00      0.00      0.01         0.00           NaN        NaN   \n",
       "16713      0.01      0.00      0.00         0.00           NaN        NaN   \n",
       "16714      0.00      0.00      0.01         0.00           NaN        NaN   \n",
       "\n",
       "      Rating  \n",
       "0          E  \n",
       "1        NaN  \n",
       "2          E  \n",
       "3          E  \n",
       "4        NaN  \n",
       "...      ...  \n",
       "16710    NaN  \n",
       "16711    NaN  \n",
       "16712    NaN  \n",
       "16713    NaN  \n",
       "16714    NaN  \n",
       "\n",
       "[16715 rows x 11 columns]"
      ]
     },
     "execution_count": 3,
     "metadata": {},
     "output_type": "execute_result"
    }
   ],
   "source": [
    "# просмотрим первые и последние строки таблицы\n",
    "data"
   ]
  },
  {
   "cell_type": "code",
   "execution_count": 4,
   "metadata": {},
   "outputs": [
    {
     "name": "stdout",
     "output_type": "stream",
     "text": [
      "<class 'pandas.core.frame.DataFrame'>\n",
      "RangeIndex: 16715 entries, 0 to 16714\n",
      "Data columns (total 11 columns):\n",
      " #   Column           Non-Null Count  Dtype  \n",
      "---  ------           --------------  -----  \n",
      " 0   Name             16713 non-null  object \n",
      " 1   Platform         16715 non-null  object \n",
      " 2   Year_of_Release  16446 non-null  float64\n",
      " 3   Genre            16713 non-null  object \n",
      " 4   NA_sales         16715 non-null  float64\n",
      " 5   EU_sales         16715 non-null  float64\n",
      " 6   JP_sales         16715 non-null  float64\n",
      " 7   Other_sales      16715 non-null  float64\n",
      " 8   Critic_Score     8137 non-null   float64\n",
      " 9   User_Score       10014 non-null  object \n",
      " 10  Rating           9949 non-null   object \n",
      "dtypes: float64(6), object(5)\n",
      "memory usage: 1.4+ MB\n"
     ]
    }
   ],
   "source": [
    "# знакомимся со структурой и типами данных\n",
    "data.info()"
   ]
  },
  {
   "cell_type": "markdown",
   "metadata": {},
   "source": [
    "<div class=\"alert alert-block alert-success\">\n",
    " \n",
    "### Комментарий ревьюера\n",
    "    \n",
    "#### Успех\n",
    "\n",
    "Информацию первичную мы получили."
   ]
  },
  {
   "cell_type": "code",
   "execution_count": 5,
   "metadata": {},
   "outputs": [
    {
     "data": {
      "image/png": "[encoded data removed]",
      "text/plain": [
       "<Figure size 1800x720 with 3 Axes>"
      ]
     },
     "metadata": {
      "needs_background": "light"
     },
     "output_type": "display_data"
    }
   ],
   "source": [
    "# оценим пропуски с помощью гистограммы\n",
    "msno.bar(data)\n",
    "plt.title('Пропуски в таблице', fontsize=46)\n",
    "plt.show()"
   ]
  },
  {
   "cell_type": "code",
   "execution_count": 6,
   "metadata": {},
   "outputs": [
    {
     "data": {
      "text/html": [
       "<div>\n",
       "<style scoped>\n",
       "    .dataframe tbody tr th:only-of-type {\n",
       "        vertical-align: middle;\n",
       "    }\n",
       "\n",
       "    .dataframe tbody tr th {\n",
       "        vertical-align: top;\n",
       "    }\n",
       "\n",
       "    .dataframe thead th {\n",
       "        text-align: right;\n",
       "    }\n",
       "</style>\n",
       "<table border=\"1\" class=\"dataframe\">\n",
       "  <thead>\n",
       "    <tr style=\"text-align: right;\">\n",
       "      <th></th>\n",
       "      <th>Year_of_Release</th>\n",
       "      <th>NA_sales</th>\n",
       "      <th>EU_sales</th>\n",
       "      <th>JP_sales</th>\n",
       "      <th>Other_sales</th>\n",
       "      <th>Critic_Score</th>\n",
       "    </tr>\n",
       "  </thead>\n",
       "  <tbody>\n",
       "    <tr>\n",
       "      <th>count</th>\n",
       "      <td>16446.000000</td>\n",
       "      <td>16715.000000</td>\n",
       "      <td>16715.000000</td>\n",
       "      <td>16715.000000</td>\n",
       "      <td>16715.000000</td>\n",
       "      <td>8137.000000</td>\n",
       "    </tr>\n",
       "    <tr>\n",
       "      <th>mean</th>\n",
       "      <td>2006.484616</td>\n",
       "      <td>0.263377</td>\n",
       "      <td>0.145060</td>\n",
       "      <td>0.077617</td>\n",
       "      <td>0.047342</td>\n",
       "      <td>68.967679</td>\n",
       "    </tr>\n",
       "    <tr>\n",
       "      <th>std</th>\n",
       "      <td>5.877050</td>\n",
       "      <td>0.813604</td>\n",
       "      <td>0.503339</td>\n",
       "      <td>0.308853</td>\n",
       "      <td>0.186731</td>\n",
       "      <td>13.938165</td>\n",
       "    </tr>\n",
       "    <tr>\n",
       "      <th>min</th>\n",
       "      <td>1980.000000</td>\n",
       "      <td>0.000000</td>\n",
       "      <td>0.000000</td>\n",
       "      <td>0.000000</td>\n",
       "      <td>0.000000</td>\n",
       "      <td>13.000000</td>\n",
       "    </tr>\n",
       "    <tr>\n",
       "      <th>25%</th>\n",
       "      <td>2003.000000</td>\n",
       "      <td>0.000000</td>\n",
       "      <td>0.000000</td>\n",
       "      <td>0.000000</td>\n",
       "      <td>0.000000</td>\n",
       "      <td>60.000000</td>\n",
       "    </tr>\n",
       "    <tr>\n",
       "      <th>50%</th>\n",
       "      <td>2007.000000</td>\n",
       "      <td>0.080000</td>\n",
       "      <td>0.020000</td>\n",
       "      <td>0.000000</td>\n",
       "      <td>0.010000</td>\n",
       "      <td>71.000000</td>\n",
       "    </tr>\n",
       "    <tr>\n",
       "      <th>75%</th>\n",
       "      <td>2010.000000</td>\n",
       "      <td>0.240000</td>\n",
       "      <td>0.110000</td>\n",
       "      <td>0.040000</td>\n",
       "      <td>0.030000</td>\n",
       "      <td>79.000000</td>\n",
       "    </tr>\n",
       "    <tr>\n",
       "      <th>max</th>\n",
       "      <td>2016.000000</td>\n",
       "      <td>41.360000</td>\n",
       "      <td>28.960000</td>\n",
       "      <td>10.220000</td>\n",
       "      <td>10.570000</td>\n",
       "      <td>98.000000</td>\n",
       "    </tr>\n",
       "  </tbody>\n",
       "</table>\n",
       "</div>"
      ],
      "text/plain": [
       "       Year_of_Release      NA_sales      EU_sales      JP_sales  \\\n",
       "count     16446.000000  16715.000000  16715.000000  16715.000000   \n",
       "mean       2006.484616      0.263377      0.145060      0.077617   \n",
       "std           5.877050      0.813604      0.503339      0.308853   \n",
       "min        1980.000000      0.000000      0.000000      0.000000   \n",
       "25%        2003.000000      0.000000      0.000000      0.000000   \n",
       "50%        2007.000000      0.080000      0.020000      0.000000   \n",
       "75%        2010.000000      0.240000      0.110000      0.040000   \n",
       "max        2016.000000     41.360000     28.960000     10.220000   \n",
       "\n",
       "        Other_sales  Critic_Score  \n",
       "count  16715.000000   8137.000000  \n",
       "mean       0.047342     68.967679  \n",
       "std        0.186731     13.938165  \n",
       "min        0.000000     13.000000  \n",
       "25%        0.000000     60.000000  \n",
       "50%        0.010000     71.000000  \n",
       "75%        0.030000     79.000000  \n",
       "max       10.570000     98.000000  "
      ]
     },
     "execution_count": 6,
     "metadata": {},
     "output_type": "execute_result"
    }
   ],
   "source": [
    "# знакомимся с данными\n",
    "data.describe()"
   ]
  },
  {
   "cell_type": "markdown",
   "metadata": {},
   "source": [
    "**Вывод:**\n",
    "\n",
    "- Наши данные находятся в таблице, состоящей из 16715 строк и 11 колонок  \n",
    "- В таблице мы наблюдаем следующие проблемы:\n",
    "    - верхний регистр в названии столбцов  \n",
    "    - большое количество пропусков особенно в последних трех колонках  \n",
    "    - неправильный тип данных для год выпуска и оценки пользователей\n",
    "\n"
   ]
  },
  {
   "cell_type": "markdown",
   "metadata": {},
   "source": [
    "<div class=\"alert alert-block alert-success\">\n",
    " \n",
    "### Комментарий ревьюера\n",
    "    \n",
    "#### Успех\n",
    "\n",
    "Ну что, могу сказать что проведено образцовое знакомство с данными. Мы ознакомиись с ними и можем переходить к предобработке. "
   ]
  },
  {
   "cell_type": "markdown",
   "metadata": {},
   "source": [
    "## Предобработка данных"
   ]
  },
  {
   "cell_type": "markdown",
   "metadata": {},
   "source": [
    "### Исправление названий"
   ]
  },
  {
   "cell_type": "code",
   "execution_count": 7,
   "metadata": {},
   "outputs": [
    {
     "data": {
      "text/html": [
       "<div>\n",
       "<style scoped>\n",
       "    .dataframe tbody tr th:only-of-type {\n",
       "        vertical-align: middle;\n",
       "    }\n",
       "\n",
       "    .dataframe tbody tr th {\n",
       "        vertical-align: top;\n",
       "    }\n",
       "\n",
       "    .dataframe thead th {\n",
       "        text-align: right;\n",
       "    }\n",
       "</style>\n",
       "<table border=\"1\" class=\"dataframe\">\n",
       "  <thead>\n",
       "    <tr style=\"text-align: right;\">\n",
       "      <th></th>\n",
       "      <th>name</th>\n",
       "      <th>platform</th>\n",
       "      <th>year_of_release</th>\n",
       "      <th>genre</th>\n",
       "      <th>na_sales</th>\n",
       "      <th>eu_sales</th>\n",
       "      <th>jp_sales</th>\n",
       "      <th>other_sales</th>\n",
       "      <th>critic_score</th>\n",
       "      <th>user_score</th>\n",
       "      <th>rating</th>\n",
       "    </tr>\n",
       "  </thead>\n",
       "  <tbody>\n",
       "    <tr>\n",
       "      <th>0</th>\n",
       "      <td>Wii Sports</td>\n",
       "      <td>Wii</td>\n",
       "      <td>2006.0</td>\n",
       "      <td>Sports</td>\n",
       "      <td>41.36</td>\n",
       "      <td>28.96</td>\n",
       "      <td>3.77</td>\n",
       "      <td>8.45</td>\n",
       "      <td>76.0</td>\n",
       "      <td>8</td>\n",
       "      <td>E</td>\n",
       "    </tr>\n",
       "    <tr>\n",
       "      <th>1</th>\n",
       "      <td>Super Mario Bros.</td>\n",
       "      <td>NES</td>\n",
       "      <td>1985.0</td>\n",
       "      <td>Platform</td>\n",
       "      <td>29.08</td>\n",
       "      <td>3.58</td>\n",
       "      <td>6.81</td>\n",
       "      <td>0.77</td>\n",
       "      <td>NaN</td>\n",
       "      <td>NaN</td>\n",
       "      <td>NaN</td>\n",
       "    </tr>\n",
       "    <tr>\n",
       "      <th>2</th>\n",
       "      <td>Mario Kart Wii</td>\n",
       "      <td>Wii</td>\n",
       "      <td>2008.0</td>\n",
       "      <td>Racing</td>\n",
       "      <td>15.68</td>\n",
       "      <td>12.76</td>\n",
       "      <td>3.79</td>\n",
       "      <td>3.29</td>\n",
       "      <td>82.0</td>\n",
       "      <td>8.3</td>\n",
       "      <td>E</td>\n",
       "    </tr>\n",
       "  </tbody>\n",
       "</table>\n",
       "</div>"
      ],
      "text/plain": [
       "                name platform  year_of_release     genre  na_sales  eu_sales  \\\n",
       "0         Wii Sports      Wii           2006.0    Sports     41.36     28.96   \n",
       "1  Super Mario Bros.      NES           1985.0  Platform     29.08      3.58   \n",
       "2     Mario Kart Wii      Wii           2008.0    Racing     15.68     12.76   \n",
       "\n",
       "   jp_sales  other_sales  critic_score user_score rating  \n",
       "0      3.77         8.45          76.0          8      E  \n",
       "1      6.81         0.77           NaN        NaN    NaN  \n",
       "2      3.79         3.29          82.0        8.3      E  "
      ]
     },
     "execution_count": 7,
     "metadata": {},
     "output_type": "execute_result"
    }
   ],
   "source": [
    "# все названия колонок приводим к нижнему регистпу\n",
    "data.columns = data.columns.str.lower()\n",
    "data.head(3)"
   ]
  },
  {
   "cell_type": "markdown",
   "metadata": {},
   "source": [
    "### Обработка пропусков"
   ]
  },
  {
   "cell_type": "code",
   "execution_count": 8,
   "metadata": {},
   "outputs": [
    {
     "data": {
      "text/plain": [
       "name                  2\n",
       "year_of_release     269\n",
       "genre                 2\n",
       "critic_score       8578\n",
       "user_score         6701\n",
       "rating             6766\n",
       "dtype: int64"
      ]
     },
     "execution_count": 8,
     "metadata": {},
     "output_type": "execute_result"
    }
   ],
   "source": [
    "# количество пропусков по каждому столбцу\n",
    "data.isna().sum()[data.isnull().sum() > 0]"
   ]
  },
  {
   "cell_type": "markdown",
   "metadata": {},
   "source": [
    "<div class=\"alert alert-block alert-success\">\n",
    " \n",
    "### Комментарий ревьюера\n",
    "    \n",
    "#### Успех\n",
    "\n",
    "Значения с малым количеством пропусков можно без проблем удалить. Даже если удавления останется более 90% данных и это не навредит анализу. А вот с оценками надо острожно. Тут точно важная точечная замена"
   ]
  },
  {
   "cell_type": "markdown",
   "metadata": {},
   "source": [
    "Очевидно, что у каждой игры должно быть имя и жанр, но в силу некоторой технической ошибки мы имеем по два пропуска в этих стобцах. Строки с пропусками столбцов `name` и `genre` можно просто удалить.\n",
    "\n",
    "В остальных столбцах нет возможности эту информацию восстановить, замена на медиану/среднее будет неравноценной заменой, удаление приведет к потере большого количества данных, поэтому лучшим решением будет пометить эти данные. В числовых столбцах `year_of_release`, `critic_score`, `user_score` это будет заполнение числом **-1**, в строковом `rating` - заполнение маркером `Not Yet Rated`. Информация об оценках и рейтинге ESRB может отсутствовать для некоторых игр, т.к. является необязательной составляющей. Также ввиду столь большого количества пропусков не стоит исключать наличие технических ошибок на разных этапах обработки информации."
   ]
  },
  {
   "cell_type": "code",
   "execution_count": 9,
   "metadata": {},
   "outputs": [],
   "source": [
    "# удалим строки в этих столбцах\n",
    "data = data.dropna(subset=['name', 'genre'])"
   ]
  },
  {
   "cell_type": "code",
   "execution_count": 10,
   "metadata": {},
   "outputs": [],
   "source": [
    "# здесь заполним -1\n",
    "features_to_fill = ['year_of_release', 'critic_score', 'user_score']\n",
    "data.loc[:, features_to_fill] = data.loc[:, features_to_fill].fillna(-1)"
   ]
  },
  {
   "cell_type": "markdown",
   "metadata": {},
   "source": [
    "<div class=\"alert alert-block alert-success\">\n",
    " \n",
    "### Комментарий ревьюера\n",
    "    \n",
    "#### Успех\n",
    "\n",
    "Значение-заглушка это отличное решение "
   ]
  },
  {
   "cell_type": "code",
   "execution_count": 11,
   "metadata": {},
   "outputs": [],
   "source": [
    "# заполним маркером \"unknown\"\n",
    "data['rating'] = data['rating'].fillna('Not Yet Rated')"
   ]
  },
  {
   "cell_type": "code",
   "execution_count": 12,
   "metadata": {},
   "outputs": [
    {
     "data": {
      "text/plain": [
       "Series([], dtype: int64)"
      ]
     },
     "execution_count": 12,
     "metadata": {},
     "output_type": "execute_result"
    }
   ],
   "source": [
    "# проверим изменения\n",
    "data.isna().sum()[data.isna().sum() > 0]"
   ]
  },
  {
   "cell_type": "code",
   "execution_count": 13,
   "metadata": {},
   "outputs": [
    {
     "data": {
      "text/html": [
       "<div>\n",
       "<style scoped>\n",
       "    .dataframe tbody tr th:only-of-type {\n",
       "        vertical-align: middle;\n",
       "    }\n",
       "\n",
       "    .dataframe tbody tr th {\n",
       "        vertical-align: top;\n",
       "    }\n",
       "\n",
       "    .dataframe thead th {\n",
       "        text-align: right;\n",
       "    }\n",
       "</style>\n",
       "<table border=\"1\" class=\"dataframe\">\n",
       "  <thead>\n",
       "    <tr style=\"text-align: right;\">\n",
       "      <th></th>\n",
       "      <th>name</th>\n",
       "      <th>platform</th>\n",
       "      <th>year_of_release</th>\n",
       "      <th>genre</th>\n",
       "      <th>na_sales</th>\n",
       "      <th>eu_sales</th>\n",
       "      <th>jp_sales</th>\n",
       "      <th>other_sales</th>\n",
       "      <th>critic_score</th>\n",
       "      <th>user_score</th>\n",
       "      <th>rating</th>\n",
       "    </tr>\n",
       "  </thead>\n",
       "  <tbody>\n",
       "    <tr>\n",
       "      <th>0</th>\n",
       "      <td>Wii Sports</td>\n",
       "      <td>Wii</td>\n",
       "      <td>2006.0</td>\n",
       "      <td>Sports</td>\n",
       "      <td>41.36</td>\n",
       "      <td>28.96</td>\n",
       "      <td>3.77</td>\n",
       "      <td>8.45</td>\n",
       "      <td>76.0</td>\n",
       "      <td>8</td>\n",
       "      <td>E</td>\n",
       "    </tr>\n",
       "    <tr>\n",
       "      <th>1</th>\n",
       "      <td>Super Mario Bros.</td>\n",
       "      <td>NES</td>\n",
       "      <td>1985.0</td>\n",
       "      <td>Platform</td>\n",
       "      <td>29.08</td>\n",
       "      <td>3.58</td>\n",
       "      <td>6.81</td>\n",
       "      <td>0.77</td>\n",
       "      <td>-1.0</td>\n",
       "      <td>-1</td>\n",
       "      <td>Not Yet Rated</td>\n",
       "    </tr>\n",
       "    <tr>\n",
       "      <th>2</th>\n",
       "      <td>Mario Kart Wii</td>\n",
       "      <td>Wii</td>\n",
       "      <td>2008.0</td>\n",
       "      <td>Racing</td>\n",
       "      <td>15.68</td>\n",
       "      <td>12.76</td>\n",
       "      <td>3.79</td>\n",
       "      <td>3.29</td>\n",
       "      <td>82.0</td>\n",
       "      <td>8.3</td>\n",
       "      <td>E</td>\n",
       "    </tr>\n",
       "    <tr>\n",
       "      <th>3</th>\n",
       "      <td>Wii Sports Resort</td>\n",
       "      <td>Wii</td>\n",
       "      <td>2009.0</td>\n",
       "      <td>Sports</td>\n",
       "      <td>15.61</td>\n",
       "      <td>10.93</td>\n",
       "      <td>3.28</td>\n",
       "      <td>2.95</td>\n",
       "      <td>80.0</td>\n",
       "      <td>8</td>\n",
       "      <td>E</td>\n",
       "    </tr>\n",
       "    <tr>\n",
       "      <th>4</th>\n",
       "      <td>Pokemon Red/Pokemon Blue</td>\n",
       "      <td>GB</td>\n",
       "      <td>1996.0</td>\n",
       "      <td>Role-Playing</td>\n",
       "      <td>11.27</td>\n",
       "      <td>8.89</td>\n",
       "      <td>10.22</td>\n",
       "      <td>1.00</td>\n",
       "      <td>-1.0</td>\n",
       "      <td>-1</td>\n",
       "      <td>Not Yet Rated</td>\n",
       "    </tr>\n",
       "    <tr>\n",
       "      <th>...</th>\n",
       "      <td>...</td>\n",
       "      <td>...</td>\n",
       "      <td>...</td>\n",
       "      <td>...</td>\n",
       "      <td>...</td>\n",
       "      <td>...</td>\n",
       "      <td>...</td>\n",
       "      <td>...</td>\n",
       "      <td>...</td>\n",
       "      <td>...</td>\n",
       "      <td>...</td>\n",
       "    </tr>\n",
       "    <tr>\n",
       "      <th>16710</th>\n",
       "      <td>Samurai Warriors: Sanada Maru</td>\n",
       "      <td>PS3</td>\n",
       "      <td>2016.0</td>\n",
       "      <td>Action</td>\n",
       "      <td>0.00</td>\n",
       "      <td>0.00</td>\n",
       "      <td>0.01</td>\n",
       "      <td>0.00</td>\n",
       "      <td>-1.0</td>\n",
       "      <td>-1</td>\n",
       "      <td>Not Yet Rated</td>\n",
       "    </tr>\n",
       "    <tr>\n",
       "      <th>16711</th>\n",
       "      <td>LMA Manager 2007</td>\n",
       "      <td>X360</td>\n",
       "      <td>2006.0</td>\n",
       "      <td>Sports</td>\n",
       "      <td>0.00</td>\n",
       "      <td>0.01</td>\n",
       "      <td>0.00</td>\n",
       "      <td>0.00</td>\n",
       "      <td>-1.0</td>\n",
       "      <td>-1</td>\n",
       "      <td>Not Yet Rated</td>\n",
       "    </tr>\n",
       "    <tr>\n",
       "      <th>16712</th>\n",
       "      <td>Haitaka no Psychedelica</td>\n",
       "      <td>PSV</td>\n",
       "      <td>2016.0</td>\n",
       "      <td>Adventure</td>\n",
       "      <td>0.00</td>\n",
       "      <td>0.00</td>\n",
       "      <td>0.01</td>\n",
       "      <td>0.00</td>\n",
       "      <td>-1.0</td>\n",
       "      <td>-1</td>\n",
       "      <td>Not Yet Rated</td>\n",
       "    </tr>\n",
       "    <tr>\n",
       "      <th>16713</th>\n",
       "      <td>Spirits &amp; Spells</td>\n",
       "      <td>GBA</td>\n",
       "      <td>2003.0</td>\n",
       "      <td>Platform</td>\n",
       "      <td>0.01</td>\n",
       "      <td>0.00</td>\n",
       "      <td>0.00</td>\n",
       "      <td>0.00</td>\n",
       "      <td>-1.0</td>\n",
       "      <td>-1</td>\n",
       "      <td>Not Yet Rated</td>\n",
       "    </tr>\n",
       "    <tr>\n",
       "      <th>16714</th>\n",
       "      <td>Winning Post 8 2016</td>\n",
       "      <td>PSV</td>\n",
       "      <td>2016.0</td>\n",
       "      <td>Simulation</td>\n",
       "      <td>0.00</td>\n",
       "      <td>0.00</td>\n",
       "      <td>0.01</td>\n",
       "      <td>0.00</td>\n",
       "      <td>-1.0</td>\n",
       "      <td>-1</td>\n",
       "      <td>Not Yet Rated</td>\n",
       "    </tr>\n",
       "  </tbody>\n",
       "</table>\n",
       "<p>16713 rows × 11 columns</p>\n",
       "</div>"
      ],
      "text/plain": [
       "                                name platform  year_of_release         genre  \\\n",
       "0                         Wii Sports      Wii           2006.0        Sports   \n",
       "1                  Super Mario Bros.      NES           1985.0      Platform   \n",
       "2                     Mario Kart Wii      Wii           2008.0        Racing   \n",
       "3                  Wii Sports Resort      Wii           2009.0        Sports   \n",
       "4           Pokemon Red/Pokemon Blue       GB           1996.0  Role-Playing   \n",
       "...                              ...      ...              ...           ...   \n",
       "16710  Samurai Warriors: Sanada Maru      PS3           2016.0        Action   \n",
       "16711               LMA Manager 2007     X360           2006.0        Sports   \n",
       "16712        Haitaka no Psychedelica      PSV           2016.0     Adventure   \n",
       "16713               Spirits & Spells      GBA           2003.0      Platform   \n",
       "16714            Winning Post 8 2016      PSV           2016.0    Simulation   \n",
       "\n",
       "       na_sales  eu_sales  jp_sales  other_sales  critic_score user_score  \\\n",
       "0         41.36     28.96      3.77         8.45          76.0          8   \n",
       "1         29.08      3.58      6.81         0.77          -1.0         -1   \n",
       "2         15.68     12.76      3.79         3.29          82.0        8.3   \n",
       "3         15.61     10.93      3.28         2.95          80.0          8   \n",
       "4         11.27      8.89     10.22         1.00          -1.0         -1   \n",
       "...         ...       ...       ...          ...           ...        ...   \n",
       "16710      0.00      0.00      0.01         0.00          -1.0         -1   \n",
       "16711      0.00      0.01      0.00         0.00          -1.0         -1   \n",
       "16712      0.00      0.00      0.01         0.00          -1.0         -1   \n",
       "16713      0.01      0.00      0.00         0.00          -1.0         -1   \n",
       "16714      0.00      0.00      0.01         0.00          -1.0         -1   \n",
       "\n",
       "              rating  \n",
       "0                  E  \n",
       "1      Not Yet Rated  \n",
       "2                  E  \n",
       "3                  E  \n",
       "4      Not Yet Rated  \n",
       "...              ...  \n",
       "16710  Not Yet Rated  \n",
       "16711  Not Yet Rated  \n",
       "16712  Not Yet Rated  \n",
       "16713  Not Yet Rated  \n",
       "16714  Not Yet Rated  \n",
       "\n",
       "[16713 rows x 11 columns]"
      ]
     },
     "execution_count": 13,
     "metadata": {},
     "output_type": "execute_result"
    }
   ],
   "source": [
    "data"
   ]
  },
  {
   "cell_type": "markdown",
   "metadata": {},
   "source": [
    "Все пропуски устранили. В таблице наблюдаем наши маркеры."
   ]
  },
  {
   "cell_type": "markdown",
   "metadata": {},
   "source": [
    "### Преобразование типов данных"
   ]
  },
  {
   "cell_type": "markdown",
   "metadata": {},
   "source": [
    "План действий:  \n",
    "+ Заменим float на int в столбце с годом выпуска, т.к. это целочисленный показатель\n",
    "+ Оценку пользователей приведем к численному типу float, с текстом затруднительно будет считать статистику"
   ]
  },
  {
   "cell_type": "code",
   "execution_count": 14,
   "metadata": {},
   "outputs": [],
   "source": [
    "# приводим к int32\n",
    "data['year_of_release'] = data['year_of_release'].astype('int32', errors='raise')"
   ]
  },
  {
   "cell_type": "markdown",
   "metadata": {},
   "source": [
    "<div class=\"alert alert-block alert-success\">\n",
    " \n",
    "### Комментарий ревьюера\n",
    "    \n",
    "#### Успех\n",
    "\n",
    "О экономии вычислительной памяти ты не забыл. Супер "
   ]
  },
  {
   "cell_type": "code",
   "execution_count": 15,
   "metadata": {},
   "outputs": [
    {
     "data": {
      "text/plain": [
       "array(['8', -1, '8.3', '8.5', '6.6', '8.4', '8.6', '7.7', '6.3', '7.4',\n",
       "       '8.2', '9', '7.9', '8.1', '8.7', '7.1', '3.4', '5.3', '4.8', '3.2',\n",
       "       '8.9', '6.4', '7.8', '7.5', '2.6', '7.2', '9.2', '7', '7.3', '4.3',\n",
       "       '7.6', '5.7', '5', '9.1', '6.5', 'tbd', '8.8', '6.9', '9.4', '6.8',\n",
       "       '6.1', '6.7', '5.4', '4', '4.9', '4.5', '9.3', '6.2', '4.2', '6',\n",
       "       '3.7', '4.1', '5.8', '5.6', '5.5', '4.4', '4.6', '5.9', '3.9',\n",
       "       '3.1', '2.9', '5.2', '3.3', '4.7', '5.1', '3.5', '2.5', '1.9', '3',\n",
       "       '2.7', '2.2', '2', '9.5', '2.1', '3.6', '2.8', '1.8', '3.8', '0',\n",
       "       '1.6', '9.6', '2.4', '1.7', '1.1', '0.3', '1.5', '0.7', '1.2',\n",
       "       '2.3', '0.5', '1.3', '0.2', '0.6', '1.4', '0.9', '1', '9.7'],\n",
       "      dtype=object)"
      ]
     },
     "execution_count": 15,
     "metadata": {},
     "output_type": "execute_result"
    }
   ],
   "source": [
    "# перед заменой проверим, какие оценки есть\n",
    "data['user_score'].unique()"
   ]
  },
  {
   "cell_type": "markdown",
   "metadata": {},
   "source": [
    "Видим строковое значение `tbd`, которое означает, что оценка еще не получена. Заменим ее на **-1**, который в нашем контексте будет означать то же самое, является числом и будет упрощать сортировку в дальнейшем."
   ]
  },
  {
   "cell_type": "code",
   "execution_count": 16,
   "metadata": {},
   "outputs": [],
   "source": [
    "# заменим строковое обозначение числом\n",
    "data.loc[data['user_score'] == 'tbd', 'user_score'] = -1\n",
    "# приведем содержимое к float\n",
    "data['user_score'] = data['user_score'].astype('float', errors='raise')"
   ]
  },
  {
   "cell_type": "code",
   "execution_count": 17,
   "metadata": {},
   "outputs": [
    {
     "name": "stdout",
     "output_type": "stream",
     "text": [
      "<class 'pandas.core.frame.DataFrame'>\n",
      "Int64Index: 16713 entries, 0 to 16714\n",
      "Data columns (total 11 columns):\n",
      " #   Column           Non-Null Count  Dtype  \n",
      "---  ------           --------------  -----  \n",
      " 0   name             16713 non-null  object \n",
      " 1   platform         16713 non-null  object \n",
      " 2   year_of_release  16713 non-null  int32  \n",
      " 3   genre            16713 non-null  object \n",
      " 4   na_sales         16713 non-null  float64\n",
      " 5   eu_sales         16713 non-null  float64\n",
      " 6   jp_sales         16713 non-null  float64\n",
      " 7   other_sales      16713 non-null  float64\n",
      " 8   critic_score     16713 non-null  float64\n",
      " 9   user_score       16713 non-null  float64\n",
      " 10  rating           16713 non-null  object \n",
      "dtypes: float64(6), int32(1), object(4)\n",
      "memory usage: 1.5+ MB\n"
     ]
    }
   ],
   "source": [
    "# проверяем результат\n",
    "data.info()"
   ]
  },
  {
   "cell_type": "markdown",
   "metadata": {},
   "source": [
    "Теперь все красиво: пропусков нет, тип данных такой, какой нам нужен."
   ]
  },
  {
   "cell_type": "markdown",
   "metadata": {},
   "source": [
    "<div class=\"alert alert-block alert-warning\">\n",
    " \n",
    "### Комментарий ревьюера\n",
    "    \n",
    "#### Совет\n",
    "\n",
    "А есть еще такой полезный материал `https://newtechaudit.ru/gruzi-daty-krasivo/`"
   ]
  },
  {
   "cell_type": "markdown",
   "metadata": {},
   "source": [
    "<div class=\"alert alert-block alert-info\">\n",
    "\n",
    "### Комментарий студента\n",
    "\n",
    "Спасибо, очень полезно, не раз сталкивался с датой в строковом типе."
   ]
  },
  {
   "cell_type": "markdown",
   "metadata": {},
   "source": [
    "<div class=\"alert alert-block alert-success\">\n",
    " \n",
    "# Комментарий ревьюера ver.2\n",
    "    \n",
    "#### Успех\n",
    "\n",
    "Используй и на будущее"
   ]
  },
  {
   "cell_type": "markdown",
   "metadata": {},
   "source": [
    "### Работа с дубликатами"
   ]
  },
  {
   "cell_type": "code",
   "execution_count": 18,
   "metadata": {},
   "outputs": [
    {
     "data": {
      "text/plain": [
       "0"
      ]
     },
     "execution_count": 18,
     "metadata": {},
     "output_type": "execute_result"
    }
   ],
   "source": [
    "# проверим таблицу на явные дубли\n",
    "data.duplicated().sum()"
   ]
  },
  {
   "cell_type": "markdown",
   "metadata": {},
   "source": [
    "Явных дублей не обнаружено. Неявные могут присутствовать в столбцах с строковой информацией. Проверим такие столбцы на однородность имен."
   ]
  },
  {
   "cell_type": "code",
   "execution_count": 19,
   "metadata": {},
   "outputs": [
    {
     "data": {
      "text/plain": [
       "array(['Wii', 'NES', 'GB', 'DS', 'X360', 'PS3', 'PS2', 'SNES', 'GBA',\n",
       "       'PS4', '3DS', 'N64', 'PS', 'XB', 'PC', '2600', 'PSP', 'XOne',\n",
       "       'WiiU', 'GC', 'GEN', 'DC', 'PSV', 'SAT', 'SCD', 'WS', 'NG', 'TG16',\n",
       "       '3DO', 'GG', 'PCFX'], dtype=object)"
      ]
     },
     "execution_count": 19,
     "metadata": {},
     "output_type": "execute_result"
    }
   ],
   "source": [
    "data['platform'].unique()"
   ]
  },
  {
   "cell_type": "code",
   "execution_count": 20,
   "metadata": {},
   "outputs": [
    {
     "data": {
      "text/plain": [
       "array(['Sports', 'Platform', 'Racing', 'Role-Playing', 'Puzzle', 'Misc',\n",
       "       'Shooter', 'Simulation', 'Action', 'Fighting', 'Adventure',\n",
       "       'Strategy'], dtype=object)"
      ]
     },
     "execution_count": 20,
     "metadata": {},
     "output_type": "execute_result"
    }
   ],
   "source": [
    "data['genre'].unique()"
   ]
  },
  {
   "cell_type": "code",
   "execution_count": 21,
   "metadata": {},
   "outputs": [
    {
     "data": {
      "text/plain": [
       "array(['E', 'Not Yet Rated', 'M', 'T', 'E10+', 'K-A', 'AO', 'EC', 'RP'],\n",
       "      dtype=object)"
      ]
     },
     "execution_count": 21,
     "metadata": {},
     "output_type": "execute_result"
    }
   ],
   "source": [
    "data['rating'].unique()"
   ]
  },
  {
   "cell_type": "markdown",
   "metadata": {},
   "source": [
    "Все названия записаны в единой форме без дублирования."
   ]
  },
  {
   "cell_type": "markdown",
   "metadata": {},
   "source": [
    "<div class=\"alert alert-block alert-success\">\n",
    " \n",
    "### Комментарий ревьюера\n",
    "    \n",
    "#### Успех\n",
    "\n",
    "Все так и есть. Супер "
   ]
  },
  {
   "cell_type": "markdown",
   "metadata": {},
   "source": [
    "### Добавление новой информации"
   ]
  },
  {
   "cell_type": "markdown",
   "metadata": {},
   "source": [
    "Добавим в таблицу столбец, который будет являться суммой продаж всех регионов."
   ]
  },
  {
   "cell_type": "code",
   "execution_count": 22,
   "metadata": {},
   "outputs": [
    {
     "data": {
      "text/html": [
       "<div>\n",
       "<style scoped>\n",
       "    .dataframe tbody tr th:only-of-type {\n",
       "        vertical-align: middle;\n",
       "    }\n",
       "\n",
       "    .dataframe tbody tr th {\n",
       "        vertical-align: top;\n",
       "    }\n",
       "\n",
       "    .dataframe thead th {\n",
       "        text-align: right;\n",
       "    }\n",
       "</style>\n",
       "<table border=\"1\" class=\"dataframe\">\n",
       "  <thead>\n",
       "    <tr style=\"text-align: right;\">\n",
       "      <th></th>\n",
       "      <th>name</th>\n",
       "      <th>platform</th>\n",
       "      <th>year_of_release</th>\n",
       "      <th>genre</th>\n",
       "      <th>na_sales</th>\n",
       "      <th>eu_sales</th>\n",
       "      <th>jp_sales</th>\n",
       "      <th>other_sales</th>\n",
       "      <th>critic_score</th>\n",
       "      <th>user_score</th>\n",
       "      <th>rating</th>\n",
       "      <th>total_sales</th>\n",
       "    </tr>\n",
       "  </thead>\n",
       "  <tbody>\n",
       "    <tr>\n",
       "      <th>0</th>\n",
       "      <td>Wii Sports</td>\n",
       "      <td>Wii</td>\n",
       "      <td>2006</td>\n",
       "      <td>Sports</td>\n",
       "      <td>41.36</td>\n",
       "      <td>28.96</td>\n",
       "      <td>3.77</td>\n",
       "      <td>8.45</td>\n",
       "      <td>76.0</td>\n",
       "      <td>8.0</td>\n",
       "      <td>E</td>\n",
       "      <td>82.54</td>\n",
       "    </tr>\n",
       "    <tr>\n",
       "      <th>1</th>\n",
       "      <td>Super Mario Bros.</td>\n",
       "      <td>NES</td>\n",
       "      <td>1985</td>\n",
       "      <td>Platform</td>\n",
       "      <td>29.08</td>\n",
       "      <td>3.58</td>\n",
       "      <td>6.81</td>\n",
       "      <td>0.77</td>\n",
       "      <td>-1.0</td>\n",
       "      <td>-1.0</td>\n",
       "      <td>Not Yet Rated</td>\n",
       "      <td>40.24</td>\n",
       "    </tr>\n",
       "    <tr>\n",
       "      <th>2</th>\n",
       "      <td>Mario Kart Wii</td>\n",
       "      <td>Wii</td>\n",
       "      <td>2008</td>\n",
       "      <td>Racing</td>\n",
       "      <td>15.68</td>\n",
       "      <td>12.76</td>\n",
       "      <td>3.79</td>\n",
       "      <td>3.29</td>\n",
       "      <td>82.0</td>\n",
       "      <td>8.3</td>\n",
       "      <td>E</td>\n",
       "      <td>35.52</td>\n",
       "    </tr>\n",
       "  </tbody>\n",
       "</table>\n",
       "</div>"
      ],
      "text/plain": [
       "                name platform  year_of_release     genre  na_sales  eu_sales  \\\n",
       "0         Wii Sports      Wii             2006    Sports     41.36     28.96   \n",
       "1  Super Mario Bros.      NES             1985  Platform     29.08      3.58   \n",
       "2     Mario Kart Wii      Wii             2008    Racing     15.68     12.76   \n",
       "\n",
       "   jp_sales  other_sales  critic_score  user_score         rating  total_sales  \n",
       "0      3.77         8.45          76.0         8.0              E        82.54  \n",
       "1      6.81         0.77          -1.0        -1.0  Not Yet Rated        40.24  \n",
       "2      3.79         3.29          82.0         8.3              E        35.52  "
      ]
     },
     "execution_count": 22,
     "metadata": {},
     "output_type": "execute_result"
    }
   ],
   "source": [
    "data['total_sales'] = data[['na_sales', 'eu_sales', 'jp_sales', 'other_sales']].sum(axis=1) \n",
    "data.head(3)"
   ]
  },
  {
   "cell_type": "markdown",
   "metadata": {},
   "source": [
    "<div class=\"alert alert-block alert-warning\">\n",
    " \n",
    "### Комментарий ревьюера\n",
    "    \n",
    "#### Совет\n",
    "\n",
    "Для суммирования `df['x'] = df[['a', 'b', 'c']].sum(axis=1)`"
   ]
  },
  {
   "cell_type": "markdown",
   "metadata": {},
   "source": [
    "<div class=\"alert alert-block alert-info\">\n",
    "    \n",
    "### Комментарий студента \n",
    "\n",
    "Спасибо, поправил!"
   ]
  },
  {
   "cell_type": "markdown",
   "metadata": {},
   "source": [
    "**Вывод:**\n",
    "\n",
    "По итогам предобработки данных выявленые ранее проблемы были устранены, а именно:\n",
    "+ названия столбцов приведены к нижнему регистру\n",
    "+ обработаны пропуски:\n",
    "    + удалены строки в стоблцах `name` и `genre`\n",
    "    + заполнены числом **-1** в столбцах `year_of_release`, `critic_score`, `user_score`\n",
    "    + заполнено строкой `Not Yet Rated` в столбце `rating`\n",
    "+ столбец `year_of_release` был приведен к целочисленному типу, а столбец `user_score` к численному типу, перед этим пришлось заменить оценку `tbd`, что означает ее отсутствие, на число **-1**.\n",
    "\n",
    "Для дальнейшего анализа данных нам понадобится информация о продажах по всем регионам. Ее мы вычислили и поместили в новый столбец `total_sales`."
   ]
  },
  {
   "cell_type": "markdown",
   "metadata": {},
   "source": [
    "<div class=\"alert alert-block alert-success\">\n",
    " \n",
    "### Комментарий ревьюера\n",
    "    \n",
    "#### Успех\n",
    "\n",
    "Предобработку проведели. И теперь наши данные готовы к дальнейшему анализу "
   ]
  },
  {
   "cell_type": "markdown",
   "metadata": {},
   "source": [
    "## Исследовательский анализ данных"
   ]
  },
  {
   "cell_type": "markdown",
   "metadata": {},
   "source": [
    "### Число выпущенных игр по годам"
   ]
  },
  {
   "cell_type": "code",
   "execution_count": 23,
   "metadata": {},
   "outputs": [
    {
     "data": {
      "image/png": "[encoded data removed]",
      "text/plain": [
       "<Figure size 720x1080 with 1 Axes>"
      ]
     },
     "metadata": {
      "needs_background": "light"
     },
     "output_type": "display_data"
    }
   ],
   "source": [
    "# строим диаграмму вышедших игр в каждый год\n",
    "(data\n",
    "    .query('year_of_release > -1')['year_of_release'] # фильруем данные без года\n",
    "    .value_counts()\n",
    "    .sort_values()\n",
    "    .plot(kind='barh', figsize=(10, 15))\n",
    ")\n",
    "plt.title('Количество вышедших игр по годам')\n",
    "plt.ylabel('Год выпуска')\n",
    "plt.xlabel('Количество игр, шт. уникальных игр')\n",
    "plt.grid(True)\n",
    "plt.show()"
   ]
  },
  {
   "cell_type": "code",
   "execution_count": 24,
   "metadata": {},
   "outputs": [
    {
     "data": {
      "text/plain": [
       "count      38.000000\n",
       "mean      439.815789\n",
       "std       446.367916\n",
       "min         9.000000\n",
       "25%        37.250000\n",
       "50%       313.500000\n",
       "75%       734.750000\n",
       "max      1427.000000\n",
       "Name: year_of_release, dtype: float64"
      ]
     },
     "execution_count": 24,
     "metadata": {},
     "output_type": "execute_result"
    }
   ],
   "source": [
    "data['year_of_release'].value_counts().describe()"
   ]
  },
  {
   "cell_type": "markdown",
   "metadata": {},
   "source": [
    "<div class=\"alert alert-block alert-warning\">\n",
    " \n",
    "### Комментарий ревьюера\n",
    "    \n",
    "#### Совет\n",
    "\n",
    "Вот тут очень не хватает графика для восприятия результата."
   ]
  },
  {
   "cell_type": "markdown",
   "metadata": {},
   "source": [
    "<div class=\"alert alert-block alert-info\">\n",
    " \n",
    "### Комментарий студента\n",
    "\n",
    "Добавил."
   ]
  },
  {
   "cell_type": "markdown",
   "metadata": {},
   "source": [
    "По годам мы наблюдаем следующую тенденцию:\n",
    "+ в 80-е годы игр выпускалось десятки в год. По статистике эти годы находятся в первом квартиле по количеству почти не превышая 21 игры в год. За исключением 1981(46) и 1982(36), что наводит на мысли, что потерянные годы в таблице, это годы с 1980 по 1990.\n",
    "+ количество игр после 1990 года выглядят правдопобно, без резких скачков, как в предыдущем десятилетии.\n",
    "\n",
    "На основании вышесказанного лучше учитывать только игры, выпущенные после 1990 года, чтобы избежать влияния потери привязки к году в более ранний период."
   ]
  },
  {
   "cell_type": "markdown",
   "metadata": {},
   "source": [
    "### Число продаж по игровым платформам"
   ]
  },
  {
   "cell_type": "code",
   "execution_count": 25,
   "metadata": {},
   "outputs": [
    {
     "data": {
      "image/png": "[encoded data removed]",
      "text/plain": [
       "<Figure size 720x1080 with 1 Axes>"
      ]
     },
     "metadata": {
      "needs_background": "light"
     },
     "output_type": "display_data"
    }
   ],
   "source": [
    "(data['platform']\n",
    "     .value_counts()\n",
    "     .sort_values()\n",
    "     .plot(kind='barh', figsize=(10, 15))\n",
    ")\n",
    "\n",
    "plt.title('Количество вышедших игр по платформам')\n",
    "plt.ylabel('Платформа')\n",
    "plt.xlabel('Количество игр, шт. уникальных игр')\n",
    "plt.grid(True)\n",
    "plt.show()"
   ]
  },
  {
   "cell_type": "markdown",
   "metadata": {},
   "source": [
    "По количеству вышедших игр можно выделить топ-7 платформ, имеющих свыше тысячи игр: от `PS2` до `PS`."
   ]
  },
  {
   "cell_type": "code",
   "execution_count": 26,
   "metadata": {},
   "outputs": [
    {
     "data": {
      "text/html": [
       "<div>\n",
       "<style scoped>\n",
       "    .dataframe tbody tr th:only-of-type {\n",
       "        vertical-align: middle;\n",
       "    }\n",
       "\n",
       "    .dataframe tbody tr th {\n",
       "        vertical-align: top;\n",
       "    }\n",
       "\n",
       "    .dataframe thead th {\n",
       "        text-align: right;\n",
       "    }\n",
       "</style>\n",
       "<table border=\"1\" class=\"dataframe\">\n",
       "  <thead>\n",
       "    <tr style=\"text-align: right;\">\n",
       "      <th></th>\n",
       "      <th>total_sales</th>\n",
       "    </tr>\n",
       "    <tr>\n",
       "      <th>platform</th>\n",
       "      <th></th>\n",
       "    </tr>\n",
       "  </thead>\n",
       "  <tbody>\n",
       "    <tr>\n",
       "      <th>PS2</th>\n",
       "      <td>1255.77</td>\n",
       "    </tr>\n",
       "    <tr>\n",
       "      <th>X360</th>\n",
       "      <td>971.42</td>\n",
       "    </tr>\n",
       "    <tr>\n",
       "      <th>PS3</th>\n",
       "      <td>939.65</td>\n",
       "    </tr>\n",
       "    <tr>\n",
       "      <th>Wii</th>\n",
       "      <td>907.51</td>\n",
       "    </tr>\n",
       "    <tr>\n",
       "      <th>DS</th>\n",
       "      <td>806.12</td>\n",
       "    </tr>\n",
       "    <tr>\n",
       "      <th>PS</th>\n",
       "      <td>730.86</td>\n",
       "    </tr>\n",
       "    <tr>\n",
       "      <th>GBA</th>\n",
       "      <td>317.85</td>\n",
       "    </tr>\n",
       "    <tr>\n",
       "      <th>PS4</th>\n",
       "      <td>314.14</td>\n",
       "    </tr>\n",
       "    <tr>\n",
       "      <th>PSP</th>\n",
       "      <td>294.05</td>\n",
       "    </tr>\n",
       "    <tr>\n",
       "      <th>PC</th>\n",
       "      <td>259.52</td>\n",
       "    </tr>\n",
       "    <tr>\n",
       "      <th>3DS</th>\n",
       "      <td>259.00</td>\n",
       "    </tr>\n",
       "    <tr>\n",
       "      <th>XB</th>\n",
       "      <td>257.74</td>\n",
       "    </tr>\n",
       "    <tr>\n",
       "      <th>GB</th>\n",
       "      <td>255.46</td>\n",
       "    </tr>\n",
       "    <tr>\n",
       "      <th>NES</th>\n",
       "      <td>251.05</td>\n",
       "    </tr>\n",
       "    <tr>\n",
       "      <th>N64</th>\n",
       "      <td>218.68</td>\n",
       "    </tr>\n",
       "    <tr>\n",
       "      <th>SNES</th>\n",
       "      <td>200.04</td>\n",
       "    </tr>\n",
       "    <tr>\n",
       "      <th>GC</th>\n",
       "      <td>198.93</td>\n",
       "    </tr>\n",
       "    <tr>\n",
       "      <th>XOne</th>\n",
       "      <td>159.32</td>\n",
       "    </tr>\n",
       "    <tr>\n",
       "      <th>2600</th>\n",
       "      <td>96.98</td>\n",
       "    </tr>\n",
       "    <tr>\n",
       "      <th>WiiU</th>\n",
       "      <td>82.19</td>\n",
       "    </tr>\n",
       "    <tr>\n",
       "      <th>PSV</th>\n",
       "      <td>54.07</td>\n",
       "    </tr>\n",
       "    <tr>\n",
       "      <th>SAT</th>\n",
       "      <td>33.59</td>\n",
       "    </tr>\n",
       "    <tr>\n",
       "      <th>GEN</th>\n",
       "      <td>28.35</td>\n",
       "    </tr>\n",
       "    <tr>\n",
       "      <th>DC</th>\n",
       "      <td>15.95</td>\n",
       "    </tr>\n",
       "    <tr>\n",
       "      <th>SCD</th>\n",
       "      <td>1.86</td>\n",
       "    </tr>\n",
       "    <tr>\n",
       "      <th>NG</th>\n",
       "      <td>1.44</td>\n",
       "    </tr>\n",
       "    <tr>\n",
       "      <th>WS</th>\n",
       "      <td>1.42</td>\n",
       "    </tr>\n",
       "    <tr>\n",
       "      <th>TG16</th>\n",
       "      <td>0.16</td>\n",
       "    </tr>\n",
       "    <tr>\n",
       "      <th>3DO</th>\n",
       "      <td>0.10</td>\n",
       "    </tr>\n",
       "    <tr>\n",
       "      <th>GG</th>\n",
       "      <td>0.04</td>\n",
       "    </tr>\n",
       "    <tr>\n",
       "      <th>PCFX</th>\n",
       "      <td>0.03</td>\n",
       "    </tr>\n",
       "  </tbody>\n",
       "</table>\n",
       "</div>"
      ],
      "text/plain": [
       "          total_sales\n",
       "platform             \n",
       "PS2           1255.77\n",
       "X360           971.42\n",
       "PS3            939.65\n",
       "Wii            907.51\n",
       "DS             806.12\n",
       "PS             730.86\n",
       "GBA            317.85\n",
       "PS4            314.14\n",
       "PSP            294.05\n",
       "PC             259.52\n",
       "3DS            259.00\n",
       "XB             257.74\n",
       "GB             255.46\n",
       "NES            251.05\n",
       "N64            218.68\n",
       "SNES           200.04\n",
       "GC             198.93\n",
       "XOne           159.32\n",
       "2600            96.98\n",
       "WiiU            82.19\n",
       "PSV             54.07\n",
       "SAT             33.59\n",
       "GEN             28.35\n",
       "DC              15.95\n",
       "SCD              1.86\n",
       "NG               1.44\n",
       "WS               1.42\n",
       "TG16             0.16\n",
       "3DO              0.10\n",
       "GG               0.04\n",
       "PCFX             0.03"
      ]
     },
     "execution_count": 26,
     "metadata": {},
     "output_type": "execute_result"
    }
   ],
   "source": [
    "(data\n",
    "    .pivot_table(index='platform', values='total_sales', aggfunc='sum')\n",
    "    .sort_values(by='total_sales', ascending=False))"
   ]
  },
  {
   "cell_type": "markdown",
   "metadata": {},
   "source": [
    "<div class=\"alert alert-block alert-success\">\n",
    " \n",
    "### Комментарий ревьюера\n",
    "    \n",
    "#### Успех\n",
    "\n",
    "Рейтинг суммарных продаж получен"
   ]
  },
  {
   "cell_type": "markdown",
   "metadata": {},
   "source": [
    "По суммарным продажам у нас снова лидирует `PS2`. Визуально нижнюю границу топа по суммарным продажам можно опять провести по `PS`, но тогда мы не рассмотрим `PS4`, `PSP`, и самое главное `PC`. Т.к. компьютер это основополагающая игровая платформа, то и границу топа проведем по нему."
   ]
  },
  {
   "cell_type": "code",
   "execution_count": 27,
   "metadata": {},
   "outputs": [
    {
     "data": {
      "text/plain": [
       "Index(['DS', 'GBA', 'PC', 'PS', 'PS2', 'PS3', 'PS4', 'PSP', 'Wii', 'X360'], dtype='object', name='platform')"
      ]
     },
     "execution_count": 27,
     "metadata": {},
     "output_type": "execute_result"
    }
   ],
   "source": [
    "# определим топ платформ в список\n",
    "top_platforms = data.pivot_table(index='platform', values='total_sales', aggfunc='sum').query('total_sales > 259').index\n",
    "top_platforms"
   ]
  },
  {
   "cell_type": "code",
   "execution_count": 28,
   "metadata": {},
   "outputs": [
    {
     "data": {
      "image/png": "[encoded data removed]",
      "text/plain": [
       "<Figure size 720x432 with 1 Axes>"
      ]
     },
     "metadata": {
      "needs_background": "light"
     },
     "output_type": "display_data"
    }
   ],
   "source": [
    "(data\n",
    "    .query('year_of_release > 1990 and platform in @top_platforms') # делаем срез с учетом года и платформы\n",
    "    .pivot_table(index='year_of_release', columns='platform', values='total_sales', aggfunc='sum') # каждый столбец это платформа\n",
    "    .fillna(0) # заполним пропуски 0\n",
    "    .plot(kind='barh', stacked=True, figsize=(10, 6), colormap='tab20')\n",
    ")\n",
    "\n",
    "plt.title('Продажи игр по платформам по годам')\n",
    "plt.ylabel('Год выпуска')\n",
    "plt.xlabel('Суммарные продажи, млн. копий')\n",
    "plt.legend(title='Платформа', bbox_to_anchor=(1.05, 1), loc='upper left')\n",
    "\n",
    "plt.tight_layout()  \n",
    "plt.grid(True)\n",
    "plt.show()"
   ]
  },
  {
   "cell_type": "markdown",
   "metadata": {},
   "source": [
    "<div class=\"alert alert-block alert-success\">\n",
    " \n",
    "### Комментарий ревьюера\n",
    "    \n",
    "#### Успех\n",
    "\n",
    "А вот здесь больше спасибо за график. Сразу легко делаются выводы на его основе"
   ]
  },
  {
   "cell_type": "markdown",
   "metadata": {},
   "source": [
    "На данном графике мы наблюдаем жизненный цикл нескольких семейств платформ:\n",
    "+ **PC:** компютер присутствовал и будет присутствовать всегда, потому что в отличие от консолей имеет не только развлекательное назначение. Поэтому и продажи игр будут не самыми высокими.\n",
    "+ **Xbox:** на графике представлено только одно поколение `X360`. Продолжительность его жизненного цикла оценивается в 11 лет.\n",
    "+ **Playstation:** представлены на графике четыре поколения (`PS`, `PS2`, `PS3`, `PS4`) плюс портативная версия `PSP`. Имеет такое широкое представление поколений, т.к. на данном отрезке времени является лидером рынка по продажам. Жизненный цикл консоли равен 10-11 годам.\n",
    "+ **Nintendo:** на графике представлена приставками `GBA`, `Wii` и `DS`. Жизненный цикл консолей от 7(`GBA`) до 9(`Wii`, `DS`) лет.  "
   ]
  },
  {
   "cell_type": "markdown",
   "metadata": {},
   "source": [
    "### Анализ продаж актуального периода"
   ]
  },
  {
   "cell_type": "markdown",
   "metadata": {},
   "source": [
    "Для построения прогнозов на 2017 год, имея данные до 2016 года необходимо определить период, который будет актуальным для нас. Продажи видеоигр неразравно связаны с жизненным циклом консолей, поэтому изучение продаж должно ориентироваться на рынок консолей. Из предыдущего графика мы заключили, что жизненный цикл игровой платформы равен примерно 10 годам. Так же стоит учесть, что на 2016 год приходится расцвет `PS4` и запуск/продолжение консолей Nintendo и Xbox. Поэтому для того, чтобы получить релевантные данные, привязанные к развитию актуальных современных консолей следует рассмотреть последние 3 года (2012-2016 гг.), т.к. они являются периодом развития как новой платформы от Sony, которая занимает главенствующее положение, так и других платформ-конкурентов. И, в целом, игровая индустрия является быстроразвивающейся."
   ]
  },
  {
   "cell_type": "code",
   "execution_count": 29,
   "metadata": {},
   "outputs": [
    {
     "data": {
      "text/html": [
       "<div>\n",
       "<style scoped>\n",
       "    .dataframe tbody tr th:only-of-type {\n",
       "        vertical-align: middle;\n",
       "    }\n",
       "\n",
       "    .dataframe tbody tr th {\n",
       "        vertical-align: top;\n",
       "    }\n",
       "\n",
       "    .dataframe thead th {\n",
       "        text-align: right;\n",
       "    }\n",
       "</style>\n",
       "<table border=\"1\" class=\"dataframe\">\n",
       "  <thead>\n",
       "    <tr style=\"text-align: right;\">\n",
       "      <th></th>\n",
       "      <th>name</th>\n",
       "      <th>platform</th>\n",
       "      <th>year_of_release</th>\n",
       "      <th>genre</th>\n",
       "      <th>na_sales</th>\n",
       "      <th>eu_sales</th>\n",
       "      <th>jp_sales</th>\n",
       "      <th>other_sales</th>\n",
       "      <th>critic_score</th>\n",
       "      <th>user_score</th>\n",
       "      <th>rating</th>\n",
       "      <th>total_sales</th>\n",
       "    </tr>\n",
       "  </thead>\n",
       "  <tbody>\n",
       "    <tr>\n",
       "      <th>0</th>\n",
       "      <td>Grand Theft Auto V</td>\n",
       "      <td>PS3</td>\n",
       "      <td>2013</td>\n",
       "      <td>Action</td>\n",
       "      <td>7.02</td>\n",
       "      <td>9.09</td>\n",
       "      <td>0.98</td>\n",
       "      <td>3.96</td>\n",
       "      <td>97.0</td>\n",
       "      <td>8.2</td>\n",
       "      <td>M</td>\n",
       "      <td>21.05</td>\n",
       "    </tr>\n",
       "    <tr>\n",
       "      <th>1</th>\n",
       "      <td>Grand Theft Auto V</td>\n",
       "      <td>X360</td>\n",
       "      <td>2013</td>\n",
       "      <td>Action</td>\n",
       "      <td>9.66</td>\n",
       "      <td>5.14</td>\n",
       "      <td>0.06</td>\n",
       "      <td>1.41</td>\n",
       "      <td>97.0</td>\n",
       "      <td>8.1</td>\n",
       "      <td>M</td>\n",
       "      <td>16.27</td>\n",
       "    </tr>\n",
       "    <tr>\n",
       "      <th>2</th>\n",
       "      <td>Call of Duty: Black Ops 3</td>\n",
       "      <td>PS4</td>\n",
       "      <td>2015</td>\n",
       "      <td>Shooter</td>\n",
       "      <td>6.03</td>\n",
       "      <td>5.86</td>\n",
       "      <td>0.36</td>\n",
       "      <td>2.38</td>\n",
       "      <td>-1.0</td>\n",
       "      <td>-1.0</td>\n",
       "      <td>Not Yet Rated</td>\n",
       "      <td>14.63</td>\n",
       "    </tr>\n",
       "    <tr>\n",
       "      <th>3</th>\n",
       "      <td>Pokemon X/Pokemon Y</td>\n",
       "      <td>3DS</td>\n",
       "      <td>2013</td>\n",
       "      <td>Role-Playing</td>\n",
       "      <td>5.28</td>\n",
       "      <td>4.19</td>\n",
       "      <td>4.35</td>\n",
       "      <td>0.78</td>\n",
       "      <td>-1.0</td>\n",
       "      <td>-1.0</td>\n",
       "      <td>Not Yet Rated</td>\n",
       "      <td>14.60</td>\n",
       "    </tr>\n",
       "    <tr>\n",
       "      <th>4</th>\n",
       "      <td>Grand Theft Auto V</td>\n",
       "      <td>PS4</td>\n",
       "      <td>2014</td>\n",
       "      <td>Action</td>\n",
       "      <td>3.96</td>\n",
       "      <td>6.31</td>\n",
       "      <td>0.38</td>\n",
       "      <td>1.97</td>\n",
       "      <td>97.0</td>\n",
       "      <td>8.3</td>\n",
       "      <td>M</td>\n",
       "      <td>12.62</td>\n",
       "    </tr>\n",
       "    <tr>\n",
       "      <th>...</th>\n",
       "      <td>...</td>\n",
       "      <td>...</td>\n",
       "      <td>...</td>\n",
       "      <td>...</td>\n",
       "      <td>...</td>\n",
       "      <td>...</td>\n",
       "      <td>...</td>\n",
       "      <td>...</td>\n",
       "      <td>...</td>\n",
       "      <td>...</td>\n",
       "      <td>...</td>\n",
       "      <td>...</td>\n",
       "    </tr>\n",
       "    <tr>\n",
       "      <th>2228</th>\n",
       "      <td>Strawberry Nauts</td>\n",
       "      <td>PSV</td>\n",
       "      <td>2016</td>\n",
       "      <td>Adventure</td>\n",
       "      <td>0.00</td>\n",
       "      <td>0.00</td>\n",
       "      <td>0.01</td>\n",
       "      <td>0.00</td>\n",
       "      <td>-1.0</td>\n",
       "      <td>-1.0</td>\n",
       "      <td>Not Yet Rated</td>\n",
       "      <td>0.01</td>\n",
       "    </tr>\n",
       "    <tr>\n",
       "      <th>2229</th>\n",
       "      <td>Aiyoku no Eustia</td>\n",
       "      <td>PSV</td>\n",
       "      <td>2014</td>\n",
       "      <td>Misc</td>\n",
       "      <td>0.00</td>\n",
       "      <td>0.00</td>\n",
       "      <td>0.01</td>\n",
       "      <td>0.00</td>\n",
       "      <td>-1.0</td>\n",
       "      <td>-1.0</td>\n",
       "      <td>Not Yet Rated</td>\n",
       "      <td>0.01</td>\n",
       "    </tr>\n",
       "    <tr>\n",
       "      <th>2230</th>\n",
       "      <td>Samurai Warriors: Sanada Maru</td>\n",
       "      <td>PS3</td>\n",
       "      <td>2016</td>\n",
       "      <td>Action</td>\n",
       "      <td>0.00</td>\n",
       "      <td>0.00</td>\n",
       "      <td>0.01</td>\n",
       "      <td>0.00</td>\n",
       "      <td>-1.0</td>\n",
       "      <td>-1.0</td>\n",
       "      <td>Not Yet Rated</td>\n",
       "      <td>0.01</td>\n",
       "    </tr>\n",
       "    <tr>\n",
       "      <th>2231</th>\n",
       "      <td>Haitaka no Psychedelica</td>\n",
       "      <td>PSV</td>\n",
       "      <td>2016</td>\n",
       "      <td>Adventure</td>\n",
       "      <td>0.00</td>\n",
       "      <td>0.00</td>\n",
       "      <td>0.01</td>\n",
       "      <td>0.00</td>\n",
       "      <td>-1.0</td>\n",
       "      <td>-1.0</td>\n",
       "      <td>Not Yet Rated</td>\n",
       "      <td>0.01</td>\n",
       "    </tr>\n",
       "    <tr>\n",
       "      <th>2232</th>\n",
       "      <td>Winning Post 8 2016</td>\n",
       "      <td>PSV</td>\n",
       "      <td>2016</td>\n",
       "      <td>Simulation</td>\n",
       "      <td>0.00</td>\n",
       "      <td>0.00</td>\n",
       "      <td>0.01</td>\n",
       "      <td>0.00</td>\n",
       "      <td>-1.0</td>\n",
       "      <td>-1.0</td>\n",
       "      <td>Not Yet Rated</td>\n",
       "      <td>0.01</td>\n",
       "    </tr>\n",
       "  </tbody>\n",
       "</table>\n",
       "<p>2233 rows × 12 columns</p>\n",
       "</div>"
      ],
      "text/plain": [
       "                               name platform  year_of_release         genre  \\\n",
       "0                Grand Theft Auto V      PS3             2013        Action   \n",
       "1                Grand Theft Auto V     X360             2013        Action   \n",
       "2         Call of Duty: Black Ops 3      PS4             2015       Shooter   \n",
       "3               Pokemon X/Pokemon Y      3DS             2013  Role-Playing   \n",
       "4                Grand Theft Auto V      PS4             2014        Action   \n",
       "...                             ...      ...              ...           ...   \n",
       "2228               Strawberry Nauts      PSV             2016     Adventure   \n",
       "2229               Aiyoku no Eustia      PSV             2014          Misc   \n",
       "2230  Samurai Warriors: Sanada Maru      PS3             2016        Action   \n",
       "2231        Haitaka no Psychedelica      PSV             2016     Adventure   \n",
       "2232            Winning Post 8 2016      PSV             2016    Simulation   \n",
       "\n",
       "      na_sales  eu_sales  jp_sales  other_sales  critic_score  user_score  \\\n",
       "0         7.02      9.09      0.98         3.96          97.0         8.2   \n",
       "1         9.66      5.14      0.06         1.41          97.0         8.1   \n",
       "2         6.03      5.86      0.36         2.38          -1.0        -1.0   \n",
       "3         5.28      4.19      4.35         0.78          -1.0        -1.0   \n",
       "4         3.96      6.31      0.38         1.97          97.0         8.3   \n",
       "...        ...       ...       ...          ...           ...         ...   \n",
       "2228      0.00      0.00      0.01         0.00          -1.0        -1.0   \n",
       "2229      0.00      0.00      0.01         0.00          -1.0        -1.0   \n",
       "2230      0.00      0.00      0.01         0.00          -1.0        -1.0   \n",
       "2231      0.00      0.00      0.01         0.00          -1.0        -1.0   \n",
       "2232      0.00      0.00      0.01         0.00          -1.0        -1.0   \n",
       "\n",
       "             rating  total_sales  \n",
       "0                 M        21.05  \n",
       "1                 M        16.27  \n",
       "2     Not Yet Rated        14.63  \n",
       "3     Not Yet Rated        14.60  \n",
       "4                 M        12.62  \n",
       "...             ...          ...  \n",
       "2228  Not Yet Rated         0.01  \n",
       "2229  Not Yet Rated         0.01  \n",
       "2230  Not Yet Rated         0.01  \n",
       "2231  Not Yet Rated         0.01  \n",
       "2232  Not Yet Rated         0.01  \n",
       "\n",
       "[2233 rows x 12 columns]"
      ]
     },
     "execution_count": 29,
     "metadata": {},
     "output_type": "execute_result"
    }
   ],
   "source": [
    "actual_data = data.query('year_of_release > 2012').reset_index(drop=True)\n",
    "actual_data"
   ]
  },
  {
   "cell_type": "markdown",
   "metadata": {},
   "source": [
    "<div class=\"alert alert-block alert-warning\">\n",
    " \n",
    "### Комментарий ревьюера\n",
    "    \n",
    "#### Совет\n",
    "\n",
    "Все же прогноз в крупных компаниях правильно считать за последние 2-3 года. А у тебя сфера видеоигр где все быстро меняется и легко отловать отжившие тренды."
   ]
  },
  {
   "cell_type": "markdown",
   "metadata": {},
   "source": [
    "<div class=\"alert alert-block alert-info\">\n",
    " \n",
    "### Комментарий студента\n",
    "    \n",
    "уменьшил величину актуального периода до 3 лет."
   ]
  },
  {
   "cell_type": "markdown",
   "metadata": {},
   "source": [
    "Построим аналогичный график для оценки актуального периода."
   ]
  },
  {
   "cell_type": "code",
   "execution_count": 30,
   "metadata": {},
   "outputs": [
    {
     "data": {
      "image/png": "[encoded data removed]",
      "text/plain": [
       "<Figure size 720x432 with 1 Axes>"
      ]
     },
     "metadata": {
      "needs_background": "light"
     },
     "output_type": "display_data"
    }
   ],
   "source": [
    "(actual_data\n",
    "    .pivot_table(index='year_of_release', columns='platform', values='total_sales', aggfunc='sum') # каждый столбец это платформа\n",
    "    .fillna(0) # заполним пропуски 0\n",
    "    .plot(kind='barh', stacked=True, figsize=(10, 6), colormap='tab20')\n",
    ")\n",
    "\n",
    "plt.title('Продажи игр по платформам по годам')\n",
    "plt.ylabel('Год выпуска')\n",
    "plt.xlabel('Суммарные продажи, млн. копий')\n",
    "plt.legend(title='Платформа', bbox_to_anchor=(1.05, 1), loc='upper left')\n",
    "\n",
    "plt.tight_layout()  \n",
    "plt.grid(True)\n",
    "plt.show()"
   ]
  },
  {
   "cell_type": "markdown",
   "metadata": {},
   "source": [
    "Поскольку данные за 2016 год неполные, чтобы определить корректную ситуацию на рынке лучше смотреть до 2015 г. Из этого периода видно, что:\n",
    "+ лидером рынка является `PS4`, `XOne`, `3DS` (это характерно и для 2016 года);\n",
    "+ продажи растут для `PS4`, `XOne`;\n",
    "+ продажи падают для `3DS`, `PS3`, `PSV`, `X360`, `Wii`, `PSP`, `DS`;\n",
    "+ стагнирующее ситуация для `WiiU`, `PC`.\n",
    "\n",
    "Стоит отметить важную деталь, что в целом продажи игр снизились после 2013 года, видимо запуски новых платформ Microsoft и Playstation не подогрели интереса к видеоиграм как предудыщее поколение консолей. \n",
    "\n",
    "2016 г. можно использовать для относительной оценки, т.к. неполнота данных равномерна для всех консолей (данные предоставлены до какого-то периода 2016 г.). Так потенциально прибыльные платформы для 2017 года можно выбрать из лидеров 2016 года."
   ]
  },
  {
   "cell_type": "code",
   "execution_count": 31,
   "metadata": {},
   "outputs": [
    {
     "data": {
      "text/html": [
       "<div>\n",
       "<style scoped>\n",
       "    .dataframe tbody tr th:only-of-type {\n",
       "        vertical-align: middle;\n",
       "    }\n",
       "\n",
       "    .dataframe tbody tr th {\n",
       "        vertical-align: top;\n",
       "    }\n",
       "\n",
       "    .dataframe thead th {\n",
       "        text-align: right;\n",
       "    }\n",
       "</style>\n",
       "<table border=\"1\" class=\"dataframe\">\n",
       "  <thead>\n",
       "    <tr style=\"text-align: right;\">\n",
       "      <th></th>\n",
       "      <th>total_sales</th>\n",
       "      <th>market_share</th>\n",
       "    </tr>\n",
       "    <tr>\n",
       "      <th>platform</th>\n",
       "      <th></th>\n",
       "      <th></th>\n",
       "    </tr>\n",
       "  </thead>\n",
       "  <tbody>\n",
       "    <tr>\n",
       "      <th>PS4</th>\n",
       "      <td>69.25</td>\n",
       "      <td>0.532938</td>\n",
       "    </tr>\n",
       "    <tr>\n",
       "      <th>XOne</th>\n",
       "      <td>26.15</td>\n",
       "      <td>0.201247</td>\n",
       "    </tr>\n",
       "    <tr>\n",
       "      <th>3DS</th>\n",
       "      <td>15.14</td>\n",
       "      <td>0.116515</td>\n",
       "    </tr>\n",
       "    <tr>\n",
       "      <th>PC</th>\n",
       "      <td>5.25</td>\n",
       "      <td>0.040403</td>\n",
       "    </tr>\n",
       "    <tr>\n",
       "      <th>WiiU</th>\n",
       "      <td>4.60</td>\n",
       "      <td>0.035401</td>\n",
       "    </tr>\n",
       "    <tr>\n",
       "      <th>PSV</th>\n",
       "      <td>4.25</td>\n",
       "      <td>0.032707</td>\n",
       "    </tr>\n",
       "    <tr>\n",
       "      <th>PS3</th>\n",
       "      <td>3.60</td>\n",
       "      <td>0.027705</td>\n",
       "    </tr>\n",
       "    <tr>\n",
       "      <th>X360</th>\n",
       "      <td>1.52</td>\n",
       "      <td>0.011698</td>\n",
       "    </tr>\n",
       "    <tr>\n",
       "      <th>Wii</th>\n",
       "      <td>0.18</td>\n",
       "      <td>0.001385</td>\n",
       "    </tr>\n",
       "  </tbody>\n",
       "</table>\n",
       "</div>"
      ],
      "text/plain": [
       "          total_sales  market_share\n",
       "platform                           \n",
       "PS4             69.25      0.532938\n",
       "XOne            26.15      0.201247\n",
       "3DS             15.14      0.116515\n",
       "PC               5.25      0.040403\n",
       "WiiU             4.60      0.035401\n",
       "PSV              4.25      0.032707\n",
       "PS3              3.60      0.027705\n",
       "X360             1.52      0.011698\n",
       "Wii              0.18      0.001385"
      ]
     },
     "execution_count": 31,
     "metadata": {},
     "output_type": "execute_result"
    }
   ],
   "source": [
    "(actual_data.query('year_of_release == 2016') # берем данные за 2016 год\n",
    "    .pivot_table(index='platform', values='total_sales', aggfunc='sum') # формируем таблицу платформа-суммарные продажи\n",
    "    .sort_values(by='total_sales', ascending=False)\n",
    "    .assign(market_share=lambda x: x['total_sales'] / x['total_sales'].sum()) # добавляем столбец с долей всех продаж\n",
    ")"
   ]
  },
  {
   "cell_type": "markdown",
   "metadata": {},
   "source": [
    "На основе этих данных можно выделить список потенциальных платформ, а значит и игр на эти платформы для 2017 года:\n",
    "+ `PS4`;\n",
    "+ `XOne`;\n",
    "+ `3DS` несмотря на завершение цикла, имеет приличную долю от всего рынка, что нельзя игнорировать;\n",
    "+ `PC`, `WiiU`стабильный сегмент за последние годы."
   ]
  },
  {
   "cell_type": "markdown",
   "metadata": {},
   "source": [
    "<div class=\"alert alert-block alert-success\">\n",
    " \n",
    "### Комментарий ревьюера\n",
    "    \n",
    "#### Успех\n",
    "\n",
    "Наиболее потенциальные платформы определены. Здорово"
   ]
  },
  {
   "cell_type": "markdown",
   "metadata": {},
   "source": [
    "### Статистический анализ рынка"
   ]
  },
  {
   "cell_type": "code",
   "execution_count": 32,
   "metadata": {},
   "outputs": [],
   "source": [
    "top_platforms = ['PS4', 'XOne', '3DS', 'PC', 'WiiU']"
   ]
  },
  {
   "cell_type": "code",
   "execution_count": 33,
   "metadata": {},
   "outputs": [
    {
     "data": {
      "image/png": "[encoded data removed]",
      "text/plain": [
       "<Figure size 720x504 with 1 Axes>"
      ]
     },
     "metadata": {
      "needs_background": "light"
     },
     "output_type": "display_data"
    }
   ],
   "source": [
    "(actual_data\n",
    "     .query('platform in @top_platforms') # рассмотрим только топовые платформы\n",
    "     .boxplot(column='total_sales', by='platform', vert=False, figsize=(10, 7)))\n",
    "\n",
    "plt.xlim(0, 2)\n",
    "plt.title('Продажи игр по платформам')\n",
    "plt.suptitle('')\n",
    "plt.ylabel('Платформы')\n",
    "plt.xlabel('Суммарные продажи, млн. копий')\n",
    "plt.show()\n"
   ]
  },
  {
   "cell_type": "markdown",
   "metadata": {},
   "source": [
    "Данный график показывает нам, что применяя межквартильный размах для расчета статистических выбросов, много значений попадает в эту категорию. Поэтому неправильным будет просто отсечь все выбросы в данных. Это объясняется спецификой рынка есть определенные игры, которые расходятся намного большим тиражом, чем большинство других, а эти хиты являются определяющими в жанре/платформе и их нельзя исключать из расчетов. На основании этого данные от выбросов очищать не будем."
   ]
  },
  {
   "cell_type": "markdown",
   "metadata": {},
   "source": [
    "<div class=\"alert alert-block alert-danger\">\n",
    " \n",
    "### Комментарий ревьюера\n",
    "    \n",
    "#### Ошибка\n",
    "\n",
    "Здесь будет правильнее оставить штук 5 наиболее перспективных платформ актуального пероида. А еще можно огранчить вывод выбросов при помощи метода ylim() и смотруть на более чистые данные "
   ]
  },
  {
   "cell_type": "markdown",
   "metadata": {},
   "source": [
    "<div class=\"alert alert-block alert-info\">\n",
    " \n",
    "### Комментарий студента  \n",
    "По межквартильному размаху можно выделить три самые массовые по продажам платформы, это и есть последнее поколение приставок `PS4`, `Xone`, `Wiiu`. Причем лидером среди них является консоль от PlayStation. Среднее количество проданных копий примерно одинаковое для рассмотренных выше платформ, немногим больше имеет платформа `Xone`. Многим меньше имеют среднее значение `PC` и `3DS` и в целом сильно уступают размахом консолям из топ-3."
   ]
  },
  {
   "cell_type": "markdown",
   "metadata": {},
   "source": [
    "<div class=\"alert alert-block alert-success\">\n",
    " \n",
    "# Комментарий ревьюера ver.2\n",
    "    \n",
    "#### Успех\n",
    "\n",
    "Теперь стало отлично. Молодец "
   ]
  },
  {
   "cell_type": "markdown",
   "metadata": {},
   "source": [
    "### Влияние оценок на продажи"
   ]
  },
  {
   "cell_type": "markdown",
   "metadata": {},
   "source": [
    "Проследим связь между оценками и продажами на одной платформе. Выберем самую популярную консоль актуального периода. Под такой критерий подходит приставка `PS4`. Рассмотрим не тоько суммарные продажи, но и продажи по регионам, чтобы оценить однородность взаимосвязи продаж и оценок.\n",
    "\n"
   ]
  },
  {
   "cell_type": "code",
   "execution_count": 34,
   "metadata": {},
   "outputs": [
    {
     "data": {
      "text/html": [
       "<div>\n",
       "<style scoped>\n",
       "    .dataframe tbody tr th:only-of-type {\n",
       "        vertical-align: middle;\n",
       "    }\n",
       "\n",
       "    .dataframe tbody tr th {\n",
       "        vertical-align: top;\n",
       "    }\n",
       "\n",
       "    .dataframe thead th {\n",
       "        text-align: right;\n",
       "    }\n",
       "</style>\n",
       "<table border=\"1\" class=\"dataframe\">\n",
       "  <thead>\n",
       "    <tr style=\"text-align: right;\">\n",
       "      <th></th>\n",
       "      <th>critic_score</th>\n",
       "      <th>user_score</th>\n",
       "      <th>total_sales</th>\n",
       "      <th>na_sales</th>\n",
       "      <th>eu_sales</th>\n",
       "      <th>jp_sales</th>\n",
       "      <th>other_sales</th>\n",
       "    </tr>\n",
       "  </thead>\n",
       "  <tbody>\n",
       "    <tr>\n",
       "      <th>4</th>\n",
       "      <td>97.0</td>\n",
       "      <td>8.3</td>\n",
       "      <td>12.62</td>\n",
       "      <td>3.96</td>\n",
       "      <td>6.31</td>\n",
       "      <td>0.38</td>\n",
       "      <td>1.97</td>\n",
       "    </tr>\n",
       "    <tr>\n",
       "      <th>9</th>\n",
       "      <td>82.0</td>\n",
       "      <td>4.3</td>\n",
       "      <td>8.58</td>\n",
       "      <td>1.12</td>\n",
       "      <td>6.12</td>\n",
       "      <td>0.06</td>\n",
       "      <td>1.28</td>\n",
       "    </tr>\n",
       "    <tr>\n",
       "      <th>11</th>\n",
       "      <td>83.0</td>\n",
       "      <td>5.7</td>\n",
       "      <td>7.66</td>\n",
       "      <td>2.81</td>\n",
       "      <td>3.48</td>\n",
       "      <td>0.14</td>\n",
       "      <td>1.23</td>\n",
       "    </tr>\n",
       "  </tbody>\n",
       "</table>\n",
       "</div>"
      ],
      "text/plain": [
       "    critic_score  user_score  total_sales  na_sales  eu_sales  jp_sales  \\\n",
       "4           97.0         8.3        12.62      3.96      6.31      0.38   \n",
       "9           82.0         4.3         8.58      1.12      6.12      0.06   \n",
       "11          83.0         5.7         7.66      2.81      3.48      0.14   \n",
       "\n",
       "    other_sales  \n",
       "4          1.97  \n",
       "9          1.28  \n",
       "11         1.23  "
      ]
     },
     "execution_count": 34,
     "metadata": {},
     "output_type": "execute_result"
    }
   ],
   "source": [
    "# выделим нужные данные в отдельный датафрейм\n",
    "data_scores = (actual_data\n",
    "                    .query('platform == \"PS4\" and critic_score > -1.0 and user_score > -1.0') \n",
    "                    .loc[:, ['critic_score', 'user_score', 'total_sales', 'na_sales', 'eu_sales', 'jp_sales', 'other_sales']]\n",
    "              )\n",
    "data_scores.head(3)"
   ]
  },
  {
   "cell_type": "code",
   "execution_count": 35,
   "metadata": {},
   "outputs": [
    {
     "data": {
      "text/html": [
       "<div>\n",
       "<style scoped>\n",
       "    .dataframe tbody tr th:only-of-type {\n",
       "        vertical-align: middle;\n",
       "    }\n",
       "\n",
       "    .dataframe tbody tr th {\n",
       "        vertical-align: top;\n",
       "    }\n",
       "\n",
       "    .dataframe thead th {\n",
       "        text-align: right;\n",
       "    }\n",
       "</style>\n",
       "<table border=\"1\" class=\"dataframe\">\n",
       "  <thead>\n",
       "    <tr style=\"text-align: right;\">\n",
       "      <th></th>\n",
       "      <th>critic_score</th>\n",
       "      <th>user_score</th>\n",
       "      <th>total_sales</th>\n",
       "      <th>na_sales</th>\n",
       "      <th>eu_sales</th>\n",
       "      <th>jp_sales</th>\n",
       "      <th>other_sales</th>\n",
       "    </tr>\n",
       "  </thead>\n",
       "  <tbody>\n",
       "    <tr>\n",
       "      <th>critic_score</th>\n",
       "      <td>1.000000</td>\n",
       "      <td>0.557654</td>\n",
       "      <td>0.405895</td>\n",
       "      <td>0.414241</td>\n",
       "      <td>0.346044</td>\n",
       "      <td>0.322057</td>\n",
       "      <td>0.408465</td>\n",
       "    </tr>\n",
       "    <tr>\n",
       "      <th>user_score</th>\n",
       "      <td>0.557654</td>\n",
       "      <td>1.000000</td>\n",
       "      <td>-0.033625</td>\n",
       "      <td>-0.022577</td>\n",
       "      <td>-0.050671</td>\n",
       "      <td>0.174512</td>\n",
       "      <td>-0.037332</td>\n",
       "    </tr>\n",
       "    <tr>\n",
       "      <th>total_sales</th>\n",
       "      <td>0.405895</td>\n",
       "      <td>-0.033625</td>\n",
       "      <td>1.000000</td>\n",
       "      <td>0.893807</td>\n",
       "      <td>0.951656</td>\n",
       "      <td>0.592214</td>\n",
       "      <td>0.997798</td>\n",
       "    </tr>\n",
       "    <tr>\n",
       "      <th>na_sales</th>\n",
       "      <td>0.414241</td>\n",
       "      <td>-0.022577</td>\n",
       "      <td>0.893807</td>\n",
       "      <td>1.000000</td>\n",
       "      <td>0.714988</td>\n",
       "      <td>0.530480</td>\n",
       "      <td>0.915292</td>\n",
       "    </tr>\n",
       "    <tr>\n",
       "      <th>eu_sales</th>\n",
       "      <td>0.346044</td>\n",
       "      <td>-0.050671</td>\n",
       "      <td>0.951656</td>\n",
       "      <td>0.714988</td>\n",
       "      <td>1.000000</td>\n",
       "      <td>0.519826</td>\n",
       "      <td>0.935136</td>\n",
       "    </tr>\n",
       "    <tr>\n",
       "      <th>jp_sales</th>\n",
       "      <td>0.322057</td>\n",
       "      <td>0.174512</td>\n",
       "      <td>0.592214</td>\n",
       "      <td>0.530480</td>\n",
       "      <td>0.519826</td>\n",
       "      <td>1.000000</td>\n",
       "      <td>0.566734</td>\n",
       "    </tr>\n",
       "    <tr>\n",
       "      <th>other_sales</th>\n",
       "      <td>0.408465</td>\n",
       "      <td>-0.037332</td>\n",
       "      <td>0.997798</td>\n",
       "      <td>0.915292</td>\n",
       "      <td>0.935136</td>\n",
       "      <td>0.566734</td>\n",
       "      <td>1.000000</td>\n",
       "    </tr>\n",
       "  </tbody>\n",
       "</table>\n",
       "</div>"
      ],
      "text/plain": [
       "              critic_score  user_score  total_sales  na_sales  eu_sales  \\\n",
       "critic_score      1.000000    0.557654     0.405895  0.414241  0.346044   \n",
       "user_score        0.557654    1.000000    -0.033625 -0.022577 -0.050671   \n",
       "total_sales       0.405895   -0.033625     1.000000  0.893807  0.951656   \n",
       "na_sales          0.414241   -0.022577     0.893807  1.000000  0.714988   \n",
       "eu_sales          0.346044   -0.050671     0.951656  0.714988  1.000000   \n",
       "jp_sales          0.322057    0.174512     0.592214  0.530480  0.519826   \n",
       "other_sales       0.408465   -0.037332     0.997798  0.915292  0.935136   \n",
       "\n",
       "              jp_sales  other_sales  \n",
       "critic_score  0.322057     0.408465  \n",
       "user_score    0.174512    -0.037332  \n",
       "total_sales   0.592214     0.997798  \n",
       "na_sales      0.530480     0.915292  \n",
       "eu_sales      0.519826     0.935136  \n",
       "jp_sales      1.000000     0.566734  \n",
       "other_sales   0.566734     1.000000  "
      ]
     },
     "execution_count": 35,
     "metadata": {},
     "output_type": "execute_result"
    }
   ],
   "source": [
    "# найдем коэффициент корреляции\n",
    "data_scores.corr()"
   ]
  },
  {
   "cell_type": "code",
   "execution_count": 36,
   "metadata": {},
   "outputs": [
    {
     "data": {
      "image/png": "[encoded data removed]",
      "text/plain": [
       "<Figure size 720x720 with 49 Axes>"
      ]
     },
     "metadata": {
      "needs_background": "light"
     },
     "output_type": "display_data"
    }
   ],
   "source": [
    "pd.plotting.scatter_matrix(data_scores, figsize=(10, 10))\n",
    "plt.suptitle('Диаграмма рассеивания: Продажи - оценки')\n",
    "plt.show()"
   ]
  },
  {
   "cell_type": "markdown",
   "metadata": {},
   "source": [
    "По диаграмме и коэффициентам корреляции можем сделать следующие выводы:\n",
    "+ между оценкой критиков и суммарными продажами существует положительная корреляция, т.е. игры с большими продажами получают высокие оценки, однако коэффициент корреляции не достаточно высокий (0,4), чтобы говорить о сильной связи.\n",
    "+ между оценками пользователей и суммарными продажами наблюдается околонулевая и даже отрицательная связь. С оценками пользователей все менее однозначно, если взглянуть на диаграмму рассеивания, то какую-либо связь трудно заметить.\n",
    "+ продажи по регионам примерно одинаково взаимосвязаны с оценкой критиков. Колебания коэффициента корреляции составляют от 0.32 (JP) до 0.41(NA).\n",
    "+ во взаимосвязи оценки пользователей и продажами по регионам схожая ситуация как и с суммарными продажами за исключением Японии, продажи которой демонстрируют очень слабую, но положительную корреляцию (0.17).\n",
    "\n",
    "Таким образом, мы видим некоторую положительную корреляцию между оценками критиков и продажами игр. Это обусловлено профессионализмом и объективностью оценки. Отсутствие связи между оценкой пользователей и продажами помимо субъективизма можно объяснить небольшим процентом человек, который выставляет эту оценку. Большинство игроков может игнорировать оценивание, но при этом покупать продукт.\n",
    "\n",
    "Для прогнозирования продаж можно использовать только оценки критиков.\n",
    "\n",
    "Посмотрим на все платформы, можно ли данный вывод перенести на них."
   ]
  },
  {
   "cell_type": "markdown",
   "metadata": {},
   "source": [
    "<div class=\"alert alert-block alert-success\">\n",
    " \n",
    "### Комментарий ревьюера\n",
    "    \n",
    "#### Успех\n",
    "\n",
    "Здесь подобран удобный метод для показа зависимости одно параметра от другого. Здорово"
   ]
  },
  {
   "cell_type": "code",
   "execution_count": 37,
   "metadata": {},
   "outputs": [
    {
     "data": {
      "image/png": "[encoded data removed]",
      "text/plain": [
       "<Figure size 720x360 with 2 Axes>"
      ]
     },
     "metadata": {
      "needs_background": "light"
     },
     "output_type": "display_data"
    }
   ],
   "source": [
    "# список со всеми актуальными платформами\n",
    "actual_platforms = actual_data['platform'].unique()\n",
    "\n",
    "# создадим список для коэффициентов\n",
    "cor_coef = []\n",
    "\n",
    "\n",
    "for platform in actual_platforms:\n",
    "    correlation = (\n",
    "        actual_data\n",
    "        .query('platform == @platform and critic_score > -1.0 and user_score > -1.0') # продажи учитываем только суммарные\n",
    "        .loc[:, ['critic_score', 'user_score', 'total_sales']]\n",
    "        .corr()\n",
    "        .loc['total_sales', ['critic_score', 'user_score']]\n",
    "    )\n",
    "    \n",
    "    # добавим коэффициенты в список\n",
    "    cor_coef.append([platform, correlation[\"critic_score\"], correlation[\"user_score\"]])\n",
    "\n",
    "# создадим датафрейм\n",
    "correlation_data = pd.DataFrame(cor_coef, columns=['Platform', 'Critic Score', 'User Score'])\n",
    "\n",
    "# построим тепловую карту\n",
    "plt.figure(figsize=(10, 5))\n",
    "sns.heatmap(correlation_data.set_index('Platform').T, annot=True, cmap='coolwarm', cbar=True)\n",
    "plt.title('Коэффициенты корреляции для различных платформ')\n",
    "plt.xlabel('Платформы')\n",
    "plt.ylabel('Тип оценки')\n",
    "plt.show()\n"
   ]
  },
  {
   "cell_type": "markdown",
   "metadata": {},
   "source": [
    "По тепловой карте мы можем сделать следующие выводы:\n",
    "+ ведущие платформы последнего поколения (`PS4` и `XOne`) имеют примерно одинаковые коэффициенты.\n",
    "+ платформы предыдущего поколения имеют более слабую связь оценки критиков и продаж (`PS3`, `X360`, `3DS`).\n",
    "+ игры для компьютера также имеют более слабую корреляцию между оценкой критиков и продажами, но более сильную отрицательную между оценкой пользователей и продажами.\n",
    "+ отсутствие информации для `DS` и `PSP` обусловлено отсутствием данных об оценках.\n",
    "+ необычные показатели связи для `PSV`, `Wii` обусловлены небольшим количеством данных.\n",
    "+ действительно необычный результат можно наблюдать для приставки `WiiU`, `3DS`, где мы видим, что корреляция между разным типом оценок и продажами практически сходна. Что говорит об особенностях аудитории данной приставки."
   ]
  },
  {
   "cell_type": "code",
   "execution_count": 38,
   "metadata": {},
   "outputs": [
    {
     "data": {
      "text/html": [
       "<div>\n",
       "<style scoped>\n",
       "    .dataframe tbody tr th:only-of-type {\n",
       "        vertical-align: middle;\n",
       "    }\n",
       "\n",
       "    .dataframe tbody tr th {\n",
       "        vertical-align: top;\n",
       "    }\n",
       "\n",
       "    .dataframe thead th {\n",
       "        text-align: right;\n",
       "    }\n",
       "</style>\n",
       "<table border=\"1\" class=\"dataframe\">\n",
       "  <thead>\n",
       "    <tr style=\"text-align: right;\">\n",
       "      <th></th>\n",
       "      <th>critic_score</th>\n",
       "      <th>user_score</th>\n",
       "      <th>total_sales</th>\n",
       "    </tr>\n",
       "  </thead>\n",
       "  <tbody>\n",
       "    <tr>\n",
       "      <th>critic_score</th>\n",
       "      <td>1.000000</td>\n",
       "      <td>0.502221</td>\n",
       "      <td>0.311692</td>\n",
       "    </tr>\n",
       "    <tr>\n",
       "      <th>user_score</th>\n",
       "      <td>0.502221</td>\n",
       "      <td>1.000000</td>\n",
       "      <td>-0.004064</td>\n",
       "    </tr>\n",
       "    <tr>\n",
       "      <th>total_sales</th>\n",
       "      <td>0.311692</td>\n",
       "      <td>-0.004064</td>\n",
       "      <td>1.000000</td>\n",
       "    </tr>\n",
       "  </tbody>\n",
       "</table>\n",
       "</div>"
      ],
      "text/plain": [
       "              critic_score  user_score  total_sales\n",
       "critic_score      1.000000    0.502221     0.311692\n",
       "user_score        0.502221    1.000000    -0.004064\n",
       "total_sales       0.311692   -0.004064     1.000000"
      ]
     },
     "execution_count": 38,
     "metadata": {},
     "output_type": "execute_result"
    }
   ],
   "source": [
    "# данные для всех платформ\n",
    "(actual_data\n",
    "    .query('critic_score > -1.0 and user_score > -1.0') \n",
    "    .loc[:, ['critic_score', 'user_score', 'total_sales']]\n",
    "    .corr() \n",
    ")"
   ]
  },
  {
   "cell_type": "markdown",
   "metadata": {},
   "source": [
    "В целом, если мы построим на корреляцию между оценками и суммарными продажами, то вывод, который мы получили для приставки `PS4` будет такой же. Оценка критиков имеет слабую положительную корреляцию, оценки пользователей не коррелируют с продажами."
   ]
  },
  {
   "cell_type": "markdown",
   "metadata": {},
   "source": [
    "<div class=\"alert alert-block alert-success\">\n",
    " \n",
    "### Комментарий ревьюера\n",
    "    \n",
    "#### Успех\n",
    "\n",
    "Выводы на основе графиков нескольких платформ выглядят убедительнее"
   ]
  },
  {
   "cell_type": "markdown",
   "metadata": {},
   "source": [
    "### Анализ жанров игр"
   ]
  },
  {
   "cell_type": "code",
   "execution_count": 39,
   "metadata": {
    "scrolled": true
   },
   "outputs": [
    {
     "data": {
      "text/html": [
       "<div>\n",
       "<style scoped>\n",
       "    .dataframe tbody tr th:only-of-type {\n",
       "        vertical-align: middle;\n",
       "    }\n",
       "\n",
       "    .dataframe tbody tr th {\n",
       "        vertical-align: top;\n",
       "    }\n",
       "\n",
       "    .dataframe thead th {\n",
       "        text-align: right;\n",
       "    }\n",
       "</style>\n",
       "<table border=\"1\" class=\"dataframe\">\n",
       "  <thead>\n",
       "    <tr style=\"text-align: right;\">\n",
       "      <th></th>\n",
       "      <th>eu_sales</th>\n",
       "      <th>jp_sales</th>\n",
       "      <th>na_sales</th>\n",
       "      <th>other_sales</th>\n",
       "      <th>total_sales</th>\n",
       "    </tr>\n",
       "    <tr>\n",
       "      <th>genre</th>\n",
       "      <th></th>\n",
       "      <th></th>\n",
       "      <th></th>\n",
       "      <th></th>\n",
       "      <th></th>\n",
       "    </tr>\n",
       "  </thead>\n",
       "  <tbody>\n",
       "    <tr>\n",
       "      <th>Action</th>\n",
       "      <td>118.13</td>\n",
       "      <td>40.49</td>\n",
       "      <td>126.05</td>\n",
       "      <td>37.20</td>\n",
       "      <td>321.87</td>\n",
       "    </tr>\n",
       "    <tr>\n",
       "      <th>Shooter</th>\n",
       "      <td>87.86</td>\n",
       "      <td>6.61</td>\n",
       "      <td>109.74</td>\n",
       "      <td>28.77</td>\n",
       "      <td>232.98</td>\n",
       "    </tr>\n",
       "    <tr>\n",
       "      <th>Sports</th>\n",
       "      <td>60.52</td>\n",
       "      <td>5.41</td>\n",
       "      <td>65.27</td>\n",
       "      <td>19.45</td>\n",
       "      <td>150.65</td>\n",
       "    </tr>\n",
       "    <tr>\n",
       "      <th>Role-Playing</th>\n",
       "      <td>36.97</td>\n",
       "      <td>51.04</td>\n",
       "      <td>46.40</td>\n",
       "      <td>11.48</td>\n",
       "      <td>145.89</td>\n",
       "    </tr>\n",
       "    <tr>\n",
       "      <th>Misc</th>\n",
       "      <td>20.04</td>\n",
       "      <td>9.20</td>\n",
       "      <td>27.49</td>\n",
       "      <td>6.09</td>\n",
       "      <td>62.82</td>\n",
       "    </tr>\n",
       "    <tr>\n",
       "      <th>Platform</th>\n",
       "      <td>15.58</td>\n",
       "      <td>4.79</td>\n",
       "      <td>18.14</td>\n",
       "      <td>4.12</td>\n",
       "      <td>42.63</td>\n",
       "    </tr>\n",
       "    <tr>\n",
       "      <th>Racing</th>\n",
       "      <td>20.19</td>\n",
       "      <td>2.30</td>\n",
       "      <td>12.96</td>\n",
       "      <td>4.44</td>\n",
       "      <td>39.89</td>\n",
       "    </tr>\n",
       "    <tr>\n",
       "      <th>Fighting</th>\n",
       "      <td>8.55</td>\n",
       "      <td>7.65</td>\n",
       "      <td>15.55</td>\n",
       "      <td>3.56</td>\n",
       "      <td>35.31</td>\n",
       "    </tr>\n",
       "    <tr>\n",
       "      <th>Adventure</th>\n",
       "      <td>8.25</td>\n",
       "      <td>5.82</td>\n",
       "      <td>7.14</td>\n",
       "      <td>2.43</td>\n",
       "      <td>23.64</td>\n",
       "    </tr>\n",
       "    <tr>\n",
       "      <th>Simulation</th>\n",
       "      <td>10.92</td>\n",
       "      <td>4.52</td>\n",
       "      <td>4.86</td>\n",
       "      <td>1.46</td>\n",
       "      <td>21.76</td>\n",
       "    </tr>\n",
       "    <tr>\n",
       "      <th>Strategy</th>\n",
       "      <td>4.22</td>\n",
       "      <td>1.77</td>\n",
       "      <td>3.28</td>\n",
       "      <td>0.81</td>\n",
       "      <td>10.08</td>\n",
       "    </tr>\n",
       "    <tr>\n",
       "      <th>Puzzle</th>\n",
       "      <td>1.00</td>\n",
       "      <td>1.18</td>\n",
       "      <td>0.83</td>\n",
       "      <td>0.16</td>\n",
       "      <td>3.17</td>\n",
       "    </tr>\n",
       "  </tbody>\n",
       "</table>\n",
       "</div>"
      ],
      "text/plain": [
       "              eu_sales  jp_sales  na_sales  other_sales  total_sales\n",
       "genre                                                               \n",
       "Action          118.13     40.49    126.05        37.20       321.87\n",
       "Shooter          87.86      6.61    109.74        28.77       232.98\n",
       "Sports           60.52      5.41     65.27        19.45       150.65\n",
       "Role-Playing     36.97     51.04     46.40        11.48       145.89\n",
       "Misc             20.04      9.20     27.49         6.09        62.82\n",
       "Platform         15.58      4.79     18.14         4.12        42.63\n",
       "Racing           20.19      2.30     12.96         4.44        39.89\n",
       "Fighting          8.55      7.65     15.55         3.56        35.31\n",
       "Adventure         8.25      5.82      7.14         2.43        23.64\n",
       "Simulation       10.92      4.52      4.86         1.46        21.76\n",
       "Strategy          4.22      1.77      3.28         0.81        10.08\n",
       "Puzzle            1.00      1.18      0.83         0.16         3.17"
      ]
     },
     "execution_count": 39,
     "metadata": {},
     "output_type": "execute_result"
    }
   ],
   "source": [
    "# создадим сводную таблицу о продажах по жанрам игр\n",
    "(actual_data\n",
    "    .pivot_table(index='genre', values=['total_sales', 'na_sales', 'eu_sales', 'jp_sales', 'other_sales'], aggfunc='sum')\n",
    "    .sort_values(by='total_sales', ascending=False)\n",
    ")"
   ]
  },
  {
   "cell_type": "markdown",
   "metadata": {},
   "source": [
    "Из данной таблицы следует:\n",
    "+ Из суммарных продаж можно выделить топ жанров, превыщающих 100 млн. копий:\n",
    "    + `Action`\n",
    "    + `Shooter`\n",
    "    + `Role-Playing`\n",
    "    + `Sports`\n",
    "+ Из суммарных продаж можно выделить жанры аутсайдеры: `Adventure`, `Strategy`, `Puzzle` с продажами менее 30 млн. копий.\n",
    "+ По регионам эти топы будут схожими, за исключением японского региона. Там топ-4 продаваемых жанров выглядит следующим образом: `Role-Playing`, `Action`, `Misc`, `Simulation`, а топ-3 наименее реализумых жанров: `Strategy`, `Adventure`, `Puzzle`. \n",
    "\n",
    "Это следует учитывать при планировании продаж.\n"
   ]
  },
  {
   "cell_type": "markdown",
   "metadata": {},
   "source": [
    "<div class=\"alert alert-block alert-danger\">\n",
    " \n",
    "### Комментарий ревьюера\n",
    "    \n",
    "#### Ошибка\n",
    "    \n",
    "Высокие продажи могут быть вызваны не успехом, а просто огромным количеством игр. Вполне могут быть жанры, где игр немного, но при этом продажи сопоставимы с продажами Экшена. Чтобы проверить это, стоит рассмотреть средние или медианные продажи."
   ]
  },
  {
   "cell_type": "markdown",
   "metadata": {},
   "source": [
    "<div class=\"alert alert-block alert-success\">\n",
    " \n",
    "# Комментарий ревьюера ver.2\n",
    "    \n",
    "#### Успех\n",
    "\n",
    "Вывод изменился и здесь. Отлично получилось"
   ]
  },
  {
   "cell_type": "code",
   "execution_count": 40,
   "metadata": {},
   "outputs": [
    {
     "data": {
      "text/html": [
       "<div>\n",
       "<style scoped>\n",
       "    .dataframe tbody tr th:only-of-type {\n",
       "        vertical-align: middle;\n",
       "    }\n",
       "\n",
       "    .dataframe tbody tr th {\n",
       "        vertical-align: top;\n",
       "    }\n",
       "\n",
       "    .dataframe thead th {\n",
       "        text-align: right;\n",
       "    }\n",
       "</style>\n",
       "<table border=\"1\" class=\"dataframe\">\n",
       "  <thead>\n",
       "    <tr style=\"text-align: right;\">\n",
       "      <th></th>\n",
       "      <th>eu_sales</th>\n",
       "      <th>jp_sales</th>\n",
       "      <th>na_sales</th>\n",
       "      <th>other_sales</th>\n",
       "      <th>total_sales</th>\n",
       "    </tr>\n",
       "    <tr>\n",
       "      <th>genre</th>\n",
       "      <th></th>\n",
       "      <th></th>\n",
       "      <th></th>\n",
       "      <th></th>\n",
       "      <th></th>\n",
       "    </tr>\n",
       "  </thead>\n",
       "  <tbody>\n",
       "    <tr>\n",
       "      <th>Shooter</th>\n",
       "      <td>0.190</td>\n",
       "      <td>0.00</td>\n",
       "      <td>0.200</td>\n",
       "      <td>0.050</td>\n",
       "      <td>0.450</td>\n",
       "    </tr>\n",
       "    <tr>\n",
       "      <th>Sports</th>\n",
       "      <td>0.050</td>\n",
       "      <td>0.00</td>\n",
       "      <td>0.080</td>\n",
       "      <td>0.020</td>\n",
       "      <td>0.240</td>\n",
       "    </tr>\n",
       "    <tr>\n",
       "      <th>Platform</th>\n",
       "      <td>0.080</td>\n",
       "      <td>0.00</td>\n",
       "      <td>0.090</td>\n",
       "      <td>0.025</td>\n",
       "      <td>0.225</td>\n",
       "    </tr>\n",
       "    <tr>\n",
       "      <th>Role-Playing</th>\n",
       "      <td>0.010</td>\n",
       "      <td>0.05</td>\n",
       "      <td>0.020</td>\n",
       "      <td>0.010</td>\n",
       "      <td>0.125</td>\n",
       "    </tr>\n",
       "    <tr>\n",
       "      <th>Fighting</th>\n",
       "      <td>0.020</td>\n",
       "      <td>0.03</td>\n",
       "      <td>0.045</td>\n",
       "      <td>0.010</td>\n",
       "      <td>0.125</td>\n",
       "    </tr>\n",
       "    <tr>\n",
       "      <th>Racing</th>\n",
       "      <td>0.060</td>\n",
       "      <td>0.00</td>\n",
       "      <td>0.030</td>\n",
       "      <td>0.010</td>\n",
       "      <td>0.120</td>\n",
       "    </tr>\n",
       "    <tr>\n",
       "      <th>Action</th>\n",
       "      <td>0.020</td>\n",
       "      <td>0.01</td>\n",
       "      <td>0.020</td>\n",
       "      <td>0.010</td>\n",
       "      <td>0.110</td>\n",
       "    </tr>\n",
       "    <tr>\n",
       "      <th>Simulation</th>\n",
       "      <td>0.035</td>\n",
       "      <td>0.00</td>\n",
       "      <td>0.000</td>\n",
       "      <td>0.005</td>\n",
       "      <td>0.100</td>\n",
       "    </tr>\n",
       "    <tr>\n",
       "      <th>Misc</th>\n",
       "      <td>0.010</td>\n",
       "      <td>0.02</td>\n",
       "      <td>0.010</td>\n",
       "      <td>0.000</td>\n",
       "      <td>0.100</td>\n",
       "    </tr>\n",
       "    <tr>\n",
       "      <th>Strategy</th>\n",
       "      <td>0.025</td>\n",
       "      <td>0.00</td>\n",
       "      <td>0.000</td>\n",
       "      <td>0.000</td>\n",
       "      <td>0.080</td>\n",
       "    </tr>\n",
       "    <tr>\n",
       "      <th>Puzzle</th>\n",
       "      <td>0.000</td>\n",
       "      <td>0.02</td>\n",
       "      <td>0.000</td>\n",
       "      <td>0.000</td>\n",
       "      <td>0.060</td>\n",
       "    </tr>\n",
       "    <tr>\n",
       "      <th>Adventure</th>\n",
       "      <td>0.000</td>\n",
       "      <td>0.01</td>\n",
       "      <td>0.000</td>\n",
       "      <td>0.000</td>\n",
       "      <td>0.030</td>\n",
       "    </tr>\n",
       "  </tbody>\n",
       "</table>\n",
       "</div>"
      ],
      "text/plain": [
       "              eu_sales  jp_sales  na_sales  other_sales  total_sales\n",
       "genre                                                               \n",
       "Shooter          0.190      0.00     0.200        0.050        0.450\n",
       "Sports           0.050      0.00     0.080        0.020        0.240\n",
       "Platform         0.080      0.00     0.090        0.025        0.225\n",
       "Role-Playing     0.010      0.05     0.020        0.010        0.125\n",
       "Fighting         0.020      0.03     0.045        0.010        0.125\n",
       "Racing           0.060      0.00     0.030        0.010        0.120\n",
       "Action           0.020      0.01     0.020        0.010        0.110\n",
       "Simulation       0.035      0.00     0.000        0.005        0.100\n",
       "Misc             0.010      0.02     0.010        0.000        0.100\n",
       "Strategy         0.025      0.00     0.000        0.000        0.080\n",
       "Puzzle           0.000      0.02     0.000        0.000        0.060\n",
       "Adventure        0.000      0.01     0.000        0.000        0.030"
      ]
     },
     "execution_count": 40,
     "metadata": {},
     "output_type": "execute_result"
    }
   ],
   "source": [
    "# создадим сводную таблицу о продажах по жанрам игр\n",
    "(actual_data\n",
    "    .pivot_table(index='genre', values=['total_sales', 'na_sales', 'eu_sales', 'jp_sales', 'other_sales'], aggfunc='median')\n",
    "    .sort_values(by='total_sales', ascending=False)\n",
    ")"
   ]
  },
  {
   "cell_type": "markdown",
   "metadata": {},
   "source": [
    "<div class=\"alert alert-block alert-info\">\n",
    " \n",
    "### Комментарий студента\n",
    "    \n",
    "Однако, чтобы судить о популярности того или иного жанра нужно нивелировать влияние количества выпускаемых игр. Это можно сделать с помощью медианы (среднее будет завышено в некоторых жанрах из-за отдельных хитов). \n",
    "    \n",
    "Согласно полученной таблице самыми популярными жанрами в мире являются `Shooter`, `Sports`, `Platform`. Наименее популярными - `Strategy`, `Adventure`, `Puzzle`. \n",
    "    \n",
    "Отдельные предпочтения в регионах обсудим в следующем разделе."
   ]
  },
  {
   "cell_type": "markdown",
   "metadata": {},
   "source": [
    "Резюмируем по данному разделу:\n",
    "+ Жизненный цикл основных игровых платформ 9-11 лет.\n",
    "+ Для прогнозирования продаж на 2017 год было принято решение о использовании данных за последние 3 года. Это связано с развитием в указанный период нового поколения игровых консолей PlayStation, Xbox, Nintendo. \n",
    "+ Лидирующими по суммарным продажам являются платформы PS4, XOne, 3DS. Причем у первых двух продажи растут от год года.\n",
    "+ Специфика игрового рынка заключается в наличие небольшого количества продуктов с очень большими показателями продаж, что при статистической обработке будет признано за выбросы, поэтому не следует применять классические подходы очистки данных.\n",
    "+ Однако статистически выделяются три платформы, имеющие наибольший охват PS4, XOne и WiiU, которые к тому же имеют примерно одинаковое среднее по суммарным продажам.\n",
    "+ Мы установили положительную корреляцию между оценкой критиков и продажами. Корреляция между оценкой пользователей и продажами практически отсутствует кроме игр для платформ WiiU и 3DS.\n",
    "+ Абсолютными лидирующими жанрами в продажах являются такие жанры как `Action`, `Shooter`, `Role-Playing`, `Sports`. Меньшие продажи игр в жанрах `Adventure`, `Strategy`, `Puzzle`.\n",
    "+ Наиболее популярными в мире жанрами являются `Shooter`, `Sports`, `Platform`.  Наименее популярными - `Strategy`, `Adventure`, `Puzzle`. \n",
    " "
   ]
  },
  {
   "cell_type": "markdown",
   "metadata": {},
   "source": [
    "## Портрет пользователя"
   ]
  },
  {
   "cell_type": "markdown",
   "metadata": {},
   "source": [
    "### Самые популярные платформы"
   ]
  },
  {
   "cell_type": "code",
   "execution_count": 41,
   "metadata": {},
   "outputs": [
    {
     "data": {
      "text/html": [
       "<div>\n",
       "<style scoped>\n",
       "    .dataframe tbody tr th:only-of-type {\n",
       "        vertical-align: middle;\n",
       "    }\n",
       "\n",
       "    .dataframe tbody tr th {\n",
       "        vertical-align: top;\n",
       "    }\n",
       "\n",
       "    .dataframe thead th {\n",
       "        text-align: right;\n",
       "    }\n",
       "</style>\n",
       "<table border=\"1\" class=\"dataframe\">\n",
       "  <thead>\n",
       "    <tr style=\"text-align: right;\">\n",
       "      <th></th>\n",
       "      <th>eu_sales</th>\n",
       "      <th>jp_sales</th>\n",
       "      <th>na_sales</th>\n",
       "    </tr>\n",
       "    <tr>\n",
       "      <th>platform</th>\n",
       "      <th></th>\n",
       "      <th></th>\n",
       "      <th></th>\n",
       "    </tr>\n",
       "  </thead>\n",
       "  <tbody>\n",
       "    <tr>\n",
       "      <th>3DS</th>\n",
       "      <td>30.96</td>\n",
       "      <td>67.81</td>\n",
       "      <td>38.20</td>\n",
       "    </tr>\n",
       "    <tr>\n",
       "      <th>DS</th>\n",
       "      <td>0.85</td>\n",
       "      <td>0.00</td>\n",
       "      <td>0.57</td>\n",
       "    </tr>\n",
       "    <tr>\n",
       "      <th>PC</th>\n",
       "      <td>25.36</td>\n",
       "      <td>0.00</td>\n",
       "      <td>11.11</td>\n",
       "    </tr>\n",
       "    <tr>\n",
       "      <th>PS3</th>\n",
       "      <td>67.81</td>\n",
       "      <td>23.35</td>\n",
       "      <td>63.50</td>\n",
       "    </tr>\n",
       "    <tr>\n",
       "      <th>PS4</th>\n",
       "      <td>141.09</td>\n",
       "      <td>15.96</td>\n",
       "      <td>108.74</td>\n",
       "    </tr>\n",
       "    <tr>\n",
       "      <th>PSP</th>\n",
       "      <td>0.17</td>\n",
       "      <td>3.29</td>\n",
       "      <td>0.00</td>\n",
       "    </tr>\n",
       "    <tr>\n",
       "      <th>PSV</th>\n",
       "      <td>6.10</td>\n",
       "      <td>18.59</td>\n",
       "      <td>5.04</td>\n",
       "    </tr>\n",
       "    <tr>\n",
       "      <th>Wii</th>\n",
       "      <td>5.93</td>\n",
       "      <td>0.05</td>\n",
       "      <td>6.56</td>\n",
       "    </tr>\n",
       "    <tr>\n",
       "      <th>WiiU</th>\n",
       "      <td>19.85</td>\n",
       "      <td>10.88</td>\n",
       "      <td>29.21</td>\n",
       "    </tr>\n",
       "    <tr>\n",
       "      <th>X360</th>\n",
       "      <td>42.52</td>\n",
       "      <td>0.51</td>\n",
       "      <td>81.66</td>\n",
       "    </tr>\n",
       "    <tr>\n",
       "      <th>XOne</th>\n",
       "      <td>51.59</td>\n",
       "      <td>0.34</td>\n",
       "      <td>93.12</td>\n",
       "    </tr>\n",
       "  </tbody>\n",
       "</table>\n",
       "</div>"
      ],
      "text/plain": [
       "          eu_sales  jp_sales  na_sales\n",
       "platform                              \n",
       "3DS          30.96     67.81     38.20\n",
       "DS            0.85      0.00      0.57\n",
       "PC           25.36      0.00     11.11\n",
       "PS3          67.81     23.35     63.50\n",
       "PS4         141.09     15.96    108.74\n",
       "PSP           0.17      3.29      0.00\n",
       "PSV           6.10     18.59      5.04\n",
       "Wii           5.93      0.05      6.56\n",
       "WiiU         19.85     10.88     29.21\n",
       "X360         42.52      0.51     81.66\n",
       "XOne         51.59      0.34     93.12"
      ]
     },
     "execution_count": 41,
     "metadata": {},
     "output_type": "execute_result"
    }
   ],
   "source": [
    "# создадим сводную таблицу с региональными продажами по платформам\n",
    "data_regions_platfom = (actual_data\n",
    "    .pivot_table(index='platform', values=['na_sales', 'eu_sales', 'jp_sales'], aggfunc='sum')\n",
    ")\n",
    "data_regions_platfom"
   ]
  },
  {
   "cell_type": "code",
   "execution_count": 42,
   "metadata": {},
   "outputs": [
    {
     "data": {
      "image/png": "[encoded data removed]",
      "text/plain": [
       "<Figure size 360x360 with 1 Axes>"
      ]
     },
     "metadata": {
      "needs_background": "light"
     },
     "output_type": "display_data"
    },
    {
     "data": {
      "image/png": "[encoded data removed]",
      "text/plain": [
       "<Figure size 360x360 with 1 Axes>"
      ]
     },
     "metadata": {
      "needs_background": "light"
     },
     "output_type": "display_data"
    },
    {
     "data": {
      "image/png": "[encoded data removed]",
      "text/plain": [
       "<Figure size 360x360 with 1 Axes>"
      ]
     },
     "metadata": {
      "needs_background": "light"
     },
     "output_type": "display_data"
    }
   ],
   "source": [
    "# для каждого региона построим диаграмму\n",
    "for region in data_regions_platfom.columns:\n",
    "    \n",
    "    data_regions_platfom[region].sort_values().tail(5).plot(kind='barh', figsize=(5, 5))\n",
    "    \n",
    "    region_name = region.split('_')[0].title()\n",
    "    \n",
    "    plt.title(f'Топ-5 платформ в регионе {region_name}')\n",
    "    plt.ylabel('Платформы')\n",
    "    plt.xlabel('Продажи, млн. шт.')\n",
    "    plt.grid(True)\n",
    "    plt.show()"
   ]
  },
  {
   "cell_type": "markdown",
   "metadata": {},
   "source": [
    "<div class=\"alert alert-block alert-success\">\n",
    " \n",
    "### Комментарий ревьюера\n",
    "    \n",
    "#### Успех\n",
    "\n",
    "Первичное представление о регионах получено"
   ]
  },
  {
   "cell_type": "markdown",
   "metadata": {},
   "source": [
    "Совсем непохожими по самым популярным платформам получились регионы:\n",
    "+ В **Европе** однозначно ценят Playstation, причем она занимает первые две строчки (PS4 - свыше 140 млн. и PS3 - свыше 100). Заметно отстает Xbox, представленный тоже двумя поколениями (X360 - более 70 млн, Xone - около 50). На последнем месте топа 3DS - чуть более 40 млн.\n",
    "+ Противоположные предпочтения имеют в **Японском регионе**. Так 3DS там является абсолютным лидером (около 90 млн.). С заметным отставанием располагаются приставки Sony (PS3 - 35 млн., PSV - 21 млн., PS4 - 16 млн.). Замыкает топ-5 платформа WiiU - около 3 млн. Стоит отметить, что в этом регионе практически полностью отсутствует интерес к продуктам Microsoft (платформы Xbox, PC).\n",
    "+ В отличие от Японии **Североамериканский регион** наоборот больше всего предпочитает продукты Microsoft. На первом месте X360 - 140 млн., дальше два поколения приставок PlayStation (PS4 - 109 млн. PS3 - 103 млн.) и последней в топе платформа 3DS - 55 млн."
   ]
  },
  {
   "cell_type": "markdown",
   "metadata": {},
   "source": [
    "### Самые популярные жанры игр"
   ]
  },
  {
   "cell_type": "code",
   "execution_count": 43,
   "metadata": {},
   "outputs": [
    {
     "data": {
      "text/html": [
       "<div>\n",
       "<style scoped>\n",
       "    .dataframe tbody tr th:only-of-type {\n",
       "        vertical-align: middle;\n",
       "    }\n",
       "\n",
       "    .dataframe tbody tr th {\n",
       "        vertical-align: top;\n",
       "    }\n",
       "\n",
       "    .dataframe thead th {\n",
       "        text-align: right;\n",
       "    }\n",
       "</style>\n",
       "<table border=\"1\" class=\"dataframe\">\n",
       "  <thead>\n",
       "    <tr style=\"text-align: right;\">\n",
       "      <th></th>\n",
       "      <th>eu_sales</th>\n",
       "      <th>jp_sales</th>\n",
       "      <th>na_sales</th>\n",
       "    </tr>\n",
       "    <tr>\n",
       "      <th>genre</th>\n",
       "      <th></th>\n",
       "      <th></th>\n",
       "      <th></th>\n",
       "    </tr>\n",
       "  </thead>\n",
       "  <tbody>\n",
       "    <tr>\n",
       "      <th>Action</th>\n",
       "      <td>0.03</td>\n",
       "      <td>0.00</td>\n",
       "      <td>0.10</td>\n",
       "    </tr>\n",
       "    <tr>\n",
       "      <th>Adventure</th>\n",
       "      <td>0.00</td>\n",
       "      <td>0.01</td>\n",
       "      <td>0.00</td>\n",
       "    </tr>\n",
       "    <tr>\n",
       "      <th>Fighting</th>\n",
       "      <td>0.02</td>\n",
       "      <td>0.02</td>\n",
       "      <td>0.08</td>\n",
       "    </tr>\n",
       "    <tr>\n",
       "      <th>Misc</th>\n",
       "      <td>0.01</td>\n",
       "      <td>0.00</td>\n",
       "      <td>0.08</td>\n",
       "    </tr>\n",
       "    <tr>\n",
       "      <th>Platform</th>\n",
       "      <td>0.05</td>\n",
       "      <td>0.00</td>\n",
       "      <td>0.14</td>\n",
       "    </tr>\n",
       "    <tr>\n",
       "      <th>Puzzle</th>\n",
       "      <td>0.01</td>\n",
       "      <td>0.00</td>\n",
       "      <td>0.05</td>\n",
       "    </tr>\n",
       "    <tr>\n",
       "      <th>Racing</th>\n",
       "      <td>0.04</td>\n",
       "      <td>0.00</td>\n",
       "      <td>0.10</td>\n",
       "    </tr>\n",
       "    <tr>\n",
       "      <th>Role-Playing</th>\n",
       "      <td>0.01</td>\n",
       "      <td>0.05</td>\n",
       "      <td>0.04</td>\n",
       "    </tr>\n",
       "    <tr>\n",
       "      <th>Shooter</th>\n",
       "      <td>0.05</td>\n",
       "      <td>0.00</td>\n",
       "      <td>0.12</td>\n",
       "    </tr>\n",
       "    <tr>\n",
       "      <th>Simulation</th>\n",
       "      <td>0.01</td>\n",
       "      <td>0.00</td>\n",
       "      <td>0.07</td>\n",
       "    </tr>\n",
       "    <tr>\n",
       "      <th>Sports</th>\n",
       "      <td>0.02</td>\n",
       "      <td>0.00</td>\n",
       "      <td>0.11</td>\n",
       "    </tr>\n",
       "    <tr>\n",
       "      <th>Strategy</th>\n",
       "      <td>0.01</td>\n",
       "      <td>0.00</td>\n",
       "      <td>0.00</td>\n",
       "    </tr>\n",
       "  </tbody>\n",
       "</table>\n",
       "</div>"
      ],
      "text/plain": [
       "              eu_sales  jp_sales  na_sales\n",
       "genre                                     \n",
       "Action            0.03      0.00      0.10\n",
       "Adventure         0.00      0.01      0.00\n",
       "Fighting          0.02      0.02      0.08\n",
       "Misc              0.01      0.00      0.08\n",
       "Platform          0.05      0.00      0.14\n",
       "Puzzle            0.01      0.00      0.05\n",
       "Racing            0.04      0.00      0.10\n",
       "Role-Playing      0.01      0.05      0.04\n",
       "Shooter           0.05      0.00      0.12\n",
       "Simulation        0.01      0.00      0.07\n",
       "Sports            0.02      0.00      0.11\n",
       "Strategy          0.01      0.00      0.00"
      ]
     },
     "execution_count": 43,
     "metadata": {},
     "output_type": "execute_result"
    }
   ],
   "source": [
    "# создадим сводную таблицу с региональными продажами по жанрам\n",
    "data_regions_genre = (data\n",
    "    .pivot_table(index='genre', values=['na_sales', 'eu_sales', 'jp_sales'], aggfunc='median') # используем медиану для оценки популярности\n",
    ")\n",
    "data_regions_genre"
   ]
  },
  {
   "cell_type": "code",
   "execution_count": 53,
   "metadata": {},
   "outputs": [
    {
     "data": {
      "image/png": "[encoded data removed]",
      "text/plain": [
       "<Figure size 360x360 with 1 Axes>"
      ]
     },
     "metadata": {
      "needs_background": "light"
     },
     "output_type": "display_data"
    },
    {
     "data": {
      "image/png": "[encoded data removed]",
      "text/plain": [
       "<Figure size 360x360 with 1 Axes>"
      ]
     },
     "metadata": {
      "needs_background": "light"
     },
     "output_type": "display_data"
    },
    {
     "data": {
      "image/png": "[encoded data removed]",
      "text/plain": [
       "<Figure size 360x360 with 1 Axes>"
      ]
     },
     "metadata": {
      "needs_background": "light"
     },
     "output_type": "display_data"
    }
   ],
   "source": [
    "# для каждого региона построим диаграмму\n",
    "for region in data_regions_genre.columns:\n",
    "    \n",
    "    data_regions_genre[region].sort_values().tail(5).plot(kind='barh', figsize=(5, 5))\n",
    "    \n",
    "    region_name = region.split('_')[0].title()\n",
    "    \n",
    "    plt.title(f'Топ-5 жанров игр в регионе {region_name}')\n",
    "    plt.ylabel('Игровые жанры')\n",
    "    plt.xlabel('Медианные продажи, млн. шт.')\n",
    "    plt.grid(True) \n",
    "    plt.show()"
   ]
  },
  {
   "cell_type": "markdown",
   "metadata": {},
   "source": [
    "Самые популярные игровые жанры **Европейского** и **Североамериканского** регионов очень сходны:\n",
    "+ `Shooter`/ `Platform;\n",
    "+ `Platform`/ `Shooter`;\n",
    "+ `Racing`/ `Sports`;\n",
    "+ `Action`/`Racing`;\n",
    "+ `Sports` / `Action`.\n",
    " \n",
    "Разница заключается лишь в порядке позиций. Такое сходство объясняется идентичностью культурных и социальных особенностей.\n",
    "\n",
    "В **Японском** регионе самыми популярными жанрами являются:\n",
    "+ `Role-Playing`;\n",
    "+ `Fighting`;\n",
    "+ `Adventure`;\n",
    "+ `Strategy`;\n",
    "+ `Sports`.\n",
    "\n",
    "Это подчеркивает самобытность японской культуры и вкусы игроков."
   ]
  },
  {
   "cell_type": "markdown",
   "metadata": {},
   "source": [
    "<div class=\"alert alert-block alert-success\">\n",
    " \n",
    "### Комментарий ревьюера\n",
    "    \n",
    "#### Успех\n",
    "\n",
    "А вот здесь хорошо заметно, что Япония наиболее уникальна среди регионов"
   ]
  },
  {
   "cell_type": "markdown",
   "metadata": {},
   "source": [
    "### Влияние рейтинга ESRB на продажи"
   ]
  },
  {
   "cell_type": "code",
   "execution_count": 45,
   "metadata": {},
   "outputs": [
    {
     "data": {
      "text/plain": [
       "array(['M', 'E', 'T', 'E10+'], dtype=object)"
      ]
     },
     "execution_count": 45,
     "metadata": {},
     "output_type": "execute_result"
    }
   ],
   "source": [
    "# выделим нужные данные в отдельный датафрейм\n",
    "data_esrb = (actual_data.query('rating != \"Not Yet Rated\"') # отфильтруем данные\n",
    "                    .loc[:, ['rating', 'total_sales', 'na_sales', 'eu_sales', 'jp_sales']] # оставим колонки с продажами\n",
    "              )\n",
    "data_esrb['rating'].unique()"
   ]
  },
  {
   "cell_type": "markdown",
   "metadata": {},
   "source": [
    "Преобразуем наши категориальные данные в числа для того, чтобы можно было найти коэффициент корреляции."
   ]
  },
  {
   "cell_type": "code",
   "execution_count": 46,
   "metadata": {},
   "outputs": [],
   "source": [
    "# Функция принимает значение и присваивает число в зависимости от рейтинга\n",
    "def categorise_esrb(rating):\n",
    "    if rating == 'M':\n",
    "        return 17 # числа взяты по минимальному порогу для каждой категории рейтинга\n",
    "    elif rating == 'E':\n",
    "        return 0\n",
    "    elif rating == 'E10+':\n",
    "        return 10\n",
    "    else:\n",
    "        return 13"
   ]
  },
  {
   "cell_type": "code",
   "execution_count": 47,
   "metadata": {},
   "outputs": [
    {
     "data": {
      "text/html": [
       "<div>\n",
       "<style scoped>\n",
       "    .dataframe tbody tr th:only-of-type {\n",
       "        vertical-align: middle;\n",
       "    }\n",
       "\n",
       "    .dataframe tbody tr th {\n",
       "        vertical-align: top;\n",
       "    }\n",
       "\n",
       "    .dataframe thead th {\n",
       "        text-align: right;\n",
       "    }\n",
       "</style>\n",
       "<table border=\"1\" class=\"dataframe\">\n",
       "  <thead>\n",
       "    <tr style=\"text-align: right;\">\n",
       "      <th></th>\n",
       "      <th>rating</th>\n",
       "      <th>total_sales</th>\n",
       "      <th>na_sales</th>\n",
       "      <th>eu_sales</th>\n",
       "      <th>jp_sales</th>\n",
       "      <th>rating_encoded</th>\n",
       "    </tr>\n",
       "  </thead>\n",
       "  <tbody>\n",
       "    <tr>\n",
       "      <th>0</th>\n",
       "      <td>M</td>\n",
       "      <td>21.05</td>\n",
       "      <td>7.02</td>\n",
       "      <td>9.09</td>\n",
       "      <td>0.98</td>\n",
       "      <td>17</td>\n",
       "    </tr>\n",
       "    <tr>\n",
       "      <th>1</th>\n",
       "      <td>M</td>\n",
       "      <td>16.27</td>\n",
       "      <td>9.66</td>\n",
       "      <td>5.14</td>\n",
       "      <td>0.06</td>\n",
       "      <td>17</td>\n",
       "    </tr>\n",
       "    <tr>\n",
       "      <th>4</th>\n",
       "      <td>M</td>\n",
       "      <td>12.62</td>\n",
       "      <td>3.96</td>\n",
       "      <td>6.31</td>\n",
       "      <td>0.38</td>\n",
       "      <td>17</td>\n",
       "    </tr>\n",
       "  </tbody>\n",
       "</table>\n",
       "</div>"
      ],
      "text/plain": [
       "  rating  total_sales  na_sales  eu_sales  jp_sales  rating_encoded\n",
       "0      M        21.05      7.02      9.09      0.98              17\n",
       "1      M        16.27      9.66      5.14      0.06              17\n",
       "4      M        12.62      3.96      6.31      0.38              17"
      ]
     },
     "execution_count": 47,
     "metadata": {},
     "output_type": "execute_result"
    }
   ],
   "source": [
    "# применим функцию к каждой строке\n",
    "data_esrb['rating_encoded'] = data_esrb['rating'].apply(categorise_esrb)\n",
    "data_esrb.head(3)"
   ]
  },
  {
   "cell_type": "code",
   "execution_count": 48,
   "metadata": {},
   "outputs": [],
   "source": [
    "# функция принимает название столбца, вычисляет и печатает коэффициент корреляции Пирсона\n",
    "def compute_corr(column):\n",
    "    \n",
    "    corr_coeff = data_esrb['rating_encoded'].corr(data_esrb[column])\n",
    "    \n",
    "    print(f'Коэффициент корреляции между рейтингом ESRB и \"{column}\": {corr_coeff:.2f}')"
   ]
  },
  {
   "cell_type": "code",
   "execution_count": 49,
   "metadata": {},
   "outputs": [
    {
     "name": "stdout",
     "output_type": "stream",
     "text": [
      "Коэффициент корреляции между рейтингом ESRB и \"total_sales\": 0.06\n",
      "Коэффициент корреляции между рейтингом ESRB и \"na_sales\": 0.07\n",
      "Коэффициент корреляции между рейтингом ESRB и \"eu_sales\": 0.04\n",
      "Коэффициент корреляции между рейтингом ESRB и \"jp_sales\": -0.01\n"
     ]
    }
   ],
   "source": [
    "features_to_corr = ['total_sales', 'na_sales', 'eu_sales', 'jp_sales']\n",
    "\n",
    "for sales in features_to_corr:\n",
    "    compute_corr(sales)"
   ]
  },
  {
   "cell_type": "markdown",
   "metadata": {},
   "source": [
    "Можно сказать, что данные рейтинга и продаж не взаимосвязаны."
   ]
  },
  {
   "cell_type": "code",
   "execution_count": 50,
   "metadata": {
    "scrolled": true
   },
   "outputs": [
    {
     "data": {
      "image/png": "[encoded data removed]",
      "text/plain": [
       "<Figure size 360x360 with 1 Axes>"
      ]
     },
     "metadata": {
      "needs_background": "light"
     },
     "output_type": "display_data"
    },
    {
     "data": {
      "image/png": "[encoded data removed]",
      "text/plain": [
       "<Figure size 360x360 with 1 Axes>"
      ]
     },
     "metadata": {
      "needs_background": "light"
     },
     "output_type": "display_data"
    },
    {
     "data": {
      "image/png": "[encoded data removed]",
      "text/plain": [
       "<Figure size 360x360 with 1 Axes>"
      ]
     },
     "metadata": {
      "needs_background": "light"
     },
     "output_type": "display_data"
    }
   ],
   "source": [
    "for region in ['na_sales', 'eu_sales', 'jp_sales']: \n",
    "    \n",
    "    data_esrb.plot(kind='scatter', x='rating', y=region, figsize=(5, 5))\n",
    "    \n",
    "    region_name = region.split('_')[0].title()\n",
    "    \n",
    "    plt.title(f'Диаграмма рассеивания в регионе {region_name}')\n",
    "    plt.ylabel('Продажи, млн. шт.')\n",
    "    plt.xlabel('ESRB рейтинг')\n",
    "    plt.grid(True)\n",
    "    plt.show()"
   ]
  },
  {
   "cell_type": "markdown",
   "metadata": {},
   "source": [
    "По диаграммам рассеивания видно, что в большинстве своем игры продавались одинаково для всех рейтингов. Можно сказать, что для определенных рейтингов существует больше отдельных игр, проданных большим тиражом. Так, например в **Европе** и **Северной Америке** больше хитов для рейтинга `M`, в **Японии**, напротив, потенциальные хиты находятся в детских играх."
   ]
  },
  {
   "cell_type": "markdown",
   "metadata": {},
   "source": [
    "**Вывод:**\n",
    "По итогам этого раздела мы получили описание пользователя, характерное для региона:\n",
    "+ **Европа:** предпочитающие новинки в игровом мире, преимущественно использующие платформы PlayStation и Xbox. Жанровые предпочтения стандартные для общемирового - `Action`, `Sports`, `Shooter`, `Platform`, `Racing`.\n",
    "+ **Северная Америка:** пользователи больше предпочитают играть на платформе от Microsoft, но также велика доля приставок PS4 и PS3. Жанровые предпочтения совпадают с европейцами, отличается лишь порядком позиций.\n",
    "+ **Япония:** отличается от других регионов как предпочитаемой платформой - 3DS и много меньше PlayStation(ценят портативные консоли), так и жанровым топом игр - на первом месте это ролевые игры, а стандартные стрелялки не попали даже в топ-5.\n",
    "\n",
    "Корреляции между рейтингом ESRB  и продажами выявлено не было. Но из особенностей, связанных с этим рейтингом, можно выделить, что в **Европе** и **Северной Америке** больше хитов, имеющих большие продажи, получают рейтинг `M`, а в **Японии** такие хиты имеют рейтинг `E`.\n"
   ]
  },
  {
   "cell_type": "markdown",
   "metadata": {},
   "source": [
    "<div class=\"alert alert-block alert-success\">\n",
    " \n",
    "### Комментарий ревьюера\n",
    "    \n",
    "#### Успех\n",
    "\n",
    "Рассмотрев каждый из регионов мы пришли к выводу, что у всех есть своя специфика и это точно стоит учитывать при прогноза на 2017 год."
   ]
  },
  {
   "cell_type": "markdown",
   "metadata": {},
   "source": [
    "## Проверка гипотез"
   ]
  },
  {
   "cell_type": "markdown",
   "metadata": {},
   "source": [
    "### Гипотеза 1. Средние пользовательские рейтинги платформ Xbox One и PC одинаковые"
   ]
  },
  {
   "cell_type": "markdown",
   "metadata": {},
   "source": [
    "Перед нами стоит задача сравнить две выборки пользовательского рейтинга для разных платформ. Эти выборки независимые. Требуется узнать равны ли выборочные средние. \n",
    "\n",
    "За нулевую гипотезу примем следующее утверждение: **Среднее пользовательского рейтинга для Xbox One равно среднему пользовательского рейтинга PC.**\n",
    "\n",
    "За альтернативную гипотезу примем: **Среднее пользовательского рейтинга для Xbox One *не* равно среднему пользовательского рейтинга PC.**\n",
    "\n",
    "Таким образом, мы будем проводить двухвыборочный одностороний тест для независимых выборок."
   ]
  },
  {
   "cell_type": "code",
   "execution_count": 51,
   "metadata": {},
   "outputs": [
    {
     "name": "stdout",
     "output_type": "stream",
     "text": [
      "Нулевая гипотеза: выборочные средние равны.\n",
      "Альтернативная гипотеза: выборочные средние не равны.\n",
      "--------------------------------------------------------------------------------\n",
      "p-value: 0.14012658403611647\n",
      "Не получилось отвергнуть нулевую гипотезу\n",
      "Среднее пользовательского рейтинга для Xbox One равно среднему пользовательского рейтинга PC.\n"
     ]
    }
   ],
   "source": [
    "# создаем две независимые выборки\n",
    "user_score_xbox = actual_data.query('platform == \"XOne\" and user_score > -1.0')['user_score']\n",
    "user_score_pc = actual_data.query('platform == \"PC\" and user_score > -1.0')['user_score']\n",
    "\n",
    "# уровень значимости\n",
    "alpha = .05\n",
    "\n",
    "results = st.ttest_ind(user_score_xbox, user_score_pc) \n",
    "\n",
    "print('Нулевая гипотеза: выборочные средние равны.')\n",
    "print('Альтернативная гипотеза: выборочные средние не равны.')\n",
    "print('-' * 80)\n",
    "print('p-value:', results.pvalue)\n",
    "\n",
    "if results.pvalue < alpha:\n",
    "    print('Отвергаем нулевую гипотезу в пользу альтернативной.')\n",
    "    print('Среднее пользовательского рейтинга для Xbox One не равно среднему пользовательского рейтинга PC.')\n",
    "else:\n",
    "    print('Не получилось отвергнуть нулевую гипотезу')\n",
    "    print('Среднее пользовательского рейтинга для Xbox One равно среднему пользовательского рейтинга PC.')"
   ]
  },
  {
   "cell_type": "markdown",
   "metadata": {},
   "source": [
    "Вероятность того, что выборочные средние будут равны, очень высока и не позволяет нам опровергнуть нулевую гипотезу."
   ]
  },
  {
   "cell_type": "markdown",
   "metadata": {},
   "source": [
    "<div class=\"alert alert-block alert-success\">\n",
    " \n",
    "### Комментарий ревьюера\n",
    "    \n",
    "#### Успех\n",
    "\n",
    "Гипотезы сформулированы и верно определен метод проверки. С выводами согласен. "
   ]
  },
  {
   "cell_type": "markdown",
   "metadata": {},
   "source": [
    "### Гипотеза 2. Средние пользовательские рейтинги жанров Action (англ. «действие», экшен-игры) и Sports (англ. «спортивные соревнования») разные."
   ]
  },
  {
   "cell_type": "markdown",
   "metadata": {},
   "source": [
    "Снова имеем две независимые выборки пользовательского рейтинга разных жанров. На этот раз требуется установить, что рейтинги не равны. Но утверждение о равенстве средних значений может не только утверждать равенство, в случае опровержения утверждения мы получаем подтверждение обратного, поэтому:\n",
    "+ Нулевая гипотеза: **Среднее пользовательского рейтинга жанра  Action равно среднему пользовательского рейтинга жанра  Sports.**\n",
    "+ Альтернативная гипотеза: **Среднее пользовательского рейтинга жанра  Action *не* равно среднему пользовательского рейтинга жанра  Sports.**\n",
    "\n",
    "С помщью теста Стьюдента выясним это."
   ]
  },
  {
   "cell_type": "code",
   "execution_count": 52,
   "metadata": {},
   "outputs": [
    {
     "name": "stdout",
     "output_type": "stream",
     "text": [
      "Нулевая гипотеза: выборочные средние равны.\n",
      "Альтернативная гипотеза: выборочные средние не равны.\n",
      "--------------------------------------------------------------------------------\n",
      "p-value: 1.0517832389140023e-27\n",
      "Отвергаем нулевую гипотезу в пользу альтернативной.\n",
      "Среднее пользовательского рейтинга жанра Action не равно среднему пользовательского рейтинга жанра Sports.\n"
     ]
    }
   ],
   "source": [
    "# создаем две независимые выборки\n",
    "user_score_action = actual_data.query('genre == \"Action\" and user_score > -1.0')['user_score']\n",
    "user_score_sports = actual_data.query('genre == \"Sports\" and user_score > -1.0')['user_score']\n",
    "\n",
    "# уровень значимости\n",
    "alpha = .05\n",
    "\n",
    "results = st.ttest_ind(user_score_action, user_score_sports) \n",
    "\n",
    "print('Нулевая гипотеза: выборочные средние равны.')\n",
    "print('Альтернативная гипотеза: выборочные средние не равны.')\n",
    "print('-' * 80)\n",
    "print('p-value:', results.pvalue)\n",
    "\n",
    "if results.pvalue < alpha:\n",
    "    print('Отвергаем нулевую гипотезу в пользу альтернативной.')\n",
    "    print('Среднее пользовательского рейтинга жанра Action не равно среднему пользовательского рейтинга жанра Sports.')\n",
    "else:\n",
    "    print('Не получилось отвергнуть нулевую гипотезу')\n",
    "    print('Среднее пользовательского рейтинга жанра Action равно среднему пользовательского рейтинга жанра Sports.')"
   ]
  },
  {
   "cell_type": "markdown",
   "metadata": {},
   "source": [
    "Вероятность того, что средние выборочные равны несущественна. Поэтому средние значения не равны, а значит пользовательские рейтинги для данных жанров разные."
   ]
  },
  {
   "cell_type": "markdown",
   "metadata": {},
   "source": [
    "<div class=\"alert alert-block alert-success\">\n",
    " \n",
    "### Комментарий ревьюера\n",
    "    \n",
    "#### Успех\n",
    "\n",
    "Аналогично"
   ]
  },
  {
   "cell_type": "markdown",
   "metadata": {},
   "source": [
    "**Вывод:**  \n",
    "Подтвердив гипотезу **Средние пользовательские рейтинги платформ Xbox One и PC одинаковые**, мы можем утверждать, что игроки этих платформ имеют схожее мнение и оценку игр, значит можно использовать однаковую рекламную кампанию для этих аудиторий.\n",
    "\n",
    "Также мы узнали, что статистически **средние пользовательские рейтинги жанров Action и Sports разные**. Это значит, что игроки по разному относятся к этим жанрам, и их следует относить к разным аудиториям, а значит применять разную рекламу для них."
   ]
  },
  {
   "cell_type": "markdown",
   "metadata": {},
   "source": [
    "## Общий вывод"
   ]
  },
  {
   "cell_type": "markdown",
   "metadata": {},
   "source": [
    "Данные были получены из открытых источников в виде csv-таблицы. В ходе предобработки данных были выявлены следующие проблемы:\n",
    "+ названия некоторых столбцов были некорректно записаны. В ходе работы это было исправлено\n",
    "+ большое количество пропусков в столбцах `critic_score`, `user-score` и `rating`. Вероятно часть данных отсутствовала в открытых источниках, а часть, например рейтинг ESRB не был получен, т.к. является необязательным. Чтобы избежать потери данных, пропуски были заменены на специальные маркеры, позволяющие легко отфильровать пропуски. \n",
    "+ ошибки в типах данных столбцов `year_of_release`, `user_score`. Были приведены к правильному типу данных.\n",
    "+ дубликатов явных и неявных выявлено не было.\n",
    "\n",
    "В целом, очень критичным является отсутствие столь большого количества оценок, которые являются центральным предметом исследования. Замена на среднее значение или медиану здесь была бы неуместна.\n",
    "\n",
    "На основании подготовленных данных было проведен исследовательский анализ данных в ходе которого были сделаны важные выводы:\n",
    "\n",
    "+ охват данных составляет с 1980 по 2016 год. Низкое разнообразие игровых платформ и качество данных, небольшое количество вышедших игр до 1990 указывает на целесообразность учитывать данные после 1990 года. Также выявив средний жизненный цикл игровой платформы за исключением компьютера, равный в среднем 10 годам, и установив, что на настоящее время (2016 год) является пиком в развитие основополагающих для рынка платформ `PS4`, `XOne`, `WiiU`, приняли решение о рассмотрение данных с 2013 года по настояшее время. Данные за этот период являются актуальными в игровой индустрии и позволят сделать прогноз на продажи в будущем году более точным.\n",
    "+ в актуальный период был выделен топ платформ, который сохранит позиции и в будущем году:\n",
    "    + PS4 (ожидается рост);\n",
    "    + XOne (ожидается рост);\n",
    "    + 3DS (ожидается падение спроса);\n",
    "    + PC, WiiU (стабильные платформы)  \n",
    " \n",
    "+ между оценкой критиков и суммарными продажами существует положительная корреляция, т.е. игры с большими продажами получают высокие оценки, однако коэффициент корреляции не достаточно высокий (0,4), чтобы говорить о сильной связи. Между оценками пользователей и суммарными продажами наблюдается околонулевая и даже отрицательная связь. Продажи по регионам примерно одинаково взаимосвязаны с оценкой критиков. Колебания коэффициента корреляции составляют от 0.32 (JP) до 0.41(NA). Во взаимосвязи оценки пользователей и продажами по регионам схожая ситуация как и с суммарными продажами за исключением Японии, продажи которой демонстрируют очень слабую, но положительную корреляцию (0.17) и сегмент игр, выходящий для приставок `WiiU`, `3DS`, где мы видим, что корреляция между разным типом оценок и продажами практически сходна. Из этого следует общая рекомендация, что для оценивания продаж можно использовать только оценки критиков, но с осторожностью.\n",
    "+ касательно жанров можно сказать, что абсолютными лидирующими жанрами в продажах являются такие жанры как `Shooter`, `Sports`, `Platform`. Непопулярными считаются жанры `Adventure`, `Strategy`, `Puzzle`.\n",
    "\n",
    "В ходе исследования было неоднократно подмечено разница между рынками разных регионов, поэтому, чтобы сделать метрики более точными, необходимо учесть региональные особенности:\n",
    "+ **Европа:** пользователи одними из первых покупают новые платформы, а значит для них будут предпочтительнее игры, выходящие для `PS4`, `Xone`. Жанровые предпочтения стандартные для общемирового - `Action`, `Sports`, `Shooter`, `Platform`, `Racing`.\n",
    "+ **Северная Америка:** потребители приставок двух последних поколений от Playstation и Microsoft(большее предпочтение), вероятно, что позиции `PS4` и `Xone` будут укреплены в следующем году. Жанровые предпочтения совпадают с европейцами.\n",
    "+ **Япония:** пользователи очень специфичны - предпочтение отдают портативной консоли `3DS`, а также консолям от Playstation (включая портативные), достаточно консервативные, т.к. продажи игр на `PS3` значительно превышают продажи `PS4` игр. Поэтому полагать, что в следующем году ожидается взрывной рост игр для консолей нового поколение не стоит. Среди жанрового топа игр - на первом месте это ролевые игры, а стандартные стрелялки не попали даже в топ-5.\n",
    "\n",
    "Корреляции между рейтингом ESRB  и продажами выявлено не было. Но из особенностей, связанных с этим рейтингом, можно выделить, что в **Европе** и **Северной Америке** больше хитов, имеющих большие продажи, получают рейтинг `M`, а в **Японии** такие хиты имеют рейтинг `E`. Поэтому рейтинг ESRB не годится в качестве метрики для прогнозирования продаж.\n",
    "\n",
    "Было также подтверждено, что средние пользовательские рейтинги платформ Xbox One и PC одинаковые. Поэтому мы можем утверждать, что игроки этих платформ имеют схожее мнение и оценку игр. А это значит, что пользователей данных платформ можно считать как единую аудиторию в рамках планирования рекламы.\n",
    "\n",
    "Кроме этого статистически было подтверждено, что средние пользовательские рейтинги жанров Action и Sports разные. Это значит, что игроки по разному относятся к этим жанрам, и их следует относить к разным аудиториям, а значит применять разную рекламу для них."
   ]
  },
  {
   "cell_type": "markdown",
   "metadata": {},
   "source": [
    "<div class=\"alert alert-block alert-success\">\n",
    " \n",
    "### Комментарий ревьюера\n",
    "    \n",
    "#### Успех\n",
    "\n",
    "Вот такие образцовые выводы надо уметь писать каждому. Ты подробно извлек самое ценно из данных по видеоиграм. Особую ценность представляет разбор реогнов. Мы точно сможем составить прогноз на 2017 "
   ]
  },
  {
   "cell_type": "markdown",
   "metadata": {},
   "source": [
    "<div class=\"alert alert-block alert-info\">\n",
    "\n",
    "## Итоговый комментарии от ревьюера:\n",
    "    \n",
    "#### Успех\n",
    "\n",
    "Поздравляю тебя с выполнением твоего первого Сборного проекта. Мне показалось, что работа выполненна прекрасно и ты здорово постарался. Понравилось, что ты хорошо владеешь отличными навыками Предобработки данных и проверки Гипотез. А еще особенно ценно, что ты везде пишешь аргументацию своим действиям. Так, если проект попадет в руки незнакомому человеку, он сможет разобраться. Это тебе очень пригодится в будущем.\n",
    "\n",
    "В проекте осталось пару замечаний: \n",
    "    \n",
    "* Ящик с усами доработать.\n",
    "* Найти и определить самый успешный жанр по медиане или среднему.\n",
    "       \n",
    "Еще я оставил рекомендации. Очень надеюсь, что ты учтешь их в этом и последующих проектах.\n",
    "    \n",
    "    \n",
    "Жду проект после доработки. Уверен, ты справишься.\n",
    "</div>"
   ]
  },
  {
   "cell_type": "markdown",
   "metadata": {},
   "source": [
    "<div class=\"alert alert-block alert-success\">\n",
    " \n",
    "# Итоговый Комментарий ревьюера ver.2\n",
    "    \n",
    "#### Успех\n",
    "\n",
    "Спасибо тебе за доработку проекта. Вот теперь я его готов принять. От себя я хочу пожелать успехов в дальнешей учебе. Ты точно справишься и дальше, я уверен."
   ]
  },
  {
   "cell_type": "code",
   "execution_count": null,
   "metadata": {},
   "outputs": [],
   "source": []
  }
 ],
 "metadata": {
  "ExecuteTimeLog": [
   {
    "duration": 421,
    "start_time": "2024-11-29T15:24:06.772Z"
   },
   {
    "duration": 241,
    "start_time": "2024-11-29T15:24:07.195Z"
   },
   {
    "duration": 28,
    "start_time": "2024-11-29T15:24:07.438Z"
   },
   {
    "duration": 15,
    "start_time": "2024-11-29T15:24:07.468Z"
   },
   {
    "duration": 31,
    "start_time": "2024-11-29T15:24:07.486Z"
   },
   {
    "duration": 14,
    "start_time": "2024-11-29T15:24:07.518Z"
   },
   {
    "duration": 26,
    "start_time": "2024-11-29T15:24:07.561Z"
   },
   {
    "duration": 42,
    "start_time": "2024-11-29T15:24:07.589Z"
   },
   {
    "duration": 11,
    "start_time": "2024-11-29T15:24:07.633Z"
   },
   {
    "duration": 12,
    "start_time": "2024-11-29T15:24:07.646Z"
   },
   {
    "duration": 21,
    "start_time": "2024-11-29T15:24:07.659Z"
   },
   {
    "duration": 5,
    "start_time": "2024-11-29T15:24:07.682Z"
   },
   {
    "duration": 3,
    "start_time": "2024-12-03T20:23:54.417Z"
   },
   {
    "duration": 210,
    "start_time": "2024-12-03T20:24:06.319Z"
   },
   {
    "duration": 5943,
    "start_time": "2024-12-03T20:25:04.413Z"
   },
   {
    "duration": 186,
    "start_time": "2024-12-03T20:25:36.546Z"
   },
   {
    "duration": 26,
    "start_time": "2024-12-03T20:25:44.210Z"
   },
   {
    "duration": 14,
    "start_time": "2024-12-03T20:25:56.152Z"
   },
   {
    "duration": 1206,
    "start_time": "2024-12-03T20:26:07.363Z"
   },
   {
    "duration": 35,
    "start_time": "2024-12-03T20:26:30.727Z"
   },
   {
    "duration": 14,
    "start_time": "2024-12-03T20:27:27.173Z"
   },
   {
    "duration": 16,
    "start_time": "2024-12-03T20:27:47.291Z"
   },
   {
    "duration": 9,
    "start_time": "2024-12-03T20:28:08.704Z"
   },
   {
    "duration": 9,
    "start_time": "2024-12-03T20:28:16.198Z"
   },
   {
    "duration": 9,
    "start_time": "2024-12-03T20:28:29.788Z"
   },
   {
    "duration": 16,
    "start_time": "2024-12-03T20:28:36.996Z"
   },
   {
    "duration": 22,
    "start_time": "2024-12-03T20:28:47.973Z"
   },
   {
    "duration": 4,
    "start_time": "2024-12-03T20:29:31.253Z"
   },
   {
    "duration": 5,
    "start_time": "2024-12-03T20:29:40.501Z"
   },
   {
    "duration": 7,
    "start_time": "2024-12-03T20:29:58.528Z"
   },
   {
    "duration": 14,
    "start_time": "2024-12-03T20:30:05.909Z"
   },
   {
    "duration": 99,
    "start_time": "2024-12-03T20:30:16.361Z"
   },
   {
    "duration": 16,
    "start_time": "2024-12-03T20:30:41.535Z"
   },
   {
    "duration": 6,
    "start_time": "2024-12-03T20:31:00.860Z"
   },
   {
    "duration": 5,
    "start_time": "2024-12-03T20:31:09.459Z"
   },
   {
    "duration": 5,
    "start_time": "2024-12-03T20:31:17.707Z"
   },
   {
    "duration": 22,
    "start_time": "2024-12-03T20:31:55.807Z"
   },
   {
    "duration": 7,
    "start_time": "2024-12-03T20:32:35.997Z"
   },
   {
    "duration": 11,
    "start_time": "2024-12-03T20:32:45.767Z"
   },
   {
    "duration": 7,
    "start_time": "2024-12-03T20:33:15.821Z"
   },
   {
    "duration": 23,
    "start_time": "2024-12-03T20:33:35.896Z"
   },
   {
    "duration": 12,
    "start_time": "2024-12-03T20:33:55.618Z"
   },
   {
    "duration": 1096,
    "start_time": "2024-12-03T20:34:03.629Z"
   },
   {
    "duration": 24,
    "start_time": "2024-12-03T20:34:53.595Z"
   },
   {
    "duration": 588,
    "start_time": "2024-12-03T20:35:13.950Z"
   },
   {
    "duration": 20,
    "start_time": "2024-12-03T20:35:40.792Z"
   },
   {
    "duration": 269,
    "start_time": "2024-12-03T20:36:11.736Z"
   },
   {
    "duration": 17,
    "start_time": "2024-12-03T20:36:53.212Z"
   },
   {
    "duration": 18,
    "start_time": "2024-12-03T20:37:01.664Z"
   },
   {
    "duration": 2135,
    "start_time": "2024-12-03T20:37:09.113Z"
   },
   {
    "duration": 446,
    "start_time": "2024-12-03T20:37:32.509Z"
   },
   {
    "duration": 12,
    "start_time": "2024-12-03T20:37:51.563Z"
   },
   {
    "duration": 20,
    "start_time": "2024-12-03T20:38:19.000Z"
   },
   {
    "duration": 17,
    "start_time": "2024-12-03T20:39:21.691Z"
   },
   {
    "duration": 410,
    "start_time": "2024-12-03T20:39:30.463Z"
   },
   {
    "duration": 18,
    "start_time": "2024-12-03T20:39:59.195Z"
   },
   {
    "duration": 519,
    "start_time": "2024-12-03T20:40:08.169Z"
   },
   {
    "duration": 10,
    "start_time": "2024-12-03T20:40:35.883Z"
   },
   {
    "duration": 6,
    "start_time": "2024-12-03T20:40:55.438Z"
   },
   {
    "duration": 14,
    "start_time": "2024-12-03T20:41:01.179Z"
   },
   {
    "duration": 3,
    "start_time": "2024-12-03T20:41:10.547Z"
   },
   {
    "duration": 7,
    "start_time": "2024-12-03T20:41:17.145Z"
   },
   {
    "duration": 355,
    "start_time": "2024-12-03T20:41:36.497Z"
   },
   {
    "duration": 12,
    "start_time": "2024-12-03T20:43:42.009Z"
   },
   {
    "duration": 13,
    "start_time": "2024-12-03T20:44:24.192Z"
   },
   {
    "duration": 3758,
    "start_time": "2024-12-03T20:45:36.550Z"
   },
   {
    "duration": 58,
    "start_time": "2024-12-03T20:45:40.310Z"
   },
   {
    "duration": 26,
    "start_time": "2024-12-03T20:45:40.369Z"
   },
   {
    "duration": 14,
    "start_time": "2024-12-03T20:45:40.397Z"
   },
   {
    "duration": 1155,
    "start_time": "2024-12-03T20:45:40.412Z"
   },
   {
    "duration": 29,
    "start_time": "2024-12-03T20:45:41.569Z"
   },
   {
    "duration": 13,
    "start_time": "2024-12-03T20:45:41.600Z"
   },
   {
    "duration": 14,
    "start_time": "2024-12-03T20:45:41.614Z"
   },
   {
    "duration": 7,
    "start_time": "2024-12-03T20:45:41.630Z"
   },
   {
    "duration": 9,
    "start_time": "2024-12-03T20:45:41.664Z"
   },
   {
    "duration": 5,
    "start_time": "2024-12-03T20:45:41.674Z"
   },
   {
    "duration": 16,
    "start_time": "2024-12-03T20:45:41.681Z"
   },
   {
    "duration": 21,
    "start_time": "2024-12-03T20:45:41.698Z"
   },
   {
    "duration": 5,
    "start_time": "2024-12-03T20:45:41.721Z"
   },
   {
    "duration": 7,
    "start_time": "2024-12-03T20:45:41.728Z"
   },
   {
    "duration": 8,
    "start_time": "2024-12-03T20:45:41.765Z"
   },
   {
    "duration": 91,
    "start_time": "2024-12-03T20:45:41.775Z"
   },
   {
    "duration": 20,
    "start_time": "2024-12-03T20:45:41.868Z"
   },
   {
    "duration": 6,
    "start_time": "2024-12-03T20:45:41.890Z"
   },
   {
    "duration": 7,
    "start_time": "2024-12-03T20:45:41.897Z"
   },
   {
    "duration": 14,
    "start_time": "2024-12-03T20:45:41.906Z"
   },
   {
    "duration": 22,
    "start_time": "2024-12-03T20:45:41.921Z"
   },
   {
    "duration": 7,
    "start_time": "2024-12-03T20:45:41.965Z"
   },
   {
    "duration": 9,
    "start_time": "2024-12-03T20:45:41.973Z"
   },
   {
    "duration": 6,
    "start_time": "2024-12-03T20:45:41.984Z"
   },
   {
    "duration": 24,
    "start_time": "2024-12-03T20:45:41.992Z"
   },
   {
    "duration": 14,
    "start_time": "2024-12-03T20:45:42.018Z"
   },
   {
    "duration": 960,
    "start_time": "2024-12-03T20:45:42.066Z"
   },
   {
    "duration": 24,
    "start_time": "2024-12-03T20:45:43.028Z"
   },
   {
    "duration": 525,
    "start_time": "2024-12-03T20:45:43.054Z"
   },
   {
    "duration": 18,
    "start_time": "2024-12-03T20:45:43.580Z"
   },
   {
    "duration": 325,
    "start_time": "2024-12-03T20:45:43.599Z"
   },
   {
    "duration": 15,
    "start_time": "2024-12-03T20:45:43.926Z"
   },
   {
    "duration": 23,
    "start_time": "2024-12-03T20:45:43.942Z"
   },
   {
    "duration": 2117,
    "start_time": "2024-12-03T20:45:43.967Z"
   },
   {
    "duration": 473,
    "start_time": "2024-12-03T20:45:46.086Z"
   },
   {
    "duration": 13,
    "start_time": "2024-12-03T20:45:46.561Z"
   },
   {
    "duration": 78,
    "start_time": "2024-12-03T20:45:46.576Z"
   },
   {
    "duration": 16,
    "start_time": "2024-12-03T20:45:46.656Z"
   },
   {
    "duration": 410,
    "start_time": "2024-12-03T20:45:46.674Z"
   },
   {
    "duration": 18,
    "start_time": "2024-12-03T20:45:47.085Z"
   },
   {
    "duration": 496,
    "start_time": "2024-12-03T20:45:47.105Z"
   },
   {
    "duration": 8,
    "start_time": "2024-12-03T20:45:47.603Z"
   },
   {
    "duration": 5,
    "start_time": "2024-12-03T20:45:47.612Z"
   },
   {
    "duration": 27,
    "start_time": "2024-12-03T20:45:47.618Z"
   },
   {
    "duration": 5,
    "start_time": "2024-12-03T20:45:47.647Z"
   },
   {
    "duration": 14,
    "start_time": "2024-12-03T20:45:47.653Z"
   },
   {
    "duration": 360,
    "start_time": "2024-12-03T20:45:47.669Z"
   },
   {
    "duration": 12,
    "start_time": "2024-12-03T20:45:48.030Z"
   },
   {
    "duration": 22,
    "start_time": "2024-12-03T20:45:48.044Z"
   },
   {
    "duration": 55,
    "start_time": "2024-12-03T21:09:29.580Z"
   },
   {
    "duration": 4860,
    "start_time": "2024-12-03T21:09:35.055Z"
   },
   {
    "duration": 193,
    "start_time": "2024-12-03T21:09:39.918Z"
   },
   {
    "duration": 28,
    "start_time": "2024-12-03T21:09:40.113Z"
   },
   {
    "duration": 16,
    "start_time": "2024-12-03T21:09:40.143Z"
   },
   {
    "duration": 1179,
    "start_time": "2024-12-03T21:09:40.161Z"
   },
   {
    "duration": 32,
    "start_time": "2024-12-03T21:09:41.342Z"
   },
   {
    "duration": 15,
    "start_time": "2024-12-03T21:09:41.377Z"
   },
   {
    "duration": 42,
    "start_time": "2024-12-03T21:09:41.394Z"
   },
   {
    "duration": 61,
    "start_time": "2024-12-03T21:09:41.439Z"
   },
   {
    "duration": 8,
    "start_time": "2024-12-03T21:09:41.503Z"
   },
   {
    "duration": 4,
    "start_time": "2024-12-03T21:09:41.513Z"
   },
   {
    "duration": 28,
    "start_time": "2024-12-03T21:09:41.519Z"
   },
   {
    "duration": 40,
    "start_time": "2024-12-03T21:09:41.548Z"
   },
   {
    "duration": 16,
    "start_time": "2024-12-03T21:09:41.589Z"
   },
   {
    "duration": 15,
    "start_time": "2024-12-03T21:09:41.607Z"
   },
   {
    "duration": 43,
    "start_time": "2024-12-04T06:41:17.209Z"
   },
   {
    "duration": 4568,
    "start_time": "2024-12-04T06:41:31.155Z"
   },
   {
    "duration": 172,
    "start_time": "2024-12-04T06:41:35.725Z"
   },
   {
    "duration": 20,
    "start_time": "2024-12-04T06:41:35.898Z"
   },
   {
    "duration": 22,
    "start_time": "2024-12-04T06:41:35.920Z"
   },
   {
    "duration": 1006,
    "start_time": "2024-12-04T06:41:35.943Z"
   },
   {
    "duration": 22,
    "start_time": "2024-12-04T06:41:36.957Z"
   },
   {
    "duration": 10,
    "start_time": "2024-12-04T06:41:36.981Z"
   },
   {
    "duration": 26,
    "start_time": "2024-12-04T06:41:36.992Z"
   },
   {
    "duration": 7,
    "start_time": "2024-12-04T06:41:37.019Z"
   },
   {
    "duration": 10,
    "start_time": "2024-12-04T06:41:37.028Z"
   },
   {
    "duration": 4,
    "start_time": "2024-12-04T06:41:37.039Z"
   },
   {
    "duration": 18,
    "start_time": "2024-12-04T06:41:37.044Z"
   },
   {
    "duration": 41,
    "start_time": "2024-12-04T06:41:37.063Z"
   },
   {
    "duration": 3,
    "start_time": "2024-12-04T06:41:37.106Z"
   },
   {
    "duration": 4,
    "start_time": "2024-12-04T06:41:37.110Z"
   },
   {
    "duration": 6,
    "start_time": "2024-12-04T06:41:37.115Z"
   },
   {
    "duration": 11,
    "start_time": "2024-12-04T06:41:37.122Z"
   },
   {
    "duration": 12,
    "start_time": "2024-12-04T06:41:37.134Z"
   },
   {
    "duration": 4,
    "start_time": "2024-12-04T06:41:37.147Z"
   },
   {
    "duration": 9,
    "start_time": "2024-12-04T06:41:37.157Z"
   },
   {
    "duration": 4,
    "start_time": "2024-12-04T06:41:37.167Z"
   },
   {
    "duration": 24,
    "start_time": "2024-12-04T06:41:37.172Z"
   },
   {
    "duration": 5,
    "start_time": "2024-12-04T06:41:37.197Z"
   },
   {
    "duration": 6,
    "start_time": "2024-12-04T06:41:37.203Z"
   },
   {
    "duration": 6,
    "start_time": "2024-12-04T06:41:37.211Z"
   },
   {
    "duration": 14,
    "start_time": "2024-12-04T06:41:37.218Z"
   },
   {
    "duration": 33,
    "start_time": "2024-12-04T06:41:37.233Z"
   },
   {
    "duration": 751,
    "start_time": "2024-12-04T06:41:37.269Z"
   },
   {
    "duration": 19,
    "start_time": "2024-12-04T06:41:38.021Z"
   },
   {
    "duration": 474,
    "start_time": "2024-12-04T06:41:38.041Z"
   },
   {
    "duration": 16,
    "start_time": "2024-12-04T06:41:38.516Z"
   },
   {
    "duration": 194,
    "start_time": "2024-12-04T06:41:38.533Z"
   },
   {
    "duration": 16,
    "start_time": "2024-12-04T06:41:38.729Z"
   },
   {
    "duration": 19,
    "start_time": "2024-12-04T06:41:38.747Z"
   },
   {
    "duration": 1677,
    "start_time": "2024-12-04T06:41:38.767Z"
   },
   {
    "duration": 345,
    "start_time": "2024-12-04T06:41:40.446Z"
   },
   {
    "duration": 11,
    "start_time": "2024-12-04T06:41:40.792Z"
   },
   {
    "duration": 26,
    "start_time": "2024-12-04T06:41:40.804Z"
   },
   {
    "duration": 28,
    "start_time": "2024-12-04T06:41:40.832Z"
   },
   {
    "duration": 612,
    "start_time": "2024-12-04T06:41:40.862Z"
   },
   {
    "duration": 14,
    "start_time": "2024-12-04T06:41:41.475Z"
   },
   {
    "duration": 734,
    "start_time": "2024-12-04T06:41:41.490Z"
   },
   {
    "duration": 7,
    "start_time": "2024-12-04T06:41:42.226Z"
   },
   {
    "duration": 34,
    "start_time": "2024-12-04T06:41:42.235Z"
   },
   {
    "duration": 13,
    "start_time": "2024-12-04T06:41:42.270Z"
   },
   {
    "duration": 5,
    "start_time": "2024-12-04T06:41:42.285Z"
   },
   {
    "duration": 5,
    "start_time": "2024-12-04T06:41:42.291Z"
   },
   {
    "duration": 311,
    "start_time": "2024-12-04T06:41:42.297Z"
   },
   {
    "duration": 11,
    "start_time": "2024-12-04T06:41:42.609Z"
   },
   {
    "duration": 59,
    "start_time": "2024-12-04T06:41:42.621Z"
   },
   {
    "duration": 8,
    "start_time": "2024-12-04T06:47:29.446Z"
   },
   {
    "duration": 7,
    "start_time": "2024-12-04T06:48:15.622Z"
   },
   {
    "duration": 8,
    "start_time": "2024-12-04T06:48:26.718Z"
   },
   {
    "duration": 8,
    "start_time": "2024-12-04T06:49:08.685Z"
   },
   {
    "duration": 238,
    "start_time": "2024-12-04T06:50:02.956Z"
   },
   {
    "duration": 232,
    "start_time": "2024-12-04T06:50:20.685Z"
   },
   {
    "duration": 293,
    "start_time": "2024-12-04T06:50:30.416Z"
   },
   {
    "duration": 222,
    "start_time": "2024-12-04T06:50:44.672Z"
   },
   {
    "duration": 254,
    "start_time": "2024-12-04T06:50:51.986Z"
   },
   {
    "duration": 497,
    "start_time": "2024-12-04T06:51:31.296Z"
   },
   {
    "duration": 523,
    "start_time": "2024-12-04T06:51:46.272Z"
   },
   {
    "duration": 302,
    "start_time": "2024-12-04T06:52:08.555Z"
   },
   {
    "duration": 155,
    "start_time": "2024-12-04T06:56:11.071Z"
   },
   {
    "duration": 360,
    "start_time": "2024-12-04T06:56:23.473Z"
   },
   {
    "duration": 406,
    "start_time": "2024-12-04T06:56:34.954Z"
   },
   {
    "duration": 303,
    "start_time": "2024-12-04T06:56:48.766Z"
   },
   {
    "duration": 337,
    "start_time": "2024-12-04T06:57:10.089Z"
   },
   {
    "duration": 307,
    "start_time": "2024-12-04T06:59:57.877Z"
   },
   {
    "duration": 409,
    "start_time": "2024-12-04T07:05:42.803Z"
   },
   {
    "duration": 259,
    "start_time": "2024-12-04T08:32:27.888Z"
   },
   {
    "duration": 256,
    "start_time": "2024-12-04T08:32:40.663Z"
   },
   {
    "duration": 20,
    "start_time": "2024-12-04T09:20:41.605Z"
   },
   {
    "duration": 407,
    "start_time": "2024-12-04T09:23:58.216Z"
   },
   {
    "duration": 16,
    "start_time": "2024-12-04T09:24:26.286Z"
   },
   {
    "duration": 2,
    "start_time": "2024-12-04T09:26:59.073Z"
   },
   {
    "duration": 8,
    "start_time": "2024-12-04T09:27:11.756Z"
   },
   {
    "duration": 184,
    "start_time": "2024-12-04T09:27:59.632Z"
   },
   {
    "duration": 8,
    "start_time": "2024-12-04T09:28:56.560Z"
   },
   {
    "duration": 2,
    "start_time": "2024-12-04T09:29:22.065Z"
   },
   {
    "duration": 18,
    "start_time": "2024-12-04T09:29:24.833Z"
   },
   {
    "duration": 169,
    "start_time": "2024-12-04T09:29:35.146Z"
   },
   {
    "duration": 101,
    "start_time": "2024-12-04T09:34:32.993Z"
   },
   {
    "duration": 110,
    "start_time": "2024-12-04T09:35:00.936Z"
   },
   {
    "duration": 164,
    "start_time": "2024-12-04T09:35:11.155Z"
   },
   {
    "duration": 245,
    "start_time": "2024-12-04T09:36:02.963Z"
   },
   {
    "duration": 167,
    "start_time": "2024-12-04T09:56:16.387Z"
   },
   {
    "duration": 15,
    "start_time": "2024-12-04T10:08:35.675Z"
   },
   {
    "duration": 20,
    "start_time": "2024-12-04T10:09:51.503Z"
   },
   {
    "duration": 18,
    "start_time": "2024-12-04T10:14:52.759Z"
   },
   {
    "duration": 16,
    "start_time": "2024-12-04T10:17:40.858Z"
   },
   {
    "duration": 6,
    "start_time": "2024-12-04T10:21:50.034Z"
   },
   {
    "duration": 14,
    "start_time": "2024-12-04T10:36:55.511Z"
   },
   {
    "duration": 322,
    "start_time": "2024-12-04T10:37:09.147Z"
   },
   {
    "duration": 677,
    "start_time": "2024-12-04T10:45:00.923Z"
   },
   {
    "duration": 327,
    "start_time": "2024-12-04T10:45:12.400Z"
   },
   {
    "duration": 82,
    "start_time": "2024-12-04T11:05:10.652Z"
   },
   {
    "duration": 76,
    "start_time": "2024-12-04T11:07:07.228Z"
   },
   {
    "duration": 3549,
    "start_time": "2024-12-04T11:08:48.769Z"
   },
   {
    "duration": 51,
    "start_time": "2024-12-04T11:08:52.320Z"
   },
   {
    "duration": 20,
    "start_time": "2024-12-04T11:08:52.373Z"
   },
   {
    "duration": 12,
    "start_time": "2024-12-04T11:08:52.395Z"
   },
   {
    "duration": 1049,
    "start_time": "2024-12-04T11:08:52.408Z"
   },
   {
    "duration": 23,
    "start_time": "2024-12-04T11:08:53.459Z"
   },
   {
    "duration": 10,
    "start_time": "2024-12-04T11:08:53.483Z"
   },
   {
    "duration": 10,
    "start_time": "2024-12-04T11:08:53.495Z"
   },
   {
    "duration": 17,
    "start_time": "2024-12-04T11:08:53.506Z"
   },
   {
    "duration": 21,
    "start_time": "2024-12-04T11:08:53.526Z"
   },
   {
    "duration": 20,
    "start_time": "2024-12-04T11:08:53.548Z"
   },
   {
    "duration": 34,
    "start_time": "2024-12-04T11:08:53.570Z"
   },
   {
    "duration": 23,
    "start_time": "2024-12-04T11:08:53.606Z"
   },
   {
    "duration": 3,
    "start_time": "2024-12-04T11:08:53.630Z"
   },
   {
    "duration": 8,
    "start_time": "2024-12-04T11:08:53.634Z"
   },
   {
    "duration": 41,
    "start_time": "2024-12-04T11:08:53.644Z"
   },
   {
    "duration": 30,
    "start_time": "2024-12-04T11:08:53.686Z"
   },
   {
    "duration": 17,
    "start_time": "2024-12-04T11:08:53.718Z"
   },
   {
    "duration": 4,
    "start_time": "2024-12-04T11:08:53.736Z"
   },
   {
    "duration": 5,
    "start_time": "2024-12-04T11:08:53.741Z"
   },
   {
    "duration": 4,
    "start_time": "2024-12-04T11:08:53.747Z"
   },
   {
    "duration": 12,
    "start_time": "2024-12-04T11:08:53.752Z"
   },
   {
    "duration": 296,
    "start_time": "2024-12-04T11:08:53.765Z"
   },
   {
    "duration": 6,
    "start_time": "2024-12-04T11:08:54.063Z"
   },
   {
    "duration": 270,
    "start_time": "2024-12-04T11:08:54.070Z"
   },
   {
    "duration": 20,
    "start_time": "2024-12-04T11:08:54.341Z"
   },
   {
    "duration": 10,
    "start_time": "2024-12-04T11:08:54.362Z"
   },
   {
    "duration": 767,
    "start_time": "2024-12-04T11:08:54.375Z"
   },
   {
    "duration": 24,
    "start_time": "2024-12-04T11:08:55.144Z"
   },
   {
    "duration": 423,
    "start_time": "2024-12-04T11:08:55.169Z"
   },
   {
    "duration": 14,
    "start_time": "2024-12-04T11:08:55.593Z"
   },
   {
    "duration": 2,
    "start_time": "2024-12-04T11:08:55.608Z"
   },
   {
    "duration": 177,
    "start_time": "2024-12-04T11:08:55.612Z"
   },
   {
    "duration": 11,
    "start_time": "2024-12-04T11:08:55.790Z"
   },
   {
    "duration": 11,
    "start_time": "2024-12-04T11:08:55.802Z"
   },
   {
    "duration": 1670,
    "start_time": "2024-12-04T11:08:55.814Z"
   },
   {
    "duration": 354,
    "start_time": "2024-12-04T11:08:57.485Z"
   },
   {
    "duration": 18,
    "start_time": "2024-12-04T11:08:57.840Z"
   },
   {
    "duration": 14,
    "start_time": "2024-12-04T11:08:57.859Z"
   },
   {
    "duration": 22,
    "start_time": "2024-12-04T11:08:57.874Z"
   },
   {
    "duration": 11,
    "start_time": "2024-12-04T11:08:57.897Z"
   },
   {
    "duration": 421,
    "start_time": "2024-12-04T11:08:57.910Z"
   },
   {
    "duration": 27,
    "start_time": "2024-12-04T11:08:58.333Z"
   },
   {
    "duration": 334,
    "start_time": "2024-12-04T11:08:58.361Z"
   },
   {
    "duration": 7,
    "start_time": "2024-12-04T11:08:58.696Z"
   },
   {
    "duration": 13,
    "start_time": "2024-12-04T11:08:58.704Z"
   },
   {
    "duration": 10,
    "start_time": "2024-12-04T11:08:58.718Z"
   },
   {
    "duration": 12,
    "start_time": "2024-12-04T11:08:58.730Z"
   },
   {
    "duration": 17,
    "start_time": "2024-12-04T11:08:58.744Z"
   },
   {
    "duration": 289,
    "start_time": "2024-12-04T11:08:58.762Z"
   },
   {
    "duration": 9,
    "start_time": "2024-12-04T11:08:59.057Z"
   },
   {
    "duration": 15,
    "start_time": "2024-12-04T11:08:59.067Z"
   },
   {
    "duration": 327,
    "start_time": "2024-12-04T11:09:35.273Z"
   }
  ],
  "kernelspec": {
   "display_name": "Python 3 (ipykernel)",
   "language": "python",
   "name": "python3"
  },
  "language_info": {
   "codemirror_mode": {
    "name": "ipython",
    "version": 3
   },
   "file_extension": ".py",
   "mimetype": "text/x-python",
   "name": "python",
   "nbconvert_exporter": "python",
   "pygments_lexer": "ipython3",
   "version": "3.9.5"
  },
  "toc": {
   "base_numbering": 1,
   "nav_menu": {},
   "number_sections": true,
   "sideBar": true,
   "skip_h1_title": true,
   "title_cell": "Table of Contents",
   "title_sidebar": "Contents",
   "toc_cell": false,
   "toc_position": {},
   "toc_section_display": true,
   "toc_window_display": false
  }
 },
 "nbformat": 4,
 "nbformat_minor": 2
}

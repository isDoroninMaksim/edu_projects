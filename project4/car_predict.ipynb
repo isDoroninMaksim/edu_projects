{
 "cells": [
  {
   "cell_type": "markdown",
   "metadata": {},
   "source": [
    "**Импорт библиотек:**"
   ]
  },
  {
   "cell_type": "code",
   "execution_count": null,
   "metadata": {},
   "outputs": [],
   "source": [
    "import pandas as pd\n",
    "\n",
    "import missingno as msno\n",
    "\n",
    "import re\n",
    "\n",
    "import matplotlib.pyplot as plt\n",
    "from matplotlib.gridspec import GridSpec\n",
    "\n",
    "import seaborn as sns\n",
    "\n",
    "import phik\n",
    "\n",
    "from sklearn.model_selection import train_test_split, RandomizedSearchCV, GridSearchCV\n",
    "from sklearn.pipeline import Pipeline\n",
    "from sklearn.preprocessing import TargetEncoder, OneHotEncoder, StandardScaler\n",
    "from sklearn.compose import ColumnTransformer\n",
    "from sklearn.tree import DecisionTreeRegressor\n",
    "from sklearn.metrics import mean_squared_error\n",
    "\n",
    "from xgboost import XGBRegressor\n",
    "\n",
    "import numpy as np\n",
    "\n",
    "from lightgbm import LGBMRegressor\n",
    "\n",
    "from sklearn.svm import SVR\n",
    "\n",
    "import warnings\n",
    "warnings.filterwarnings('ignore')\n",
    "\n",
    "import time\n",
    "\n",
    "from catboost import CatBoostRegressor\n",
    "\n",
    "pd.set_option('display.max_colwidth', None)"
   ]
  },
  {
   "cell_type": "markdown",
   "metadata": {},
   "source": [
    "## Подготовка данных"
   ]
  },
  {
   "cell_type": "markdown",
   "metadata": {},
   "source": [
    "### Загрузка и предпросмотр"
   ]
  },
  {
   "cell_type": "code",
   "execution_count": null,
   "metadata": {},
   "outputs": [],
   "source": [
    " try:\n",
    "        df = pd.read_csv('autos.csv', parse_dates=['DateCrawled'])\n",
    " except FileNotFoundError:\n",
    "        df = pd.read_csv('datasets/autos.csv', parse_dates=['DateCrawled'])\n",
    "df.head(2)"
   ]
  },
  {
   "cell_type": "markdown",
   "metadata": {},
   "source": [
    "Визуально таблицу видим, рассмотрим ее подробнее, чтобы сделать первые выводы. Для этого используем функцию, которая сразу покажет всю, интересующую нас информацию о строении таблицы:"
   ]
  },
  {
   "cell_type": "code",
   "execution_count": null,
   "metadata": {},
   "outputs": [],
   "source": [
    "# функция для ознакомления с таблицами\n",
    "def observe_data(df):\n",
    "    print('Превью таблицы (первые пять строк):\\n')\n",
    "    display(df.head())\n",
    "    print('=' * 90)\n",
    "    print('Информация о столбцах и типах данных:\\n')\n",
    "    df.info()\n",
    "    print('=' * 90)\n",
    "    print('Статистическая информация:\\n')\n",
    "    display(df.describe().T)"
   ]
  },
  {
   "cell_type": "code",
   "execution_count": null,
   "metadata": {},
   "outputs": [],
   "source": [
    "observe_data(df)"
   ]
  },
  {
   "cell_type": "markdown",
   "metadata": {},
   "source": [
    "Первые выводы о датасете:\n",
    "+ Исходный датасет имеет 354369 наблюдений по 16 признакам. \n",
    "+ Несоответствия количества строк по признакам говорит нам о наличии пропусков. \n",
    "+ Типов данных всего два: int64 и object. В таблице есть признаки с явным указанием на даты, такие как `DateCrawled` или `LastSeen`, значит есть проблемы и с несоответствием типов данных. \n",
    "+ В статистической информации мы видим наличие аномальных нулевых значение в таких столбцах как `Price` или `Power`. \n",
    "+ Дополнительно можно сказать об отклонение от общепринятых стандартах в названиях столбцов."
   ]
  },
  {
   "cell_type": "markdown",
   "metadata": {},
   "source": [
    "Покажем визуально пропуски датасета:"
   ]
  },
  {
   "cell_type": "code",
   "execution_count": null,
   "metadata": {},
   "outputs": [],
   "source": [
    "fig, ax = plt.subplots(figsize=(10, 5))\n",
    "msno.bar(df, ax=ax, fontsize=12, sort=\"ascending\", color=\"tab:blue\")\n",
    "ax.set_title('Диаграмма пропусков', fontsize=24, color='blue', pad=20)\n",
    "ax.set_xlabel('Признаки', fontsize=14, labelpad=20)\n",
    "ax.set_ylabel('Количество наблюдений', fontsize=14, labelpad=20)\n",
    "plt.show()"
   ]
  },
  {
   "cell_type": "markdown",
   "metadata": {},
   "source": [
    "Всех больше пропусков имеет признак `Repaired` - 71154. "
   ]
  },
  {
   "cell_type": "markdown",
   "metadata": {},
   "source": [
    "### Предобработка данных"
   ]
  },
  {
   "cell_type": "markdown",
   "metadata": {},
   "source": [
    "#### Неверный тип данных"
   ]
  },
  {
   "cell_type": "markdown",
   "metadata": {},
   "source": [
    "Проблему с неправильным определением типа *datetime* решим на этапе парсирования данных:"
   ]
  },
  {
   "cell_type": "code",
   "execution_count": null,
   "metadata": {},
   "outputs": [],
   "source": [
    "date_cols = ['DateCrawled', 'DateCreated', 'LastSeen']\n",
    "try:\n",
    "        df = pd.read_csv('autos.csv', parse_dates=date_cols)\n",
    "except FileNotFoundError:\n",
    "        df = pd.read_csv('datasets/autos.csv', parse_dates=date_cols)\n",
    "df.info()"
   ]
  },
  {
   "cell_type": "markdown",
   "metadata": {},
   "source": [
    "Дата теперь стала датой. Посмотрим на имена столбцов."
   ]
  },
  {
   "cell_type": "markdown",
   "metadata": {},
   "source": [
    "#### Переименование столбцов"
   ]
  },
  {
   "cell_type": "code",
   "execution_count": null,
   "metadata": {},
   "outputs": [],
   "source": [
    "df.columns"
   ]
  },
  {
   "cell_type": "markdown",
   "metadata": {},
   "source": [
    "Нам нужно все буквы сделать строчными, а перед каждой второй и последующими заглавными поставить символ подчеркивания. Применим регулярные выражения:"
   ]
  },
  {
   "cell_type": "code",
   "execution_count": null,
   "metadata": {},
   "outputs": [],
   "source": [
    "df.columns = [re.sub(r'(?<!^)(?=[A-Z])', '_', name).lower() for name in df.columns]\n",
    "df.columns"
   ]
  },
  {
   "cell_type": "markdown",
   "metadata": {},
   "source": [
    "#### Удаление неинформативных признаков"
   ]
  },
  {
   "cell_type": "markdown",
   "metadata": {},
   "source": [
    "Перед дальнейшей работой разберемся со столбцом `number_of_pictures`. Статистика указала, что все значения нулевые."
   ]
  },
  {
   "cell_type": "code",
   "execution_count": null,
   "metadata": {},
   "outputs": [],
   "source": [
    "df['number_of_pictures'].unique()"
   ]
  },
  {
   "cell_type": "markdown",
   "metadata": {},
   "source": [
    "Это константный признак говорит о том, что все объекты не имеют фотографий, не является информативным для нас. Удалим его."
   ]
  },
  {
   "cell_type": "code",
   "execution_count": null,
   "metadata": {},
   "outputs": [],
   "source": [
    "df.drop('number_of_pictures', axis=1, inplace=True)"
   ]
  },
  {
   "cell_type": "markdown",
   "metadata": {},
   "source": [
    "#### Устранение пропусков"
   ]
  },
  {
   "cell_type": "markdown",
   "metadata": {},
   "source": [
    "Теперь можно вернуться к проблеме с пропусками:"
   ]
  },
  {
   "cell_type": "code",
   "execution_count": null,
   "metadata": {},
   "outputs": [],
   "source": [
    "df.isna().sum()"
   ]
  },
  {
   "cell_type": "markdown",
   "metadata": {},
   "source": [
    "Все признаки с пропусками имеют строковую информацию. Причем информация о кузове, модели авто, наличия факта ремонта является определяющей для цены. Для начала поставим заглушку `unknown` на месте пропусков признака `repaired`. Остальные признаки заполним наиболее часто встречаемыми значениями в категории, в противном случае тоже поставим заглушку."
   ]
  },
  {
   "cell_type": "code",
   "execution_count": null,
   "metadata": {},
   "outputs": [],
   "source": [
    "# missing_cols = df.columns[df.isna().sum() > 0].tolist()\n",
    "# df[missing_cols] = df[missing_cols].fillna('unknown')\n",
    "# df.isna().sum()"
   ]
  },
  {
   "cell_type": "code",
   "execution_count": null,
   "metadata": {},
   "outputs": [],
   "source": [
    "missing_cols = df.columns[df.isna().sum() > 0].tolist()\n",
    "missing_cols"
   ]
  },
  {
   "cell_type": "code",
   "execution_count": null,
   "metadata": {},
   "outputs": [],
   "source": [
    "df['repaired'] = df['repaired'].fillna('unknown')"
   ]
  },
  {
   "cell_type": "code",
   "execution_count": null,
   "metadata": {},
   "outputs": [],
   "source": [
    "df['model'] = df.groupby('brand')['model'].transform(\n",
    "    lambda x: x.fillna(x.mode()[0] if not x.mode().empty else 'unknown')\n",
    ")\n",
    "df['model'][df['model'] == 'unknown'].count()"
   ]
  },
  {
   "cell_type": "code",
   "execution_count": null,
   "metadata": {},
   "outputs": [],
   "source": [
    "for column in df.columns[df.isna().sum() > 0].tolist():\n",
    "    \n",
    "    df[column] = df.groupby('model')[column].transform(\n",
    "    lambda x: x.fillna(x.mode()[0] if not x.mode().empty else 'unknown')\n",
    ")"
   ]
  },
  {
   "cell_type": "markdown",
   "metadata": {},
   "source": [
    "#### Устранение дубликатов"
   ]
  },
  {
   "cell_type": "code",
   "execution_count": null,
   "metadata": {},
   "outputs": [],
   "source": [
    "df.duplicated().sum()"
   ]
  },
  {
   "cell_type": "code",
   "execution_count": null,
   "metadata": {},
   "outputs": [],
   "source": [
    "df.drop_duplicates(inplace=True)\n",
    "df.duplicated().sum()"
   ]
  },
  {
   "cell_type": "markdown",
   "metadata": {},
   "source": [
    "\n",
    "В этом подразделе исправили следующие проблемы:\n",
    "+ считывание дат, теперь они имеют тип *datetime*;\n",
    "+ названия столбцов поменяли на корректные;\n",
    "+ все пропуски заменили на заглушку;\n",
    "+ устранили явные дубликаты.\n",
    "\n",
    "Проверку на неявные дубликаты и выявление и устранение аномальных значение проведем попутно с исследованием данных."
   ]
  },
  {
   "cell_type": "markdown",
   "metadata": {},
   "source": [
    "### Исследовательский анализ"
   ]
  },
  {
   "cell_type": "markdown",
   "metadata": {},
   "source": [
    "Все данные можно разделить на количественные, категориальные и временные. Рассмотрим количественные (включим в рассмотрение и категориальные столбцы `registration_year`, `postal_code`):"
   ]
  },
  {
   "cell_type": "markdown",
   "metadata": {},
   "source": [
    "#### Количественные данные"
   ]
  },
  {
   "cell_type": "code",
   "execution_count": null,
   "metadata": {},
   "outputs": [],
   "source": [
    "num_cols = df.select_dtypes(include='int').drop(['registration_month'], axis=1).columns\n",
    "num_cols"
   ]
  },
  {
   "cell_type": "markdown",
   "metadata": {},
   "source": [
    "Рассмотрим и удалим сначала все аномалии, потом построим гистограмму распределения и диаграмму размаха количественных признаков."
   ]
  },
  {
   "cell_type": "code",
   "execution_count": null,
   "metadata": {},
   "outputs": [],
   "source": [
    "df['price'].describe()"
   ]
  },
  {
   "cell_type": "code",
   "execution_count": null,
   "metadata": {},
   "outputs": [],
   "source": [
    "df[df['price'] == 0].shape"
   ]
  },
  {
   "cell_type": "markdown",
   "metadata": {},
   "source": [
    "Свыше 10000 автомобилей судя по таблице раздают бесплатно, нужно отфильтровать этот столбец."
   ]
  },
  {
   "cell_type": "code",
   "execution_count": null,
   "metadata": {},
   "outputs": [],
   "source": [
    "df['price'].hist(bins=50, edgecolor='black', grid=True)\n",
    "plt.xlabel('Цена, евро')\n",
    "plt.ylabel('Количество наблюдений')\n",
    "plt.title('Гистограмма распределения цены автомобилей')\n",
    "plt.show()"
   ]
  },
  {
   "cell_type": "markdown",
   "metadata": {},
   "source": [
    "Подробней рассмотрим цену вблизи нуля, чтобы определить порог фильтра."
   ]
  },
  {
   "cell_type": "code",
   "execution_count": null,
   "metadata": {},
   "outputs": [],
   "source": [
    "df['price'].hist(bins=1000, edgecolor='black', grid=True)\n",
    "plt.xlim(0, 200)\n",
    "plt.xlabel('Цена, евро')\n",
    "plt.ylabel('Количество наблюдений')\n",
    "plt.title('Гистограмма распределения цены автомобилей')\n",
    "plt.show()"
   ]
  },
  {
   "cell_type": "code",
   "execution_count": null,
   "metadata": {},
   "outputs": [],
   "source": [
    "df.loc[df['price'] < 25].head()"
   ]
  },
  {
   "cell_type": "markdown",
   "metadata": {},
   "source": [
    "Слабо верится, что мерседес можно приобрести за 1 евро. Отфильтруем машины по цены, превышающие 25 евро, т.к. до этой цены мы наблюдаем "
   ]
  },
  {
   "cell_type": "code",
   "execution_count": null,
   "metadata": {},
   "outputs": [],
   "source": [
    "df = df.loc[df['price'] > 25]"
   ]
  },
  {
   "cell_type": "code",
   "execution_count": null,
   "metadata": {},
   "outputs": [],
   "source": [
    "df.shape"
   ]
  },
  {
   "cell_type": "markdown",
   "metadata": {},
   "source": [
    "Теперь рассмотрим год регистрации авто."
   ]
  },
  {
   "cell_type": "code",
   "execution_count": null,
   "metadata": {},
   "outputs": [],
   "source": [
    "df['registration_year'].describe()"
   ]
  },
  {
   "cell_type": "markdown",
   "metadata": {},
   "source": [
    "Здесь тоже что-то не в порядке с годами, есть машины из далекого прошлого или будущего."
   ]
  },
  {
   "cell_type": "code",
   "execution_count": null,
   "metadata": {},
   "outputs": [],
   "source": [
    "df['registration_year'].hist(bins=50, edgecolor='black', grid=True)\n",
    "plt.xlabel('Год регистрации автомобиля')\n",
    "plt.ylabel('Количество наблюдений')\n",
    "plt.title('Гистограмма распределения года регистрации автомобиля');"
   ]
  },
  {
   "cell_type": "code",
   "execution_count": null,
   "metadata": {},
   "outputs": [],
   "source": [
    "df['registration_year'].hist(bins=1000, edgecolor='black', grid=True)\n",
    "plt.xlim(1900, 1980)\n",
    "plt.ylim(0, 100)\n",
    "plt.xlabel('Год регистрации автомобиля')\n",
    "plt.ylabel('Количество наблюдений')\n",
    "plt.title('Гистограмма распределения года регистрации автомобиля');"
   ]
  },
  {
   "cell_type": "code",
   "execution_count": null,
   "metadata": {},
   "outputs": [],
   "source": [
    "df['last_seen'].max()"
   ]
  },
  {
   "cell_type": "markdown",
   "metadata": {},
   "source": [
    "Видим, что превышать хотя бы 100 единиц, начали машины, зарегестрированные с середины 50-х. Возьмем 1955 за нижнюю границу. А верхней сделаем 2016 год, как максимальный год из временного признака `last_seen`."
   ]
  },
  {
   "cell_type": "code",
   "execution_count": null,
   "metadata": {},
   "outputs": [],
   "source": [
    "df = df.loc[(df['registration_year'] > 1955) & (df['registration_year'] < 2017)]"
   ]
  },
  {
   "cell_type": "code",
   "execution_count": null,
   "metadata": {},
   "outputs": [],
   "source": [
    "df.shape"
   ]
  },
  {
   "cell_type": "markdown",
   "metadata": {},
   "source": [
    "Перейдем к признаку, характеризующему мощность."
   ]
  },
  {
   "cell_type": "code",
   "execution_count": null,
   "metadata": {},
   "outputs": [],
   "source": [
    "df['power'].describe()"
   ]
  },
  {
   "cell_type": "markdown",
   "metadata": {},
   "source": [
    "Машины слабее лошади с одной стороны и сопоставимые по мощности с ракетным двигателем с другой. Явно что-то не так. Отфильтруем этот признак следующим образом: примем, что старые машины могут иметь мощность 10 л.с., а суперкары 2016 года на превышали 2000."
   ]
  },
  {
   "cell_type": "code",
   "execution_count": null,
   "metadata": {},
   "outputs": [],
   "source": [
    "df.loc[(df['power'] < 10) | (df['power'] > 2000)].shape"
   ]
  },
  {
   "cell_type": "code",
   "execution_count": null,
   "metadata": {},
   "outputs": [],
   "source": [
    "df['power'] = df.groupby('model')['power'].transform(\n",
    "    lambda x: x.where(((x > 10) & (x < 2000)), x.mode()[0] if not x.mode().empty else x)\n",
    ")"
   ]
  },
  {
   "cell_type": "code",
   "execution_count": null,
   "metadata": {},
   "outputs": [],
   "source": [
    "df.loc[(df['power'] < 10) | (df['power'] > 2000)].shape"
   ]
  },
  {
   "cell_type": "markdown",
   "metadata": {},
   "source": [
    "Удалось заполнить модой почти 28000 значений. Оставшиеся отфильтруем."
   ]
  },
  {
   "cell_type": "code",
   "execution_count": null,
   "metadata": {},
   "outputs": [],
   "source": [
    "df['power'].describe()"
   ]
  },
  {
   "cell_type": "code",
   "execution_count": null,
   "metadata": {},
   "outputs": [],
   "source": [
    "df = df.loc[(df['power'] > 10) & (df['power'] < 2000)]"
   ]
  },
  {
   "cell_type": "code",
   "execution_count": null,
   "metadata": {},
   "outputs": [],
   "source": [
    "df.shape"
   ]
  },
  {
   "cell_type": "code",
   "execution_count": null,
   "metadata": {},
   "outputs": [],
   "source": [
    "df['kilometer'].describe()"
   ]
  },
  {
   "cell_type": "markdown",
   "metadata": {},
   "source": [
    "Здесь все выглядит правдоподобно, ничего фильтровать не будем."
   ]
  },
  {
   "cell_type": "code",
   "execution_count": null,
   "metadata": {},
   "outputs": [],
   "source": [
    "df.shape"
   ]
  },
  {
   "cell_type": "markdown",
   "metadata": {},
   "source": [
    "Построим граифики количественных признаков. Для этого напишем функцию для построения каждого типа графика:"
   ]
  },
  {
   "cell_type": "code",
   "execution_count": null,
   "metadata": {},
   "outputs": [],
   "source": [
    "def make_histogramm(ax, df, column):\n",
    "    \n",
    "    ax.hist(x=df[column], bins=30, edgecolor='black')\n",
    "    plt.grid(color='grey', linestyle='--', linewidth=0.5)\n",
    "    ax.set_title(f'Гистограмма распределения признака {column}')\n",
    "    ax.set_xlabel('Значение признака')\n",
    "    ax.set_ylabel('Количество наблюдений')"
   ]
  },
  {
   "cell_type": "code",
   "execution_count": null,
   "metadata": {},
   "outputs": [],
   "source": [
    "def make_boxplot(ax, df, column):\n",
    "    \n",
    "    ax.boxplot(df[column], vert=False)\n",
    "    plt.grid(color='grey', linestyle='--', linewidth=0.5)\n",
    "    ax.set_title(f'Диаграмма размаха признака {column}')\n",
    "    ax.set_xlabel('Значение признака')"
   ]
  },
  {
   "cell_type": "code",
   "execution_count": null,
   "metadata": {},
   "outputs": [],
   "source": [
    "for column in num_cols:\n",
    "    \n",
    "    fig = plt.figure(figsize=(15, 5))\n",
    "    gs = GridSpec(nrows=2, ncols=1, figure=fig)\n",
    "    plt.suptitle(f'Графики признака {column}', va='center', fontsize=14)\n",
    "    \n",
    "\n",
    "        \n",
    "    ax = fig.add_subplot(gs[0,0])\n",
    "    make_histogramm(ax, df, column)\n",
    "    ax = fig.add_subplot(gs[1,0])\n",
    "    make_boxplot(ax, df, column)\n",
    "\n",
    "    plt.tight_layout()\n",
    "    plt.show()"
   ]
  },
  {
   "cell_type": "markdown",
   "metadata": {},
   "source": [
    "Посмотрим на тип связи между таргетом и количественными признаками:"
   ]
  },
  {
   "cell_type": "code",
   "execution_count": null,
   "metadata": {},
   "outputs": [],
   "source": [
    "sns.pairplot(df, vars=num_cols)\n",
    "plt.suptitle(f'Графики рассеяния', y=1.02, fontsize=16)\n",
    "plt.show()"
   ]
  },
  {
   "cell_type": "markdown",
   "metadata": {},
   "source": [
    "Целевой признак не имеет линейной связи ни с одним из признаков. "
   ]
  },
  {
   "cell_type": "markdown",
   "metadata": {},
   "source": [
    "Резюме по количественным данным:\n",
    "+ Признак `price` распределен не нормально, имеет выбросы.\n",
    "+ `registration_year` нормально распределен, имеет выбросы. В среднем представлены автомобили, зарегистрированные после 2000 года.\n",
    "+ `power` нормально распределен со смещением, есть выбросы.\n",
    "+ `kilometer` большая часть автомобилей имеет пробег более 140_000 км.\n",
    "+ `postal_code` географически автомобили распределены нормально.\n",
    "+ Признаки между собой связаны нелинейно."
   ]
  },
  {
   "cell_type": "markdown",
   "metadata": {},
   "source": [
    "#### Категориальные данные"
   ]
  },
  {
   "cell_type": "markdown",
   "metadata": {},
   "source": [
    "Здесь мы также в начале избавимся от аномалий, а затем построим диаграммы для лучшего понимания данных."
   ]
  },
  {
   "cell_type": "code",
   "execution_count": null,
   "metadata": {},
   "outputs": [],
   "source": [
    "cat_cols = df.drop(num_cols, axis=1).select_dtypes(exclude='datetime64').columns\n",
    "cat_cols"
   ]
  },
  {
   "cell_type": "code",
   "execution_count": null,
   "metadata": {},
   "outputs": [],
   "source": [
    "df['vehicle_type'].value_counts()"
   ]
  },
  {
   "cell_type": "markdown",
   "metadata": {},
   "source": [
    "Не все категории этого признака семантически равнозначны, так, например, непонятно, какой тип кузова представляет категория `other`. "
   ]
  },
  {
   "cell_type": "code",
   "execution_count": null,
   "metadata": {},
   "outputs": [],
   "source": [
    "df['gearbox'].unique()"
   ]
  },
  {
   "cell_type": "code",
   "execution_count": null,
   "metadata": {},
   "outputs": [],
   "source": [
    "df['model'].unique()"
   ]
  },
  {
   "cell_type": "markdown",
   "metadata": {},
   "source": [
    "Неявных дубликатов здесь не наблюдаем."
   ]
  },
  {
   "cell_type": "code",
   "execution_count": null,
   "metadata": {},
   "outputs": [],
   "source": [
    "df['registration_month'].unique()"
   ]
  },
  {
   "cell_type": "markdown",
   "metadata": {},
   "source": [
    "Вероятно какой-то программист-автовладелец за январь поставил 0 месяц. Исправим так, чтобы месяцы были от 1 до 12."
   ]
  },
  {
   "cell_type": "code",
   "execution_count": null,
   "metadata": {},
   "outputs": [],
   "source": [
    "df.loc[df['registration_month'] == 0, 'registration_month'] = 1"
   ]
  },
  {
   "cell_type": "code",
   "execution_count": null,
   "metadata": {},
   "outputs": [],
   "source": [
    "df['fuel_type'].unique()"
   ]
  },
  {
   "cell_type": "markdown",
   "metadata": {},
   "source": [
    "Видим наименование категорий `petrol` и `gasoline`, что является одним и тем же видом топлива."
   ]
  },
  {
   "cell_type": "code",
   "execution_count": null,
   "metadata": {},
   "outputs": [],
   "source": [
    "df.loc[df['fuel_type'] == 'petrol', 'fuel_type'] = 'gasoline'"
   ]
  },
  {
   "cell_type": "code",
   "execution_count": null,
   "metadata": {},
   "outputs": [],
   "source": [
    "df['brand'].unique()"
   ]
  },
  {
   "cell_type": "code",
   "execution_count": null,
   "metadata": {},
   "outputs": [],
   "source": [
    "df['repaired'].unique()"
   ]
  },
  {
   "cell_type": "markdown",
   "metadata": {},
   "source": [
    "Неявные дубликаты были выявлены только в столбце `fuel_type`."
   ]
  },
  {
   "cell_type": "markdown",
   "metadata": {},
   "source": [
    "Построим диаграммы распределений для наибольших категорий признаков `vehicle_type`, `model`, `brand`:"
   ]
  },
  {
   "cell_type": "code",
   "execution_count": null,
   "metadata": {},
   "outputs": [],
   "source": [
    "for column in ['vehicle_type', 'model', 'brand']:\n",
    "    (df[column]\n",
    "    .value_counts()\n",
    "    .head(10)\n",
    "    .sort_values()\n",
    "    .plot(kind='barh', figsize=(10, 5), edgecolor='black', grid=True)\n",
    "     )\n",
    "    \n",
    "    plt.title(f'Топ категорий в распределение признака {column}')\n",
    "    plt.ylabel(f'{column}')\n",
    "    plt.xlabel('Количество')\n",
    "    plt.show()"
   ]
  },
  {
   "cell_type": "markdown",
   "metadata": {},
   "source": [
    "В этих же признаках оценим наиболее дорогие (медианные) автомобили: "
   ]
  },
  {
   "cell_type": "code",
   "execution_count": null,
   "metadata": {},
   "outputs": [],
   "source": [
    "for column in ['vehicle_type', 'model', 'brand']:    \n",
    "    (df.groupby([column])\n",
    "         .agg({'price': 'median'})\n",
    "         .head(10)\n",
    "         .sort_values(by='price')\n",
    "         .plot(kind='barh', figsize=(10, 5), edgecolor='black', grid=True)\n",
    "    )\n",
    "    plt.title(f'Топ категорий по медианной цене признака {column}')\n",
    "    plt.ylabel('Категория')\n",
    "    plt.xlabel('Медианная цена, евро')\n",
    "    plt.grid(True)\n",
    "    plt.show()"
   ]
  },
  {
   "cell_type": "markdown",
   "metadata": {},
   "source": [
    "+ Наиболее востребованными типами кузова - седан, маленький городской, универсал. Наиболее дорогой - внедорожники, кабриолеты.\n",
    "+ Среди моделей самые распространненые - гольф и бмв третьей модели. Наиболее дорогие: крайслер (300c), бмв(1er) и альфа-ромео(159).\n",
    "+ Из марок автомобиля было продано больше всех - фольксваген, опель и бмв. Из которых наиболее дорогие по медиане - бмв, ауди и дация."
   ]
  },
  {
   "cell_type": "markdown",
   "metadata": {},
   "source": [
    "Построим круговые диаграммы для оставшихся признаков:"
   ]
  },
  {
   "cell_type": "code",
   "execution_count": null,
   "metadata": {},
   "outputs": [],
   "source": [
    "for column in ['gearbox', 'fuel_type', 'repaired']:\n",
    "    plt.figure(figsize=(7, 7))\n",
    "    values = df[column].value_counts().values\n",
    "    labels = df[column].value_counts().index\n",
    "    plt.pie(\n",
    "        values,\n",
    "        wedgeprops={'edgecolor': 'w'},\n",
    "        shadow=True,\n",
    "        pctdistance = 0.5,\n",
    "        autopct=lambda x: f'{x:.1f}%' if x > 1 else ''\n",
    "    )\n",
    "    plt.legend(labels=labels, loc=[1.01, 0.5])\n",
    "    plt.title(f'Диаграмма признака {column}', fontsize=16)\n",
    "    plt.show()\n"
   ]
  },
  {
   "cell_type": "markdown",
   "metadata": {},
   "source": [
    "Также посмотрим, сколько стоят разные категории рассмотренных категориальных признаков. Цены будем рассматривать снова медианные."
   ]
  },
  {
   "cell_type": "code",
   "execution_count": null,
   "metadata": {},
   "outputs": [],
   "source": [
    "for column in ['gearbox', 'fuel_type', 'repaired']:\n",
    "    \n",
    "    index = (df\n",
    "             .pivot_table(index=column, values='price', aggfunc='median')\n",
    "             .sort_values(by='price', ascending=False)\n",
    "             .index)\n",
    "    values = (df\n",
    "        .pivot_table(index=column, values='price', aggfunc='median')\n",
    "        .sort_values(by='price', ascending=False)['price']\n",
    "        .tolist())\n",
    "    \n",
    "    plt.figure(figsize=(8, 6))\n",
    "    ax = plt.bar(index, values, width=0.3, edgecolor='black')\n",
    "    plt.title(f'Медианная цена категорий признака {column}', fontsize=14)\n",
    "    plt.xlabel('Категории')\n",
    "    plt.ylabel('Цена, евро')\n",
    "    plt.grid(True)\n",
    "    plt.show()"
   ]
  },
  {
   "cell_type": "markdown",
   "metadata": {},
   "source": [
    "+ Самым распространненым типом коробки передач является механическая, а дорогая автоматическая, что весьма логично.\n",
    "+ С большим отрывом лидируют бензиновые автомобили благодаря нижней границе года регистрации авто, когда это был практически единственный вариант. Самыми дорогими являются современные технологичные гибридные и электромобили.\n",
    "+ На вторичном рынке автоболей в большинстве представлены авто, не бывавшие в ремонте, они соответсвенно дороже."
   ]
  },
  {
   "cell_type": "markdown",
   "metadata": {},
   "source": [
    "Перед корреляционным анализом исключим все временные данные, месяц регистрации, т.к. они не являются информативными для нашей задачи. Также преобразуем год регистрации в возраст автомобиля для упрощения логики этого признака и сократим номер почтового индекса для уменьшений количества категорий признака."
   ]
  },
  {
   "cell_type": "code",
   "execution_count": null,
   "metadata": {},
   "outputs": [],
   "source": [
    "cur_year = df['date_crawled'].dt.year.max()\n",
    "df = df.rename(columns={'registration_year': 'age'})\n",
    "df['age'] = cur_year - df['age']"
   ]
  },
  {
   "cell_type": "code",
   "execution_count": null,
   "metadata": {},
   "outputs": [],
   "source": [
    "len(df['postal_code'].unique())"
   ]
  },
  {
   "cell_type": "code",
   "execution_count": null,
   "metadata": {},
   "outputs": [],
   "source": [
    "df['reg_postal'] = df['postal_code'] // 100\n",
    "df['reg_postal'] = df['reg_postal'].astype('object')"
   ]
  },
  {
   "cell_type": "code",
   "execution_count": null,
   "metadata": {},
   "outputs": [],
   "source": [
    "len(df['reg_postal'].unique())"
   ]
  },
  {
   "cell_type": "code",
   "execution_count": null,
   "metadata": {},
   "outputs": [],
   "source": [
    "df = df.drop(['date_crawled', 'date_created', 'last_seen', 'postal_code', 'registration_month'], axis=1)"
   ]
  },
  {
   "cell_type": "code",
   "execution_count": null,
   "metadata": {},
   "outputs": [],
   "source": [
    "df.head(2)"
   ]
  },
  {
   "cell_type": "markdown",
   "metadata": {},
   "source": [
    "Проверим изменятся ли коэффициенты корреляции с таргетом входных признаков, если мы уберем из датасета все строки с заглушкой *unknown*."
   ]
  },
  {
   "cell_type": "code",
   "execution_count": null,
   "metadata": {},
   "outputs": [],
   "source": [
    "figsize = (10, 10)\n",
    "fig = plt.subplots(figsize=figsize)\n",
    "plt.title('Phik корреляция')\n",
    "sns.heatmap(df\n",
    "            .phik_matrix(interval_cols=num_cols), \n",
    "            annot=True, cmap='cividis', \n",
    "            linewidth=0.1,\n",
    "            fmt='.2f',\n",
    "            square=True)\n",
    "plt.show()"
   ]
  },
  {
   "cell_type": "markdown",
   "metadata": {},
   "source": [
    "+ Самую высокую корреляцию имеют тип кузова и модель автомобиля(0.9) и модель и марка(1), которые являются взаимозаменяемыми признаками, потому что каждая марка имеет уникальные модели. При подготовке данных для обучения модели лучше исключить марку, т.к. она меньше коррелирует с таргетом чем модель.\n",
    "+ С целевым признаком больше всего коррелирует год регистрации авто(0.66), что отражает возраст, и модель автомобиля(0.58).\n",
    "+ Корреляция меняется незначительно, если убрать строки с заглушкой, которую поставили при заполнении пропусков. Это означает, что можно ее оставить в тренировочной и тестовой выборке."
   ]
  },
  {
   "cell_type": "markdown",
   "metadata": {},
   "source": [
    "**Вывод:**\n",
    "\n",
    "В этом разделе мы познакомились с предоставленными данными: изначально датасет имеет свыше 350 тыс. строк по 16 признакам, включая целевой `price`. Датасет имеет следующие проблемы: большое количество пропусков, неверный тип данных при считывании таблицы, аномальные значения признаков.\n",
    "\n",
    "В ходе предобработки эти проблемы были устранены. Пропуски, замененные на маркер *unknown*  мы так оставим, т.к. эти категориальные признаки не имеют сильной корреляции с таргетом. Кроме этого сравнив два датасета с удаленными строками и просто с заглушкой обнаружили, что коэффициенты корреляции меняются незначительно. Аномальные значения были устранены путем фильтра на соответствующие признаки. Также удалили малозначимые для прогноза временные признаки и малоинформативный признак `NumberOfPictures`.\n",
    "\n",
    "Среди количественных признаков наш целевой имеет распределение, отличное от нормального. Также отметим наличие выбросов для всех признаков. Признаки имеют нелинейную связь.\n",
    "\n",
    "Однако судя по коэффициентам корреляции наибольшую связь с таргетом имеют категориальные признаки `age` и `model`, но даже между этими признаками эта связь несильная. Чего не скажешь про `model` и `brand` наличие которых указывает на частичную мултиколлинеарность и будет способстовать понижению эффективности модели линейной регрессии, но для дерева решений это не является проблемой. \n",
    "\n",
    "\n"
   ]
  },
  {
   "cell_type": "markdown",
   "metadata": {},
   "source": [
    "## Обучение моделей"
   ]
  },
  {
   "cell_type": "markdown",
   "metadata": {},
   "source": [
    "Использовав полученную выше информацию, подготовим выборки для обучения и тестирования моделей. В качестве моделей будем выбирать из ансамблиевых моделей XGBoost, LightGBM, CatBoost, в качестве базовой рассмотрим TreeRegressor. Для более удобного способа подбора используем PipiLine."
   ]
  },
  {
   "cell_type": "markdown",
   "metadata": {},
   "source": [
    "### Подготовка выборки для обучения"
   ]
  },
  {
   "cell_type": "markdown",
   "metadata": {},
   "source": [
    "Разделим данные на целевой(y) тренировочный/валидационный/тестовый и входные признаки(x)."
   ]
  },
  {
   "cell_type": "code",
   "execution_count": null,
   "metadata": {},
   "outputs": [],
   "source": [
    "RANDOM_STATE = 13\n",
    "\n",
    "y = df['price']\n",
    "X = df.drop(['price', 'brand'], axis=1) \n",
    "\n",
    "X_train, X_test, y_train, y_test = train_test_split(\n",
    "    X, \n",
    "    y,\n",
    "    test_size=0.4,\n",
    "    random_state=RANDOM_STATE\n",
    ")\n",
    "\n",
    "X_valid, X_test, y_valid, y_test = train_test_split(\n",
    "    X_test, \n",
    "    y_test,\n",
    "    test_size=0.5,\n",
    "    random_state=RANDOM_STATE\n",
    ")"
   ]
  },
  {
   "cell_type": "markdown",
   "metadata": {},
   "source": [
    "Снова разделим данные на количественные и категориальные, т.к. у нас произошли исключения признаков:\n"
   ]
  },
  {
   "cell_type": "code",
   "execution_count": null,
   "metadata": {},
   "outputs": [],
   "source": [
    "num_columns = ['age', 'power', 'kilometer']\n",
    "cat_columns = ['vehicle_type', \n",
    "               'gearbox', \n",
    "               'model', \n",
    "               'fuel_type', \n",
    "               'reg_postal', \n",
    "               'repaired']"
   ]
  },
  {
   "cell_type": "markdown",
   "metadata": {},
   "source": [
    "Создадим Pipiline, который проведет стандартизацию для количественных данных и кодирование для категориальных."
   ]
  },
  {
   "cell_type": "code",
   "execution_count": null,
   "metadata": {},
   "outputs": [],
   "source": [
    "data_preprocessor = ColumnTransformer(\n",
    "    [\n",
    "        ('target_enc', TargetEncoder(target_type=\"continuous\"), cat_columns),\n",
    "        (\"numerical\", \"passthrough\", num_columns)\n",
    "        \n",
    "    ], \n",
    "    remainder='passthrough'\n",
    ")\n",
    "\n",
    "pipe_final = Pipeline([\n",
    "    ('preprocessor', data_preprocessor),\n",
    "    ('models', DecisionTreeRegressor(random_state=RANDOM_STATE))\n",
    "])"
   ]
  },
  {
   "cell_type": "markdown",
   "metadata": {},
   "source": [
    "### Подбор моделей"
   ]
  },
  {
   "cell_type": "markdown",
   "metadata": {},
   "source": [
    "В качестве baseline модели будем использовать простое дерево решений, другими моделями будут LGBM и CatBoost, основанные на ансамбле деревьев с использованием градиентного бустинга."
   ]
  },
  {
   "cell_type": "markdown",
   "metadata": {},
   "source": [
    "Подберем гиперпараметры для первой модели дерева решений. Будем смотреть на топ-5 моделей, чтобы видеть изменение гиперпараметров в лучших моделях:"
   ]
  },
  {
   "cell_type": "code",
   "execution_count": null,
   "metadata": {},
   "outputs": [],
   "source": [
    "param_grid = [\n",
    "    {\n",
    "        'models': [DecisionTreeRegressor(random_state=RANDOM_STATE)],\n",
    "        'models__max_depth': range(2, 100),\n",
    "        'models__max_features': range(2, 100),\n",
    "        'models__min_samples_split': range(2, 100)\n",
    "    }\n",
    "]\n",
    "\n",
    "start = time.time()\n",
    "\n",
    "tree_descision_model = RandomizedSearchCV(\n",
    "    pipe_final,\n",
    "    param_distributions=param_grid, \n",
    "    cv=5,\n",
    "    scoring='neg_root_mean_squared_error',\n",
    "    n_jobs=-1,\n",
    "    random_state=RANDOM_STATE\n",
    ")\n",
    "\n",
    "tree_descision_model.fit(X_train, y_train)\n",
    "\n",
    "selection_time = round(time.time() - start, 5)\n",
    "print(f'Продолжительность подбора модели {selection_time} c.')\n",
    "\n",
    "rmse_train_tree = tree_descision_model.best_score_\n",
    "print('Метрика RMSE для лучшей модели:\\n', -rmse_train_tree)\n",
    "\n",
    "\n",
    "result = pd.DataFrame(tree_descision_model.cv_results_).sort_values('rank_test_score')\n",
    "result[['rank_test_score', 'param_models', 'mean_test_score','params']].head(5)"
   ]
  },
  {
   "cell_type": "markdown",
   "metadata": {},
   "source": [
    "Оставим модель с этими гиперпараметрами и преступим к подбору модели LGBMRegressor:"
   ]
  },
  {
   "cell_type": "code",
   "execution_count": null,
   "metadata": {},
   "outputs": [],
   "source": [
    "param_grid = [\n",
    "    {\n",
    "        'models': [LGBMRegressor(verbosity=-1)],\n",
    "        'models__learning_rate': [0.1, 0.5, 0.8],  \n",
    "        'models__n_estimators': [10, 50, 100], \n",
    "        'models__num_leaves': [31, 40, 50], \n",
    "        'models__max_depth': [3, 5, 15]\n",
    "    }\n",
    "]\n",
    "\n",
    "start = time.time()\n",
    "\n",
    "lgbm_model = RandomizedSearchCV(\n",
    "    pipe_final,\n",
    "    param_distributions=param_grid, \n",
    "    cv=5,\n",
    "    scoring='neg_root_mean_squared_error',\n",
    "    n_jobs=-1,\n",
    "    random_state=RANDOM_STATE\n",
    ")\n",
    "\n",
    "lgbm_model.fit(X_train, y_train)\n",
    "\n",
    "selection_time = round(time.time() - start, 5)\n",
    "print(f'Продолжительность подбора модели {selection_time} c.')\n",
    "\n",
    "rmse_train_lgbm = lgbm_model.best_score_\n",
    "print('Метрика RMSE для лучшей модели:\\n', -rmse_train_lgbm)\n",
    "\n",
    "result = pd.DataFrame(lgbm_model.cv_results_).sort_values('rank_test_score')\n",
    "result[['rank_test_score', 'param_models', 'mean_test_score','params']].head(5)"
   ]
  },
  {
   "cell_type": "markdown",
   "metadata": {},
   "source": [
    "Перейдем к подбору последней - CatBoost:"
   ]
  },
  {
   "cell_type": "code",
   "execution_count": null,
   "metadata": {},
   "outputs": [],
   "source": [
    "param_grid = [\n",
    "    {\n",
    "        'models': [CatBoostRegressor(verbose=0)],\n",
    "        'models__learning_rate': [0,1, 0.2, 0.4, 0.6, 0.8],  \n",
    "        'models__depth': [6, 8, 10, 20], \n",
    "        'models__iterations': [10, 50, 100], \n",
    "        'models__l2_leaf_reg': [1, 3] \n",
    "\n",
    "    }\n",
    "]\n",
    "\n",
    "start = time.time()\n",
    "\n",
    "cat_boost_model = RandomizedSearchCV(\n",
    "    pipe_final, \n",
    "    param_distributions=param_grid,\n",
    "    cv=5,\n",
    "    scoring='neg_root_mean_squared_error',  \n",
    "    n_jobs=-1,\n",
    "    random_state=RANDOM_STATE,\n",
    ")\n",
    "\n",
    "\n",
    "cat_boost_model.fit(X_train, y_train)\n",
    "\n",
    "selection_time = round(time.time() - start, 5)\n",
    "print(f'Продолжительность подбора модели {selection_time} c.')\n",
    "\n",
    "rmse_train_cat = cat_boost_model.best_score_\n",
    "print('Метрика RMSE для лучшей модели:\\n', -rmse_train_cat)\n",
    "\n",
    "result = pd.DataFrame(cat_boost_model.cv_results_).sort_values('rank_test_score')\n",
    "result[['rank_test_score', 'param_models', 'mean_test_score','params']].head(5)"
   ]
  },
  {
   "cell_type": "markdown",
   "metadata": {},
   "source": [
    "Настало время проверить выбранные модели на валидационной выборке."
   ]
  },
  {
   "cell_type": "markdown",
   "metadata": {},
   "source": [
    "## Анализ моделей"
   ]
  },
  {
   "cell_type": "markdown",
   "metadata": {},
   "source": [
    "### Сравнение моделей"
   ]
  },
  {
   "cell_type": "markdown",
   "metadata": {},
   "source": [
    "Оценим подобранные модели на валидационной выборке и сравним по метрике и времени обучения и предсказывания."
   ]
  },
  {
   "cell_type": "code",
   "execution_count": null,
   "metadata": {},
   "outputs": [],
   "source": [
    "models = {'decision_tree_regressor': tree_descision_model,\n",
    "          'lightgbm': lgbm_model, \n",
    "          'cat_boost': cat_boost_model\n",
    "         }\n",
    "\n",
    "results = {}\n",
    "\n",
    "for name, model in models.items():\n",
    "    \n",
    "    start = time.time()\n",
    "    predictions = model.predict(X_valid)\n",
    "    predict_time = time.time() - start\n",
    "    \n",
    "    rmse = mean_squared_error(y_valid, predictions) ** 0.5\n",
    "    \n",
    "    results[name] = {\n",
    "        'train_time': model.cv_results_['mean_fit_time'][model.best_index_],\n",
    "        'predict_time': predict_time,\n",
    "        'rmse_train': abs(model.cv_results_['mean_test_score'][model.best_index_]),\n",
    "        'rmse_test': rmse,\n",
    "        'rmse_difference': abs(model.cv_results_['mean_test_score'][model.best_index_]) - rmse\n",
    "    }\n",
    "    \n",
    "df_results = pd.DataFrame(results).T\n",
    "df_results"
   ]
  },
  {
   "cell_type": "markdown",
   "metadata": {},
   "source": [
    "Наименьшее время для тренировки, как и следовало ожидать, требуется для дерева решений, ближайшая модель - LGBM, затем идет  CatBoost, причем разница между самой быстрой и медленной всего 3 с.\n",
    "\n",
    "При расчете предсказания все модели уложились в одну секунду, по скорости места распределяются также, как и при обучении.\n",
    "\n",
    "По метрике ансамбли показывают лучшее качество, причем наилучший результат у CatBoost, но не намного хуже у LGBM. Дерево решений немного хуже предсказывает, но все равно имеет значение метрики ниже порогового (2500) значения.\n",
    "\n",
    "Мы видим небольшой разброс в моделях LGBM и CatBoost, больше отклонений наблюдаем у дерева. \n",
    "\n",
    "Учитывая назначение модели для применения в приложении, нам очень важно иметь минимальное время обучения и предсказания, ну и как требования к любой прогнозной модели следует добиваться минимизации ошибки. В свете этих требований подходят все модели, выберем модель с наилучшим качеством предсказаний - CatBoost."
   ]
  },
  {
   "cell_type": "markdown",
   "metadata": {},
   "source": [
    "### Анализ лучшей модели"
   ]
  },
  {
   "cell_type": "markdown",
   "metadata": {},
   "source": [
    "Теперь, когда выбрали лучшую модель проверим ее на тестовой выборке и проанализируем остатки."
   ]
  },
  {
   "cell_type": "code",
   "execution_count": null,
   "metadata": {},
   "outputs": [],
   "source": [
    "def analyze_residuals(y_test, predictions):\n",
    "    \n",
    "    ''' Функция строит гистограмму распределения остатков и график распределения остатков.\n",
    "        На входе принимает тестовый и расчетный целевой показатели.'''\n",
    "    print('Анализ остатков')\n",
    "    print('=' * 80)\n",
    "    residuals = y_test - predictions\n",
    "\n",
    "    fig, axes = plt.subplots(nrows=1, ncols=2, figsize=(10, 5))\n",
    "    axes[0].hist(residuals)\n",
    "    axes[0].grid(True)\n",
    "    axes[0].set_title('Гистограмма распределения остатков', fontsize=16)\n",
    "    axes[0].set_xlabel('Остатки')\n",
    "    axes[0].set_ylabel('Количество наблюдений')\n",
    "\n",
    "    axes[1].scatter(y=residuals, x=predictions)\n",
    "    axes[1].grid(True)\n",
    "    axes[1].set_xlabel('Предсказания модели')\n",
    "    axes[1].set_ylabel('Остатки')\n",
    "    axes[1].set_title('Анализ дисперсии', fontsize=16)\n",
    "    \n",
    "    plt.tight_layout()\n",
    "    plt.show()"
   ]
  },
  {
   "cell_type": "code",
   "execution_count": null,
   "metadata": {},
   "outputs": [],
   "source": [
    "pred = cat_boost_model.predict(X_test)\n",
    "analyze_residuals(y_test, pred)"
   ]
  },
  {
   "cell_type": "markdown",
   "metadata": {},
   "source": [
    "Видим нормальное распределение ошибок. Дисперсия остатков указывает равное соотношение завышений\\ занижений цен автомобилей. Настораживает факт, что есть отрицателбные прогнозы. Возможно, связано с сильной ассиметрией целевого признака. Преобразуем его с помощью логарифма для уменьшения разброса."
   ]
  },
  {
   "cell_type": "code",
   "execution_count": null,
   "metadata": {},
   "outputs": [],
   "source": [
    "y_train_log = np.log1p(y_train)\n",
    "cat_boost_model.fit(X_train, y_train_log)\n",
    "y_pred_log = cat_boost_model.predict(X_test)\n",
    "pred =np.expm1(y_pred_log)\n",
    "analyze_residuals(y_test, pred)"
   ]
  },
  {
   "cell_type": "markdown",
   "metadata": {},
   "source": [
    "Теперь модель делает исключительно положительные предсказания."
   ]
  },
  {
   "cell_type": "markdown",
   "metadata": {},
   "source": [
    "Посмотрим на распределние весов в выбранной модели."
   ]
  },
  {
   "cell_type": "code",
   "execution_count": null,
   "metadata": {},
   "outputs": [],
   "source": [
    "feature_importance = cat_boost_model.best_estimator_.named_steps['models'].get_feature_importance()\n",
    "feature_names = X_train.columns\n",
    "\n",
    "importance_df = pd.DataFrame({'feature': feature_names, 'importance': feature_importance})\n",
    "importance_df = importance_df.sort_values(by='importance')\n",
    "\n",
    "plt.figure(figsize=(10, 6))\n",
    "plt.barh(importance_df['feature'], importance_df['importance'],edgecolor='black')\n",
    "plt.xlabel('Степень важности')\n",
    "plt.ylabel('Признаки')\n",
    "plt.title('Важность признаков в CatBoost')\n",
    "plt.grid()\n",
    "plt.show()"
   ]
  },
  {
   "cell_type": "markdown",
   "metadata": {},
   "source": [
    "Судя по графику, модель меньше всего использовала как критерий мощность, возраст авто и модель."
   ]
  },
  {
   "cell_type": "markdown",
   "metadata": {},
   "source": [
    "## Вывод"
   ]
  },
  {
   "cell_type": "markdown",
   "metadata": {},
   "source": [
    "Этот проект был проведен для создания прогнозной составляющей приложения для сервиса по продаже автомобилей. Одной из функций этого приложения является прогнозирование стоимости автомобиля пользователя после введения данных о своем автомобиле. Т.к. это приложение то для удобства пользования необходимо, чтобы модель в реальном времени быстро отрабатывала: обучалась и совершала предсказание. Отсюда можно извлечь главные требования к прогнозной модели: минимизация времени обучения\\предсказания, высокая точность прогнозов.\n",
    "\n",
    "Исходные данные предсталяли собой таблицу, состоящую из 354369 строк и 16 признаков. Основными проблемами исходного датасета были пропуски, например, в столбце `repaired`, содержащем информацию о том, была ли машина в ремонте, остутствовало порядка 20% данных. Вероятно, что автовладельцы не отмечали это умышленно, однако стоимость автомобиля ремонтированного и нет отличается в 4 раза, поэтому данный признак улучшает качество предсказания. Было бы лучше для дальнейшего развития обучающей выборки, если этот признак станет обязательным в анкетировании. Также для предотвращения появления аномальных значений, например, в годе регистрации авто, можно ввести проверяющие условия при анкетировании, чтобы предотвратить ошибки и сделать данные более качественными.\n",
    "\n",
    "Исследовательский анализ позволил нам узнать следующие полезные для выбора модели особенности данных:\n",
    "+ таргет распределен ненормально;\n",
    "+ количественные признаки имеют выбросы;\n",
    "+ количественные признаки с целевым связаны нелинейно;\n",
    "+ судя по коэффициентам корреляции наибольшую связь с таргетом имеют категориальные признаки `age` (0.68) и `model`(0.58), тем не менее численно это является слабой связью. Что касается сильной то она есть между признаками `model`-`vehicle_type`(0.9) ,  и `model`-`brand`(1), что является недопустимым в линейных моделях.\n",
    "\n",
    "На основании этого было предпринято решение использовать нелинейные модели, устойчивые к выбросам, а именно стандартная Decision Tree Regressor и ансамбли деревьев с градиентным бустингом - LGBM и CatBoost.\n",
    "\n",
    "После этапа подбора гиперпараметров модели были выбраны три наиболее эффективные модели, по одной на каждый тип. Все модели прошли обучение на полном предобработанном датасете. После этого были измерены время обучения и предсказания и качество прогноза оценено с помощью метрики RMSE. Самым оптимальным выбором для выполнения поставленных задач стала модель CatBoost: по скорости не сильно уступающая быстрейшей, но демострирующая наилучшие прогнозные свойства (RMSE = 1711) из выбранных моделей. \n"
   ]
  },
  {
   "cell_type": "code",
   "execution_count": null,
   "metadata": {},
   "outputs": [],
   "source": []
  }
 ],
 "metadata": {
  "ExecuteTimeLog": [
   {
    "duration": 403,
    "start_time": "2025-03-19T10:26:24.831Z"
   },
   {
    "duration": 871,
    "start_time": "2025-03-19T10:29:51.935Z"
   },
   {
    "duration": 4,
    "start_time": "2025-03-19T10:33:49.158Z"
   },
   {
    "duration": 263,
    "start_time": "2025-03-19T10:34:04.327Z"
   },
   {
    "duration": 826,
    "start_time": "2025-03-19T10:34:44.341Z"
   },
   {
    "duration": 1762,
    "start_time": "2025-03-19T10:48:25.654Z"
   },
   {
    "duration": 231,
    "start_time": "2025-03-19T10:48:39.547Z"
   },
   {
    "duration": 1593,
    "start_time": "2025-03-19T10:50:54.298Z"
   },
   {
    "duration": 241,
    "start_time": "2025-03-19T10:51:00.918Z"
   },
   {
    "duration": 831,
    "start_time": "2025-03-19T10:53:23.625Z"
   },
   {
    "duration": 240,
    "start_time": "2025-03-19T10:53:31.265Z"
   },
   {
    "duration": 3235,
    "start_time": "2025-03-19T11:35:56.823Z"
   },
   {
    "duration": 2539,
    "start_time": "2025-03-19T11:36:02.178Z"
   },
   {
    "duration": 3262,
    "start_time": "2025-03-19T11:36:43.686Z"
   },
   {
    "duration": 2360,
    "start_time": "2025-03-19T11:36:52.098Z"
   },
   {
    "duration": 1997,
    "start_time": "2025-03-19T12:48:06.183Z"
   },
   {
    "duration": 1373,
    "start_time": "2025-03-19T12:48:40.349Z"
   },
   {
    "duration": 101,
    "start_time": "2025-03-19T12:49:08.498Z"
   },
   {
    "duration": 656,
    "start_time": "2025-03-19T12:49:11.589Z"
   },
   {
    "duration": 665,
    "start_time": "2025-03-19T12:49:38.444Z"
   },
   {
    "duration": 936,
    "start_time": "2025-03-19T13:11:14.697Z"
   },
   {
    "duration": 1026,
    "start_time": "2025-03-19T13:11:23.647Z"
   },
   {
    "duration": 4,
    "start_time": "2025-03-19T13:13:54.743Z"
   },
   {
    "duration": 4,
    "start_time": "2025-03-19T13:17:40.267Z"
   },
   {
    "duration": 4,
    "start_time": "2025-03-19T13:20:49.096Z"
   },
   {
    "duration": 4,
    "start_time": "2025-03-19T13:20:55.651Z"
   },
   {
    "duration": 27,
    "start_time": "2025-03-19T13:30:13.481Z"
   },
   {
    "duration": 5,
    "start_time": "2025-03-19T13:30:50.506Z"
   },
   {
    "duration": 3,
    "start_time": "2025-03-19T13:32:33.783Z"
   },
   {
    "duration": 5,
    "start_time": "2025-03-19T13:32:42.115Z"
   },
   {
    "duration": 9,
    "start_time": "2025-03-19T13:32:54.085Z"
   },
   {
    "duration": 5,
    "start_time": "2025-03-19T13:33:25.822Z"
   },
   {
    "duration": 7,
    "start_time": "2025-03-19T13:33:46.850Z"
   },
   {
    "duration": 7,
    "start_time": "2025-03-19T13:35:32.552Z"
   },
   {
    "duration": 8,
    "start_time": "2025-03-19T13:35:36.717Z"
   },
   {
    "duration": 4,
    "start_time": "2025-03-19T13:52:32.894Z"
   },
   {
    "duration": 4,
    "start_time": "2025-03-19T13:52:41.284Z"
   },
   {
    "duration": 4,
    "start_time": "2025-03-19T13:56:33.368Z"
   },
   {
    "duration": 3508,
    "start_time": "2025-03-19T13:56:49.432Z"
   },
   {
    "duration": 904,
    "start_time": "2025-03-19T13:56:52.942Z"
   },
   {
    "duration": 3,
    "start_time": "2025-03-19T13:56:53.848Z"
   },
   {
    "duration": 266,
    "start_time": "2025-03-19T13:56:53.852Z"
   },
   {
    "duration": 1334,
    "start_time": "2025-03-19T13:56:54.120Z"
   },
   {
    "duration": 1084,
    "start_time": "2025-03-19T13:56:55.456Z"
   },
   {
    "duration": 4,
    "start_time": "2025-03-19T13:56:56.541Z"
   },
   {
    "duration": 12,
    "start_time": "2025-03-19T13:56:56.547Z"
   },
   {
    "duration": 103,
    "start_time": "2025-03-19T14:00:48.629Z"
   },
   {
    "duration": 6,
    "start_time": "2025-03-19T14:00:58.166Z"
   },
   {
    "duration": 5,
    "start_time": "2025-03-19T14:01:12.439Z"
   },
   {
    "duration": 6,
    "start_time": "2025-03-19T14:01:18.239Z"
   },
   {
    "duration": 38,
    "start_time": "2025-03-19T14:03:56.546Z"
   },
   {
    "duration": 21,
    "start_time": "2025-03-19T14:04:21.583Z"
   },
   {
    "duration": 13,
    "start_time": "2025-03-19T14:04:28.311Z"
   },
   {
    "duration": 4,
    "start_time": "2025-03-19T14:04:37.034Z"
   },
   {
    "duration": 96,
    "start_time": "2025-03-19T14:06:20.221Z"
   },
   {
    "duration": 91,
    "start_time": "2025-03-19T14:07:34.184Z"
   },
   {
    "duration": 12,
    "start_time": "2025-03-19T14:08:29.596Z"
   },
   {
    "duration": 89,
    "start_time": "2025-03-19T14:14:30.368Z"
   },
   {
    "duration": 92,
    "start_time": "2025-03-19T14:15:59.288Z"
   },
   {
    "duration": 4,
    "start_time": "2025-03-19T14:16:03.577Z"
   },
   {
    "duration": 130,
    "start_time": "2025-03-19T14:20:57.593Z"
   },
   {
    "duration": 90,
    "start_time": "2025-03-19T14:21:37.148Z"
   },
   {
    "duration": 115,
    "start_time": "2025-03-19T14:21:52.143Z"
   },
   {
    "duration": 68,
    "start_time": "2025-03-19T14:21:55.085Z"
   },
   {
    "duration": 70,
    "start_time": "2025-03-19T14:22:01.699Z"
   },
   {
    "duration": 73,
    "start_time": "2025-03-19T14:25:32.173Z"
   },
   {
    "duration": 69,
    "start_time": "2025-03-19T14:25:41.715Z"
   },
   {
    "duration": 7,
    "start_time": "2025-03-19T14:25:52.230Z"
   },
   {
    "duration": 4,
    "start_time": "2025-03-19T14:25:55.787Z"
   },
   {
    "duration": 98,
    "start_time": "2025-03-19T14:31:01.642Z"
   },
   {
    "duration": 3509,
    "start_time": "2025-03-19T14:31:31.062Z"
   },
   {
    "duration": 920,
    "start_time": "2025-03-19T14:31:34.575Z"
   },
   {
    "duration": 4,
    "start_time": "2025-03-19T14:31:35.497Z"
   },
   {
    "duration": 254,
    "start_time": "2025-03-19T14:31:35.502Z"
   },
   {
    "duration": 1305,
    "start_time": "2025-03-19T14:31:35.758Z"
   },
   {
    "duration": 1062,
    "start_time": "2025-03-19T14:31:37.064Z"
   },
   {
    "duration": 4,
    "start_time": "2025-03-19T14:31:38.129Z"
   },
   {
    "duration": 14,
    "start_time": "2025-03-19T14:31:38.135Z"
   },
   {
    "duration": 6,
    "start_time": "2025-03-19T14:31:38.151Z"
   },
   {
    "duration": 27,
    "start_time": "2025-03-19T14:31:38.158Z"
   },
   {
    "duration": 13,
    "start_time": "2025-03-19T14:31:38.187Z"
   },
   {
    "duration": 121,
    "start_time": "2025-03-19T14:31:38.202Z"
   },
   {
    "duration": 130,
    "start_time": "2025-03-19T14:31:38.325Z"
   },
   {
    "duration": 3470,
    "start_time": "2025-03-19T14:32:51.874Z"
   },
   {
    "duration": 904,
    "start_time": "2025-03-19T14:32:55.346Z"
   },
   {
    "duration": 4,
    "start_time": "2025-03-19T14:32:56.252Z"
   },
   {
    "duration": 245,
    "start_time": "2025-03-19T14:32:56.258Z"
   },
   {
    "duration": 1374,
    "start_time": "2025-03-19T14:32:56.505Z"
   },
   {
    "duration": 1074,
    "start_time": "2025-03-19T14:32:57.880Z"
   },
   {
    "duration": 4,
    "start_time": "2025-03-19T14:32:58.955Z"
   },
   {
    "duration": 81,
    "start_time": "2025-03-19T14:32:58.961Z"
   },
   {
    "duration": 10,
    "start_time": "2025-03-19T14:32:59.044Z"
   },
   {
    "duration": 25,
    "start_time": "2025-03-19T14:32:59.056Z"
   },
   {
    "duration": 13,
    "start_time": "2025-03-19T14:32:59.083Z"
   },
   {
    "duration": 129,
    "start_time": "2025-03-19T14:32:59.097Z"
   },
   {
    "duration": 119,
    "start_time": "2025-03-19T14:32:59.228Z"
   },
   {
    "duration": 3697,
    "start_time": "2025-03-19T14:33:59.853Z"
   },
   {
    "duration": 969,
    "start_time": "2025-03-19T14:34:03.552Z"
   },
   {
    "duration": 8,
    "start_time": "2025-03-19T14:34:04.522Z"
   },
   {
    "duration": 238,
    "start_time": "2025-03-19T14:34:04.532Z"
   },
   {
    "duration": 1311,
    "start_time": "2025-03-19T14:34:04.772Z"
   },
   {
    "duration": 1076,
    "start_time": "2025-03-19T14:34:06.084Z"
   },
   {
    "duration": 4,
    "start_time": "2025-03-19T14:34:07.162Z"
   },
   {
    "duration": 58,
    "start_time": "2025-03-19T14:34:07.167Z"
   },
   {
    "duration": 42,
    "start_time": "2025-03-19T14:34:07.226Z"
   },
   {
    "duration": 102,
    "start_time": "2025-03-19T14:34:07.270Z"
   },
   {
    "duration": 14,
    "start_time": "2025-03-19T14:34:07.374Z"
   },
   {
    "duration": 96,
    "start_time": "2025-03-19T14:34:07.389Z"
   },
   {
    "duration": 117,
    "start_time": "2025-03-19T14:34:07.487Z"
   },
   {
    "duration": 231,
    "start_time": "2025-03-19T14:36:21.357Z"
   },
   {
    "duration": 201,
    "start_time": "2025-03-19T14:36:26.873Z"
   },
   {
    "duration": 3495,
    "start_time": "2025-03-19T15:28:45.611Z"
   },
   {
    "duration": 874,
    "start_time": "2025-03-19T15:28:49.108Z"
   },
   {
    "duration": 3,
    "start_time": "2025-03-19T15:28:49.984Z"
   },
   {
    "duration": 240,
    "start_time": "2025-03-19T15:28:49.990Z"
   },
   {
    "duration": 1323,
    "start_time": "2025-03-19T15:28:50.231Z"
   },
   {
    "duration": 1033,
    "start_time": "2025-03-19T15:28:51.556Z"
   },
   {
    "duration": 3,
    "start_time": "2025-03-19T15:28:52.591Z"
   },
   {
    "duration": 8,
    "start_time": "2025-03-19T15:28:52.595Z"
   },
   {
    "duration": 14,
    "start_time": "2025-03-19T15:28:52.604Z"
   },
   {
    "duration": 25,
    "start_time": "2025-03-19T15:28:52.621Z"
   },
   {
    "duration": 13,
    "start_time": "2025-03-19T15:28:52.647Z"
   },
   {
    "duration": 107,
    "start_time": "2025-03-19T15:28:52.661Z"
   },
   {
    "duration": 2,
    "start_time": "2025-03-19T15:28:52.770Z"
   },
   {
    "duration": 260,
    "start_time": "2025-03-19T15:28:52.773Z"
   },
   {
    "duration": 97,
    "start_time": "2025-03-19T15:56:07.339Z"
   },
   {
    "duration": 90,
    "start_time": "2025-03-19T15:56:47.368Z"
   },
   {
    "duration": 87,
    "start_time": "2025-03-19T15:57:13.801Z"
   },
   {
    "duration": 3529,
    "start_time": "2025-03-19T15:58:10.203Z"
   },
   {
    "duration": 927,
    "start_time": "2025-03-19T15:58:13.733Z"
   },
   {
    "duration": 3,
    "start_time": "2025-03-19T15:58:14.662Z"
   },
   {
    "duration": 249,
    "start_time": "2025-03-19T15:58:14.667Z"
   },
   {
    "duration": 1344,
    "start_time": "2025-03-19T15:58:14.918Z"
   },
   {
    "duration": 1069,
    "start_time": "2025-03-19T15:58:16.265Z"
   },
   {
    "duration": 4,
    "start_time": "2025-03-19T15:58:17.335Z"
   },
   {
    "duration": 5,
    "start_time": "2025-03-19T15:58:17.341Z"
   },
   {
    "duration": 8,
    "start_time": "2025-03-19T15:58:17.347Z"
   },
   {
    "duration": 26,
    "start_time": "2025-03-19T15:58:17.357Z"
   },
   {
    "duration": 79,
    "start_time": "2025-03-19T15:58:17.384Z"
   },
   {
    "duration": 101,
    "start_time": "2025-03-19T15:58:17.465Z"
   },
   {
    "duration": 193,
    "start_time": "2025-03-19T15:58:17.568Z"
   },
   {
    "duration": 0,
    "start_time": "2025-03-19T15:58:17.764Z"
   },
   {
    "duration": 0,
    "start_time": "2025-03-19T15:58:17.765Z"
   },
   {
    "duration": 301,
    "start_time": "2025-03-19T15:59:35.852Z"
   },
   {
    "duration": 307,
    "start_time": "2025-03-19T15:59:51.290Z"
   },
   {
    "duration": 289,
    "start_time": "2025-03-19T16:00:31.377Z"
   },
   {
    "duration": 287,
    "start_time": "2025-03-19T16:01:10.796Z"
   },
   {
    "duration": 95,
    "start_time": "2025-03-19T16:01:22.080Z"
   },
   {
    "duration": 299,
    "start_time": "2025-03-19T16:01:48.131Z"
   },
   {
    "duration": 294,
    "start_time": "2025-03-19T16:02:13.718Z"
   },
   {
    "duration": 577,
    "start_time": "2025-03-19T16:03:35.953Z"
   },
   {
    "duration": 93,
    "start_time": "2025-03-19T17:18:16.974Z"
   },
   {
    "duration": 6,
    "start_time": "2025-03-19T17:18:57.661Z"
   },
   {
    "duration": 21,
    "start_time": "2025-03-19T17:19:09.535Z"
   },
   {
    "duration": 7,
    "start_time": "2025-03-19T17:19:23.379Z"
   },
   {
    "duration": 130,
    "start_time": "2025-03-19T17:21:07.443Z"
   },
   {
    "duration": 16,
    "start_time": "2025-03-19T17:21:20.047Z"
   },
   {
    "duration": 11,
    "start_time": "2025-03-19T17:23:08.370Z"
   },
   {
    "duration": 49,
    "start_time": "2025-03-19T17:25:39.536Z"
   },
   {
    "duration": 46,
    "start_time": "2025-03-19T17:25:45.046Z"
   },
   {
    "duration": 49,
    "start_time": "2025-03-19T17:27:46.791Z"
   },
   {
    "duration": 5,
    "start_time": "2025-03-19T17:27:51.399Z"
   },
   {
    "duration": 35,
    "start_time": "2025-03-19T17:28:27.086Z"
   },
   {
    "duration": 28,
    "start_time": "2025-03-19T17:28:34.828Z"
   },
   {
    "duration": 127,
    "start_time": "2025-03-19T17:29:20.233Z"
   },
   {
    "duration": 10,
    "start_time": "2025-03-19T17:30:09.032Z"
   },
   {
    "duration": 49,
    "start_time": "2025-03-20T05:46:54.315Z"
   },
   {
    "duration": 4820,
    "start_time": "2025-03-20T05:47:00.453Z"
   },
   {
    "duration": 3737,
    "start_time": "2025-03-20T05:47:40.958Z"
   },
   {
    "duration": 1027,
    "start_time": "2025-03-20T05:47:44.697Z"
   },
   {
    "duration": 5,
    "start_time": "2025-03-20T05:47:45.726Z"
   },
   {
    "duration": 280,
    "start_time": "2025-03-20T05:47:45.735Z"
   },
   {
    "duration": 1411,
    "start_time": "2025-03-20T05:47:46.017Z"
   },
   {
    "duration": 1116,
    "start_time": "2025-03-20T05:47:47.430Z"
   },
   {
    "duration": 4,
    "start_time": "2025-03-20T05:47:48.548Z"
   },
   {
    "duration": 17,
    "start_time": "2025-03-20T05:47:48.554Z"
   },
   {
    "duration": 13,
    "start_time": "2025-03-20T05:47:48.573Z"
   },
   {
    "duration": 28,
    "start_time": "2025-03-20T05:47:48.589Z"
   },
   {
    "duration": 146,
    "start_time": "2025-03-20T05:47:48.619Z"
   },
   {
    "duration": 327,
    "start_time": "2025-03-20T05:47:48.768Z"
   },
   {
    "duration": 2,
    "start_time": "2025-03-20T05:47:49.097Z"
   },
   {
    "duration": 282,
    "start_time": "2025-03-20T05:47:49.101Z"
   },
   {
    "duration": 578,
    "start_time": "2025-03-20T05:47:49.384Z"
   },
   {
    "duration": 105,
    "start_time": "2025-03-20T05:47:49.968Z"
   },
   {
    "duration": 6,
    "start_time": "2025-03-20T05:47:50.075Z"
   },
   {
    "duration": 28,
    "start_time": "2025-03-20T05:47:50.082Z"
   },
   {
    "duration": 8,
    "start_time": "2025-03-20T05:47:50.112Z"
   },
   {
    "duration": 65,
    "start_time": "2025-03-20T05:47:50.122Z"
   },
   {
    "duration": 4,
    "start_time": "2025-03-20T05:47:50.189Z"
   },
   {
    "duration": 126,
    "start_time": "2025-03-20T05:48:33.027Z"
   },
   {
    "duration": 34,
    "start_time": "2025-03-20T05:48:49.477Z"
   },
   {
    "duration": 47,
    "start_time": "2025-03-20T05:51:31.010Z"
   },
   {
    "duration": 19,
    "start_time": "2025-03-20T05:51:41.812Z"
   },
   {
    "duration": 15,
    "start_time": "2025-03-20T05:53:05.357Z"
   },
   {
    "duration": 45,
    "start_time": "2025-03-20T05:53:47.907Z"
   },
   {
    "duration": 3769,
    "start_time": "2025-03-20T05:55:09.335Z"
   },
   {
    "duration": 902,
    "start_time": "2025-03-20T05:55:13.106Z"
   },
   {
    "duration": 4,
    "start_time": "2025-03-20T05:55:14.009Z"
   },
   {
    "duration": 240,
    "start_time": "2025-03-20T05:55:14.014Z"
   },
   {
    "duration": 1456,
    "start_time": "2025-03-20T05:55:14.256Z"
   },
   {
    "duration": 1107,
    "start_time": "2025-03-20T05:55:15.713Z"
   },
   {
    "duration": 5,
    "start_time": "2025-03-20T05:55:16.822Z"
   },
   {
    "duration": 10,
    "start_time": "2025-03-20T05:55:16.828Z"
   },
   {
    "duration": 8,
    "start_time": "2025-03-20T05:55:16.840Z"
   },
   {
    "duration": 30,
    "start_time": "2025-03-20T05:55:16.868Z"
   },
   {
    "duration": 122,
    "start_time": "2025-03-20T05:55:16.900Z"
   },
   {
    "duration": 317,
    "start_time": "2025-03-20T05:55:17.024Z"
   },
   {
    "duration": 3,
    "start_time": "2025-03-20T05:55:17.342Z"
   },
   {
    "duration": 291,
    "start_time": "2025-03-20T05:55:17.347Z"
   },
   {
    "duration": 561,
    "start_time": "2025-03-20T05:55:17.639Z"
   },
   {
    "duration": 104,
    "start_time": "2025-03-20T05:55:18.202Z"
   },
   {
    "duration": 7,
    "start_time": "2025-03-20T05:55:18.308Z"
   },
   {
    "duration": 29,
    "start_time": "2025-03-20T05:55:18.317Z"
   },
   {
    "duration": 63,
    "start_time": "2025-03-20T05:55:18.347Z"
   },
   {
    "duration": 2,
    "start_time": "2025-03-20T05:55:18.412Z"
   },
   {
    "duration": 5,
    "start_time": "2025-03-20T05:55:18.416Z"
   },
   {
    "duration": 15,
    "start_time": "2025-03-20T05:56:19.058Z"
   },
   {
    "duration": 14,
    "start_time": "2025-03-20T05:56:25.425Z"
   },
   {
    "duration": 2,
    "start_time": "2025-03-20T06:02:27.082Z"
   },
   {
    "duration": 136,
    "start_time": "2025-03-20T06:03:03.828Z"
   },
   {
    "duration": 143,
    "start_time": "2025-03-20T06:03:11.534Z"
   },
   {
    "duration": 161,
    "start_time": "2025-03-20T06:03:30.960Z"
   },
   {
    "duration": 165,
    "start_time": "2025-03-20T06:04:10.476Z"
   },
   {
    "duration": 155,
    "start_time": "2025-03-20T06:04:59.783Z"
   },
   {
    "duration": 175,
    "start_time": "2025-03-20T06:05:07.286Z"
   },
   {
    "duration": 260,
    "start_time": "2025-03-20T06:05:32.755Z"
   },
   {
    "duration": 140,
    "start_time": "2025-03-20T06:05:42.777Z"
   },
   {
    "duration": 151,
    "start_time": "2025-03-20T06:05:47.534Z"
   },
   {
    "duration": 147,
    "start_time": "2025-03-20T06:05:58.432Z"
   },
   {
    "duration": 4470,
    "start_time": "2025-03-20T07:46:58.598Z"
   },
   {
    "duration": 931,
    "start_time": "2025-03-20T07:47:03.071Z"
   },
   {
    "duration": 3,
    "start_time": "2025-03-20T07:47:04.004Z"
   },
   {
    "duration": 256,
    "start_time": "2025-03-20T07:47:04.008Z"
   },
   {
    "duration": 1301,
    "start_time": "2025-03-20T07:47:04.267Z"
   },
   {
    "duration": 1101,
    "start_time": "2025-03-20T07:47:05.570Z"
   },
   {
    "duration": 4,
    "start_time": "2025-03-20T07:47:06.672Z"
   },
   {
    "duration": 9,
    "start_time": "2025-03-20T07:47:06.678Z"
   },
   {
    "duration": 6,
    "start_time": "2025-03-20T07:47:06.689Z"
   },
   {
    "duration": 48,
    "start_time": "2025-03-20T07:47:06.696Z"
   },
   {
    "duration": 93,
    "start_time": "2025-03-20T07:47:06.746Z"
   },
   {
    "duration": 303,
    "start_time": "2025-03-20T07:47:06.841Z"
   },
   {
    "duration": 2,
    "start_time": "2025-03-20T07:47:07.146Z"
   },
   {
    "duration": 293,
    "start_time": "2025-03-20T07:47:07.151Z"
   },
   {
    "duration": 543,
    "start_time": "2025-03-20T07:47:07.446Z"
   },
   {
    "duration": 102,
    "start_time": "2025-03-20T07:47:07.990Z"
   },
   {
    "duration": 6,
    "start_time": "2025-03-20T07:47:08.093Z"
   },
   {
    "duration": 40,
    "start_time": "2025-03-20T07:47:08.100Z"
   },
   {
    "duration": 12,
    "start_time": "2025-03-20T07:47:08.141Z"
   },
   {
    "duration": 42,
    "start_time": "2025-03-20T07:47:08.154Z"
   },
   {
    "duration": 2,
    "start_time": "2025-03-20T07:47:08.198Z"
   },
   {
    "duration": 135,
    "start_time": "2025-03-20T07:47:08.201Z"
   },
   {
    "duration": 2,
    "start_time": "2025-03-20T07:47:08.337Z"
   },
   {
    "duration": 16,
    "start_time": "2025-03-20T07:47:08.340Z"
   },
   {
    "duration": 9,
    "start_time": "2025-03-20T07:48:15.144Z"
   },
   {
    "duration": 8,
    "start_time": "2025-03-20T07:48:22.188Z"
   },
   {
    "duration": 7,
    "start_time": "2025-03-20T07:49:03.786Z"
   },
   {
    "duration": 7,
    "start_time": "2025-03-20T07:49:22.185Z"
   },
   {
    "duration": 116,
    "start_time": "2025-03-20T07:49:57.909Z"
   },
   {
    "duration": 7,
    "start_time": "2025-03-20T07:50:33.091Z"
   },
   {
    "duration": 96,
    "start_time": "2025-03-20T07:54:39.908Z"
   },
   {
    "duration": 4,
    "start_time": "2025-03-20T07:54:43.940Z"
   },
   {
    "duration": 5,
    "start_time": "2025-03-20T07:54:52.519Z"
   },
   {
    "duration": 5,
    "start_time": "2025-03-20T07:55:25.051Z"
   },
   {
    "duration": 121,
    "start_time": "2025-03-20T07:55:40.040Z"
   },
   {
    "duration": 261,
    "start_time": "2025-03-20T07:56:33.195Z"
   },
   {
    "duration": 9,
    "start_time": "2025-03-20T07:58:31.434Z"
   },
   {
    "duration": 13,
    "start_time": "2025-03-20T07:58:39.684Z"
   },
   {
    "duration": 5,
    "start_time": "2025-03-20T07:59:15.797Z"
   },
   {
    "duration": 204,
    "start_time": "2025-03-20T08:04:13.175Z"
   },
   {
    "duration": 6,
    "start_time": "2025-03-20T08:04:55.861Z"
   },
   {
    "duration": 6,
    "start_time": "2025-03-20T08:05:15.410Z"
   },
   {
    "duration": 276,
    "start_time": "2025-03-20T08:06:04.364Z"
   },
   {
    "duration": 11,
    "start_time": "2025-03-20T08:06:14.483Z"
   },
   {
    "duration": 22,
    "start_time": "2025-03-20T08:06:51.942Z"
   },
   {
    "duration": 5,
    "start_time": "2025-03-20T09:51:26.419Z"
   },
   {
    "duration": 22,
    "start_time": "2025-03-20T09:51:33.828Z"
   },
   {
    "duration": 25,
    "start_time": "2025-03-20T09:52:31.641Z"
   },
   {
    "duration": 21,
    "start_time": "2025-03-20T09:55:13.925Z"
   },
   {
    "duration": 11,
    "start_time": "2025-03-20T09:57:02.496Z"
   },
   {
    "duration": 12,
    "start_time": "2025-03-20T09:57:07.791Z"
   },
   {
    "duration": 128,
    "start_time": "2025-03-20T09:57:22.498Z"
   },
   {
    "duration": 7,
    "start_time": "2025-03-20T10:00:44.654Z"
   },
   {
    "duration": 132,
    "start_time": "2025-03-20T10:01:24.975Z"
   },
   {
    "duration": 136,
    "start_time": "2025-03-20T10:01:46.263Z"
   },
   {
    "duration": 181,
    "start_time": "2025-03-20T10:02:07.331Z"
   },
   {
    "duration": 162,
    "start_time": "2025-03-20T10:02:16.158Z"
   },
   {
    "duration": 139,
    "start_time": "2025-03-20T10:02:19.588Z"
   },
   {
    "duration": 141,
    "start_time": "2025-03-20T10:02:35.821Z"
   },
   {
    "duration": 157,
    "start_time": "2025-03-20T10:03:41.200Z"
   },
   {
    "duration": 159,
    "start_time": "2025-03-20T10:03:45.440Z"
   },
   {
    "duration": 144,
    "start_time": "2025-03-20T10:04:05.850Z"
   },
   {
    "duration": 253,
    "start_time": "2025-03-20T10:04:14.364Z"
   },
   {
    "duration": 140,
    "start_time": "2025-03-20T10:04:24.676Z"
   },
   {
    "duration": 130,
    "start_time": "2025-03-20T10:05:23.503Z"
   },
   {
    "duration": 146,
    "start_time": "2025-03-20T10:05:38.242Z"
   },
   {
    "duration": 142,
    "start_time": "2025-03-20T10:07:38.959Z"
   },
   {
    "duration": 238,
    "start_time": "2025-03-20T10:07:48.289Z"
   },
   {
    "duration": 1330,
    "start_time": "2025-03-20T10:07:53.078Z"
   },
   {
    "duration": 1326,
    "start_time": "2025-03-20T10:09:37.827Z"
   },
   {
    "duration": 1361,
    "start_time": "2025-03-20T10:09:54.527Z"
   },
   {
    "duration": 1370,
    "start_time": "2025-03-20T10:10:02.441Z"
   },
   {
    "duration": 10,
    "start_time": "2025-03-20T10:11:48.062Z"
   },
   {
    "duration": 23,
    "start_time": "2025-03-20T10:11:56.335Z"
   },
   {
    "duration": 42,
    "start_time": "2025-03-20T10:12:11.269Z"
   },
   {
    "duration": 1334,
    "start_time": "2025-03-20T10:12:53.739Z"
   },
   {
    "duration": 6,
    "start_time": "2025-03-20T10:13:35.121Z"
   },
   {
    "duration": 32,
    "start_time": "2025-03-20T10:14:58.341Z"
   },
   {
    "duration": 7,
    "start_time": "2025-03-20T10:15:06.847Z"
   },
   {
    "duration": 39,
    "start_time": "2025-03-20T10:15:27.808Z"
   },
   {
    "duration": 6,
    "start_time": "2025-03-20T10:15:31.875Z"
   },
   {
    "duration": 97,
    "start_time": "2025-03-20T10:16:00.233Z"
   },
   {
    "duration": 21,
    "start_time": "2025-03-20T10:16:29.912Z"
   },
   {
    "duration": 35,
    "start_time": "2025-03-20T10:16:40.981Z"
   },
   {
    "duration": 4,
    "start_time": "2025-03-20T10:17:04.263Z"
   },
   {
    "duration": 183,
    "start_time": "2025-03-20T10:17:26.355Z"
   },
   {
    "duration": 134,
    "start_time": "2025-03-20T10:23:08.045Z"
   },
   {
    "duration": 2547,
    "start_time": "2025-03-20T10:23:32.026Z"
   },
   {
    "duration": 1317,
    "start_time": "2025-03-20T10:23:49.363Z"
   },
   {
    "duration": 1321,
    "start_time": "2025-03-20T10:24:13.749Z"
   },
   {
    "duration": 7,
    "start_time": "2025-03-20T10:25:10.996Z"
   },
   {
    "duration": 140,
    "start_time": "2025-03-20T10:25:22.501Z"
   },
   {
    "duration": 1259,
    "start_time": "2025-03-20T10:25:40.416Z"
   },
   {
    "duration": 30,
    "start_time": "2025-03-20T10:26:15.850Z"
   },
   {
    "duration": 1333,
    "start_time": "2025-03-20T10:27:59.880Z"
   },
   {
    "duration": 1278,
    "start_time": "2025-03-20T10:28:08.566Z"
   },
   {
    "duration": 32,
    "start_time": "2025-03-20T10:32:17.395Z"
   },
   {
    "duration": 142,
    "start_time": "2025-03-20T10:32:29.060Z"
   },
   {
    "duration": 27,
    "start_time": "2025-03-20T10:32:45.544Z"
   },
   {
    "duration": 26,
    "start_time": "2025-03-20T10:33:17.575Z"
   },
   {
    "duration": 123,
    "start_time": "2025-03-20T10:33:20.675Z"
   },
   {
    "duration": 25,
    "start_time": "2025-03-20T10:34:21.382Z"
   },
   {
    "duration": 3449,
    "start_time": "2025-03-20T10:34:31.136Z"
   },
   {
    "duration": 933,
    "start_time": "2025-03-20T10:34:34.587Z"
   },
   {
    "duration": 4,
    "start_time": "2025-03-20T10:34:35.521Z"
   },
   {
    "duration": 260,
    "start_time": "2025-03-20T10:34:35.536Z"
   },
   {
    "duration": 1287,
    "start_time": "2025-03-20T10:34:35.797Z"
   },
   {
    "duration": 1076,
    "start_time": "2025-03-20T10:34:37.086Z"
   },
   {
    "duration": 4,
    "start_time": "2025-03-20T10:34:38.164Z"
   },
   {
    "duration": 5,
    "start_time": "2025-03-20T10:34:38.169Z"
   },
   {
    "duration": 6,
    "start_time": "2025-03-20T10:34:38.175Z"
   },
   {
    "duration": 29,
    "start_time": "2025-03-20T10:34:38.183Z"
   },
   {
    "duration": 99,
    "start_time": "2025-03-20T10:34:38.236Z"
   },
   {
    "duration": 299,
    "start_time": "2025-03-20T10:34:38.337Z"
   },
   {
    "duration": 2,
    "start_time": "2025-03-20T10:34:38.637Z"
   },
   {
    "duration": 281,
    "start_time": "2025-03-20T10:34:38.641Z"
   },
   {
    "duration": 529,
    "start_time": "2025-03-20T10:34:38.924Z"
   },
   {
    "duration": 101,
    "start_time": "2025-03-20T10:34:39.454Z"
   },
   {
    "duration": 6,
    "start_time": "2025-03-20T10:34:39.556Z"
   },
   {
    "duration": 26,
    "start_time": "2025-03-20T10:34:39.564Z"
   },
   {
    "duration": 13,
    "start_time": "2025-03-20T10:34:39.591Z"
   },
   {
    "duration": 32,
    "start_time": "2025-03-20T10:34:39.605Z"
   },
   {
    "duration": 5,
    "start_time": "2025-03-20T10:34:39.638Z"
   },
   {
    "duration": 2,
    "start_time": "2025-03-20T10:34:39.645Z"
   },
   {
    "duration": 7,
    "start_time": "2025-03-20T10:34:39.648Z"
   },
   {
    "duration": 140,
    "start_time": "2025-03-20T10:34:39.656Z"
   },
   {
    "duration": 6,
    "start_time": "2025-03-20T10:34:39.798Z"
   },
   {
    "duration": 36,
    "start_time": "2025-03-20T10:34:39.805Z"
   },
   {
    "duration": 11,
    "start_time": "2025-03-20T10:34:39.842Z"
   },
   {
    "duration": 148,
    "start_time": "2025-03-20T10:34:39.856Z"
   },
   {
    "duration": 1284,
    "start_time": "2025-03-20T10:34:40.006Z"
   },
   {
    "duration": 29,
    "start_time": "2025-03-20T10:34:41.292Z"
   },
   {
    "duration": 17,
    "start_time": "2025-03-20T10:34:41.323Z"
   },
   {
    "duration": 37,
    "start_time": "2025-03-20T10:34:41.342Z"
   },
   {
    "duration": 4,
    "start_time": "2025-03-20T10:34:41.381Z"
   },
   {
    "duration": 180,
    "start_time": "2025-03-20T10:34:41.387Z"
   },
   {
    "duration": 1280,
    "start_time": "2025-03-20T10:34:41.569Z"
   },
   {
    "duration": 32,
    "start_time": "2025-03-20T10:34:42.851Z"
   },
   {
    "duration": 236,
    "start_time": "2025-03-20T10:34:42.885Z"
   },
   {
    "duration": 24,
    "start_time": "2025-03-20T10:35:20.232Z"
   },
   {
    "duration": 44,
    "start_time": "2025-03-20T10:36:43.134Z"
   },
   {
    "duration": 28,
    "start_time": "2025-03-20T10:37:02.497Z"
   },
   {
    "duration": 22,
    "start_time": "2025-03-20T10:37:48.009Z"
   },
   {
    "duration": 21,
    "start_time": "2025-03-20T10:37:56.354Z"
   },
   {
    "duration": 34,
    "start_time": "2025-03-20T10:38:07.417Z"
   },
   {
    "duration": 5,
    "start_time": "2025-03-20T10:42:51.646Z"
   },
   {
    "duration": 96,
    "start_time": "2025-03-20T10:42:59.685Z"
   },
   {
    "duration": 54,
    "start_time": "2025-03-20T10:44:29.581Z"
   },
   {
    "duration": 72,
    "start_time": "2025-03-20T10:44:43.607Z"
   },
   {
    "duration": 61,
    "start_time": "2025-03-20T10:44:53.137Z"
   },
   {
    "duration": 55,
    "start_time": "2025-03-20T10:45:10.182Z"
   },
   {
    "duration": 78,
    "start_time": "2025-03-20T10:46:00.012Z"
   },
   {
    "duration": 3713,
    "start_time": "2025-03-20T10:46:59.337Z"
   },
   {
    "duration": 911,
    "start_time": "2025-03-20T10:47:03.052Z"
   },
   {
    "duration": 3,
    "start_time": "2025-03-20T10:47:03.965Z"
   },
   {
    "duration": 276,
    "start_time": "2025-03-20T10:47:03.970Z"
   },
   {
    "duration": 1432,
    "start_time": "2025-03-20T10:47:04.248Z"
   },
   {
    "duration": 1085,
    "start_time": "2025-03-20T10:47:05.682Z"
   },
   {
    "duration": 4,
    "start_time": "2025-03-20T10:47:06.769Z"
   },
   {
    "duration": 12,
    "start_time": "2025-03-20T10:47:06.774Z"
   },
   {
    "duration": 6,
    "start_time": "2025-03-20T10:47:06.787Z"
   },
   {
    "duration": 45,
    "start_time": "2025-03-20T10:47:06.794Z"
   },
   {
    "duration": 88,
    "start_time": "2025-03-20T10:47:06.841Z"
   },
   {
    "duration": 320,
    "start_time": "2025-03-20T10:47:06.934Z"
   },
   {
    "duration": 2,
    "start_time": "2025-03-20T10:47:07.255Z"
   },
   {
    "duration": 284,
    "start_time": "2025-03-20T10:47:07.260Z"
   },
   {
    "duration": 542,
    "start_time": "2025-03-20T10:47:07.546Z"
   },
   {
    "duration": 101,
    "start_time": "2025-03-20T10:47:08.089Z"
   },
   {
    "duration": 5,
    "start_time": "2025-03-20T10:47:08.192Z"
   },
   {
    "duration": 43,
    "start_time": "2025-03-20T10:47:08.199Z"
   },
   {
    "duration": 12,
    "start_time": "2025-03-20T10:47:08.244Z"
   },
   {
    "duration": 7,
    "start_time": "2025-03-20T10:47:08.258Z"
   },
   {
    "duration": 5,
    "start_time": "2025-03-20T10:47:08.267Z"
   },
   {
    "duration": 3,
    "start_time": "2025-03-20T10:47:08.273Z"
   },
   {
    "duration": 5,
    "start_time": "2025-03-20T10:47:08.277Z"
   },
   {
    "duration": 154,
    "start_time": "2025-03-20T10:47:08.283Z"
   },
   {
    "duration": 6,
    "start_time": "2025-03-20T10:47:08.439Z"
   },
   {
    "duration": 20,
    "start_time": "2025-03-20T10:47:08.447Z"
   },
   {
    "duration": 11,
    "start_time": "2025-03-20T10:47:08.468Z"
   },
   {
    "duration": 157,
    "start_time": "2025-03-20T10:47:08.480Z"
   },
   {
    "duration": 1240,
    "start_time": "2025-03-20T10:47:08.638Z"
   },
   {
    "duration": 28,
    "start_time": "2025-03-20T10:47:09.880Z"
   },
   {
    "duration": 6,
    "start_time": "2025-03-20T10:47:09.909Z"
   },
   {
    "duration": 53,
    "start_time": "2025-03-20T10:47:09.916Z"
   },
   {
    "duration": 5,
    "start_time": "2025-03-20T10:47:09.970Z"
   },
   {
    "duration": 165,
    "start_time": "2025-03-20T10:47:09.977Z"
   },
   {
    "duration": 1331,
    "start_time": "2025-03-20T10:47:10.143Z"
   },
   {
    "duration": 29,
    "start_time": "2025-03-20T10:47:11.476Z"
   },
   {
    "duration": 148,
    "start_time": "2025-03-20T10:47:11.507Z"
   },
   {
    "duration": 22,
    "start_time": "2025-03-20T10:47:11.656Z"
   },
   {
    "duration": 23,
    "start_time": "2025-03-20T10:47:11.680Z"
   },
   {
    "duration": 11,
    "start_time": "2025-03-20T10:47:11.704Z"
   },
   {
    "duration": 55,
    "start_time": "2025-03-20T10:47:11.738Z"
   },
   {
    "duration": 92,
    "start_time": "2025-03-20T10:47:11.794Z"
   },
   {
    "duration": 4,
    "start_time": "2025-03-20T10:49:33.095Z"
   },
   {
    "duration": 1490,
    "start_time": "2025-03-20T10:50:36.739Z"
   },
   {
    "duration": 148,
    "start_time": "2025-03-20T10:50:46.693Z"
   },
   {
    "duration": 6,
    "start_time": "2025-03-20T10:51:05.537Z"
   },
   {
    "duration": 6,
    "start_time": "2025-03-20T10:52:17.520Z"
   },
   {
    "duration": 6,
    "start_time": "2025-03-20T10:53:08.726Z"
   },
   {
    "duration": 6,
    "start_time": "2025-03-20T10:53:11.037Z"
   },
   {
    "duration": 21,
    "start_time": "2025-03-20T10:53:31.924Z"
   },
   {
    "duration": 33,
    "start_time": "2025-03-20T10:54:12.153Z"
   },
   {
    "duration": 22,
    "start_time": "2025-03-20T10:55:18.431Z"
   },
   {
    "duration": 34,
    "start_time": "2025-03-20T10:55:20.822Z"
   },
   {
    "duration": 20,
    "start_time": "2025-03-20T10:55:40.814Z"
   },
   {
    "duration": 4,
    "start_time": "2025-03-20T11:57:43.881Z"
   },
   {
    "duration": 17,
    "start_time": "2025-03-20T11:58:05.537Z"
   },
   {
    "duration": 7,
    "start_time": "2025-03-20T11:58:15.821Z"
   },
   {
    "duration": 7,
    "start_time": "2025-03-20T11:58:28.028Z"
   },
   {
    "duration": 14,
    "start_time": "2025-03-20T11:58:36.944Z"
   },
   {
    "duration": 3500,
    "start_time": "2025-03-20T12:12:32.149Z"
   },
   {
    "duration": 906,
    "start_time": "2025-03-20T12:12:35.651Z"
   },
   {
    "duration": 4,
    "start_time": "2025-03-20T12:12:36.559Z"
   },
   {
    "duration": 242,
    "start_time": "2025-03-20T12:12:36.565Z"
   },
   {
    "duration": 1327,
    "start_time": "2025-03-20T12:12:36.809Z"
   },
   {
    "duration": 1063,
    "start_time": "2025-03-20T12:12:38.137Z"
   },
   {
    "duration": 4,
    "start_time": "2025-03-20T12:12:39.202Z"
   },
   {
    "duration": 7,
    "start_time": "2025-03-20T12:12:39.207Z"
   },
   {
    "duration": 21,
    "start_time": "2025-03-20T12:12:39.215Z"
   },
   {
    "duration": 84,
    "start_time": "2025-03-20T12:12:39.239Z"
   },
   {
    "duration": 202,
    "start_time": "2025-03-20T12:12:39.324Z"
   },
   {
    "duration": 294,
    "start_time": "2025-03-20T12:12:39.528Z"
   },
   {
    "duration": 3,
    "start_time": "2025-03-20T12:12:39.823Z"
   },
   {
    "duration": 303,
    "start_time": "2025-03-20T12:12:39.835Z"
   },
   {
    "duration": 542,
    "start_time": "2025-03-20T12:12:40.140Z"
   },
   {
    "duration": 109,
    "start_time": "2025-03-20T12:12:40.684Z"
   },
   {
    "duration": 0,
    "start_time": "2025-03-20T12:12:40.795Z"
   },
   {
    "duration": 0,
    "start_time": "2025-03-20T12:12:40.796Z"
   },
   {
    "duration": 0,
    "start_time": "2025-03-20T12:12:40.797Z"
   },
   {
    "duration": 0,
    "start_time": "2025-03-20T12:12:40.799Z"
   },
   {
    "duration": 0,
    "start_time": "2025-03-20T12:12:40.799Z"
   },
   {
    "duration": 0,
    "start_time": "2025-03-20T12:12:40.801Z"
   },
   {
    "duration": 0,
    "start_time": "2025-03-20T12:12:40.801Z"
   },
   {
    "duration": 0,
    "start_time": "2025-03-20T12:12:40.803Z"
   },
   {
    "duration": 0,
    "start_time": "2025-03-20T12:12:40.804Z"
   },
   {
    "duration": 0,
    "start_time": "2025-03-20T12:12:40.805Z"
   },
   {
    "duration": 0,
    "start_time": "2025-03-20T12:12:40.806Z"
   },
   {
    "duration": 0,
    "start_time": "2025-03-20T12:12:40.807Z"
   },
   {
    "duration": 0,
    "start_time": "2025-03-20T12:12:40.808Z"
   },
   {
    "duration": 0,
    "start_time": "2025-03-20T12:12:40.809Z"
   },
   {
    "duration": 0,
    "start_time": "2025-03-20T12:12:40.810Z"
   },
   {
    "duration": 0,
    "start_time": "2025-03-20T12:12:40.811Z"
   },
   {
    "duration": 0,
    "start_time": "2025-03-20T12:12:40.812Z"
   },
   {
    "duration": 0,
    "start_time": "2025-03-20T12:12:40.813Z"
   },
   {
    "duration": 0,
    "start_time": "2025-03-20T12:12:40.814Z"
   },
   {
    "duration": 0,
    "start_time": "2025-03-20T12:12:40.815Z"
   },
   {
    "duration": 0,
    "start_time": "2025-03-20T12:12:40.816Z"
   },
   {
    "duration": 0,
    "start_time": "2025-03-20T12:12:40.817Z"
   },
   {
    "duration": 0,
    "start_time": "2025-03-20T12:12:40.818Z"
   },
   {
    "duration": 0,
    "start_time": "2025-03-20T12:12:40.819Z"
   },
   {
    "duration": 0,
    "start_time": "2025-03-20T12:12:40.820Z"
   },
   {
    "duration": 0,
    "start_time": "2025-03-20T12:12:40.821Z"
   },
   {
    "duration": 0,
    "start_time": "2025-03-20T12:12:40.822Z"
   },
   {
    "duration": 0,
    "start_time": "2025-03-20T12:12:40.823Z"
   },
   {
    "duration": 0,
    "start_time": "2025-03-20T12:12:40.824Z"
   },
   {
    "duration": 0,
    "start_time": "2025-03-20T12:12:40.825Z"
   },
   {
    "duration": 0,
    "start_time": "2025-03-20T12:12:40.826Z"
   },
   {
    "duration": 0,
    "start_time": "2025-03-20T12:12:40.827Z"
   },
   {
    "duration": 0,
    "start_time": "2025-03-20T12:12:40.828Z"
   },
   {
    "duration": 0,
    "start_time": "2025-03-20T12:12:40.829Z"
   },
   {
    "duration": 0,
    "start_time": "2025-03-20T12:12:40.830Z"
   },
   {
    "duration": 0,
    "start_time": "2025-03-20T12:12:40.831Z"
   },
   {
    "duration": 0,
    "start_time": "2025-03-20T12:12:40.832Z"
   },
   {
    "duration": 4,
    "start_time": "2025-03-20T12:23:19.450Z"
   },
   {
    "duration": 94,
    "start_time": "2025-03-20T12:26:16.325Z"
   },
   {
    "duration": 7,
    "start_time": "2025-03-20T12:27:05.943Z"
   },
   {
    "duration": 15,
    "start_time": "2025-03-20T12:27:11.098Z"
   },
   {
    "duration": 14,
    "start_time": "2025-03-20T12:27:25.331Z"
   },
   {
    "duration": 9,
    "start_time": "2025-03-20T12:27:39.586Z"
   },
   {
    "duration": 9,
    "start_time": "2025-03-20T12:57:12.665Z"
   },
   {
    "duration": 156,
    "start_time": "2025-03-20T12:58:48.703Z"
   },
   {
    "duration": 2325,
    "start_time": "2025-03-20T12:59:19.259Z"
   },
   {
    "duration": 154,
    "start_time": "2025-03-20T12:59:32.208Z"
   },
   {
    "duration": 20,
    "start_time": "2025-03-20T13:08:38.161Z"
   },
   {
    "duration": 10,
    "start_time": "2025-03-20T13:10:54.804Z"
   },
   {
    "duration": 11,
    "start_time": "2025-03-20T13:11:33.313Z"
   },
   {
    "duration": 144,
    "start_time": "2025-03-20T13:13:38.727Z"
   },
   {
    "duration": 133,
    "start_time": "2025-03-20T13:13:49.345Z"
   },
   {
    "duration": 1306,
    "start_time": "2025-03-20T13:13:56.247Z"
   },
   {
    "duration": 1269,
    "start_time": "2025-03-20T13:14:01.768Z"
   },
   {
    "duration": 1275,
    "start_time": "2025-03-20T13:16:02.240Z"
   },
   {
    "duration": 1312,
    "start_time": "2025-03-20T13:17:20.937Z"
   },
   {
    "duration": 1431,
    "start_time": "2025-03-20T13:17:53.640Z"
   },
   {
    "duration": 394,
    "start_time": "2025-03-20T13:18:07.544Z"
   },
   {
    "duration": 202,
    "start_time": "2025-03-20T13:18:15.573Z"
   },
   {
    "duration": 85,
    "start_time": "2025-03-20T13:19:39.094Z"
   },
   {
    "duration": 11,
    "start_time": "2025-03-20T13:20:25.094Z"
   },
   {
    "duration": 128,
    "start_time": "2025-03-20T13:21:43.814Z"
   },
   {
    "duration": 1279,
    "start_time": "2025-03-20T13:22:19.572Z"
   },
   {
    "duration": 1315,
    "start_time": "2025-03-20T13:22:32.114Z"
   },
   {
    "duration": 1343,
    "start_time": "2025-03-20T13:22:42.793Z"
   },
   {
    "duration": 28,
    "start_time": "2025-03-20T13:23:38.020Z"
   },
   {
    "duration": 19,
    "start_time": "2025-03-20T13:24:54.254Z"
   },
   {
    "duration": 41,
    "start_time": "2025-03-20T13:35:54.705Z"
   },
   {
    "duration": 1323,
    "start_time": "2025-03-20T13:36:03.725Z"
   },
   {
    "duration": 15,
    "start_time": "2025-03-20T13:36:40.743Z"
   },
   {
    "duration": 210,
    "start_time": "2025-03-20T13:43:37.911Z"
   },
   {
    "duration": 13,
    "start_time": "2025-03-20T13:46:23.516Z"
   },
   {
    "duration": 2371,
    "start_time": "2025-03-20T13:46:54.820Z"
   },
   {
    "duration": 19,
    "start_time": "2025-03-20T13:47:09.568Z"
   },
   {
    "duration": 339,
    "start_time": "2025-03-20T13:48:05.122Z"
   },
   {
    "duration": 4,
    "start_time": "2025-03-20T13:51:06.884Z"
   },
   {
    "duration": 16,
    "start_time": "2025-03-20T13:51:50.751Z"
   },
   {
    "duration": 189,
    "start_time": "2025-03-20T13:52:06.011Z"
   },
   {
    "duration": 231,
    "start_time": "2025-03-20T14:02:46.409Z"
   },
   {
    "duration": 196,
    "start_time": "2025-03-20T14:03:34.902Z"
   },
   {
    "duration": 1355,
    "start_time": "2025-03-20T14:03:49.962Z"
   },
   {
    "duration": 1310,
    "start_time": "2025-03-20T14:03:59.055Z"
   },
   {
    "duration": 362,
    "start_time": "2025-03-20T14:04:06.905Z"
   },
   {
    "duration": 1190,
    "start_time": "2025-03-20T14:04:12.106Z"
   },
   {
    "duration": 433,
    "start_time": "2025-03-20T14:05:10.826Z"
   },
   {
    "duration": 190,
    "start_time": "2025-03-20T14:06:12.412Z"
   },
   {
    "duration": 182,
    "start_time": "2025-03-20T14:06:18.600Z"
   },
   {
    "duration": 188,
    "start_time": "2025-03-20T14:06:28.762Z"
   },
   {
    "duration": 198,
    "start_time": "2025-03-20T14:06:37.583Z"
   },
   {
    "duration": 1440,
    "start_time": "2025-03-20T14:06:46.031Z"
   },
   {
    "duration": 1481,
    "start_time": "2025-03-20T14:06:52.850Z"
   },
   {
    "duration": 1493,
    "start_time": "2025-03-20T14:07:53.967Z"
   },
   {
    "duration": 1493,
    "start_time": "2025-03-20T14:08:02.887Z"
   },
   {
    "duration": 1441,
    "start_time": "2025-03-20T14:08:08.846Z"
   },
   {
    "duration": 1524,
    "start_time": "2025-03-20T14:10:03.777Z"
   },
   {
    "duration": 6,
    "start_time": "2025-03-20T14:13:52.528Z"
   },
   {
    "duration": 5,
    "start_time": "2025-03-20T14:14:42.532Z"
   },
   {
    "duration": 5,
    "start_time": "2025-03-20T14:15:12.004Z"
   },
   {
    "duration": 33,
    "start_time": "2025-03-20T14:22:01.920Z"
   },
   {
    "duration": 198,
    "start_time": "2025-03-20T14:22:15.554Z"
   },
   {
    "duration": 4,
    "start_time": "2025-03-20T14:26:48.747Z"
   },
   {
    "duration": 16,
    "start_time": "2025-03-20T14:27:33.404Z"
   },
   {
    "duration": 30,
    "start_time": "2025-03-20T14:32:15.780Z"
   },
   {
    "duration": 14,
    "start_time": "2025-03-20T14:32:42.298Z"
   },
   {
    "duration": 6,
    "start_time": "2025-03-20T14:34:02.224Z"
   },
   {
    "duration": 6,
    "start_time": "2025-03-20T14:36:16.296Z"
   },
   {
    "duration": 190,
    "start_time": "2025-03-20T14:37:12.300Z"
   },
   {
    "duration": 5,
    "start_time": "2025-03-20T15:20:32.834Z"
   },
   {
    "duration": 4,
    "start_time": "2025-03-20T15:20:35.764Z"
   },
   {
    "duration": 10,
    "start_time": "2025-03-20T15:20:39.156Z"
   },
   {
    "duration": 13,
    "start_time": "2025-03-20T15:21:01.771Z"
   },
   {
    "duration": 4,
    "start_time": "2025-03-20T15:21:27.025Z"
   },
   {
    "duration": 4,
    "start_time": "2025-03-20T15:21:33.145Z"
   },
   {
    "duration": 4,
    "start_time": "2025-03-20T15:21:39.447Z"
   },
   {
    "duration": 15,
    "start_time": "2025-03-20T15:22:11.929Z"
   },
   {
    "duration": 2822,
    "start_time": "2025-03-20T15:22:34.536Z"
   },
   {
    "duration": 2378,
    "start_time": "2025-03-20T15:26:04.883Z"
   },
   {
    "duration": 2849,
    "start_time": "2025-03-20T15:26:27.239Z"
   },
   {
    "duration": 2520,
    "start_time": "2025-03-20T15:26:47.667Z"
   },
   {
    "duration": 5,
    "start_time": "2025-03-20T15:34:28.341Z"
   },
   {
    "duration": 15,
    "start_time": "2025-03-20T16:01:07.386Z"
   },
   {
    "duration": 16,
    "start_time": "2025-03-20T16:01:53.977Z"
   },
   {
    "duration": 19,
    "start_time": "2025-03-20T16:04:42.390Z"
   },
   {
    "duration": 18,
    "start_time": "2025-03-20T16:04:49.081Z"
   },
   {
    "duration": 79,
    "start_time": "2025-03-20T16:06:28.277Z"
   },
   {
    "duration": 90,
    "start_time": "2025-03-20T16:06:45.431Z"
   },
   {
    "duration": 21,
    "start_time": "2025-03-20T16:06:51.017Z"
   },
   {
    "duration": 21,
    "start_time": "2025-03-20T16:07:05.570Z"
   },
   {
    "duration": 28,
    "start_time": "2025-03-20T16:07:10.859Z"
   },
   {
    "duration": 33,
    "start_time": "2025-03-20T16:08:01.937Z"
   },
   {
    "duration": 55,
    "start_time": "2025-03-21T05:45:03.122Z"
   },
   {
    "duration": 4696,
    "start_time": "2025-03-21T05:45:21.271Z"
   },
   {
    "duration": 965,
    "start_time": "2025-03-21T05:45:25.969Z"
   },
   {
    "duration": 4,
    "start_time": "2025-03-21T05:45:26.935Z"
   },
   {
    "duration": 264,
    "start_time": "2025-03-21T05:45:26.940Z"
   },
   {
    "duration": 1596,
    "start_time": "2025-03-21T05:45:27.206Z"
   },
   {
    "duration": 1168,
    "start_time": "2025-03-21T05:45:28.804Z"
   },
   {
    "duration": 4,
    "start_time": "2025-03-21T05:45:29.974Z"
   },
   {
    "duration": 6,
    "start_time": "2025-03-21T05:45:29.980Z"
   },
   {
    "duration": 13,
    "start_time": "2025-03-21T05:45:29.988Z"
   },
   {
    "duration": 28,
    "start_time": "2025-03-21T05:45:30.004Z"
   },
   {
    "duration": 243,
    "start_time": "2025-03-21T05:45:30.034Z"
   },
   {
    "duration": 312,
    "start_time": "2025-03-21T05:45:30.278Z"
   },
   {
    "duration": 2,
    "start_time": "2025-03-21T05:45:30.592Z"
   },
   {
    "duration": 255,
    "start_time": "2025-03-21T05:45:30.595Z"
   },
   {
    "duration": 560,
    "start_time": "2025-03-21T05:45:30.857Z"
   },
   {
    "duration": 12,
    "start_time": "2025-03-21T05:45:31.419Z"
   },
   {
    "duration": 106,
    "start_time": "2025-03-21T05:45:31.432Z"
   },
   {
    "duration": 10,
    "start_time": "2025-03-21T05:45:31.539Z"
   },
   {
    "duration": 243,
    "start_time": "2025-03-21T05:45:31.552Z"
   },
   {
    "duration": 1477,
    "start_time": "2025-03-21T05:45:31.796Z"
   },
   {
    "duration": 19,
    "start_time": "2025-03-21T05:45:33.275Z"
   },
   {
    "duration": 84,
    "start_time": "2025-03-21T05:45:33.295Z"
   },
   {
    "duration": 17,
    "start_time": "2025-03-21T05:45:33.380Z"
   },
   {
    "duration": 257,
    "start_time": "2025-03-21T05:45:33.398Z"
   },
   {
    "duration": 1665,
    "start_time": "2025-03-21T05:45:33.658Z"
   },
   {
    "duration": 5,
    "start_time": "2025-03-21T05:45:35.325Z"
   },
   {
    "duration": 59,
    "start_time": "2025-03-21T05:45:35.332Z"
   },
   {
    "duration": 60,
    "start_time": "2025-03-21T05:45:35.395Z"
   },
   {
    "duration": 93,
    "start_time": "2025-03-21T05:45:35.457Z"
   },
   {
    "duration": 20,
    "start_time": "2025-03-21T05:45:35.552Z"
   },
   {
    "duration": 5,
    "start_time": "2025-03-21T05:45:35.577Z"
   },
   {
    "duration": 5,
    "start_time": "2025-03-21T05:45:35.584Z"
   },
   {
    "duration": 3,
    "start_time": "2025-03-21T05:45:35.591Z"
   },
   {
    "duration": 7,
    "start_time": "2025-03-21T05:45:35.596Z"
   },
   {
    "duration": 2487,
    "start_time": "2025-03-21T05:45:35.605Z"
   },
   {
    "duration": 29,
    "start_time": "2025-03-21T05:45:38.094Z"
   },
   {
    "duration": 79,
    "start_time": "2025-03-21T05:45:38.125Z"
   },
   {
    "duration": 0,
    "start_time": "2025-03-21T05:45:38.205Z"
   },
   {
    "duration": 0,
    "start_time": "2025-03-21T05:45:38.207Z"
   },
   {
    "duration": 0,
    "start_time": "2025-03-21T05:45:38.208Z"
   },
   {
    "duration": 0,
    "start_time": "2025-03-21T05:45:38.210Z"
   },
   {
    "duration": 0,
    "start_time": "2025-03-21T05:45:38.211Z"
   },
   {
    "duration": 0,
    "start_time": "2025-03-21T05:45:38.213Z"
   },
   {
    "duration": 0,
    "start_time": "2025-03-21T05:45:38.214Z"
   },
   {
    "duration": 0,
    "start_time": "2025-03-21T05:45:38.216Z"
   },
   {
    "duration": 0,
    "start_time": "2025-03-21T05:45:38.217Z"
   },
   {
    "duration": 0,
    "start_time": "2025-03-21T05:45:38.219Z"
   },
   {
    "duration": 0,
    "start_time": "2025-03-21T05:45:38.220Z"
   },
   {
    "duration": 0,
    "start_time": "2025-03-21T05:45:38.222Z"
   },
   {
    "duration": 0,
    "start_time": "2025-03-21T05:45:38.223Z"
   },
   {
    "duration": 0,
    "start_time": "2025-03-21T05:45:38.225Z"
   },
   {
    "duration": 0,
    "start_time": "2025-03-21T05:45:38.227Z"
   },
   {
    "duration": 0,
    "start_time": "2025-03-21T05:45:38.228Z"
   },
   {
    "duration": 0,
    "start_time": "2025-03-21T05:45:38.230Z"
   },
   {
    "duration": 0,
    "start_time": "2025-03-21T05:45:38.231Z"
   },
   {
    "duration": 0,
    "start_time": "2025-03-21T05:45:38.233Z"
   },
   {
    "duration": 0,
    "start_time": "2025-03-21T05:45:38.234Z"
   },
   {
    "duration": 0,
    "start_time": "2025-03-21T05:45:38.235Z"
   },
   {
    "duration": 111,
    "start_time": "2025-03-21T05:46:25.334Z"
   },
   {
    "duration": 19,
    "start_time": "2025-03-21T05:47:36.255Z"
   },
   {
    "duration": 33,
    "start_time": "2025-03-21T05:47:40.386Z"
   },
   {
    "duration": 4420,
    "start_time": "2025-03-21T09:34:08.200Z"
   },
   {
    "duration": 900,
    "start_time": "2025-03-21T09:34:12.622Z"
   },
   {
    "duration": 4,
    "start_time": "2025-03-21T09:34:13.523Z"
   },
   {
    "duration": 242,
    "start_time": "2025-03-21T09:34:13.528Z"
   },
   {
    "duration": 1370,
    "start_time": "2025-03-21T09:34:13.773Z"
   },
   {
    "duration": 1075,
    "start_time": "2025-03-21T09:34:15.146Z"
   },
   {
    "duration": 4,
    "start_time": "2025-03-21T09:34:16.223Z"
   },
   {
    "duration": 7,
    "start_time": "2025-03-21T09:34:16.228Z"
   },
   {
    "duration": 19,
    "start_time": "2025-03-21T09:34:16.236Z"
   },
   {
    "duration": 27,
    "start_time": "2025-03-21T09:34:16.257Z"
   },
   {
    "duration": 109,
    "start_time": "2025-03-21T09:34:16.285Z"
   },
   {
    "duration": 304,
    "start_time": "2025-03-21T09:34:16.395Z"
   },
   {
    "duration": 7,
    "start_time": "2025-03-21T09:34:16.700Z"
   },
   {
    "duration": 286,
    "start_time": "2025-03-21T09:34:16.710Z"
   },
   {
    "duration": 548,
    "start_time": "2025-03-21T09:34:16.998Z"
   },
   {
    "duration": 13,
    "start_time": "2025-03-21T09:34:17.548Z"
   },
   {
    "duration": 21,
    "start_time": "2025-03-21T09:34:17.562Z"
   },
   {
    "duration": 26,
    "start_time": "2025-03-21T09:34:17.585Z"
   },
   {
    "duration": 222,
    "start_time": "2025-03-21T09:34:17.612Z"
   },
   {
    "duration": 1353,
    "start_time": "2025-03-21T09:34:17.836Z"
   },
   {
    "duration": 34,
    "start_time": "2025-03-21T09:34:19.192Z"
   },
   {
    "duration": 24,
    "start_time": "2025-03-21T09:34:19.227Z"
   },
   {
    "duration": 15,
    "start_time": "2025-03-21T09:34:19.253Z"
   },
   {
    "duration": 219,
    "start_time": "2025-03-21T09:34:19.269Z"
   },
   {
    "duration": 1408,
    "start_time": "2025-03-21T09:34:19.490Z"
   },
   {
    "duration": 7,
    "start_time": "2025-03-21T09:34:20.900Z"
   },
   {
    "duration": 61,
    "start_time": "2025-03-21T09:34:20.909Z"
   },
   {
    "duration": 17,
    "start_time": "2025-03-21T09:34:20.972Z"
   },
   {
    "duration": 32,
    "start_time": "2025-03-21T09:34:20.991Z"
   },
   {
    "duration": 13,
    "start_time": "2025-03-21T09:34:21.025Z"
   },
   {
    "duration": 5,
    "start_time": "2025-03-21T09:34:21.040Z"
   },
   {
    "duration": 12,
    "start_time": "2025-03-21T09:34:21.047Z"
   },
   {
    "duration": 13,
    "start_time": "2025-03-21T09:34:21.060Z"
   },
   {
    "duration": 53,
    "start_time": "2025-03-21T09:34:21.074Z"
   },
   {
    "duration": 2407,
    "start_time": "2025-03-21T09:34:21.128Z"
   },
   {
    "duration": 31,
    "start_time": "2025-03-21T09:34:23.537Z"
   },
   {
    "duration": 44,
    "start_time": "2025-03-21T09:34:23.570Z"
   },
   {
    "duration": 103,
    "start_time": "2025-03-21T09:34:23.616Z"
   },
   {
    "duration": 0,
    "start_time": "2025-03-21T09:34:23.721Z"
   },
   {
    "duration": 0,
    "start_time": "2025-03-21T09:34:23.723Z"
   },
   {
    "duration": 0,
    "start_time": "2025-03-21T09:34:23.724Z"
   },
   {
    "duration": 0,
    "start_time": "2025-03-21T09:34:23.725Z"
   },
   {
    "duration": 0,
    "start_time": "2025-03-21T09:34:23.726Z"
   },
   {
    "duration": 0,
    "start_time": "2025-03-21T09:34:23.727Z"
   },
   {
    "duration": 0,
    "start_time": "2025-03-21T09:34:23.728Z"
   },
   {
    "duration": 0,
    "start_time": "2025-03-21T09:34:23.729Z"
   },
   {
    "duration": 0,
    "start_time": "2025-03-21T09:34:23.730Z"
   },
   {
    "duration": 0,
    "start_time": "2025-03-21T09:34:23.731Z"
   },
   {
    "duration": 0,
    "start_time": "2025-03-21T09:34:23.732Z"
   },
   {
    "duration": 0,
    "start_time": "2025-03-21T09:34:23.733Z"
   },
   {
    "duration": 0,
    "start_time": "2025-03-21T09:34:23.734Z"
   },
   {
    "duration": 0,
    "start_time": "2025-03-21T09:34:23.736Z"
   },
   {
    "duration": 0,
    "start_time": "2025-03-21T09:34:23.737Z"
   },
   {
    "duration": 0,
    "start_time": "2025-03-21T09:34:23.738Z"
   },
   {
    "duration": 0,
    "start_time": "2025-03-21T09:34:23.740Z"
   },
   {
    "duration": 0,
    "start_time": "2025-03-21T09:34:23.741Z"
   },
   {
    "duration": 0,
    "start_time": "2025-03-21T09:34:23.742Z"
   },
   {
    "duration": 0,
    "start_time": "2025-03-21T09:34:23.744Z"
   },
   {
    "duration": 0,
    "start_time": "2025-03-21T09:34:23.745Z"
   },
   {
    "duration": 32,
    "start_time": "2025-03-21T09:34:34.990Z"
   },
   {
    "duration": 18,
    "start_time": "2025-03-21T09:35:08.763Z"
   },
   {
    "duration": 21,
    "start_time": "2025-03-21T09:35:22.065Z"
   },
   {
    "duration": 19,
    "start_time": "2025-03-21T09:43:15.685Z"
   },
   {
    "duration": 29,
    "start_time": "2025-03-21T09:44:19.587Z"
   },
   {
    "duration": 33,
    "start_time": "2025-03-21T09:46:26.887Z"
   },
   {
    "duration": 98,
    "start_time": "2025-03-21T10:28:16.680Z"
   },
   {
    "duration": 2378,
    "start_time": "2025-03-21T10:28:48.374Z"
   },
   {
    "duration": 14851,
    "start_time": "2025-03-21T10:29:23.829Z"
   },
   {
    "duration": 14703,
    "start_time": "2025-03-21T10:29:46.289Z"
   },
   {
    "duration": 9,
    "start_time": "2025-03-21T10:35:17.219Z"
   },
   {
    "duration": 7,
    "start_time": "2025-03-21T10:37:23.113Z"
   },
   {
    "duration": 10028,
    "start_time": "2025-03-21T10:37:55.669Z"
   },
   {
    "duration": 15341,
    "start_time": "2025-03-21T10:41:09.057Z"
   },
   {
    "duration": 10362,
    "start_time": "2025-03-21T10:42:44.941Z"
   },
   {
    "duration": 604,
    "start_time": "2025-03-21T10:46:09.361Z"
   },
   {
    "duration": 592,
    "start_time": "2025-03-21T10:46:29.756Z"
   },
   {
    "duration": 15,
    "start_time": "2025-03-21T10:55:19.362Z"
   },
   {
    "duration": 225,
    "start_time": "2025-03-21T10:57:01.750Z"
   },
   {
    "duration": 240,
    "start_time": "2025-03-21T10:57:08.610Z"
   },
   {
    "duration": 252,
    "start_time": "2025-03-21T10:57:27.402Z"
   },
   {
    "duration": 1552,
    "start_time": "2025-03-21T10:57:57.269Z"
   },
   {
    "duration": 4,
    "start_time": "2025-03-21T11:04:58.790Z"
   },
   {
    "duration": 3697,
    "start_time": "2025-03-21T13:27:59.653Z"
   },
   {
    "duration": 966,
    "start_time": "2025-03-21T13:28:03.352Z"
   },
   {
    "duration": 3,
    "start_time": "2025-03-21T13:28:04.320Z"
   },
   {
    "duration": 265,
    "start_time": "2025-03-21T13:28:04.325Z"
   },
   {
    "duration": 1361,
    "start_time": "2025-03-21T13:28:04.591Z"
   },
   {
    "duration": 1120,
    "start_time": "2025-03-21T13:28:05.954Z"
   },
   {
    "duration": 5,
    "start_time": "2025-03-21T13:28:07.075Z"
   },
   {
    "duration": 32,
    "start_time": "2025-03-21T13:28:07.081Z"
   },
   {
    "duration": 30,
    "start_time": "2025-03-21T13:28:07.115Z"
   },
   {
    "duration": 37,
    "start_time": "2025-03-21T13:28:07.148Z"
   },
   {
    "duration": 112,
    "start_time": "2025-03-21T13:28:07.186Z"
   },
   {
    "duration": 315,
    "start_time": "2025-03-21T13:28:07.300Z"
   },
   {
    "duration": 2,
    "start_time": "2025-03-21T13:28:07.617Z"
   },
   {
    "duration": 346,
    "start_time": "2025-03-21T13:28:07.621Z"
   },
   {
    "duration": 571,
    "start_time": "2025-03-21T13:28:07.969Z"
   },
   {
    "duration": 12,
    "start_time": "2025-03-21T13:28:08.542Z"
   },
   {
    "duration": 52,
    "start_time": "2025-03-21T13:28:08.555Z"
   },
   {
    "duration": 9,
    "start_time": "2025-03-21T13:28:08.608Z"
   },
   {
    "duration": 226,
    "start_time": "2025-03-21T13:28:08.619Z"
   },
   {
    "duration": 1443,
    "start_time": "2025-03-21T13:28:08.847Z"
   },
   {
    "duration": 32,
    "start_time": "2025-03-21T13:28:10.291Z"
   },
   {
    "duration": 26,
    "start_time": "2025-03-21T13:28:10.325Z"
   },
   {
    "duration": 18,
    "start_time": "2025-03-21T13:28:10.352Z"
   },
   {
    "duration": 229,
    "start_time": "2025-03-21T13:28:10.371Z"
   },
   {
    "duration": 1485,
    "start_time": "2025-03-21T13:28:10.601Z"
   },
   {
    "duration": 6,
    "start_time": "2025-03-21T13:28:12.088Z"
   },
   {
    "duration": 29,
    "start_time": "2025-03-21T13:28:12.106Z"
   },
   {
    "duration": 17,
    "start_time": "2025-03-21T13:28:12.138Z"
   },
   {
    "duration": 50,
    "start_time": "2025-03-21T13:28:12.157Z"
   },
   {
    "duration": 15,
    "start_time": "2025-03-21T13:28:12.209Z"
   },
   {
    "duration": 4,
    "start_time": "2025-03-21T13:28:12.226Z"
   },
   {
    "duration": 83,
    "start_time": "2025-03-21T13:28:12.232Z"
   },
   {
    "duration": 2336,
    "start_time": "2025-03-21T13:28:12.317Z"
   },
   {
    "duration": 94,
    "start_time": "2025-03-21T13:28:14.655Z"
   },
   {
    "duration": 0,
    "start_time": "2025-03-21T13:28:14.751Z"
   },
   {
    "duration": 0,
    "start_time": "2025-03-21T13:28:14.752Z"
   },
   {
    "duration": 0,
    "start_time": "2025-03-21T13:28:14.754Z"
   },
   {
    "duration": 0,
    "start_time": "2025-03-21T13:28:14.755Z"
   },
   {
    "duration": 0,
    "start_time": "2025-03-21T13:28:14.756Z"
   },
   {
    "duration": 0,
    "start_time": "2025-03-21T13:28:14.757Z"
   },
   {
    "duration": 0,
    "start_time": "2025-03-21T13:28:14.759Z"
   },
   {
    "duration": 0,
    "start_time": "2025-03-21T13:28:14.760Z"
   },
   {
    "duration": 0,
    "start_time": "2025-03-21T13:28:14.762Z"
   },
   {
    "duration": 0,
    "start_time": "2025-03-21T13:28:14.763Z"
   },
   {
    "duration": 0,
    "start_time": "2025-03-21T13:28:14.765Z"
   },
   {
    "duration": 3615,
    "start_time": "2025-03-21T13:29:13.892Z"
   },
   {
    "duration": 911,
    "start_time": "2025-03-21T13:29:17.509Z"
   },
   {
    "duration": 3,
    "start_time": "2025-03-21T13:29:18.422Z"
   },
   {
    "duration": 274,
    "start_time": "2025-03-21T13:29:18.427Z"
   },
   {
    "duration": 1437,
    "start_time": "2025-03-21T13:29:18.706Z"
   },
   {
    "duration": 1096,
    "start_time": "2025-03-21T13:29:20.145Z"
   },
   {
    "duration": 4,
    "start_time": "2025-03-21T13:29:21.243Z"
   },
   {
    "duration": 37,
    "start_time": "2025-03-21T13:29:21.249Z"
   },
   {
    "duration": 14,
    "start_time": "2025-03-21T13:29:21.288Z"
   },
   {
    "duration": 35,
    "start_time": "2025-03-21T13:29:21.304Z"
   },
   {
    "duration": 103,
    "start_time": "2025-03-21T13:29:21.341Z"
   },
   {
    "duration": 307,
    "start_time": "2025-03-21T13:29:21.446Z"
   },
   {
    "duration": 2,
    "start_time": "2025-03-21T13:29:21.755Z"
   },
   {
    "duration": 275,
    "start_time": "2025-03-21T13:29:21.761Z"
   },
   {
    "duration": 544,
    "start_time": "2025-03-21T13:29:22.037Z"
   },
   {
    "duration": 24,
    "start_time": "2025-03-21T13:29:22.583Z"
   },
   {
    "duration": 17,
    "start_time": "2025-03-21T13:29:22.608Z"
   },
   {
    "duration": 9,
    "start_time": "2025-03-21T13:29:22.626Z"
   },
   {
    "duration": 240,
    "start_time": "2025-03-21T13:29:22.637Z"
   },
   {
    "duration": 1318,
    "start_time": "2025-03-21T13:29:22.879Z"
   },
   {
    "duration": 22,
    "start_time": "2025-03-21T13:29:24.206Z"
   },
   {
    "duration": 27,
    "start_time": "2025-03-21T13:29:24.230Z"
   },
   {
    "duration": 16,
    "start_time": "2025-03-21T13:29:24.259Z"
   },
   {
    "duration": 235,
    "start_time": "2025-03-21T13:29:24.277Z"
   },
   {
    "duration": 1355,
    "start_time": "2025-03-21T13:29:24.514Z"
   },
   {
    "duration": 6,
    "start_time": "2025-03-21T13:29:25.870Z"
   },
   {
    "duration": 52,
    "start_time": "2025-03-21T13:29:25.877Z"
   },
   {
    "duration": 21,
    "start_time": "2025-03-21T13:29:25.931Z"
   },
   {
    "duration": 82,
    "start_time": "2025-03-21T13:29:25.954Z"
   },
   {
    "duration": 13,
    "start_time": "2025-03-21T13:29:26.037Z"
   },
   {
    "duration": 3,
    "start_time": "2025-03-21T13:29:26.052Z"
   },
   {
    "duration": 8,
    "start_time": "2025-03-21T13:29:26.057Z"
   },
   {
    "duration": 2265,
    "start_time": "2025-03-21T13:29:26.067Z"
   },
   {
    "duration": 10193,
    "start_time": "2025-03-21T13:29:28.334Z"
   },
   {
    "duration": 38,
    "start_time": "2025-03-21T13:29:38.529Z"
   },
   {
    "duration": 56,
    "start_time": "2025-03-21T13:29:38.568Z"
   },
   {
    "duration": 49,
    "start_time": "2025-03-21T13:29:38.626Z"
   },
   {
    "duration": 44,
    "start_time": "2025-03-21T13:29:38.676Z"
   },
   {
    "duration": 32,
    "start_time": "2025-03-21T13:29:38.722Z"
   },
   {
    "duration": 31,
    "start_time": "2025-03-21T13:29:38.756Z"
   },
   {
    "duration": 45,
    "start_time": "2025-03-21T13:29:38.791Z"
   },
   {
    "duration": 43,
    "start_time": "2025-03-21T13:29:38.838Z"
   },
   {
    "duration": 43,
    "start_time": "2025-03-21T13:29:38.883Z"
   },
   {
    "duration": 30,
    "start_time": "2025-03-21T13:29:38.927Z"
   },
   {
    "duration": 209,
    "start_time": "2025-03-21T13:29:48.186Z"
   },
   {
    "duration": 195,
    "start_time": "2025-03-21T13:30:32.270Z"
   },
   {
    "duration": 205,
    "start_time": "2025-03-21T13:30:55.696Z"
   },
   {
    "duration": 74,
    "start_time": "2025-03-21T13:36:33.393Z"
   },
   {
    "duration": 74,
    "start_time": "2025-03-21T13:36:53.651Z"
   },
   {
    "duration": 77,
    "start_time": "2025-03-21T13:37:59.502Z"
   },
   {
    "duration": 77,
    "start_time": "2025-03-21T13:38:29.680Z"
   },
   {
    "duration": 29,
    "start_time": "2025-03-21T13:39:17.952Z"
   },
   {
    "duration": 119,
    "start_time": "2025-03-21T13:41:29.380Z"
   },
   {
    "duration": 28,
    "start_time": "2025-03-21T13:42:06.527Z"
   },
   {
    "duration": 30,
    "start_time": "2025-03-21T13:42:32.405Z"
   },
   {
    "duration": 195,
    "start_time": "2025-03-21T13:43:29.031Z"
   },
   {
    "duration": 418,
    "start_time": "2025-03-21T13:43:39.702Z"
   },
   {
    "duration": 3191,
    "start_time": "2025-03-21T13:48:06.251Z"
   },
   {
    "duration": 191,
    "start_time": "2025-03-21T13:49:01.011Z"
   },
   {
    "duration": 3590,
    "start_time": "2025-03-21T13:49:45.607Z"
   },
   {
    "duration": 196,
    "start_time": "2025-03-21T13:50:02.532Z"
   },
   {
    "duration": 32,
    "start_time": "2025-03-21T13:52:10.942Z"
   },
   {
    "duration": 19,
    "start_time": "2025-03-21T13:52:34.280Z"
   },
   {
    "duration": 30,
    "start_time": "2025-03-21T13:52:40.935Z"
   },
   {
    "duration": 9,
    "start_time": "2025-03-21T13:53:15.748Z"
   },
   {
    "duration": 9,
    "start_time": "2025-03-21T13:53:31.250Z"
   },
   {
    "duration": 4,
    "start_time": "2025-03-21T13:54:44.833Z"
   },
   {
    "duration": 598,
    "start_time": "2025-03-21T14:34:20.418Z"
   },
   {
    "duration": 666,
    "start_time": "2025-03-21T14:35:34.332Z"
   },
   {
    "duration": 76,
    "start_time": "2025-03-21T14:36:46.236Z"
   },
   {
    "duration": 119,
    "start_time": "2025-03-21T14:36:55.495Z"
   },
   {
    "duration": 34,
    "start_time": "2025-03-21T14:37:03.081Z"
   },
   {
    "duration": 594,
    "start_time": "2025-03-21T14:37:42.228Z"
   },
   {
    "duration": 566,
    "start_time": "2025-03-21T14:38:15.163Z"
   },
   {
    "duration": 576,
    "start_time": "2025-03-21T14:38:49.807Z"
   },
   {
    "duration": 666,
    "start_time": "2025-03-21T14:39:21.584Z"
   },
   {
    "duration": 33,
    "start_time": "2025-03-21T14:40:43.675Z"
   },
   {
    "duration": 31,
    "start_time": "2025-03-21T14:40:55.558Z"
   },
   {
    "duration": 583,
    "start_time": "2025-03-21T14:41:25.180Z"
   },
   {
    "duration": 572,
    "start_time": "2025-03-21T14:43:23.176Z"
   },
   {
    "duration": 654,
    "start_time": "2025-03-21T14:49:38.659Z"
   },
   {
    "duration": 572,
    "start_time": "2025-03-21T14:49:57.823Z"
   },
   {
    "duration": 4172,
    "start_time": "2025-03-21T14:51:38.024Z"
   },
   {
    "duration": 557,
    "start_time": "2025-03-21T14:52:43.209Z"
   },
   {
    "duration": 566,
    "start_time": "2025-03-21T14:53:07.728Z"
   },
   {
    "duration": 4,
    "start_time": "2025-03-21T15:25:51.150Z"
   },
   {
    "duration": 87,
    "start_time": "2025-03-21T15:26:41.542Z"
   },
   {
    "duration": 86,
    "start_time": "2025-03-21T15:26:47.409Z"
   },
   {
    "duration": 1099,
    "start_time": "2025-03-21T15:26:53.329Z"
   },
   {
    "duration": 23,
    "start_time": "2025-03-21T15:34:05.994Z"
   },
   {
    "duration": 134,
    "start_time": "2025-03-21T15:34:19.619Z"
   },
   {
    "duration": 644,
    "start_time": "2025-03-21T15:35:33.787Z"
   },
   {
    "duration": 737,
    "start_time": "2025-03-21T15:37:38.978Z"
   },
   {
    "duration": 26,
    "start_time": "2025-03-21T15:41:02.292Z"
   },
   {
    "duration": 27,
    "start_time": "2025-03-21T15:41:09.615Z"
   },
   {
    "duration": 839,
    "start_time": "2025-03-21T15:43:59.354Z"
   },
   {
    "duration": 122,
    "start_time": "2025-03-21T15:45:33.864Z"
   },
   {
    "duration": 1341,
    "start_time": "2025-03-21T15:46:06.992Z"
   },
   {
    "duration": 681,
    "start_time": "2025-03-21T15:47:31.840Z"
   },
   {
    "duration": 1159,
    "start_time": "2025-03-21T15:49:06.314Z"
   },
   {
    "duration": 1320,
    "start_time": "2025-03-21T15:50:19.857Z"
   },
   {
    "duration": 1264,
    "start_time": "2025-03-21T15:53:03.655Z"
   },
   {
    "duration": 1446,
    "start_time": "2025-03-21T15:54:19.089Z"
   },
   {
    "duration": 60,
    "start_time": "2025-03-22T05:47:10.789Z"
   },
   {
    "duration": 4914,
    "start_time": "2025-03-22T05:47:42.177Z"
   },
   {
    "duration": 1053,
    "start_time": "2025-03-22T05:47:47.093Z"
   },
   {
    "duration": 15,
    "start_time": "2025-03-22T05:47:48.147Z"
   },
   {
    "duration": 250,
    "start_time": "2025-03-22T05:47:48.170Z"
   },
   {
    "duration": 1504,
    "start_time": "2025-03-22T05:47:48.422Z"
   },
   {
    "duration": 1179,
    "start_time": "2025-03-22T05:47:49.928Z"
   },
   {
    "duration": 4,
    "start_time": "2025-03-22T05:47:51.109Z"
   },
   {
    "duration": 8,
    "start_time": "2025-03-22T05:47:51.115Z"
   },
   {
    "duration": 6,
    "start_time": "2025-03-22T05:47:51.125Z"
   },
   {
    "duration": 29,
    "start_time": "2025-03-22T05:47:51.157Z"
   },
   {
    "duration": 109,
    "start_time": "2025-03-22T05:47:51.188Z"
   },
   {
    "duration": 376,
    "start_time": "2025-03-22T05:47:51.299Z"
   },
   {
    "duration": 3,
    "start_time": "2025-03-22T05:47:51.676Z"
   },
   {
    "duration": 333,
    "start_time": "2025-03-22T05:47:51.680Z"
   },
   {
    "duration": 619,
    "start_time": "2025-03-22T05:47:52.015Z"
   },
   {
    "duration": 13,
    "start_time": "2025-03-22T05:47:52.636Z"
   },
   {
    "duration": 713,
    "start_time": "2025-03-22T05:47:52.666Z"
   },
   {
    "duration": 10,
    "start_time": "2025-03-22T05:47:53.380Z"
   },
   {
    "duration": 238,
    "start_time": "2025-03-22T05:47:53.392Z"
   },
   {
    "duration": 1478,
    "start_time": "2025-03-22T05:47:53.631Z"
   },
   {
    "duration": 20,
    "start_time": "2025-03-22T05:47:55.110Z"
   },
   {
    "duration": 56,
    "start_time": "2025-03-22T05:47:55.132Z"
   },
   {
    "duration": 18,
    "start_time": "2025-03-22T05:47:55.191Z"
   },
   {
    "duration": 222,
    "start_time": "2025-03-22T05:47:55.211Z"
   },
   {
    "duration": 1581,
    "start_time": "2025-03-22T05:47:55.435Z"
   },
   {
    "duration": 6,
    "start_time": "2025-03-22T05:47:57.019Z"
   },
   {
    "duration": 62,
    "start_time": "2025-03-22T05:47:57.026Z"
   },
   {
    "duration": 16,
    "start_time": "2025-03-22T05:47:57.093Z"
   },
   {
    "duration": 30,
    "start_time": "2025-03-22T05:47:57.110Z"
   },
   {
    "duration": 14,
    "start_time": "2025-03-22T05:47:57.170Z"
   },
   {
    "duration": 6,
    "start_time": "2025-03-22T05:47:57.186Z"
   },
   {
    "duration": 4,
    "start_time": "2025-03-22T05:47:57.194Z"
   },
   {
    "duration": 2427,
    "start_time": "2025-03-22T05:47:57.199Z"
   },
   {
    "duration": 10971,
    "start_time": "2025-03-22T05:47:59.627Z"
   },
   {
    "duration": 59,
    "start_time": "2025-03-22T05:48:10.600Z"
   },
   {
    "duration": 35,
    "start_time": "2025-03-22T05:48:10.661Z"
   },
   {
    "duration": 37,
    "start_time": "2025-03-22T05:48:10.698Z"
   },
   {
    "duration": 46,
    "start_time": "2025-03-22T05:48:10.737Z"
   },
   {
    "duration": 7,
    "start_time": "2025-03-22T05:48:10.785Z"
   },
   {
    "duration": 7,
    "start_time": "2025-03-22T05:48:10.794Z"
   },
   {
    "duration": 55,
    "start_time": "2025-03-22T05:48:10.803Z"
   },
   {
    "duration": 28,
    "start_time": "2025-03-22T05:48:10.860Z"
   },
   {
    "duration": 24,
    "start_time": "2025-03-22T05:48:10.890Z"
   },
   {
    "duration": 32,
    "start_time": "2025-03-22T05:48:10.916Z"
   },
   {
    "duration": 27,
    "start_time": "2025-03-22T05:48:10.958Z"
   },
   {
    "duration": 36,
    "start_time": "2025-03-22T05:48:10.986Z"
   },
   {
    "duration": 880,
    "start_time": "2025-03-22T05:48:11.023Z"
   },
   {
    "duration": 655,
    "start_time": "2025-03-22T05:48:11.905Z"
   },
   {
    "duration": 5,
    "start_time": "2025-03-22T05:48:12.562Z"
   },
   {
    "duration": 1736,
    "start_time": "2025-03-22T05:48:12.569Z"
   },
   {
    "duration": 0,
    "start_time": "2025-03-22T05:48:14.307Z"
   },
   {
    "duration": 0,
    "start_time": "2025-03-22T05:48:14.308Z"
   },
   {
    "duration": 0,
    "start_time": "2025-03-22T05:48:14.310Z"
   },
   {
    "duration": 1482,
    "start_time": "2025-03-22T05:48:20.248Z"
   },
   {
    "duration": 7,
    "start_time": "2025-03-22T05:54:01.441Z"
   },
   {
    "duration": 15,
    "start_time": "2025-03-22T05:54:09.386Z"
   },
   {
    "duration": 7,
    "start_time": "2025-03-22T05:54:15.904Z"
   },
   {
    "duration": 8,
    "start_time": "2025-03-22T05:54:30.500Z"
   },
   {
    "duration": 7,
    "start_time": "2025-03-22T05:54:38.817Z"
   },
   {
    "duration": 18,
    "start_time": "2025-03-22T05:56:47.573Z"
   },
   {
    "duration": 13,
    "start_time": "2025-03-22T05:56:58.186Z"
   },
   {
    "duration": 11,
    "start_time": "2025-03-22T05:57:07.156Z"
   },
   {
    "duration": 13,
    "start_time": "2025-03-22T05:57:51.696Z"
   },
   {
    "duration": 8,
    "start_time": "2025-03-22T05:57:56.226Z"
   },
   {
    "duration": 7,
    "start_time": "2025-03-22T05:59:04.778Z"
   },
   {
    "duration": 1620,
    "start_time": "2025-03-22T06:00:45.010Z"
   },
   {
    "duration": 1518,
    "start_time": "2025-03-22T06:01:18.854Z"
   },
   {
    "duration": 1528,
    "start_time": "2025-03-22T06:02:26.019Z"
   },
   {
    "duration": 181,
    "start_time": "2025-03-22T06:02:42.370Z"
   },
   {
    "duration": 1598,
    "start_time": "2025-03-22T06:02:48.775Z"
   },
   {
    "duration": 1530,
    "start_time": "2025-03-22T06:03:04.490Z"
   },
   {
    "duration": 1675,
    "start_time": "2025-03-22T08:20:41.419Z"
   },
   {
    "duration": 84,
    "start_time": "2025-03-22T08:21:43.232Z"
   },
   {
    "duration": 419,
    "start_time": "2025-03-22T08:21:53.699Z"
   },
   {
    "duration": 336,
    "start_time": "2025-03-22T08:22:07.011Z"
   },
   {
    "duration": 1703,
    "start_time": "2025-03-22T08:22:44.678Z"
   },
   {
    "duration": 83,
    "start_time": "2025-03-22T08:24:32.544Z"
   },
   {
    "duration": 1514,
    "start_time": "2025-03-22T08:24:37.870Z"
   },
   {
    "duration": 1745,
    "start_time": "2025-03-22T08:25:02.442Z"
   },
   {
    "duration": 1651,
    "start_time": "2025-03-22T08:25:39.363Z"
   },
   {
    "duration": 1668,
    "start_time": "2025-03-22T08:25:48.033Z"
   },
   {
    "duration": 1674,
    "start_time": "2025-03-22T08:28:11.951Z"
   },
   {
    "duration": 1551,
    "start_time": "2025-03-22T08:28:18.089Z"
   },
   {
    "duration": 1683,
    "start_time": "2025-03-22T08:28:24.679Z"
   },
   {
    "duration": 1496,
    "start_time": "2025-03-22T08:32:40.958Z"
   },
   {
    "duration": 922,
    "start_time": "2025-03-22T08:33:18.821Z"
   },
   {
    "duration": 1083,
    "start_time": "2025-03-22T08:33:56.394Z"
   },
   {
    "duration": 937,
    "start_time": "2025-03-22T08:34:48.585Z"
   },
   {
    "duration": 964,
    "start_time": "2025-03-22T08:34:58.774Z"
   },
   {
    "duration": 79,
    "start_time": "2025-03-22T08:36:42.445Z"
   },
   {
    "duration": 1143,
    "start_time": "2025-03-22T08:38:50.004Z"
   },
   {
    "duration": 1106,
    "start_time": "2025-03-22T08:39:10.599Z"
   },
   {
    "duration": 4,
    "start_time": "2025-03-22T08:55:59.099Z"
   },
   {
    "duration": 81,
    "start_time": "2025-03-22T09:03:08.133Z"
   },
   {
    "duration": 47,
    "start_time": "2025-03-22T09:03:13.466Z"
   },
   {
    "duration": 117,
    "start_time": "2025-03-22T09:03:41.623Z"
   },
   {
    "duration": 209,
    "start_time": "2025-03-22T09:03:51.525Z"
   },
   {
    "duration": 184,
    "start_time": "2025-03-22T09:04:53.310Z"
   },
   {
    "duration": 167,
    "start_time": "2025-03-22T09:05:32.837Z"
   },
   {
    "duration": 182,
    "start_time": "2025-03-22T09:06:01.891Z"
   },
   {
    "duration": 6513,
    "start_time": "2025-03-22T10:47:32.975Z"
   },
   {
    "duration": 148,
    "start_time": "2025-03-22T10:47:47.607Z"
   },
   {
    "duration": 0,
    "start_time": "2025-03-22T10:51:10.735Z"
   },
   {
    "duration": 0,
    "start_time": "2025-03-22T10:51:47.810Z"
   },
   {
    "duration": 0,
    "start_time": "2025-03-22T10:51:47.811Z"
   },
   {
    "duration": 0,
    "start_time": "2025-03-22T10:51:47.812Z"
   },
   {
    "duration": 0,
    "start_time": "2025-03-22T10:51:47.813Z"
   },
   {
    "duration": 0,
    "start_time": "2025-03-22T10:51:47.814Z"
   },
   {
    "duration": 0,
    "start_time": "2025-03-22T10:51:47.815Z"
   },
   {
    "duration": 0,
    "start_time": "2025-03-22T10:51:47.816Z"
   },
   {
    "duration": 0,
    "start_time": "2025-03-22T10:51:47.817Z"
   },
   {
    "duration": 0,
    "start_time": "2025-03-22T10:51:47.818Z"
   },
   {
    "duration": 0,
    "start_time": "2025-03-22T10:51:47.819Z"
   },
   {
    "duration": 0,
    "start_time": "2025-03-22T10:51:47.820Z"
   },
   {
    "duration": 0,
    "start_time": "2025-03-22T10:51:47.821Z"
   },
   {
    "duration": 0,
    "start_time": "2025-03-22T10:51:47.823Z"
   },
   {
    "duration": 0,
    "start_time": "2025-03-22T10:51:47.824Z"
   },
   {
    "duration": 0,
    "start_time": "2025-03-22T10:51:47.825Z"
   },
   {
    "duration": 0,
    "start_time": "2025-03-22T10:51:47.826Z"
   },
   {
    "duration": 0,
    "start_time": "2025-03-22T10:51:47.828Z"
   },
   {
    "duration": 0,
    "start_time": "2025-03-22T10:51:47.862Z"
   },
   {
    "duration": 0,
    "start_time": "2025-03-22T10:51:47.863Z"
   },
   {
    "duration": 0,
    "start_time": "2025-03-22T10:51:47.869Z"
   },
   {
    "duration": 0,
    "start_time": "2025-03-22T10:51:47.873Z"
   },
   {
    "duration": 0,
    "start_time": "2025-03-22T10:51:47.874Z"
   },
   {
    "duration": 0,
    "start_time": "2025-03-22T10:51:47.876Z"
   },
   {
    "duration": 0,
    "start_time": "2025-03-22T10:51:47.877Z"
   },
   {
    "duration": 0,
    "start_time": "2025-03-22T10:51:47.878Z"
   },
   {
    "duration": 0,
    "start_time": "2025-03-22T10:51:47.879Z"
   },
   {
    "duration": 0,
    "start_time": "2025-03-22T10:51:47.880Z"
   },
   {
    "duration": 0,
    "start_time": "2025-03-22T10:51:47.881Z"
   },
   {
    "duration": 0,
    "start_time": "2025-03-22T10:51:47.882Z"
   },
   {
    "duration": 0,
    "start_time": "2025-03-22T10:51:47.883Z"
   },
   {
    "duration": 0,
    "start_time": "2025-03-22T10:51:47.884Z"
   },
   {
    "duration": 0,
    "start_time": "2025-03-22T10:51:47.885Z"
   },
   {
    "duration": 0,
    "start_time": "2025-03-22T10:51:47.887Z"
   },
   {
    "duration": 0,
    "start_time": "2025-03-22T10:51:47.888Z"
   },
   {
    "duration": 0,
    "start_time": "2025-03-22T10:51:47.889Z"
   },
   {
    "duration": 0,
    "start_time": "2025-03-22T10:51:47.890Z"
   },
   {
    "duration": 0,
    "start_time": "2025-03-22T10:51:47.891Z"
   },
   {
    "duration": 0,
    "start_time": "2025-03-22T10:51:47.893Z"
   },
   {
    "duration": 0,
    "start_time": "2025-03-22T10:51:47.894Z"
   },
   {
    "duration": 0,
    "start_time": "2025-03-22T10:51:47.895Z"
   },
   {
    "duration": 0,
    "start_time": "2025-03-22T10:51:47.897Z"
   },
   {
    "duration": 0,
    "start_time": "2025-03-22T10:51:47.898Z"
   },
   {
    "duration": 0,
    "start_time": "2025-03-22T10:51:47.899Z"
   },
   {
    "duration": 0,
    "start_time": "2025-03-22T10:51:47.900Z"
   },
   {
    "duration": 0,
    "start_time": "2025-03-22T10:51:47.901Z"
   },
   {
    "duration": 0,
    "start_time": "2025-03-22T10:51:47.969Z"
   },
   {
    "duration": 0,
    "start_time": "2025-03-22T10:51:47.971Z"
   },
   {
    "duration": 0,
    "start_time": "2025-03-22T10:51:47.972Z"
   },
   {
    "duration": 0,
    "start_time": "2025-03-22T10:51:47.973Z"
   },
   {
    "duration": 0,
    "start_time": "2025-03-22T10:51:47.974Z"
   },
   {
    "duration": 0,
    "start_time": "2025-03-22T10:51:47.975Z"
   },
   {
    "duration": 0,
    "start_time": "2025-03-22T10:51:47.976Z"
   },
   {
    "duration": 0,
    "start_time": "2025-03-22T10:51:47.977Z"
   },
   {
    "duration": 0,
    "start_time": "2025-03-22T10:51:47.978Z"
   },
   {
    "duration": 0,
    "start_time": "2025-03-22T10:51:47.980Z"
   },
   {
    "duration": 0,
    "start_time": "2025-03-22T10:51:47.981Z"
   },
   {
    "duration": 0,
    "start_time": "2025-03-22T10:51:47.982Z"
   },
   {
    "duration": 6446,
    "start_time": "2025-03-22T10:52:23.286Z"
   },
   {
    "duration": 1042,
    "start_time": "2025-03-22T10:52:29.735Z"
   },
   {
    "duration": 4,
    "start_time": "2025-03-22T10:52:30.779Z"
   },
   {
    "duration": 276,
    "start_time": "2025-03-22T10:52:30.785Z"
   },
   {
    "duration": 1551,
    "start_time": "2025-03-22T10:52:31.067Z"
   },
   {
    "duration": 1235,
    "start_time": "2025-03-22T10:52:32.620Z"
   },
   {
    "duration": 11,
    "start_time": "2025-03-22T10:52:33.858Z"
   },
   {
    "duration": 12,
    "start_time": "2025-03-22T10:52:33.870Z"
   },
   {
    "duration": 7,
    "start_time": "2025-03-22T10:52:33.884Z"
   },
   {
    "duration": 33,
    "start_time": "2025-03-22T10:52:33.895Z"
   },
   {
    "duration": 135,
    "start_time": "2025-03-22T10:52:33.930Z"
   },
   {
    "duration": 343,
    "start_time": "2025-03-22T10:52:34.067Z"
   },
   {
    "duration": 2,
    "start_time": "2025-03-22T10:52:34.412Z"
   },
   {
    "duration": 327,
    "start_time": "2025-03-22T10:52:34.416Z"
   },
   {
    "duration": 646,
    "start_time": "2025-03-22T10:52:34.745Z"
   },
   {
    "duration": 13,
    "start_time": "2025-03-22T10:52:35.392Z"
   },
   {
    "duration": 96,
    "start_time": "2025-03-22T10:52:35.407Z"
   },
   {
    "duration": 10,
    "start_time": "2025-03-22T10:52:35.505Z"
   },
   {
    "duration": 238,
    "start_time": "2025-03-22T10:52:35.517Z"
   },
   {
    "duration": 1526,
    "start_time": "2025-03-22T10:52:35.758Z"
   },
   {
    "duration": 20,
    "start_time": "2025-03-22T10:52:37.286Z"
   },
   {
    "duration": 30,
    "start_time": "2025-03-22T10:52:37.308Z"
   },
   {
    "duration": 38,
    "start_time": "2025-03-22T10:52:37.340Z"
   },
   {
    "duration": 272,
    "start_time": "2025-03-22T10:52:37.380Z"
   },
   {
    "duration": 1513,
    "start_time": "2025-03-22T10:52:37.657Z"
   },
   {
    "duration": 5,
    "start_time": "2025-03-22T10:52:39.172Z"
   },
   {
    "duration": 33,
    "start_time": "2025-03-22T10:52:39.179Z"
   },
   {
    "duration": 16,
    "start_time": "2025-03-22T10:52:39.217Z"
   },
   {
    "duration": 47,
    "start_time": "2025-03-22T10:52:39.258Z"
   },
   {
    "duration": 16,
    "start_time": "2025-03-22T10:52:39.307Z"
   },
   {
    "duration": 4,
    "start_time": "2025-03-22T10:52:39.324Z"
   },
   {
    "duration": 6,
    "start_time": "2025-03-22T10:52:39.329Z"
   },
   {
    "duration": 2494,
    "start_time": "2025-03-22T10:52:39.336Z"
   },
   {
    "duration": 11142,
    "start_time": "2025-03-22T10:52:41.832Z"
   },
   {
    "duration": 42,
    "start_time": "2025-03-22T10:52:52.976Z"
   },
   {
    "duration": 56,
    "start_time": "2025-03-22T10:52:53.019Z"
   },
   {
    "duration": 17,
    "start_time": "2025-03-22T10:52:53.077Z"
   },
   {
    "duration": 21,
    "start_time": "2025-03-22T10:52:53.096Z"
   },
   {
    "duration": 5,
    "start_time": "2025-03-22T10:52:53.118Z"
   },
   {
    "duration": 44,
    "start_time": "2025-03-22T10:52:53.125Z"
   },
   {
    "duration": 20,
    "start_time": "2025-03-22T10:52:53.172Z"
   },
   {
    "duration": 115,
    "start_time": "2025-03-22T10:52:53.193Z"
   },
   {
    "duration": 22,
    "start_time": "2025-03-22T10:52:53.310Z"
   },
   {
    "duration": 26,
    "start_time": "2025-03-22T10:52:53.334Z"
   },
   {
    "duration": 6,
    "start_time": "2025-03-22T10:52:53.362Z"
   },
   {
    "duration": 36,
    "start_time": "2025-03-22T10:52:53.372Z"
   },
   {
    "duration": 906,
    "start_time": "2025-03-22T10:52:53.410Z"
   },
   {
    "duration": 655,
    "start_time": "2025-03-22T10:52:54.318Z"
   },
   {
    "duration": 5,
    "start_time": "2025-03-22T10:52:54.974Z"
   },
   {
    "duration": 7,
    "start_time": "2025-03-22T10:52:54.980Z"
   },
   {
    "duration": 1001,
    "start_time": "2025-03-22T10:52:54.988Z"
   },
   {
    "duration": 5,
    "start_time": "2025-03-22T10:52:55.990Z"
   },
   {
    "duration": 125,
    "start_time": "2025-03-22T10:52:55.996Z"
   },
   {
    "duration": 0,
    "start_time": "2025-03-22T10:52:56.123Z"
   },
   {
    "duration": 0,
    "start_time": "2025-03-22T10:52:56.124Z"
   },
   {
    "duration": 0,
    "start_time": "2025-03-22T10:52:56.126Z"
   },
   {
    "duration": 0,
    "start_time": "2025-03-22T10:52:56.126Z"
   },
   {
    "duration": 185,
    "start_time": "2025-03-22T10:53:06.606Z"
   },
   {
    "duration": 186,
    "start_time": "2025-03-22T10:53:09.915Z"
   },
   {
    "duration": 169,
    "start_time": "2025-03-22T10:53:14.482Z"
   },
   {
    "duration": 1525,
    "start_time": "2025-03-22T10:53:18.021Z"
   },
   {
    "duration": 0,
    "start_time": "2025-03-22T10:53:43.908Z"
   },
   {
    "duration": 1428,
    "start_time": "2025-03-22T10:53:48.406Z"
   },
   {
    "duration": 3187,
    "start_time": "2025-03-22T10:54:55.531Z"
   },
   {
    "duration": 819,
    "start_time": "2025-03-22T10:55:25.574Z"
   },
   {
    "duration": 841,
    "start_time": "2025-03-22T10:55:42.783Z"
   },
   {
    "duration": 154,
    "start_time": "2025-03-22T10:56:38.322Z"
   },
   {
    "duration": 147,
    "start_time": "2025-03-22T10:56:42.941Z"
   },
   {
    "duration": 163,
    "start_time": "2025-03-22T10:57:21.847Z"
   },
   {
    "duration": 142,
    "start_time": "2025-03-22T10:59:27.486Z"
   },
   {
    "duration": 148,
    "start_time": "2025-03-22T11:02:10.157Z"
   },
   {
    "duration": 146,
    "start_time": "2025-03-22T11:02:26.174Z"
   },
   {
    "duration": 4,
    "start_time": "2025-03-22T11:02:56.197Z"
   },
   {
    "duration": 11,
    "start_time": "2025-03-22T11:03:21.697Z"
   },
   {
    "duration": 5,
    "start_time": "2025-03-22T11:03:26.897Z"
   },
   {
    "duration": 6600,
    "start_time": "2025-03-22T11:03:52.853Z"
   },
   {
    "duration": 1056,
    "start_time": "2025-03-22T11:03:59.455Z"
   },
   {
    "duration": 4,
    "start_time": "2025-03-22T11:04:00.512Z"
   },
   {
    "duration": 421,
    "start_time": "2025-03-22T11:04:00.517Z"
   },
   {
    "duration": 1554,
    "start_time": "2025-03-22T11:04:00.940Z"
   },
   {
    "duration": 1227,
    "start_time": "2025-03-22T11:04:02.496Z"
   },
   {
    "duration": 4,
    "start_time": "2025-03-22T11:04:03.725Z"
   },
   {
    "duration": 17,
    "start_time": "2025-03-22T11:04:03.731Z"
   },
   {
    "duration": 21,
    "start_time": "2025-03-22T11:04:03.750Z"
   },
   {
    "duration": 32,
    "start_time": "2025-03-22T11:04:03.773Z"
   },
   {
    "duration": 121,
    "start_time": "2025-03-22T11:04:03.807Z"
   },
   {
    "duration": 363,
    "start_time": "2025-03-22T11:04:03.929Z"
   },
   {
    "duration": 3,
    "start_time": "2025-03-22T11:04:04.294Z"
   },
   {
    "duration": 345,
    "start_time": "2025-03-22T11:04:04.300Z"
   },
   {
    "duration": 670,
    "start_time": "2025-03-22T11:04:04.647Z"
   },
   {
    "duration": 13,
    "start_time": "2025-03-22T11:04:05.318Z"
   },
   {
    "duration": 41,
    "start_time": "2025-03-22T11:04:05.332Z"
   },
   {
    "duration": 17,
    "start_time": "2025-03-22T11:04:05.374Z"
   },
   {
    "duration": 248,
    "start_time": "2025-03-22T11:04:05.393Z"
   },
   {
    "duration": 1465,
    "start_time": "2025-03-22T11:04:05.643Z"
   },
   {
    "duration": 20,
    "start_time": "2025-03-22T11:04:07.110Z"
   },
   {
    "duration": 42,
    "start_time": "2025-03-22T11:04:07.132Z"
   },
   {
    "duration": 17,
    "start_time": "2025-03-22T11:04:07.176Z"
   },
   {
    "duration": 235,
    "start_time": "2025-03-22T11:04:07.194Z"
   },
   {
    "duration": 1511,
    "start_time": "2025-03-22T11:04:07.431Z"
   },
   {
    "duration": 26,
    "start_time": "2025-03-22T11:04:08.944Z"
   },
   {
    "duration": 26,
    "start_time": "2025-03-22T11:04:08.972Z"
   },
   {
    "duration": 17,
    "start_time": "2025-03-22T11:04:09.000Z"
   },
   {
    "duration": 51,
    "start_time": "2025-03-22T11:04:09.018Z"
   },
   {
    "duration": 15,
    "start_time": "2025-03-22T11:04:09.072Z"
   },
   {
    "duration": 3,
    "start_time": "2025-03-22T11:04:09.089Z"
   },
   {
    "duration": 7,
    "start_time": "2025-03-22T11:04:09.094Z"
   },
   {
    "duration": 2416,
    "start_time": "2025-03-22T11:04:09.102Z"
   },
   {
    "duration": 11002,
    "start_time": "2025-03-22T11:04:11.521Z"
   },
   {
    "duration": 62,
    "start_time": "2025-03-22T11:04:22.525Z"
   },
   {
    "duration": 34,
    "start_time": "2025-03-22T11:04:22.589Z"
   },
   {
    "duration": 64,
    "start_time": "2025-03-22T11:04:22.624Z"
   },
   {
    "duration": 22,
    "start_time": "2025-03-22T11:04:22.689Z"
   },
   {
    "duration": 5,
    "start_time": "2025-03-22T11:04:22.712Z"
   },
   {
    "duration": 5,
    "start_time": "2025-03-22T11:04:22.719Z"
   },
   {
    "duration": 31,
    "start_time": "2025-03-22T11:04:22.728Z"
   },
   {
    "duration": 33,
    "start_time": "2025-03-22T11:04:22.760Z"
   },
   {
    "duration": 21,
    "start_time": "2025-03-22T11:04:22.795Z"
   },
   {
    "duration": 41,
    "start_time": "2025-03-22T11:04:22.818Z"
   },
   {
    "duration": 10,
    "start_time": "2025-03-22T11:04:22.862Z"
   },
   {
    "duration": 34,
    "start_time": "2025-03-22T11:04:22.875Z"
   },
   {
    "duration": 917,
    "start_time": "2025-03-22T11:04:22.911Z"
   },
   {
    "duration": 663,
    "start_time": "2025-03-22T11:04:23.830Z"
   },
   {
    "duration": 5,
    "start_time": "2025-03-22T11:04:24.494Z"
   },
   {
    "duration": 7,
    "start_time": "2025-03-22T11:04:24.500Z"
   },
   {
    "duration": 995,
    "start_time": "2025-03-22T11:04:24.509Z"
   },
   {
    "duration": 4,
    "start_time": "2025-03-22T11:04:25.505Z"
   },
   {
    "duration": 192,
    "start_time": "2025-03-22T11:04:25.511Z"
   },
   {
    "duration": 190,
    "start_time": "2025-03-22T11:04:25.705Z"
   },
   {
    "duration": 186,
    "start_time": "2025-03-22T11:04:25.897Z"
   },
   {
    "duration": 1467,
    "start_time": "2025-03-22T11:04:26.084Z"
   },
   {
    "duration": 122,
    "start_time": "2025-03-22T11:04:27.553Z"
   },
   {
    "duration": 0,
    "start_time": "2025-03-22T11:04:27.677Z"
   },
   {
    "duration": 11,
    "start_time": "2025-03-22T11:05:48.803Z"
   },
   {
    "duration": 9,
    "start_time": "2025-03-22T11:05:56.374Z"
   },
   {
    "duration": 10,
    "start_time": "2025-03-22T11:06:11.044Z"
   },
   {
    "duration": 4,
    "start_time": "2025-03-22T11:06:49.670Z"
   },
   {
    "duration": 156,
    "start_time": "2025-03-22T11:06:59.374Z"
   },
   {
    "duration": 4118,
    "start_time": "2025-03-22T11:08:49.458Z"
   },
   {
    "duration": 11,
    "start_time": "2025-03-22T12:51:57.722Z"
   },
   {
    "duration": 4,
    "start_time": "2025-03-22T12:52:10.175Z"
   },
   {
    "duration": 11,
    "start_time": "2025-03-22T12:52:43.070Z"
   },
   {
    "duration": 10,
    "start_time": "2025-03-22T12:55:09.670Z"
   },
   {
    "duration": 1449,
    "start_time": "2025-03-22T12:55:36.367Z"
   },
   {
    "duration": 6758,
    "start_time": "2025-03-22T12:56:05.052Z"
   },
   {
    "duration": 6788,
    "start_time": "2025-03-22T12:57:20.834Z"
   },
   {
    "duration": 20,
    "start_time": "2025-03-22T13:01:23.164Z"
   },
   {
    "duration": 2547,
    "start_time": "2025-03-22T13:01:57.385Z"
   },
   {
    "duration": 16018,
    "start_time": "2025-03-22T13:02:14.389Z"
   },
   {
    "duration": 679,
    "start_time": "2025-03-22T13:21:37.144Z"
   },
   {
    "duration": 715,
    "start_time": "2025-03-22T13:32:21.821Z"
   },
   {
    "duration": 34,
    "start_time": "2025-03-22T13:37:39.890Z"
   },
   {
    "duration": 37,
    "start_time": "2025-03-22T13:38:30.331Z"
   },
   {
    "duration": 169,
    "start_time": "2025-03-22T13:40:58.625Z"
   },
   {
    "duration": 39,
    "start_time": "2025-03-22T13:41:25.753Z"
   },
   {
    "duration": 42,
    "start_time": "2025-03-22T13:41:35.723Z"
   },
   {
    "duration": 95,
    "start_time": "2025-03-22T13:42:54.913Z"
   },
   {
    "duration": 166,
    "start_time": "2025-03-22T13:43:14.039Z"
   },
   {
    "duration": 34,
    "start_time": "2025-03-22T13:43:28.105Z"
   },
   {
    "duration": 39,
    "start_time": "2025-03-22T13:43:42.440Z"
   },
   {
    "duration": 47,
    "start_time": "2025-03-22T13:44:44.641Z"
   },
   {
    "duration": 36,
    "start_time": "2025-03-22T13:45:46.716Z"
   },
   {
    "duration": 36,
    "start_time": "2025-03-22T13:46:07.178Z"
   },
   {
    "duration": 505,
    "start_time": "2025-03-22T13:46:21.771Z"
   },
   {
    "duration": 199,
    "start_time": "2025-03-22T13:49:06.029Z"
   },
   {
    "duration": 214,
    "start_time": "2025-03-22T13:49:54.656Z"
   },
   {
    "duration": 201,
    "start_time": "2025-03-22T13:50:30.020Z"
   },
   {
    "duration": 219,
    "start_time": "2025-03-22T13:50:35.084Z"
   },
   {
    "duration": 584,
    "start_time": "2025-03-22T13:51:15.711Z"
   },
   {
    "duration": 73,
    "start_time": "2025-03-22T13:51:54.818Z"
   },
   {
    "duration": 636,
    "start_time": "2025-03-22T13:52:15.842Z"
   },
   {
    "duration": 592,
    "start_time": "2025-03-22T13:52:34.292Z"
   },
   {
    "duration": 742,
    "start_time": "2025-03-22T13:55:09.536Z"
   },
   {
    "duration": 599,
    "start_time": "2025-03-22T13:55:17.147Z"
   },
   {
    "duration": 105,
    "start_time": "2025-03-22T13:57:37.470Z"
   },
   {
    "duration": 617,
    "start_time": "2025-03-22T13:58:09.731Z"
   },
   {
    "duration": 593,
    "start_time": "2025-03-22T13:58:32.312Z"
   },
   {
    "duration": 599,
    "start_time": "2025-03-22T13:58:40.736Z"
   },
   {
    "duration": 790,
    "start_time": "2025-03-22T13:59:17.576Z"
   },
   {
    "duration": 679,
    "start_time": "2025-03-22T13:59:27.976Z"
   },
   {
    "duration": 662,
    "start_time": "2025-03-22T13:59:40.470Z"
   },
   {
    "duration": 612,
    "start_time": "2025-03-22T13:59:50.475Z"
   },
   {
    "duration": 36,
    "start_time": "2025-03-22T14:04:38.792Z"
   },
   {
    "duration": 37,
    "start_time": "2025-03-22T14:04:43.018Z"
   },
   {
    "duration": 970,
    "start_time": "2025-03-22T14:05:45.556Z"
   },
   {
    "duration": 9,
    "start_time": "2025-03-22T14:06:52.543Z"
   },
   {
    "duration": 249,
    "start_time": "2025-03-22T14:07:03.333Z"
   },
   {
    "duration": 21823,
    "start_time": "2025-03-22T14:07:11.418Z"
   },
   {
    "duration": 608,
    "start_time": "2025-03-22T14:08:49.193Z"
   },
   {
    "duration": 706,
    "start_time": "2025-03-22T14:11:32.070Z"
   },
   {
    "duration": 146086,
    "start_time": "2025-03-22T15:15:17.523Z"
   },
   {
    "duration": 0,
    "start_time": "2025-03-22T15:17:43.612Z"
   },
   {
    "duration": 4,
    "start_time": "2025-03-22T15:17:50.006Z"
   },
   {
    "duration": 26,
    "start_time": "2025-03-22T15:18:39.350Z"
   },
   {
    "duration": 4,
    "start_time": "2025-03-22T15:18:49.772Z"
   },
   {
    "duration": 7020,
    "start_time": "2025-03-22T15:18:56.213Z"
   },
   {
    "duration": 3,
    "start_time": "2025-03-22T15:59:57.916Z"
   },
   {
    "duration": 7,
    "start_time": "2025-03-22T16:11:04.870Z"
   },
   {
    "duration": 6,
    "start_time": "2025-03-22T16:12:38.371Z"
   },
   {
    "duration": 16,
    "start_time": "2025-03-22T16:12:40.624Z"
   },
   {
    "duration": 6,
    "start_time": "2025-03-22T16:13:02.835Z"
   },
   {
    "duration": 1541,
    "start_time": "2025-03-22T16:13:09.444Z"
   },
   {
    "duration": 6,
    "start_time": "2025-03-22T16:13:51.922Z"
   },
   {
    "duration": 89,
    "start_time": "2025-03-22T16:13:54.680Z"
   },
   {
    "duration": 155,
    "start_time": "2025-03-22T16:53:11.202Z"
   },
   {
    "duration": 2384,
    "start_time": "2025-03-22T16:55:31.046Z"
   },
   {
    "duration": 633,
    "start_time": "2025-03-22T16:56:50.390Z"
   },
   {
    "duration": 89,
    "start_time": "2025-03-22T16:58:13.556Z"
   },
   {
    "duration": 6401,
    "start_time": "2025-03-22T16:58:37.172Z"
   },
   {
    "duration": 1110,
    "start_time": "2025-03-22T16:58:43.575Z"
   },
   {
    "duration": 4,
    "start_time": "2025-03-22T16:58:44.687Z"
   },
   {
    "duration": 245,
    "start_time": "2025-03-22T16:58:44.692Z"
   },
   {
    "duration": 1472,
    "start_time": "2025-03-22T16:58:44.938Z"
   },
   {
    "duration": 1190,
    "start_time": "2025-03-22T16:58:46.412Z"
   },
   {
    "duration": 4,
    "start_time": "2025-03-22T16:58:47.604Z"
   },
   {
    "duration": 9,
    "start_time": "2025-03-22T16:58:47.609Z"
   },
   {
    "duration": 5,
    "start_time": "2025-03-22T16:58:47.620Z"
   },
   {
    "duration": 47,
    "start_time": "2025-03-22T16:58:47.628Z"
   },
   {
    "duration": 114,
    "start_time": "2025-03-22T16:58:47.678Z"
   },
   {
    "duration": 206,
    "start_time": "2025-03-22T16:58:47.794Z"
   },
   {
    "duration": 351,
    "start_time": "2025-03-22T16:58:48.002Z"
   },
   {
    "duration": 8,
    "start_time": "2025-03-22T16:58:48.365Z"
   },
   {
    "duration": 504,
    "start_time": "2025-03-22T16:58:48.375Z"
   },
   {
    "duration": 610,
    "start_time": "2025-03-22T16:58:48.881Z"
   },
   {
    "duration": 4,
    "start_time": "2025-03-22T16:58:49.492Z"
   },
   {
    "duration": 13,
    "start_time": "2025-03-22T16:58:49.498Z"
   },
   {
    "duration": 59,
    "start_time": "2025-03-22T16:58:49.512Z"
   },
   {
    "duration": 57,
    "start_time": "2025-03-22T16:58:49.573Z"
   },
   {
    "duration": 238,
    "start_time": "2025-03-22T16:58:49.632Z"
   },
   {
    "duration": 1462,
    "start_time": "2025-03-22T16:58:49.872Z"
   },
   {
    "duration": 36,
    "start_time": "2025-03-22T16:58:51.335Z"
   },
   {
    "duration": 71,
    "start_time": "2025-03-22T16:58:51.373Z"
   },
   {
    "duration": 28,
    "start_time": "2025-03-22T16:58:51.446Z"
   },
   {
    "duration": 240,
    "start_time": "2025-03-22T16:58:51.476Z"
   },
   {
    "duration": 1653,
    "start_time": "2025-03-22T16:58:51.718Z"
   },
   {
    "duration": 6,
    "start_time": "2025-03-22T16:58:53.380Z"
   },
   {
    "duration": 90,
    "start_time": "2025-03-22T16:58:53.387Z"
   },
   {
    "duration": 17,
    "start_time": "2025-03-22T16:58:53.478Z"
   },
   {
    "duration": 78,
    "start_time": "2025-03-22T16:58:53.496Z"
   },
   {
    "duration": 14,
    "start_time": "2025-03-22T16:58:53.576Z"
   },
   {
    "duration": 67,
    "start_time": "2025-03-22T16:58:53.592Z"
   },
   {
    "duration": 13,
    "start_time": "2025-03-22T16:58:53.661Z"
   },
   {
    "duration": 2970,
    "start_time": "2025-03-22T16:58:53.676Z"
   },
   {
    "duration": 2501,
    "start_time": "2025-03-22T16:58:56.648Z"
   },
   {
    "duration": 15723,
    "start_time": "2025-03-22T16:58:59.151Z"
   },
   {
    "duration": 46,
    "start_time": "2025-03-22T16:59:14.876Z"
   },
   {
    "duration": 70,
    "start_time": "2025-03-22T16:59:14.924Z"
   },
   {
    "duration": 24,
    "start_time": "2025-03-22T16:59:14.996Z"
   },
   {
    "duration": 51,
    "start_time": "2025-03-22T16:59:15.021Z"
   },
   {
    "duration": 8,
    "start_time": "2025-03-22T16:59:15.074Z"
   },
   {
    "duration": 31,
    "start_time": "2025-03-22T16:59:15.084Z"
   },
   {
    "duration": 52,
    "start_time": "2025-03-22T16:59:15.117Z"
   },
   {
    "duration": 39,
    "start_time": "2025-03-22T16:59:15.171Z"
   },
   {
    "duration": 22,
    "start_time": "2025-03-22T16:59:15.213Z"
   },
   {
    "duration": 75,
    "start_time": "2025-03-22T16:59:15.236Z"
   },
   {
    "duration": 862,
    "start_time": "2025-03-22T16:59:15.313Z"
   },
   {
    "duration": 635,
    "start_time": "2025-03-22T16:59:16.177Z"
   },
   {
    "duration": 694,
    "start_time": "2025-03-22T16:59:16.814Z"
   },
   {
    "duration": 789,
    "start_time": "2025-03-22T16:59:17.510Z"
   },
   {
    "duration": 1588,
    "start_time": "2025-03-22T16:59:18.300Z"
   },
   {
    "duration": 0,
    "start_time": "2025-03-22T16:59:19.890Z"
   },
   {
    "duration": 0,
    "start_time": "2025-03-22T16:59:19.891Z"
   },
   {
    "duration": 0,
    "start_time": "2025-03-22T16:59:19.892Z"
   },
   {
    "duration": 0,
    "start_time": "2025-03-22T16:59:19.893Z"
   },
   {
    "duration": 0,
    "start_time": "2025-03-22T16:59:19.895Z"
   },
   {
    "duration": 0,
    "start_time": "2025-03-22T16:59:19.896Z"
   },
   {
    "duration": 0,
    "start_time": "2025-03-22T16:59:19.897Z"
   },
   {
    "duration": 0,
    "start_time": "2025-03-22T16:59:19.898Z"
   },
   {
    "duration": 6383,
    "start_time": "2025-03-22T17:01:24.667Z"
   },
   {
    "duration": 1024,
    "start_time": "2025-03-22T17:01:31.052Z"
   },
   {
    "duration": 4,
    "start_time": "2025-03-22T17:01:32.078Z"
   },
   {
    "duration": 269,
    "start_time": "2025-03-22T17:01:32.084Z"
   },
   {
    "duration": 1532,
    "start_time": "2025-03-22T17:01:32.362Z"
   },
   {
    "duration": 1182,
    "start_time": "2025-03-22T17:01:33.896Z"
   },
   {
    "duration": 5,
    "start_time": "2025-03-22T17:01:35.079Z"
   },
   {
    "duration": 5,
    "start_time": "2025-03-22T17:01:35.085Z"
   },
   {
    "duration": 7,
    "start_time": "2025-03-22T17:01:35.092Z"
   },
   {
    "duration": 32,
    "start_time": "2025-03-22T17:01:35.101Z"
   },
   {
    "duration": 138,
    "start_time": "2025-03-22T17:01:35.135Z"
   },
   {
    "duration": 227,
    "start_time": "2025-03-22T17:01:35.275Z"
   },
   {
    "duration": 347,
    "start_time": "2025-03-22T17:01:35.503Z"
   },
   {
    "duration": 19,
    "start_time": "2025-03-22T17:01:35.851Z"
   },
   {
    "duration": 382,
    "start_time": "2025-03-22T17:01:35.871Z"
   },
   {
    "duration": 596,
    "start_time": "2025-03-22T17:01:36.257Z"
   },
   {
    "duration": 9,
    "start_time": "2025-03-22T17:01:36.859Z"
   },
   {
    "duration": 14,
    "start_time": "2025-03-22T17:01:36.870Z"
   },
   {
    "duration": 25,
    "start_time": "2025-03-22T17:01:36.886Z"
   },
   {
    "duration": 12,
    "start_time": "2025-03-22T17:01:36.912Z"
   },
   {
    "duration": 258,
    "start_time": "2025-03-22T17:01:36.926Z"
   },
   {
    "duration": 1444,
    "start_time": "2025-03-22T17:01:37.185Z"
   },
   {
    "duration": 40,
    "start_time": "2025-03-22T17:01:38.631Z"
   },
   {
    "duration": 27,
    "start_time": "2025-03-22T17:01:38.673Z"
   },
   {
    "duration": 17,
    "start_time": "2025-03-22T17:01:38.702Z"
   },
   {
    "duration": 229,
    "start_time": "2025-03-22T17:01:38.721Z"
   },
   {
    "duration": 1465,
    "start_time": "2025-03-22T17:01:38.951Z"
   },
   {
    "duration": 5,
    "start_time": "2025-03-22T17:01:40.420Z"
   },
   {
    "duration": 162,
    "start_time": "2025-03-22T17:01:40.426Z"
   },
   {
    "duration": 17,
    "start_time": "2025-03-22T17:01:40.590Z"
   },
   {
    "duration": 26,
    "start_time": "2025-03-22T17:01:40.609Z"
   },
   {
    "duration": 39,
    "start_time": "2025-03-22T17:01:40.636Z"
   },
   {
    "duration": 4,
    "start_time": "2025-03-22T17:01:40.676Z"
   },
   {
    "duration": 4,
    "start_time": "2025-03-22T17:01:40.682Z"
   },
   {
    "duration": 2421,
    "start_time": "2025-03-22T17:01:40.687Z"
   },
   {
    "duration": 2425,
    "start_time": "2025-03-22T17:01:43.110Z"
   },
   {
    "duration": 16409,
    "start_time": "2025-03-22T17:01:45.537Z"
   },
   {
    "duration": 50,
    "start_time": "2025-03-22T17:02:01.948Z"
   },
   {
    "duration": 70,
    "start_time": "2025-03-22T17:02:02.000Z"
   },
   {
    "duration": 18,
    "start_time": "2025-03-22T17:02:02.071Z"
   },
   {
    "duration": 21,
    "start_time": "2025-03-22T17:02:02.091Z"
   },
   {
    "duration": 5,
    "start_time": "2025-03-22T17:02:02.114Z"
   },
   {
    "duration": 14,
    "start_time": "2025-03-22T17:02:02.120Z"
   },
   {
    "duration": 56,
    "start_time": "2025-03-22T17:02:02.136Z"
   },
   {
    "duration": 26,
    "start_time": "2025-03-22T17:02:02.193Z"
   },
   {
    "duration": 51,
    "start_time": "2025-03-22T17:02:02.221Z"
   },
   {
    "duration": 18,
    "start_time": "2025-03-22T17:02:02.274Z"
   },
   {
    "duration": 887,
    "start_time": "2025-03-22T17:02:02.293Z"
   },
   {
    "duration": 651,
    "start_time": "2025-03-22T17:02:03.181Z"
   },
   {
    "duration": 676,
    "start_time": "2025-03-22T17:02:03.834Z"
   },
   {
    "duration": 792,
    "start_time": "2025-03-22T17:02:04.511Z"
   },
   {
    "duration": 614,
    "start_time": "2025-03-22T17:02:05.305Z"
   },
   {
    "duration": 19,
    "start_time": "2025-03-22T17:02:05.920Z"
   },
   {
    "duration": 7474,
    "start_time": "2025-03-22T17:02:05.941Z"
   },
   {
    "duration": 261,
    "start_time": "2025-03-22T17:02:13.417Z"
   },
   {
    "duration": 0,
    "start_time": "2025-03-22T17:02:13.679Z"
   },
   {
    "duration": 0,
    "start_time": "2025-03-22T17:02:13.681Z"
   },
   {
    "duration": 6375,
    "start_time": "2025-03-22T17:04:58.199Z"
   },
   {
    "duration": 1052,
    "start_time": "2025-03-22T17:05:04.576Z"
   },
   {
    "duration": 4,
    "start_time": "2025-03-22T17:05:05.629Z"
   },
   {
    "duration": 301,
    "start_time": "2025-03-22T17:05:05.634Z"
   },
   {
    "duration": 1566,
    "start_time": "2025-03-22T17:05:05.937Z"
   },
   {
    "duration": 1192,
    "start_time": "2025-03-22T17:05:07.504Z"
   },
   {
    "duration": 4,
    "start_time": "2025-03-22T17:05:08.698Z"
   },
   {
    "duration": 5,
    "start_time": "2025-03-22T17:05:08.703Z"
   },
   {
    "duration": 6,
    "start_time": "2025-03-22T17:05:08.709Z"
   },
   {
    "duration": 63,
    "start_time": "2025-03-22T17:05:08.716Z"
   },
   {
    "duration": 112,
    "start_time": "2025-03-22T17:05:08.781Z"
   },
   {
    "duration": 205,
    "start_time": "2025-03-22T17:05:08.895Z"
   },
   {
    "duration": 351,
    "start_time": "2025-03-22T17:05:09.102Z"
   },
   {
    "duration": 10,
    "start_time": "2025-03-22T17:05:09.461Z"
   },
   {
    "duration": 314,
    "start_time": "2025-03-22T17:05:09.473Z"
   },
   {
    "duration": 608,
    "start_time": "2025-03-22T17:05:09.789Z"
   },
   {
    "duration": 4,
    "start_time": "2025-03-22T17:05:10.399Z"
   },
   {
    "duration": 80,
    "start_time": "2025-03-22T17:05:10.404Z"
   },
   {
    "duration": 110,
    "start_time": "2025-03-22T17:05:10.485Z"
   },
   {
    "duration": 10,
    "start_time": "2025-03-22T17:05:10.597Z"
   },
   {
    "duration": 237,
    "start_time": "2025-03-22T17:05:10.609Z"
   },
   {
    "duration": 1539,
    "start_time": "2025-03-22T17:05:10.847Z"
   },
   {
    "duration": 21,
    "start_time": "2025-03-22T17:05:12.387Z"
   },
   {
    "duration": 100,
    "start_time": "2025-03-22T17:05:12.409Z"
   },
   {
    "duration": 85,
    "start_time": "2025-03-22T17:05:12.511Z"
   },
   {
    "duration": 212,
    "start_time": "2025-03-22T17:05:12.598Z"
   },
   {
    "duration": 1495,
    "start_time": "2025-03-22T17:05:12.812Z"
   },
   {
    "duration": 5,
    "start_time": "2025-03-22T17:05:14.309Z"
   },
   {
    "duration": 54,
    "start_time": "2025-03-22T17:05:14.316Z"
   },
   {
    "duration": 16,
    "start_time": "2025-03-22T17:05:14.373Z"
   },
   {
    "duration": 148,
    "start_time": "2025-03-22T17:05:14.390Z"
   },
   {
    "duration": 61,
    "start_time": "2025-03-22T17:05:14.539Z"
   },
   {
    "duration": 8,
    "start_time": "2025-03-22T17:05:14.601Z"
   },
   {
    "duration": 3,
    "start_time": "2025-03-22T17:05:14.611Z"
   },
   {
    "duration": 2405,
    "start_time": "2025-03-22T17:05:14.616Z"
   },
   {
    "duration": 2493,
    "start_time": "2025-03-22T17:05:17.023Z"
   },
   {
    "duration": 16072,
    "start_time": "2025-03-22T17:05:19.518Z"
   },
   {
    "duration": 41,
    "start_time": "2025-03-22T17:05:35.591Z"
   },
   {
    "duration": 69,
    "start_time": "2025-03-22T17:05:35.634Z"
   },
   {
    "duration": 18,
    "start_time": "2025-03-22T17:05:35.705Z"
   },
   {
    "duration": 22,
    "start_time": "2025-03-22T17:05:35.727Z"
   },
   {
    "duration": 15,
    "start_time": "2025-03-22T17:05:35.757Z"
   },
   {
    "duration": 9,
    "start_time": "2025-03-22T17:05:35.774Z"
   },
   {
    "duration": 19,
    "start_time": "2025-03-22T17:05:35.785Z"
   },
   {
    "duration": 28,
    "start_time": "2025-03-22T17:05:35.805Z"
   },
   {
    "duration": 49,
    "start_time": "2025-03-22T17:05:35.834Z"
   },
   {
    "duration": 20,
    "start_time": "2025-03-22T17:05:35.885Z"
   },
   {
    "duration": 933,
    "start_time": "2025-03-22T17:05:35.906Z"
   },
   {
    "duration": 649,
    "start_time": "2025-03-22T17:05:36.841Z"
   },
   {
    "duration": 662,
    "start_time": "2025-03-22T17:05:37.492Z"
   },
   {
    "duration": 810,
    "start_time": "2025-03-22T17:05:38.162Z"
   },
   {
    "duration": 598,
    "start_time": "2025-03-22T17:05:38.974Z"
   },
   {
    "duration": 36,
    "start_time": "2025-03-22T17:05:39.574Z"
   },
   {
    "duration": 7510,
    "start_time": "2025-03-22T17:05:39.612Z"
   },
   {
    "duration": 8495,
    "start_time": "2025-03-22T17:05:47.124Z"
   },
   {
    "duration": 2,
    "start_time": "2025-03-22T17:05:55.621Z"
   },
   {
    "duration": 79,
    "start_time": "2025-03-22T17:05:55.625Z"
   },
   {
    "duration": 7358,
    "start_time": "2025-03-22T17:09:19.770Z"
   },
   {
    "duration": 14025,
    "start_time": "2025-03-22T17:10:16.977Z"
   },
   {
    "duration": 8,
    "start_time": "2025-03-23T05:33:22.125Z"
   },
   {
    "duration": 41,
    "start_time": "2025-03-23T05:33:50.302Z"
   },
   {
    "duration": 7380,
    "start_time": "2025-03-23T05:33:57.552Z"
   },
   {
    "duration": 921,
    "start_time": "2025-03-23T05:34:04.935Z"
   },
   {
    "duration": 4,
    "start_time": "2025-03-23T05:34:05.857Z"
   },
   {
    "duration": 238,
    "start_time": "2025-03-23T05:34:05.862Z"
   },
   {
    "duration": 1370,
    "start_time": "2025-03-23T05:34:06.102Z"
   },
   {
    "duration": 1079,
    "start_time": "2025-03-23T05:34:07.473Z"
   },
   {
    "duration": 4,
    "start_time": "2025-03-23T05:34:08.554Z"
   },
   {
    "duration": 4,
    "start_time": "2025-03-23T05:34:08.567Z"
   },
   {
    "duration": 6,
    "start_time": "2025-03-23T05:34:08.573Z"
   },
   {
    "duration": 27,
    "start_time": "2025-03-23T05:34:08.581Z"
   },
   {
    "duration": 113,
    "start_time": "2025-03-23T05:34:08.609Z"
   },
   {
    "duration": 194,
    "start_time": "2025-03-23T05:34:08.724Z"
   },
   {
    "duration": 335,
    "start_time": "2025-03-23T05:34:08.920Z"
   },
   {
    "duration": 3,
    "start_time": "2025-03-23T05:34:09.257Z"
   },
   {
    "duration": 273,
    "start_time": "2025-03-23T05:34:09.267Z"
   },
   {
    "duration": 532,
    "start_time": "2025-03-23T05:34:09.542Z"
   },
   {
    "duration": 4,
    "start_time": "2025-03-23T05:34:10.076Z"
   },
   {
    "duration": 20,
    "start_time": "2025-03-23T05:34:10.082Z"
   },
   {
    "duration": 19,
    "start_time": "2025-03-23T05:34:10.103Z"
   },
   {
    "duration": 10,
    "start_time": "2025-03-23T05:34:10.123Z"
   },
   {
    "duration": 225,
    "start_time": "2025-03-23T05:34:10.134Z"
   },
   {
    "duration": 1262,
    "start_time": "2025-03-23T05:34:10.361Z"
   },
   {
    "duration": 18,
    "start_time": "2025-03-23T05:34:11.625Z"
   },
   {
    "duration": 41,
    "start_time": "2025-03-23T05:34:11.644Z"
   },
   {
    "duration": 15,
    "start_time": "2025-03-23T05:34:11.687Z"
   },
   {
    "duration": 196,
    "start_time": "2025-03-23T05:34:11.704Z"
   },
   {
    "duration": 1317,
    "start_time": "2025-03-23T05:34:11.902Z"
   },
   {
    "duration": 5,
    "start_time": "2025-03-23T05:34:13.223Z"
   },
   {
    "duration": 40,
    "start_time": "2025-03-23T05:34:13.229Z"
   },
   {
    "duration": 15,
    "start_time": "2025-03-23T05:34:13.270Z"
   },
   {
    "duration": 36,
    "start_time": "2025-03-23T05:34:13.286Z"
   },
   {
    "duration": 14,
    "start_time": "2025-03-23T05:34:13.323Z"
   },
   {
    "duration": 3,
    "start_time": "2025-03-23T05:34:13.339Z"
   },
   {
    "duration": 10,
    "start_time": "2025-03-23T05:34:13.343Z"
   },
   {
    "duration": 2166,
    "start_time": "2025-03-23T05:34:13.355Z"
   },
   {
    "duration": 2121,
    "start_time": "2025-03-23T05:34:15.522Z"
   },
   {
    "duration": 14239,
    "start_time": "2025-03-23T05:34:17.645Z"
   },
   {
    "duration": 40,
    "start_time": "2025-03-23T05:34:31.886Z"
   },
   {
    "duration": 55,
    "start_time": "2025-03-23T05:34:31.928Z"
   },
   {
    "duration": 17,
    "start_time": "2025-03-23T05:34:31.985Z"
   },
   {
    "duration": 19,
    "start_time": "2025-03-23T05:34:32.004Z"
   },
   {
    "duration": 4,
    "start_time": "2025-03-23T05:34:32.025Z"
   },
   {
    "duration": 5,
    "start_time": "2025-03-23T05:34:32.031Z"
   },
   {
    "duration": 42,
    "start_time": "2025-03-23T05:34:32.037Z"
   },
   {
    "duration": 25,
    "start_time": "2025-03-23T05:34:32.080Z"
   },
   {
    "duration": 20,
    "start_time": "2025-03-23T05:34:32.106Z"
   },
   {
    "duration": 17,
    "start_time": "2025-03-23T05:34:32.127Z"
   },
   {
    "duration": 573,
    "start_time": "2025-03-23T05:34:32.168Z"
   },
   {
    "duration": 598,
    "start_time": "2025-03-23T05:34:32.742Z"
   },
   {
    "duration": 600,
    "start_time": "2025-03-23T05:34:33.342Z"
   },
   {
    "duration": 592,
    "start_time": "2025-03-23T05:34:33.943Z"
   },
   {
    "duration": 878,
    "start_time": "2025-03-23T05:34:34.537Z"
   },
   {
    "duration": 3,
    "start_time": "2025-03-23T05:34:35.416Z"
   },
   {
    "duration": 49,
    "start_time": "2025-03-23T05:34:35.420Z"
   },
   {
    "duration": 182,
    "start_time": "2025-03-23T05:34:35.471Z"
   },
   {
    "duration": 0,
    "start_time": "2025-03-23T05:34:35.654Z"
   },
   {
    "duration": 0,
    "start_time": "2025-03-23T05:34:35.655Z"
   },
   {
    "duration": 0,
    "start_time": "2025-03-23T05:34:35.656Z"
   },
   {
    "duration": 0,
    "start_time": "2025-03-23T05:34:35.657Z"
   },
   {
    "duration": 0,
    "start_time": "2025-03-23T05:34:35.667Z"
   },
   {
    "duration": 94,
    "start_time": "2025-03-23T05:37:08.085Z"
   },
   {
    "duration": 109,
    "start_time": "2025-03-23T05:37:26.999Z"
   },
   {
    "duration": 6532,
    "start_time": "2025-03-23T05:37:55.346Z"
   },
   {
    "duration": 6666,
    "start_time": "2025-03-23T05:38:05.801Z"
   },
   {
    "duration": 11423,
    "start_time": "2025-03-23T05:46:53.518Z"
   },
   {
    "duration": 11721,
    "start_time": "2025-03-23T05:48:37.215Z"
   },
   {
    "duration": 11264,
    "start_time": "2025-03-23T05:49:08.168Z"
   },
   {
    "duration": 4,
    "start_time": "2025-03-23T05:49:42.449Z"
   },
   {
    "duration": 6325,
    "start_time": "2025-03-23T05:54:34.073Z"
   },
   {
    "duration": 932,
    "start_time": "2025-03-23T05:54:40.400Z"
   },
   {
    "duration": 4,
    "start_time": "2025-03-23T05:54:41.333Z"
   },
   {
    "duration": 248,
    "start_time": "2025-03-23T05:54:41.338Z"
   },
   {
    "duration": 1321,
    "start_time": "2025-03-23T05:54:41.587Z"
   },
   {
    "duration": 1033,
    "start_time": "2025-03-23T05:54:42.909Z"
   },
   {
    "duration": 3,
    "start_time": "2025-03-23T05:54:43.944Z"
   },
   {
    "duration": 18,
    "start_time": "2025-03-23T05:54:43.949Z"
   },
   {
    "duration": 5,
    "start_time": "2025-03-23T05:54:43.969Z"
   },
   {
    "duration": 24,
    "start_time": "2025-03-23T05:54:43.976Z"
   },
   {
    "duration": 108,
    "start_time": "2025-03-23T05:54:44.001Z"
   },
   {
    "duration": 303,
    "start_time": "2025-03-23T05:54:44.111Z"
   },
   {
    "duration": 2,
    "start_time": "2025-03-23T05:54:44.415Z"
   },
   {
    "duration": 273,
    "start_time": "2025-03-23T05:54:44.419Z"
   },
   {
    "duration": 584,
    "start_time": "2025-03-23T05:54:44.694Z"
   },
   {
    "duration": 4,
    "start_time": "2025-03-23T05:54:45.279Z"
   },
   {
    "duration": 33,
    "start_time": "2025-03-23T05:54:45.284Z"
   },
   {
    "duration": 29,
    "start_time": "2025-03-23T05:54:45.319Z"
   },
   {
    "duration": 17,
    "start_time": "2025-03-23T05:54:45.349Z"
   },
   {
    "duration": 223,
    "start_time": "2025-03-23T05:54:45.368Z"
   },
   {
    "duration": 1378,
    "start_time": "2025-03-23T05:54:45.592Z"
   },
   {
    "duration": 19,
    "start_time": "2025-03-23T05:54:46.971Z"
   },
   {
    "duration": 25,
    "start_time": "2025-03-23T05:54:46.991Z"
   },
   {
    "duration": 16,
    "start_time": "2025-03-23T05:54:47.018Z"
   },
   {
    "duration": 237,
    "start_time": "2025-03-23T05:54:47.035Z"
   },
   {
    "duration": 1389,
    "start_time": "2025-03-23T05:54:47.273Z"
   },
   {
    "duration": 6,
    "start_time": "2025-03-23T05:54:48.667Z"
   },
   {
    "duration": 27,
    "start_time": "2025-03-23T05:54:48.678Z"
   },
   {
    "duration": 17,
    "start_time": "2025-03-23T05:54:48.707Z"
   },
   {
    "duration": 57,
    "start_time": "2025-03-23T05:54:48.726Z"
   },
   {
    "duration": 15,
    "start_time": "2025-03-23T05:54:48.785Z"
   },
   {
    "duration": 11,
    "start_time": "2025-03-23T05:54:48.802Z"
   },
   {
    "duration": 8,
    "start_time": "2025-03-23T05:54:48.814Z"
   },
   {
    "duration": 2201,
    "start_time": "2025-03-23T05:54:48.823Z"
   },
   {
    "duration": 14502,
    "start_time": "2025-03-23T05:54:51.026Z"
   },
   {
    "duration": 56,
    "start_time": "2025-03-23T05:55:05.529Z"
   },
   {
    "duration": 32,
    "start_time": "2025-03-23T05:55:05.586Z"
   },
   {
    "duration": 32,
    "start_time": "2025-03-23T05:55:05.620Z"
   },
   {
    "duration": 40,
    "start_time": "2025-03-23T05:55:05.654Z"
   },
   {
    "duration": 7,
    "start_time": "2025-03-23T05:55:05.695Z"
   },
   {
    "duration": 6,
    "start_time": "2025-03-23T05:55:05.703Z"
   },
   {
    "duration": 47,
    "start_time": "2025-03-23T05:55:05.711Z"
   },
   {
    "duration": 46,
    "start_time": "2025-03-23T05:55:05.760Z"
   },
   {
    "duration": 20,
    "start_time": "2025-03-23T05:55:05.808Z"
   },
   {
    "duration": 18,
    "start_time": "2025-03-23T05:55:05.830Z"
   },
   {
    "duration": 558,
    "start_time": "2025-03-23T05:55:05.849Z"
   },
   {
    "duration": 585,
    "start_time": "2025-03-23T05:55:06.408Z"
   },
   {
    "duration": 597,
    "start_time": "2025-03-23T05:55:06.995Z"
   },
   {
    "duration": 742,
    "start_time": "2025-03-23T05:55:07.594Z"
   },
   {
    "duration": 121,
    "start_time": "2025-03-23T05:55:08.338Z"
   },
   {
    "duration": 0,
    "start_time": "2025-03-23T05:55:08.461Z"
   },
   {
    "duration": 0,
    "start_time": "2025-03-23T05:55:08.463Z"
   },
   {
    "duration": 0,
    "start_time": "2025-03-23T05:55:08.467Z"
   },
   {
    "duration": 0,
    "start_time": "2025-03-23T05:55:08.469Z"
   },
   {
    "duration": 0,
    "start_time": "2025-03-23T05:55:08.470Z"
   },
   {
    "duration": 17,
    "start_time": "2025-03-23T05:55:26.632Z"
   },
   {
    "duration": 98,
    "start_time": "2025-03-23T05:55:45.930Z"
   },
   {
    "duration": 4,
    "start_time": "2025-03-23T05:55:49.704Z"
   },
   {
    "duration": 5697,
    "start_time": "2025-03-23T05:56:47.422Z"
   },
   {
    "duration": 866,
    "start_time": "2025-03-23T05:56:53.122Z"
   },
   {
    "duration": 4,
    "start_time": "2025-03-23T05:56:53.989Z"
   },
   {
    "duration": 227,
    "start_time": "2025-03-23T05:56:53.994Z"
   },
   {
    "duration": 1260,
    "start_time": "2025-03-23T05:56:54.224Z"
   },
   {
    "duration": 1036,
    "start_time": "2025-03-23T05:56:55.486Z"
   },
   {
    "duration": 4,
    "start_time": "2025-03-23T05:56:56.523Z"
   },
   {
    "duration": 5,
    "start_time": "2025-03-23T05:56:56.529Z"
   },
   {
    "duration": 5,
    "start_time": "2025-03-23T05:56:56.536Z"
   },
   {
    "duration": 45,
    "start_time": "2025-03-23T05:56:56.543Z"
   },
   {
    "duration": 102,
    "start_time": "2025-03-23T05:56:56.590Z"
   },
   {
    "duration": 295,
    "start_time": "2025-03-23T05:56:56.694Z"
   },
   {
    "duration": 2,
    "start_time": "2025-03-23T05:56:56.990Z"
   },
   {
    "duration": 273,
    "start_time": "2025-03-23T05:56:56.995Z"
   },
   {
    "duration": 539,
    "start_time": "2025-03-23T05:56:57.270Z"
   },
   {
    "duration": 4,
    "start_time": "2025-03-23T05:56:57.810Z"
   },
   {
    "duration": 12,
    "start_time": "2025-03-23T05:56:57.816Z"
   },
   {
    "duration": 15,
    "start_time": "2025-03-23T05:56:57.829Z"
   },
   {
    "duration": 29,
    "start_time": "2025-03-23T05:56:57.846Z"
   },
   {
    "duration": 216,
    "start_time": "2025-03-23T05:56:57.877Z"
   },
   {
    "duration": 1316,
    "start_time": "2025-03-23T05:56:58.095Z"
   },
   {
    "duration": 19,
    "start_time": "2025-03-23T05:56:59.412Z"
   },
   {
    "duration": 40,
    "start_time": "2025-03-23T05:56:59.432Z"
   },
   {
    "duration": 16,
    "start_time": "2025-03-23T05:56:59.474Z"
   },
   {
    "duration": 195,
    "start_time": "2025-03-23T05:56:59.491Z"
   },
   {
    "duration": 2067,
    "start_time": "2025-03-23T05:56:59.687Z"
   },
   {
    "duration": 13,
    "start_time": "2025-03-23T05:57:01.756Z"
   },
   {
    "duration": 26,
    "start_time": "2025-03-23T05:57:01.770Z"
   },
   {
    "duration": 16,
    "start_time": "2025-03-23T05:57:01.798Z"
   },
   {
    "duration": 22,
    "start_time": "2025-03-23T05:57:01.816Z"
   },
   {
    "duration": 33,
    "start_time": "2025-03-23T05:57:01.840Z"
   },
   {
    "duration": 3,
    "start_time": "2025-03-23T05:57:01.875Z"
   },
   {
    "duration": 5,
    "start_time": "2025-03-23T05:57:01.880Z"
   },
   {
    "duration": 9,
    "start_time": "2025-03-23T05:57:01.886Z"
   },
   {
    "duration": 2196,
    "start_time": "2025-03-23T05:57:01.896Z"
   },
   {
    "duration": 14050,
    "start_time": "2025-03-23T05:57:04.094Z"
   },
   {
    "duration": 46,
    "start_time": "2025-03-23T05:57:18.146Z"
   },
   {
    "duration": 30,
    "start_time": "2025-03-23T05:57:18.194Z"
   },
   {
    "duration": 17,
    "start_time": "2025-03-23T05:57:18.225Z"
   },
   {
    "duration": 39,
    "start_time": "2025-03-23T05:57:18.243Z"
   },
   {
    "duration": 5,
    "start_time": "2025-03-23T05:57:18.286Z"
   },
   {
    "duration": 36,
    "start_time": "2025-03-23T05:57:18.292Z"
   },
   {
    "duration": 19,
    "start_time": "2025-03-23T05:57:18.329Z"
   },
   {
    "duration": 24,
    "start_time": "2025-03-23T05:57:18.349Z"
   },
   {
    "duration": 18,
    "start_time": "2025-03-23T05:57:18.374Z"
   },
   {
    "duration": 16,
    "start_time": "2025-03-23T05:57:18.393Z"
   },
   {
    "duration": 559,
    "start_time": "2025-03-23T05:57:18.411Z"
   },
   {
    "duration": 618,
    "start_time": "2025-03-23T05:57:18.972Z"
   },
   {
    "duration": 602,
    "start_time": "2025-03-23T05:57:19.592Z"
   },
   {
    "duration": 831,
    "start_time": "2025-03-23T05:57:20.196Z"
   },
   {
    "duration": 18,
    "start_time": "2025-03-23T05:57:21.029Z"
   },
   {
    "duration": 109,
    "start_time": "2025-03-23T05:57:21.049Z"
   },
   {
    "duration": 5,
    "start_time": "2025-03-23T05:57:21.168Z"
   },
   {
    "duration": 6439,
    "start_time": "2025-03-23T05:57:21.174Z"
   },
   {
    "duration": 6452,
    "start_time": "2025-03-23T05:57:27.615Z"
   },
   {
    "duration": 10552,
    "start_time": "2025-03-23T05:57:34.069Z"
   },
   {
    "duration": 5841,
    "start_time": "2025-03-23T05:59:06.781Z"
   },
   {
    "duration": 907,
    "start_time": "2025-03-23T05:59:12.624Z"
   },
   {
    "duration": 3,
    "start_time": "2025-03-23T05:59:13.533Z"
   },
   {
    "duration": 237,
    "start_time": "2025-03-23T05:59:13.538Z"
   },
   {
    "duration": 1300,
    "start_time": "2025-03-23T05:59:13.776Z"
   },
   {
    "duration": 1057,
    "start_time": "2025-03-23T05:59:15.077Z"
   },
   {
    "duration": 4,
    "start_time": "2025-03-23T05:59:16.135Z"
   },
   {
    "duration": 5,
    "start_time": "2025-03-23T05:59:16.141Z"
   },
   {
    "duration": 22,
    "start_time": "2025-03-23T05:59:16.147Z"
   },
   {
    "duration": 26,
    "start_time": "2025-03-23T05:59:16.171Z"
   },
   {
    "duration": 105,
    "start_time": "2025-03-23T05:59:16.198Z"
   },
   {
    "duration": 308,
    "start_time": "2025-03-23T05:59:16.304Z"
   },
   {
    "duration": 2,
    "start_time": "2025-03-23T05:59:16.614Z"
   },
   {
    "duration": 278,
    "start_time": "2025-03-23T05:59:16.617Z"
   },
   {
    "duration": 549,
    "start_time": "2025-03-23T05:59:16.896Z"
   },
   {
    "duration": 3,
    "start_time": "2025-03-23T05:59:17.447Z"
   },
   {
    "duration": 21,
    "start_time": "2025-03-23T05:59:17.452Z"
   },
   {
    "duration": 19,
    "start_time": "2025-03-23T05:59:17.474Z"
   },
   {
    "duration": 8,
    "start_time": "2025-03-23T05:59:17.495Z"
   },
   {
    "duration": 208,
    "start_time": "2025-03-23T05:59:17.504Z"
   },
   {
    "duration": 1675,
    "start_time": "2025-03-23T05:59:17.714Z"
   },
   {
    "duration": 19,
    "start_time": "2025-03-23T05:59:19.391Z"
   },
   {
    "duration": 25,
    "start_time": "2025-03-23T05:59:19.468Z"
   },
   {
    "duration": 4,
    "start_time": "2025-03-23T05:59:19.494Z"
   },
   {
    "duration": 69,
    "start_time": "2025-03-23T05:59:19.499Z"
   },
   {
    "duration": 340,
    "start_time": "2025-03-23T05:59:19.570Z"
   },
   {
    "duration": 1365,
    "start_time": "2025-03-23T05:59:19.911Z"
   },
   {
    "duration": 5,
    "start_time": "2025-03-23T05:59:21.279Z"
   },
   {
    "duration": 26,
    "start_time": "2025-03-23T05:59:21.285Z"
   },
   {
    "duration": 3,
    "start_time": "2025-03-23T05:59:21.313Z"
   },
   {
    "duration": 15,
    "start_time": "2025-03-23T05:59:21.318Z"
   },
   {
    "duration": 58,
    "start_time": "2025-03-23T05:59:21.334Z"
   },
   {
    "duration": 3,
    "start_time": "2025-03-23T05:59:21.394Z"
   },
   {
    "duration": 16,
    "start_time": "2025-03-23T05:59:21.399Z"
   },
   {
    "duration": 5,
    "start_time": "2025-03-23T05:59:21.416Z"
   },
   {
    "duration": 3,
    "start_time": "2025-03-23T05:59:21.423Z"
   },
   {
    "duration": 2,
    "start_time": "2025-03-23T05:59:21.428Z"
   },
   {
    "duration": 2190,
    "start_time": "2025-03-23T05:59:21.432Z"
   },
   {
    "duration": 14544,
    "start_time": "2025-03-23T05:59:23.624Z"
   },
   {
    "duration": 33,
    "start_time": "2025-03-23T05:59:38.169Z"
   },
   {
    "duration": 32,
    "start_time": "2025-03-23T05:59:38.204Z"
   },
   {
    "duration": 17,
    "start_time": "2025-03-23T05:59:38.267Z"
   },
   {
    "duration": 20,
    "start_time": "2025-03-23T05:59:38.286Z"
   },
   {
    "duration": 58,
    "start_time": "2025-03-23T05:59:38.307Z"
   },
   {
    "duration": 6,
    "start_time": "2025-03-23T05:59:38.366Z"
   },
   {
    "duration": 27,
    "start_time": "2025-03-23T05:59:38.373Z"
   },
   {
    "duration": 25,
    "start_time": "2025-03-23T05:59:38.401Z"
   },
   {
    "duration": 24,
    "start_time": "2025-03-23T05:59:38.427Z"
   },
   {
    "duration": 26,
    "start_time": "2025-03-23T05:59:38.452Z"
   },
   {
    "duration": 593,
    "start_time": "2025-03-23T05:59:38.479Z"
   },
   {
    "duration": 596,
    "start_time": "2025-03-23T05:59:39.073Z"
   },
   {
    "duration": 610,
    "start_time": "2025-03-23T05:59:39.670Z"
   },
   {
    "duration": 772,
    "start_time": "2025-03-23T05:59:40.282Z"
   },
   {
    "duration": 16,
    "start_time": "2025-03-23T05:59:41.056Z"
   },
   {
    "duration": 109,
    "start_time": "2025-03-23T05:59:41.074Z"
   },
   {
    "duration": 4,
    "start_time": "2025-03-23T05:59:41.185Z"
   },
   {
    "duration": 6414,
    "start_time": "2025-03-23T05:59:41.190Z"
   },
   {
    "duration": 6472,
    "start_time": "2025-03-23T05:59:47.606Z"
   },
   {
    "duration": 10707,
    "start_time": "2025-03-23T05:59:54.079Z"
   },
   {
    "duration": 10785,
    "start_time": "2025-03-23T08:59:41.886Z"
   },
   {
    "duration": 602,
    "start_time": "2025-03-23T09:02:34.357Z"
   },
   {
    "duration": 3,
    "start_time": "2025-03-23T09:06:15.196Z"
   },
   {
    "duration": 214,
    "start_time": "2025-03-23T09:08:21.775Z"
   },
   {
    "duration": 17,
    "start_time": "2025-03-23T09:09:17.579Z"
   },
   {
    "duration": 86,
    "start_time": "2025-03-23T09:09:43.306Z"
   },
   {
    "duration": 938,
    "start_time": "2025-03-23T09:10:03.850Z"
   },
   {
    "duration": 56,
    "start_time": "2025-03-23T09:17:24.463Z"
   },
   {
    "duration": 57,
    "start_time": "2025-03-23T09:17:33.503Z"
   },
   {
    "duration": 9956,
    "start_time": "2025-03-23T09:17:56.814Z"
   },
   {
    "duration": 5,
    "start_time": "2025-03-23T11:26:14.297Z"
   },
   {
    "duration": 4,
    "start_time": "2025-03-23T11:27:29.139Z"
   },
   {
    "duration": 18,
    "start_time": "2025-03-23T11:33:27.274Z"
   },
   {
    "duration": 13,
    "start_time": "2025-03-23T11:34:46.184Z"
   },
   {
    "duration": 5877,
    "start_time": "2025-03-23T11:35:05.860Z"
   },
   {
    "duration": 943,
    "start_time": "2025-03-23T11:35:11.739Z"
   },
   {
    "duration": 4,
    "start_time": "2025-03-23T11:35:12.683Z"
   },
   {
    "duration": 233,
    "start_time": "2025-03-23T11:35:12.689Z"
   },
   {
    "duration": 1428,
    "start_time": "2025-03-23T11:35:12.924Z"
   },
   {
    "duration": 1120,
    "start_time": "2025-03-23T11:35:14.354Z"
   },
   {
    "duration": 5,
    "start_time": "2025-03-23T11:35:15.480Z"
   },
   {
    "duration": 17,
    "start_time": "2025-03-23T11:35:15.487Z"
   },
   {
    "duration": 12,
    "start_time": "2025-03-23T11:35:15.506Z"
   },
   {
    "duration": 25,
    "start_time": "2025-03-23T11:35:15.520Z"
   },
   {
    "duration": 104,
    "start_time": "2025-03-23T11:35:15.547Z"
   },
   {
    "duration": 331,
    "start_time": "2025-03-23T11:35:15.652Z"
   },
   {
    "duration": 2,
    "start_time": "2025-03-23T11:35:15.985Z"
   },
   {
    "duration": 275,
    "start_time": "2025-03-23T11:35:15.988Z"
   },
   {
    "duration": 559,
    "start_time": "2025-03-23T11:35:16.267Z"
   },
   {
    "duration": 4,
    "start_time": "2025-03-23T11:35:16.827Z"
   },
   {
    "duration": 12,
    "start_time": "2025-03-23T11:35:16.833Z"
   },
   {
    "duration": 41,
    "start_time": "2025-03-23T11:35:16.846Z"
   },
   {
    "duration": 9,
    "start_time": "2025-03-23T11:35:16.888Z"
   },
   {
    "duration": 209,
    "start_time": "2025-03-23T11:35:16.898Z"
   },
   {
    "duration": 1334,
    "start_time": "2025-03-23T11:35:17.109Z"
   },
   {
    "duration": 36,
    "start_time": "2025-03-23T11:35:18.444Z"
   },
   {
    "duration": 24,
    "start_time": "2025-03-23T11:35:18.482Z"
   },
   {
    "duration": 4,
    "start_time": "2025-03-23T11:35:18.508Z"
   },
   {
    "duration": 17,
    "start_time": "2025-03-23T11:35:18.513Z"
   },
   {
    "duration": 210,
    "start_time": "2025-03-23T11:35:18.531Z"
   },
   {
    "duration": 1388,
    "start_time": "2025-03-23T11:35:18.743Z"
   },
   {
    "duration": 5,
    "start_time": "2025-03-23T11:35:20.134Z"
   },
   {
    "duration": 41,
    "start_time": "2025-03-23T11:35:20.140Z"
   },
   {
    "duration": 3,
    "start_time": "2025-03-23T11:35:20.183Z"
   },
   {
    "duration": 19,
    "start_time": "2025-03-23T11:35:20.188Z"
   },
   {
    "duration": 23,
    "start_time": "2025-03-23T11:35:20.208Z"
   },
   {
    "duration": 5,
    "start_time": "2025-03-23T11:35:20.232Z"
   },
   {
    "duration": 44,
    "start_time": "2025-03-23T11:35:20.238Z"
   },
   {
    "duration": 4,
    "start_time": "2025-03-23T11:35:20.283Z"
   },
   {
    "duration": 13,
    "start_time": "2025-03-23T11:35:20.289Z"
   },
   {
    "duration": 3,
    "start_time": "2025-03-23T11:35:20.304Z"
   },
   {
    "duration": 2306,
    "start_time": "2025-03-23T11:35:20.309Z"
   },
   {
    "duration": 14796,
    "start_time": "2025-03-23T11:35:22.617Z"
   },
   {
    "duration": 65,
    "start_time": "2025-03-23T11:35:37.415Z"
   },
   {
    "duration": 30,
    "start_time": "2025-03-23T11:35:37.483Z"
   },
   {
    "duration": 19,
    "start_time": "2025-03-23T11:35:37.514Z"
   },
   {
    "duration": 22,
    "start_time": "2025-03-23T11:35:37.534Z"
   },
   {
    "duration": 24,
    "start_time": "2025-03-23T11:35:37.557Z"
   },
   {
    "duration": 6,
    "start_time": "2025-03-23T11:35:37.582Z"
   },
   {
    "duration": 41,
    "start_time": "2025-03-23T11:35:37.589Z"
   },
   {
    "duration": 26,
    "start_time": "2025-03-23T11:35:37.631Z"
   },
   {
    "duration": 27,
    "start_time": "2025-03-23T11:35:37.659Z"
   },
   {
    "duration": 18,
    "start_time": "2025-03-23T11:35:37.688Z"
   },
   {
    "duration": 610,
    "start_time": "2025-03-23T11:35:37.708Z"
   },
   {
    "duration": 701,
    "start_time": "2025-03-23T11:35:38.319Z"
   },
   {
    "duration": 658,
    "start_time": "2025-03-23T11:35:39.023Z"
   },
   {
    "duration": 799,
    "start_time": "2025-03-23T11:35:39.683Z"
   },
   {
    "duration": 4,
    "start_time": "2025-03-23T11:35:40.483Z"
   },
   {
    "duration": 5,
    "start_time": "2025-03-23T11:35:40.489Z"
   },
   {
    "duration": 27,
    "start_time": "2025-03-23T11:35:40.495Z"
   },
   {
    "duration": 3,
    "start_time": "2025-03-23T11:35:40.524Z"
   },
   {
    "duration": 85,
    "start_time": "2025-03-23T11:35:40.529Z"
   },
   {
    "duration": 233,
    "start_time": "2025-03-23T11:35:40.616Z"
   },
   {
    "duration": 0,
    "start_time": "2025-03-23T11:35:40.851Z"
   },
   {
    "duration": 0,
    "start_time": "2025-03-23T11:35:40.852Z"
   },
   {
    "duration": 0,
    "start_time": "2025-03-23T11:35:40.853Z"
   },
   {
    "duration": 0,
    "start_time": "2025-03-23T11:35:40.854Z"
   },
   {
    "duration": 11,
    "start_time": "2025-03-23T12:37:22.871Z"
   },
   {
    "duration": 4,
    "start_time": "2025-03-23T12:46:33.524Z"
   },
   {
    "duration": 5528,
    "start_time": "2025-03-23T12:46:40.673Z"
   },
   {
    "duration": 8553,
    "start_time": "2025-03-23T12:49:16.058Z"
   },
   {
    "duration": 10,
    "start_time": "2025-03-23T12:50:11.658Z"
   },
   {
    "duration": 138,
    "start_time": "2025-03-23T13:00:17.647Z"
   },
   {
    "duration": 10,
    "start_time": "2025-03-23T13:00:48.133Z"
   },
   {
    "duration": 129,
    "start_time": "2025-03-23T13:00:51.219Z"
   },
   {
    "duration": 121,
    "start_time": "2025-03-23T13:01:43.035Z"
   },
   {
    "duration": 5796,
    "start_time": "2025-03-23T13:02:11.549Z"
   },
   {
    "duration": 875,
    "start_time": "2025-03-23T13:02:17.347Z"
   },
   {
    "duration": 3,
    "start_time": "2025-03-23T13:02:18.224Z"
   },
   {
    "duration": 228,
    "start_time": "2025-03-23T13:02:18.228Z"
   },
   {
    "duration": 1326,
    "start_time": "2025-03-23T13:02:18.458Z"
   },
   {
    "duration": 1043,
    "start_time": "2025-03-23T13:02:19.786Z"
   },
   {
    "duration": 4,
    "start_time": "2025-03-23T13:02:20.830Z"
   },
   {
    "duration": 8,
    "start_time": "2025-03-23T13:02:20.836Z"
   },
   {
    "duration": 21,
    "start_time": "2025-03-23T13:02:20.846Z"
   },
   {
    "duration": 61,
    "start_time": "2025-03-23T13:02:20.869Z"
   },
   {
    "duration": 107,
    "start_time": "2025-03-23T13:02:20.932Z"
   },
   {
    "duration": 304,
    "start_time": "2025-03-23T13:02:21.041Z"
   },
   {
    "duration": 2,
    "start_time": "2025-03-23T13:02:21.347Z"
   },
   {
    "duration": 286,
    "start_time": "2025-03-23T13:02:21.352Z"
   },
   {
    "duration": 577,
    "start_time": "2025-03-23T13:02:21.640Z"
   },
   {
    "duration": 5,
    "start_time": "2025-03-23T13:02:22.219Z"
   },
   {
    "duration": 15,
    "start_time": "2025-03-23T13:02:22.226Z"
   },
   {
    "duration": 35,
    "start_time": "2025-03-23T13:02:22.243Z"
   },
   {
    "duration": 9,
    "start_time": "2025-03-23T13:02:22.280Z"
   },
   {
    "duration": 215,
    "start_time": "2025-03-23T13:02:22.291Z"
   },
   {
    "duration": 1299,
    "start_time": "2025-03-23T13:02:22.508Z"
   },
   {
    "duration": 19,
    "start_time": "2025-03-23T13:02:23.809Z"
   },
   {
    "duration": 38,
    "start_time": "2025-03-23T13:02:23.829Z"
   },
   {
    "duration": 3,
    "start_time": "2025-03-23T13:02:23.869Z"
   },
   {
    "duration": 17,
    "start_time": "2025-03-23T13:02:23.873Z"
   },
   {
    "duration": 210,
    "start_time": "2025-03-23T13:02:23.891Z"
   },
   {
    "duration": 1312,
    "start_time": "2025-03-23T13:02:24.102Z"
   },
   {
    "duration": 5,
    "start_time": "2025-03-23T13:02:25.416Z"
   },
   {
    "duration": 45,
    "start_time": "2025-03-23T13:02:25.422Z"
   },
   {
    "duration": 4,
    "start_time": "2025-03-23T13:02:25.469Z"
   },
   {
    "duration": 16,
    "start_time": "2025-03-23T13:02:25.474Z"
   },
   {
    "duration": 40,
    "start_time": "2025-03-23T13:02:25.491Z"
   },
   {
    "duration": 4,
    "start_time": "2025-03-23T13:02:25.532Z"
   },
   {
    "duration": 29,
    "start_time": "2025-03-23T13:02:25.538Z"
   },
   {
    "duration": 3,
    "start_time": "2025-03-23T13:02:25.569Z"
   },
   {
    "duration": 17,
    "start_time": "2025-03-23T13:02:25.574Z"
   },
   {
    "duration": 19,
    "start_time": "2025-03-23T13:02:25.593Z"
   },
   {
    "duration": 2175,
    "start_time": "2025-03-23T13:02:25.613Z"
   },
   {
    "duration": 14280,
    "start_time": "2025-03-23T13:02:27.790Z"
   },
   {
    "duration": 35,
    "start_time": "2025-03-23T13:02:42.071Z"
   },
   {
    "duration": 72,
    "start_time": "2025-03-23T13:02:42.111Z"
   },
   {
    "duration": 20,
    "start_time": "2025-03-23T13:02:42.184Z"
   },
   {
    "duration": 32,
    "start_time": "2025-03-23T13:02:42.206Z"
   },
   {
    "duration": 27,
    "start_time": "2025-03-23T13:02:42.240Z"
   },
   {
    "duration": 6,
    "start_time": "2025-03-23T13:02:42.269Z"
   },
   {
    "duration": 18,
    "start_time": "2025-03-23T13:02:42.276Z"
   },
   {
    "duration": 25,
    "start_time": "2025-03-23T13:02:42.295Z"
   },
   {
    "duration": 21,
    "start_time": "2025-03-23T13:02:42.322Z"
   },
   {
    "duration": 17,
    "start_time": "2025-03-23T13:02:42.368Z"
   },
   {
    "duration": 556,
    "start_time": "2025-03-23T13:02:42.387Z"
   },
   {
    "duration": 571,
    "start_time": "2025-03-23T13:02:42.945Z"
   },
   {
    "duration": 615,
    "start_time": "2025-03-23T13:02:43.518Z"
   },
   {
    "duration": 765,
    "start_time": "2025-03-23T13:02:44.135Z"
   },
   {
    "duration": 4,
    "start_time": "2025-03-23T13:02:44.902Z"
   },
   {
    "duration": 15,
    "start_time": "2025-03-23T13:02:44.908Z"
   },
   {
    "duration": 28,
    "start_time": "2025-03-23T13:02:44.924Z"
   },
   {
    "duration": 18,
    "start_time": "2025-03-23T13:02:44.954Z"
   },
   {
    "duration": 5,
    "start_time": "2025-03-23T13:02:44.974Z"
   },
   {
    "duration": 60,
    "start_time": "2025-03-23T13:02:44.981Z"
   },
   {
    "duration": 3,
    "start_time": "2025-03-23T13:02:45.043Z"
   },
   {
    "duration": 5312,
    "start_time": "2025-03-23T13:02:45.068Z"
   },
   {
    "duration": 8319,
    "start_time": "2025-03-23T13:02:50.381Z"
   },
   {
    "duration": 10,
    "start_time": "2025-03-23T13:02:58.701Z"
   },
   {
    "duration": 12,
    "start_time": "2025-03-23T13:18:38.153Z"
   },
   {
    "duration": 5,
    "start_time": "2025-03-23T13:18:42.750Z"
   },
   {
    "duration": 15,
    "start_time": "2025-03-23T13:18:47.036Z"
   },
   {
    "duration": 110,
    "start_time": "2025-03-23T13:20:01.905Z"
   },
   {
    "duration": 5088,
    "start_time": "2025-03-23T13:20:24.252Z"
   },
   {
    "duration": 68,
    "start_time": "2025-03-23T13:20:33.573Z"
   },
   {
    "duration": 18,
    "start_time": "2025-03-23T13:20:40.610Z"
   },
   {
    "duration": 16,
    "start_time": "2025-03-23T13:20:49.481Z"
   },
   {
    "duration": 4,
    "start_time": "2025-03-23T13:22:08.731Z"
   },
   {
    "duration": 5,
    "start_time": "2025-03-23T13:22:33.188Z"
   },
   {
    "duration": 3,
    "start_time": "2025-03-23T13:29:06.795Z"
   },
   {
    "duration": 11449,
    "start_time": "2025-03-23T13:31:18.506Z"
   },
   {
    "duration": 5,
    "start_time": "2025-03-23T13:31:55.292Z"
   },
   {
    "duration": 8867,
    "start_time": "2025-03-23T13:32:01.375Z"
   },
   {
    "duration": 909,
    "start_time": "2025-03-23T13:32:10.245Z"
   },
   {
    "duration": 4,
    "start_time": "2025-03-23T13:32:11.155Z"
   },
   {
    "duration": 239,
    "start_time": "2025-03-23T13:32:11.166Z"
   },
   {
    "duration": 1285,
    "start_time": "2025-03-23T13:32:11.407Z"
   },
   {
    "duration": 1031,
    "start_time": "2025-03-23T13:32:12.693Z"
   },
   {
    "duration": 4,
    "start_time": "2025-03-23T13:32:13.725Z"
   },
   {
    "duration": 13,
    "start_time": "2025-03-23T13:32:13.730Z"
   },
   {
    "duration": 7,
    "start_time": "2025-03-23T13:32:13.744Z"
   },
   {
    "duration": 34,
    "start_time": "2025-03-23T13:32:13.754Z"
   },
   {
    "duration": 109,
    "start_time": "2025-03-23T13:32:13.789Z"
   },
   {
    "duration": 304,
    "start_time": "2025-03-23T13:32:13.900Z"
   },
   {
    "duration": 2,
    "start_time": "2025-03-23T13:32:14.205Z"
   },
   {
    "duration": 272,
    "start_time": "2025-03-23T13:32:14.209Z"
   },
   {
    "duration": 522,
    "start_time": "2025-03-23T13:32:14.482Z"
   },
   {
    "duration": 4,
    "start_time": "2025-03-23T13:32:15.006Z"
   },
   {
    "duration": 58,
    "start_time": "2025-03-23T13:32:15.011Z"
   },
   {
    "duration": 32,
    "start_time": "2025-03-23T13:32:15.070Z"
   },
   {
    "duration": 9,
    "start_time": "2025-03-23T13:32:15.104Z"
   },
   {
    "duration": 207,
    "start_time": "2025-03-23T13:32:15.114Z"
   },
   {
    "duration": 1255,
    "start_time": "2025-03-23T13:32:15.322Z"
   },
   {
    "duration": 18,
    "start_time": "2025-03-23T13:32:16.579Z"
   },
   {
    "duration": 24,
    "start_time": "2025-03-23T13:32:16.598Z"
   },
   {
    "duration": 4,
    "start_time": "2025-03-23T13:32:16.624Z"
   },
   {
    "duration": 43,
    "start_time": "2025-03-23T13:32:16.629Z"
   },
   {
    "duration": 196,
    "start_time": "2025-03-23T13:32:16.674Z"
   },
   {
    "duration": 1309,
    "start_time": "2025-03-23T13:32:16.873Z"
   },
   {
    "duration": 5,
    "start_time": "2025-03-23T13:32:18.186Z"
   },
   {
    "duration": 24,
    "start_time": "2025-03-23T13:32:18.192Z"
   },
   {
    "duration": 4,
    "start_time": "2025-03-23T13:32:18.217Z"
   },
   {
    "duration": 19,
    "start_time": "2025-03-23T13:32:18.222Z"
   },
   {
    "duration": 48,
    "start_time": "2025-03-23T13:32:18.242Z"
   },
   {
    "duration": 3,
    "start_time": "2025-03-23T13:32:18.291Z"
   },
   {
    "duration": 34,
    "start_time": "2025-03-23T13:32:18.296Z"
   },
   {
    "duration": 3,
    "start_time": "2025-03-23T13:32:18.331Z"
   },
   {
    "duration": 8,
    "start_time": "2025-03-23T13:32:18.335Z"
   },
   {
    "duration": 8,
    "start_time": "2025-03-23T13:32:18.344Z"
   },
   {
    "duration": 2155,
    "start_time": "2025-03-23T13:32:18.353Z"
   },
   {
    "duration": 14294,
    "start_time": "2025-03-23T13:32:20.509Z"
   },
   {
    "duration": 39,
    "start_time": "2025-03-23T13:32:34.804Z"
   },
   {
    "duration": 31,
    "start_time": "2025-03-23T13:32:34.868Z"
   },
   {
    "duration": 19,
    "start_time": "2025-03-23T13:32:34.900Z"
   },
   {
    "duration": 21,
    "start_time": "2025-03-23T13:32:34.920Z"
   },
   {
    "duration": 25,
    "start_time": "2025-03-23T13:32:34.943Z"
   },
   {
    "duration": 6,
    "start_time": "2025-03-23T13:32:34.969Z"
   },
   {
    "duration": 19,
    "start_time": "2025-03-23T13:32:34.976Z"
   },
   {
    "duration": 25,
    "start_time": "2025-03-23T13:32:34.997Z"
   },
   {
    "duration": 45,
    "start_time": "2025-03-23T13:32:35.023Z"
   },
   {
    "duration": 17,
    "start_time": "2025-03-23T13:32:35.070Z"
   },
   {
    "duration": 579,
    "start_time": "2025-03-23T13:32:35.088Z"
   },
   {
    "duration": 588,
    "start_time": "2025-03-23T13:32:35.669Z"
   },
   {
    "duration": 849,
    "start_time": "2025-03-23T13:32:36.267Z"
   },
   {
    "duration": 527,
    "start_time": "2025-03-23T13:32:37.117Z"
   },
   {
    "duration": 5,
    "start_time": "2025-03-23T13:32:37.646Z"
   },
   {
    "duration": 16,
    "start_time": "2025-03-23T13:32:37.653Z"
   },
   {
    "duration": 30,
    "start_time": "2025-03-23T13:32:37.671Z"
   },
   {
    "duration": 10,
    "start_time": "2025-03-23T13:32:37.703Z"
   },
   {
    "duration": 12,
    "start_time": "2025-03-23T13:32:37.715Z"
   },
   {
    "duration": 72,
    "start_time": "2025-03-23T13:32:37.728Z"
   },
   {
    "duration": 3,
    "start_time": "2025-03-23T13:32:37.802Z"
   },
   {
    "duration": 5512,
    "start_time": "2025-03-23T13:32:37.807Z"
   },
   {
    "duration": 8426,
    "start_time": "2025-03-23T13:32:43.321Z"
   },
   {
    "duration": 72,
    "start_time": "2025-03-23T13:32:51.748Z"
   },
   {
    "duration": 4,
    "start_time": "2025-03-23T13:32:51.822Z"
   },
   {
    "duration": 21,
    "start_time": "2025-03-23T13:32:51.827Z"
   },
   {
    "duration": 5,
    "start_time": "2025-03-23T13:32:51.850Z"
   },
   {
    "duration": 110,
    "start_time": "2025-03-23T14:14:45.823Z"
   },
   {
    "duration": 7723,
    "start_time": "2025-03-23T14:15:27.492Z"
   },
   {
    "duration": 15,
    "start_time": "2025-03-23T14:15:55.480Z"
   },
   {
    "duration": 7767,
    "start_time": "2025-03-23T14:16:42.608Z"
   },
   {
    "duration": 5,
    "start_time": "2025-03-23T14:16:56.874Z"
   },
   {
    "duration": 13,
    "start_time": "2025-03-23T14:18:37.888Z"
   },
   {
    "duration": 8054,
    "start_time": "2025-03-23T14:18:57.896Z"
   },
   {
    "duration": 4,
    "start_time": "2025-03-23T14:19:09.757Z"
   },
   {
    "duration": 16,
    "start_time": "2025-03-23T14:22:42.747Z"
   },
   {
    "duration": 7612,
    "start_time": "2025-03-23T14:22:49.149Z"
   },
   {
    "duration": 3,
    "start_time": "2025-03-23T14:23:01.423Z"
   },
   {
    "duration": 78,
    "start_time": "2025-03-23T14:27:53.817Z"
   },
   {
    "duration": 3,
    "start_time": "2025-03-23T14:28:49.629Z"
   },
   {
    "duration": 7674,
    "start_time": "2025-03-23T14:35:38.444Z"
   },
   {
    "duration": 22,
    "start_time": "2025-03-23T14:35:52.203Z"
   },
   {
    "duration": 45,
    "start_time": "2025-03-23T14:36:01.404Z"
   },
   {
    "duration": 3,
    "start_time": "2025-03-23T14:38:19.733Z"
   },
   {
    "duration": 0,
    "start_time": "2025-03-23T14:45:09.943Z"
   },
   {
    "duration": 50236,
    "start_time": "2025-03-23T14:45:17.131Z"
   },
   {
    "duration": 8938,
    "start_time": "2025-03-23T14:46:22.605Z"
   },
   {
    "duration": 972,
    "start_time": "2025-03-23T14:46:31.545Z"
   },
   {
    "duration": 3,
    "start_time": "2025-03-23T14:46:32.519Z"
   },
   {
    "duration": 265,
    "start_time": "2025-03-23T14:46:32.524Z"
   },
   {
    "duration": 1301,
    "start_time": "2025-03-23T14:46:32.791Z"
   },
   {
    "duration": 1068,
    "start_time": "2025-03-23T14:46:34.094Z"
   },
   {
    "duration": 4,
    "start_time": "2025-03-23T14:46:35.168Z"
   },
   {
    "duration": 16,
    "start_time": "2025-03-23T14:46:35.174Z"
   },
   {
    "duration": 16,
    "start_time": "2025-03-23T14:46:35.192Z"
   },
   {
    "duration": 38,
    "start_time": "2025-03-23T14:46:35.210Z"
   },
   {
    "duration": 96,
    "start_time": "2025-03-23T14:46:35.250Z"
   },
   {
    "duration": 308,
    "start_time": "2025-03-23T14:46:35.348Z"
   },
   {
    "duration": 3,
    "start_time": "2025-03-23T14:46:35.657Z"
   },
   {
    "duration": 303,
    "start_time": "2025-03-23T14:46:35.669Z"
   },
   {
    "duration": 543,
    "start_time": "2025-03-23T14:46:35.974Z"
   },
   {
    "duration": 5,
    "start_time": "2025-03-23T14:46:36.519Z"
   },
   {
    "duration": 13,
    "start_time": "2025-03-23T14:46:36.525Z"
   },
   {
    "duration": 38,
    "start_time": "2025-03-23T14:46:36.540Z"
   },
   {
    "duration": 10,
    "start_time": "2025-03-23T14:46:36.580Z"
   },
   {
    "duration": 245,
    "start_time": "2025-03-23T14:46:36.592Z"
   },
   {
    "duration": 1454,
    "start_time": "2025-03-23T14:46:36.839Z"
   },
   {
    "duration": 20,
    "start_time": "2025-03-23T14:46:38.295Z"
   },
   {
    "duration": 27,
    "start_time": "2025-03-23T14:46:38.317Z"
   },
   {
    "duration": 5,
    "start_time": "2025-03-23T14:46:38.366Z"
   },
   {
    "duration": 17,
    "start_time": "2025-03-23T14:46:38.372Z"
   },
   {
    "duration": 338,
    "start_time": "2025-03-23T14:46:38.391Z"
   },
   {
    "duration": 1369,
    "start_time": "2025-03-23T14:46:38.730Z"
   },
   {
    "duration": 5,
    "start_time": "2025-03-23T14:46:40.101Z"
   },
   {
    "duration": 34,
    "start_time": "2025-03-23T14:46:40.108Z"
   },
   {
    "duration": 4,
    "start_time": "2025-03-23T14:46:40.144Z"
   },
   {
    "duration": 33,
    "start_time": "2025-03-23T14:46:40.150Z"
   },
   {
    "duration": 30,
    "start_time": "2025-03-23T14:46:40.185Z"
   },
   {
    "duration": 5,
    "start_time": "2025-03-23T14:46:40.216Z"
   },
   {
    "duration": 17,
    "start_time": "2025-03-23T14:46:40.223Z"
   },
   {
    "duration": 28,
    "start_time": "2025-03-23T14:46:40.242Z"
   },
   {
    "duration": 6,
    "start_time": "2025-03-23T14:46:40.272Z"
   },
   {
    "duration": 9,
    "start_time": "2025-03-23T14:46:40.279Z"
   },
   {
    "duration": 2073,
    "start_time": "2025-03-23T14:46:40.290Z"
   },
   {
    "duration": 14785,
    "start_time": "2025-03-23T14:46:42.367Z"
   },
   {
    "duration": 48,
    "start_time": "2025-03-23T14:46:57.153Z"
   },
   {
    "duration": 31,
    "start_time": "2025-03-23T14:46:57.205Z"
   },
   {
    "duration": 18,
    "start_time": "2025-03-23T14:46:57.268Z"
   },
   {
    "duration": 21,
    "start_time": "2025-03-23T14:46:57.288Z"
   },
   {
    "duration": 7,
    "start_time": "2025-03-23T14:46:57.311Z"
   },
   {
    "duration": 7,
    "start_time": "2025-03-23T14:46:57.320Z"
   },
   {
    "duration": 21,
    "start_time": "2025-03-23T14:46:57.367Z"
   },
   {
    "duration": 27,
    "start_time": "2025-03-23T14:46:57.389Z"
   },
   {
    "duration": 22,
    "start_time": "2025-03-23T14:46:57.417Z"
   },
   {
    "duration": 42,
    "start_time": "2025-03-23T14:46:57.441Z"
   },
   {
    "duration": 568,
    "start_time": "2025-03-23T14:46:57.485Z"
   },
   {
    "duration": 597,
    "start_time": "2025-03-23T14:46:58.055Z"
   },
   {
    "duration": 883,
    "start_time": "2025-03-23T14:46:58.654Z"
   },
   {
    "duration": 556,
    "start_time": "2025-03-23T14:46:59.538Z"
   },
   {
    "duration": 4,
    "start_time": "2025-03-23T14:47:00.096Z"
   },
   {
    "duration": 36,
    "start_time": "2025-03-23T14:47:00.101Z"
   },
   {
    "duration": 74,
    "start_time": "2025-03-23T14:47:00.138Z"
   },
   {
    "duration": 10,
    "start_time": "2025-03-23T14:47:00.214Z"
   },
   {
    "duration": 6,
    "start_time": "2025-03-23T14:47:00.226Z"
   },
   {
    "duration": 92,
    "start_time": "2025-03-23T14:47:00.234Z"
   },
   {
    "duration": 4,
    "start_time": "2025-03-23T14:47:00.328Z"
   },
   {
    "duration": 5538,
    "start_time": "2025-03-23T14:47:00.333Z"
   },
   {
    "duration": 8615,
    "start_time": "2025-03-23T14:47:05.873Z"
   },
   {
    "duration": 61,
    "start_time": "2025-03-23T14:47:14.489Z"
   },
   {
    "duration": 17,
    "start_time": "2025-03-23T14:47:14.551Z"
   },
   {
    "duration": 3,
    "start_time": "2025-03-23T14:47:14.569Z"
   },
   {
    "duration": 6,
    "start_time": "2025-03-23T14:47:14.573Z"
   },
   {
    "duration": 7,
    "start_time": "2025-03-23T14:47:14.580Z"
   },
   {
    "duration": 3,
    "start_time": "2025-03-23T14:47:14.588Z"
   },
   {
    "duration": 4,
    "start_time": "2025-03-23T14:47:14.592Z"
   },
   {
    "duration": 87506,
    "start_time": "2025-03-23T14:47:14.597Z"
   },
   {
    "duration": 7916,
    "start_time": "2025-03-23T14:52:36.177Z"
   },
   {
    "duration": 119,
    "start_time": "2025-03-23T14:52:54.215Z"
   },
   {
    "duration": 8590,
    "start_time": "2025-03-23T14:53:46.211Z"
   },
   {
    "duration": 29,
    "start_time": "2025-03-23T14:54:04.165Z"
   },
   {
    "duration": 8522,
    "start_time": "2025-03-23T14:54:37.902Z"
   },
   {
    "duration": 15,
    "start_time": "2025-03-23T14:54:50.911Z"
   },
   {
    "duration": 6,
    "start_time": "2025-03-23T14:55:01.489Z"
   },
   {
    "duration": 3,
    "start_time": "2025-03-23T14:57:02.846Z"
   },
   {
    "duration": 3,
    "start_time": "2025-03-23T14:57:05.712Z"
   },
   {
    "duration": 18,
    "start_time": "2025-03-23T14:57:11.535Z"
   },
   {
    "duration": 3,
    "start_time": "2025-03-23T14:58:28.170Z"
   },
   {
    "duration": 85847,
    "start_time": "2025-03-23T14:58:30.995Z"
   },
   {
    "duration": 4,
    "start_time": "2025-03-23T15:02:26.854Z"
   },
   {
    "duration": 4,
    "start_time": "2025-03-23T15:26:25.266Z"
   },
   {
    "duration": 89239,
    "start_time": "2025-03-23T15:26:31.109Z"
   },
   {
    "duration": 84,
    "start_time": "2025-03-23T15:34:46.468Z"
   },
   {
    "duration": 6,
    "start_time": "2025-03-23T15:36:52.328Z"
   },
   {
    "duration": 32,
    "start_time": "2025-03-23T15:37:07.574Z"
   },
   {
    "duration": 32,
    "start_time": "2025-03-23T15:38:00.993Z"
   },
   {
    "duration": 31,
    "start_time": "2025-03-23T15:38:18.561Z"
   },
   {
    "duration": 13802,
    "start_time": "2025-03-24T04:26:56.627Z"
   },
   {
    "duration": 897,
    "start_time": "2025-03-24T04:27:10.431Z"
   },
   {
    "duration": 4,
    "start_time": "2025-03-24T04:27:11.329Z"
   },
   {
    "duration": 245,
    "start_time": "2025-03-24T04:27:11.335Z"
   },
   {
    "duration": 1326,
    "start_time": "2025-03-24T04:27:11.582Z"
   },
   {
    "duration": 1058,
    "start_time": "2025-03-24T04:27:12.910Z"
   },
   {
    "duration": 4,
    "start_time": "2025-03-24T04:27:13.970Z"
   },
   {
    "duration": 6,
    "start_time": "2025-03-24T04:27:13.976Z"
   },
   {
    "duration": 6,
    "start_time": "2025-03-24T04:27:13.984Z"
   },
   {
    "duration": 27,
    "start_time": "2025-03-24T04:27:13.993Z"
   },
   {
    "duration": 130,
    "start_time": "2025-03-24T04:27:14.021Z"
   },
   {
    "duration": 321,
    "start_time": "2025-03-24T04:27:14.153Z"
   },
   {
    "duration": 3,
    "start_time": "2025-03-24T04:27:14.475Z"
   },
   {
    "duration": 284,
    "start_time": "2025-03-24T04:27:14.480Z"
   },
   {
    "duration": 547,
    "start_time": "2025-03-24T04:27:14.768Z"
   },
   {
    "duration": 4,
    "start_time": "2025-03-24T04:27:15.317Z"
   },
   {
    "duration": 40,
    "start_time": "2025-03-24T04:27:15.323Z"
   },
   {
    "duration": 28,
    "start_time": "2025-03-24T04:27:15.365Z"
   },
   {
    "duration": 11,
    "start_time": "2025-03-24T04:27:15.395Z"
   },
   {
    "duration": 301,
    "start_time": "2025-03-24T04:27:15.407Z"
   },
   {
    "duration": 1359,
    "start_time": "2025-03-24T04:27:15.710Z"
   },
   {
    "duration": 21,
    "start_time": "2025-03-24T04:27:17.071Z"
   },
   {
    "duration": 27,
    "start_time": "2025-03-24T04:27:17.094Z"
   },
   {
    "duration": 5,
    "start_time": "2025-03-24T04:27:17.123Z"
   },
   {
    "duration": 46,
    "start_time": "2025-03-24T04:27:17.130Z"
   },
   {
    "duration": 200,
    "start_time": "2025-03-24T04:27:17.178Z"
   },
   {
    "duration": 1299,
    "start_time": "2025-03-24T04:27:17.379Z"
   },
   {
    "duration": 5,
    "start_time": "2025-03-24T04:27:18.683Z"
   },
   {
    "duration": 38,
    "start_time": "2025-03-24T04:27:18.690Z"
   },
   {
    "duration": 5,
    "start_time": "2025-03-24T04:27:18.729Z"
   },
   {
    "duration": 34,
    "start_time": "2025-03-24T04:27:18.735Z"
   },
   {
    "duration": 24,
    "start_time": "2025-03-24T04:27:18.771Z"
   },
   {
    "duration": 4,
    "start_time": "2025-03-24T04:27:18.797Z"
   },
   {
    "duration": 22,
    "start_time": "2025-03-24T04:27:18.803Z"
   },
   {
    "duration": 3,
    "start_time": "2025-03-24T04:27:18.826Z"
   },
   {
    "duration": 6,
    "start_time": "2025-03-24T04:27:18.831Z"
   },
   {
    "duration": 7,
    "start_time": "2025-03-24T04:27:18.838Z"
   },
   {
    "duration": 2251,
    "start_time": "2025-03-24T04:27:18.846Z"
   },
   {
    "duration": 14171,
    "start_time": "2025-03-24T04:27:21.099Z"
   },
   {
    "duration": 43,
    "start_time": "2025-03-24T04:27:35.272Z"
   },
   {
    "duration": 57,
    "start_time": "2025-03-24T04:27:35.316Z"
   },
   {
    "duration": 27,
    "start_time": "2025-03-24T04:27:35.374Z"
   },
   {
    "duration": 21,
    "start_time": "2025-03-24T04:27:35.402Z"
   },
   {
    "duration": 5,
    "start_time": "2025-03-24T04:27:35.424Z"
   },
   {
    "duration": 16,
    "start_time": "2025-03-24T04:27:35.431Z"
   },
   {
    "duration": 32,
    "start_time": "2025-03-24T04:27:35.449Z"
   },
   {
    "duration": 38,
    "start_time": "2025-03-24T04:27:35.483Z"
   },
   {
    "duration": 21,
    "start_time": "2025-03-24T04:27:35.522Z"
   },
   {
    "duration": 25,
    "start_time": "2025-03-24T04:27:35.545Z"
   },
   {
    "duration": 557,
    "start_time": "2025-03-24T04:27:35.572Z"
   },
   {
    "duration": 852,
    "start_time": "2025-03-24T04:27:36.131Z"
   },
   {
    "duration": 592,
    "start_time": "2025-03-24T04:27:36.985Z"
   },
   {
    "duration": 521,
    "start_time": "2025-03-24T04:27:37.578Z"
   },
   {
    "duration": 4,
    "start_time": "2025-03-24T04:27:38.100Z"
   },
   {
    "duration": 4,
    "start_time": "2025-03-24T04:27:38.106Z"
   },
   {
    "duration": 38,
    "start_time": "2025-03-24T04:27:38.111Z"
   },
   {
    "duration": 23,
    "start_time": "2025-03-24T04:27:38.150Z"
   },
   {
    "duration": 22,
    "start_time": "2025-03-24T04:27:38.174Z"
   },
   {
    "duration": 62,
    "start_time": "2025-03-24T04:27:38.197Z"
   },
   {
    "duration": 4,
    "start_time": "2025-03-24T04:27:38.260Z"
   },
   {
    "duration": 5518,
    "start_time": "2025-03-24T04:27:38.267Z"
   },
   {
    "duration": 8596,
    "start_time": "2025-03-24T04:27:43.787Z"
   },
   {
    "duration": 64,
    "start_time": "2025-03-24T04:27:52.385Z"
   },
   {
    "duration": 17,
    "start_time": "2025-03-24T04:27:52.451Z"
   },
   {
    "duration": 29,
    "start_time": "2025-03-24T04:27:52.469Z"
   },
   {
    "duration": 6,
    "start_time": "2025-03-24T04:27:52.500Z"
   },
   {
    "duration": 6,
    "start_time": "2025-03-24T04:27:52.508Z"
   },
   {
    "duration": 6,
    "start_time": "2025-03-24T04:27:52.515Z"
   },
   {
    "duration": 3,
    "start_time": "2025-03-24T04:27:52.523Z"
   },
   {
    "duration": 87929,
    "start_time": "2025-03-24T04:27:52.528Z"
   },
   {
    "duration": 69,
    "start_time": "2025-03-24T04:29:20.459Z"
   },
   {
    "duration": 15037,
    "start_time": "2025-03-24T07:03:22.816Z"
   },
   {
    "duration": 856,
    "start_time": "2025-03-24T07:03:37.856Z"
   },
   {
    "duration": 4,
    "start_time": "2025-03-24T07:03:38.713Z"
   },
   {
    "duration": 309,
    "start_time": "2025-03-24T07:03:38.718Z"
   },
   {
    "duration": 1247,
    "start_time": "2025-03-24T07:03:39.029Z"
   },
   {
    "duration": 930,
    "start_time": "2025-03-24T07:03:40.278Z"
   },
   {
    "duration": 4,
    "start_time": "2025-03-24T07:03:41.209Z"
   },
   {
    "duration": 11,
    "start_time": "2025-03-24T07:03:41.214Z"
   },
   {
    "duration": 6,
    "start_time": "2025-03-24T07:03:41.226Z"
   },
   {
    "duration": 37,
    "start_time": "2025-03-24T07:03:41.233Z"
   },
   {
    "duration": 67,
    "start_time": "2025-03-24T07:03:41.272Z"
   },
   {
    "duration": 242,
    "start_time": "2025-03-24T07:03:41.340Z"
   },
   {
    "duration": 2,
    "start_time": "2025-03-24T07:03:41.583Z"
   },
   {
    "duration": 257,
    "start_time": "2025-03-24T07:03:41.588Z"
   },
   {
    "duration": 498,
    "start_time": "2025-03-24T07:03:41.847Z"
   },
   {
    "duration": 9,
    "start_time": "2025-03-24T07:03:42.347Z"
   },
   {
    "duration": 12,
    "start_time": "2025-03-24T07:03:42.358Z"
   },
   {
    "duration": 15,
    "start_time": "2025-03-24T07:03:42.371Z"
   },
   {
    "duration": 7,
    "start_time": "2025-03-24T07:03:42.387Z"
   },
   {
    "duration": 250,
    "start_time": "2025-03-24T07:03:42.396Z"
   },
   {
    "duration": 1035,
    "start_time": "2025-03-24T07:03:42.647Z"
   },
   {
    "duration": 16,
    "start_time": "2025-03-24T07:03:43.683Z"
   },
   {
    "duration": 25,
    "start_time": "2025-03-24T07:03:43.700Z"
   },
   {
    "duration": 3,
    "start_time": "2025-03-24T07:03:43.727Z"
   },
   {
    "duration": 70,
    "start_time": "2025-03-24T07:03:43.731Z"
   },
   {
    "duration": 194,
    "start_time": "2025-03-24T07:03:43.802Z"
   },
   {
    "duration": 1085,
    "start_time": "2025-03-24T07:03:43.997Z"
   },
   {
    "duration": 5,
    "start_time": "2025-03-24T07:03:45.083Z"
   },
   {
    "duration": 113,
    "start_time": "2025-03-24T07:03:45.089Z"
   },
   {
    "duration": 55,
    "start_time": "2025-03-24T07:03:45.203Z"
   },
   {
    "duration": 44,
    "start_time": "2025-03-24T07:03:45.259Z"
   },
   {
    "duration": 84,
    "start_time": "2025-03-24T07:03:45.305Z"
   },
   {
    "duration": 3,
    "start_time": "2025-03-24T07:03:45.390Z"
   },
   {
    "duration": 24,
    "start_time": "2025-03-24T07:03:45.394Z"
   },
   {
    "duration": 10,
    "start_time": "2025-03-24T07:03:45.419Z"
   },
   {
    "duration": 10,
    "start_time": "2025-03-24T07:03:45.430Z"
   },
   {
    "duration": 5,
    "start_time": "2025-03-24T07:03:45.441Z"
   },
   {
    "duration": 2016,
    "start_time": "2025-03-24T07:03:45.447Z"
   },
   {
    "duration": 14131,
    "start_time": "2025-03-24T07:03:47.465Z"
   },
   {
    "duration": 66,
    "start_time": "2025-03-24T07:04:01.598Z"
   },
   {
    "duration": 25,
    "start_time": "2025-03-24T07:04:01.668Z"
   },
   {
    "duration": 44,
    "start_time": "2025-03-24T07:04:01.694Z"
   },
   {
    "duration": 29,
    "start_time": "2025-03-24T07:04:01.740Z"
   },
   {
    "duration": 15,
    "start_time": "2025-03-24T07:04:01.770Z"
   },
   {
    "duration": 24,
    "start_time": "2025-03-24T07:04:01.786Z"
   },
   {
    "duration": 29,
    "start_time": "2025-03-24T07:04:01.811Z"
   },
   {
    "duration": 23,
    "start_time": "2025-03-24T07:04:01.842Z"
   },
   {
    "duration": 76,
    "start_time": "2025-03-24T07:04:01.866Z"
   },
   {
    "duration": 27,
    "start_time": "2025-03-24T07:04:01.944Z"
   },
   {
    "duration": 505,
    "start_time": "2025-03-24T07:04:01.972Z"
   },
   {
    "duration": 702,
    "start_time": "2025-03-24T07:04:02.478Z"
   },
   {
    "duration": 534,
    "start_time": "2025-03-24T07:04:03.182Z"
   },
   {
    "duration": 529,
    "start_time": "2025-03-24T07:04:03.718Z"
   },
   {
    "duration": 7,
    "start_time": "2025-03-24T07:04:04.249Z"
   },
   {
    "duration": 95,
    "start_time": "2025-03-24T07:04:04.258Z"
   },
   {
    "duration": 44,
    "start_time": "2025-03-24T07:04:04.355Z"
   },
   {
    "duration": 10,
    "start_time": "2025-03-24T07:04:04.400Z"
   },
   {
    "duration": 5,
    "start_time": "2025-03-24T07:04:04.411Z"
   },
   {
    "duration": 60,
    "start_time": "2025-03-24T07:04:04.417Z"
   },
   {
    "duration": 3,
    "start_time": "2025-03-24T07:04:04.479Z"
   },
   {
    "duration": 5125,
    "start_time": "2025-03-24T07:04:04.483Z"
   },
   {
    "duration": 7923,
    "start_time": "2025-03-24T07:04:09.610Z"
   },
   {
    "duration": 54,
    "start_time": "2025-03-24T07:04:17.535Z"
   },
   {
    "duration": 4,
    "start_time": "2025-03-24T07:04:17.590Z"
   },
   {
    "duration": 44,
    "start_time": "2025-03-24T07:04:17.596Z"
   },
   {
    "duration": 20,
    "start_time": "2025-03-24T07:04:17.642Z"
   },
   {
    "duration": 15,
    "start_time": "2025-03-24T07:04:17.663Z"
   },
   {
    "duration": 9,
    "start_time": "2025-03-24T07:04:17.679Z"
   },
   {
    "duration": 5,
    "start_time": "2025-03-24T07:04:17.689Z"
   },
   {
    "duration": 82323,
    "start_time": "2025-03-24T07:04:17.696Z"
   },
   {
    "duration": 66,
    "start_time": "2025-03-24T07:05:40.020Z"
   },
   {
    "duration": 4,
    "start_time": "2025-03-24T07:07:48.134Z"
   },
   {
    "duration": 131572,
    "start_time": "2025-03-24T07:07:56.861Z"
   },
   {
    "duration": 114,
    "start_time": "2025-03-24T07:29:38.293Z"
   },
   {
    "duration": 8,
    "start_time": "2025-03-24T07:30:01.358Z"
   },
   {
    "duration": 8,
    "start_time": "2025-03-24T07:30:08.702Z"
   },
   {
    "duration": 6,
    "start_time": "2025-03-24T07:30:57.978Z"
   },
   {
    "duration": 8,
    "start_time": "2025-03-24T07:31:54.361Z"
   },
   {
    "duration": 9,
    "start_time": "2025-03-24T07:32:39.084Z"
   },
   {
    "duration": 14,
    "start_time": "2025-03-24T07:32:59.895Z"
   },
   {
    "duration": 4,
    "start_time": "2025-03-24T07:33:31.176Z"
   },
   {
    "duration": 25,
    "start_time": "2025-03-24T07:35:42.924Z"
   },
   {
    "duration": 29,
    "start_time": "2025-03-24T07:35:56.134Z"
   },
   {
    "duration": 1424,
    "start_time": "2025-03-24T07:37:01.986Z"
   },
   {
    "duration": 32,
    "start_time": "2025-03-24T07:37:09.821Z"
   },
   {
    "duration": 25,
    "start_time": "2025-03-24T07:37:14.182Z"
   },
   {
    "duration": 123,
    "start_time": "2025-03-24T07:37:36.129Z"
   },
   {
    "duration": 28,
    "start_time": "2025-03-24T07:37:54.697Z"
   },
   {
    "duration": 173,
    "start_time": "2025-03-24T07:38:18.568Z"
   },
   {
    "duration": 116,
    "start_time": "2025-03-24T07:38:43.218Z"
   },
   {
    "duration": 137,
    "start_time": "2025-03-24T07:38:51.175Z"
   },
   {
    "duration": 128,
    "start_time": "2025-03-24T07:38:57.917Z"
   },
   {
    "duration": 137,
    "start_time": "2025-03-24T07:39:07.149Z"
   },
   {
    "duration": 201,
    "start_time": "2025-03-24T07:39:33.119Z"
   },
   {
    "duration": 1128,
    "start_time": "2025-03-24T07:39:53.460Z"
   },
   {
    "duration": 1097,
    "start_time": "2025-03-24T07:40:04.353Z"
   },
   {
    "duration": 1148,
    "start_time": "2025-03-24T07:40:47.627Z"
   },
   {
    "duration": 1066,
    "start_time": "2025-03-24T07:42:10.799Z"
   },
   {
    "duration": 1113,
    "start_time": "2025-03-24T07:42:36.150Z"
   },
   {
    "duration": 1118,
    "start_time": "2025-03-24T07:42:48.846Z"
   },
   {
    "duration": 25,
    "start_time": "2025-03-24T07:43:10.932Z"
   },
   {
    "duration": 1052,
    "start_time": "2025-03-24T07:43:28.900Z"
   },
   {
    "duration": 1159,
    "start_time": "2025-03-24T07:45:06.586Z"
   },
   {
    "duration": 1151,
    "start_time": "2025-03-24T07:45:20.887Z"
   },
   {
    "duration": 27,
    "start_time": "2025-03-24T07:49:09.439Z"
   },
   {
    "duration": 47,
    "start_time": "2025-03-24T07:50:02.730Z"
   },
   {
    "duration": 47,
    "start_time": "2025-03-24T07:50:12.098Z"
   },
   {
    "duration": 53,
    "start_time": "2025-03-24T07:50:52.923Z"
   },
   {
    "duration": 3,
    "start_time": "2025-03-24T07:51:07.060Z"
   },
   {
    "duration": 4,
    "start_time": "2025-03-24T07:51:13.259Z"
   },
   {
    "duration": 24,
    "start_time": "2025-03-24T07:54:21.303Z"
   },
   {
    "duration": 14,
    "start_time": "2025-03-24T07:55:12.439Z"
   },
   {
    "duration": 28,
    "start_time": "2025-03-24T07:55:51.275Z"
   },
   {
    "duration": 27,
    "start_time": "2025-03-24T07:56:22.972Z"
   },
   {
    "duration": 28,
    "start_time": "2025-03-24T07:56:34.906Z"
   },
   {
    "duration": 60,
    "start_time": "2025-03-24T07:57:21.516Z"
   },
   {
    "duration": 124547,
    "start_time": "2025-03-24T07:57:40.644Z"
   },
   {
    "duration": 3,
    "start_time": "2025-03-24T07:59:45.192Z"
   },
   {
    "duration": 4,
    "start_time": "2025-03-24T08:00:00.748Z"
   },
   {
    "duration": 70084,
    "start_time": "2025-03-24T08:00:09.686Z"
   },
   {
    "duration": 3,
    "start_time": "2025-03-24T08:04:08.199Z"
   },
   {
    "duration": 124712,
    "start_time": "2025-03-24T08:04:14.691Z"
   },
   {
    "duration": 9951,
    "start_time": "2025-03-24T08:13:42.728Z"
   },
   {
    "duration": 848,
    "start_time": "2025-03-24T08:13:52.681Z"
   },
   {
    "duration": 5,
    "start_time": "2025-03-24T08:13:53.531Z"
   },
   {
    "duration": 222,
    "start_time": "2025-03-24T08:13:53.538Z"
   },
   {
    "duration": 1366,
    "start_time": "2025-03-24T08:13:53.762Z"
   },
   {
    "duration": 893,
    "start_time": "2025-03-24T08:13:55.130Z"
   },
   {
    "duration": 3,
    "start_time": "2025-03-24T08:13:56.025Z"
   },
   {
    "duration": 4,
    "start_time": "2025-03-24T08:13:56.030Z"
   },
   {
    "duration": 22,
    "start_time": "2025-03-24T08:13:56.035Z"
   },
   {
    "duration": 24,
    "start_time": "2025-03-24T08:13:56.059Z"
   },
   {
    "duration": 134,
    "start_time": "2025-03-24T08:13:56.085Z"
   },
   {
    "duration": 232,
    "start_time": "2025-03-24T08:13:56.220Z"
   },
   {
    "duration": 3,
    "start_time": "2025-03-24T08:13:56.456Z"
   },
   {
    "duration": 302,
    "start_time": "2025-03-24T08:13:56.460Z"
   },
   {
    "duration": 512,
    "start_time": "2025-03-24T08:13:56.766Z"
   },
   {
    "duration": 4,
    "start_time": "2025-03-24T08:13:57.280Z"
   },
   {
    "duration": 23,
    "start_time": "2025-03-24T08:13:57.285Z"
   },
   {
    "duration": 21,
    "start_time": "2025-03-24T08:13:57.309Z"
   },
   {
    "duration": 7,
    "start_time": "2025-03-24T08:13:57.331Z"
   },
   {
    "duration": 269,
    "start_time": "2025-03-24T08:13:57.339Z"
   },
   {
    "duration": 1122,
    "start_time": "2025-03-24T08:13:57.609Z"
   },
   {
    "duration": 24,
    "start_time": "2025-03-24T08:13:58.732Z"
   },
   {
    "duration": 94,
    "start_time": "2025-03-24T08:13:58.761Z"
   },
   {
    "duration": 4,
    "start_time": "2025-03-24T08:13:58.857Z"
   },
   {
    "duration": 19,
    "start_time": "2025-03-24T08:13:58.863Z"
   },
   {
    "duration": 300,
    "start_time": "2025-03-24T08:13:58.883Z"
   },
   {
    "duration": 1082,
    "start_time": "2025-03-24T08:13:59.185Z"
   },
   {
    "duration": 4,
    "start_time": "2025-03-24T08:14:00.271Z"
   },
   {
    "duration": 285,
    "start_time": "2025-03-24T08:14:00.276Z"
   },
   {
    "duration": 4,
    "start_time": "2025-03-24T08:14:00.563Z"
   },
   {
    "duration": 48,
    "start_time": "2025-03-24T08:14:00.568Z"
   },
   {
    "duration": 59,
    "start_time": "2025-03-24T08:14:00.618Z"
   },
   {
    "duration": 4,
    "start_time": "2025-03-24T08:14:00.679Z"
   },
   {
    "duration": 46,
    "start_time": "2025-03-24T08:14:00.685Z"
   },
   {
    "duration": 92,
    "start_time": "2025-03-24T08:14:00.733Z"
   },
   {
    "duration": 19,
    "start_time": "2025-03-24T08:14:00.827Z"
   },
   {
    "duration": 32,
    "start_time": "2025-03-24T08:14:00.848Z"
   },
   {
    "duration": 1996,
    "start_time": "2025-03-24T08:14:00.882Z"
   },
   {
    "duration": 14396,
    "start_time": "2025-03-24T08:14:02.879Z"
   },
   {
    "duration": 49,
    "start_time": "2025-03-24T08:14:17.277Z"
   },
   {
    "duration": 48,
    "start_time": "2025-03-24T08:14:17.327Z"
   },
   {
    "duration": 46,
    "start_time": "2025-03-24T08:14:17.376Z"
   },
   {
    "duration": 34,
    "start_time": "2025-03-24T08:14:17.423Z"
   },
   {
    "duration": 5,
    "start_time": "2025-03-24T08:14:17.459Z"
   },
   {
    "duration": 5,
    "start_time": "2025-03-24T08:14:17.465Z"
   },
   {
    "duration": 21,
    "start_time": "2025-03-24T08:14:17.472Z"
   },
   {
    "duration": 22,
    "start_time": "2025-03-24T08:14:17.494Z"
   },
   {
    "duration": 38,
    "start_time": "2025-03-24T08:14:17.518Z"
   },
   {
    "duration": 15,
    "start_time": "2025-03-24T08:14:17.557Z"
   },
   {
    "duration": 488,
    "start_time": "2025-03-24T08:14:17.573Z"
   },
   {
    "duration": 574,
    "start_time": "2025-03-24T08:14:18.062Z"
   },
   {
    "duration": 670,
    "start_time": "2025-03-24T08:14:18.637Z"
   },
   {
    "duration": 522,
    "start_time": "2025-03-24T08:14:19.309Z"
   },
   {
    "duration": 3,
    "start_time": "2025-03-24T08:14:19.833Z"
   },
   {
    "duration": 18,
    "start_time": "2025-03-24T08:14:19.838Z"
   },
   {
    "duration": 27,
    "start_time": "2025-03-24T08:14:19.858Z"
   },
   {
    "duration": 10,
    "start_time": "2025-03-24T08:14:19.886Z"
   },
   {
    "duration": 11,
    "start_time": "2025-03-24T08:14:19.897Z"
   },
   {
    "duration": 76,
    "start_time": "2025-03-24T08:14:19.909Z"
   },
   {
    "duration": 4,
    "start_time": "2025-03-24T08:14:19.986Z"
   },
   {
    "duration": 5006,
    "start_time": "2025-03-24T08:14:19.991Z"
   },
   {
    "duration": 7965,
    "start_time": "2025-03-24T08:14:24.999Z"
   },
   {
    "duration": 45,
    "start_time": "2025-03-24T08:14:32.965Z"
   },
   {
    "duration": 11,
    "start_time": "2025-03-24T08:14:33.012Z"
   },
   {
    "duration": 113,
    "start_time": "2025-03-24T08:14:33.025Z"
   },
   {
    "duration": 21,
    "start_time": "2025-03-24T08:14:33.140Z"
   },
   {
    "duration": 52,
    "start_time": "2025-03-24T08:14:33.163Z"
   },
   {
    "duration": 36,
    "start_time": "2025-03-24T08:14:33.216Z"
   },
   {
    "duration": 62,
    "start_time": "2025-03-24T08:14:33.253Z"
   },
   {
    "duration": 117,
    "start_time": "2025-03-24T08:14:33.317Z"
   },
   {
    "duration": 129274,
    "start_time": "2025-03-24T08:14:33.436Z"
   },
   {
    "duration": 1056,
    "start_time": "2025-03-24T08:16:42.711Z"
   },
   {
    "duration": 45,
    "start_time": "2025-03-24T08:16:43.769Z"
   },
   {
    "duration": 16,
    "start_time": "2025-03-24T08:16:43.816Z"
   },
   {
    "duration": 38,
    "start_time": "2025-03-24T08:16:43.834Z"
   },
   {
    "duration": 52,
    "start_time": "2025-03-24T08:16:43.873Z"
   },
   {
    "duration": 126457,
    "start_time": "2025-03-24T08:16:43.927Z"
   },
   {
    "duration": 131203,
    "start_time": "2025-03-24T08:22:11.588Z"
   },
   {
    "duration": 9728,
    "start_time": "2025-03-24T08:28:38.584Z"
   },
   {
    "duration": 826,
    "start_time": "2025-03-24T08:28:48.314Z"
   },
   {
    "duration": 3,
    "start_time": "2025-03-24T08:28:49.141Z"
   },
   {
    "duration": 248,
    "start_time": "2025-03-24T08:28:49.155Z"
   },
   {
    "duration": 1363,
    "start_time": "2025-03-24T08:28:49.405Z"
   },
   {
    "duration": 952,
    "start_time": "2025-03-24T08:28:50.770Z"
   },
   {
    "duration": 4,
    "start_time": "2025-03-24T08:28:51.724Z"
   },
   {
    "duration": 6,
    "start_time": "2025-03-24T08:28:51.730Z"
   },
   {
    "duration": 20,
    "start_time": "2025-03-24T08:28:51.737Z"
   },
   {
    "duration": 23,
    "start_time": "2025-03-24T08:28:51.760Z"
   },
   {
    "duration": 91,
    "start_time": "2025-03-24T08:28:51.785Z"
   },
   {
    "duration": 262,
    "start_time": "2025-03-24T08:28:51.878Z"
   },
   {
    "duration": 2,
    "start_time": "2025-03-24T08:28:52.142Z"
   },
   {
    "duration": 311,
    "start_time": "2025-03-24T08:28:52.146Z"
   },
   {
    "duration": 504,
    "start_time": "2025-03-24T08:28:52.459Z"
   },
   {
    "duration": 5,
    "start_time": "2025-03-24T08:28:52.964Z"
   },
   {
    "duration": 12,
    "start_time": "2025-03-24T08:28:52.970Z"
   },
   {
    "duration": 21,
    "start_time": "2025-03-24T08:28:52.983Z"
   },
   {
    "duration": 23,
    "start_time": "2025-03-24T08:28:53.005Z"
   },
   {
    "duration": 194,
    "start_time": "2025-03-24T08:28:53.029Z"
   },
   {
    "duration": 1121,
    "start_time": "2025-03-24T08:28:53.224Z"
   },
   {
    "duration": 23,
    "start_time": "2025-03-24T08:28:54.347Z"
   },
   {
    "duration": 97,
    "start_time": "2025-03-24T08:28:54.372Z"
   },
   {
    "duration": 4,
    "start_time": "2025-03-24T08:28:54.470Z"
   },
   {
    "duration": 66,
    "start_time": "2025-03-24T08:28:54.476Z"
   },
   {
    "duration": 289,
    "start_time": "2025-03-24T08:28:54.544Z"
   },
   {
    "duration": 1104,
    "start_time": "2025-03-24T08:28:54.835Z"
   },
   {
    "duration": 11,
    "start_time": "2025-03-24T08:28:55.945Z"
   },
   {
    "duration": 36,
    "start_time": "2025-03-24T08:28:55.958Z"
   },
   {
    "duration": 5,
    "start_time": "2025-03-24T08:28:55.996Z"
   },
   {
    "duration": 20,
    "start_time": "2025-03-24T08:28:56.002Z"
   },
   {
    "duration": 48,
    "start_time": "2025-03-24T08:28:56.024Z"
   },
   {
    "duration": 4,
    "start_time": "2025-03-24T08:28:56.073Z"
   },
   {
    "duration": 34,
    "start_time": "2025-03-24T08:28:56.078Z"
   },
   {
    "duration": 15,
    "start_time": "2025-03-24T08:28:56.114Z"
   },
   {
    "duration": 3,
    "start_time": "2025-03-24T08:28:56.130Z"
   },
   {
    "duration": 13,
    "start_time": "2025-03-24T08:28:56.135Z"
   },
   {
    "duration": 2095,
    "start_time": "2025-03-24T08:28:56.150Z"
   },
   {
    "duration": 14790,
    "start_time": "2025-03-24T08:28:58.247Z"
   },
   {
    "duration": 51,
    "start_time": "2025-03-24T08:29:13.039Z"
   },
   {
    "duration": 25,
    "start_time": "2025-03-24T08:29:13.091Z"
   },
   {
    "duration": 96,
    "start_time": "2025-03-24T08:29:13.117Z"
   },
   {
    "duration": 19,
    "start_time": "2025-03-24T08:29:13.215Z"
   },
   {
    "duration": 4,
    "start_time": "2025-03-24T08:29:13.236Z"
   },
   {
    "duration": 5,
    "start_time": "2025-03-24T08:29:13.241Z"
   },
   {
    "duration": 21,
    "start_time": "2025-03-24T08:29:13.247Z"
   },
   {
    "duration": 27,
    "start_time": "2025-03-24T08:29:13.270Z"
   },
   {
    "duration": 21,
    "start_time": "2025-03-24T08:29:13.298Z"
   },
   {
    "duration": 36,
    "start_time": "2025-03-24T08:29:13.320Z"
   },
   {
    "duration": 511,
    "start_time": "2025-03-24T08:29:13.357Z"
   },
   {
    "duration": 547,
    "start_time": "2025-03-24T08:29:13.870Z"
   },
   {
    "duration": 697,
    "start_time": "2025-03-24T08:29:14.419Z"
   },
   {
    "duration": 513,
    "start_time": "2025-03-24T08:29:15.118Z"
   },
   {
    "duration": 3,
    "start_time": "2025-03-24T08:29:15.633Z"
   },
   {
    "duration": 33,
    "start_time": "2025-03-24T08:29:15.638Z"
   },
   {
    "duration": 60,
    "start_time": "2025-03-24T08:29:15.672Z"
   },
   {
    "duration": 9,
    "start_time": "2025-03-24T08:29:15.734Z"
   },
   {
    "duration": 14,
    "start_time": "2025-03-24T08:29:15.745Z"
   },
   {
    "duration": 70,
    "start_time": "2025-03-24T08:29:15.761Z"
   },
   {
    "duration": 4,
    "start_time": "2025-03-24T08:29:15.832Z"
   },
   {
    "duration": 5108,
    "start_time": "2025-03-24T08:29:15.837Z"
   },
   {
    "duration": 8078,
    "start_time": "2025-03-24T08:29:20.946Z"
   },
   {
    "duration": 55,
    "start_time": "2025-03-24T08:29:29.026Z"
   },
   {
    "duration": 4,
    "start_time": "2025-03-24T08:29:29.082Z"
   },
   {
    "duration": 71,
    "start_time": "2025-03-24T08:29:29.087Z"
   },
   {
    "duration": 7,
    "start_time": "2025-03-24T08:29:29.159Z"
   },
   {
    "duration": 24,
    "start_time": "2025-03-24T08:29:29.167Z"
   },
   {
    "duration": 7,
    "start_time": "2025-03-24T08:29:29.192Z"
   },
   {
    "duration": 15,
    "start_time": "2025-03-24T08:29:29.200Z"
   },
   {
    "duration": 15,
    "start_time": "2025-03-24T08:29:29.216Z"
   },
   {
    "duration": 131368,
    "start_time": "2025-03-24T08:29:29.232Z"
   },
   {
    "duration": 1069,
    "start_time": "2025-03-24T08:31:40.602Z"
   },
   {
    "duration": 45,
    "start_time": "2025-03-24T08:31:41.673Z"
   },
   {
    "duration": 8,
    "start_time": "2025-03-24T08:31:41.720Z"
   },
   {
    "duration": 45,
    "start_time": "2025-03-24T08:31:41.729Z"
   },
   {
    "duration": 54,
    "start_time": "2025-03-24T08:31:41.776Z"
   },
   {
    "duration": 130712,
    "start_time": "2025-03-24T08:31:41.832Z"
   },
   {
    "duration": 9919,
    "start_time": "2025-03-24T08:35:30.938Z"
   },
   {
    "duration": 803,
    "start_time": "2025-03-24T08:35:40.859Z"
   },
   {
    "duration": 4,
    "start_time": "2025-03-24T08:35:41.663Z"
   },
   {
    "duration": 205,
    "start_time": "2025-03-24T08:35:41.668Z"
   },
   {
    "duration": 1221,
    "start_time": "2025-03-24T08:35:41.875Z"
   },
   {
    "duration": 927,
    "start_time": "2025-03-24T08:35:43.098Z"
   },
   {
    "duration": 4,
    "start_time": "2025-03-24T08:35:44.027Z"
   },
   {
    "duration": 9,
    "start_time": "2025-03-24T08:35:44.032Z"
   },
   {
    "duration": 14,
    "start_time": "2025-03-24T08:35:44.042Z"
   },
   {
    "duration": 28,
    "start_time": "2025-03-24T08:35:44.058Z"
   },
   {
    "duration": 77,
    "start_time": "2025-03-24T08:35:44.088Z"
   },
   {
    "duration": 223,
    "start_time": "2025-03-24T08:35:44.166Z"
   },
   {
    "duration": 2,
    "start_time": "2025-03-24T08:35:44.390Z"
   },
   {
    "duration": 286,
    "start_time": "2025-03-24T08:35:44.394Z"
   },
   {
    "duration": 478,
    "start_time": "2025-03-24T08:35:44.682Z"
   },
   {
    "duration": 4,
    "start_time": "2025-03-24T08:35:45.162Z"
   },
   {
    "duration": 214,
    "start_time": "2025-03-24T08:35:45.167Z"
   },
   {
    "duration": 202,
    "start_time": "2025-03-24T08:35:45.382Z"
   },
   {
    "duration": 43,
    "start_time": "2025-03-24T08:35:45.586Z"
   },
   {
    "duration": 194,
    "start_time": "2025-03-24T08:35:45.631Z"
   },
   {
    "duration": 1088,
    "start_time": "2025-03-24T08:35:45.826Z"
   },
   {
    "duration": 16,
    "start_time": "2025-03-24T08:35:46.916Z"
   },
   {
    "duration": 39,
    "start_time": "2025-03-24T08:35:46.933Z"
   },
   {
    "duration": 4,
    "start_time": "2025-03-24T08:35:46.973Z"
   },
   {
    "duration": 33,
    "start_time": "2025-03-24T08:35:46.978Z"
   },
   {
    "duration": 260,
    "start_time": "2025-03-24T08:35:47.012Z"
   },
   {
    "duration": 1148,
    "start_time": "2025-03-24T08:35:47.274Z"
   },
   {
    "duration": 5,
    "start_time": "2025-03-24T08:35:48.425Z"
   },
   {
    "duration": 64,
    "start_time": "2025-03-24T08:35:48.432Z"
   },
   {
    "duration": 3,
    "start_time": "2025-03-24T08:35:48.498Z"
   },
   {
    "duration": 88,
    "start_time": "2025-03-24T08:35:48.503Z"
   },
   {
    "duration": 23,
    "start_time": "2025-03-24T08:35:48.593Z"
   },
   {
    "duration": 3,
    "start_time": "2025-03-24T08:35:48.618Z"
   },
   {
    "duration": 15,
    "start_time": "2025-03-24T08:35:48.623Z"
   },
   {
    "duration": 3,
    "start_time": "2025-03-24T08:35:48.640Z"
   },
   {
    "duration": 4,
    "start_time": "2025-03-24T08:35:48.645Z"
   },
   {
    "duration": 6,
    "start_time": "2025-03-24T08:35:48.651Z"
   },
   {
    "duration": 2035,
    "start_time": "2025-03-24T08:35:48.658Z"
   },
   {
    "duration": 14453,
    "start_time": "2025-03-24T08:35:50.695Z"
   },
   {
    "duration": 46,
    "start_time": "2025-03-24T08:36:05.149Z"
   },
   {
    "duration": 62,
    "start_time": "2025-03-24T08:36:05.196Z"
   },
   {
    "duration": 43,
    "start_time": "2025-03-24T08:36:05.259Z"
   },
   {
    "duration": 47,
    "start_time": "2025-03-24T08:36:05.303Z"
   },
   {
    "duration": 8,
    "start_time": "2025-03-24T08:36:05.351Z"
   },
   {
    "duration": 32,
    "start_time": "2025-03-24T08:36:05.360Z"
   },
   {
    "duration": 39,
    "start_time": "2025-03-24T08:36:05.394Z"
   },
   {
    "duration": 27,
    "start_time": "2025-03-24T08:36:05.434Z"
   },
   {
    "duration": 150,
    "start_time": "2025-03-24T08:36:05.463Z"
   },
   {
    "duration": 41,
    "start_time": "2025-03-24T08:36:05.614Z"
   },
   {
    "duration": 515,
    "start_time": "2025-03-24T08:36:05.657Z"
   },
   {
    "duration": 592,
    "start_time": "2025-03-24T08:36:06.173Z"
   },
   {
    "duration": 714,
    "start_time": "2025-03-24T08:36:06.767Z"
   },
   {
    "duration": 527,
    "start_time": "2025-03-24T08:36:07.482Z"
   },
   {
    "duration": 3,
    "start_time": "2025-03-24T08:36:08.011Z"
   },
   {
    "duration": 5,
    "start_time": "2025-03-24T08:36:08.016Z"
   },
   {
    "duration": 43,
    "start_time": "2025-03-24T08:36:08.022Z"
   },
   {
    "duration": 10,
    "start_time": "2025-03-24T08:36:08.066Z"
   },
   {
    "duration": 7,
    "start_time": "2025-03-24T08:36:08.078Z"
   },
   {
    "duration": 79,
    "start_time": "2025-03-24T08:36:08.087Z"
   },
   {
    "duration": 4,
    "start_time": "2025-03-24T08:36:08.168Z"
   },
   {
    "duration": 5050,
    "start_time": "2025-03-24T08:36:08.174Z"
   },
   {
    "duration": 7726,
    "start_time": "2025-03-24T08:36:13.225Z"
   },
   {
    "duration": 49,
    "start_time": "2025-03-24T08:36:20.956Z"
   },
   {
    "duration": 5,
    "start_time": "2025-03-24T08:36:21.006Z"
   },
   {
    "duration": 19,
    "start_time": "2025-03-24T08:36:21.013Z"
   },
   {
    "duration": 4,
    "start_time": "2025-03-24T08:36:21.033Z"
   },
   {
    "duration": 27,
    "start_time": "2025-03-24T08:36:21.039Z"
   },
   {
    "duration": 23,
    "start_time": "2025-03-24T08:36:21.067Z"
   },
   {
    "duration": 21,
    "start_time": "2025-03-24T08:36:21.092Z"
   },
   {
    "duration": 130448,
    "start_time": "2025-03-24T08:36:21.114Z"
   },
   {
    "duration": 1040,
    "start_time": "2025-03-24T08:38:31.564Z"
   },
   {
    "duration": 50,
    "start_time": "2025-03-24T08:38:32.606Z"
   },
   {
    "duration": 20,
    "start_time": "2025-03-24T08:38:32.657Z"
   },
   {
    "duration": 39,
    "start_time": "2025-03-24T08:38:32.678Z"
   },
   {
    "duration": 86,
    "start_time": "2025-03-24T08:38:32.718Z"
   },
   {
    "duration": 130080,
    "start_time": "2025-03-24T08:38:32.805Z"
   },
   {
    "duration": 772793,
    "start_time": "2025-03-24T10:26:52.585Z"
   },
   {
    "duration": 10,
    "start_time": "2025-03-24T10:39:53.776Z"
   },
   {
    "duration": 144829,
    "start_time": "2025-03-24T10:40:03.809Z"
   },
   {
    "duration": 19,
    "start_time": "2025-03-24T10:43:10.805Z"
   },
   {
    "duration": 24,
    "start_time": "2025-03-24T10:43:55.674Z"
   },
   {
    "duration": 18,
    "start_time": "2025-03-24T10:44:32.150Z"
   },
   {
    "duration": 15,
    "start_time": "2025-03-24T10:45:48.576Z"
   },
   {
    "duration": 139174,
    "start_time": "2025-03-24T10:48:47.128Z"
   },
   {
    "duration": 494239,
    "start_time": "2025-03-24T10:51:59.773Z"
   },
   {
    "duration": 142132,
    "start_time": "2025-03-24T11:00:28.333Z"
   },
   {
    "duration": 8758,
    "start_time": "2025-03-24T11:09:06.716Z"
   },
   {
    "duration": 8393,
    "start_time": "2025-03-24T11:12:34.780Z"
   },
   {
    "duration": 20,
    "start_time": "2025-03-24T12:37:05.742Z"
   },
   {
    "duration": 8187,
    "start_time": "2025-03-24T12:37:27.636Z"
   },
   {
    "duration": 5,
    "start_time": "2025-03-24T12:37:43.155Z"
   },
   {
    "duration": 0,
    "start_time": "2025-03-24T12:48:39.285Z"
   },
   {
    "duration": 354,
    "start_time": "2025-03-24T12:53:02.879Z"
   },
   {
    "duration": 9832,
    "start_time": "2025-03-24T13:02:23.845Z"
   },
   {
    "duration": 802,
    "start_time": "2025-03-24T13:02:33.679Z"
   },
   {
    "duration": 3,
    "start_time": "2025-03-24T13:02:34.483Z"
   },
   {
    "duration": 210,
    "start_time": "2025-03-24T13:02:34.487Z"
   },
   {
    "duration": 1374,
    "start_time": "2025-03-24T13:02:34.698Z"
   },
   {
    "duration": 975,
    "start_time": "2025-03-24T13:02:36.074Z"
   },
   {
    "duration": 8,
    "start_time": "2025-03-24T13:02:37.051Z"
   },
   {
    "duration": 16,
    "start_time": "2025-03-24T13:02:37.060Z"
   },
   {
    "duration": 19,
    "start_time": "2025-03-24T13:02:37.077Z"
   },
   {
    "duration": 26,
    "start_time": "2025-03-24T13:02:37.099Z"
   },
   {
    "duration": 75,
    "start_time": "2025-03-24T13:02:37.127Z"
   },
   {
    "duration": 267,
    "start_time": "2025-03-24T13:02:37.204Z"
   },
   {
    "duration": 2,
    "start_time": "2025-03-24T13:02:37.472Z"
   },
   {
    "duration": 281,
    "start_time": "2025-03-24T13:02:37.475Z"
   },
   {
    "duration": 536,
    "start_time": "2025-03-24T13:02:37.758Z"
   },
   {
    "duration": 4,
    "start_time": "2025-03-24T13:02:38.295Z"
   },
   {
    "duration": 53,
    "start_time": "2025-03-24T13:02:38.300Z"
   },
   {
    "duration": 42,
    "start_time": "2025-03-24T13:02:38.354Z"
   },
   {
    "duration": 9,
    "start_time": "2025-03-24T13:02:38.397Z"
   },
   {
    "duration": 188,
    "start_time": "2025-03-24T13:02:38.407Z"
   },
   {
    "duration": 1070,
    "start_time": "2025-03-24T13:02:38.596Z"
   },
   {
    "duration": 16,
    "start_time": "2025-03-24T13:02:39.667Z"
   },
   {
    "duration": 129,
    "start_time": "2025-03-24T13:02:39.685Z"
   },
   {
    "duration": 3,
    "start_time": "2025-03-24T13:02:39.816Z"
   },
   {
    "duration": 16,
    "start_time": "2025-03-24T13:02:39.820Z"
   },
   {
    "duration": 171,
    "start_time": "2025-03-24T13:02:39.837Z"
   },
   {
    "duration": 1096,
    "start_time": "2025-03-24T13:02:40.010Z"
   },
   {
    "duration": 5,
    "start_time": "2025-03-24T13:02:41.110Z"
   },
   {
    "duration": 41,
    "start_time": "2025-03-24T13:02:41.117Z"
   },
   {
    "duration": 3,
    "start_time": "2025-03-24T13:02:41.160Z"
   },
   {
    "duration": 16,
    "start_time": "2025-03-24T13:02:41.165Z"
   },
   {
    "duration": 23,
    "start_time": "2025-03-24T13:02:41.183Z"
   },
   {
    "duration": 141,
    "start_time": "2025-03-24T13:02:41.208Z"
   },
   {
    "duration": 13,
    "start_time": "2025-03-24T13:02:41.350Z"
   },
   {
    "duration": 3,
    "start_time": "2025-03-24T13:02:41.365Z"
   },
   {
    "duration": 4,
    "start_time": "2025-03-24T13:02:41.370Z"
   },
   {
    "duration": 4,
    "start_time": "2025-03-24T13:02:41.375Z"
   },
   {
    "duration": 2089,
    "start_time": "2025-03-24T13:02:41.380Z"
   },
   {
    "duration": 13916,
    "start_time": "2025-03-24T13:02:43.470Z"
   },
   {
    "duration": 40,
    "start_time": "2025-03-24T13:02:57.388Z"
   },
   {
    "duration": 47,
    "start_time": "2025-03-24T13:02:57.429Z"
   },
   {
    "duration": 48,
    "start_time": "2025-03-24T13:02:57.478Z"
   },
   {
    "duration": 23,
    "start_time": "2025-03-24T13:02:57.527Z"
   },
   {
    "duration": 4,
    "start_time": "2025-03-24T13:02:57.552Z"
   },
   {
    "duration": 5,
    "start_time": "2025-03-24T13:02:57.557Z"
   },
   {
    "duration": 17,
    "start_time": "2025-03-24T13:02:57.563Z"
   },
   {
    "duration": 23,
    "start_time": "2025-03-24T13:02:57.581Z"
   },
   {
    "duration": 25,
    "start_time": "2025-03-24T13:02:57.605Z"
   },
   {
    "duration": 56,
    "start_time": "2025-03-24T13:02:57.632Z"
   },
   {
    "duration": 570,
    "start_time": "2025-03-24T13:02:57.690Z"
   },
   {
    "duration": 675,
    "start_time": "2025-03-24T13:02:58.261Z"
   },
   {
    "duration": 511,
    "start_time": "2025-03-24T13:02:58.938Z"
   },
   {
    "duration": 508,
    "start_time": "2025-03-24T13:02:59.451Z"
   },
   {
    "duration": 4,
    "start_time": "2025-03-24T13:02:59.960Z"
   },
   {
    "duration": 6,
    "start_time": "2025-03-24T13:02:59.966Z"
   },
   {
    "duration": 81,
    "start_time": "2025-03-24T13:02:59.973Z"
   },
   {
    "duration": 47,
    "start_time": "2025-03-24T13:03:00.056Z"
   },
   {
    "duration": 136,
    "start_time": "2025-03-24T13:03:00.104Z"
   },
   {
    "duration": 238,
    "start_time": "2025-03-24T13:03:00.242Z"
   },
   {
    "duration": 8,
    "start_time": "2025-03-24T13:03:00.481Z"
   },
   {
    "duration": 5175,
    "start_time": "2025-03-24T13:03:00.491Z"
   },
   {
    "duration": 7960,
    "start_time": "2025-03-24T13:03:05.668Z"
   },
   {
    "duration": 57,
    "start_time": "2025-03-24T13:03:13.630Z"
   },
   {
    "duration": 100,
    "start_time": "2025-03-24T13:03:13.689Z"
   },
   {
    "duration": 13,
    "start_time": "2025-03-24T13:03:13.790Z"
   },
   {
    "duration": 15,
    "start_time": "2025-03-24T13:03:13.804Z"
   },
   {
    "duration": 11,
    "start_time": "2025-03-24T13:03:13.821Z"
   },
   {
    "duration": 22,
    "start_time": "2025-03-24T13:03:13.833Z"
   },
   {
    "duration": 11,
    "start_time": "2025-03-24T13:03:13.856Z"
   },
   {
    "duration": 130870,
    "start_time": "2025-03-24T13:03:13.868Z"
   },
   {
    "duration": 1080,
    "start_time": "2025-03-24T13:05:24.739Z"
   },
   {
    "duration": 48,
    "start_time": "2025-03-24T13:05:25.820Z"
   },
   {
    "duration": 30,
    "start_time": "2025-03-24T13:05:25.870Z"
   },
   {
    "duration": 28,
    "start_time": "2025-03-24T13:05:25.902Z"
   },
   {
    "duration": 74,
    "start_time": "2025-03-24T13:05:25.931Z"
   },
   {
    "duration": 130622,
    "start_time": "2025-03-24T13:05:26.007Z"
   },
   {
    "duration": 14,
    "start_time": "2025-03-24T13:07:36.631Z"
   },
   {
    "duration": 141449,
    "start_time": "2025-03-24T13:07:36.655Z"
   },
   {
    "duration": 1591107,
    "start_time": "2025-03-24T13:09:58.105Z"
   },
   {
    "duration": 0,
    "start_time": "2025-03-24T13:36:29.215Z"
   },
   {
    "duration": 0,
    "start_time": "2025-03-24T13:36:29.216Z"
   },
   {
    "duration": 74932,
    "start_time": "2025-03-24T13:39:42.930Z"
   },
   {
    "duration": 245928,
    "start_time": "2025-03-24T13:43:14.445Z"
   },
   {
    "duration": 8445,
    "start_time": "2025-03-24T13:55:51.652Z"
   },
   {
    "duration": 276041,
    "start_time": "2025-03-24T14:33:00.133Z"
   },
   {
    "duration": 13,
    "start_time": "2025-03-24T14:39:18.585Z"
   },
   {
    "duration": 18,
    "start_time": "2025-03-24T14:56:02.353Z"
   },
   {
    "duration": 4,
    "start_time": "2025-03-24T14:56:12.244Z"
   },
   {
    "duration": 8,
    "start_time": "2025-03-24T14:57:28.347Z"
   },
   {
    "duration": 9,
    "start_time": "2025-03-24T15:40:55.471Z"
   },
   {
    "duration": 8512,
    "start_time": "2025-03-24T15:45:48.000Z"
   },
   {
    "duration": 18,
    "start_time": "2025-03-24T15:51:00.751Z"
   },
   {
    "duration": 9796,
    "start_time": "2025-03-24T16:52:45.182Z"
   },
   {
    "duration": 800,
    "start_time": "2025-03-24T16:52:54.980Z"
   },
   {
    "duration": 3,
    "start_time": "2025-03-24T16:52:55.782Z"
   },
   {
    "duration": 203,
    "start_time": "2025-03-24T16:52:55.787Z"
   },
   {
    "duration": 1296,
    "start_time": "2025-03-24T16:52:55.992Z"
   },
   {
    "duration": 921,
    "start_time": "2025-03-24T16:52:57.290Z"
   },
   {
    "duration": 5,
    "start_time": "2025-03-24T16:52:58.213Z"
   },
   {
    "duration": 6,
    "start_time": "2025-03-24T16:52:58.220Z"
   },
   {
    "duration": 8,
    "start_time": "2025-03-24T16:52:58.228Z"
   },
   {
    "duration": 38,
    "start_time": "2025-03-24T16:52:58.258Z"
   },
   {
    "duration": 87,
    "start_time": "2025-03-24T16:52:58.297Z"
   },
   {
    "duration": 247,
    "start_time": "2025-03-24T16:52:58.386Z"
   },
   {
    "duration": 3,
    "start_time": "2025-03-24T16:52:58.635Z"
   },
   {
    "duration": 246,
    "start_time": "2025-03-24T16:52:58.639Z"
   },
   {
    "duration": 527,
    "start_time": "2025-03-24T16:52:58.887Z"
   },
   {
    "duration": 4,
    "start_time": "2025-03-24T16:52:59.416Z"
   },
   {
    "duration": 23,
    "start_time": "2025-03-24T16:52:59.421Z"
   },
   {
    "duration": 44,
    "start_time": "2025-03-24T16:52:59.445Z"
   },
   {
    "duration": 8,
    "start_time": "2025-03-24T16:52:59.490Z"
   },
   {
    "duration": 180,
    "start_time": "2025-03-24T16:52:59.499Z"
   },
   {
    "duration": 1123,
    "start_time": "2025-03-24T16:52:59.681Z"
   },
   {
    "duration": 17,
    "start_time": "2025-03-24T16:53:00.806Z"
   },
   {
    "duration": 39,
    "start_time": "2025-03-24T16:53:00.824Z"
   },
   {
    "duration": 4,
    "start_time": "2025-03-24T16:53:00.864Z"
   },
   {
    "duration": 151,
    "start_time": "2025-03-24T16:53:00.869Z"
   },
   {
    "duration": 166,
    "start_time": "2025-03-24T16:53:01.021Z"
   },
   {
    "duration": 1154,
    "start_time": "2025-03-24T16:53:01.188Z"
   },
   {
    "duration": 5,
    "start_time": "2025-03-24T16:53:02.355Z"
   },
   {
    "duration": 47,
    "start_time": "2025-03-24T16:53:02.362Z"
   },
   {
    "duration": 4,
    "start_time": "2025-03-24T16:53:02.411Z"
   },
   {
    "duration": 15,
    "start_time": "2025-03-24T16:53:02.416Z"
   },
   {
    "duration": 24,
    "start_time": "2025-03-24T16:53:02.433Z"
   },
   {
    "duration": 75,
    "start_time": "2025-03-24T16:53:02.458Z"
   },
   {
    "duration": 56,
    "start_time": "2025-03-24T16:53:02.535Z"
   },
   {
    "duration": 14,
    "start_time": "2025-03-24T16:53:02.592Z"
   },
   {
    "duration": 16,
    "start_time": "2025-03-24T16:53:02.607Z"
   },
   {
    "duration": 5,
    "start_time": "2025-03-24T16:53:02.624Z"
   },
   {
    "duration": 2071,
    "start_time": "2025-03-24T16:53:02.631Z"
   },
   {
    "duration": 14445,
    "start_time": "2025-03-24T16:53:04.703Z"
   },
   {
    "duration": 50,
    "start_time": "2025-03-24T16:53:19.149Z"
   },
   {
    "duration": 26,
    "start_time": "2025-03-24T16:53:19.201Z"
   },
   {
    "duration": 39,
    "start_time": "2025-03-24T16:53:19.229Z"
   },
   {
    "duration": 23,
    "start_time": "2025-03-24T16:53:19.269Z"
   },
   {
    "duration": 37,
    "start_time": "2025-03-24T16:53:19.293Z"
   },
   {
    "duration": 27,
    "start_time": "2025-03-24T16:53:19.332Z"
   },
   {
    "duration": 21,
    "start_time": "2025-03-24T16:53:19.361Z"
   },
   {
    "duration": 23,
    "start_time": "2025-03-24T16:53:19.383Z"
   },
   {
    "duration": 27,
    "start_time": "2025-03-24T16:53:19.408Z"
   },
   {
    "duration": 21,
    "start_time": "2025-03-24T16:53:19.437Z"
   },
   {
    "duration": 504,
    "start_time": "2025-03-24T16:53:19.459Z"
   },
   {
    "duration": 826,
    "start_time": "2025-03-24T16:53:19.964Z"
   },
   {
    "duration": 606,
    "start_time": "2025-03-24T16:53:20.792Z"
   },
   {
    "duration": 531,
    "start_time": "2025-03-24T16:53:21.400Z"
   },
   {
    "duration": 3,
    "start_time": "2025-03-24T16:53:21.933Z"
   },
   {
    "duration": 5,
    "start_time": "2025-03-24T16:53:21.937Z"
   },
   {
    "duration": 157,
    "start_time": "2025-03-24T16:53:21.943Z"
   },
   {
    "duration": 11,
    "start_time": "2025-03-24T16:53:22.102Z"
   },
   {
    "duration": 9,
    "start_time": "2025-03-24T16:53:22.115Z"
   },
   {
    "duration": 87,
    "start_time": "2025-03-24T16:53:22.125Z"
   },
   {
    "duration": 3,
    "start_time": "2025-03-24T16:53:22.214Z"
   },
   {
    "duration": 5098,
    "start_time": "2025-03-24T16:53:22.218Z"
   },
   {
    "duration": 8729,
    "start_time": "2025-03-24T16:53:27.318Z"
   },
   {
    "duration": 60,
    "start_time": "2025-03-24T16:53:36.056Z"
   },
   {
    "duration": 7,
    "start_time": "2025-03-24T16:53:36.118Z"
   },
   {
    "duration": 14,
    "start_time": "2025-03-24T16:53:36.126Z"
   },
   {
    "duration": 32,
    "start_time": "2025-03-24T16:53:36.141Z"
   },
   {
    "duration": 36,
    "start_time": "2025-03-24T16:53:36.174Z"
   },
   {
    "duration": 49,
    "start_time": "2025-03-24T16:53:36.211Z"
   },
   {
    "duration": 39,
    "start_time": "2025-03-24T16:53:36.261Z"
   },
   {
    "duration": 83,
    "start_time": "2025-03-24T16:53:36.301Z"
   },
   {
    "duration": 0,
    "start_time": "2025-03-24T16:53:36.385Z"
   },
   {
    "duration": 0,
    "start_time": "2025-03-24T16:53:36.387Z"
   },
   {
    "duration": 0,
    "start_time": "2025-03-24T16:53:36.388Z"
   },
   {
    "duration": 0,
    "start_time": "2025-03-24T16:53:36.389Z"
   },
   {
    "duration": 0,
    "start_time": "2025-03-24T16:53:36.390Z"
   },
   {
    "duration": 0,
    "start_time": "2025-03-24T16:53:36.391Z"
   },
   {
    "duration": 0,
    "start_time": "2025-03-24T16:53:36.392Z"
   },
   {
    "duration": 0,
    "start_time": "2025-03-24T16:53:36.393Z"
   },
   {
    "duration": 0,
    "start_time": "2025-03-24T16:53:36.395Z"
   },
   {
    "duration": 0,
    "start_time": "2025-03-24T16:53:36.396Z"
   },
   {
    "duration": 0,
    "start_time": "2025-03-24T16:53:36.396Z"
   },
   {
    "duration": 0,
    "start_time": "2025-03-24T16:53:36.398Z"
   },
   {
    "duration": 0,
    "start_time": "2025-03-24T16:53:36.399Z"
   },
   {
    "duration": 0,
    "start_time": "2025-03-24T16:53:36.400Z"
   },
   {
    "duration": 0,
    "start_time": "2025-03-24T16:53:36.401Z"
   },
   {
    "duration": 0,
    "start_time": "2025-03-24T16:53:36.401Z"
   },
   {
    "duration": 0,
    "start_time": "2025-03-24T16:53:36.402Z"
   },
   {
    "duration": 0,
    "start_time": "2025-03-24T16:53:36.403Z"
   },
   {
    "duration": 0,
    "start_time": "2025-03-24T16:53:36.404Z"
   },
   {
    "duration": 0,
    "start_time": "2025-03-24T16:53:36.405Z"
   },
   {
    "duration": 0,
    "start_time": "2025-03-24T16:53:36.406Z"
   },
   {
    "duration": 9780,
    "start_time": "2025-03-24T16:53:55.978Z"
   },
   {
    "duration": 1050,
    "start_time": "2025-03-24T16:54:46.276Z"
   },
   {
    "duration": 66,
    "start_time": "2025-03-24T16:54:53.140Z"
   },
   {
    "duration": 25,
    "start_time": "2025-03-24T16:54:56.546Z"
   },
   {
    "duration": 27,
    "start_time": "2025-03-24T16:54:59.612Z"
   },
   {
    "duration": 78,
    "start_time": "2025-03-24T16:55:09.742Z"
   },
   {
    "duration": 61,
    "start_time": "2025-03-24T16:55:24.083Z"
   },
   {
    "duration": 13795,
    "start_time": "2025-03-24T16:55:39.583Z"
   },
   {
    "duration": 16,
    "start_time": "2025-03-24T16:56:22.403Z"
   },
   {
    "duration": 14401,
    "start_time": "2025-03-24T16:56:29.974Z"
   },
   {
    "duration": 1130171,
    "start_time": "2025-03-24T16:57:54.742Z"
   },
   {
    "duration": 87246,
    "start_time": "2025-03-24T17:54:45.516Z"
   },
   {
    "duration": 44184,
    "start_time": "2025-03-24T17:56:43.344Z"
   },
   {
    "duration": 13381,
    "start_time": "2025-03-24T17:59:13.206Z"
   },
   {
    "duration": 83557,
    "start_time": "2025-03-24T18:00:26.231Z"
   },
   {
    "duration": 6735291,
    "start_time": "2025-03-24T18:03:13.612Z"
   },
   {
    "duration": 46,
    "start_time": "2025-03-25T05:13:11.413Z"
   },
   {
    "duration": 14397,
    "start_time": "2025-03-25T05:14:21.589Z"
   },
   {
    "duration": 929,
    "start_time": "2025-03-25T05:14:35.988Z"
   },
   {
    "duration": 4,
    "start_time": "2025-03-25T05:14:36.918Z"
   },
   {
    "duration": 254,
    "start_time": "2025-03-25T05:14:36.924Z"
   },
   {
    "duration": 1412,
    "start_time": "2025-03-25T05:14:37.180Z"
   },
   {
    "duration": 1068,
    "start_time": "2025-03-25T05:14:38.593Z"
   },
   {
    "duration": 5,
    "start_time": "2025-03-25T05:14:39.663Z"
   },
   {
    "duration": 26,
    "start_time": "2025-03-25T05:14:39.670Z"
   },
   {
    "duration": 7,
    "start_time": "2025-03-25T05:14:39.697Z"
   },
   {
    "duration": 23,
    "start_time": "2025-03-25T05:14:39.707Z"
   },
   {
    "duration": 102,
    "start_time": "2025-03-25T05:14:39.732Z"
   },
   {
    "duration": 298,
    "start_time": "2025-03-25T05:14:39.836Z"
   },
   {
    "duration": 3,
    "start_time": "2025-03-25T05:14:40.136Z"
   },
   {
    "duration": 254,
    "start_time": "2025-03-25T05:14:40.140Z"
   },
   {
    "duration": 516,
    "start_time": "2025-03-25T05:14:40.396Z"
   },
   {
    "duration": 3,
    "start_time": "2025-03-25T05:14:40.914Z"
   },
   {
    "duration": 11,
    "start_time": "2025-03-25T05:14:40.919Z"
   },
   {
    "duration": 37,
    "start_time": "2025-03-25T05:14:40.931Z"
   },
   {
    "duration": 9,
    "start_time": "2025-03-25T05:14:40.969Z"
   },
   {
    "duration": 208,
    "start_time": "2025-03-25T05:14:40.979Z"
   },
   {
    "duration": 1341,
    "start_time": "2025-03-25T05:14:41.189Z"
   },
   {
    "duration": 18,
    "start_time": "2025-03-25T05:14:42.531Z"
   },
   {
    "duration": 39,
    "start_time": "2025-03-25T05:14:42.551Z"
   },
   {
    "duration": 4,
    "start_time": "2025-03-25T05:14:42.591Z"
   },
   {
    "duration": 20,
    "start_time": "2025-03-25T05:14:42.596Z"
   },
   {
    "duration": 200,
    "start_time": "2025-03-25T05:14:42.617Z"
   },
   {
    "duration": 1353,
    "start_time": "2025-03-25T05:14:42.818Z"
   },
   {
    "duration": 5,
    "start_time": "2025-03-25T05:14:44.175Z"
   },
   {
    "duration": 36,
    "start_time": "2025-03-25T05:14:44.182Z"
   },
   {
    "duration": 4,
    "start_time": "2025-03-25T05:14:44.220Z"
   },
   {
    "duration": 42,
    "start_time": "2025-03-25T05:14:44.225Z"
   },
   {
    "duration": 24,
    "start_time": "2025-03-25T05:14:44.269Z"
   },
   {
    "duration": 4,
    "start_time": "2025-03-25T05:14:44.294Z"
   },
   {
    "duration": 14,
    "start_time": "2025-03-25T05:14:44.299Z"
   },
   {
    "duration": 3,
    "start_time": "2025-03-25T05:14:44.314Z"
   },
   {
    "duration": 61,
    "start_time": "2025-03-25T05:14:44.318Z"
   },
   {
    "duration": 4,
    "start_time": "2025-03-25T05:14:44.381Z"
   },
   {
    "duration": 2242,
    "start_time": "2025-03-25T05:14:44.387Z"
   },
   {
    "duration": 14401,
    "start_time": "2025-03-25T05:14:46.631Z"
   },
   {
    "duration": 56,
    "start_time": "2025-03-25T05:15:01.033Z"
   },
   {
    "duration": 32,
    "start_time": "2025-03-25T05:15:01.091Z"
   },
   {
    "duration": 21,
    "start_time": "2025-03-25T05:15:01.124Z"
   },
   {
    "duration": 39,
    "start_time": "2025-03-25T05:15:01.146Z"
   },
   {
    "duration": 5,
    "start_time": "2025-03-25T05:15:01.187Z"
   },
   {
    "duration": 7,
    "start_time": "2025-03-25T05:15:01.193Z"
   },
   {
    "duration": 17,
    "start_time": "2025-03-25T05:15:01.202Z"
   },
   {
    "duration": 51,
    "start_time": "2025-03-25T05:15:01.220Z"
   },
   {
    "duration": 31,
    "start_time": "2025-03-25T05:15:01.273Z"
   },
   {
    "duration": 17,
    "start_time": "2025-03-25T05:15:01.305Z"
   },
   {
    "duration": 816,
    "start_time": "2025-03-25T05:15:01.323Z"
   },
   {
    "duration": 628,
    "start_time": "2025-03-25T05:15:02.141Z"
   },
   {
    "duration": 608,
    "start_time": "2025-03-25T05:15:02.771Z"
   },
   {
    "duration": 551,
    "start_time": "2025-03-25T05:15:03.381Z"
   },
   {
    "duration": 4,
    "start_time": "2025-03-25T05:15:03.934Z"
   },
   {
    "duration": 19,
    "start_time": "2025-03-25T05:15:03.939Z"
   },
   {
    "duration": 41,
    "start_time": "2025-03-25T05:15:03.959Z"
   },
   {
    "duration": 11,
    "start_time": "2025-03-25T05:15:04.001Z"
   },
   {
    "duration": 10,
    "start_time": "2025-03-25T05:15:04.013Z"
   },
   {
    "duration": 64,
    "start_time": "2025-03-25T05:15:04.024Z"
   },
   {
    "duration": 3,
    "start_time": "2025-03-25T05:15:04.090Z"
   },
   {
    "duration": 5908,
    "start_time": "2025-03-25T05:15:04.095Z"
   },
   {
    "duration": 8810,
    "start_time": "2025-03-25T05:15:10.005Z"
   },
   {
    "duration": 68,
    "start_time": "2025-03-25T05:15:18.816Z"
   },
   {
    "duration": 4,
    "start_time": "2025-03-25T05:15:18.885Z"
   },
   {
    "duration": 4,
    "start_time": "2025-03-25T05:15:18.890Z"
   },
   {
    "duration": 8,
    "start_time": "2025-03-25T05:15:18.895Z"
   },
   {
    "duration": 17,
    "start_time": "2025-03-25T05:15:18.904Z"
   },
   {
    "duration": 10,
    "start_time": "2025-03-25T05:15:18.922Z"
   },
   {
    "duration": 16,
    "start_time": "2025-03-25T05:15:18.933Z"
   },
   {
    "duration": 12677,
    "start_time": "2025-03-25T05:15:18.950Z"
   },
   {
    "duration": 1302,
    "start_time": "2025-03-25T05:15:31.629Z"
   },
   {
    "duration": 88,
    "start_time": "2025-03-25T05:15:32.933Z"
   },
   {
    "duration": 25,
    "start_time": "2025-03-25T05:15:33.023Z"
   },
   {
    "duration": 41,
    "start_time": "2025-03-25T05:15:33.049Z"
   },
   {
    "duration": 87,
    "start_time": "2025-03-25T05:15:33.091Z"
   },
   {
    "duration": 15397,
    "start_time": "2025-03-25T05:15:33.179Z"
   },
   {
    "duration": 16,
    "start_time": "2025-03-25T05:15:48.578Z"
   },
   {
    "duration": 15954,
    "start_time": "2025-03-25T05:15:48.596Z"
   },
   {
    "duration": 3,
    "start_time": "2025-03-25T05:16:04.552Z"
   },
   {
    "duration": 3,
    "start_time": "2025-03-25T05:16:04.566Z"
   },
   {
    "duration": 7,
    "start_time": "2025-03-25T05:16:04.571Z"
   },
   {
    "duration": 2,
    "start_time": "2025-03-25T05:16:04.584Z"
   },
   {
    "duration": 112,
    "start_time": "2025-03-25T05:16:04.588Z"
   },
   {
    "duration": 0,
    "start_time": "2025-03-25T05:16:04.702Z"
   },
   {
    "duration": 0,
    "start_time": "2025-03-25T05:16:04.704Z"
   },
   {
    "duration": 1,
    "start_time": "2025-03-25T05:16:04.705Z"
   },
   {
    "duration": 0,
    "start_time": "2025-03-25T05:16:04.707Z"
   },
   {
    "duration": 0,
    "start_time": "2025-03-25T05:16:04.708Z"
   },
   {
    "duration": 0,
    "start_time": "2025-03-25T05:16:04.710Z"
   },
   {
    "duration": 0,
    "start_time": "2025-03-25T05:16:04.711Z"
   },
   {
    "duration": 0,
    "start_time": "2025-03-25T05:16:04.713Z"
   },
   {
    "duration": 4,
    "start_time": "2025-03-25T05:29:36.402Z"
   },
   {
    "duration": 29,
    "start_time": "2025-03-25T05:30:03.188Z"
   },
   {
    "duration": 422602,
    "start_time": "2025-03-25T05:57:42.088Z"
   },
   {
    "duration": 18,
    "start_time": "2025-03-25T06:15:14.542Z"
   },
   {
    "duration": 909567,
    "start_time": "2025-03-25T06:19:50.317Z"
   },
   {
    "duration": 17,
    "start_time": "2025-03-25T06:37:17.162Z"
   },
   {
    "duration": 38699,
    "start_time": "2025-03-25T07:40:24.384Z"
   },
   {
    "duration": 15,
    "start_time": "2025-03-25T07:43:01.780Z"
   },
   {
    "duration": 189243,
    "start_time": "2025-03-25T07:47:18.679Z"
   },
   {
    "duration": 13,
    "start_time": "2025-03-25T07:52:52.842Z"
   },
   {
    "duration": 233734,
    "start_time": "2025-03-25T07:56:59.789Z"
   },
   {
    "duration": 14,
    "start_time": "2025-03-25T08:02:22.874Z"
   },
   {
    "duration": 8002,
    "start_time": "2025-03-25T08:03:08.780Z"
   },
   {
    "duration": 7706,
    "start_time": "2025-03-25T08:03:36.859Z"
   },
   {
    "duration": 26,
    "start_time": "2025-03-25T08:06:19.306Z"
   },
   {
    "duration": 177632,
    "start_time": "2025-03-25T08:06:43.315Z"
   },
   {
    "duration": 14,
    "start_time": "2025-03-25T08:10:32.311Z"
   },
   {
    "duration": 102139,
    "start_time": "2025-03-25T08:12:01.390Z"
   },
   {
    "duration": 13,
    "start_time": "2025-03-25T08:14:06.061Z"
   },
   {
    "duration": 7971,
    "start_time": "2025-03-25T08:27:31.417Z"
   },
   {
    "duration": 16772,
    "start_time": "2025-03-25T08:55:40.754Z"
   },
   {
    "duration": 7688,
    "start_time": "2025-03-25T08:56:42.496Z"
   },
   {
    "duration": 170349,
    "start_time": "2025-03-25T08:56:55.393Z"
   },
   {
    "duration": 137,
    "start_time": "2025-03-25T08:59:59.761Z"
   },
   {
    "duration": 16,
    "start_time": "2025-03-25T09:02:36.442Z"
   },
   {
    "duration": 170232,
    "start_time": "2025-03-25T09:03:18.889Z"
   },
   {
    "duration": 8,
    "start_time": "2025-03-25T09:07:20.467Z"
   },
   {
    "duration": 48,
    "start_time": "2025-03-25T13:18:27.543Z"
   },
   {
    "duration": 24292,
    "start_time": "2025-03-25T13:26:02.495Z"
   },
   {
    "duration": 963,
    "start_time": "2025-03-25T13:26:26.789Z"
   },
   {
    "duration": 6,
    "start_time": "2025-03-25T13:26:27.754Z"
   },
   {
    "duration": 237,
    "start_time": "2025-03-25T13:26:27.761Z"
   },
   {
    "duration": 1506,
    "start_time": "2025-03-25T13:26:28.000Z"
   },
   {
    "duration": 1112,
    "start_time": "2025-03-25T13:26:29.508Z"
   },
   {
    "duration": 4,
    "start_time": "2025-03-25T13:26:30.622Z"
   },
   {
    "duration": 59,
    "start_time": "2025-03-25T13:26:30.627Z"
   },
   {
    "duration": 6,
    "start_time": "2025-03-25T13:26:30.688Z"
   },
   {
    "duration": 35,
    "start_time": "2025-03-25T13:26:30.695Z"
   },
   {
    "duration": 94,
    "start_time": "2025-03-25T13:26:30.732Z"
   },
   {
    "duration": 313,
    "start_time": "2025-03-25T13:26:30.828Z"
   },
   {
    "duration": 3,
    "start_time": "2025-03-25T13:26:31.142Z"
   },
   {
    "duration": 258,
    "start_time": "2025-03-25T13:26:31.160Z"
   },
   {
    "duration": 591,
    "start_time": "2025-03-25T13:26:31.420Z"
   },
   {
    "duration": 4,
    "start_time": "2025-03-25T13:26:32.013Z"
   },
   {
    "duration": 49,
    "start_time": "2025-03-25T13:26:32.019Z"
   },
   {
    "duration": 21,
    "start_time": "2025-03-25T13:26:32.069Z"
   },
   {
    "duration": 9,
    "start_time": "2025-03-25T13:26:32.092Z"
   },
   {
    "duration": 233,
    "start_time": "2025-03-25T13:26:32.103Z"
   },
   {
    "duration": 1372,
    "start_time": "2025-03-25T13:26:32.337Z"
   },
   {
    "duration": 20,
    "start_time": "2025-03-25T13:26:33.711Z"
   },
   {
    "duration": 41,
    "start_time": "2025-03-25T13:26:33.733Z"
   },
   {
    "duration": 5,
    "start_time": "2025-03-25T13:26:33.777Z"
   },
   {
    "duration": 22,
    "start_time": "2025-03-25T13:26:33.783Z"
   },
   {
    "duration": 223,
    "start_time": "2025-03-25T13:26:33.807Z"
   },
   {
    "duration": 1449,
    "start_time": "2025-03-25T13:26:34.032Z"
   },
   {
    "duration": 6,
    "start_time": "2025-03-25T13:26:35.483Z"
   },
   {
    "duration": 27,
    "start_time": "2025-03-25T13:26:35.491Z"
   },
   {
    "duration": 5,
    "start_time": "2025-03-25T13:26:35.519Z"
   },
   {
    "duration": 46,
    "start_time": "2025-03-25T13:26:35.526Z"
   },
   {
    "duration": 24,
    "start_time": "2025-03-25T13:26:35.574Z"
   },
   {
    "duration": 114,
    "start_time": "2025-03-25T13:26:35.600Z"
   },
   {
    "duration": 31,
    "start_time": "2025-03-25T13:26:35.716Z"
   },
   {
    "duration": 4,
    "start_time": "2025-03-25T13:26:35.749Z"
   },
   {
    "duration": 16,
    "start_time": "2025-03-25T13:26:35.755Z"
   },
   {
    "duration": 22,
    "start_time": "2025-03-25T13:26:35.773Z"
   },
   {
    "duration": 2255,
    "start_time": "2025-03-25T13:26:35.797Z"
   },
   {
    "duration": 15101,
    "start_time": "2025-03-25T13:26:38.057Z"
   },
   {
    "duration": 40,
    "start_time": "2025-03-25T13:26:53.160Z"
   },
   {
    "duration": 57,
    "start_time": "2025-03-25T13:26:53.205Z"
   },
   {
    "duration": 19,
    "start_time": "2025-03-25T13:26:53.263Z"
   },
   {
    "duration": 22,
    "start_time": "2025-03-25T13:26:53.283Z"
   },
   {
    "duration": 5,
    "start_time": "2025-03-25T13:26:53.307Z"
   },
   {
    "duration": 6,
    "start_time": "2025-03-25T13:26:53.313Z"
   },
   {
    "duration": 51,
    "start_time": "2025-03-25T13:26:53.321Z"
   },
   {
    "duration": 26,
    "start_time": "2025-03-25T13:26:53.374Z"
   },
   {
    "duration": 21,
    "start_time": "2025-03-25T13:26:53.402Z"
   },
   {
    "duration": 38,
    "start_time": "2025-03-25T13:26:53.424Z"
   },
   {
    "duration": 878,
    "start_time": "2025-03-25T13:26:53.464Z"
   },
   {
    "duration": 620,
    "start_time": "2025-03-25T13:26:54.344Z"
   },
   {
    "duration": 688,
    "start_time": "2025-03-25T13:26:54.966Z"
   },
   {
    "duration": 572,
    "start_time": "2025-03-25T13:26:55.658Z"
   },
   {
    "duration": 4,
    "start_time": "2025-03-25T13:26:56.231Z"
   },
   {
    "duration": 4,
    "start_time": "2025-03-25T13:26:56.237Z"
   },
   {
    "duration": 28,
    "start_time": "2025-03-25T13:26:56.258Z"
   },
   {
    "duration": 11,
    "start_time": "2025-03-25T13:26:56.288Z"
   },
   {
    "duration": 3,
    "start_time": "2025-03-25T13:26:56.301Z"
   },
   {
    "duration": 88,
    "start_time": "2025-03-25T13:26:56.306Z"
   },
   {
    "duration": 3,
    "start_time": "2025-03-25T13:26:56.395Z"
   },
   {
    "duration": 5873,
    "start_time": "2025-03-25T13:26:56.400Z"
   },
   {
    "duration": 9191,
    "start_time": "2025-03-25T13:27:02.275Z"
   },
   {
    "duration": 63,
    "start_time": "2025-03-25T13:27:11.467Z"
   },
   {
    "duration": 4,
    "start_time": "2025-03-25T13:27:11.531Z"
   },
   {
    "duration": 10,
    "start_time": "2025-03-25T13:27:11.537Z"
   },
   {
    "duration": 3,
    "start_time": "2025-03-25T13:27:11.559Z"
   },
   {
    "duration": 22,
    "start_time": "2025-03-25T13:27:11.564Z"
   },
   {
    "duration": 68,
    "start_time": "2025-03-25T13:27:11.588Z"
   },
   {
    "duration": 12591,
    "start_time": "2025-03-25T13:27:11.658Z"
   },
   {
    "duration": 69,
    "start_time": "2025-03-25T13:27:24.251Z"
   },
   {
    "duration": 0,
    "start_time": "2025-03-25T13:27:24.322Z"
   },
   {
    "duration": 0,
    "start_time": "2025-03-25T13:27:24.324Z"
   },
   {
    "duration": 0,
    "start_time": "2025-03-25T13:27:24.325Z"
   },
   {
    "duration": 0,
    "start_time": "2025-03-25T13:27:24.326Z"
   },
   {
    "duration": 0,
    "start_time": "2025-03-25T13:27:24.327Z"
   },
   {
    "duration": 0,
    "start_time": "2025-03-25T13:27:24.328Z"
   },
   {
    "duration": 0,
    "start_time": "2025-03-25T13:27:24.329Z"
   },
   {
    "duration": 0,
    "start_time": "2025-03-25T13:27:24.330Z"
   },
   {
    "duration": 0,
    "start_time": "2025-03-25T13:27:24.331Z"
   },
   {
    "duration": 0,
    "start_time": "2025-03-25T13:27:24.332Z"
   },
   {
    "duration": 0,
    "start_time": "2025-03-25T13:27:24.333Z"
   },
   {
    "duration": 0,
    "start_time": "2025-03-25T13:27:24.334Z"
   },
   {
    "duration": 0,
    "start_time": "2025-03-25T13:27:24.336Z"
   },
   {
    "duration": 0,
    "start_time": "2025-03-25T13:27:24.337Z"
   },
   {
    "duration": 0,
    "start_time": "2025-03-25T13:27:24.338Z"
   },
   {
    "duration": 0,
    "start_time": "2025-03-25T13:27:24.339Z"
   },
   {
    "duration": 0,
    "start_time": "2025-03-25T13:27:24.340Z"
   },
   {
    "duration": 0,
    "start_time": "2025-03-25T13:27:24.341Z"
   },
   {
    "duration": 0,
    "start_time": "2025-03-25T13:27:24.342Z"
   },
   {
    "duration": 1,
    "start_time": "2025-03-25T13:27:24.343Z"
   },
   {
    "duration": 0,
    "start_time": "2025-03-25T13:27:24.344Z"
   },
   {
    "duration": 0,
    "start_time": "2025-03-25T13:27:24.345Z"
   },
   {
    "duration": 0,
    "start_time": "2025-03-25T13:27:24.347Z"
   },
   {
    "duration": 0,
    "start_time": "2025-03-25T13:27:24.347Z"
   },
   {
    "duration": 0,
    "start_time": "2025-03-25T13:27:24.348Z"
   },
   {
    "duration": 0,
    "start_time": "2025-03-25T13:27:24.350Z"
   },
   {
    "duration": 0,
    "start_time": "2025-03-25T13:27:24.351Z"
   },
   {
    "duration": 0,
    "start_time": "2025-03-25T13:27:24.353Z"
   },
   {
    "duration": 0,
    "start_time": "2025-03-25T13:27:24.354Z"
   },
   {
    "duration": 0,
    "start_time": "2025-03-25T13:27:24.355Z"
   },
   {
    "duration": 0,
    "start_time": "2025-03-25T13:27:24.356Z"
   },
   {
    "duration": 84,
    "start_time": "2025-03-25T13:32:34.895Z"
   },
   {
    "duration": 28,
    "start_time": "2025-03-25T13:32:47.438Z"
   },
   {
    "duration": 66,
    "start_time": "2025-03-25T13:32:57.193Z"
   },
   {
    "duration": 15481,
    "start_time": "2025-03-25T13:33:03.959Z"
   },
   {
    "duration": 9943,
    "start_time": "2025-03-25T13:37:12.307Z"
   },
   {
    "duration": 981,
    "start_time": "2025-03-25T13:37:22.252Z"
   },
   {
    "duration": 4,
    "start_time": "2025-03-25T13:37:23.234Z"
   },
   {
    "duration": 278,
    "start_time": "2025-03-25T13:37:23.240Z"
   },
   {
    "duration": 1580,
    "start_time": "2025-03-25T13:37:23.522Z"
   },
   {
    "duration": 1194,
    "start_time": "2025-03-25T13:37:25.104Z"
   },
   {
    "duration": 4,
    "start_time": "2025-03-25T13:37:26.300Z"
   },
   {
    "duration": 5,
    "start_time": "2025-03-25T13:37:26.306Z"
   },
   {
    "duration": 7,
    "start_time": "2025-03-25T13:37:26.312Z"
   },
   {
    "duration": 53,
    "start_time": "2025-03-25T13:37:26.321Z"
   },
   {
    "duration": 106,
    "start_time": "2025-03-25T13:37:26.376Z"
   },
   {
    "duration": 337,
    "start_time": "2025-03-25T13:37:26.484Z"
   },
   {
    "duration": 2,
    "start_time": "2025-03-25T13:37:26.823Z"
   },
   {
    "duration": 354,
    "start_time": "2025-03-25T13:37:26.828Z"
   },
   {
    "duration": 593,
    "start_time": "2025-03-25T13:37:27.184Z"
   },
   {
    "duration": 6,
    "start_time": "2025-03-25T13:37:27.778Z"
   },
   {
    "duration": 14,
    "start_time": "2025-03-25T13:37:27.786Z"
   },
   {
    "duration": 20,
    "start_time": "2025-03-25T13:37:27.801Z"
   },
   {
    "duration": 39,
    "start_time": "2025-03-25T13:37:27.823Z"
   },
   {
    "duration": 230,
    "start_time": "2025-03-25T13:37:27.864Z"
   },
   {
    "duration": 1452,
    "start_time": "2025-03-25T13:37:28.096Z"
   },
   {
    "duration": 26,
    "start_time": "2025-03-25T13:37:29.550Z"
   },
   {
    "duration": 26,
    "start_time": "2025-03-25T13:37:29.578Z"
   },
   {
    "duration": 4,
    "start_time": "2025-03-25T13:37:29.606Z"
   },
   {
    "duration": 122,
    "start_time": "2025-03-25T13:37:29.611Z"
   },
   {
    "duration": 213,
    "start_time": "2025-03-25T13:37:29.734Z"
   },
   {
    "duration": 1510,
    "start_time": "2025-03-25T13:37:29.948Z"
   },
   {
    "duration": 5,
    "start_time": "2025-03-25T13:37:31.459Z"
   },
   {
    "duration": 37,
    "start_time": "2025-03-25T13:37:31.466Z"
   },
   {
    "duration": 4,
    "start_time": "2025-03-25T13:37:31.504Z"
   },
   {
    "duration": 23,
    "start_time": "2025-03-25T13:37:31.510Z"
   },
   {
    "duration": 32,
    "start_time": "2025-03-25T13:37:31.558Z"
   },
   {
    "duration": 5,
    "start_time": "2025-03-25T13:37:31.592Z"
   },
   {
    "duration": 31,
    "start_time": "2025-03-25T13:37:31.599Z"
   },
   {
    "duration": 115,
    "start_time": "2025-03-25T13:37:31.632Z"
   },
   {
    "duration": 4,
    "start_time": "2025-03-25T13:37:31.750Z"
   },
   {
    "duration": 7,
    "start_time": "2025-03-25T13:37:31.755Z"
   },
   {
    "duration": 2569,
    "start_time": "2025-03-25T13:37:31.763Z"
   },
   {
    "duration": 15418,
    "start_time": "2025-03-25T13:37:34.334Z"
   },
   {
    "duration": 41,
    "start_time": "2025-03-25T13:37:49.757Z"
   },
   {
    "duration": 57,
    "start_time": "2025-03-25T13:37:49.802Z"
   },
   {
    "duration": 19,
    "start_time": "2025-03-25T13:37:49.860Z"
   },
   {
    "duration": 21,
    "start_time": "2025-03-25T13:37:49.880Z"
   },
   {
    "duration": 5,
    "start_time": "2025-03-25T13:37:49.903Z"
   },
   {
    "duration": 6,
    "start_time": "2025-03-25T13:37:49.910Z"
   },
   {
    "duration": 48,
    "start_time": "2025-03-25T13:37:49.917Z"
   },
   {
    "duration": 59,
    "start_time": "2025-03-25T13:37:49.967Z"
   },
   {
    "duration": 75,
    "start_time": "2025-03-25T13:37:50.027Z"
   },
   {
    "duration": 18,
    "start_time": "2025-03-25T13:37:50.103Z"
   },
   {
    "duration": 576,
    "start_time": "2025-03-25T13:37:50.122Z"
   },
   {
    "duration": 897,
    "start_time": "2025-03-25T13:37:50.700Z"
   },
   {
    "duration": 678,
    "start_time": "2025-03-25T13:37:51.599Z"
   },
   {
    "duration": 580,
    "start_time": "2025-03-25T13:37:52.278Z"
   },
   {
    "duration": 4,
    "start_time": "2025-03-25T13:37:52.859Z"
   },
   {
    "duration": 34,
    "start_time": "2025-03-25T13:37:52.865Z"
   },
   {
    "duration": 31,
    "start_time": "2025-03-25T13:37:52.900Z"
   },
   {
    "duration": 11,
    "start_time": "2025-03-25T13:37:52.932Z"
   },
   {
    "duration": 6,
    "start_time": "2025-03-25T13:37:52.944Z"
   },
   {
    "duration": 62,
    "start_time": "2025-03-25T13:37:52.952Z"
   },
   {
    "duration": 3,
    "start_time": "2025-03-25T13:37:53.016Z"
   },
   {
    "duration": 5913,
    "start_time": "2025-03-25T13:37:53.020Z"
   },
   {
    "duration": 9323,
    "start_time": "2025-03-25T13:37:58.935Z"
   },
   {
    "duration": 62,
    "start_time": "2025-03-25T13:38:08.260Z"
   },
   {
    "duration": 3,
    "start_time": "2025-03-25T13:38:08.324Z"
   },
   {
    "duration": 7,
    "start_time": "2025-03-25T13:38:08.329Z"
   },
   {
    "duration": 5,
    "start_time": "2025-03-25T13:38:08.338Z"
   },
   {
    "duration": 5,
    "start_time": "2025-03-25T13:38:08.359Z"
   },
   {
    "duration": 17,
    "start_time": "2025-03-25T13:38:08.366Z"
   },
   {
    "duration": 15266,
    "start_time": "2025-03-25T13:38:08.384Z"
   },
   {
    "duration": 74,
    "start_time": "2025-03-25T13:38:23.658Z"
   },
   {
    "duration": 0,
    "start_time": "2025-03-25T13:38:23.734Z"
   },
   {
    "duration": 0,
    "start_time": "2025-03-25T13:38:23.735Z"
   },
   {
    "duration": 0,
    "start_time": "2025-03-25T13:38:23.736Z"
   },
   {
    "duration": 0,
    "start_time": "2025-03-25T13:38:23.737Z"
   },
   {
    "duration": 0,
    "start_time": "2025-03-25T13:38:23.738Z"
   },
   {
    "duration": 0,
    "start_time": "2025-03-25T13:38:23.740Z"
   },
   {
    "duration": 0,
    "start_time": "2025-03-25T13:38:23.741Z"
   },
   {
    "duration": 0,
    "start_time": "2025-03-25T13:38:23.743Z"
   },
   {
    "duration": 0,
    "start_time": "2025-03-25T13:38:23.744Z"
   },
   {
    "duration": 0,
    "start_time": "2025-03-25T13:38:23.745Z"
   },
   {
    "duration": 0,
    "start_time": "2025-03-25T13:38:23.746Z"
   },
   {
    "duration": 0,
    "start_time": "2025-03-25T13:38:23.747Z"
   },
   {
    "duration": 0,
    "start_time": "2025-03-25T13:38:23.748Z"
   },
   {
    "duration": 0,
    "start_time": "2025-03-25T13:38:23.749Z"
   },
   {
    "duration": 0,
    "start_time": "2025-03-25T13:38:23.750Z"
   },
   {
    "duration": 0,
    "start_time": "2025-03-25T13:38:23.751Z"
   },
   {
    "duration": 0,
    "start_time": "2025-03-25T13:38:23.752Z"
   },
   {
    "duration": 0,
    "start_time": "2025-03-25T13:38:23.753Z"
   },
   {
    "duration": 0,
    "start_time": "2025-03-25T13:38:23.754Z"
   },
   {
    "duration": 0,
    "start_time": "2025-03-25T13:38:23.756Z"
   },
   {
    "duration": 0,
    "start_time": "2025-03-25T13:38:23.757Z"
   },
   {
    "duration": 0,
    "start_time": "2025-03-25T13:38:23.758Z"
   },
   {
    "duration": 0,
    "start_time": "2025-03-25T13:38:23.759Z"
   },
   {
    "duration": 0,
    "start_time": "2025-03-25T13:38:23.760Z"
   },
   {
    "duration": 0,
    "start_time": "2025-03-25T13:38:23.762Z"
   },
   {
    "duration": 13457,
    "start_time": "2025-03-25T13:44:10.572Z"
   },
   {
    "duration": 119,
    "start_time": "2025-03-25T13:47:48.102Z"
   },
   {
    "duration": 9688,
    "start_time": "2025-03-25T14:05:56.171Z"
   },
   {
    "duration": 1468,
    "start_time": "2025-03-25T14:06:05.861Z"
   },
   {
    "duration": 4,
    "start_time": "2025-03-25T14:06:07.330Z"
   },
   {
    "duration": 258,
    "start_time": "2025-03-25T14:06:07.336Z"
   },
   {
    "duration": 1507,
    "start_time": "2025-03-25T14:06:07.595Z"
   },
   {
    "duration": 1158,
    "start_time": "2025-03-25T14:06:09.104Z"
   },
   {
    "duration": 5,
    "start_time": "2025-03-25T14:06:10.263Z"
   },
   {
    "duration": 11,
    "start_time": "2025-03-25T14:06:10.269Z"
   },
   {
    "duration": 10,
    "start_time": "2025-03-25T14:06:10.282Z"
   },
   {
    "duration": 28,
    "start_time": "2025-03-25T14:06:10.294Z"
   },
   {
    "duration": 122,
    "start_time": "2025-03-25T14:06:10.323Z"
   },
   {
    "duration": 334,
    "start_time": "2025-03-25T14:06:10.446Z"
   },
   {
    "duration": 3,
    "start_time": "2025-03-25T14:06:10.781Z"
   },
   {
    "duration": 351,
    "start_time": "2025-03-25T14:06:10.786Z"
   },
   {
    "duration": 601,
    "start_time": "2025-03-25T14:06:11.138Z"
   },
   {
    "duration": 16,
    "start_time": "2025-03-25T14:06:11.741Z"
   },
   {
    "duration": 49,
    "start_time": "2025-03-25T14:06:11.760Z"
   },
   {
    "duration": 22,
    "start_time": "2025-03-25T14:06:11.811Z"
   },
   {
    "duration": 11,
    "start_time": "2025-03-25T14:06:11.834Z"
   },
   {
    "duration": 228,
    "start_time": "2025-03-25T14:06:11.846Z"
   },
   {
    "duration": 1429,
    "start_time": "2025-03-25T14:06:12.076Z"
   },
   {
    "duration": 21,
    "start_time": "2025-03-25T14:06:13.507Z"
   },
   {
    "duration": 43,
    "start_time": "2025-03-25T14:06:13.529Z"
   },
   {
    "duration": 4,
    "start_time": "2025-03-25T14:06:13.574Z"
   },
   {
    "duration": 24,
    "start_time": "2025-03-25T14:06:13.580Z"
   },
   {
    "duration": 230,
    "start_time": "2025-03-25T14:06:13.606Z"
   },
   {
    "duration": 1541,
    "start_time": "2025-03-25T14:06:13.838Z"
   },
   {
    "duration": 6,
    "start_time": "2025-03-25T14:06:15.383Z"
   },
   {
    "duration": 28,
    "start_time": "2025-03-25T14:06:15.391Z"
   },
   {
    "duration": 5,
    "start_time": "2025-03-25T14:06:15.420Z"
   },
   {
    "duration": 46,
    "start_time": "2025-03-25T14:06:15.427Z"
   },
   {
    "duration": 26,
    "start_time": "2025-03-25T14:06:15.475Z"
   },
   {
    "duration": 5,
    "start_time": "2025-03-25T14:06:15.502Z"
   },
   {
    "duration": 19,
    "start_time": "2025-03-25T14:06:15.509Z"
   },
   {
    "duration": 6,
    "start_time": "2025-03-25T14:06:15.557Z"
   },
   {
    "duration": 5,
    "start_time": "2025-03-25T14:06:15.565Z"
   },
   {
    "duration": 5,
    "start_time": "2025-03-25T14:06:15.572Z"
   },
   {
    "duration": 2425,
    "start_time": "2025-03-25T14:06:15.579Z"
   },
   {
    "duration": 15524,
    "start_time": "2025-03-25T14:06:18.006Z"
   },
   {
    "duration": 56,
    "start_time": "2025-03-25T14:06:33.532Z"
   },
   {
    "duration": 32,
    "start_time": "2025-03-25T14:06:33.590Z"
   },
   {
    "duration": 40,
    "start_time": "2025-03-25T14:06:33.624Z"
   },
   {
    "duration": 23,
    "start_time": "2025-03-25T14:06:33.666Z"
   },
   {
    "duration": 32,
    "start_time": "2025-03-25T14:06:33.690Z"
   },
   {
    "duration": 6,
    "start_time": "2025-03-25T14:06:33.724Z"
   },
   {
    "duration": 26,
    "start_time": "2025-03-25T14:06:33.732Z"
   },
   {
    "duration": 69,
    "start_time": "2025-03-25T14:06:33.759Z"
   },
   {
    "duration": 26,
    "start_time": "2025-03-25T14:06:33.829Z"
   },
   {
    "duration": 19,
    "start_time": "2025-03-25T14:06:33.857Z"
   },
   {
    "duration": 612,
    "start_time": "2025-03-25T14:06:33.878Z"
   },
   {
    "duration": 933,
    "start_time": "2025-03-25T14:06:34.491Z"
   },
   {
    "duration": 650,
    "start_time": "2025-03-25T14:06:35.426Z"
   },
   {
    "duration": 583,
    "start_time": "2025-03-25T14:06:36.078Z"
   },
   {
    "duration": 4,
    "start_time": "2025-03-25T14:06:36.663Z"
   },
   {
    "duration": 111,
    "start_time": "2025-03-25T14:06:36.668Z"
   },
   {
    "duration": 30,
    "start_time": "2025-03-25T14:06:36.781Z"
   },
   {
    "duration": 11,
    "start_time": "2025-03-25T14:06:36.812Z"
   },
   {
    "duration": 3,
    "start_time": "2025-03-25T14:06:36.825Z"
   },
   {
    "duration": 73,
    "start_time": "2025-03-25T14:06:36.830Z"
   },
   {
    "duration": 4,
    "start_time": "2025-03-25T14:06:36.905Z"
   },
   {
    "duration": 6170,
    "start_time": "2025-03-25T14:06:36.911Z"
   },
   {
    "duration": 10097,
    "start_time": "2025-03-25T14:06:52.147Z"
   },
   {
    "duration": 979,
    "start_time": "2025-03-25T14:07:02.246Z"
   },
   {
    "duration": 4,
    "start_time": "2025-03-25T14:07:03.226Z"
   },
   {
    "duration": 260,
    "start_time": "2025-03-25T14:07:03.232Z"
   },
   {
    "duration": 1528,
    "start_time": "2025-03-25T14:07:03.494Z"
   },
   {
    "duration": 1173,
    "start_time": "2025-03-25T14:07:05.025Z"
   },
   {
    "duration": 4,
    "start_time": "2025-03-25T14:07:06.200Z"
   },
   {
    "duration": 16,
    "start_time": "2025-03-25T14:07:06.206Z"
   },
   {
    "duration": 18,
    "start_time": "2025-03-25T14:07:06.224Z"
   },
   {
    "duration": 29,
    "start_time": "2025-03-25T14:07:06.244Z"
   },
   {
    "duration": 103,
    "start_time": "2025-03-25T14:07:06.275Z"
   },
   {
    "duration": 330,
    "start_time": "2025-03-25T14:07:06.380Z"
   },
   {
    "duration": 2,
    "start_time": "2025-03-25T14:07:06.712Z"
   },
   {
    "duration": 374,
    "start_time": "2025-03-25T14:07:06.715Z"
   },
   {
    "duration": 627,
    "start_time": "2025-03-25T14:07:07.090Z"
   },
   {
    "duration": 4,
    "start_time": "2025-03-25T14:07:07.718Z"
   },
   {
    "duration": 27,
    "start_time": "2025-03-25T14:07:07.724Z"
   },
   {
    "duration": 37,
    "start_time": "2025-03-25T14:07:07.758Z"
   },
   {
    "duration": 65,
    "start_time": "2025-03-25T14:07:07.797Z"
   },
   {
    "duration": 239,
    "start_time": "2025-03-25T14:07:07.864Z"
   },
   {
    "duration": 1442,
    "start_time": "2025-03-25T14:07:08.105Z"
   },
   {
    "duration": 26,
    "start_time": "2025-03-25T14:07:09.549Z"
   },
   {
    "duration": 29,
    "start_time": "2025-03-25T14:07:09.577Z"
   },
   {
    "duration": 3,
    "start_time": "2025-03-25T14:07:09.608Z"
   },
   {
    "duration": 19,
    "start_time": "2025-03-25T14:07:09.613Z"
   },
   {
    "duration": 231,
    "start_time": "2025-03-25T14:07:09.633Z"
   },
   {
    "duration": 1477,
    "start_time": "2025-03-25T14:07:09.866Z"
   },
   {
    "duration": 12,
    "start_time": "2025-03-25T14:07:11.348Z"
   },
   {
    "duration": 31,
    "start_time": "2025-03-25T14:07:11.362Z"
   },
   {
    "duration": 4,
    "start_time": "2025-03-25T14:07:11.394Z"
   },
   {
    "duration": 21,
    "start_time": "2025-03-25T14:07:11.400Z"
   },
   {
    "duration": 46,
    "start_time": "2025-03-25T14:07:11.423Z"
   },
   {
    "duration": 4,
    "start_time": "2025-03-25T14:07:11.470Z"
   },
   {
    "duration": 29,
    "start_time": "2025-03-25T14:07:11.476Z"
   },
   {
    "duration": 4,
    "start_time": "2025-03-25T14:07:11.507Z"
   },
   {
    "duration": 5,
    "start_time": "2025-03-25T14:07:11.513Z"
   },
   {
    "duration": 17,
    "start_time": "2025-03-25T14:07:11.521Z"
   },
   {
    "duration": 2382,
    "start_time": "2025-03-25T14:07:11.540Z"
   },
   {
    "duration": 15564,
    "start_time": "2025-03-25T14:07:13.924Z"
   },
   {
    "duration": 42,
    "start_time": "2025-03-25T14:07:29.490Z"
   },
   {
    "duration": 33,
    "start_time": "2025-03-25T14:07:29.558Z"
   },
   {
    "duration": 21,
    "start_time": "2025-03-25T14:07:29.592Z"
   },
   {
    "duration": 22,
    "start_time": "2025-03-25T14:07:29.615Z"
   },
   {
    "duration": 21,
    "start_time": "2025-03-25T14:07:29.639Z"
   },
   {
    "duration": 6,
    "start_time": "2025-03-25T14:07:29.662Z"
   },
   {
    "duration": 23,
    "start_time": "2025-03-25T14:07:29.669Z"
   },
   {
    "duration": 77,
    "start_time": "2025-03-25T14:07:29.693Z"
   },
   {
    "duration": 101,
    "start_time": "2025-03-25T14:07:29.771Z"
   },
   {
    "duration": 18,
    "start_time": "2025-03-25T14:07:29.874Z"
   },
   {
    "duration": 617,
    "start_time": "2025-03-25T14:07:29.893Z"
   },
   {
    "duration": 915,
    "start_time": "2025-03-25T14:07:30.512Z"
   },
   {
    "duration": 696,
    "start_time": "2025-03-25T14:07:31.428Z"
   },
   {
    "duration": 605,
    "start_time": "2025-03-25T14:07:32.126Z"
   },
   {
    "duration": 4,
    "start_time": "2025-03-25T14:07:32.732Z"
   },
   {
    "duration": 50,
    "start_time": "2025-03-25T14:07:32.737Z"
   },
   {
    "duration": 29,
    "start_time": "2025-03-25T14:07:32.789Z"
   },
   {
    "duration": 11,
    "start_time": "2025-03-25T14:07:32.820Z"
   },
   {
    "duration": 21,
    "start_time": "2025-03-25T14:07:32.833Z"
   },
   {
    "duration": 57,
    "start_time": "2025-03-25T14:07:32.856Z"
   },
   {
    "duration": 74,
    "start_time": "2025-03-25T14:07:32.915Z"
   },
   {
    "duration": 5951,
    "start_time": "2025-03-25T14:07:32.991Z"
   },
   {
    "duration": 9509,
    "start_time": "2025-03-25T14:07:38.944Z"
   },
   {
    "duration": 63,
    "start_time": "2025-03-25T14:07:48.458Z"
   },
   {
    "duration": 3,
    "start_time": "2025-03-25T14:07:48.522Z"
   },
   {
    "duration": 5,
    "start_time": "2025-03-25T14:07:48.527Z"
   },
   {
    "duration": 2,
    "start_time": "2025-03-25T14:07:48.534Z"
   },
   {
    "duration": 20,
    "start_time": "2025-03-25T14:07:48.538Z"
   },
   {
    "duration": 4,
    "start_time": "2025-03-25T14:07:48.559Z"
   },
   {
    "duration": 18820,
    "start_time": "2025-03-25T14:07:48.565Z"
   },
   {
    "duration": 20624,
    "start_time": "2025-03-25T14:08:07.386Z"
   },
   {
    "duration": 73,
    "start_time": "2025-03-25T14:08:28.011Z"
   },
   {
    "duration": 0,
    "start_time": "2025-03-25T14:08:28.086Z"
   },
   {
    "duration": 1,
    "start_time": "2025-03-25T14:08:28.087Z"
   },
   {
    "duration": 0,
    "start_time": "2025-03-25T14:08:28.088Z"
   },
   {
    "duration": 0,
    "start_time": "2025-03-25T14:08:28.090Z"
   },
   {
    "duration": 0,
    "start_time": "2025-03-25T14:08:28.091Z"
   },
   {
    "duration": 0,
    "start_time": "2025-03-25T14:08:28.092Z"
   },
   {
    "duration": 0,
    "start_time": "2025-03-25T14:08:28.093Z"
   },
   {
    "duration": 0,
    "start_time": "2025-03-25T14:08:28.094Z"
   },
   {
    "duration": 0,
    "start_time": "2025-03-25T14:08:28.096Z"
   },
   {
    "duration": 0,
    "start_time": "2025-03-25T14:08:28.097Z"
   },
   {
    "duration": 0,
    "start_time": "2025-03-25T14:08:28.098Z"
   },
   {
    "duration": 0,
    "start_time": "2025-03-25T14:08:28.099Z"
   },
   {
    "duration": 0,
    "start_time": "2025-03-25T14:08:28.100Z"
   },
   {
    "duration": 0,
    "start_time": "2025-03-25T14:08:28.102Z"
   },
   {
    "duration": 0,
    "start_time": "2025-03-25T14:08:28.103Z"
   },
   {
    "duration": 0,
    "start_time": "2025-03-25T14:08:28.104Z"
   },
   {
    "duration": 0,
    "start_time": "2025-03-25T14:08:28.105Z"
   },
   {
    "duration": 0,
    "start_time": "2025-03-25T14:08:28.106Z"
   },
   {
    "duration": 0,
    "start_time": "2025-03-25T14:08:28.107Z"
   },
   {
    "duration": 37693,
    "start_time": "2025-03-25T14:18:14.482Z"
   },
   {
    "duration": 202586,
    "start_time": "2025-03-25T14:25:35.691Z"
   },
   {
    "duration": 130,
    "start_time": "2025-03-25T14:48:11.587Z"
   },
   {
    "duration": 9113,
    "start_time": "2025-03-25T14:48:20.269Z"
   },
   {
    "duration": 202025,
    "start_time": "2025-03-25T14:48:32.451Z"
   },
   {
    "duration": 678483,
    "start_time": "2025-03-25T15:02:59.208Z"
   },
   {
    "duration": 203773,
    "start_time": "2025-03-25T15:17:15.565Z"
   },
   {
    "duration": 59,
    "start_time": "2025-03-25T15:46:25.842Z"
   },
   {
    "duration": 17,
    "start_time": "2025-03-25T16:06:20.189Z"
   },
   {
    "duration": 11935,
    "start_time": "2025-03-25T16:08:33.305Z"
   },
   {
    "duration": 12,
    "start_time": "2025-03-25T16:08:54.320Z"
   },
   {
    "duration": 10144,
    "start_time": "2025-03-25T16:09:42.962Z"
   },
   {
    "duration": 986,
    "start_time": "2025-03-25T16:09:53.108Z"
   },
   {
    "duration": 3,
    "start_time": "2025-03-25T16:09:54.096Z"
   },
   {
    "duration": 263,
    "start_time": "2025-03-25T16:09:54.101Z"
   },
   {
    "duration": 1546,
    "start_time": "2025-03-25T16:09:54.365Z"
   },
   {
    "duration": 1158,
    "start_time": "2025-03-25T16:09:55.912Z"
   },
   {
    "duration": 4,
    "start_time": "2025-03-25T16:09:57.072Z"
   },
   {
    "duration": 21,
    "start_time": "2025-03-25T16:09:57.077Z"
   },
   {
    "duration": 6,
    "start_time": "2025-03-25T16:09:57.099Z"
   },
   {
    "duration": 27,
    "start_time": "2025-03-25T16:09:57.108Z"
   },
   {
    "duration": 125,
    "start_time": "2025-03-25T16:09:57.137Z"
   },
   {
    "duration": 326,
    "start_time": "2025-03-25T16:09:57.264Z"
   },
   {
    "duration": 2,
    "start_time": "2025-03-25T16:09:57.592Z"
   },
   {
    "duration": 301,
    "start_time": "2025-03-25T16:09:57.596Z"
   },
   {
    "duration": 555,
    "start_time": "2025-03-25T16:09:57.899Z"
   },
   {
    "duration": 4,
    "start_time": "2025-03-25T16:09:58.458Z"
   },
   {
    "duration": 33,
    "start_time": "2025-03-25T16:09:58.464Z"
   },
   {
    "duration": 19,
    "start_time": "2025-03-25T16:09:58.499Z"
   },
   {
    "duration": 10,
    "start_time": "2025-03-25T16:09:58.519Z"
   },
   {
    "duration": 276,
    "start_time": "2025-03-25T16:09:58.530Z"
   },
   {
    "duration": 1417,
    "start_time": "2025-03-25T16:09:58.808Z"
   },
   {
    "duration": 20,
    "start_time": "2025-03-25T16:10:00.227Z"
   },
   {
    "duration": 165,
    "start_time": "2025-03-25T16:10:00.257Z"
   },
   {
    "duration": 4,
    "start_time": "2025-03-25T16:10:00.423Z"
   },
   {
    "duration": 79,
    "start_time": "2025-03-25T16:10:00.429Z"
   },
   {
    "duration": 202,
    "start_time": "2025-03-25T16:10:00.509Z"
   },
   {
    "duration": 1498,
    "start_time": "2025-03-25T16:10:00.712Z"
   },
   {
    "duration": 5,
    "start_time": "2025-03-25T16:10:02.215Z"
   },
   {
    "duration": 44,
    "start_time": "2025-03-25T16:10:02.222Z"
   },
   {
    "duration": 3,
    "start_time": "2025-03-25T16:10:02.268Z"
   },
   {
    "duration": 93,
    "start_time": "2025-03-25T16:10:02.273Z"
   },
   {
    "duration": 28,
    "start_time": "2025-03-25T16:10:02.367Z"
   },
   {
    "duration": 3,
    "start_time": "2025-03-25T16:10:02.397Z"
   },
   {
    "duration": 93,
    "start_time": "2025-03-25T16:10:02.402Z"
   },
   {
    "duration": 6,
    "start_time": "2025-03-25T16:10:02.497Z"
   },
   {
    "duration": 7,
    "start_time": "2025-03-25T16:10:02.504Z"
   },
   {
    "duration": 13,
    "start_time": "2025-03-25T16:10:02.512Z"
   },
   {
    "duration": 2477,
    "start_time": "2025-03-25T16:10:02.526Z"
   },
   {
    "duration": 15302,
    "start_time": "2025-03-25T16:10:05.005Z"
   },
   {
    "duration": 63,
    "start_time": "2025-03-25T16:10:20.309Z"
   },
   {
    "duration": 33,
    "start_time": "2025-03-25T16:10:20.374Z"
   },
   {
    "duration": 102,
    "start_time": "2025-03-25T16:10:20.408Z"
   },
   {
    "duration": 21,
    "start_time": "2025-03-25T16:10:20.511Z"
   },
   {
    "duration": 73,
    "start_time": "2025-03-25T16:10:20.534Z"
   },
   {
    "duration": 6,
    "start_time": "2025-03-25T16:10:20.609Z"
   },
   {
    "duration": 20,
    "start_time": "2025-03-25T16:10:20.616Z"
   },
   {
    "duration": 28,
    "start_time": "2025-03-25T16:10:20.638Z"
   },
   {
    "duration": 21,
    "start_time": "2025-03-25T16:10:20.667Z"
   },
   {
    "duration": 19,
    "start_time": "2025-03-25T16:10:20.689Z"
   },
   {
    "duration": 921,
    "start_time": "2025-03-25T16:10:20.709Z"
   },
   {
    "duration": 641,
    "start_time": "2025-03-25T16:10:21.632Z"
   },
   {
    "duration": 652,
    "start_time": "2025-03-25T16:10:22.275Z"
   },
   {
    "duration": 583,
    "start_time": "2025-03-25T16:10:22.929Z"
   },
   {
    "duration": 4,
    "start_time": "2025-03-25T16:10:23.514Z"
   },
   {
    "duration": 8,
    "start_time": "2025-03-25T16:10:23.519Z"
   },
   {
    "duration": 46,
    "start_time": "2025-03-25T16:10:23.528Z"
   },
   {
    "duration": 10,
    "start_time": "2025-03-25T16:10:23.576Z"
   },
   {
    "duration": 9,
    "start_time": "2025-03-25T16:10:23.587Z"
   },
   {
    "duration": 86,
    "start_time": "2025-03-25T16:10:23.597Z"
   },
   {
    "duration": 4,
    "start_time": "2025-03-25T16:10:23.684Z"
   },
   {
    "duration": 6292,
    "start_time": "2025-03-25T16:10:23.689Z"
   },
   {
    "duration": 9653,
    "start_time": "2025-03-25T16:10:29.983Z"
   },
   {
    "duration": 74,
    "start_time": "2025-03-25T16:10:39.638Z"
   },
   {
    "duration": 3,
    "start_time": "2025-03-25T16:10:39.714Z"
   },
   {
    "duration": 4,
    "start_time": "2025-03-25T16:10:39.719Z"
   },
   {
    "duration": 4,
    "start_time": "2025-03-25T16:10:39.724Z"
   },
   {
    "duration": 3,
    "start_time": "2025-03-25T16:10:39.729Z"
   },
   {
    "duration": 4,
    "start_time": "2025-03-25T16:10:39.757Z"
   },
   {
    "duration": 17495,
    "start_time": "2025-03-25T16:10:39.763Z"
   },
   {
    "duration": 19402,
    "start_time": "2025-03-25T16:10:57.260Z"
   },
   {
    "duration": 37108,
    "start_time": "2025-03-25T16:11:16.663Z"
   },
   {
    "duration": 59790,
    "start_time": "2025-03-25T16:11:53.773Z"
   },
   {
    "duration": 202451,
    "start_time": "2025-03-25T16:12:53.565Z"
   },
   {
    "duration": 57,
    "start_time": "2025-03-25T16:16:16.017Z"
   },
   {
    "duration": 0,
    "start_time": "2025-03-25T16:46:43.489Z"
   },
   {
    "duration": 3,
    "start_time": "2025-03-25T16:46:48.830Z"
   },
   {
    "duration": 9890,
    "start_time": "2025-03-25T16:57:14.091Z"
   },
   {
    "duration": 1004,
    "start_time": "2025-03-25T16:57:23.983Z"
   },
   {
    "duration": 4,
    "start_time": "2025-03-25T16:57:24.989Z"
   },
   {
    "duration": 282,
    "start_time": "2025-03-25T16:57:24.994Z"
   },
   {
    "duration": 1500,
    "start_time": "2025-03-25T16:57:25.278Z"
   },
   {
    "duration": 1159,
    "start_time": "2025-03-25T16:57:26.780Z"
   },
   {
    "duration": 4,
    "start_time": "2025-03-25T16:57:27.941Z"
   },
   {
    "duration": 13,
    "start_time": "2025-03-25T16:57:27.946Z"
   },
   {
    "duration": 7,
    "start_time": "2025-03-25T16:57:27.961Z"
   },
   {
    "duration": 25,
    "start_time": "2025-03-25T16:57:27.969Z"
   },
   {
    "duration": 119,
    "start_time": "2025-03-25T16:57:27.995Z"
   },
   {
    "duration": 299,
    "start_time": "2025-03-25T16:57:28.116Z"
   },
   {
    "duration": 2,
    "start_time": "2025-03-25T16:57:28.417Z"
   },
   {
    "duration": 263,
    "start_time": "2025-03-25T16:57:28.424Z"
   },
   {
    "duration": 569,
    "start_time": "2025-03-25T16:57:28.689Z"
   },
   {
    "duration": 4,
    "start_time": "2025-03-25T16:57:29.259Z"
   },
   {
    "duration": 18,
    "start_time": "2025-03-25T16:57:29.265Z"
   },
   {
    "duration": 24,
    "start_time": "2025-03-25T16:57:29.285Z"
   },
   {
    "duration": 12,
    "start_time": "2025-03-25T16:57:29.311Z"
   },
   {
    "duration": 239,
    "start_time": "2025-03-25T16:57:29.325Z"
   },
   {
    "duration": 1438,
    "start_time": "2025-03-25T16:57:29.566Z"
   },
   {
    "duration": 20,
    "start_time": "2025-03-25T16:57:31.006Z"
   },
   {
    "duration": 46,
    "start_time": "2025-03-25T16:57:31.028Z"
   },
   {
    "duration": 3,
    "start_time": "2025-03-25T16:57:31.077Z"
   },
   {
    "duration": 20,
    "start_time": "2025-03-25T16:57:31.082Z"
   },
   {
    "duration": 232,
    "start_time": "2025-03-25T16:57:31.105Z"
   },
   {
    "duration": 1497,
    "start_time": "2025-03-25T16:57:31.339Z"
   },
   {
    "duration": 5,
    "start_time": "2025-03-25T16:57:32.838Z"
   },
   {
    "duration": 85,
    "start_time": "2025-03-25T16:57:32.844Z"
   },
   {
    "duration": 3,
    "start_time": "2025-03-25T16:57:32.931Z"
   },
   {
    "duration": 25,
    "start_time": "2025-03-25T16:57:32.936Z"
   },
   {
    "duration": 29,
    "start_time": "2025-03-25T16:57:32.962Z"
   },
   {
    "duration": 4,
    "start_time": "2025-03-25T16:57:32.992Z"
   },
   {
    "duration": 19,
    "start_time": "2025-03-25T16:57:32.998Z"
   },
   {
    "duration": 3,
    "start_time": "2025-03-25T16:57:33.019Z"
   },
   {
    "duration": 34,
    "start_time": "2025-03-25T16:57:33.024Z"
   },
   {
    "duration": 3,
    "start_time": "2025-03-25T16:57:33.060Z"
   },
   {
    "duration": 2464,
    "start_time": "2025-03-25T16:57:33.065Z"
   },
   {
    "duration": 15616,
    "start_time": "2025-03-25T16:57:35.531Z"
   },
   {
    "duration": 52,
    "start_time": "2025-03-25T16:57:51.149Z"
   },
   {
    "duration": 77,
    "start_time": "2025-03-25T16:57:51.206Z"
   },
   {
    "duration": 63,
    "start_time": "2025-03-25T16:57:51.285Z"
   },
   {
    "duration": 23,
    "start_time": "2025-03-25T16:57:51.350Z"
   },
   {
    "duration": 7,
    "start_time": "2025-03-25T16:57:51.375Z"
   },
   {
    "duration": 6,
    "start_time": "2025-03-25T16:57:51.384Z"
   },
   {
    "duration": 20,
    "start_time": "2025-03-25T16:57:51.392Z"
   },
   {
    "duration": 51,
    "start_time": "2025-03-25T16:57:51.414Z"
   },
   {
    "duration": 21,
    "start_time": "2025-03-25T16:57:51.466Z"
   },
   {
    "duration": 107,
    "start_time": "2025-03-25T16:57:51.488Z"
   },
   {
    "duration": 899,
    "start_time": "2025-03-25T16:57:51.597Z"
   },
   {
    "duration": 624,
    "start_time": "2025-03-25T16:57:52.498Z"
   },
   {
    "duration": 663,
    "start_time": "2025-03-25T16:57:53.123Z"
   },
   {
    "duration": 590,
    "start_time": "2025-03-25T16:57:53.788Z"
   },
   {
    "duration": 5,
    "start_time": "2025-03-25T16:57:54.379Z"
   },
   {
    "duration": 5,
    "start_time": "2025-03-25T16:57:54.386Z"
   },
   {
    "duration": 30,
    "start_time": "2025-03-25T16:57:54.393Z"
   },
   {
    "duration": 36,
    "start_time": "2025-03-25T16:57:54.425Z"
   },
   {
    "duration": 55,
    "start_time": "2025-03-25T16:57:54.463Z"
   },
   {
    "duration": 65,
    "start_time": "2025-03-25T16:57:54.520Z"
   },
   {
    "duration": 4,
    "start_time": "2025-03-25T16:57:54.586Z"
   },
   {
    "duration": 6081,
    "start_time": "2025-03-25T16:57:54.591Z"
   },
   {
    "duration": 9314,
    "start_time": "2025-03-25T16:58:00.674Z"
   },
   {
    "duration": 71,
    "start_time": "2025-03-25T16:58:09.990Z"
   },
   {
    "duration": 3,
    "start_time": "2025-03-25T16:58:10.063Z"
   },
   {
    "duration": 5,
    "start_time": "2025-03-25T16:58:10.068Z"
   },
   {
    "duration": 4,
    "start_time": "2025-03-25T16:58:10.074Z"
   },
   {
    "duration": 4,
    "start_time": "2025-03-25T16:58:10.079Z"
   },
   {
    "duration": 4,
    "start_time": "2025-03-25T16:58:10.084Z"
   },
   {
    "duration": 19741,
    "start_time": "2025-03-25T16:58:10.089Z"
   },
   {
    "duration": 22118,
    "start_time": "2025-03-25T16:58:29.832Z"
   },
   {
    "duration": 40223,
    "start_time": "2025-03-25T16:58:51.957Z"
   },
   {
    "duration": 47283,
    "start_time": "2025-03-25T16:59:32.182Z"
   },
   {
    "duration": 175630,
    "start_time": "2025-03-25T17:00:19.467Z"
   },
   {
    "duration": 58,
    "start_time": "2025-03-25T17:03:15.098Z"
   },
   {
    "duration": 4,
    "start_time": "2025-03-25T17:03:15.159Z"
   },
   {
    "duration": 1517518,
    "start_time": "2025-03-25T17:03:15.167Z"
   },
   {
    "duration": 9,
    "start_time": "2025-03-25T17:28:32.687Z"
   },
   {
    "duration": 139158,
    "start_time": "2025-03-25T18:03:23.896Z"
   },
   {
    "duration": 64,
    "start_time": "2025-03-25T18:05:53.451Z"
   },
   {
    "duration": 128201,
    "start_time": "2025-03-25T18:06:02.135Z"
   },
   {
    "duration": 56,
    "start_time": "2025-03-25T18:08:46.645Z"
   },
   {
    "duration": 1310006,
    "start_time": "2025-03-25T18:08:50.840Z"
   },
   {
    "duration": 15649,
    "start_time": "2025-03-26T04:49:01.165Z"
   },
   {
    "duration": 2210,
    "start_time": "2025-03-26T04:49:16.817Z"
   },
   {
    "duration": 4,
    "start_time": "2025-03-26T04:49:19.029Z"
   },
   {
    "duration": 267,
    "start_time": "2025-03-26T04:49:19.036Z"
   },
   {
    "duration": 1414,
    "start_time": "2025-03-26T04:49:19.305Z"
   },
   {
    "duration": 1182,
    "start_time": "2025-03-26T04:49:20.720Z"
   },
   {
    "duration": 4,
    "start_time": "2025-03-26T04:49:21.903Z"
   },
   {
    "duration": 130,
    "start_time": "2025-03-26T04:49:21.909Z"
   },
   {
    "duration": 8,
    "start_time": "2025-03-26T04:49:22.041Z"
   },
   {
    "duration": 29,
    "start_time": "2025-03-26T04:49:22.051Z"
   },
   {
    "duration": 104,
    "start_time": "2025-03-26T04:49:22.081Z"
   },
   {
    "duration": 324,
    "start_time": "2025-03-26T04:49:22.186Z"
   },
   {
    "duration": 2,
    "start_time": "2025-03-26T04:49:22.511Z"
   },
   {
    "duration": 307,
    "start_time": "2025-03-26T04:49:22.514Z"
   },
   {
    "duration": 566,
    "start_time": "2025-03-26T04:49:22.823Z"
   },
   {
    "duration": 4,
    "start_time": "2025-03-26T04:49:23.390Z"
   },
   {
    "duration": 24,
    "start_time": "2025-03-26T04:49:23.395Z"
   },
   {
    "duration": 22,
    "start_time": "2025-03-26T04:49:23.420Z"
   },
   {
    "duration": 89,
    "start_time": "2025-03-26T04:49:23.444Z"
   },
   {
    "duration": 225,
    "start_time": "2025-03-26T04:49:23.534Z"
   },
   {
    "duration": 1406,
    "start_time": "2025-03-26T04:49:23.760Z"
   },
   {
    "duration": 20,
    "start_time": "2025-03-26T04:49:25.168Z"
   },
   {
    "duration": 27,
    "start_time": "2025-03-26T04:49:25.189Z"
   },
   {
    "duration": 4,
    "start_time": "2025-03-26T04:49:25.218Z"
   },
   {
    "duration": 45,
    "start_time": "2025-03-26T04:49:25.224Z"
   },
   {
    "duration": 216,
    "start_time": "2025-03-26T04:49:25.272Z"
   },
   {
    "duration": 1446,
    "start_time": "2025-03-26T04:49:25.490Z"
   },
   {
    "duration": 6,
    "start_time": "2025-03-26T04:49:26.941Z"
   },
   {
    "duration": 36,
    "start_time": "2025-03-26T04:49:26.949Z"
   },
   {
    "duration": 29,
    "start_time": "2025-03-26T04:49:26.986Z"
   },
   {
    "duration": 19,
    "start_time": "2025-03-26T04:49:27.017Z"
   },
   {
    "duration": 35,
    "start_time": "2025-03-26T04:49:27.038Z"
   },
   {
    "duration": 4,
    "start_time": "2025-03-26T04:49:27.075Z"
   },
   {
    "duration": 33,
    "start_time": "2025-03-26T04:49:27.081Z"
   },
   {
    "duration": 5,
    "start_time": "2025-03-26T04:49:27.116Z"
   },
   {
    "duration": 6,
    "start_time": "2025-03-26T04:49:27.122Z"
   },
   {
    "duration": 6,
    "start_time": "2025-03-26T04:49:27.129Z"
   },
   {
    "duration": 2329,
    "start_time": "2025-03-26T04:49:27.136Z"
   },
   {
    "duration": 15066,
    "start_time": "2025-03-26T04:49:29.467Z"
   },
   {
    "duration": 63,
    "start_time": "2025-03-26T04:49:44.535Z"
   },
   {
    "duration": 33,
    "start_time": "2025-03-26T04:49:44.600Z"
   },
   {
    "duration": 40,
    "start_time": "2025-03-26T04:49:44.635Z"
   },
   {
    "duration": 22,
    "start_time": "2025-03-26T04:49:44.676Z"
   },
   {
    "duration": 5,
    "start_time": "2025-03-26T04:49:44.699Z"
   },
   {
    "duration": 10,
    "start_time": "2025-03-26T04:49:44.706Z"
   },
   {
    "duration": 45,
    "start_time": "2025-03-26T04:49:44.717Z"
   },
   {
    "duration": 26,
    "start_time": "2025-03-26T04:49:44.764Z"
   },
   {
    "duration": 23,
    "start_time": "2025-03-26T04:49:44.791Z"
   },
   {
    "duration": 20,
    "start_time": "2025-03-26T04:49:44.816Z"
   },
   {
    "duration": 996,
    "start_time": "2025-03-26T04:49:44.837Z"
   },
   {
    "duration": 609,
    "start_time": "2025-03-26T04:49:45.834Z"
   },
   {
    "duration": 631,
    "start_time": "2025-03-26T04:49:46.445Z"
   },
   {
    "duration": 587,
    "start_time": "2025-03-26T04:49:47.078Z"
   },
   {
    "duration": 4,
    "start_time": "2025-03-26T04:49:47.667Z"
   },
   {
    "duration": 5,
    "start_time": "2025-03-26T04:49:47.672Z"
   },
   {
    "duration": 34,
    "start_time": "2025-03-26T04:49:47.679Z"
   },
   {
    "duration": 11,
    "start_time": "2025-03-26T04:49:47.715Z"
   },
   {
    "duration": 7,
    "start_time": "2025-03-26T04:49:47.727Z"
   },
   {
    "duration": 78,
    "start_time": "2025-03-26T04:49:47.735Z"
   },
   {
    "duration": 3,
    "start_time": "2025-03-26T04:49:47.815Z"
   },
   {
    "duration": 5903,
    "start_time": "2025-03-26T04:49:47.819Z"
   },
   {
    "duration": 9216,
    "start_time": "2025-03-26T04:49:53.723Z"
   },
   {
    "duration": 85,
    "start_time": "2025-03-26T04:50:02.941Z"
   },
   {
    "duration": 3,
    "start_time": "2025-03-26T04:50:03.028Z"
   },
   {
    "duration": 21,
    "start_time": "2025-03-26T04:50:03.032Z"
   },
   {
    "duration": 43,
    "start_time": "2025-03-26T04:50:03.055Z"
   },
   {
    "duration": 29,
    "start_time": "2025-03-26T04:50:03.100Z"
   },
   {
    "duration": 53,
    "start_time": "2025-03-26T04:50:03.131Z"
   },
   {
    "duration": 18791,
    "start_time": "2025-03-26T04:50:03.186Z"
   },
   {
    "duration": 20920,
    "start_time": "2025-03-26T04:50:21.979Z"
   },
   {
    "duration": 40062,
    "start_time": "2025-03-26T04:50:42.901Z"
   },
   {
    "duration": 46713,
    "start_time": "2025-03-26T04:51:22.965Z"
   },
   {
    "duration": 130414,
    "start_time": "2025-03-26T04:52:09.681Z"
   },
   {
    "duration": 58,
    "start_time": "2025-03-26T04:54:20.096Z"
   },
   {
    "duration": 364007,
    "start_time": "2025-03-26T04:54:20.156Z"
   },
   {
    "duration": 0,
    "start_time": "2025-03-26T05:00:24.165Z"
   },
   {
    "duration": 17,
    "start_time": "2025-03-26T05:13:07.169Z"
   },
   {
    "duration": 69,
    "start_time": "2025-03-26T05:13:59.931Z"
   },
   {
    "duration": 9986,
    "start_time": "2025-03-26T05:17:34.679Z"
   },
   {
    "duration": 1005,
    "start_time": "2025-03-26T05:17:44.667Z"
   },
   {
    "duration": 4,
    "start_time": "2025-03-26T05:17:45.673Z"
   },
   {
    "duration": 308,
    "start_time": "2025-03-26T05:17:45.679Z"
   },
   {
    "duration": 1574,
    "start_time": "2025-03-26T05:17:45.989Z"
   },
   {
    "duration": 1198,
    "start_time": "2025-03-26T05:17:47.565Z"
   },
   {
    "duration": 5,
    "start_time": "2025-03-26T05:17:48.765Z"
   },
   {
    "duration": 10,
    "start_time": "2025-03-26T05:17:48.772Z"
   },
   {
    "duration": 22,
    "start_time": "2025-03-26T05:17:48.783Z"
   },
   {
    "duration": 36,
    "start_time": "2025-03-26T05:17:48.809Z"
   },
   {
    "duration": 104,
    "start_time": "2025-03-26T05:17:48.863Z"
   },
   {
    "duration": 337,
    "start_time": "2025-03-26T05:17:48.969Z"
   },
   {
    "duration": 3,
    "start_time": "2025-03-26T05:17:49.308Z"
   },
   {
    "duration": 323,
    "start_time": "2025-03-26T05:17:49.313Z"
   },
   {
    "duration": 604,
    "start_time": "2025-03-26T05:17:49.637Z"
   },
   {
    "duration": 4,
    "start_time": "2025-03-26T05:17:50.243Z"
   },
   {
    "duration": 36,
    "start_time": "2025-03-26T05:17:50.248Z"
   },
   {
    "duration": 38,
    "start_time": "2025-03-26T05:17:50.286Z"
   },
   {
    "duration": 13,
    "start_time": "2025-03-26T05:17:50.326Z"
   },
   {
    "duration": 228,
    "start_time": "2025-03-26T05:17:50.341Z"
   },
   {
    "duration": 1471,
    "start_time": "2025-03-26T05:17:50.571Z"
   },
   {
    "duration": 35,
    "start_time": "2025-03-26T05:17:52.044Z"
   },
   {
    "duration": 28,
    "start_time": "2025-03-26T05:17:52.081Z"
   },
   {
    "duration": 16,
    "start_time": "2025-03-26T05:17:52.111Z"
   },
   {
    "duration": 44,
    "start_time": "2025-03-26T05:17:52.128Z"
   },
   {
    "duration": 218,
    "start_time": "2025-03-26T05:17:52.174Z"
   },
   {
    "duration": 1513,
    "start_time": "2025-03-26T05:17:52.394Z"
   },
   {
    "duration": 6,
    "start_time": "2025-03-26T05:17:53.912Z"
   },
   {
    "duration": 104,
    "start_time": "2025-03-26T05:17:53.919Z"
   },
   {
    "duration": 5,
    "start_time": "2025-03-26T05:17:54.024Z"
   },
   {
    "duration": 24,
    "start_time": "2025-03-26T05:17:54.030Z"
   },
   {
    "duration": 26,
    "start_time": "2025-03-26T05:17:54.057Z"
   },
   {
    "duration": 5,
    "start_time": "2025-03-26T05:17:54.085Z"
   },
   {
    "duration": 16,
    "start_time": "2025-03-26T05:17:54.092Z"
   },
   {
    "duration": 5,
    "start_time": "2025-03-26T05:17:54.110Z"
   },
   {
    "duration": 6,
    "start_time": "2025-03-26T05:17:54.116Z"
   },
   {
    "duration": 39,
    "start_time": "2025-03-26T05:17:54.123Z"
   },
   {
    "duration": 2502,
    "start_time": "2025-03-26T05:17:54.164Z"
   },
   {
    "duration": 15590,
    "start_time": "2025-03-26T05:17:56.667Z"
   },
   {
    "duration": 43,
    "start_time": "2025-03-26T05:18:12.262Z"
   },
   {
    "duration": 58,
    "start_time": "2025-03-26T05:18:12.306Z"
   },
   {
    "duration": 30,
    "start_time": "2025-03-26T05:18:12.366Z"
   },
   {
    "duration": 37,
    "start_time": "2025-03-26T05:18:12.398Z"
   },
   {
    "duration": 7,
    "start_time": "2025-03-26T05:18:12.437Z"
   },
   {
    "duration": 22,
    "start_time": "2025-03-26T05:18:12.446Z"
   },
   {
    "duration": 36,
    "start_time": "2025-03-26T05:18:12.470Z"
   },
   {
    "duration": 36,
    "start_time": "2025-03-26T05:18:12.508Z"
   },
   {
    "duration": 22,
    "start_time": "2025-03-26T05:18:12.546Z"
   },
   {
    "duration": 29,
    "start_time": "2025-03-26T05:18:12.570Z"
   },
   {
    "duration": 891,
    "start_time": "2025-03-26T05:18:12.602Z"
   },
   {
    "duration": 645,
    "start_time": "2025-03-26T05:18:13.495Z"
   },
   {
    "duration": 657,
    "start_time": "2025-03-26T05:18:14.141Z"
   },
   {
    "duration": 596,
    "start_time": "2025-03-26T05:18:14.800Z"
   },
   {
    "duration": 5,
    "start_time": "2025-03-26T05:18:15.398Z"
   },
   {
    "duration": 14,
    "start_time": "2025-03-26T05:18:15.405Z"
   },
   {
    "duration": 48,
    "start_time": "2025-03-26T05:18:15.421Z"
   },
   {
    "duration": 12,
    "start_time": "2025-03-26T05:18:15.470Z"
   },
   {
    "duration": 11,
    "start_time": "2025-03-26T05:18:15.484Z"
   },
   {
    "duration": 77,
    "start_time": "2025-03-26T05:18:15.496Z"
   },
   {
    "duration": 4,
    "start_time": "2025-03-26T05:18:15.575Z"
   },
   {
    "duration": 6182,
    "start_time": "2025-03-26T05:18:15.580Z"
   },
   {
    "duration": 9426,
    "start_time": "2025-03-26T05:18:21.764Z"
   },
   {
    "duration": 72,
    "start_time": "2025-03-26T05:18:31.191Z"
   },
   {
    "duration": 4,
    "start_time": "2025-03-26T05:18:31.264Z"
   },
   {
    "duration": 10,
    "start_time": "2025-03-26T05:18:31.269Z"
   },
   {
    "duration": 27,
    "start_time": "2025-03-26T05:18:31.280Z"
   },
   {
    "duration": 12,
    "start_time": "2025-03-26T05:18:31.309Z"
   },
   {
    "duration": 25,
    "start_time": "2025-03-26T05:18:31.322Z"
   },
   {
    "duration": 20145,
    "start_time": "2025-03-26T05:18:31.349Z"
   },
   {
    "duration": 22974,
    "start_time": "2025-03-26T05:18:51.496Z"
   },
   {
    "duration": 37000,
    "start_time": "2025-03-26T05:19:14.472Z"
   },
   {
    "duration": 48989,
    "start_time": "2025-03-26T05:19:51.474Z"
   },
   {
    "duration": 172501,
    "start_time": "2025-03-26T05:20:40.465Z"
   },
   {
    "duration": 56,
    "start_time": "2025-03-26T05:23:32.967Z"
   },
   {
    "duration": 1606152,
    "start_time": "2025-03-26T05:23:33.025Z"
   },
   {
    "duration": 9,
    "start_time": "2025-03-26T05:50:19.179Z"
   },
   {
    "duration": 9882,
    "start_time": "2025-03-26T06:10:37.485Z"
   },
   {
    "duration": 996,
    "start_time": "2025-03-26T06:10:47.370Z"
   },
   {
    "duration": 3,
    "start_time": "2025-03-26T06:10:48.368Z"
   },
   {
    "duration": 405,
    "start_time": "2025-03-26T06:10:48.373Z"
   },
   {
    "duration": 1519,
    "start_time": "2025-03-26T06:10:48.780Z"
   },
   {
    "duration": 1129,
    "start_time": "2025-03-26T06:10:50.301Z"
   },
   {
    "duration": 4,
    "start_time": "2025-03-26T06:10:51.432Z"
   },
   {
    "duration": 5,
    "start_time": "2025-03-26T06:10:51.438Z"
   },
   {
    "duration": 20,
    "start_time": "2025-03-26T06:10:51.445Z"
   },
   {
    "duration": 64,
    "start_time": "2025-03-26T06:10:51.468Z"
   },
   {
    "duration": 93,
    "start_time": "2025-03-26T06:10:51.535Z"
   },
   {
    "duration": 322,
    "start_time": "2025-03-26T06:10:51.629Z"
   },
   {
    "duration": 3,
    "start_time": "2025-03-26T06:10:51.952Z"
   },
   {
    "duration": 296,
    "start_time": "2025-03-26T06:10:51.961Z"
   },
   {
    "duration": 568,
    "start_time": "2025-03-26T06:10:52.258Z"
   },
   {
    "duration": 4,
    "start_time": "2025-03-26T06:10:52.828Z"
   },
   {
    "duration": 30,
    "start_time": "2025-03-26T06:10:52.833Z"
   },
   {
    "duration": 29,
    "start_time": "2025-03-26T06:10:52.865Z"
   },
   {
    "duration": 11,
    "start_time": "2025-03-26T06:10:52.896Z"
   },
   {
    "duration": 237,
    "start_time": "2025-03-26T06:10:52.908Z"
   },
   {
    "duration": 1460,
    "start_time": "2025-03-26T06:10:53.147Z"
   },
   {
    "duration": 21,
    "start_time": "2025-03-26T06:10:54.609Z"
   },
   {
    "duration": 44,
    "start_time": "2025-03-26T06:10:54.632Z"
   },
   {
    "duration": 5,
    "start_time": "2025-03-26T06:10:54.677Z"
   },
   {
    "duration": 28,
    "start_time": "2025-03-26T06:10:54.683Z"
   },
   {
    "duration": 215,
    "start_time": "2025-03-26T06:10:54.713Z"
   },
   {
    "duration": 1560,
    "start_time": "2025-03-26T06:10:54.929Z"
   },
   {
    "duration": 5,
    "start_time": "2025-03-26T06:10:56.494Z"
   },
   {
    "duration": 27,
    "start_time": "2025-03-26T06:10:56.501Z"
   },
   {
    "duration": 4,
    "start_time": "2025-03-26T06:10:56.530Z"
   },
   {
    "duration": 28,
    "start_time": "2025-03-26T06:10:56.535Z"
   },
   {
    "duration": 26,
    "start_time": "2025-03-26T06:10:56.564Z"
   },
   {
    "duration": 4,
    "start_time": "2025-03-26T06:10:56.592Z"
   },
   {
    "duration": 27,
    "start_time": "2025-03-26T06:10:56.597Z"
   },
   {
    "duration": 3,
    "start_time": "2025-03-26T06:10:56.626Z"
   },
   {
    "duration": 20,
    "start_time": "2025-03-26T06:10:56.631Z"
   },
   {
    "duration": 8,
    "start_time": "2025-03-26T06:10:56.652Z"
   },
   {
    "duration": 2553,
    "start_time": "2025-03-26T06:10:56.662Z"
   },
   {
    "duration": 15325,
    "start_time": "2025-03-26T06:10:59.217Z"
   },
   {
    "duration": 64,
    "start_time": "2025-03-26T06:11:14.544Z"
   },
   {
    "duration": 57,
    "start_time": "2025-03-26T06:11:14.609Z"
   },
   {
    "duration": 18,
    "start_time": "2025-03-26T06:11:14.668Z"
   },
   {
    "duration": 22,
    "start_time": "2025-03-26T06:11:14.687Z"
   },
   {
    "duration": 5,
    "start_time": "2025-03-26T06:11:14.711Z"
   },
   {
    "duration": 9,
    "start_time": "2025-03-26T06:11:14.717Z"
   },
   {
    "duration": 43,
    "start_time": "2025-03-26T06:11:14.728Z"
   },
   {
    "duration": 26,
    "start_time": "2025-03-26T06:11:14.773Z"
   },
   {
    "duration": 20,
    "start_time": "2025-03-26T06:11:14.801Z"
   },
   {
    "duration": 44,
    "start_time": "2025-03-26T06:11:14.822Z"
   },
   {
    "duration": 915,
    "start_time": "2025-03-26T06:11:14.867Z"
   },
   {
    "duration": 626,
    "start_time": "2025-03-26T06:11:15.785Z"
   },
   {
    "duration": 635,
    "start_time": "2025-03-26T06:11:16.413Z"
   },
   {
    "duration": 596,
    "start_time": "2025-03-26T06:11:17.049Z"
   },
   {
    "duration": 5,
    "start_time": "2025-03-26T06:11:17.646Z"
   },
   {
    "duration": 34,
    "start_time": "2025-03-26T06:11:17.662Z"
   },
   {
    "duration": 35,
    "start_time": "2025-03-26T06:11:17.698Z"
   },
   {
    "duration": 10,
    "start_time": "2025-03-26T06:11:17.735Z"
   },
   {
    "duration": 99,
    "start_time": "2025-03-26T06:11:17.747Z"
   },
   {
    "duration": 68,
    "start_time": "2025-03-26T06:11:17.847Z"
   },
   {
    "duration": 4,
    "start_time": "2025-03-26T06:11:17.916Z"
   },
   {
    "duration": 5943,
    "start_time": "2025-03-26T06:11:17.922Z"
   },
   {
    "duration": 9325,
    "start_time": "2025-03-26T06:11:23.867Z"
   },
   {
    "duration": 75,
    "start_time": "2025-03-26T06:11:33.194Z"
   },
   {
    "duration": 3,
    "start_time": "2025-03-26T06:11:33.271Z"
   },
   {
    "duration": 9,
    "start_time": "2025-03-26T06:11:33.275Z"
   },
   {
    "duration": 24,
    "start_time": "2025-03-26T06:11:33.286Z"
   },
   {
    "duration": 8,
    "start_time": "2025-03-26T06:11:33.312Z"
   },
   {
    "duration": 18,
    "start_time": "2025-03-26T06:11:33.321Z"
   },
   {
    "duration": 16830,
    "start_time": "2025-03-26T06:11:33.341Z"
   },
   {
    "duration": 19271,
    "start_time": "2025-03-26T06:11:50.173Z"
   },
   {
    "duration": 36318,
    "start_time": "2025-03-26T06:12:09.446Z"
   },
   {
    "duration": 50308,
    "start_time": "2025-03-26T06:12:45.766Z"
   },
   {
    "duration": 173299,
    "start_time": "2025-03-26T06:13:36.076Z"
   },
   {
    "duration": 66,
    "start_time": "2025-03-26T06:16:29.376Z"
   },
   {
    "duration": 1564470,
    "start_time": "2025-03-26T06:16:29.443Z"
   },
   {
    "duration": 4,
    "start_time": "2025-03-26T06:58:16.723Z"
   },
   {
    "duration": 4,
    "start_time": "2025-03-26T07:58:40.234Z"
   },
   {
    "duration": 9911,
    "start_time": "2025-03-26T08:42:06.919Z"
   },
   {
    "duration": 1044,
    "start_time": "2025-03-26T08:42:16.832Z"
   },
   {
    "duration": 4,
    "start_time": "2025-03-26T08:42:17.877Z"
   },
   {
    "duration": 265,
    "start_time": "2025-03-26T08:42:17.883Z"
   },
   {
    "duration": 1534,
    "start_time": "2025-03-26T08:42:18.161Z"
   },
   {
    "duration": 1173,
    "start_time": "2025-03-26T08:42:19.697Z"
   },
   {
    "duration": 4,
    "start_time": "2025-03-26T08:42:20.872Z"
   },
   {
    "duration": 43,
    "start_time": "2025-03-26T08:42:20.878Z"
   },
   {
    "duration": 49,
    "start_time": "2025-03-26T08:42:20.923Z"
   },
   {
    "duration": 49,
    "start_time": "2025-03-26T08:42:20.974Z"
   },
   {
    "duration": 127,
    "start_time": "2025-03-26T08:42:21.025Z"
   },
   {
    "duration": 316,
    "start_time": "2025-03-26T08:42:21.154Z"
   },
   {
    "duration": 293,
    "start_time": "2025-03-26T08:42:21.472Z"
   },
   {
    "duration": 598,
    "start_time": "2025-03-26T08:42:21.767Z"
   },
   {
    "duration": 4,
    "start_time": "2025-03-26T08:42:22.367Z"
   },
   {
    "duration": 57,
    "start_time": "2025-03-26T08:42:22.373Z"
   },
   {
    "duration": 98,
    "start_time": "2025-03-26T08:42:22.432Z"
   },
   {
    "duration": 11,
    "start_time": "2025-03-26T08:42:22.533Z"
   },
   {
    "duration": 222,
    "start_time": "2025-03-26T08:42:22.546Z"
   },
   {
    "duration": 1492,
    "start_time": "2025-03-26T08:42:22.770Z"
   },
   {
    "duration": 21,
    "start_time": "2025-03-26T08:42:24.264Z"
   },
   {
    "duration": 65,
    "start_time": "2025-03-26T08:42:24.287Z"
   },
   {
    "duration": 3,
    "start_time": "2025-03-26T08:42:24.354Z"
   },
   {
    "duration": 33,
    "start_time": "2025-03-26T08:42:24.359Z"
   },
   {
    "duration": 217,
    "start_time": "2025-03-26T08:42:24.394Z"
   },
   {
    "duration": 1516,
    "start_time": "2025-03-26T08:42:24.613Z"
   },
   {
    "duration": 5,
    "start_time": "2025-03-26T08:42:26.131Z"
   },
   {
    "duration": 49,
    "start_time": "2025-03-26T08:42:26.139Z"
   },
   {
    "duration": 45,
    "start_time": "2025-03-26T08:42:26.190Z"
   },
   {
    "duration": 20,
    "start_time": "2025-03-26T08:42:26.237Z"
   },
   {
    "duration": 47,
    "start_time": "2025-03-26T08:42:26.259Z"
   },
   {
    "duration": 3,
    "start_time": "2025-03-26T08:42:26.308Z"
   },
   {
    "duration": 16,
    "start_time": "2025-03-26T08:42:26.312Z"
   },
   {
    "duration": 3,
    "start_time": "2025-03-26T08:42:26.330Z"
   },
   {
    "duration": 5,
    "start_time": "2025-03-26T08:42:26.335Z"
   },
   {
    "duration": 9,
    "start_time": "2025-03-26T08:42:26.341Z"
   },
   {
    "duration": 2463,
    "start_time": "2025-03-26T08:42:26.351Z"
   },
   {
    "duration": 15629,
    "start_time": "2025-03-26T08:42:28.816Z"
   },
   {
    "duration": 60,
    "start_time": "2025-03-26T08:42:44.447Z"
   },
   {
    "duration": 79,
    "start_time": "2025-03-26T08:42:44.508Z"
   },
   {
    "duration": 132,
    "start_time": "2025-03-26T08:42:44.588Z"
   },
   {
    "duration": 25,
    "start_time": "2025-03-26T08:42:44.721Z"
   },
   {
    "duration": 36,
    "start_time": "2025-03-26T08:42:44.747Z"
   },
   {
    "duration": 6,
    "start_time": "2025-03-26T08:42:44.785Z"
   },
   {
    "duration": 19,
    "start_time": "2025-03-26T08:42:44.793Z"
   },
   {
    "duration": 27,
    "start_time": "2025-03-26T08:42:44.814Z"
   },
   {
    "duration": 36,
    "start_time": "2025-03-26T08:42:44.843Z"
   },
   {
    "duration": 28,
    "start_time": "2025-03-26T08:42:44.880Z"
   },
   {
    "duration": 956,
    "start_time": "2025-03-26T08:42:44.909Z"
   },
   {
    "duration": 627,
    "start_time": "2025-03-26T08:42:45.866Z"
   },
   {
    "duration": 662,
    "start_time": "2025-03-26T08:42:46.495Z"
   },
   {
    "duration": 625,
    "start_time": "2025-03-26T08:42:47.159Z"
   },
   {
    "duration": 5,
    "start_time": "2025-03-26T08:42:47.785Z"
   },
   {
    "duration": 6,
    "start_time": "2025-03-26T08:42:47.791Z"
   },
   {
    "duration": 31,
    "start_time": "2025-03-26T08:42:47.799Z"
   },
   {
    "duration": 35,
    "start_time": "2025-03-26T08:42:47.831Z"
   },
   {
    "duration": 16,
    "start_time": "2025-03-26T08:42:47.868Z"
   },
   {
    "duration": 77,
    "start_time": "2025-03-26T08:42:47.885Z"
   },
   {
    "duration": 6194,
    "start_time": "2025-03-26T08:42:47.964Z"
   },
   {
    "duration": 9823,
    "start_time": "2025-03-26T08:42:54.161Z"
   },
   {
    "duration": 81,
    "start_time": "2025-03-26T08:43:03.986Z"
   },
   {
    "duration": 4,
    "start_time": "2025-03-26T08:43:04.068Z"
   },
   {
    "duration": 31,
    "start_time": "2025-03-26T08:43:04.073Z"
   },
   {
    "duration": 18,
    "start_time": "2025-03-26T08:43:04.106Z"
   },
   {
    "duration": 23,
    "start_time": "2025-03-26T08:43:04.126Z"
   },
   {
    "duration": 82,
    "start_time": "2025-03-26T08:43:04.151Z"
   },
   {
    "duration": 19286,
    "start_time": "2025-03-26T08:43:04.234Z"
   },
   {
    "duration": 19761,
    "start_time": "2025-03-26T08:43:23.521Z"
   },
   {
    "duration": 194194,
    "start_time": "2025-03-26T08:43:43.284Z"
   },
   {
    "duration": 53599,
    "start_time": "2025-03-26T08:46:57.480Z"
   },
   {
    "duration": 180306,
    "start_time": "2025-03-26T08:47:51.080Z"
   },
   {
    "duration": 57,
    "start_time": "2025-03-26T08:50:51.387Z"
   },
   {
    "duration": 1569130,
    "start_time": "2025-03-26T08:50:51.446Z"
   },
   {
    "duration": 45,
    "start_time": "2025-03-27T05:44:02.963Z"
   },
   {
    "duration": 14689,
    "start_time": "2025-03-27T05:44:37.475Z"
   },
   {
    "duration": 993,
    "start_time": "2025-03-27T05:44:52.166Z"
   },
   {
    "duration": 3,
    "start_time": "2025-03-27T05:44:53.161Z"
   },
   {
    "duration": 236,
    "start_time": "2025-03-27T05:44:53.166Z"
   },
   {
    "duration": 1324,
    "start_time": "2025-03-27T05:44:53.407Z"
   },
   {
    "duration": 1046,
    "start_time": "2025-03-27T05:44:54.733Z"
   },
   {
    "duration": 4,
    "start_time": "2025-03-27T05:44:55.781Z"
   },
   {
    "duration": 21,
    "start_time": "2025-03-27T05:44:55.786Z"
   },
   {
    "duration": 14,
    "start_time": "2025-03-27T05:44:55.809Z"
   },
   {
    "duration": 25,
    "start_time": "2025-03-27T05:44:55.825Z"
   },
   {
    "duration": 99,
    "start_time": "2025-03-27T05:44:55.851Z"
   },
   {
    "duration": 112,
    "start_time": "2025-03-27T05:44:55.952Z"
   },
   {
    "duration": 0,
    "start_time": "2025-03-27T05:44:56.067Z"
   },
   {
    "duration": 0,
    "start_time": "2025-03-27T05:44:56.068Z"
   },
   {
    "duration": 0,
    "start_time": "2025-03-27T05:44:56.069Z"
   },
   {
    "duration": 0,
    "start_time": "2025-03-27T05:44:56.071Z"
   },
   {
    "duration": 0,
    "start_time": "2025-03-27T05:44:56.072Z"
   },
   {
    "duration": 0,
    "start_time": "2025-03-27T05:44:56.073Z"
   },
   {
    "duration": 0,
    "start_time": "2025-03-27T05:44:56.073Z"
   },
   {
    "duration": 0,
    "start_time": "2025-03-27T05:44:56.075Z"
   },
   {
    "duration": 0,
    "start_time": "2025-03-27T05:44:56.076Z"
   },
   {
    "duration": 0,
    "start_time": "2025-03-27T05:44:56.077Z"
   },
   {
    "duration": 0,
    "start_time": "2025-03-27T05:44:56.078Z"
   },
   {
    "duration": 0,
    "start_time": "2025-03-27T05:44:56.079Z"
   },
   {
    "duration": 0,
    "start_time": "2025-03-27T05:44:56.080Z"
   },
   {
    "duration": 0,
    "start_time": "2025-03-27T05:44:56.081Z"
   },
   {
    "duration": 0,
    "start_time": "2025-03-27T05:44:56.082Z"
   },
   {
    "duration": 0,
    "start_time": "2025-03-27T05:44:56.083Z"
   },
   {
    "duration": 0,
    "start_time": "2025-03-27T05:44:56.084Z"
   },
   {
    "duration": 0,
    "start_time": "2025-03-27T05:44:56.085Z"
   },
   {
    "duration": 0,
    "start_time": "2025-03-27T05:44:56.086Z"
   },
   {
    "duration": 0,
    "start_time": "2025-03-27T05:44:56.087Z"
   },
   {
    "duration": 0,
    "start_time": "2025-03-27T05:44:56.088Z"
   },
   {
    "duration": 0,
    "start_time": "2025-03-27T05:44:56.089Z"
   },
   {
    "duration": 0,
    "start_time": "2025-03-27T05:44:56.090Z"
   },
   {
    "duration": 0,
    "start_time": "2025-03-27T05:44:56.091Z"
   },
   {
    "duration": 0,
    "start_time": "2025-03-27T05:44:56.092Z"
   },
   {
    "duration": 0,
    "start_time": "2025-03-27T05:44:56.093Z"
   },
   {
    "duration": 0,
    "start_time": "2025-03-27T05:44:56.094Z"
   },
   {
    "duration": 0,
    "start_time": "2025-03-27T05:44:56.096Z"
   },
   {
    "duration": 0,
    "start_time": "2025-03-27T05:44:56.097Z"
   },
   {
    "duration": 0,
    "start_time": "2025-03-27T05:44:56.098Z"
   },
   {
    "duration": 0,
    "start_time": "2025-03-27T05:44:56.099Z"
   },
   {
    "duration": 0,
    "start_time": "2025-03-27T05:44:56.099Z"
   },
   {
    "duration": 0,
    "start_time": "2025-03-27T05:44:56.100Z"
   },
   {
    "duration": 0,
    "start_time": "2025-03-27T05:44:56.101Z"
   },
   {
    "duration": 0,
    "start_time": "2025-03-27T05:44:56.102Z"
   },
   {
    "duration": 0,
    "start_time": "2025-03-27T05:44:56.104Z"
   },
   {
    "duration": 0,
    "start_time": "2025-03-27T05:44:56.104Z"
   },
   {
    "duration": 0,
    "start_time": "2025-03-27T05:44:56.106Z"
   },
   {
    "duration": 0,
    "start_time": "2025-03-27T05:44:56.108Z"
   },
   {
    "duration": 0,
    "start_time": "2025-03-27T05:44:56.109Z"
   },
   {
    "duration": 0,
    "start_time": "2025-03-27T05:44:56.109Z"
   },
   {
    "duration": 0,
    "start_time": "2025-03-27T05:44:56.111Z"
   },
   {
    "duration": 0,
    "start_time": "2025-03-27T05:44:56.111Z"
   },
   {
    "duration": 0,
    "start_time": "2025-03-27T05:44:56.112Z"
   },
   {
    "duration": 0,
    "start_time": "2025-03-27T05:44:56.113Z"
   },
   {
    "duration": 0,
    "start_time": "2025-03-27T05:44:56.114Z"
   },
   {
    "duration": 0,
    "start_time": "2025-03-27T05:44:56.115Z"
   },
   {
    "duration": 0,
    "start_time": "2025-03-27T05:44:56.116Z"
   },
   {
    "duration": 0,
    "start_time": "2025-03-27T05:44:56.117Z"
   },
   {
    "duration": 0,
    "start_time": "2025-03-27T05:44:56.118Z"
   },
   {
    "duration": 0,
    "start_time": "2025-03-27T05:44:56.119Z"
   },
   {
    "duration": 0,
    "start_time": "2025-03-27T05:44:56.120Z"
   },
   {
    "duration": 0,
    "start_time": "2025-03-27T05:44:56.121Z"
   },
   {
    "duration": 0,
    "start_time": "2025-03-27T05:44:56.122Z"
   },
   {
    "duration": 0,
    "start_time": "2025-03-27T05:44:56.123Z"
   },
   {
    "duration": 0,
    "start_time": "2025-03-27T05:44:56.124Z"
   },
   {
    "duration": 0,
    "start_time": "2025-03-27T05:44:56.125Z"
   },
   {
    "duration": 0,
    "start_time": "2025-03-27T05:44:56.126Z"
   },
   {
    "duration": 0,
    "start_time": "2025-03-27T05:44:56.127Z"
   },
   {
    "duration": 0,
    "start_time": "2025-03-27T05:44:56.128Z"
   },
   {
    "duration": 0,
    "start_time": "2025-03-27T05:44:56.129Z"
   },
   {
    "duration": 0,
    "start_time": "2025-03-27T05:44:56.130Z"
   },
   {
    "duration": 1128,
    "start_time": "2025-03-27T05:45:42.968Z"
   },
   {
    "duration": 1124,
    "start_time": "2025-03-27T05:45:54.895Z"
   },
   {
    "duration": 1161,
    "start_time": "2025-03-27T05:46:04.151Z"
   },
   {
    "duration": 1264,
    "start_time": "2025-03-27T05:48:28.456Z"
   },
   {
    "duration": 1233,
    "start_time": "2025-03-27T05:48:36.966Z"
   },
   {
    "duration": 1188,
    "start_time": "2025-03-27T05:48:48.727Z"
   },
   {
    "duration": 1130,
    "start_time": "2025-03-27T05:51:51.986Z"
   },
   {
    "duration": 1203,
    "start_time": "2025-03-27T05:51:58.310Z"
   },
   {
    "duration": 1338,
    "start_time": "2025-03-27T05:52:04.796Z"
   },
   {
    "duration": 1232,
    "start_time": "2025-03-27T05:55:08.182Z"
   },
   {
    "duration": 1205,
    "start_time": "2025-03-27T05:56:00.251Z"
   },
   {
    "duration": 1270,
    "start_time": "2025-03-27T05:58:30.548Z"
   },
   {
    "duration": 1165,
    "start_time": "2025-03-27T06:00:04.474Z"
   },
   {
    "duration": 14884,
    "start_time": "2025-03-27T08:49:15.829Z"
   },
   {
    "duration": 1000,
    "start_time": "2025-03-27T08:49:30.715Z"
   },
   {
    "duration": 4,
    "start_time": "2025-03-27T08:49:31.717Z"
   },
   {
    "duration": 242,
    "start_time": "2025-03-27T08:49:31.724Z"
   },
   {
    "duration": 1418,
    "start_time": "2025-03-27T08:49:31.968Z"
   },
   {
    "duration": 5072,
    "start_time": "2025-03-27T08:49:33.388Z"
   },
   {
    "duration": 8,
    "start_time": "2025-03-27T08:49:38.462Z"
   },
   {
    "duration": 21,
    "start_time": "2025-03-27T08:49:38.472Z"
   },
   {
    "duration": 15,
    "start_time": "2025-03-27T08:49:38.494Z"
   },
   {
    "duration": 23,
    "start_time": "2025-03-27T08:49:38.511Z"
   },
   {
    "duration": 93,
    "start_time": "2025-03-27T08:49:38.536Z"
   },
   {
    "duration": 94,
    "start_time": "2025-03-27T08:49:38.632Z"
   },
   {
    "duration": 0,
    "start_time": "2025-03-27T08:49:38.730Z"
   },
   {
    "duration": 0,
    "start_time": "2025-03-27T08:49:38.731Z"
   },
   {
    "duration": 0,
    "start_time": "2025-03-27T08:49:38.732Z"
   },
   {
    "duration": 0,
    "start_time": "2025-03-27T08:49:38.733Z"
   },
   {
    "duration": 0,
    "start_time": "2025-03-27T08:49:38.736Z"
   },
   {
    "duration": 0,
    "start_time": "2025-03-27T08:49:38.737Z"
   },
   {
    "duration": 0,
    "start_time": "2025-03-27T08:49:38.739Z"
   },
   {
    "duration": 0,
    "start_time": "2025-03-27T08:49:38.740Z"
   },
   {
    "duration": 0,
    "start_time": "2025-03-27T08:49:38.741Z"
   },
   {
    "duration": 0,
    "start_time": "2025-03-27T08:49:38.744Z"
   },
   {
    "duration": 0,
    "start_time": "2025-03-27T08:49:38.745Z"
   },
   {
    "duration": 0,
    "start_time": "2025-03-27T08:49:38.746Z"
   },
   {
    "duration": 0,
    "start_time": "2025-03-27T08:49:38.747Z"
   },
   {
    "duration": 0,
    "start_time": "2025-03-27T08:49:38.748Z"
   },
   {
    "duration": 0,
    "start_time": "2025-03-27T08:49:38.750Z"
   },
   {
    "duration": 0,
    "start_time": "2025-03-27T08:49:38.751Z"
   },
   {
    "duration": 0,
    "start_time": "2025-03-27T08:49:38.752Z"
   },
   {
    "duration": 0,
    "start_time": "2025-03-27T08:49:38.753Z"
   },
   {
    "duration": 0,
    "start_time": "2025-03-27T08:49:38.754Z"
   },
   {
    "duration": 0,
    "start_time": "2025-03-27T08:49:38.755Z"
   },
   {
    "duration": 0,
    "start_time": "2025-03-27T08:49:38.756Z"
   },
   {
    "duration": 0,
    "start_time": "2025-03-27T08:49:38.758Z"
   },
   {
    "duration": 0,
    "start_time": "2025-03-27T08:49:38.759Z"
   },
   {
    "duration": 0,
    "start_time": "2025-03-27T08:49:38.760Z"
   },
   {
    "duration": 0,
    "start_time": "2025-03-27T08:49:38.761Z"
   },
   {
    "duration": 0,
    "start_time": "2025-03-27T08:49:38.762Z"
   },
   {
    "duration": 0,
    "start_time": "2025-03-27T08:49:38.766Z"
   },
   {
    "duration": 0,
    "start_time": "2025-03-27T08:49:38.768Z"
   },
   {
    "duration": 0,
    "start_time": "2025-03-27T08:49:38.770Z"
   },
   {
    "duration": 0,
    "start_time": "2025-03-27T08:49:38.771Z"
   },
   {
    "duration": 0,
    "start_time": "2025-03-27T08:49:38.772Z"
   },
   {
    "duration": 0,
    "start_time": "2025-03-27T08:49:38.773Z"
   },
   {
    "duration": 0,
    "start_time": "2025-03-27T08:49:38.774Z"
   },
   {
    "duration": 0,
    "start_time": "2025-03-27T08:49:38.775Z"
   },
   {
    "duration": 0,
    "start_time": "2025-03-27T08:49:38.776Z"
   },
   {
    "duration": 0,
    "start_time": "2025-03-27T08:49:38.778Z"
   },
   {
    "duration": 0,
    "start_time": "2025-03-27T08:49:38.779Z"
   },
   {
    "duration": 0,
    "start_time": "2025-03-27T08:49:38.780Z"
   },
   {
    "duration": 0,
    "start_time": "2025-03-27T08:49:38.781Z"
   },
   {
    "duration": 0,
    "start_time": "2025-03-27T08:49:38.783Z"
   },
   {
    "duration": 0,
    "start_time": "2025-03-27T08:49:38.784Z"
   },
   {
    "duration": 0,
    "start_time": "2025-03-27T08:49:38.785Z"
   },
   {
    "duration": 0,
    "start_time": "2025-03-27T08:49:38.785Z"
   },
   {
    "duration": 0,
    "start_time": "2025-03-27T08:49:38.786Z"
   },
   {
    "duration": 0,
    "start_time": "2025-03-27T08:49:38.787Z"
   },
   {
    "duration": 0,
    "start_time": "2025-03-27T08:49:38.788Z"
   },
   {
    "duration": 0,
    "start_time": "2025-03-27T08:49:38.789Z"
   },
   {
    "duration": 0,
    "start_time": "2025-03-27T08:49:38.791Z"
   },
   {
    "duration": 0,
    "start_time": "2025-03-27T08:49:38.792Z"
   },
   {
    "duration": 0,
    "start_time": "2025-03-27T08:49:38.793Z"
   },
   {
    "duration": 0,
    "start_time": "2025-03-27T08:49:38.794Z"
   },
   {
    "duration": 0,
    "start_time": "2025-03-27T08:49:38.795Z"
   },
   {
    "duration": 0,
    "start_time": "2025-03-27T08:49:38.796Z"
   },
   {
    "duration": 0,
    "start_time": "2025-03-27T08:49:38.797Z"
   },
   {
    "duration": 0,
    "start_time": "2025-03-27T08:49:38.799Z"
   },
   {
    "duration": 0,
    "start_time": "2025-03-27T08:49:38.800Z"
   },
   {
    "duration": 0,
    "start_time": "2025-03-27T08:49:38.801Z"
   },
   {
    "duration": 0,
    "start_time": "2025-03-27T08:49:38.802Z"
   },
   {
    "duration": 0,
    "start_time": "2025-03-27T08:49:38.803Z"
   },
   {
    "duration": 0,
    "start_time": "2025-03-27T08:49:38.804Z"
   },
   {
    "duration": 0,
    "start_time": "2025-03-27T08:49:38.805Z"
   },
   {
    "duration": 0,
    "start_time": "2025-03-27T08:49:38.806Z"
   },
   {
    "duration": 10194,
    "start_time": "2025-03-27T08:49:42.926Z"
   },
   {
    "duration": 896,
    "start_time": "2025-03-27T08:49:53.122Z"
   },
   {
    "duration": 4,
    "start_time": "2025-03-27T08:49:54.019Z"
   },
   {
    "duration": 244,
    "start_time": "2025-03-27T08:49:54.024Z"
   },
   {
    "duration": 1508,
    "start_time": "2025-03-27T08:49:54.270Z"
   },
   {
    "duration": 1027,
    "start_time": "2025-03-27T08:49:55.779Z"
   },
   {
    "duration": 4,
    "start_time": "2025-03-27T08:49:56.807Z"
   },
   {
    "duration": 35,
    "start_time": "2025-03-27T08:49:56.813Z"
   },
   {
    "duration": 13,
    "start_time": "2025-03-27T08:49:56.850Z"
   },
   {
    "duration": 25,
    "start_time": "2025-03-27T08:49:56.867Z"
   },
   {
    "duration": 100,
    "start_time": "2025-03-27T08:49:56.893Z"
   },
   {
    "duration": 131,
    "start_time": "2025-03-27T08:49:56.995Z"
   },
   {
    "duration": 0,
    "start_time": "2025-03-27T08:49:57.128Z"
   },
   {
    "duration": 0,
    "start_time": "2025-03-27T08:49:57.130Z"
   },
   {
    "duration": 0,
    "start_time": "2025-03-27T08:49:57.131Z"
   },
   {
    "duration": 0,
    "start_time": "2025-03-27T08:49:57.131Z"
   },
   {
    "duration": 0,
    "start_time": "2025-03-27T08:49:57.132Z"
   },
   {
    "duration": 0,
    "start_time": "2025-03-27T08:49:57.133Z"
   },
   {
    "duration": 0,
    "start_time": "2025-03-27T08:49:57.135Z"
   },
   {
    "duration": 0,
    "start_time": "2025-03-27T08:49:57.136Z"
   },
   {
    "duration": 0,
    "start_time": "2025-03-27T08:49:57.137Z"
   },
   {
    "duration": 0,
    "start_time": "2025-03-27T08:49:57.138Z"
   },
   {
    "duration": 0,
    "start_time": "2025-03-27T08:49:57.139Z"
   },
   {
    "duration": 0,
    "start_time": "2025-03-27T08:49:57.140Z"
   },
   {
    "duration": 0,
    "start_time": "2025-03-27T08:49:57.141Z"
   },
   {
    "duration": 0,
    "start_time": "2025-03-27T08:49:57.142Z"
   },
   {
    "duration": 0,
    "start_time": "2025-03-27T08:49:57.143Z"
   },
   {
    "duration": 0,
    "start_time": "2025-03-27T08:49:57.144Z"
   },
   {
    "duration": 0,
    "start_time": "2025-03-27T08:49:57.145Z"
   },
   {
    "duration": 0,
    "start_time": "2025-03-27T08:49:57.146Z"
   },
   {
    "duration": 0,
    "start_time": "2025-03-27T08:49:57.147Z"
   },
   {
    "duration": 0,
    "start_time": "2025-03-27T08:49:57.148Z"
   },
   {
    "duration": 0,
    "start_time": "2025-03-27T08:49:57.149Z"
   },
   {
    "duration": 0,
    "start_time": "2025-03-27T08:49:57.150Z"
   },
   {
    "duration": 0,
    "start_time": "2025-03-27T08:49:57.151Z"
   },
   {
    "duration": 0,
    "start_time": "2025-03-27T08:49:57.152Z"
   },
   {
    "duration": 0,
    "start_time": "2025-03-27T08:49:57.153Z"
   },
   {
    "duration": 0,
    "start_time": "2025-03-27T08:49:57.154Z"
   },
   {
    "duration": 0,
    "start_time": "2025-03-27T08:49:57.156Z"
   },
   {
    "duration": 0,
    "start_time": "2025-03-27T08:49:57.157Z"
   },
   {
    "duration": 0,
    "start_time": "2025-03-27T08:49:57.158Z"
   },
   {
    "duration": 0,
    "start_time": "2025-03-27T08:49:57.159Z"
   },
   {
    "duration": 0,
    "start_time": "2025-03-27T08:49:57.160Z"
   },
   {
    "duration": 0,
    "start_time": "2025-03-27T08:49:57.161Z"
   },
   {
    "duration": 0,
    "start_time": "2025-03-27T08:49:57.162Z"
   },
   {
    "duration": 0,
    "start_time": "2025-03-27T08:49:57.163Z"
   },
   {
    "duration": 0,
    "start_time": "2025-03-27T08:49:57.164Z"
   },
   {
    "duration": 0,
    "start_time": "2025-03-27T08:49:57.165Z"
   },
   {
    "duration": 0,
    "start_time": "2025-03-27T08:49:57.167Z"
   },
   {
    "duration": 0,
    "start_time": "2025-03-27T08:49:57.167Z"
   },
   {
    "duration": 0,
    "start_time": "2025-03-27T08:49:57.168Z"
   },
   {
    "duration": 0,
    "start_time": "2025-03-27T08:49:57.169Z"
   },
   {
    "duration": 0,
    "start_time": "2025-03-27T08:49:57.170Z"
   },
   {
    "duration": 0,
    "start_time": "2025-03-27T08:49:57.171Z"
   },
   {
    "duration": 0,
    "start_time": "2025-03-27T08:49:57.172Z"
   },
   {
    "duration": 0,
    "start_time": "2025-03-27T08:49:57.174Z"
   },
   {
    "duration": 0,
    "start_time": "2025-03-27T08:49:57.174Z"
   },
   {
    "duration": 0,
    "start_time": "2025-03-27T08:49:57.176Z"
   },
   {
    "duration": 0,
    "start_time": "2025-03-27T08:49:57.177Z"
   },
   {
    "duration": 0,
    "start_time": "2025-03-27T08:49:57.177Z"
   },
   {
    "duration": 0,
    "start_time": "2025-03-27T08:49:57.178Z"
   },
   {
    "duration": 0,
    "start_time": "2025-03-27T08:49:57.179Z"
   },
   {
    "duration": 0,
    "start_time": "2025-03-27T08:49:57.180Z"
   },
   {
    "duration": 0,
    "start_time": "2025-03-27T08:49:57.181Z"
   },
   {
    "duration": 0,
    "start_time": "2025-03-27T08:49:57.182Z"
   },
   {
    "duration": 0,
    "start_time": "2025-03-27T08:49:57.183Z"
   },
   {
    "duration": 0,
    "start_time": "2025-03-27T08:49:57.184Z"
   },
   {
    "duration": 0,
    "start_time": "2025-03-27T08:49:57.185Z"
   },
   {
    "duration": 0,
    "start_time": "2025-03-27T08:49:57.186Z"
   },
   {
    "duration": 0,
    "start_time": "2025-03-27T08:49:57.187Z"
   },
   {
    "duration": 0,
    "start_time": "2025-03-27T08:49:57.188Z"
   },
   {
    "duration": 0,
    "start_time": "2025-03-27T08:49:57.189Z"
   },
   {
    "duration": 0,
    "start_time": "2025-03-27T08:49:57.190Z"
   },
   {
    "duration": 0,
    "start_time": "2025-03-27T08:49:57.191Z"
   },
   {
    "duration": 1148,
    "start_time": "2025-03-27T08:50:27.146Z"
   },
   {
    "duration": 1202,
    "start_time": "2025-03-27T08:50:44.072Z"
   },
   {
    "duration": 10330,
    "start_time": "2025-03-27T09:12:29.976Z"
   },
   {
    "duration": 920,
    "start_time": "2025-03-27T09:12:40.308Z"
   },
   {
    "duration": 4,
    "start_time": "2025-03-27T09:12:41.229Z"
   },
   {
    "duration": 245,
    "start_time": "2025-03-27T09:12:41.235Z"
   },
   {
    "duration": 1513,
    "start_time": "2025-03-27T09:12:41.481Z"
   },
   {
    "duration": 1065,
    "start_time": "2025-03-27T09:12:42.996Z"
   },
   {
    "duration": 4,
    "start_time": "2025-03-27T09:12:44.067Z"
   },
   {
    "duration": 13,
    "start_time": "2025-03-27T09:12:44.072Z"
   },
   {
    "duration": 9,
    "start_time": "2025-03-27T09:12:44.086Z"
   },
   {
    "duration": 29,
    "start_time": "2025-03-27T09:12:44.097Z"
   },
   {
    "duration": 101,
    "start_time": "2025-03-27T09:12:44.127Z"
   },
   {
    "duration": 95,
    "start_time": "2025-03-27T09:12:44.230Z"
   },
   {
    "duration": 0,
    "start_time": "2025-03-27T09:12:44.328Z"
   },
   {
    "duration": 0,
    "start_time": "2025-03-27T09:12:44.329Z"
   },
   {
    "duration": 0,
    "start_time": "2025-03-27T09:12:44.330Z"
   },
   {
    "duration": 0,
    "start_time": "2025-03-27T09:12:44.331Z"
   },
   {
    "duration": 0,
    "start_time": "2025-03-27T09:12:44.333Z"
   },
   {
    "duration": 0,
    "start_time": "2025-03-27T09:12:44.334Z"
   },
   {
    "duration": 0,
    "start_time": "2025-03-27T09:12:44.334Z"
   },
   {
    "duration": 0,
    "start_time": "2025-03-27T09:12:44.335Z"
   },
   {
    "duration": 0,
    "start_time": "2025-03-27T09:12:44.336Z"
   },
   {
    "duration": 0,
    "start_time": "2025-03-27T09:12:44.338Z"
   },
   {
    "duration": 0,
    "start_time": "2025-03-27T09:12:44.339Z"
   },
   {
    "duration": 0,
    "start_time": "2025-03-27T09:12:44.340Z"
   },
   {
    "duration": 0,
    "start_time": "2025-03-27T09:12:44.341Z"
   },
   {
    "duration": 0,
    "start_time": "2025-03-27T09:12:44.343Z"
   },
   {
    "duration": 0,
    "start_time": "2025-03-27T09:12:44.344Z"
   },
   {
    "duration": 0,
    "start_time": "2025-03-27T09:12:44.345Z"
   },
   {
    "duration": 0,
    "start_time": "2025-03-27T09:12:44.346Z"
   },
   {
    "duration": 0,
    "start_time": "2025-03-27T09:12:44.347Z"
   },
   {
    "duration": 0,
    "start_time": "2025-03-27T09:12:44.348Z"
   },
   {
    "duration": 0,
    "start_time": "2025-03-27T09:12:44.349Z"
   },
   {
    "duration": 0,
    "start_time": "2025-03-27T09:12:44.350Z"
   },
   {
    "duration": 0,
    "start_time": "2025-03-27T09:12:44.351Z"
   },
   {
    "duration": 0,
    "start_time": "2025-03-27T09:12:44.352Z"
   },
   {
    "duration": 0,
    "start_time": "2025-03-27T09:12:44.353Z"
   },
   {
    "duration": 0,
    "start_time": "2025-03-27T09:12:44.354Z"
   },
   {
    "duration": 0,
    "start_time": "2025-03-27T09:12:44.355Z"
   },
   {
    "duration": 0,
    "start_time": "2025-03-27T09:12:44.356Z"
   },
   {
    "duration": 0,
    "start_time": "2025-03-27T09:12:44.357Z"
   },
   {
    "duration": 0,
    "start_time": "2025-03-27T09:12:44.359Z"
   },
   {
    "duration": 0,
    "start_time": "2025-03-27T09:12:44.360Z"
   },
   {
    "duration": 0,
    "start_time": "2025-03-27T09:12:44.361Z"
   },
   {
    "duration": 0,
    "start_time": "2025-03-27T09:12:44.362Z"
   },
   {
    "duration": 0,
    "start_time": "2025-03-27T09:12:44.363Z"
   },
   {
    "duration": 0,
    "start_time": "2025-03-27T09:12:44.367Z"
   },
   {
    "duration": 0,
    "start_time": "2025-03-27T09:12:44.368Z"
   },
   {
    "duration": 0,
    "start_time": "2025-03-27T09:12:44.369Z"
   },
   {
    "duration": 0,
    "start_time": "2025-03-27T09:12:44.370Z"
   },
   {
    "duration": 0,
    "start_time": "2025-03-27T09:12:44.371Z"
   },
   {
    "duration": 0,
    "start_time": "2025-03-27T09:12:44.373Z"
   },
   {
    "duration": 0,
    "start_time": "2025-03-27T09:12:44.374Z"
   },
   {
    "duration": 0,
    "start_time": "2025-03-27T09:12:44.375Z"
   },
   {
    "duration": 0,
    "start_time": "2025-03-27T09:12:44.376Z"
   },
   {
    "duration": 0,
    "start_time": "2025-03-27T09:12:44.377Z"
   },
   {
    "duration": 0,
    "start_time": "2025-03-27T09:12:44.378Z"
   },
   {
    "duration": 0,
    "start_time": "2025-03-27T09:12:44.379Z"
   },
   {
    "duration": 0,
    "start_time": "2025-03-27T09:12:44.381Z"
   },
   {
    "duration": 0,
    "start_time": "2025-03-27T09:12:44.383Z"
   },
   {
    "duration": 0,
    "start_time": "2025-03-27T09:12:44.385Z"
   },
   {
    "duration": 0,
    "start_time": "2025-03-27T09:12:44.387Z"
   },
   {
    "duration": 0,
    "start_time": "2025-03-27T09:12:44.388Z"
   },
   {
    "duration": 0,
    "start_time": "2025-03-27T09:12:44.389Z"
   },
   {
    "duration": 0,
    "start_time": "2025-03-27T09:12:44.391Z"
   },
   {
    "duration": 0,
    "start_time": "2025-03-27T09:12:44.392Z"
   },
   {
    "duration": 0,
    "start_time": "2025-03-27T09:12:44.394Z"
   },
   {
    "duration": 0,
    "start_time": "2025-03-27T09:12:44.396Z"
   },
   {
    "duration": 0,
    "start_time": "2025-03-27T09:12:44.397Z"
   },
   {
    "duration": 0,
    "start_time": "2025-03-27T09:12:44.399Z"
   },
   {
    "duration": 0,
    "start_time": "2025-03-27T09:12:44.400Z"
   },
   {
    "duration": 0,
    "start_time": "2025-03-27T09:12:44.402Z"
   },
   {
    "duration": 0,
    "start_time": "2025-03-27T09:12:44.403Z"
   },
   {
    "duration": 0,
    "start_time": "2025-03-27T09:12:44.405Z"
   },
   {
    "duration": 0,
    "start_time": "2025-03-27T09:12:44.406Z"
   },
   {
    "duration": 1168,
    "start_time": "2025-03-27T09:12:59.013Z"
   },
   {
    "duration": 130,
    "start_time": "2025-03-27T09:15:51.741Z"
   },
   {
    "duration": 1134,
    "start_time": "2025-03-27T09:17:34.861Z"
   },
   {
    "duration": 1210,
    "start_time": "2025-03-27T09:18:13.182Z"
   },
   {
    "duration": 1134,
    "start_time": "2025-03-27T09:18:20.646Z"
   },
   {
    "duration": 180,
    "start_time": "2025-03-27T09:19:01.456Z"
   },
   {
    "duration": 1329,
    "start_time": "2025-03-27T09:19:35.863Z"
   },
   {
    "duration": 1213,
    "start_time": "2025-03-27T09:20:18.794Z"
   },
   {
    "duration": 5,
    "start_time": "2025-03-27T10:37:39.043Z"
   },
   {
    "duration": 6168,
    "start_time": "2025-03-27T10:38:42.635Z"
   },
   {
    "duration": 4719,
    "start_time": "2025-03-27T10:41:35.931Z"
   },
   {
    "duration": 5574,
    "start_time": "2025-03-27T10:42:48.354Z"
   },
   {
    "duration": 10,
    "start_time": "2025-03-27T10:46:20.182Z"
   },
   {
    "duration": 4,
    "start_time": "2025-03-27T10:46:25.888Z"
   },
   {
    "duration": 10,
    "start_time": "2025-03-27T10:46:36.171Z"
   },
   {
    "duration": 10,
    "start_time": "2025-03-27T10:46:55.230Z"
   },
   {
    "duration": 11,
    "start_time": "2025-03-27T10:46:59.991Z"
   },
   {
    "duration": 11,
    "start_time": "2025-03-27T10:47:06.813Z"
   },
   {
    "duration": 4688,
    "start_time": "2025-03-27T10:47:35.185Z"
   },
   {
    "duration": 6684,
    "start_time": "2025-03-27T10:49:01.679Z"
   },
   {
    "duration": 10279,
    "start_time": "2025-03-27T10:51:01.040Z"
   },
   {
    "duration": 1064,
    "start_time": "2025-03-27T10:51:11.322Z"
   },
   {
    "duration": 3,
    "start_time": "2025-03-27T10:51:12.388Z"
   },
   {
    "duration": 240,
    "start_time": "2025-03-27T10:51:12.393Z"
   },
   {
    "duration": 1564,
    "start_time": "2025-03-27T10:51:12.635Z"
   },
   {
    "duration": 1030,
    "start_time": "2025-03-27T10:51:14.201Z"
   },
   {
    "duration": 4,
    "start_time": "2025-03-27T10:51:15.232Z"
   },
   {
    "duration": 25,
    "start_time": "2025-03-27T10:51:15.238Z"
   },
   {
    "duration": 37,
    "start_time": "2025-03-27T10:51:15.264Z"
   },
   {
    "duration": 38,
    "start_time": "2025-03-27T10:51:15.304Z"
   },
   {
    "duration": 93,
    "start_time": "2025-03-27T10:51:15.343Z"
   },
   {
    "duration": 6351,
    "start_time": "2025-03-27T10:51:15.438Z"
   },
   {
    "duration": 0,
    "start_time": "2025-03-27T10:51:21.793Z"
   },
   {
    "duration": 0,
    "start_time": "2025-03-27T10:51:21.794Z"
   },
   {
    "duration": 0,
    "start_time": "2025-03-27T10:51:21.796Z"
   },
   {
    "duration": 0,
    "start_time": "2025-03-27T10:51:21.797Z"
   },
   {
    "duration": 0,
    "start_time": "2025-03-27T10:51:21.798Z"
   },
   {
    "duration": 0,
    "start_time": "2025-03-27T10:51:21.799Z"
   },
   {
    "duration": 0,
    "start_time": "2025-03-27T10:51:21.800Z"
   },
   {
    "duration": 0,
    "start_time": "2025-03-27T10:51:21.802Z"
   },
   {
    "duration": 0,
    "start_time": "2025-03-27T10:51:21.803Z"
   },
   {
    "duration": 0,
    "start_time": "2025-03-27T10:51:21.804Z"
   },
   {
    "duration": 0,
    "start_time": "2025-03-27T10:51:21.805Z"
   },
   {
    "duration": 0,
    "start_time": "2025-03-27T10:51:21.806Z"
   },
   {
    "duration": 1,
    "start_time": "2025-03-27T10:51:21.807Z"
   },
   {
    "duration": 0,
    "start_time": "2025-03-27T10:51:21.808Z"
   },
   {
    "duration": 0,
    "start_time": "2025-03-27T10:51:21.809Z"
   },
   {
    "duration": 0,
    "start_time": "2025-03-27T10:51:21.811Z"
   },
   {
    "duration": 0,
    "start_time": "2025-03-27T10:51:21.812Z"
   },
   {
    "duration": 0,
    "start_time": "2025-03-27T10:51:21.814Z"
   },
   {
    "duration": 0,
    "start_time": "2025-03-27T10:51:21.815Z"
   },
   {
    "duration": 0,
    "start_time": "2025-03-27T10:51:21.818Z"
   },
   {
    "duration": 0,
    "start_time": "2025-03-27T10:51:21.819Z"
   },
   {
    "duration": 0,
    "start_time": "2025-03-27T10:51:21.821Z"
   },
   {
    "duration": 0,
    "start_time": "2025-03-27T10:51:21.823Z"
   },
   {
    "duration": 0,
    "start_time": "2025-03-27T10:51:21.824Z"
   },
   {
    "duration": 0,
    "start_time": "2025-03-27T10:51:21.826Z"
   },
   {
    "duration": 0,
    "start_time": "2025-03-27T10:51:21.827Z"
   },
   {
    "duration": 0,
    "start_time": "2025-03-27T10:51:21.829Z"
   },
   {
    "duration": 0,
    "start_time": "2025-03-27T10:51:21.830Z"
   },
   {
    "duration": 0,
    "start_time": "2025-03-27T10:51:21.868Z"
   },
   {
    "duration": 0,
    "start_time": "2025-03-27T10:51:21.869Z"
   },
   {
    "duration": 0,
    "start_time": "2025-03-27T10:51:21.871Z"
   },
   {
    "duration": 0,
    "start_time": "2025-03-27T10:51:21.873Z"
   },
   {
    "duration": 0,
    "start_time": "2025-03-27T10:51:21.874Z"
   },
   {
    "duration": 0,
    "start_time": "2025-03-27T10:51:21.876Z"
   },
   {
    "duration": 0,
    "start_time": "2025-03-27T10:51:21.877Z"
   },
   {
    "duration": 0,
    "start_time": "2025-03-27T10:51:21.879Z"
   },
   {
    "duration": 0,
    "start_time": "2025-03-27T10:51:21.880Z"
   },
   {
    "duration": 0,
    "start_time": "2025-03-27T10:51:21.882Z"
   },
   {
    "duration": 0,
    "start_time": "2025-03-27T10:51:21.883Z"
   },
   {
    "duration": 0,
    "start_time": "2025-03-27T10:51:21.885Z"
   },
   {
    "duration": 0,
    "start_time": "2025-03-27T10:51:21.886Z"
   },
   {
    "duration": 0,
    "start_time": "2025-03-27T10:51:21.887Z"
   },
   {
    "duration": 0,
    "start_time": "2025-03-27T10:51:21.890Z"
   },
   {
    "duration": 0,
    "start_time": "2025-03-27T10:51:21.891Z"
   },
   {
    "duration": 0,
    "start_time": "2025-03-27T10:51:21.892Z"
   },
   {
    "duration": 0,
    "start_time": "2025-03-27T10:51:21.894Z"
   },
   {
    "duration": 0,
    "start_time": "2025-03-27T10:51:21.895Z"
   },
   {
    "duration": 0,
    "start_time": "2025-03-27T10:51:21.897Z"
   },
   {
    "duration": 0,
    "start_time": "2025-03-27T10:51:21.898Z"
   },
   {
    "duration": 0,
    "start_time": "2025-03-27T10:51:21.900Z"
   },
   {
    "duration": 0,
    "start_time": "2025-03-27T10:51:21.901Z"
   },
   {
    "duration": 0,
    "start_time": "2025-03-27T10:51:21.903Z"
   },
   {
    "duration": 0,
    "start_time": "2025-03-27T10:51:21.904Z"
   },
   {
    "duration": 0,
    "start_time": "2025-03-27T10:51:21.905Z"
   },
   {
    "duration": 0,
    "start_time": "2025-03-27T10:51:21.907Z"
   },
   {
    "duration": 0,
    "start_time": "2025-03-27T10:51:21.968Z"
   },
   {
    "duration": 0,
    "start_time": "2025-03-27T10:51:21.970Z"
   },
   {
    "duration": 0,
    "start_time": "2025-03-27T10:51:21.972Z"
   },
   {
    "duration": 0,
    "start_time": "2025-03-27T10:51:21.973Z"
   },
   {
    "duration": 0,
    "start_time": "2025-03-27T10:51:21.975Z"
   },
   {
    "duration": 0,
    "start_time": "2025-03-27T10:51:21.976Z"
   },
   {
    "duration": 0,
    "start_time": "2025-03-27T10:51:21.977Z"
   },
   {
    "duration": 0,
    "start_time": "2025-03-27T10:51:21.979Z"
   },
   {
    "duration": 4,
    "start_time": "2025-03-27T10:52:27.696Z"
   },
   {
    "duration": 718,
    "start_time": "2025-03-27T10:53:29.616Z"
   },
   {
    "duration": 84,
    "start_time": "2025-03-27T10:54:16.796Z"
   },
   {
    "duration": 10,
    "start_time": "2025-03-27T10:54:40.854Z"
   },
   {
    "duration": 308,
    "start_time": "2025-03-27T10:57:06.870Z"
   },
   {
    "duration": 368,
    "start_time": "2025-03-27T10:57:29.611Z"
   },
   {
    "duration": 148,
    "start_time": "2025-03-27T10:59:33.112Z"
   },
   {
    "duration": 118,
    "start_time": "2025-03-27T10:59:59.069Z"
   },
   {
    "duration": 145,
    "start_time": "2025-03-27T11:01:41.264Z"
   },
   {
    "duration": 94,
    "start_time": "2025-03-27T11:01:45.315Z"
   },
   {
    "duration": 257,
    "start_time": "2025-03-27T11:02:01.325Z"
   },
   {
    "duration": 368,
    "start_time": "2025-03-27T11:14:34.000Z"
   },
   {
    "duration": 31,
    "start_time": "2025-03-27T11:16:48.966Z"
   },
   {
    "duration": 22,
    "start_time": "2025-03-27T11:18:40.560Z"
   },
   {
    "duration": 377,
    "start_time": "2025-03-27T11:19:08.312Z"
   },
   {
    "duration": 22,
    "start_time": "2025-03-27T11:19:37.923Z"
   },
   {
    "duration": 9468,
    "start_time": "2025-03-27T11:20:16.293Z"
   },
   {
    "duration": 908,
    "start_time": "2025-03-27T11:20:25.763Z"
   },
   {
    "duration": 3,
    "start_time": "2025-03-27T11:20:26.673Z"
   },
   {
    "duration": 243,
    "start_time": "2025-03-27T11:20:26.678Z"
   },
   {
    "duration": 1492,
    "start_time": "2025-03-27T11:20:26.923Z"
   },
   {
    "duration": 1071,
    "start_time": "2025-03-27T11:20:28.417Z"
   },
   {
    "duration": 4,
    "start_time": "2025-03-27T11:20:29.490Z"
   },
   {
    "duration": 7,
    "start_time": "2025-03-27T11:20:29.496Z"
   },
   {
    "duration": 23,
    "start_time": "2025-03-27T11:20:29.504Z"
   },
   {
    "duration": 34,
    "start_time": "2025-03-27T11:20:29.529Z"
   },
   {
    "duration": 115,
    "start_time": "2025-03-27T11:20:29.565Z"
   },
   {
    "duration": 84,
    "start_time": "2025-03-27T11:20:29.682Z"
   },
   {
    "duration": 0,
    "start_time": "2025-03-27T11:20:29.770Z"
   },
   {
    "duration": 0,
    "start_time": "2025-03-27T11:20:29.771Z"
   },
   {
    "duration": 0,
    "start_time": "2025-03-27T11:20:29.772Z"
   },
   {
    "duration": 0,
    "start_time": "2025-03-27T11:20:29.773Z"
   },
   {
    "duration": 0,
    "start_time": "2025-03-27T11:20:29.774Z"
   },
   {
    "duration": 0,
    "start_time": "2025-03-27T11:20:29.775Z"
   },
   {
    "duration": 0,
    "start_time": "2025-03-27T11:20:29.776Z"
   },
   {
    "duration": 0,
    "start_time": "2025-03-27T11:20:29.777Z"
   },
   {
    "duration": 0,
    "start_time": "2025-03-27T11:20:29.779Z"
   },
   {
    "duration": 0,
    "start_time": "2025-03-27T11:20:29.779Z"
   },
   {
    "duration": 0,
    "start_time": "2025-03-27T11:20:29.781Z"
   },
   {
    "duration": 0,
    "start_time": "2025-03-27T11:20:29.783Z"
   },
   {
    "duration": 0,
    "start_time": "2025-03-27T11:20:29.784Z"
   },
   {
    "duration": 0,
    "start_time": "2025-03-27T11:20:29.785Z"
   },
   {
    "duration": 0,
    "start_time": "2025-03-27T11:20:29.786Z"
   },
   {
    "duration": 0,
    "start_time": "2025-03-27T11:20:29.787Z"
   },
   {
    "duration": 0,
    "start_time": "2025-03-27T11:20:29.788Z"
   },
   {
    "duration": 0,
    "start_time": "2025-03-27T11:20:29.789Z"
   },
   {
    "duration": 0,
    "start_time": "2025-03-27T11:20:29.790Z"
   },
   {
    "duration": 0,
    "start_time": "2025-03-27T11:20:29.791Z"
   },
   {
    "duration": 0,
    "start_time": "2025-03-27T11:20:29.792Z"
   },
   {
    "duration": 0,
    "start_time": "2025-03-27T11:20:29.793Z"
   },
   {
    "duration": 0,
    "start_time": "2025-03-27T11:20:29.794Z"
   },
   {
    "duration": 0,
    "start_time": "2025-03-27T11:20:29.795Z"
   },
   {
    "duration": 0,
    "start_time": "2025-03-27T11:20:29.796Z"
   },
   {
    "duration": 0,
    "start_time": "2025-03-27T11:20:29.797Z"
   },
   {
    "duration": 0,
    "start_time": "2025-03-27T11:20:29.798Z"
   },
   {
    "duration": 0,
    "start_time": "2025-03-27T11:20:29.799Z"
   },
   {
    "duration": 0,
    "start_time": "2025-03-27T11:20:29.800Z"
   },
   {
    "duration": 0,
    "start_time": "2025-03-27T11:20:29.801Z"
   },
   {
    "duration": 0,
    "start_time": "2025-03-27T11:20:29.802Z"
   },
   {
    "duration": 0,
    "start_time": "2025-03-27T11:20:29.804Z"
   },
   {
    "duration": 0,
    "start_time": "2025-03-27T11:20:29.805Z"
   },
   {
    "duration": 0,
    "start_time": "2025-03-27T11:20:29.806Z"
   },
   {
    "duration": 0,
    "start_time": "2025-03-27T11:20:29.807Z"
   },
   {
    "duration": 0,
    "start_time": "2025-03-27T11:20:29.809Z"
   },
   {
    "duration": 0,
    "start_time": "2025-03-27T11:20:29.809Z"
   },
   {
    "duration": 0,
    "start_time": "2025-03-27T11:20:29.867Z"
   },
   {
    "duration": 0,
    "start_time": "2025-03-27T11:20:29.868Z"
   },
   {
    "duration": 0,
    "start_time": "2025-03-27T11:20:29.869Z"
   },
   {
    "duration": 0,
    "start_time": "2025-03-27T11:20:29.870Z"
   },
   {
    "duration": 0,
    "start_time": "2025-03-27T11:20:29.871Z"
   },
   {
    "duration": 0,
    "start_time": "2025-03-27T11:20:29.872Z"
   },
   {
    "duration": 0,
    "start_time": "2025-03-27T11:20:29.873Z"
   },
   {
    "duration": 0,
    "start_time": "2025-03-27T11:20:29.874Z"
   },
   {
    "duration": 0,
    "start_time": "2025-03-27T11:20:29.875Z"
   },
   {
    "duration": 0,
    "start_time": "2025-03-27T11:20:29.876Z"
   },
   {
    "duration": 0,
    "start_time": "2025-03-27T11:20:29.877Z"
   },
   {
    "duration": 0,
    "start_time": "2025-03-27T11:20:29.878Z"
   },
   {
    "duration": 0,
    "start_time": "2025-03-27T11:20:29.879Z"
   },
   {
    "duration": 0,
    "start_time": "2025-03-27T11:20:29.880Z"
   },
   {
    "duration": 0,
    "start_time": "2025-03-27T11:20:29.881Z"
   },
   {
    "duration": 0,
    "start_time": "2025-03-27T11:20:29.882Z"
   },
   {
    "duration": 1,
    "start_time": "2025-03-27T11:20:29.883Z"
   },
   {
    "duration": 0,
    "start_time": "2025-03-27T11:20:29.885Z"
   },
   {
    "duration": 0,
    "start_time": "2025-03-27T11:20:29.886Z"
   },
   {
    "duration": 0,
    "start_time": "2025-03-27T11:20:29.887Z"
   },
   {
    "duration": 0,
    "start_time": "2025-03-27T11:20:29.888Z"
   },
   {
    "duration": 0,
    "start_time": "2025-03-27T11:20:29.889Z"
   },
   {
    "duration": 0,
    "start_time": "2025-03-27T11:20:29.890Z"
   },
   {
    "duration": 0,
    "start_time": "2025-03-27T11:20:29.891Z"
   },
   {
    "duration": 0,
    "start_time": "2025-03-27T11:20:29.892Z"
   },
   {
    "duration": 0,
    "start_time": "2025-03-27T11:20:29.893Z"
   },
   {
    "duration": 0,
    "start_time": "2025-03-27T11:20:29.894Z"
   },
   {
    "duration": 0,
    "start_time": "2025-03-27T11:20:29.895Z"
   },
   {
    "duration": 0,
    "start_time": "2025-03-27T11:20:29.896Z"
   },
   {
    "duration": 0,
    "start_time": "2025-03-27T11:20:29.897Z"
   },
   {
    "duration": 0,
    "start_time": "2025-03-27T11:20:29.899Z"
   },
   {
    "duration": 0,
    "start_time": "2025-03-27T11:20:29.900Z"
   },
   {
    "duration": 0,
    "start_time": "2025-03-27T11:20:29.901Z"
   },
   {
    "duration": 0,
    "start_time": "2025-03-27T11:20:29.902Z"
   },
   {
    "duration": 265,
    "start_time": "2025-03-27T11:21:02.390Z"
   },
   {
    "duration": 24,
    "start_time": "2025-03-27T11:21:11.984Z"
   },
   {
    "duration": 366,
    "start_time": "2025-03-27T11:23:00.554Z"
   },
   {
    "duration": 22,
    "start_time": "2025-03-27T11:23:06.088Z"
   },
   {
    "duration": 346,
    "start_time": "2025-03-27T11:23:30.737Z"
   },
   {
    "duration": 22,
    "start_time": "2025-03-27T11:25:02.456Z"
   },
   {
    "duration": 350,
    "start_time": "2025-03-27T11:26:05.160Z"
   },
   {
    "duration": 33,
    "start_time": "2025-03-27T11:26:16.714Z"
   },
   {
    "duration": 9529,
    "start_time": "2025-03-27T11:35:05.334Z"
   },
   {
    "duration": 906,
    "start_time": "2025-03-27T11:35:14.865Z"
   },
   {
    "duration": 3,
    "start_time": "2025-03-27T11:35:15.773Z"
   },
   {
    "duration": 239,
    "start_time": "2025-03-27T11:35:15.778Z"
   },
   {
    "duration": 1494,
    "start_time": "2025-03-27T11:35:16.019Z"
   },
   {
    "duration": 1096,
    "start_time": "2025-03-27T11:35:17.515Z"
   },
   {
    "duration": 5,
    "start_time": "2025-03-27T11:35:18.613Z"
   },
   {
    "duration": 7,
    "start_time": "2025-03-27T11:35:18.620Z"
   },
   {
    "duration": 9,
    "start_time": "2025-03-27T11:35:18.628Z"
   },
   {
    "duration": 49,
    "start_time": "2025-03-27T11:35:18.639Z"
   },
   {
    "duration": 111,
    "start_time": "2025-03-27T11:35:18.689Z"
   },
   {
    "duration": 123,
    "start_time": "2025-03-27T11:35:18.802Z"
   },
   {
    "duration": 217,
    "start_time": "2025-03-27T11:35:18.927Z"
   },
   {
    "duration": 856,
    "start_time": "2025-03-27T11:35:19.146Z"
   },
   {
    "duration": 91,
    "start_time": "2025-03-27T11:35:20.004Z"
   },
   {
    "duration": 0,
    "start_time": "2025-03-27T11:35:20.098Z"
   },
   {
    "duration": 0,
    "start_time": "2025-03-27T11:35:20.099Z"
   },
   {
    "duration": 0,
    "start_time": "2025-03-27T11:35:20.100Z"
   },
   {
    "duration": 0,
    "start_time": "2025-03-27T11:35:20.102Z"
   },
   {
    "duration": 0,
    "start_time": "2025-03-27T11:35:20.102Z"
   },
   {
    "duration": 0,
    "start_time": "2025-03-27T11:35:20.104Z"
   },
   {
    "duration": 0,
    "start_time": "2025-03-27T11:35:20.104Z"
   },
   {
    "duration": 0,
    "start_time": "2025-03-27T11:35:20.105Z"
   },
   {
    "duration": 0,
    "start_time": "2025-03-27T11:35:20.107Z"
   },
   {
    "duration": 0,
    "start_time": "2025-03-27T11:35:20.108Z"
   },
   {
    "duration": 0,
    "start_time": "2025-03-27T11:35:20.109Z"
   },
   {
    "duration": 0,
    "start_time": "2025-03-27T11:35:20.110Z"
   },
   {
    "duration": 0,
    "start_time": "2025-03-27T11:35:20.112Z"
   },
   {
    "duration": 0,
    "start_time": "2025-03-27T11:35:20.112Z"
   },
   {
    "duration": 0,
    "start_time": "2025-03-27T11:35:20.114Z"
   },
   {
    "duration": 0,
    "start_time": "2025-03-27T11:35:20.115Z"
   },
   {
    "duration": 0,
    "start_time": "2025-03-27T11:35:20.116Z"
   },
   {
    "duration": 0,
    "start_time": "2025-03-27T11:35:20.117Z"
   },
   {
    "duration": 0,
    "start_time": "2025-03-27T11:35:20.118Z"
   },
   {
    "duration": 0,
    "start_time": "2025-03-27T11:35:20.119Z"
   },
   {
    "duration": 0,
    "start_time": "2025-03-27T11:35:20.119Z"
   },
   {
    "duration": 0,
    "start_time": "2025-03-27T11:35:20.120Z"
   },
   {
    "duration": 0,
    "start_time": "2025-03-27T11:35:20.121Z"
   },
   {
    "duration": 0,
    "start_time": "2025-03-27T11:35:20.122Z"
   },
   {
    "duration": 0,
    "start_time": "2025-03-27T11:35:20.123Z"
   },
   {
    "duration": 0,
    "start_time": "2025-03-27T11:35:20.124Z"
   },
   {
    "duration": 0,
    "start_time": "2025-03-27T11:35:20.125Z"
   },
   {
    "duration": 0,
    "start_time": "2025-03-27T11:35:20.126Z"
   },
   {
    "duration": 0,
    "start_time": "2025-03-27T11:35:20.127Z"
   },
   {
    "duration": 0,
    "start_time": "2025-03-27T11:35:20.128Z"
   },
   {
    "duration": 0,
    "start_time": "2025-03-27T11:35:20.129Z"
   },
   {
    "duration": 0,
    "start_time": "2025-03-27T11:35:20.130Z"
   },
   {
    "duration": 0,
    "start_time": "2025-03-27T11:35:20.131Z"
   },
   {
    "duration": 0,
    "start_time": "2025-03-27T11:35:20.132Z"
   },
   {
    "duration": 0,
    "start_time": "2025-03-27T11:35:20.133Z"
   },
   {
    "duration": 0,
    "start_time": "2025-03-27T11:35:20.134Z"
   },
   {
    "duration": 0,
    "start_time": "2025-03-27T11:35:20.135Z"
   },
   {
    "duration": 0,
    "start_time": "2025-03-27T11:35:20.137Z"
   },
   {
    "duration": 0,
    "start_time": "2025-03-27T11:35:20.137Z"
   },
   {
    "duration": 0,
    "start_time": "2025-03-27T11:35:20.138Z"
   },
   {
    "duration": 0,
    "start_time": "2025-03-27T11:35:20.167Z"
   },
   {
    "duration": 0,
    "start_time": "2025-03-27T11:35:20.168Z"
   },
   {
    "duration": 0,
    "start_time": "2025-03-27T11:35:20.169Z"
   },
   {
    "duration": 0,
    "start_time": "2025-03-27T11:35:20.170Z"
   },
   {
    "duration": 0,
    "start_time": "2025-03-27T11:35:20.171Z"
   },
   {
    "duration": 0,
    "start_time": "2025-03-27T11:35:20.172Z"
   },
   {
    "duration": 0,
    "start_time": "2025-03-27T11:35:20.174Z"
   },
   {
    "duration": 0,
    "start_time": "2025-03-27T11:35:20.174Z"
   },
   {
    "duration": 0,
    "start_time": "2025-03-27T11:35:20.176Z"
   },
   {
    "duration": 0,
    "start_time": "2025-03-27T11:35:20.177Z"
   },
   {
    "duration": 0,
    "start_time": "2025-03-27T11:35:20.178Z"
   },
   {
    "duration": 0,
    "start_time": "2025-03-27T11:35:20.179Z"
   },
   {
    "duration": 0,
    "start_time": "2025-03-27T11:35:20.180Z"
   },
   {
    "duration": 0,
    "start_time": "2025-03-27T11:35:20.181Z"
   },
   {
    "duration": 0,
    "start_time": "2025-03-27T11:35:20.182Z"
   },
   {
    "duration": 0,
    "start_time": "2025-03-27T11:35:20.183Z"
   },
   {
    "duration": 0,
    "start_time": "2025-03-27T11:35:20.184Z"
   },
   {
    "duration": 0,
    "start_time": "2025-03-27T11:35:20.185Z"
   },
   {
    "duration": 0,
    "start_time": "2025-03-27T11:35:20.186Z"
   },
   {
    "duration": 0,
    "start_time": "2025-03-27T11:35:20.186Z"
   },
   {
    "duration": 0,
    "start_time": "2025-03-27T11:35:20.188Z"
   },
   {
    "duration": 97,
    "start_time": "2025-03-27T11:35:36.183Z"
   },
   {
    "duration": 94,
    "start_time": "2025-03-27T11:35:47.302Z"
   },
   {
    "duration": 22,
    "start_time": "2025-03-27T11:36:37.200Z"
   },
   {
    "duration": 270,
    "start_time": "2025-03-27T12:48:45.890Z"
   },
   {
    "duration": 593,
    "start_time": "2025-03-27T12:48:48.782Z"
   },
   {
    "duration": 9,
    "start_time": "2025-03-27T12:48:53.563Z"
   },
   {
    "duration": 12,
    "start_time": "2025-03-27T12:48:59.948Z"
   },
   {
    "duration": 16,
    "start_time": "2025-03-27T12:49:09.080Z"
   },
   {
    "duration": 10,
    "start_time": "2025-03-27T12:49:12.396Z"
   },
   {
    "duration": 224,
    "start_time": "2025-03-27T12:49:35.393Z"
   },
   {
    "duration": 1507,
    "start_time": "2025-03-27T12:49:41.355Z"
   },
   {
    "duration": 23,
    "start_time": "2025-03-27T12:49:45.797Z"
   },
   {
    "duration": 28,
    "start_time": "2025-03-27T12:52:24.908Z"
   },
   {
    "duration": 4,
    "start_time": "2025-03-27T12:52:27.707Z"
   },
   {
    "duration": 17,
    "start_time": "2025-03-27T12:52:44.882Z"
   },
   {
    "duration": 191,
    "start_time": "2025-03-27T12:52:52.933Z"
   },
   {
    "duration": 1408,
    "start_time": "2025-03-27T12:52:57.944Z"
   },
   {
    "duration": 6,
    "start_time": "2025-03-27T12:53:02.569Z"
   },
   {
    "duration": 36,
    "start_time": "2025-03-27T12:53:08.857Z"
   },
   {
    "duration": 5,
    "start_time": "2025-03-27T12:53:12.275Z"
   },
   {
    "duration": 16,
    "start_time": "2025-03-27T12:53:36.614Z"
   },
   {
    "duration": 24,
    "start_time": "2025-03-27T12:58:52.496Z"
   },
   {
    "duration": 13,
    "start_time": "2025-03-27T12:59:04.506Z"
   },
   {
    "duration": 84,
    "start_time": "2025-03-27T13:00:12.464Z"
   },
   {
    "duration": 84,
    "start_time": "2025-03-27T13:00:22.721Z"
   },
   {
    "duration": 85,
    "start_time": "2025-03-27T13:00:40.160Z"
   },
   {
    "duration": 84,
    "start_time": "2025-03-27T13:00:51.748Z"
   },
   {
    "duration": 87,
    "start_time": "2025-03-27T13:00:57.889Z"
   },
   {
    "duration": 84,
    "start_time": "2025-03-27T13:01:40.370Z"
   },
   {
    "duration": 335,
    "start_time": "2025-03-27T13:02:00.492Z"
   },
   {
    "duration": 129,
    "start_time": "2025-03-27T13:02:27.607Z"
   },
   {
    "duration": 87,
    "start_time": "2025-03-27T13:09:09.631Z"
   },
   {
    "duration": 107,
    "start_time": "2025-03-27T13:10:43.961Z"
   },
   {
    "duration": 116,
    "start_time": "2025-03-27T13:12:08.878Z"
   },
   {
    "duration": 108,
    "start_time": "2025-03-27T13:12:25.732Z"
   },
   {
    "duration": 13,
    "start_time": "2025-03-27T13:12:56.913Z"
   },
   {
    "duration": 9357,
    "start_time": "2025-03-27T13:14:10.460Z"
   },
   {
    "duration": 920,
    "start_time": "2025-03-27T13:14:19.819Z"
   },
   {
    "duration": 3,
    "start_time": "2025-03-27T13:14:20.741Z"
   },
   {
    "duration": 242,
    "start_time": "2025-03-27T13:14:20.746Z"
   },
   {
    "duration": 1524,
    "start_time": "2025-03-27T13:14:20.989Z"
   },
   {
    "duration": 1041,
    "start_time": "2025-03-27T13:14:22.514Z"
   },
   {
    "duration": 11,
    "start_time": "2025-03-27T13:14:23.557Z"
   },
   {
    "duration": 20,
    "start_time": "2025-03-27T13:14:23.569Z"
   },
   {
    "duration": 8,
    "start_time": "2025-03-27T13:14:23.591Z"
   },
   {
    "duration": 29,
    "start_time": "2025-03-27T13:14:23.601Z"
   },
   {
    "duration": 88,
    "start_time": "2025-03-27T13:14:23.632Z"
   },
   {
    "duration": 22,
    "start_time": "2025-03-27T13:14:23.722Z"
   },
   {
    "duration": 193,
    "start_time": "2025-03-27T13:14:23.746Z"
   },
   {
    "duration": 880,
    "start_time": "2025-03-27T13:14:23.940Z"
   },
   {
    "duration": 263,
    "start_time": "2025-03-27T13:14:24.821Z"
   },
   {
    "duration": 519,
    "start_time": "2025-03-27T13:14:25.085Z"
   },
   {
    "duration": 12,
    "start_time": "2025-03-27T13:14:25.605Z"
   },
   {
    "duration": 19,
    "start_time": "2025-03-27T13:14:25.619Z"
   },
   {
    "duration": 28,
    "start_time": "2025-03-27T13:14:25.640Z"
   },
   {
    "duration": 203,
    "start_time": "2025-03-27T13:14:25.669Z"
   },
   {
    "duration": 1343,
    "start_time": "2025-03-27T13:14:25.873Z"
   },
   {
    "duration": 22,
    "start_time": "2025-03-27T13:14:27.218Z"
   },
   {
    "duration": 42,
    "start_time": "2025-03-27T13:14:27.242Z"
   },
   {
    "duration": 4,
    "start_time": "2025-03-27T13:14:27.285Z"
   },
   {
    "duration": 16,
    "start_time": "2025-03-27T13:14:27.290Z"
   },
   {
    "duration": 209,
    "start_time": "2025-03-27T13:14:27.308Z"
   },
   {
    "duration": 1379,
    "start_time": "2025-03-27T13:14:27.518Z"
   },
   {
    "duration": 5,
    "start_time": "2025-03-27T13:14:28.901Z"
   },
   {
    "duration": 64,
    "start_time": "2025-03-27T13:14:28.907Z"
   },
   {
    "duration": 4,
    "start_time": "2025-03-27T13:14:28.973Z"
   },
   {
    "duration": 17,
    "start_time": "2025-03-27T13:14:28.978Z"
   },
   {
    "duration": 147,
    "start_time": "2025-03-27T13:14:28.997Z"
   },
   {
    "duration": 211,
    "start_time": "2025-03-27T13:14:29.145Z"
   },
   {
    "duration": 0,
    "start_time": "2025-03-27T13:14:29.357Z"
   },
   {
    "duration": 0,
    "start_time": "2025-03-27T13:14:29.359Z"
   },
   {
    "duration": 0,
    "start_time": "2025-03-27T13:14:29.360Z"
   },
   {
    "duration": 0,
    "start_time": "2025-03-27T13:14:29.366Z"
   },
   {
    "duration": 0,
    "start_time": "2025-03-27T13:14:29.367Z"
   },
   {
    "duration": 0,
    "start_time": "2025-03-27T13:14:29.369Z"
   },
   {
    "duration": 0,
    "start_time": "2025-03-27T13:14:29.370Z"
   },
   {
    "duration": 0,
    "start_time": "2025-03-27T13:14:29.372Z"
   },
   {
    "duration": 1,
    "start_time": "2025-03-27T13:14:29.372Z"
   },
   {
    "duration": 0,
    "start_time": "2025-03-27T13:14:29.373Z"
   },
   {
    "duration": 0,
    "start_time": "2025-03-27T13:14:29.374Z"
   },
   {
    "duration": 0,
    "start_time": "2025-03-27T13:14:29.375Z"
   },
   {
    "duration": 0,
    "start_time": "2025-03-27T13:14:29.376Z"
   },
   {
    "duration": 0,
    "start_time": "2025-03-27T13:14:29.378Z"
   },
   {
    "duration": 0,
    "start_time": "2025-03-27T13:14:29.379Z"
   },
   {
    "duration": 0,
    "start_time": "2025-03-27T13:14:29.381Z"
   },
   {
    "duration": 0,
    "start_time": "2025-03-27T13:14:29.382Z"
   },
   {
    "duration": 0,
    "start_time": "2025-03-27T13:14:29.383Z"
   },
   {
    "duration": 0,
    "start_time": "2025-03-27T13:14:29.384Z"
   },
   {
    "duration": 0,
    "start_time": "2025-03-27T13:14:29.385Z"
   },
   {
    "duration": 0,
    "start_time": "2025-03-27T13:14:29.386Z"
   },
   {
    "duration": 0,
    "start_time": "2025-03-27T13:14:29.387Z"
   },
   {
    "duration": 0,
    "start_time": "2025-03-27T13:14:29.388Z"
   },
   {
    "duration": 0,
    "start_time": "2025-03-27T13:14:29.389Z"
   },
   {
    "duration": 0,
    "start_time": "2025-03-27T13:14:29.390Z"
   },
   {
    "duration": 0,
    "start_time": "2025-03-27T13:14:29.391Z"
   },
   {
    "duration": 0,
    "start_time": "2025-03-27T13:14:29.392Z"
   },
   {
    "duration": 0,
    "start_time": "2025-03-27T13:14:29.393Z"
   },
   {
    "duration": 0,
    "start_time": "2025-03-27T13:14:29.394Z"
   },
   {
    "duration": 0,
    "start_time": "2025-03-27T13:14:29.395Z"
   },
   {
    "duration": 0,
    "start_time": "2025-03-27T13:14:29.396Z"
   },
   {
    "duration": 0,
    "start_time": "2025-03-27T13:14:29.398Z"
   },
   {
    "duration": 0,
    "start_time": "2025-03-27T13:14:29.399Z"
   },
   {
    "duration": 0,
    "start_time": "2025-03-27T13:14:29.400Z"
   },
   {
    "duration": 0,
    "start_time": "2025-03-27T13:14:29.402Z"
   },
   {
    "duration": 0,
    "start_time": "2025-03-27T13:14:29.403Z"
   },
   {
    "duration": 0,
    "start_time": "2025-03-27T13:14:29.467Z"
   },
   {
    "duration": 0,
    "start_time": "2025-03-27T13:14:29.468Z"
   },
   {
    "duration": 0,
    "start_time": "2025-03-27T13:14:29.469Z"
   },
   {
    "duration": 0,
    "start_time": "2025-03-27T13:14:29.470Z"
   },
   {
    "duration": 0,
    "start_time": "2025-03-27T13:14:29.471Z"
   },
   {
    "duration": 0,
    "start_time": "2025-03-27T13:14:29.472Z"
   },
   {
    "duration": 0,
    "start_time": "2025-03-27T13:14:29.473Z"
   },
   {
    "duration": 0,
    "start_time": "2025-03-27T13:14:29.474Z"
   },
   {
    "duration": 21,
    "start_time": "2025-03-27T13:15:57.474Z"
   },
   {
    "duration": 17,
    "start_time": "2025-03-27T13:16:28.022Z"
   },
   {
    "duration": 19,
    "start_time": "2025-03-27T13:18:30.266Z"
   },
   {
    "duration": 17,
    "start_time": "2025-03-27T13:19:18.647Z"
   },
   {
    "duration": 22,
    "start_time": "2025-03-27T13:35:45.818Z"
   },
   {
    "duration": 21,
    "start_time": "2025-03-27T13:36:31.085Z"
   },
   {
    "duration": 10,
    "start_time": "2025-03-27T13:37:41.734Z"
   },
   {
    "duration": 8,
    "start_time": "2025-03-27T13:37:57.627Z"
   },
   {
    "duration": 9761,
    "start_time": "2025-03-27T13:38:09.547Z"
   },
   {
    "duration": 963,
    "start_time": "2025-03-27T13:38:19.310Z"
   },
   {
    "duration": 4,
    "start_time": "2025-03-27T13:38:20.275Z"
   },
   {
    "duration": 291,
    "start_time": "2025-03-27T13:38:20.282Z"
   },
   {
    "duration": 1633,
    "start_time": "2025-03-27T13:38:20.575Z"
   },
   {
    "duration": 1118,
    "start_time": "2025-03-27T13:38:22.210Z"
   },
   {
    "duration": 5,
    "start_time": "2025-03-27T13:38:23.329Z"
   },
   {
    "duration": 6,
    "start_time": "2025-03-27T13:38:23.335Z"
   },
   {
    "duration": 25,
    "start_time": "2025-03-27T13:38:23.343Z"
   },
   {
    "duration": 28,
    "start_time": "2025-03-27T13:38:23.370Z"
   },
   {
    "duration": 107,
    "start_time": "2025-03-27T13:38:23.400Z"
   },
   {
    "duration": 23,
    "start_time": "2025-03-27T13:38:23.509Z"
   },
   {
    "duration": 213,
    "start_time": "2025-03-27T13:38:23.533Z"
   },
   {
    "duration": 913,
    "start_time": "2025-03-27T13:38:23.747Z"
   },
   {
    "duration": 271,
    "start_time": "2025-03-27T13:38:24.662Z"
   },
   {
    "duration": 559,
    "start_time": "2025-03-27T13:38:24.935Z"
   },
   {
    "duration": 13,
    "start_time": "2025-03-27T13:38:25.496Z"
   },
   {
    "duration": 17,
    "start_time": "2025-03-27T13:38:25.511Z"
   },
   {
    "duration": 10,
    "start_time": "2025-03-27T13:38:25.530Z"
   },
   {
    "duration": 243,
    "start_time": "2025-03-27T13:38:25.541Z"
   },
   {
    "duration": 1383,
    "start_time": "2025-03-27T13:38:25.785Z"
   },
   {
    "duration": 20,
    "start_time": "2025-03-27T13:38:27.169Z"
   },
   {
    "duration": 29,
    "start_time": "2025-03-27T13:38:27.191Z"
   },
   {
    "duration": 5,
    "start_time": "2025-03-27T13:38:27.222Z"
   },
   {
    "duration": 51,
    "start_time": "2025-03-27T13:38:27.229Z"
   },
   {
    "duration": 246,
    "start_time": "2025-03-27T13:38:27.282Z"
   },
   {
    "duration": 1415,
    "start_time": "2025-03-27T13:38:27.529Z"
   },
   {
    "duration": 20,
    "start_time": "2025-03-27T13:38:28.948Z"
   },
   {
    "duration": 55,
    "start_time": "2025-03-27T13:38:28.971Z"
   },
   {
    "duration": 4,
    "start_time": "2025-03-27T13:38:29.028Z"
   },
   {
    "duration": 50,
    "start_time": "2025-03-27T13:38:29.034Z"
   },
   {
    "duration": 7,
    "start_time": "2025-03-27T13:38:29.085Z"
   },
   {
    "duration": 24,
    "start_time": "2025-03-27T13:38:29.094Z"
   },
   {
    "duration": 144,
    "start_time": "2025-03-27T13:38:29.119Z"
   },
   {
    "duration": 0,
    "start_time": "2025-03-27T13:38:29.267Z"
   },
   {
    "duration": 0,
    "start_time": "2025-03-27T13:38:29.269Z"
   },
   {
    "duration": 0,
    "start_time": "2025-03-27T13:38:29.271Z"
   },
   {
    "duration": 0,
    "start_time": "2025-03-27T13:38:29.273Z"
   },
   {
    "duration": 0,
    "start_time": "2025-03-27T13:38:29.274Z"
   },
   {
    "duration": 0,
    "start_time": "2025-03-27T13:38:29.275Z"
   },
   {
    "duration": 0,
    "start_time": "2025-03-27T13:38:29.277Z"
   },
   {
    "duration": 0,
    "start_time": "2025-03-27T13:38:29.279Z"
   },
   {
    "duration": 0,
    "start_time": "2025-03-27T13:38:29.280Z"
   },
   {
    "duration": 0,
    "start_time": "2025-03-27T13:38:29.282Z"
   },
   {
    "duration": 0,
    "start_time": "2025-03-27T13:38:29.283Z"
   },
   {
    "duration": 0,
    "start_time": "2025-03-27T13:38:29.284Z"
   },
   {
    "duration": 0,
    "start_time": "2025-03-27T13:38:29.285Z"
   },
   {
    "duration": 0,
    "start_time": "2025-03-27T13:38:29.287Z"
   },
   {
    "duration": 0,
    "start_time": "2025-03-27T13:38:29.288Z"
   },
   {
    "duration": 1,
    "start_time": "2025-03-27T13:38:29.289Z"
   },
   {
    "duration": 0,
    "start_time": "2025-03-27T13:38:29.292Z"
   },
   {
    "duration": 0,
    "start_time": "2025-03-27T13:38:29.293Z"
   },
   {
    "duration": 0,
    "start_time": "2025-03-27T13:38:29.295Z"
   },
   {
    "duration": 0,
    "start_time": "2025-03-27T13:38:29.297Z"
   },
   {
    "duration": 0,
    "start_time": "2025-03-27T13:38:29.298Z"
   },
   {
    "duration": 0,
    "start_time": "2025-03-27T13:38:29.300Z"
   },
   {
    "duration": 0,
    "start_time": "2025-03-27T13:38:29.302Z"
   },
   {
    "duration": 0,
    "start_time": "2025-03-27T13:38:29.303Z"
   },
   {
    "duration": 0,
    "start_time": "2025-03-27T13:38:29.305Z"
   },
   {
    "duration": 0,
    "start_time": "2025-03-27T13:38:29.307Z"
   },
   {
    "duration": 0,
    "start_time": "2025-03-27T13:38:29.367Z"
   },
   {
    "duration": 0,
    "start_time": "2025-03-27T13:38:29.368Z"
   },
   {
    "duration": 1,
    "start_time": "2025-03-27T13:38:29.370Z"
   },
   {
    "duration": 0,
    "start_time": "2025-03-27T13:38:29.372Z"
   },
   {
    "duration": 0,
    "start_time": "2025-03-27T13:38:29.374Z"
   },
   {
    "duration": 0,
    "start_time": "2025-03-27T13:38:29.375Z"
   },
   {
    "duration": 0,
    "start_time": "2025-03-27T13:38:29.379Z"
   },
   {
    "duration": 0,
    "start_time": "2025-03-27T13:38:29.381Z"
   },
   {
    "duration": 0,
    "start_time": "2025-03-27T13:38:29.383Z"
   },
   {
    "duration": 1,
    "start_time": "2025-03-27T13:38:29.384Z"
   },
   {
    "duration": 0,
    "start_time": "2025-03-27T13:38:29.386Z"
   },
   {
    "duration": 0,
    "start_time": "2025-03-27T13:38:29.388Z"
   },
   {
    "duration": 0,
    "start_time": "2025-03-27T13:38:29.390Z"
   },
   {
    "duration": 0,
    "start_time": "2025-03-27T13:38:29.392Z"
   },
   {
    "duration": 0,
    "start_time": "2025-03-27T13:38:29.393Z"
   },
   {
    "duration": 0,
    "start_time": "2025-03-27T13:38:29.395Z"
   },
   {
    "duration": 0,
    "start_time": "2025-03-27T13:38:29.397Z"
   },
   {
    "duration": 0,
    "start_time": "2025-03-27T13:38:29.398Z"
   },
   {
    "duration": 8,
    "start_time": "2025-03-27T13:39:02.909Z"
   },
   {
    "duration": 18,
    "start_time": "2025-03-27T13:39:38.991Z"
   },
   {
    "duration": 116,
    "start_time": "2025-03-27T13:41:32.712Z"
   },
   {
    "duration": 13,
    "start_time": "2025-03-27T13:41:46.111Z"
   },
   {
    "duration": 45,
    "start_time": "2025-03-27T13:43:14.073Z"
   },
   {
    "duration": 94,
    "start_time": "2025-03-27T13:45:27.768Z"
   },
   {
    "duration": 25,
    "start_time": "2025-03-27T13:45:33.201Z"
   },
   {
    "duration": 147,
    "start_time": "2025-03-27T13:46:49.869Z"
   },
   {
    "duration": 17,
    "start_time": "2025-03-27T13:47:15.837Z"
   },
   {
    "duration": 118,
    "start_time": "2025-03-27T13:50:31.034Z"
   },
   {
    "duration": 15,
    "start_time": "2025-03-27T13:50:36.290Z"
   },
   {
    "duration": 87,
    "start_time": "2025-03-27T13:50:56.765Z"
   },
   {
    "duration": 119,
    "start_time": "2025-03-27T13:51:04.276Z"
   },
   {
    "duration": 15,
    "start_time": "2025-03-27T13:51:07.266Z"
   },
   {
    "duration": 88,
    "start_time": "2025-03-27T13:51:10.525Z"
   },
   {
    "duration": 115,
    "start_time": "2025-03-27T13:51:16.892Z"
   },
   {
    "duration": 15,
    "start_time": "2025-03-27T13:51:19.906Z"
   },
   {
    "duration": 82,
    "start_time": "2025-03-27T13:51:22.382Z"
   },
   {
    "duration": 124,
    "start_time": "2025-03-27T13:51:32.755Z"
   },
   {
    "duration": 15,
    "start_time": "2025-03-27T13:51:35.547Z"
   },
   {
    "duration": 85,
    "start_time": "2025-03-27T13:51:38.801Z"
   },
   {
    "duration": 10321,
    "start_time": "2025-03-27T13:55:43.627Z"
   },
   {
    "duration": 1071,
    "start_time": "2025-03-27T13:55:53.950Z"
   },
   {
    "duration": 4,
    "start_time": "2025-03-27T13:55:55.023Z"
   },
   {
    "duration": 289,
    "start_time": "2025-03-27T13:55:55.030Z"
   },
   {
    "duration": 1851,
    "start_time": "2025-03-27T13:55:55.321Z"
   },
   {
    "duration": 1203,
    "start_time": "2025-03-27T13:55:57.174Z"
   },
   {
    "duration": 5,
    "start_time": "2025-03-27T13:55:58.379Z"
   },
   {
    "duration": 9,
    "start_time": "2025-03-27T13:55:58.386Z"
   },
   {
    "duration": 7,
    "start_time": "2025-03-27T13:55:58.398Z"
   },
   {
    "duration": 57,
    "start_time": "2025-03-27T13:55:58.409Z"
   },
   {
    "duration": 117,
    "start_time": "2025-03-27T13:55:58.469Z"
   },
   {
    "duration": 29,
    "start_time": "2025-03-27T13:55:58.587Z"
   },
   {
    "duration": 228,
    "start_time": "2025-03-27T13:55:58.618Z"
   },
   {
    "duration": 1037,
    "start_time": "2025-03-27T13:55:58.848Z"
   },
   {
    "duration": 317,
    "start_time": "2025-03-27T13:55:59.888Z"
   },
   {
    "duration": 587,
    "start_time": "2025-03-27T13:56:00.207Z"
   },
   {
    "duration": 13,
    "start_time": "2025-03-27T13:56:00.795Z"
   },
   {
    "duration": 19,
    "start_time": "2025-03-27T13:56:00.810Z"
   },
   {
    "duration": 9,
    "start_time": "2025-03-27T13:56:00.831Z"
   },
   {
    "duration": 268,
    "start_time": "2025-03-27T13:56:00.841Z"
   },
   {
    "duration": 1566,
    "start_time": "2025-03-27T13:56:01.111Z"
   },
   {
    "duration": 20,
    "start_time": "2025-03-27T13:56:02.679Z"
   },
   {
    "duration": 40,
    "start_time": "2025-03-27T13:56:02.701Z"
   },
   {
    "duration": 5,
    "start_time": "2025-03-27T13:56:02.743Z"
   },
   {
    "duration": 65,
    "start_time": "2025-03-27T13:56:02.749Z"
   },
   {
    "duration": 210,
    "start_time": "2025-03-27T13:56:02.815Z"
   },
   {
    "duration": 1594,
    "start_time": "2025-03-27T13:56:03.026Z"
   },
   {
    "duration": 6,
    "start_time": "2025-03-27T13:56:04.624Z"
   },
   {
    "duration": 52,
    "start_time": "2025-03-27T13:56:04.631Z"
   },
   {
    "duration": 5,
    "start_time": "2025-03-27T13:56:04.686Z"
   },
   {
    "duration": 32,
    "start_time": "2025-03-27T13:56:04.693Z"
   },
   {
    "duration": 143,
    "start_time": "2025-03-27T13:56:04.727Z"
   },
   {
    "duration": 0,
    "start_time": "2025-03-27T13:56:04.872Z"
   },
   {
    "duration": 0,
    "start_time": "2025-03-27T13:56:04.873Z"
   },
   {
    "duration": 0,
    "start_time": "2025-03-27T13:56:04.875Z"
   },
   {
    "duration": 0,
    "start_time": "2025-03-27T13:56:04.877Z"
   },
   {
    "duration": 0,
    "start_time": "2025-03-27T13:56:04.878Z"
   },
   {
    "duration": 0,
    "start_time": "2025-03-27T13:56:04.880Z"
   },
   {
    "duration": 0,
    "start_time": "2025-03-27T13:56:04.881Z"
   },
   {
    "duration": 0,
    "start_time": "2025-03-27T13:56:04.883Z"
   },
   {
    "duration": 0,
    "start_time": "2025-03-27T13:56:04.884Z"
   },
   {
    "duration": 0,
    "start_time": "2025-03-27T13:56:04.886Z"
   },
   {
    "duration": 0,
    "start_time": "2025-03-27T13:56:04.887Z"
   },
   {
    "duration": 0,
    "start_time": "2025-03-27T13:56:04.888Z"
   },
   {
    "duration": 0,
    "start_time": "2025-03-27T13:56:04.891Z"
   },
   {
    "duration": 0,
    "start_time": "2025-03-27T13:56:04.892Z"
   },
   {
    "duration": 1,
    "start_time": "2025-03-27T13:56:04.893Z"
   },
   {
    "duration": 0,
    "start_time": "2025-03-27T13:56:04.895Z"
   },
   {
    "duration": 0,
    "start_time": "2025-03-27T13:56:04.897Z"
   },
   {
    "duration": 0,
    "start_time": "2025-03-27T13:56:04.899Z"
   },
   {
    "duration": 0,
    "start_time": "2025-03-27T13:56:04.901Z"
   },
   {
    "duration": 0,
    "start_time": "2025-03-27T13:56:04.902Z"
   },
   {
    "duration": 0,
    "start_time": "2025-03-27T13:56:04.904Z"
   },
   {
    "duration": 0,
    "start_time": "2025-03-27T13:56:04.906Z"
   },
   {
    "duration": 0,
    "start_time": "2025-03-27T13:56:04.908Z"
   },
   {
    "duration": 0,
    "start_time": "2025-03-27T13:56:04.910Z"
   },
   {
    "duration": 0,
    "start_time": "2025-03-27T13:56:04.969Z"
   },
   {
    "duration": 0,
    "start_time": "2025-03-27T13:56:04.971Z"
   },
   {
    "duration": 0,
    "start_time": "2025-03-27T13:56:04.973Z"
   },
   {
    "duration": 0,
    "start_time": "2025-03-27T13:56:04.975Z"
   },
   {
    "duration": 0,
    "start_time": "2025-03-27T13:56:04.976Z"
   },
   {
    "duration": 0,
    "start_time": "2025-03-27T13:56:04.978Z"
   },
   {
    "duration": 0,
    "start_time": "2025-03-27T13:56:04.979Z"
   },
   {
    "duration": 0,
    "start_time": "2025-03-27T13:56:04.982Z"
   },
   {
    "duration": 0,
    "start_time": "2025-03-27T13:56:04.983Z"
   },
   {
    "duration": 0,
    "start_time": "2025-03-27T13:56:04.984Z"
   },
   {
    "duration": 0,
    "start_time": "2025-03-27T13:56:04.986Z"
   },
   {
    "duration": 0,
    "start_time": "2025-03-27T13:56:04.987Z"
   },
   {
    "duration": 0,
    "start_time": "2025-03-27T13:56:04.989Z"
   },
   {
    "duration": 0,
    "start_time": "2025-03-27T13:56:04.991Z"
   },
   {
    "duration": 0,
    "start_time": "2025-03-27T13:56:04.993Z"
   },
   {
    "duration": 0,
    "start_time": "2025-03-27T13:56:04.995Z"
   },
   {
    "duration": 0,
    "start_time": "2025-03-27T13:56:04.996Z"
   },
   {
    "duration": 0,
    "start_time": "2025-03-27T13:56:04.998Z"
   },
   {
    "duration": 0,
    "start_time": "2025-03-27T13:56:04.999Z"
   },
   {
    "duration": 0,
    "start_time": "2025-03-27T13:56:05.000Z"
   },
   {
    "duration": 14,
    "start_time": "2025-03-27T13:59:06.146Z"
   },
   {
    "duration": 14,
    "start_time": "2025-03-27T13:59:28.511Z"
   },
   {
    "duration": 19,
    "start_time": "2025-03-27T14:00:42.274Z"
   },
   {
    "duration": 19,
    "start_time": "2025-03-27T14:00:51.429Z"
   },
   {
    "duration": 408,
    "start_time": "2025-03-27T14:01:06.736Z"
   },
   {
    "duration": 17,
    "start_time": "2025-03-27T14:01:19.458Z"
   },
   {
    "duration": 455,
    "start_time": "2025-03-27T14:01:55.454Z"
   },
   {
    "duration": 99,
    "start_time": "2025-03-27T14:02:46.465Z"
   },
   {
    "duration": 402,
    "start_time": "2025-03-27T14:02:52.076Z"
   },
   {
    "duration": 22,
    "start_time": "2025-03-27T14:03:07.017Z"
   },
   {
    "duration": 20,
    "start_time": "2025-03-27T14:03:10.292Z"
   },
   {
    "duration": 12,
    "start_time": "2025-03-27T14:04:37.631Z"
   },
   {
    "duration": 17,
    "start_time": "2025-03-27T14:05:06.554Z"
   },
   {
    "duration": 50,
    "start_time": "2025-03-27T14:13:29.191Z"
   },
   {
    "duration": 16,
    "start_time": "2025-03-27T14:13:41.384Z"
   },
   {
    "duration": 92,
    "start_time": "2025-03-27T14:14:14.633Z"
   },
   {
    "duration": 12,
    "start_time": "2025-03-27T14:14:42.200Z"
   },
   {
    "duration": 10315,
    "start_time": "2025-03-27T14:21:15.508Z"
   },
   {
    "duration": 1008,
    "start_time": "2025-03-27T14:21:25.825Z"
   },
   {
    "duration": 3,
    "start_time": "2025-03-27T14:21:26.835Z"
   },
   {
    "duration": 263,
    "start_time": "2025-03-27T14:21:26.840Z"
   },
   {
    "duration": 1708,
    "start_time": "2025-03-27T14:21:27.104Z"
   },
   {
    "duration": 1147,
    "start_time": "2025-03-27T14:21:28.814Z"
   },
   {
    "duration": 5,
    "start_time": "2025-03-27T14:21:29.967Z"
   },
   {
    "duration": 10,
    "start_time": "2025-03-27T14:21:29.974Z"
   },
   {
    "duration": 6,
    "start_time": "2025-03-27T14:21:29.986Z"
   },
   {
    "duration": 25,
    "start_time": "2025-03-27T14:21:29.995Z"
   },
   {
    "duration": 123,
    "start_time": "2025-03-27T14:21:30.022Z"
   },
   {
    "duration": 34,
    "start_time": "2025-03-27T14:21:30.147Z"
   },
   {
    "duration": 230,
    "start_time": "2025-03-27T14:21:30.183Z"
   },
   {
    "duration": 921,
    "start_time": "2025-03-27T14:21:30.414Z"
   },
   {
    "duration": 279,
    "start_time": "2025-03-27T14:21:31.336Z"
   },
   {
    "duration": 565,
    "start_time": "2025-03-27T14:21:31.616Z"
   },
   {
    "duration": 11,
    "start_time": "2025-03-27T14:21:32.183Z"
   },
   {
    "duration": 27,
    "start_time": "2025-03-27T14:21:32.196Z"
   },
   {
    "duration": 10,
    "start_time": "2025-03-27T14:21:32.225Z"
   },
   {
    "duration": 225,
    "start_time": "2025-03-27T14:21:32.237Z"
   },
   {
    "duration": 1390,
    "start_time": "2025-03-27T14:21:32.466Z"
   },
   {
    "duration": 32,
    "start_time": "2025-03-27T14:21:33.858Z"
   },
   {
    "duration": 27,
    "start_time": "2025-03-27T14:21:33.891Z"
   },
   {
    "duration": 4,
    "start_time": "2025-03-27T14:21:33.919Z"
   },
   {
    "duration": 16,
    "start_time": "2025-03-27T14:21:33.925Z"
   },
   {
    "duration": 228,
    "start_time": "2025-03-27T14:21:33.942Z"
   },
   {
    "duration": 1441,
    "start_time": "2025-03-27T14:21:34.175Z"
   },
   {
    "duration": 6,
    "start_time": "2025-03-27T14:21:35.620Z"
   },
   {
    "duration": 55,
    "start_time": "2025-03-27T14:21:35.628Z"
   },
   {
    "duration": 3,
    "start_time": "2025-03-27T14:21:35.685Z"
   },
   {
    "duration": 37,
    "start_time": "2025-03-27T14:21:35.689Z"
   },
   {
    "duration": 12,
    "start_time": "2025-03-27T14:21:35.728Z"
   },
   {
    "duration": 18,
    "start_time": "2025-03-27T14:21:35.742Z"
   },
   {
    "duration": 87,
    "start_time": "2025-03-27T14:21:35.762Z"
   },
   {
    "duration": 0,
    "start_time": "2025-03-27T14:21:35.851Z"
   },
   {
    "duration": 0,
    "start_time": "2025-03-27T14:21:35.851Z"
   },
   {
    "duration": 0,
    "start_time": "2025-03-27T14:21:35.852Z"
   },
   {
    "duration": 0,
    "start_time": "2025-03-27T14:21:35.854Z"
   },
   {
    "duration": 0,
    "start_time": "2025-03-27T14:21:35.855Z"
   },
   {
    "duration": 0,
    "start_time": "2025-03-27T14:21:35.855Z"
   },
   {
    "duration": 0,
    "start_time": "2025-03-27T14:21:35.856Z"
   },
   {
    "duration": 0,
    "start_time": "2025-03-27T14:21:35.858Z"
   },
   {
    "duration": 0,
    "start_time": "2025-03-27T14:21:35.858Z"
   },
   {
    "duration": 0,
    "start_time": "2025-03-27T14:21:35.859Z"
   },
   {
    "duration": 0,
    "start_time": "2025-03-27T14:21:35.860Z"
   },
   {
    "duration": 0,
    "start_time": "2025-03-27T14:21:35.862Z"
   },
   {
    "duration": 0,
    "start_time": "2025-03-27T14:21:35.863Z"
   },
   {
    "duration": 0,
    "start_time": "2025-03-27T14:21:35.863Z"
   },
   {
    "duration": 0,
    "start_time": "2025-03-27T14:21:35.864Z"
   },
   {
    "duration": 0,
    "start_time": "2025-03-27T14:21:35.865Z"
   },
   {
    "duration": 0,
    "start_time": "2025-03-27T14:21:35.866Z"
   },
   {
    "duration": 0,
    "start_time": "2025-03-27T14:21:35.868Z"
   },
   {
    "duration": 0,
    "start_time": "2025-03-27T14:21:35.869Z"
   },
   {
    "duration": 0,
    "start_time": "2025-03-27T14:21:35.869Z"
   },
   {
    "duration": 0,
    "start_time": "2025-03-27T14:21:35.870Z"
   },
   {
    "duration": 0,
    "start_time": "2025-03-27T14:21:35.873Z"
   },
   {
    "duration": 0,
    "start_time": "2025-03-27T14:21:35.873Z"
   },
   {
    "duration": 0,
    "start_time": "2025-03-27T14:21:35.875Z"
   },
   {
    "duration": 0,
    "start_time": "2025-03-27T14:21:35.876Z"
   },
   {
    "duration": 0,
    "start_time": "2025-03-27T14:21:35.877Z"
   },
   {
    "duration": 0,
    "start_time": "2025-03-27T14:21:35.878Z"
   },
   {
    "duration": 0,
    "start_time": "2025-03-27T14:21:35.879Z"
   },
   {
    "duration": 0,
    "start_time": "2025-03-27T14:21:35.880Z"
   },
   {
    "duration": 0,
    "start_time": "2025-03-27T14:21:35.881Z"
   },
   {
    "duration": 0,
    "start_time": "2025-03-27T14:21:35.883Z"
   },
   {
    "duration": 0,
    "start_time": "2025-03-27T14:21:35.884Z"
   },
   {
    "duration": 0,
    "start_time": "2025-03-27T14:21:35.886Z"
   },
   {
    "duration": 0,
    "start_time": "2025-03-27T14:21:35.887Z"
   },
   {
    "duration": 0,
    "start_time": "2025-03-27T14:21:35.888Z"
   },
   {
    "duration": 0,
    "start_time": "2025-03-27T14:21:35.889Z"
   },
   {
    "duration": 0,
    "start_time": "2025-03-27T14:21:35.891Z"
   },
   {
    "duration": 0,
    "start_time": "2025-03-27T14:21:35.893Z"
   },
   {
    "duration": 0,
    "start_time": "2025-03-27T14:21:35.894Z"
   },
   {
    "duration": 0,
    "start_time": "2025-03-27T14:21:35.895Z"
   },
   {
    "duration": 0,
    "start_time": "2025-03-27T14:21:35.896Z"
   },
   {
    "duration": 0,
    "start_time": "2025-03-27T14:21:35.897Z"
   },
   {
    "duration": 0,
    "start_time": "2025-03-27T14:21:35.898Z"
   },
   {
    "duration": 0,
    "start_time": "2025-03-27T14:21:35.899Z"
   },
   {
    "duration": 0,
    "start_time": "2025-03-27T14:21:35.900Z"
   },
   {
    "duration": 0,
    "start_time": "2025-03-27T14:21:35.901Z"
   },
   {
    "duration": 0,
    "start_time": "2025-03-27T14:21:35.902Z"
   },
   {
    "duration": 0,
    "start_time": "2025-03-27T14:21:35.904Z"
   },
   {
    "duration": 0,
    "start_time": "2025-03-27T14:21:35.905Z"
   },
   {
    "duration": 0,
    "start_time": "2025-03-27T14:21:35.906Z"
   },
   {
    "duration": 125,
    "start_time": "2025-03-27T14:21:53.868Z"
   },
   {
    "duration": 10,
    "start_time": "2025-03-27T14:21:58.332Z"
   },
   {
    "duration": 16,
    "start_time": "2025-03-27T14:22:23.508Z"
   },
   {
    "duration": 93,
    "start_time": "2025-03-27T14:22:37.298Z"
   },
   {
    "duration": 10357,
    "start_time": "2025-03-27T14:24:44.472Z"
   },
   {
    "duration": 1005,
    "start_time": "2025-03-27T14:24:54.831Z"
   },
   {
    "duration": 4,
    "start_time": "2025-03-27T14:24:55.837Z"
   },
   {
    "duration": 279,
    "start_time": "2025-03-27T14:24:55.843Z"
   },
   {
    "duration": 1603,
    "start_time": "2025-03-27T14:24:56.123Z"
   },
   {
    "duration": 1144,
    "start_time": "2025-03-27T14:24:57.728Z"
   },
   {
    "duration": 5,
    "start_time": "2025-03-27T14:24:58.874Z"
   },
   {
    "duration": 7,
    "start_time": "2025-03-27T14:24:58.881Z"
   },
   {
    "duration": 8,
    "start_time": "2025-03-27T14:24:58.890Z"
   },
   {
    "duration": 26,
    "start_time": "2025-03-27T14:24:58.902Z"
   },
   {
    "duration": 176,
    "start_time": "2025-03-27T14:24:58.929Z"
   },
   {
    "duration": 23,
    "start_time": "2025-03-27T14:24:59.107Z"
   },
   {
    "duration": 213,
    "start_time": "2025-03-27T14:24:59.132Z"
   },
   {
    "duration": 974,
    "start_time": "2025-03-27T14:24:59.346Z"
   },
   {
    "duration": 288,
    "start_time": "2025-03-27T14:25:00.322Z"
   },
   {
    "duration": 595,
    "start_time": "2025-03-27T14:25:00.611Z"
   },
   {
    "duration": 12,
    "start_time": "2025-03-27T14:25:01.208Z"
   },
   {
    "duration": 79,
    "start_time": "2025-03-27T14:25:01.222Z"
   },
   {
    "duration": 11,
    "start_time": "2025-03-27T14:25:01.304Z"
   },
   {
    "duration": 227,
    "start_time": "2025-03-27T14:25:01.316Z"
   },
   {
    "duration": 1589,
    "start_time": "2025-03-27T14:25:01.545Z"
   },
   {
    "duration": 33,
    "start_time": "2025-03-27T14:25:03.135Z"
   },
   {
    "duration": 32,
    "start_time": "2025-03-27T14:25:03.171Z"
   },
   {
    "duration": 5,
    "start_time": "2025-03-27T14:25:03.205Z"
   },
   {
    "duration": 17,
    "start_time": "2025-03-27T14:25:03.211Z"
   },
   {
    "duration": 244,
    "start_time": "2025-03-27T14:25:03.229Z"
   },
   {
    "duration": 1541,
    "start_time": "2025-03-27T14:25:03.475Z"
   },
   {
    "duration": 5,
    "start_time": "2025-03-27T14:25:05.021Z"
   },
   {
    "duration": 53,
    "start_time": "2025-03-27T14:25:05.028Z"
   },
   {
    "duration": 5,
    "start_time": "2025-03-27T14:25:05.083Z"
   },
   {
    "duration": 23,
    "start_time": "2025-03-27T14:25:05.090Z"
   },
   {
    "duration": 11,
    "start_time": "2025-03-27T14:25:05.115Z"
   },
   {
    "duration": 16,
    "start_time": "2025-03-27T14:25:05.128Z"
   },
   {
    "duration": 97,
    "start_time": "2025-03-27T14:25:05.146Z"
   },
   {
    "duration": 0,
    "start_time": "2025-03-27T14:25:05.245Z"
   },
   {
    "duration": 0,
    "start_time": "2025-03-27T14:25:05.246Z"
   },
   {
    "duration": 0,
    "start_time": "2025-03-27T14:25:05.247Z"
   },
   {
    "duration": 1,
    "start_time": "2025-03-27T14:25:05.248Z"
   },
   {
    "duration": 0,
    "start_time": "2025-03-27T14:25:05.250Z"
   },
   {
    "duration": 0,
    "start_time": "2025-03-27T14:25:05.251Z"
   },
   {
    "duration": 0,
    "start_time": "2025-03-27T14:25:05.252Z"
   },
   {
    "duration": 0,
    "start_time": "2025-03-27T14:25:05.253Z"
   },
   {
    "duration": 0,
    "start_time": "2025-03-27T14:25:05.255Z"
   },
   {
    "duration": 0,
    "start_time": "2025-03-27T14:25:05.256Z"
   },
   {
    "duration": 0,
    "start_time": "2025-03-27T14:25:05.257Z"
   },
   {
    "duration": 0,
    "start_time": "2025-03-27T14:25:05.258Z"
   },
   {
    "duration": 0,
    "start_time": "2025-03-27T14:25:05.259Z"
   },
   {
    "duration": 0,
    "start_time": "2025-03-27T14:25:05.261Z"
   },
   {
    "duration": 0,
    "start_time": "2025-03-27T14:25:05.262Z"
   },
   {
    "duration": 0,
    "start_time": "2025-03-27T14:25:05.263Z"
   },
   {
    "duration": 0,
    "start_time": "2025-03-27T14:25:05.264Z"
   },
   {
    "duration": 0,
    "start_time": "2025-03-27T14:25:05.265Z"
   },
   {
    "duration": 0,
    "start_time": "2025-03-27T14:25:05.267Z"
   },
   {
    "duration": 0,
    "start_time": "2025-03-27T14:25:05.268Z"
   },
   {
    "duration": 0,
    "start_time": "2025-03-27T14:25:05.269Z"
   },
   {
    "duration": 0,
    "start_time": "2025-03-27T14:25:05.270Z"
   },
   {
    "duration": 0,
    "start_time": "2025-03-27T14:25:05.271Z"
   },
   {
    "duration": 0,
    "start_time": "2025-03-27T14:25:05.273Z"
   },
   {
    "duration": 0,
    "start_time": "2025-03-27T14:25:05.275Z"
   },
   {
    "duration": 0,
    "start_time": "2025-03-27T14:25:05.277Z"
   },
   {
    "duration": 0,
    "start_time": "2025-03-27T14:25:05.279Z"
   },
   {
    "duration": 0,
    "start_time": "2025-03-27T14:25:05.280Z"
   },
   {
    "duration": 0,
    "start_time": "2025-03-27T14:25:05.282Z"
   },
   {
    "duration": 0,
    "start_time": "2025-03-27T14:25:05.284Z"
   },
   {
    "duration": 0,
    "start_time": "2025-03-27T14:25:05.286Z"
   },
   {
    "duration": 0,
    "start_time": "2025-03-27T14:25:05.287Z"
   },
   {
    "duration": 0,
    "start_time": "2025-03-27T14:25:05.288Z"
   },
   {
    "duration": 0,
    "start_time": "2025-03-27T14:25:05.290Z"
   },
   {
    "duration": 0,
    "start_time": "2025-03-27T14:25:05.292Z"
   },
   {
    "duration": 0,
    "start_time": "2025-03-27T14:25:05.293Z"
   },
   {
    "duration": 0,
    "start_time": "2025-03-27T14:25:05.294Z"
   },
   {
    "duration": 0,
    "start_time": "2025-03-27T14:25:05.295Z"
   },
   {
    "duration": 0,
    "start_time": "2025-03-27T14:25:05.297Z"
   },
   {
    "duration": 0,
    "start_time": "2025-03-27T14:25:05.298Z"
   },
   {
    "duration": 0,
    "start_time": "2025-03-27T14:25:05.300Z"
   },
   {
    "duration": 0,
    "start_time": "2025-03-27T14:25:05.301Z"
   },
   {
    "duration": 0,
    "start_time": "2025-03-27T14:25:05.303Z"
   },
   {
    "duration": 0,
    "start_time": "2025-03-27T14:25:05.304Z"
   },
   {
    "duration": 0,
    "start_time": "2025-03-27T14:25:05.305Z"
   },
   {
    "duration": 0,
    "start_time": "2025-03-27T14:25:05.307Z"
   },
   {
    "duration": 0,
    "start_time": "2025-03-27T14:25:05.309Z"
   },
   {
    "duration": 0,
    "start_time": "2025-03-27T14:25:05.368Z"
   },
   {
    "duration": 0,
    "start_time": "2025-03-27T14:25:05.370Z"
   },
   {
    "duration": 0,
    "start_time": "2025-03-27T14:25:05.371Z"
   },
   {
    "duration": 111,
    "start_time": "2025-03-27T14:25:48.033Z"
   },
   {
    "duration": 12,
    "start_time": "2025-03-27T14:25:52.236Z"
   },
   {
    "duration": 16,
    "start_time": "2025-03-27T14:25:54.829Z"
   },
   {
    "duration": 9448,
    "start_time": "2025-03-27T14:45:42.202Z"
   },
   {
    "duration": 941,
    "start_time": "2025-03-27T14:45:51.652Z"
   },
   {
    "duration": 3,
    "start_time": "2025-03-27T14:45:52.594Z"
   },
   {
    "duration": 232,
    "start_time": "2025-03-27T14:45:52.599Z"
   },
   {
    "duration": 1478,
    "start_time": "2025-03-27T14:45:52.832Z"
   },
   {
    "duration": 1045,
    "start_time": "2025-03-27T14:45:54.311Z"
   },
   {
    "duration": 11,
    "start_time": "2025-03-27T14:45:55.357Z"
   },
   {
    "duration": 21,
    "start_time": "2025-03-27T14:45:55.370Z"
   },
   {
    "duration": 29,
    "start_time": "2025-03-27T14:45:55.393Z"
   },
   {
    "duration": 25,
    "start_time": "2025-03-27T14:45:55.424Z"
   },
   {
    "duration": 92,
    "start_time": "2025-03-27T14:45:55.451Z"
   },
   {
    "duration": 27,
    "start_time": "2025-03-27T14:45:55.544Z"
   },
   {
    "duration": 191,
    "start_time": "2025-03-27T14:45:55.572Z"
   },
   {
    "duration": 846,
    "start_time": "2025-03-27T14:45:55.764Z"
   },
   {
    "duration": 256,
    "start_time": "2025-03-27T14:45:56.612Z"
   },
   {
    "duration": 521,
    "start_time": "2025-03-27T14:45:56.870Z"
   },
   {
    "duration": 12,
    "start_time": "2025-03-27T14:45:57.393Z"
   },
   {
    "duration": 20,
    "start_time": "2025-03-27T14:45:57.406Z"
   },
   {
    "duration": 10,
    "start_time": "2025-03-27T14:45:57.427Z"
   },
   {
    "duration": 219,
    "start_time": "2025-03-27T14:45:57.439Z"
   },
   {
    "duration": 1265,
    "start_time": "2025-03-27T14:45:57.667Z"
   },
   {
    "duration": 20,
    "start_time": "2025-03-27T14:45:58.933Z"
   },
   {
    "duration": 24,
    "start_time": "2025-03-27T14:45:58.967Z"
   },
   {
    "duration": 9,
    "start_time": "2025-03-27T14:45:58.993Z"
   },
   {
    "duration": 21,
    "start_time": "2025-03-27T14:45:59.004Z"
   },
   {
    "duration": 218,
    "start_time": "2025-03-27T14:45:59.027Z"
   },
   {
    "duration": 1336,
    "start_time": "2025-03-27T14:45:59.247Z"
   },
   {
    "duration": 5,
    "start_time": "2025-03-27T14:46:00.589Z"
   },
   {
    "duration": 26,
    "start_time": "2025-03-27T14:46:00.596Z"
   },
   {
    "duration": 3,
    "start_time": "2025-03-27T14:46:00.624Z"
   },
   {
    "duration": 41,
    "start_time": "2025-03-27T14:46:00.629Z"
   },
   {
    "duration": 13,
    "start_time": "2025-03-27T14:46:00.671Z"
   },
   {
    "duration": 16,
    "start_time": "2025-03-27T14:46:00.685Z"
   },
   {
    "duration": 80,
    "start_time": "2025-03-27T14:46:00.702Z"
   },
   {
    "duration": 0,
    "start_time": "2025-03-27T14:46:00.784Z"
   },
   {
    "duration": 0,
    "start_time": "2025-03-27T14:46:00.785Z"
   },
   {
    "duration": 0,
    "start_time": "2025-03-27T14:46:00.787Z"
   },
   {
    "duration": 0,
    "start_time": "2025-03-27T14:46:00.788Z"
   },
   {
    "duration": 0,
    "start_time": "2025-03-27T14:46:00.789Z"
   },
   {
    "duration": 0,
    "start_time": "2025-03-27T14:46:00.789Z"
   },
   {
    "duration": 0,
    "start_time": "2025-03-27T14:46:00.790Z"
   },
   {
    "duration": 0,
    "start_time": "2025-03-27T14:46:00.791Z"
   },
   {
    "duration": 0,
    "start_time": "2025-03-27T14:46:00.792Z"
   },
   {
    "duration": 0,
    "start_time": "2025-03-27T14:46:00.793Z"
   },
   {
    "duration": 0,
    "start_time": "2025-03-27T14:46:00.795Z"
   },
   {
    "duration": 0,
    "start_time": "2025-03-27T14:46:00.796Z"
   },
   {
    "duration": 0,
    "start_time": "2025-03-27T14:46:00.797Z"
   },
   {
    "duration": 0,
    "start_time": "2025-03-27T14:46:00.798Z"
   },
   {
    "duration": 0,
    "start_time": "2025-03-27T14:46:00.799Z"
   },
   {
    "duration": 0,
    "start_time": "2025-03-27T14:46:00.800Z"
   },
   {
    "duration": 0,
    "start_time": "2025-03-27T14:46:00.801Z"
   },
   {
    "duration": 0,
    "start_time": "2025-03-27T14:46:00.802Z"
   },
   {
    "duration": 0,
    "start_time": "2025-03-27T14:46:00.803Z"
   },
   {
    "duration": 0,
    "start_time": "2025-03-27T14:46:00.804Z"
   },
   {
    "duration": 0,
    "start_time": "2025-03-27T14:46:00.805Z"
   },
   {
    "duration": 0,
    "start_time": "2025-03-27T14:46:00.806Z"
   },
   {
    "duration": 0,
    "start_time": "2025-03-27T14:46:00.807Z"
   },
   {
    "duration": 0,
    "start_time": "2025-03-27T14:46:00.809Z"
   },
   {
    "duration": 0,
    "start_time": "2025-03-27T14:46:00.809Z"
   },
   {
    "duration": 0,
    "start_time": "2025-03-27T14:46:00.810Z"
   },
   {
    "duration": 0,
    "start_time": "2025-03-27T14:46:00.811Z"
   },
   {
    "duration": 0,
    "start_time": "2025-03-27T14:46:00.813Z"
   },
   {
    "duration": 0,
    "start_time": "2025-03-27T14:46:00.814Z"
   },
   {
    "duration": 0,
    "start_time": "2025-03-27T14:46:00.815Z"
   },
   {
    "duration": 0,
    "start_time": "2025-03-27T14:46:00.817Z"
   },
   {
    "duration": 0,
    "start_time": "2025-03-27T14:46:00.818Z"
   },
   {
    "duration": 0,
    "start_time": "2025-03-27T14:46:00.819Z"
   },
   {
    "duration": 0,
    "start_time": "2025-03-27T14:46:00.868Z"
   },
   {
    "duration": 0,
    "start_time": "2025-03-27T14:46:00.869Z"
   },
   {
    "duration": 0,
    "start_time": "2025-03-27T14:46:00.870Z"
   },
   {
    "duration": 0,
    "start_time": "2025-03-27T14:46:00.872Z"
   },
   {
    "duration": 0,
    "start_time": "2025-03-27T14:46:00.873Z"
   },
   {
    "duration": 0,
    "start_time": "2025-03-27T14:46:00.875Z"
   },
   {
    "duration": 0,
    "start_time": "2025-03-27T14:46:00.876Z"
   },
   {
    "duration": 0,
    "start_time": "2025-03-27T14:46:00.877Z"
   },
   {
    "duration": 0,
    "start_time": "2025-03-27T14:46:00.879Z"
   },
   {
    "duration": 0,
    "start_time": "2025-03-27T14:46:00.880Z"
   },
   {
    "duration": 0,
    "start_time": "2025-03-27T14:46:00.881Z"
   },
   {
    "duration": 0,
    "start_time": "2025-03-27T14:46:00.883Z"
   },
   {
    "duration": 0,
    "start_time": "2025-03-27T14:46:00.884Z"
   },
   {
    "duration": 0,
    "start_time": "2025-03-27T14:46:00.885Z"
   },
   {
    "duration": 0,
    "start_time": "2025-03-27T14:46:00.887Z"
   },
   {
    "duration": 0,
    "start_time": "2025-03-27T14:46:00.888Z"
   },
   {
    "duration": 0,
    "start_time": "2025-03-27T14:46:00.889Z"
   },
   {
    "duration": 132,
    "start_time": "2025-03-27T14:52:06.592Z"
   },
   {
    "duration": 104,
    "start_time": "2025-03-27T14:52:42.104Z"
   },
   {
    "duration": 12,
    "start_time": "2025-03-27T14:53:07.860Z"
   },
   {
    "duration": 9706,
    "start_time": "2025-03-27T15:00:26.536Z"
   },
   {
    "duration": 968,
    "start_time": "2025-03-27T15:00:36.244Z"
   },
   {
    "duration": 3,
    "start_time": "2025-03-27T15:00:37.214Z"
   },
   {
    "duration": 271,
    "start_time": "2025-03-27T15:00:37.219Z"
   },
   {
    "duration": 1621,
    "start_time": "2025-03-27T15:00:37.492Z"
   },
   {
    "duration": 1123,
    "start_time": "2025-03-27T15:00:39.114Z"
   },
   {
    "duration": 4,
    "start_time": "2025-03-27T15:00:40.239Z"
   },
   {
    "duration": 14,
    "start_time": "2025-03-27T15:00:40.244Z"
   },
   {
    "duration": 23,
    "start_time": "2025-03-27T15:00:40.266Z"
   },
   {
    "duration": 27,
    "start_time": "2025-03-27T15:00:40.291Z"
   },
   {
    "duration": 108,
    "start_time": "2025-03-27T15:00:40.319Z"
   },
   {
    "duration": 24,
    "start_time": "2025-03-27T15:00:40.429Z"
   },
   {
    "duration": 232,
    "start_time": "2025-03-27T15:00:40.454Z"
   },
   {
    "duration": 954,
    "start_time": "2025-03-27T15:00:40.687Z"
   },
   {
    "duration": 283,
    "start_time": "2025-03-27T15:00:41.643Z"
   },
   {
    "duration": 593,
    "start_time": "2025-03-27T15:00:41.927Z"
   },
   {
    "duration": 12,
    "start_time": "2025-03-27T15:00:42.522Z"
   },
   {
    "duration": 22,
    "start_time": "2025-03-27T15:00:42.535Z"
   },
   {
    "duration": 13,
    "start_time": "2025-03-27T15:00:42.572Z"
   },
   {
    "duration": 222,
    "start_time": "2025-03-27T15:00:42.586Z"
   },
   {
    "duration": 1413,
    "start_time": "2025-03-27T15:00:42.809Z"
   },
   {
    "duration": 20,
    "start_time": "2025-03-27T15:00:44.223Z"
   },
   {
    "duration": 44,
    "start_time": "2025-03-27T15:00:44.245Z"
   },
   {
    "duration": 3,
    "start_time": "2025-03-27T15:00:44.292Z"
   },
   {
    "duration": 24,
    "start_time": "2025-03-27T15:00:44.296Z"
   },
   {
    "duration": 215,
    "start_time": "2025-03-27T15:00:44.321Z"
   },
   {
    "duration": 1461,
    "start_time": "2025-03-27T15:00:44.538Z"
   },
   {
    "duration": 5,
    "start_time": "2025-03-27T15:00:46.003Z"
   },
   {
    "duration": 35,
    "start_time": "2025-03-27T15:00:46.010Z"
   },
   {
    "duration": 28,
    "start_time": "2025-03-27T15:00:46.047Z"
   },
   {
    "duration": 16,
    "start_time": "2025-03-27T15:00:46.081Z"
   },
   {
    "duration": 12,
    "start_time": "2025-03-27T15:00:46.098Z"
   },
   {
    "duration": 17,
    "start_time": "2025-03-27T15:00:46.111Z"
   },
   {
    "duration": 109,
    "start_time": "2025-03-27T15:00:46.130Z"
   },
   {
    "duration": 0,
    "start_time": "2025-03-27T15:00:46.241Z"
   },
   {
    "duration": 0,
    "start_time": "2025-03-27T15:00:46.242Z"
   },
   {
    "duration": 0,
    "start_time": "2025-03-27T15:00:46.243Z"
   },
   {
    "duration": 0,
    "start_time": "2025-03-27T15:00:46.244Z"
   },
   {
    "duration": 0,
    "start_time": "2025-03-27T15:00:46.245Z"
   },
   {
    "duration": 0,
    "start_time": "2025-03-27T15:00:46.247Z"
   },
   {
    "duration": 0,
    "start_time": "2025-03-27T15:00:46.248Z"
   },
   {
    "duration": 0,
    "start_time": "2025-03-27T15:00:46.249Z"
   },
   {
    "duration": 0,
    "start_time": "2025-03-27T15:00:46.251Z"
   },
   {
    "duration": 0,
    "start_time": "2025-03-27T15:00:46.252Z"
   },
   {
    "duration": 0,
    "start_time": "2025-03-27T15:00:46.253Z"
   },
   {
    "duration": 0,
    "start_time": "2025-03-27T15:00:46.254Z"
   },
   {
    "duration": 0,
    "start_time": "2025-03-27T15:00:46.255Z"
   },
   {
    "duration": 0,
    "start_time": "2025-03-27T15:00:46.256Z"
   },
   {
    "duration": 0,
    "start_time": "2025-03-27T15:00:46.257Z"
   },
   {
    "duration": 0,
    "start_time": "2025-03-27T15:00:46.259Z"
   },
   {
    "duration": 0,
    "start_time": "2025-03-27T15:00:46.260Z"
   },
   {
    "duration": 0,
    "start_time": "2025-03-27T15:00:46.261Z"
   },
   {
    "duration": 0,
    "start_time": "2025-03-27T15:00:46.262Z"
   },
   {
    "duration": 0,
    "start_time": "2025-03-27T15:00:46.264Z"
   },
   {
    "duration": 0,
    "start_time": "2025-03-27T15:00:46.265Z"
   },
   {
    "duration": 0,
    "start_time": "2025-03-27T15:00:46.266Z"
   },
   {
    "duration": 0,
    "start_time": "2025-03-27T15:00:46.267Z"
   },
   {
    "duration": 0,
    "start_time": "2025-03-27T15:00:46.269Z"
   },
   {
    "duration": 0,
    "start_time": "2025-03-27T15:00:46.269Z"
   },
   {
    "duration": 0,
    "start_time": "2025-03-27T15:00:46.270Z"
   },
   {
    "duration": 0,
    "start_time": "2025-03-27T15:00:46.271Z"
   },
   {
    "duration": 0,
    "start_time": "2025-03-27T15:00:46.271Z"
   },
   {
    "duration": 0,
    "start_time": "2025-03-27T15:00:46.272Z"
   },
   {
    "duration": 0,
    "start_time": "2025-03-27T15:00:46.272Z"
   },
   {
    "duration": 0,
    "start_time": "2025-03-27T15:00:46.273Z"
   },
   {
    "duration": 0,
    "start_time": "2025-03-27T15:00:46.274Z"
   },
   {
    "duration": 0,
    "start_time": "2025-03-27T15:00:46.274Z"
   },
   {
    "duration": 0,
    "start_time": "2025-03-27T15:00:46.275Z"
   },
   {
    "duration": 0,
    "start_time": "2025-03-27T15:00:46.276Z"
   },
   {
    "duration": 0,
    "start_time": "2025-03-27T15:00:46.277Z"
   },
   {
    "duration": 0,
    "start_time": "2025-03-27T15:00:46.277Z"
   },
   {
    "duration": 0,
    "start_time": "2025-03-27T15:00:46.278Z"
   },
   {
    "duration": 0,
    "start_time": "2025-03-27T15:00:46.282Z"
   },
   {
    "duration": 0,
    "start_time": "2025-03-27T15:00:46.283Z"
   },
   {
    "duration": 0,
    "start_time": "2025-03-27T15:00:46.284Z"
   },
   {
    "duration": 0,
    "start_time": "2025-03-27T15:00:46.286Z"
   },
   {
    "duration": 0,
    "start_time": "2025-03-27T15:00:46.287Z"
   },
   {
    "duration": 0,
    "start_time": "2025-03-27T15:00:46.289Z"
   },
   {
    "duration": 0,
    "start_time": "2025-03-27T15:00:46.290Z"
   },
   {
    "duration": 0,
    "start_time": "2025-03-27T15:00:46.292Z"
   },
   {
    "duration": 0,
    "start_time": "2025-03-27T15:00:46.294Z"
   },
   {
    "duration": 0,
    "start_time": "2025-03-27T15:00:46.295Z"
   },
   {
    "duration": 0,
    "start_time": "2025-03-27T15:00:46.297Z"
   },
   {
    "duration": 0,
    "start_time": "2025-03-27T15:00:46.298Z"
   },
   {
    "duration": 0,
    "start_time": "2025-03-27T15:00:46.300Z"
   },
   {
    "duration": 0,
    "start_time": "2025-03-27T15:00:46.301Z"
   },
   {
    "duration": 0,
    "start_time": "2025-03-27T15:00:46.303Z"
   },
   {
    "duration": 106,
    "start_time": "2025-03-27T15:01:16.057Z"
   },
   {
    "duration": 16,
    "start_time": "2025-03-27T15:01:25.184Z"
   },
   {
    "duration": 13,
    "start_time": "2025-03-27T15:01:30.736Z"
   },
   {
    "duration": 91,
    "start_time": "2025-03-27T15:01:35.491Z"
   },
   {
    "duration": 99,
    "start_time": "2025-03-27T15:01:57.217Z"
   },
   {
    "duration": 6,
    "start_time": "2025-03-27T15:02:00.432Z"
   },
   {
    "duration": 24,
    "start_time": "2025-03-27T15:02:10.280Z"
   },
   {
    "duration": 10259,
    "start_time": "2025-03-27T15:04:13.296Z"
   },
   {
    "duration": 938,
    "start_time": "2025-03-27T15:04:23.557Z"
   },
   {
    "duration": 4,
    "start_time": "2025-03-27T15:04:24.496Z"
   },
   {
    "duration": 245,
    "start_time": "2025-03-27T15:04:24.502Z"
   },
   {
    "duration": 1473,
    "start_time": "2025-03-27T15:04:24.749Z"
   },
   {
    "duration": 1154,
    "start_time": "2025-03-27T15:04:26.224Z"
   },
   {
    "duration": 5,
    "start_time": "2025-03-27T15:04:27.384Z"
   },
   {
    "duration": 25,
    "start_time": "2025-03-27T15:04:27.391Z"
   },
   {
    "duration": 6,
    "start_time": "2025-03-27T15:04:27.418Z"
   },
   {
    "duration": 31,
    "start_time": "2025-03-27T15:04:27.427Z"
   },
   {
    "duration": 100,
    "start_time": "2025-03-27T15:04:27.460Z"
   },
   {
    "duration": 31,
    "start_time": "2025-03-27T15:04:27.561Z"
   },
   {
    "duration": 204,
    "start_time": "2025-03-27T15:04:27.594Z"
   },
   {
    "duration": 901,
    "start_time": "2025-03-27T15:04:27.799Z"
   },
   {
    "duration": 276,
    "start_time": "2025-03-27T15:04:28.702Z"
   },
   {
    "duration": 560,
    "start_time": "2025-03-27T15:04:28.980Z"
   },
   {
    "duration": 11,
    "start_time": "2025-03-27T15:04:29.541Z"
   },
   {
    "duration": 36,
    "start_time": "2025-03-27T15:04:29.553Z"
   },
   {
    "duration": 9,
    "start_time": "2025-03-27T15:04:29.590Z"
   },
   {
    "duration": 220,
    "start_time": "2025-03-27T15:04:29.601Z"
   },
   {
    "duration": 1653,
    "start_time": "2025-03-27T15:04:29.823Z"
   },
   {
    "duration": 22,
    "start_time": "2025-03-27T15:04:31.478Z"
   },
   {
    "duration": 98,
    "start_time": "2025-03-27T15:04:31.501Z"
   },
   {
    "duration": 3,
    "start_time": "2025-03-27T15:04:31.601Z"
   },
   {
    "duration": 82,
    "start_time": "2025-03-27T15:04:31.605Z"
   },
   {
    "duration": 424,
    "start_time": "2025-03-27T15:04:31.688Z"
   },
   {
    "duration": 1566,
    "start_time": "2025-03-27T15:04:32.167Z"
   },
   {
    "duration": 5,
    "start_time": "2025-03-27T15:04:33.737Z"
   },
   {
    "duration": 55,
    "start_time": "2025-03-27T15:04:33.744Z"
   },
   {
    "duration": 4,
    "start_time": "2025-03-27T15:04:33.800Z"
   },
   {
    "duration": 19,
    "start_time": "2025-03-27T15:04:33.805Z"
   },
   {
    "duration": 11,
    "start_time": "2025-03-27T15:04:33.825Z"
   },
   {
    "duration": 44,
    "start_time": "2025-03-27T15:04:33.838Z"
   },
   {
    "duration": 82,
    "start_time": "2025-03-27T15:04:33.883Z"
   },
   {
    "duration": 0,
    "start_time": "2025-03-27T15:04:33.966Z"
   },
   {
    "duration": 0,
    "start_time": "2025-03-27T15:04:33.967Z"
   },
   {
    "duration": 0,
    "start_time": "2025-03-27T15:04:33.968Z"
   },
   {
    "duration": 0,
    "start_time": "2025-03-27T15:04:33.970Z"
   },
   {
    "duration": 0,
    "start_time": "2025-03-27T15:04:33.971Z"
   },
   {
    "duration": 0,
    "start_time": "2025-03-27T15:04:33.972Z"
   },
   {
    "duration": 0,
    "start_time": "2025-03-27T15:04:33.973Z"
   },
   {
    "duration": 0,
    "start_time": "2025-03-27T15:04:33.974Z"
   },
   {
    "duration": 0,
    "start_time": "2025-03-27T15:04:33.976Z"
   },
   {
    "duration": 0,
    "start_time": "2025-03-27T15:04:33.977Z"
   },
   {
    "duration": 0,
    "start_time": "2025-03-27T15:04:33.978Z"
   },
   {
    "duration": 0,
    "start_time": "2025-03-27T15:04:33.979Z"
   },
   {
    "duration": 0,
    "start_time": "2025-03-27T15:04:33.979Z"
   },
   {
    "duration": 0,
    "start_time": "2025-03-27T15:04:33.982Z"
   },
   {
    "duration": 0,
    "start_time": "2025-03-27T15:04:33.984Z"
   },
   {
    "duration": 0,
    "start_time": "2025-03-27T15:04:33.985Z"
   },
   {
    "duration": 0,
    "start_time": "2025-03-27T15:04:33.987Z"
   },
   {
    "duration": 0,
    "start_time": "2025-03-27T15:04:33.988Z"
   },
   {
    "duration": 0,
    "start_time": "2025-03-27T15:04:33.989Z"
   },
   {
    "duration": 1,
    "start_time": "2025-03-27T15:04:33.989Z"
   },
   {
    "duration": 0,
    "start_time": "2025-03-27T15:04:33.991Z"
   },
   {
    "duration": 0,
    "start_time": "2025-03-27T15:04:33.992Z"
   },
   {
    "duration": 0,
    "start_time": "2025-03-27T15:04:33.993Z"
   },
   {
    "duration": 0,
    "start_time": "2025-03-27T15:04:33.994Z"
   },
   {
    "duration": 0,
    "start_time": "2025-03-27T15:04:33.995Z"
   },
   {
    "duration": 0,
    "start_time": "2025-03-27T15:04:33.996Z"
   },
   {
    "duration": 0,
    "start_time": "2025-03-27T15:04:33.997Z"
   },
   {
    "duration": 0,
    "start_time": "2025-03-27T15:04:33.998Z"
   },
   {
    "duration": 0,
    "start_time": "2025-03-27T15:04:33.999Z"
   },
   {
    "duration": 0,
    "start_time": "2025-03-27T15:04:34.000Z"
   },
   {
    "duration": 0,
    "start_time": "2025-03-27T15:04:34.001Z"
   },
   {
    "duration": 0,
    "start_time": "2025-03-27T15:04:34.002Z"
   },
   {
    "duration": 0,
    "start_time": "2025-03-27T15:04:34.003Z"
   },
   {
    "duration": 0,
    "start_time": "2025-03-27T15:04:34.004Z"
   },
   {
    "duration": 0,
    "start_time": "2025-03-27T15:04:34.005Z"
   },
   {
    "duration": 0,
    "start_time": "2025-03-27T15:04:34.006Z"
   },
   {
    "duration": 0,
    "start_time": "2025-03-27T15:04:34.007Z"
   },
   {
    "duration": 0,
    "start_time": "2025-03-27T15:04:34.008Z"
   },
   {
    "duration": 0,
    "start_time": "2025-03-27T15:04:34.010Z"
   },
   {
    "duration": 0,
    "start_time": "2025-03-27T15:04:34.073Z"
   },
   {
    "duration": 0,
    "start_time": "2025-03-27T15:04:34.075Z"
   },
   {
    "duration": 0,
    "start_time": "2025-03-27T15:04:34.076Z"
   },
   {
    "duration": 0,
    "start_time": "2025-03-27T15:04:34.076Z"
   },
   {
    "duration": 0,
    "start_time": "2025-03-27T15:04:34.077Z"
   },
   {
    "duration": 0,
    "start_time": "2025-03-27T15:04:34.078Z"
   },
   {
    "duration": 0,
    "start_time": "2025-03-27T15:04:34.080Z"
   },
   {
    "duration": 0,
    "start_time": "2025-03-27T15:04:34.081Z"
   },
   {
    "duration": 0,
    "start_time": "2025-03-27T15:04:34.083Z"
   },
   {
    "duration": 0,
    "start_time": "2025-03-27T15:04:34.084Z"
   },
   {
    "duration": 0,
    "start_time": "2025-03-27T15:04:34.086Z"
   },
   {
    "duration": 0,
    "start_time": "2025-03-27T15:04:34.087Z"
   },
   {
    "duration": 0,
    "start_time": "2025-03-27T15:04:34.089Z"
   },
   {
    "duration": 0,
    "start_time": "2025-03-27T15:04:34.090Z"
   },
   {
    "duration": 131,
    "start_time": "2025-03-27T15:04:45.180Z"
   },
   {
    "duration": 113,
    "start_time": "2025-03-27T15:06:24.767Z"
   },
   {
    "duration": 13,
    "start_time": "2025-03-27T15:06:31.514Z"
   },
   {
    "duration": 109,
    "start_time": "2025-03-27T15:08:32.044Z"
   },
   {
    "duration": 19,
    "start_time": "2025-03-27T15:08:36.759Z"
   },
   {
    "duration": 90,
    "start_time": "2025-03-27T15:09:25.554Z"
   },
   {
    "duration": 102,
    "start_time": "2025-03-27T15:10:06.584Z"
   },
   {
    "duration": 8,
    "start_time": "2025-03-27T15:10:11.293Z"
   },
   {
    "duration": 16,
    "start_time": "2025-03-27T15:10:16.408Z"
   },
   {
    "duration": 9598,
    "start_time": "2025-03-27T15:11:35.155Z"
   },
   {
    "duration": 991,
    "start_time": "2025-03-27T15:11:44.755Z"
   },
   {
    "duration": 4,
    "start_time": "2025-03-27T15:11:45.747Z"
   },
   {
    "duration": 267,
    "start_time": "2025-03-27T15:11:45.752Z"
   },
   {
    "duration": 1565,
    "start_time": "2025-03-27T15:11:46.022Z"
   },
   {
    "duration": 1109,
    "start_time": "2025-03-27T15:11:47.588Z"
   },
   {
    "duration": 4,
    "start_time": "2025-03-27T15:11:48.699Z"
   },
   {
    "duration": 17,
    "start_time": "2025-03-27T15:11:48.705Z"
   },
   {
    "duration": 8,
    "start_time": "2025-03-27T15:11:48.724Z"
   },
   {
    "duration": 38,
    "start_time": "2025-03-27T15:11:48.733Z"
   },
   {
    "duration": 106,
    "start_time": "2025-03-27T15:11:48.773Z"
   },
   {
    "duration": 25,
    "start_time": "2025-03-27T15:11:48.881Z"
   },
   {
    "duration": 222,
    "start_time": "2025-03-27T15:11:48.908Z"
   },
   {
    "duration": 914,
    "start_time": "2025-03-27T15:11:49.134Z"
   },
   {
    "duration": 276,
    "start_time": "2025-03-27T15:11:50.049Z"
   },
   {
    "duration": 566,
    "start_time": "2025-03-27T15:11:50.326Z"
   },
   {
    "duration": 12,
    "start_time": "2025-03-27T15:11:50.893Z"
   },
   {
    "duration": 20,
    "start_time": "2025-03-27T15:11:50.906Z"
   },
   {
    "duration": 9,
    "start_time": "2025-03-27T15:11:50.927Z"
   },
   {
    "duration": 222,
    "start_time": "2025-03-27T15:11:50.938Z"
   },
   {
    "duration": 1367,
    "start_time": "2025-03-27T15:11:51.161Z"
   },
   {
    "duration": 19,
    "start_time": "2025-03-27T15:11:52.529Z"
   },
   {
    "duration": 45,
    "start_time": "2025-03-27T15:11:52.550Z"
   },
   {
    "duration": 4,
    "start_time": "2025-03-27T15:11:52.596Z"
   },
   {
    "duration": 17,
    "start_time": "2025-03-27T15:11:52.601Z"
   },
   {
    "duration": 213,
    "start_time": "2025-03-27T15:11:52.620Z"
   },
   {
    "duration": 1440,
    "start_time": "2025-03-27T15:11:52.834Z"
   },
   {
    "duration": 6,
    "start_time": "2025-03-27T15:11:54.280Z"
   },
   {
    "duration": 38,
    "start_time": "2025-03-27T15:11:54.287Z"
   },
   {
    "duration": 3,
    "start_time": "2025-03-27T15:11:54.327Z"
   },
   {
    "duration": 31,
    "start_time": "2025-03-27T15:11:54.332Z"
   },
   {
    "duration": 16,
    "start_time": "2025-03-27T15:11:54.364Z"
   },
   {
    "duration": 78,
    "start_time": "2025-03-27T15:11:54.382Z"
   },
   {
    "duration": 0,
    "start_time": "2025-03-27T15:11:54.463Z"
   },
   {
    "duration": 0,
    "start_time": "2025-03-27T15:11:54.464Z"
   },
   {
    "duration": 0,
    "start_time": "2025-03-27T15:11:54.465Z"
   },
   {
    "duration": 0,
    "start_time": "2025-03-27T15:11:54.466Z"
   },
   {
    "duration": 0,
    "start_time": "2025-03-27T15:11:54.467Z"
   },
   {
    "duration": 0,
    "start_time": "2025-03-27T15:11:54.468Z"
   },
   {
    "duration": 0,
    "start_time": "2025-03-27T15:11:54.468Z"
   },
   {
    "duration": 0,
    "start_time": "2025-03-27T15:11:54.469Z"
   },
   {
    "duration": 0,
    "start_time": "2025-03-27T15:11:54.469Z"
   },
   {
    "duration": 0,
    "start_time": "2025-03-27T15:11:54.470Z"
   },
   {
    "duration": 0,
    "start_time": "2025-03-27T15:11:54.471Z"
   },
   {
    "duration": 0,
    "start_time": "2025-03-27T15:11:54.472Z"
   },
   {
    "duration": 0,
    "start_time": "2025-03-27T15:11:54.474Z"
   },
   {
    "duration": 0,
    "start_time": "2025-03-27T15:11:54.475Z"
   },
   {
    "duration": 0,
    "start_time": "2025-03-27T15:11:54.476Z"
   },
   {
    "duration": 0,
    "start_time": "2025-03-27T15:11:54.477Z"
   },
   {
    "duration": 0,
    "start_time": "2025-03-27T15:11:54.478Z"
   },
   {
    "duration": 0,
    "start_time": "2025-03-27T15:11:54.479Z"
   },
   {
    "duration": 0,
    "start_time": "2025-03-27T15:11:54.480Z"
   },
   {
    "duration": 0,
    "start_time": "2025-03-27T15:11:54.481Z"
   },
   {
    "duration": 0,
    "start_time": "2025-03-27T15:11:54.483Z"
   },
   {
    "duration": 0,
    "start_time": "2025-03-27T15:11:54.483Z"
   },
   {
    "duration": 0,
    "start_time": "2025-03-27T15:11:54.485Z"
   },
   {
    "duration": 0,
    "start_time": "2025-03-27T15:11:54.486Z"
   },
   {
    "duration": 0,
    "start_time": "2025-03-27T15:11:54.487Z"
   },
   {
    "duration": 0,
    "start_time": "2025-03-27T15:11:54.488Z"
   },
   {
    "duration": 0,
    "start_time": "2025-03-27T15:11:54.490Z"
   },
   {
    "duration": 0,
    "start_time": "2025-03-27T15:11:54.491Z"
   },
   {
    "duration": 0,
    "start_time": "2025-03-27T15:11:54.492Z"
   },
   {
    "duration": 0,
    "start_time": "2025-03-27T15:11:54.494Z"
   },
   {
    "duration": 0,
    "start_time": "2025-03-27T15:11:54.495Z"
   },
   {
    "duration": 0,
    "start_time": "2025-03-27T15:11:54.497Z"
   },
   {
    "duration": 0,
    "start_time": "2025-03-27T15:11:54.498Z"
   },
   {
    "duration": 0,
    "start_time": "2025-03-27T15:11:54.499Z"
   },
   {
    "duration": 0,
    "start_time": "2025-03-27T15:11:54.501Z"
   },
   {
    "duration": 0,
    "start_time": "2025-03-27T15:11:54.502Z"
   },
   {
    "duration": 0,
    "start_time": "2025-03-27T15:11:54.504Z"
   },
   {
    "duration": 0,
    "start_time": "2025-03-27T15:11:54.505Z"
   },
   {
    "duration": 0,
    "start_time": "2025-03-27T15:11:54.506Z"
   },
   {
    "duration": 0,
    "start_time": "2025-03-27T15:11:54.508Z"
   },
   {
    "duration": 0,
    "start_time": "2025-03-27T15:11:54.509Z"
   },
   {
    "duration": 0,
    "start_time": "2025-03-27T15:11:54.511Z"
   },
   {
    "duration": 0,
    "start_time": "2025-03-27T15:11:54.512Z"
   },
   {
    "duration": 0,
    "start_time": "2025-03-27T15:11:54.513Z"
   },
   {
    "duration": 0,
    "start_time": "2025-03-27T15:11:54.570Z"
   },
   {
    "duration": 0,
    "start_time": "2025-03-27T15:11:54.575Z"
   },
   {
    "duration": 0,
    "start_time": "2025-03-27T15:11:54.576Z"
   },
   {
    "duration": 0,
    "start_time": "2025-03-27T15:11:54.577Z"
   },
   {
    "duration": 0,
    "start_time": "2025-03-27T15:11:54.578Z"
   },
   {
    "duration": 0,
    "start_time": "2025-03-27T15:11:54.579Z"
   },
   {
    "duration": 0,
    "start_time": "2025-03-27T15:11:54.580Z"
   },
   {
    "duration": 0,
    "start_time": "2025-03-27T15:11:54.582Z"
   },
   {
    "duration": 0,
    "start_time": "2025-03-27T15:11:54.583Z"
   },
   {
    "duration": 116,
    "start_time": "2025-03-27T15:12:18.172Z"
   },
   {
    "duration": 10,
    "start_time": "2025-03-27T15:12:20.990Z"
   },
   {
    "duration": 25,
    "start_time": "2025-03-27T15:16:32.074Z"
   },
   {
    "duration": 142,
    "start_time": "2025-03-27T15:16:50.812Z"
   },
   {
    "duration": 3,
    "start_time": "2025-03-27T15:17:13.896Z"
   },
   {
    "duration": 4,
    "start_time": "2025-03-27T15:17:16.571Z"
   },
   {
    "duration": 2311,
    "start_time": "2025-03-27T15:17:20.201Z"
   },
   {
    "duration": 9196,
    "start_time": "2025-03-27T15:19:07.586Z"
   },
   {
    "duration": 925,
    "start_time": "2025-03-27T15:19:16.785Z"
   },
   {
    "duration": 3,
    "start_time": "2025-03-27T15:19:17.712Z"
   },
   {
    "duration": 244,
    "start_time": "2025-03-27T15:19:17.716Z"
   },
   {
    "duration": 1514,
    "start_time": "2025-03-27T15:19:17.966Z"
   },
   {
    "duration": 1043,
    "start_time": "2025-03-27T15:19:19.481Z"
   },
   {
    "duration": 4,
    "start_time": "2025-03-27T15:19:20.526Z"
   },
   {
    "duration": 20,
    "start_time": "2025-03-27T15:19:20.531Z"
   },
   {
    "duration": 28,
    "start_time": "2025-03-27T15:19:20.552Z"
   },
   {
    "duration": 26,
    "start_time": "2025-03-27T15:19:20.582Z"
   },
   {
    "duration": 97,
    "start_time": "2025-03-27T15:19:20.609Z"
   },
   {
    "duration": 22,
    "start_time": "2025-03-27T15:19:20.708Z"
   },
   {
    "duration": 207,
    "start_time": "2025-03-27T15:19:20.732Z"
   },
   {
    "duration": 868,
    "start_time": "2025-03-27T15:19:20.942Z"
   },
   {
    "duration": 259,
    "start_time": "2025-03-27T15:19:21.812Z"
   },
   {
    "duration": 553,
    "start_time": "2025-03-27T15:19:22.073Z"
   },
   {
    "duration": 13,
    "start_time": "2025-03-27T15:19:22.628Z"
   },
   {
    "duration": 35,
    "start_time": "2025-03-27T15:19:22.642Z"
   },
   {
    "duration": 10,
    "start_time": "2025-03-27T15:19:22.678Z"
   },
   {
    "duration": 224,
    "start_time": "2025-03-27T15:19:22.690Z"
   },
   {
    "duration": 1427,
    "start_time": "2025-03-27T15:19:22.916Z"
   },
   {
    "duration": 29,
    "start_time": "2025-03-27T15:19:24.344Z"
   },
   {
    "duration": 29,
    "start_time": "2025-03-27T15:19:24.374Z"
   },
   {
    "duration": 3,
    "start_time": "2025-03-27T15:19:24.405Z"
   },
   {
    "duration": 18,
    "start_time": "2025-03-27T15:19:24.409Z"
   },
   {
    "duration": 217,
    "start_time": "2025-03-27T15:19:24.428Z"
   },
   {
    "duration": 1357,
    "start_time": "2025-03-27T15:19:24.647Z"
   },
   {
    "duration": 5,
    "start_time": "2025-03-27T15:19:26.006Z"
   },
   {
    "duration": 37,
    "start_time": "2025-03-27T15:19:26.012Z"
   },
   {
    "duration": 4,
    "start_time": "2025-03-27T15:19:26.067Z"
   },
   {
    "duration": 17,
    "start_time": "2025-03-27T15:19:26.072Z"
   },
   {
    "duration": 12,
    "start_time": "2025-03-27T15:19:26.091Z"
   },
   {
    "duration": 82,
    "start_time": "2025-03-27T15:19:26.104Z"
   },
   {
    "duration": 0,
    "start_time": "2025-03-27T15:19:26.189Z"
   },
   {
    "duration": 0,
    "start_time": "2025-03-27T15:19:26.190Z"
   },
   {
    "duration": 0,
    "start_time": "2025-03-27T15:19:26.192Z"
   },
   {
    "duration": 0,
    "start_time": "2025-03-27T15:19:26.193Z"
   },
   {
    "duration": 0,
    "start_time": "2025-03-27T15:19:26.194Z"
   },
   {
    "duration": 0,
    "start_time": "2025-03-27T15:19:26.195Z"
   },
   {
    "duration": 0,
    "start_time": "2025-03-27T15:19:26.196Z"
   },
   {
    "duration": 0,
    "start_time": "2025-03-27T15:19:26.197Z"
   },
   {
    "duration": 0,
    "start_time": "2025-03-27T15:19:26.198Z"
   },
   {
    "duration": 0,
    "start_time": "2025-03-27T15:19:26.200Z"
   },
   {
    "duration": 0,
    "start_time": "2025-03-27T15:19:26.202Z"
   },
   {
    "duration": 0,
    "start_time": "2025-03-27T15:19:26.203Z"
   },
   {
    "duration": 0,
    "start_time": "2025-03-27T15:19:26.205Z"
   },
   {
    "duration": 0,
    "start_time": "2025-03-27T15:19:26.206Z"
   },
   {
    "duration": 0,
    "start_time": "2025-03-27T15:19:26.207Z"
   },
   {
    "duration": 0,
    "start_time": "2025-03-27T15:19:26.208Z"
   },
   {
    "duration": 0,
    "start_time": "2025-03-27T15:19:26.209Z"
   },
   {
    "duration": 0,
    "start_time": "2025-03-27T15:19:26.211Z"
   },
   {
    "duration": 0,
    "start_time": "2025-03-27T15:19:26.212Z"
   },
   {
    "duration": 0,
    "start_time": "2025-03-27T15:19:26.213Z"
   },
   {
    "duration": 0,
    "start_time": "2025-03-27T15:19:26.214Z"
   },
   {
    "duration": 0,
    "start_time": "2025-03-27T15:19:26.216Z"
   },
   {
    "duration": 0,
    "start_time": "2025-03-27T15:19:26.217Z"
   },
   {
    "duration": 0,
    "start_time": "2025-03-27T15:19:26.218Z"
   },
   {
    "duration": 0,
    "start_time": "2025-03-27T15:19:26.219Z"
   },
   {
    "duration": 0,
    "start_time": "2025-03-27T15:19:26.220Z"
   },
   {
    "duration": 0,
    "start_time": "2025-03-27T15:19:26.221Z"
   },
   {
    "duration": 0,
    "start_time": "2025-03-27T15:19:26.223Z"
   },
   {
    "duration": 0,
    "start_time": "2025-03-27T15:19:26.223Z"
   },
   {
    "duration": 0,
    "start_time": "2025-03-27T15:19:26.268Z"
   },
   {
    "duration": 0,
    "start_time": "2025-03-27T15:19:26.269Z"
   },
   {
    "duration": 0,
    "start_time": "2025-03-27T15:19:26.270Z"
   },
   {
    "duration": 0,
    "start_time": "2025-03-27T15:19:26.271Z"
   },
   {
    "duration": 0,
    "start_time": "2025-03-27T15:19:26.272Z"
   },
   {
    "duration": 0,
    "start_time": "2025-03-27T15:19:26.273Z"
   },
   {
    "duration": 0,
    "start_time": "2025-03-27T15:19:26.274Z"
   },
   {
    "duration": 0,
    "start_time": "2025-03-27T15:19:26.275Z"
   },
   {
    "duration": 0,
    "start_time": "2025-03-27T15:19:26.277Z"
   },
   {
    "duration": 0,
    "start_time": "2025-03-27T15:19:26.277Z"
   },
   {
    "duration": 0,
    "start_time": "2025-03-27T15:19:26.278Z"
   },
   {
    "duration": 0,
    "start_time": "2025-03-27T15:19:26.280Z"
   },
   {
    "duration": 0,
    "start_time": "2025-03-27T15:19:26.281Z"
   },
   {
    "duration": 0,
    "start_time": "2025-03-27T15:19:26.281Z"
   },
   {
    "duration": 0,
    "start_time": "2025-03-27T15:19:26.283Z"
   },
   {
    "duration": 0,
    "start_time": "2025-03-27T15:19:26.283Z"
   },
   {
    "duration": 0,
    "start_time": "2025-03-27T15:19:26.285Z"
   },
   {
    "duration": 0,
    "start_time": "2025-03-27T15:19:26.285Z"
   },
   {
    "duration": 0,
    "start_time": "2025-03-27T15:19:26.287Z"
   },
   {
    "duration": 0,
    "start_time": "2025-03-27T15:19:26.288Z"
   },
   {
    "duration": 0,
    "start_time": "2025-03-27T15:19:26.289Z"
   },
   {
    "duration": 0,
    "start_time": "2025-03-27T15:19:26.290Z"
   },
   {
    "duration": 0,
    "start_time": "2025-03-27T15:19:26.291Z"
   },
   {
    "duration": 1,
    "start_time": "2025-03-27T15:19:26.291Z"
   },
   {
    "duration": 0,
    "start_time": "2025-03-27T15:19:26.292Z"
   },
   {
    "duration": 4,
    "start_time": "2025-03-27T15:19:39.332Z"
   },
   {
    "duration": 4,
    "start_time": "2025-03-27T15:19:42.022Z"
   },
   {
    "duration": 2286,
    "start_time": "2025-03-27T15:19:45.217Z"
   },
   {
    "duration": 31,
    "start_time": "2025-03-27T15:20:17.306Z"
   },
   {
    "duration": 2160,
    "start_time": "2025-03-27T15:20:31.785Z"
   },
   {
    "duration": 9243,
    "start_time": "2025-03-27T15:21:09.241Z"
   },
   {
    "duration": 953,
    "start_time": "2025-03-27T15:21:18.486Z"
   },
   {
    "duration": 3,
    "start_time": "2025-03-27T15:21:19.441Z"
   },
   {
    "duration": 282,
    "start_time": "2025-03-27T15:21:19.446Z"
   },
   {
    "duration": 1484,
    "start_time": "2025-03-27T15:21:19.730Z"
   },
   {
    "duration": 1059,
    "start_time": "2025-03-27T15:21:21.216Z"
   },
   {
    "duration": 4,
    "start_time": "2025-03-27T15:21:22.276Z"
   },
   {
    "duration": 5,
    "start_time": "2025-03-27T15:21:22.281Z"
   },
   {
    "duration": 6,
    "start_time": "2025-03-27T15:21:22.288Z"
   },
   {
    "duration": 25,
    "start_time": "2025-03-27T15:21:22.296Z"
   },
   {
    "duration": 115,
    "start_time": "2025-03-27T15:21:22.323Z"
   },
   {
    "duration": 30,
    "start_time": "2025-03-27T15:21:22.440Z"
   },
   {
    "duration": 185,
    "start_time": "2025-03-27T15:21:22.471Z"
   },
   {
    "duration": 930,
    "start_time": "2025-03-27T15:21:22.657Z"
   },
   {
    "duration": 291,
    "start_time": "2025-03-27T15:21:23.589Z"
   },
   {
    "duration": 536,
    "start_time": "2025-03-27T15:21:23.882Z"
   },
   {
    "duration": 12,
    "start_time": "2025-03-27T15:21:24.421Z"
   },
   {
    "duration": 35,
    "start_time": "2025-03-27T15:21:24.435Z"
   },
   {
    "duration": 11,
    "start_time": "2025-03-27T15:21:24.472Z"
   },
   {
    "duration": 231,
    "start_time": "2025-03-27T15:21:24.484Z"
   },
   {
    "duration": 1325,
    "start_time": "2025-03-27T15:21:24.716Z"
   },
   {
    "duration": 34,
    "start_time": "2025-03-27T15:21:26.043Z"
   },
   {
    "duration": 30,
    "start_time": "2025-03-27T15:21:26.079Z"
   },
   {
    "duration": 5,
    "start_time": "2025-03-27T15:21:26.111Z"
   },
   {
    "duration": 18,
    "start_time": "2025-03-27T15:21:26.118Z"
   },
   {
    "duration": 229,
    "start_time": "2025-03-27T15:21:26.138Z"
   },
   {
    "duration": 1360,
    "start_time": "2025-03-27T15:21:26.369Z"
   },
   {
    "duration": 6,
    "start_time": "2025-03-27T15:21:27.734Z"
   },
   {
    "duration": 50,
    "start_time": "2025-03-27T15:21:27.741Z"
   },
   {
    "duration": 5,
    "start_time": "2025-03-27T15:21:27.792Z"
   },
   {
    "duration": 16,
    "start_time": "2025-03-27T15:21:27.798Z"
   },
   {
    "duration": 12,
    "start_time": "2025-03-27T15:21:27.816Z"
   },
   {
    "duration": 81,
    "start_time": "2025-03-27T15:21:27.830Z"
   },
   {
    "duration": 0,
    "start_time": "2025-03-27T15:21:27.913Z"
   },
   {
    "duration": 0,
    "start_time": "2025-03-27T15:21:27.915Z"
   },
   {
    "duration": 0,
    "start_time": "2025-03-27T15:21:27.916Z"
   },
   {
    "duration": 0,
    "start_time": "2025-03-27T15:21:27.918Z"
   },
   {
    "duration": 0,
    "start_time": "2025-03-27T15:21:27.919Z"
   },
   {
    "duration": 0,
    "start_time": "2025-03-27T15:21:27.920Z"
   },
   {
    "duration": 0,
    "start_time": "2025-03-27T15:21:27.922Z"
   },
   {
    "duration": 0,
    "start_time": "2025-03-27T15:21:27.923Z"
   },
   {
    "duration": 0,
    "start_time": "2025-03-27T15:21:27.925Z"
   },
   {
    "duration": 0,
    "start_time": "2025-03-27T15:21:27.926Z"
   },
   {
    "duration": 0,
    "start_time": "2025-03-27T15:21:27.928Z"
   },
   {
    "duration": 0,
    "start_time": "2025-03-27T15:21:27.929Z"
   },
   {
    "duration": 0,
    "start_time": "2025-03-27T15:21:27.930Z"
   },
   {
    "duration": 0,
    "start_time": "2025-03-27T15:21:27.932Z"
   },
   {
    "duration": 0,
    "start_time": "2025-03-27T15:21:27.934Z"
   },
   {
    "duration": 0,
    "start_time": "2025-03-27T15:21:27.935Z"
   },
   {
    "duration": 0,
    "start_time": "2025-03-27T15:21:27.936Z"
   },
   {
    "duration": 0,
    "start_time": "2025-03-27T15:21:27.938Z"
   },
   {
    "duration": 0,
    "start_time": "2025-03-27T15:21:27.939Z"
   },
   {
    "duration": 0,
    "start_time": "2025-03-27T15:21:27.941Z"
   },
   {
    "duration": 0,
    "start_time": "2025-03-27T15:21:27.942Z"
   },
   {
    "duration": 0,
    "start_time": "2025-03-27T15:21:27.944Z"
   },
   {
    "duration": 0,
    "start_time": "2025-03-27T15:21:27.947Z"
   },
   {
    "duration": 0,
    "start_time": "2025-03-27T15:21:27.948Z"
   },
   {
    "duration": 0,
    "start_time": "2025-03-27T15:21:27.950Z"
   },
   {
    "duration": 0,
    "start_time": "2025-03-27T15:21:27.967Z"
   },
   {
    "duration": 1,
    "start_time": "2025-03-27T15:21:27.967Z"
   },
   {
    "duration": 0,
    "start_time": "2025-03-27T15:21:27.968Z"
   },
   {
    "duration": 0,
    "start_time": "2025-03-27T15:21:27.969Z"
   },
   {
    "duration": 0,
    "start_time": "2025-03-27T15:21:27.970Z"
   },
   {
    "duration": 0,
    "start_time": "2025-03-27T15:21:27.971Z"
   },
   {
    "duration": 0,
    "start_time": "2025-03-27T15:21:27.972Z"
   },
   {
    "duration": 0,
    "start_time": "2025-03-27T15:21:27.973Z"
   },
   {
    "duration": 0,
    "start_time": "2025-03-27T15:21:27.974Z"
   },
   {
    "duration": 0,
    "start_time": "2025-03-27T15:21:27.975Z"
   },
   {
    "duration": 0,
    "start_time": "2025-03-27T15:21:27.977Z"
   },
   {
    "duration": 0,
    "start_time": "2025-03-27T15:21:27.977Z"
   },
   {
    "duration": 0,
    "start_time": "2025-03-27T15:21:27.978Z"
   },
   {
    "duration": 0,
    "start_time": "2025-03-27T15:21:27.979Z"
   },
   {
    "duration": 0,
    "start_time": "2025-03-27T15:21:27.980Z"
   },
   {
    "duration": 0,
    "start_time": "2025-03-27T15:21:27.981Z"
   },
   {
    "duration": 0,
    "start_time": "2025-03-27T15:21:27.982Z"
   },
   {
    "duration": 0,
    "start_time": "2025-03-27T15:21:27.983Z"
   },
   {
    "duration": 0,
    "start_time": "2025-03-27T15:21:27.983Z"
   },
   {
    "duration": 0,
    "start_time": "2025-03-27T15:21:27.984Z"
   },
   {
    "duration": 0,
    "start_time": "2025-03-27T15:21:27.985Z"
   },
   {
    "duration": 0,
    "start_time": "2025-03-27T15:21:27.986Z"
   },
   {
    "duration": 0,
    "start_time": "2025-03-27T15:21:27.987Z"
   },
   {
    "duration": 0,
    "start_time": "2025-03-27T15:21:27.988Z"
   },
   {
    "duration": 0,
    "start_time": "2025-03-27T15:21:27.989Z"
   },
   {
    "duration": 0,
    "start_time": "2025-03-27T15:21:27.989Z"
   },
   {
    "duration": 0,
    "start_time": "2025-03-27T15:21:27.990Z"
   },
   {
    "duration": 0,
    "start_time": "2025-03-27T15:21:27.991Z"
   },
   {
    "duration": 0,
    "start_time": "2025-03-27T15:21:27.992Z"
   },
   {
    "duration": 255,
    "start_time": "2025-03-27T15:24:59.933Z"
   },
   {
    "duration": 18,
    "start_time": "2025-03-27T15:27:15.940Z"
   },
   {
    "duration": 102,
    "start_time": "2025-03-27T15:27:37.669Z"
   },
   {
    "duration": 12,
    "start_time": "2025-03-27T15:27:45.106Z"
   },
   {
    "duration": 20,
    "start_time": "2025-03-27T15:33:09.247Z"
   },
   {
    "duration": 45,
    "start_time": "2025-03-27T15:33:52.496Z"
   },
   {
    "duration": 334,
    "start_time": "2025-03-27T15:35:18.082Z"
   },
   {
    "duration": 9,
    "start_time": "2025-03-27T15:35:26.648Z"
   },
   {
    "duration": 15,
    "start_time": "2025-03-27T15:35:29.206Z"
   },
   {
    "duration": 9145,
    "start_time": "2025-03-27T15:58:18.916Z"
   },
   {
    "duration": 931,
    "start_time": "2025-03-27T15:58:28.063Z"
   },
   {
    "duration": 5,
    "start_time": "2025-03-27T15:58:28.996Z"
   },
   {
    "duration": 256,
    "start_time": "2025-03-27T15:58:29.004Z"
   },
   {
    "duration": 1528,
    "start_time": "2025-03-27T15:58:29.268Z"
   },
   {
    "duration": 1062,
    "start_time": "2025-03-27T15:58:30.797Z"
   },
   {
    "duration": 8,
    "start_time": "2025-03-27T15:58:31.861Z"
   },
   {
    "duration": 28,
    "start_time": "2025-03-27T15:58:31.871Z"
   },
   {
    "duration": 6,
    "start_time": "2025-03-27T15:58:31.901Z"
   },
   {
    "duration": 29,
    "start_time": "2025-03-27T15:58:31.909Z"
   },
   {
    "duration": 96,
    "start_time": "2025-03-27T15:58:31.939Z"
   },
   {
    "duration": 31,
    "start_time": "2025-03-27T15:58:32.037Z"
   },
   {
    "duration": 206,
    "start_time": "2025-03-27T15:58:32.070Z"
   },
   {
    "duration": 863,
    "start_time": "2025-03-27T15:58:32.278Z"
   },
   {
    "duration": 272,
    "start_time": "2025-03-27T15:58:33.143Z"
   },
   {
    "duration": 565,
    "start_time": "2025-03-27T15:58:33.417Z"
   },
   {
    "duration": 12,
    "start_time": "2025-03-27T15:58:33.984Z"
   },
   {
    "duration": 37,
    "start_time": "2025-03-27T15:58:33.997Z"
   },
   {
    "duration": 13,
    "start_time": "2025-03-27T15:58:34.036Z"
   },
   {
    "duration": 218,
    "start_time": "2025-03-27T15:58:34.051Z"
   },
   {
    "duration": 1330,
    "start_time": "2025-03-27T15:58:34.271Z"
   },
   {
    "duration": 20,
    "start_time": "2025-03-27T15:58:35.602Z"
   },
   {
    "duration": 83,
    "start_time": "2025-03-27T15:58:35.623Z"
   },
   {
    "duration": 4,
    "start_time": "2025-03-27T15:58:35.708Z"
   },
   {
    "duration": 39,
    "start_time": "2025-03-27T15:58:35.714Z"
   },
   {
    "duration": 190,
    "start_time": "2025-03-27T15:58:35.755Z"
   },
   {
    "duration": 1370,
    "start_time": "2025-03-27T15:58:35.947Z"
   },
   {
    "duration": 6,
    "start_time": "2025-03-27T15:58:37.322Z"
   },
   {
    "duration": 52,
    "start_time": "2025-03-27T15:58:37.329Z"
   },
   {
    "duration": 5,
    "start_time": "2025-03-27T15:58:37.382Z"
   },
   {
    "duration": 16,
    "start_time": "2025-03-27T15:58:37.389Z"
   },
   {
    "duration": 12,
    "start_time": "2025-03-27T15:58:37.407Z"
   },
   {
    "duration": 76,
    "start_time": "2025-03-27T15:58:37.420Z"
   },
   {
    "duration": 0,
    "start_time": "2025-03-27T15:58:37.498Z"
   },
   {
    "duration": 0,
    "start_time": "2025-03-27T15:58:37.499Z"
   },
   {
    "duration": 0,
    "start_time": "2025-03-27T15:58:37.500Z"
   },
   {
    "duration": 0,
    "start_time": "2025-03-27T15:58:37.501Z"
   },
   {
    "duration": 0,
    "start_time": "2025-03-27T15:58:37.502Z"
   },
   {
    "duration": 0,
    "start_time": "2025-03-27T15:58:37.503Z"
   },
   {
    "duration": 0,
    "start_time": "2025-03-27T15:58:37.504Z"
   },
   {
    "duration": 0,
    "start_time": "2025-03-27T15:58:37.505Z"
   },
   {
    "duration": 0,
    "start_time": "2025-03-27T15:58:37.506Z"
   },
   {
    "duration": 0,
    "start_time": "2025-03-27T15:58:37.507Z"
   },
   {
    "duration": 0,
    "start_time": "2025-03-27T15:58:37.508Z"
   },
   {
    "duration": 0,
    "start_time": "2025-03-27T15:58:37.510Z"
   },
   {
    "duration": 0,
    "start_time": "2025-03-27T15:58:37.511Z"
   },
   {
    "duration": 0,
    "start_time": "2025-03-27T15:58:37.512Z"
   },
   {
    "duration": 0,
    "start_time": "2025-03-27T15:58:37.512Z"
   },
   {
    "duration": 0,
    "start_time": "2025-03-27T15:58:37.514Z"
   },
   {
    "duration": 0,
    "start_time": "2025-03-27T15:58:37.514Z"
   },
   {
    "duration": 0,
    "start_time": "2025-03-27T15:58:37.516Z"
   },
   {
    "duration": 0,
    "start_time": "2025-03-27T15:58:37.517Z"
   },
   {
    "duration": 0,
    "start_time": "2025-03-27T15:58:37.518Z"
   },
   {
    "duration": 0,
    "start_time": "2025-03-27T15:58:37.519Z"
   },
   {
    "duration": 0,
    "start_time": "2025-03-27T15:58:37.520Z"
   },
   {
    "duration": 0,
    "start_time": "2025-03-27T15:58:37.521Z"
   },
   {
    "duration": 0,
    "start_time": "2025-03-27T15:58:37.522Z"
   },
   {
    "duration": 0,
    "start_time": "2025-03-27T15:58:37.523Z"
   },
   {
    "duration": 0,
    "start_time": "2025-03-27T15:58:37.524Z"
   },
   {
    "duration": 0,
    "start_time": "2025-03-27T15:58:37.525Z"
   },
   {
    "duration": 0,
    "start_time": "2025-03-27T15:58:37.526Z"
   },
   {
    "duration": 0,
    "start_time": "2025-03-27T15:58:37.527Z"
   },
   {
    "duration": 0,
    "start_time": "2025-03-27T15:58:37.528Z"
   },
   {
    "duration": 0,
    "start_time": "2025-03-27T15:58:37.529Z"
   },
   {
    "duration": 0,
    "start_time": "2025-03-27T15:58:37.530Z"
   },
   {
    "duration": 0,
    "start_time": "2025-03-27T15:58:37.531Z"
   },
   {
    "duration": 0,
    "start_time": "2025-03-27T15:58:37.532Z"
   },
   {
    "duration": 0,
    "start_time": "2025-03-27T15:58:37.533Z"
   },
   {
    "duration": 0,
    "start_time": "2025-03-27T15:58:37.534Z"
   },
   {
    "duration": 0,
    "start_time": "2025-03-27T15:58:37.535Z"
   },
   {
    "duration": 0,
    "start_time": "2025-03-27T15:58:37.567Z"
   },
   {
    "duration": 0,
    "start_time": "2025-03-27T15:58:37.568Z"
   },
   {
    "duration": 0,
    "start_time": "2025-03-27T15:58:37.569Z"
   },
   {
    "duration": 0,
    "start_time": "2025-03-27T15:58:37.571Z"
   },
   {
    "duration": 0,
    "start_time": "2025-03-27T15:58:37.572Z"
   },
   {
    "duration": 0,
    "start_time": "2025-03-27T15:58:37.573Z"
   },
   {
    "duration": 0,
    "start_time": "2025-03-27T15:58:37.574Z"
   },
   {
    "duration": 0,
    "start_time": "2025-03-27T15:58:37.575Z"
   },
   {
    "duration": 0,
    "start_time": "2025-03-27T15:58:37.576Z"
   },
   {
    "duration": 0,
    "start_time": "2025-03-27T15:58:37.577Z"
   },
   {
    "duration": 0,
    "start_time": "2025-03-27T15:58:37.578Z"
   },
   {
    "duration": 14,
    "start_time": "2025-03-27T15:59:04.148Z"
   },
   {
    "duration": 345,
    "start_time": "2025-03-27T15:59:38.761Z"
   },
   {
    "duration": 10,
    "start_time": "2025-03-27T15:59:44.171Z"
   },
   {
    "duration": 15,
    "start_time": "2025-03-27T16:03:00.035Z"
   },
   {
    "duration": 25,
    "start_time": "2025-03-27T16:04:31.688Z"
   },
   {
    "duration": 3,
    "start_time": "2025-03-27T16:04:36.248Z"
   },
   {
    "duration": 21142,
    "start_time": "2025-03-28T05:32:15.724Z"
   },
   {
    "duration": 1237,
    "start_time": "2025-03-28T05:32:36.868Z"
   },
   {
    "duration": 4,
    "start_time": "2025-03-28T05:32:38.106Z"
   },
   {
    "duration": 300,
    "start_time": "2025-03-28T05:32:38.112Z"
   },
   {
    "duration": 1585,
    "start_time": "2025-03-28T05:32:38.413Z"
   },
   {
    "duration": 1071,
    "start_time": "2025-03-28T05:32:39.999Z"
   },
   {
    "duration": 4,
    "start_time": "2025-03-28T05:32:41.072Z"
   },
   {
    "duration": 10,
    "start_time": "2025-03-28T05:32:41.078Z"
   },
   {
    "duration": 92,
    "start_time": "2025-03-28T05:32:41.089Z"
   },
   {
    "duration": 21,
    "start_time": "2025-03-28T05:32:41.183Z"
   },
   {
    "duration": 92,
    "start_time": "2025-03-28T05:32:41.206Z"
   },
   {
    "duration": 22,
    "start_time": "2025-03-28T05:32:41.300Z"
   },
   {
    "duration": 192,
    "start_time": "2025-03-28T05:32:41.324Z"
   },
   {
    "duration": 956,
    "start_time": "2025-03-28T05:32:41.517Z"
   },
   {
    "duration": 242,
    "start_time": "2025-03-28T05:32:42.475Z"
   },
   {
    "duration": 523,
    "start_time": "2025-03-28T05:32:42.719Z"
   },
   {
    "duration": 17,
    "start_time": "2025-03-28T05:32:43.244Z"
   },
   {
    "duration": 74,
    "start_time": "2025-03-28T05:32:43.262Z"
   },
   {
    "duration": 10,
    "start_time": "2025-03-28T05:32:43.337Z"
   },
   {
    "duration": 203,
    "start_time": "2025-03-28T05:32:43.348Z"
   },
   {
    "duration": 1335,
    "start_time": "2025-03-28T05:32:43.557Z"
   },
   {
    "duration": 20,
    "start_time": "2025-03-28T05:32:44.894Z"
   },
   {
    "duration": 42,
    "start_time": "2025-03-28T05:32:44.916Z"
   },
   {
    "duration": 78,
    "start_time": "2025-03-28T05:32:44.960Z"
   },
   {
    "duration": 29,
    "start_time": "2025-03-28T05:32:45.039Z"
   },
   {
    "duration": 232,
    "start_time": "2025-03-28T05:32:45.070Z"
   },
   {
    "duration": 1389,
    "start_time": "2025-03-28T05:32:45.304Z"
   },
   {
    "duration": 6,
    "start_time": "2025-03-28T05:32:46.698Z"
   },
   {
    "duration": 52,
    "start_time": "2025-03-28T05:32:46.706Z"
   },
   {
    "duration": 4,
    "start_time": "2025-03-28T05:32:46.760Z"
   },
   {
    "duration": 16,
    "start_time": "2025-03-28T05:32:46.766Z"
   },
   {
    "duration": 13,
    "start_time": "2025-03-28T05:32:46.784Z"
   },
   {
    "duration": 343,
    "start_time": "2025-03-28T05:32:46.798Z"
   },
   {
    "duration": 16,
    "start_time": "2025-03-28T05:32:47.142Z"
   },
   {
    "duration": 17,
    "start_time": "2025-03-28T05:32:47.160Z"
   },
   {
    "duration": 24,
    "start_time": "2025-03-28T05:32:47.178Z"
   },
   {
    "duration": 4,
    "start_time": "2025-03-28T05:32:47.203Z"
   },
   {
    "duration": 73,
    "start_time": "2025-03-28T05:32:47.208Z"
   },
   {
    "duration": 0,
    "start_time": "2025-03-28T05:32:47.282Z"
   },
   {
    "duration": 0,
    "start_time": "2025-03-28T05:32:47.284Z"
   },
   {
    "duration": 0,
    "start_time": "2025-03-28T05:32:47.285Z"
   },
   {
    "duration": 0,
    "start_time": "2025-03-28T05:32:47.286Z"
   },
   {
    "duration": 0,
    "start_time": "2025-03-28T05:32:47.288Z"
   },
   {
    "duration": 0,
    "start_time": "2025-03-28T05:32:47.289Z"
   },
   {
    "duration": 0,
    "start_time": "2025-03-28T05:32:47.290Z"
   },
   {
    "duration": 0,
    "start_time": "2025-03-28T05:32:47.291Z"
   },
   {
    "duration": 0,
    "start_time": "2025-03-28T05:32:47.292Z"
   },
   {
    "duration": 0,
    "start_time": "2025-03-28T05:32:47.293Z"
   },
   {
    "duration": 0,
    "start_time": "2025-03-28T05:32:47.294Z"
   },
   {
    "duration": 0,
    "start_time": "2025-03-28T05:32:47.295Z"
   },
   {
    "duration": 0,
    "start_time": "2025-03-28T05:32:47.296Z"
   },
   {
    "duration": 0,
    "start_time": "2025-03-28T05:32:47.297Z"
   },
   {
    "duration": 0,
    "start_time": "2025-03-28T05:32:47.298Z"
   },
   {
    "duration": 0,
    "start_time": "2025-03-28T05:32:47.299Z"
   },
   {
    "duration": 0,
    "start_time": "2025-03-28T05:32:47.300Z"
   },
   {
    "duration": 0,
    "start_time": "2025-03-28T05:32:47.301Z"
   },
   {
    "duration": 0,
    "start_time": "2025-03-28T05:32:47.302Z"
   },
   {
    "duration": 0,
    "start_time": "2025-03-28T05:32:47.303Z"
   },
   {
    "duration": 0,
    "start_time": "2025-03-28T05:32:47.304Z"
   },
   {
    "duration": 0,
    "start_time": "2025-03-28T05:32:47.305Z"
   },
   {
    "duration": 0,
    "start_time": "2025-03-28T05:32:47.306Z"
   },
   {
    "duration": 0,
    "start_time": "2025-03-28T05:32:47.307Z"
   },
   {
    "duration": 0,
    "start_time": "2025-03-28T05:32:47.308Z"
   },
   {
    "duration": 0,
    "start_time": "2025-03-28T05:32:47.310Z"
   },
   {
    "duration": 0,
    "start_time": "2025-03-28T05:32:47.311Z"
   },
   {
    "duration": 0,
    "start_time": "2025-03-28T05:32:47.312Z"
   },
   {
    "duration": 0,
    "start_time": "2025-03-28T05:32:47.313Z"
   },
   {
    "duration": 0,
    "start_time": "2025-03-28T05:32:47.314Z"
   },
   {
    "duration": 0,
    "start_time": "2025-03-28T05:32:47.315Z"
   },
   {
    "duration": 0,
    "start_time": "2025-03-28T05:32:47.316Z"
   },
   {
    "duration": 0,
    "start_time": "2025-03-28T05:32:47.317Z"
   },
   {
    "duration": 0,
    "start_time": "2025-03-28T05:32:47.318Z"
   },
   {
    "duration": 0,
    "start_time": "2025-03-28T05:32:47.319Z"
   },
   {
    "duration": 0,
    "start_time": "2025-03-28T05:32:47.319Z"
   },
   {
    "duration": 0,
    "start_time": "2025-03-28T05:32:47.320Z"
   },
   {
    "duration": 0,
    "start_time": "2025-03-28T05:32:47.320Z"
   },
   {
    "duration": 0,
    "start_time": "2025-03-28T05:32:47.357Z"
   },
   {
    "duration": 0,
    "start_time": "2025-03-28T05:32:47.359Z"
   },
   {
    "duration": 0,
    "start_time": "2025-03-28T05:32:47.360Z"
   },
   {
    "duration": 14,
    "start_time": "2025-03-28T05:35:32.731Z"
   },
   {
    "duration": 4,
    "start_time": "2025-03-28T05:35:35.824Z"
   },
   {
    "duration": 4,
    "start_time": "2025-03-28T05:35:40.473Z"
   },
   {
    "duration": 3,
    "start_time": "2025-03-28T05:35:44.833Z"
   },
   {
    "duration": 2235,
    "start_time": "2025-03-28T05:35:47.677Z"
   },
   {
    "duration": 15799,
    "start_time": "2025-03-28T05:36:25.123Z"
   },
   {
    "duration": 9390,
    "start_time": "2025-03-28T05:39:28.927Z"
   },
   {
    "duration": 931,
    "start_time": "2025-03-28T05:39:38.320Z"
   },
   {
    "duration": 9,
    "start_time": "2025-03-28T05:39:39.252Z"
   },
   {
    "duration": 246,
    "start_time": "2025-03-28T05:39:39.263Z"
   },
   {
    "duration": 1580,
    "start_time": "2025-03-28T05:39:39.511Z"
   },
   {
    "duration": 1067,
    "start_time": "2025-03-28T05:39:41.092Z"
   },
   {
    "duration": 4,
    "start_time": "2025-03-28T05:39:42.161Z"
   },
   {
    "duration": 45,
    "start_time": "2025-03-28T05:39:42.167Z"
   },
   {
    "duration": 24,
    "start_time": "2025-03-28T05:39:42.214Z"
   },
   {
    "duration": 25,
    "start_time": "2025-03-28T05:39:42.241Z"
   },
   {
    "duration": 99,
    "start_time": "2025-03-28T05:39:42.268Z"
   },
   {
    "duration": 23,
    "start_time": "2025-03-28T05:39:42.369Z"
   },
   {
    "duration": 200,
    "start_time": "2025-03-28T05:39:42.394Z"
   },
   {
    "duration": 878,
    "start_time": "2025-03-28T05:39:42.596Z"
   },
   {
    "duration": 277,
    "start_time": "2025-03-28T05:39:43.476Z"
   },
   {
    "duration": 562,
    "start_time": "2025-03-28T05:39:43.755Z"
   },
   {
    "duration": 12,
    "start_time": "2025-03-28T05:39:44.319Z"
   },
   {
    "duration": 34,
    "start_time": "2025-03-28T05:39:44.332Z"
   },
   {
    "duration": 9,
    "start_time": "2025-03-28T05:39:44.367Z"
   },
   {
    "duration": 233,
    "start_time": "2025-03-28T05:39:44.378Z"
   },
   {
    "duration": 1395,
    "start_time": "2025-03-28T05:39:44.612Z"
   },
   {
    "duration": 19,
    "start_time": "2025-03-28T05:39:46.009Z"
   },
   {
    "duration": 41,
    "start_time": "2025-03-28T05:39:46.029Z"
   },
   {
    "duration": 4,
    "start_time": "2025-03-28T05:39:46.072Z"
   },
   {
    "duration": 18,
    "start_time": "2025-03-28T05:39:46.077Z"
   },
   {
    "duration": 214,
    "start_time": "2025-03-28T05:39:46.096Z"
   },
   {
    "duration": 1373,
    "start_time": "2025-03-28T05:39:46.311Z"
   },
   {
    "duration": 5,
    "start_time": "2025-03-28T05:39:47.688Z"
   },
   {
    "duration": 26,
    "start_time": "2025-03-28T05:39:47.695Z"
   },
   {
    "duration": 4,
    "start_time": "2025-03-28T05:39:47.722Z"
   },
   {
    "duration": 47,
    "start_time": "2025-03-28T05:39:47.727Z"
   },
   {
    "duration": 12,
    "start_time": "2025-03-28T05:39:47.776Z"
   },
   {
    "duration": 315,
    "start_time": "2025-03-28T05:39:47.789Z"
   },
   {
    "duration": 9,
    "start_time": "2025-03-28T05:39:48.106Z"
   },
   {
    "duration": 16,
    "start_time": "2025-03-28T05:39:48.116Z"
   },
   {
    "duration": 45,
    "start_time": "2025-03-28T05:39:48.133Z"
   },
   {
    "duration": 26,
    "start_time": "2025-03-28T05:39:48.179Z"
   },
   {
    "duration": 20,
    "start_time": "2025-03-28T05:39:48.207Z"
   },
   {
    "duration": 4,
    "start_time": "2025-03-28T05:39:48.229Z"
   },
   {
    "duration": 4,
    "start_time": "2025-03-28T05:39:48.234Z"
   },
   {
    "duration": 16,
    "start_time": "2025-03-28T05:39:48.239Z"
   },
   {
    "duration": 2274,
    "start_time": "2025-03-28T05:39:48.257Z"
   },
   {
    "duration": 16242,
    "start_time": "2025-03-28T05:39:50.532Z"
   },
   {
    "duration": 43,
    "start_time": "2025-03-28T05:40:06.791Z"
   },
   {
    "duration": 49,
    "start_time": "2025-03-28T05:40:06.835Z"
   },
   {
    "duration": 21,
    "start_time": "2025-03-28T05:40:06.885Z"
   },
   {
    "duration": 29,
    "start_time": "2025-03-28T05:40:06.907Z"
   },
   {
    "duration": 21,
    "start_time": "2025-03-28T05:40:06.938Z"
   },
   {
    "duration": 6,
    "start_time": "2025-03-28T05:40:06.961Z"
   },
   {
    "duration": 88,
    "start_time": "2025-03-28T05:40:06.969Z"
   },
   {
    "duration": 28,
    "start_time": "2025-03-28T05:40:07.059Z"
   },
   {
    "duration": 22,
    "start_time": "2025-03-28T05:40:07.089Z"
   },
   {
    "duration": 129,
    "start_time": "2025-03-28T05:40:07.113Z"
   },
   {
    "duration": 834,
    "start_time": "2025-03-28T05:40:07.244Z"
   },
   {
    "duration": 603,
    "start_time": "2025-03-28T05:40:08.079Z"
   },
   {
    "duration": 597,
    "start_time": "2025-03-28T05:40:08.683Z"
   },
   {
    "duration": 550,
    "start_time": "2025-03-28T05:40:09.282Z"
   },
   {
    "duration": 4,
    "start_time": "2025-03-28T05:40:09.833Z"
   },
   {
    "duration": 92,
    "start_time": "2025-03-28T05:40:09.838Z"
   },
   {
    "duration": 31,
    "start_time": "2025-03-28T05:40:09.931Z"
   },
   {
    "duration": 10,
    "start_time": "2025-03-28T05:40:09.964Z"
   },
   {
    "duration": 123,
    "start_time": "2025-03-28T05:40:09.975Z"
   },
   {
    "duration": 0,
    "start_time": "2025-03-28T05:40:10.100Z"
   },
   {
    "duration": 0,
    "start_time": "2025-03-28T05:40:10.101Z"
   },
   {
    "duration": 0,
    "start_time": "2025-03-28T05:40:10.102Z"
   },
   {
    "duration": 0,
    "start_time": "2025-03-28T05:40:10.104Z"
   },
   {
    "duration": 0,
    "start_time": "2025-03-28T05:40:10.105Z"
   },
   {
    "duration": 0,
    "start_time": "2025-03-28T05:40:10.106Z"
   },
   {
    "duration": 0,
    "start_time": "2025-03-28T05:40:10.107Z"
   },
   {
    "duration": 0,
    "start_time": "2025-03-28T05:40:10.108Z"
   },
   {
    "duration": 0,
    "start_time": "2025-03-28T05:40:10.109Z"
   },
   {
    "duration": 0,
    "start_time": "2025-03-28T05:40:10.111Z"
   },
   {
    "duration": 0,
    "start_time": "2025-03-28T05:40:10.112Z"
   },
   {
    "duration": 0,
    "start_time": "2025-03-28T05:40:10.113Z"
   },
   {
    "duration": 0,
    "start_time": "2025-03-28T05:40:10.114Z"
   },
   {
    "duration": 0,
    "start_time": "2025-03-28T05:40:10.115Z"
   },
   {
    "duration": 0,
    "start_time": "2025-03-28T05:40:10.117Z"
   },
   {
    "duration": 0,
    "start_time": "2025-03-28T05:40:10.118Z"
   },
   {
    "duration": 0,
    "start_time": "2025-03-28T05:40:10.120Z"
   },
   {
    "duration": 9662,
    "start_time": "2025-03-28T05:47:52.767Z"
   },
   {
    "duration": 923,
    "start_time": "2025-03-28T05:48:02.431Z"
   },
   {
    "duration": 3,
    "start_time": "2025-03-28T05:48:03.357Z"
   },
   {
    "duration": 261,
    "start_time": "2025-03-28T05:48:03.362Z"
   },
   {
    "duration": 1633,
    "start_time": "2025-03-28T05:48:03.625Z"
   },
   {
    "duration": 1066,
    "start_time": "2025-03-28T05:48:05.260Z"
   },
   {
    "duration": 4,
    "start_time": "2025-03-28T05:48:06.328Z"
   },
   {
    "duration": 17,
    "start_time": "2025-03-28T05:48:06.333Z"
   },
   {
    "duration": 10,
    "start_time": "2025-03-28T05:48:06.352Z"
   },
   {
    "duration": 25,
    "start_time": "2025-03-28T05:48:06.364Z"
   },
   {
    "duration": 108,
    "start_time": "2025-03-28T05:48:06.391Z"
   },
   {
    "duration": 24,
    "start_time": "2025-03-28T05:48:06.500Z"
   },
   {
    "duration": 199,
    "start_time": "2025-03-28T05:48:06.525Z"
   },
   {
    "duration": 865,
    "start_time": "2025-03-28T05:48:06.726Z"
   },
   {
    "duration": 269,
    "start_time": "2025-03-28T05:48:07.592Z"
   },
   {
    "duration": 556,
    "start_time": "2025-03-28T05:48:07.862Z"
   },
   {
    "duration": 12,
    "start_time": "2025-03-28T05:48:08.419Z"
   },
   {
    "duration": 34,
    "start_time": "2025-03-28T05:48:08.433Z"
   },
   {
    "duration": 9,
    "start_time": "2025-03-28T05:48:08.469Z"
   },
   {
    "duration": 223,
    "start_time": "2025-03-28T05:48:08.479Z"
   },
   {
    "duration": 1364,
    "start_time": "2025-03-28T05:48:08.703Z"
   },
   {
    "duration": 21,
    "start_time": "2025-03-28T05:48:10.069Z"
   },
   {
    "duration": 26,
    "start_time": "2025-03-28T05:48:10.091Z"
   },
   {
    "duration": 4,
    "start_time": "2025-03-28T05:48:10.119Z"
   },
   {
    "duration": 49,
    "start_time": "2025-03-28T05:48:10.125Z"
   },
   {
    "duration": 252,
    "start_time": "2025-03-28T05:48:10.176Z"
   },
   {
    "duration": 1417,
    "start_time": "2025-03-28T05:48:10.430Z"
   },
   {
    "duration": 6,
    "start_time": "2025-03-28T05:48:11.857Z"
   },
   {
    "duration": 126,
    "start_time": "2025-03-28T05:48:11.865Z"
   },
   {
    "duration": 3,
    "start_time": "2025-03-28T05:48:11.993Z"
   },
   {
    "duration": 19,
    "start_time": "2025-03-28T05:48:11.998Z"
   },
   {
    "duration": 12,
    "start_time": "2025-03-28T05:48:12.018Z"
   },
   {
    "duration": 326,
    "start_time": "2025-03-28T05:48:12.032Z"
   },
   {
    "duration": 9,
    "start_time": "2025-03-28T05:48:12.359Z"
   },
   {
    "duration": 19,
    "start_time": "2025-03-28T05:48:12.370Z"
   },
   {
    "duration": 25,
    "start_time": "2025-03-28T05:48:12.391Z"
   },
   {
    "duration": 4,
    "start_time": "2025-03-28T05:48:12.417Z"
   },
   {
    "duration": 40,
    "start_time": "2025-03-28T05:48:12.422Z"
   },
   {
    "duration": 4,
    "start_time": "2025-03-28T05:48:12.464Z"
   },
   {
    "duration": 4,
    "start_time": "2025-03-28T05:48:12.469Z"
   },
   {
    "duration": 4,
    "start_time": "2025-03-28T05:48:12.474Z"
   },
   {
    "duration": 2298,
    "start_time": "2025-03-28T05:48:12.480Z"
   },
   {
    "duration": 16668,
    "start_time": "2025-03-28T05:48:14.779Z"
   },
   {
    "duration": 42,
    "start_time": "2025-03-28T05:48:31.463Z"
   },
   {
    "duration": 57,
    "start_time": "2025-03-28T05:48:31.506Z"
   },
   {
    "duration": 48,
    "start_time": "2025-03-28T05:48:31.565Z"
   },
   {
    "duration": 23,
    "start_time": "2025-03-28T05:48:31.614Z"
   },
   {
    "duration": 10,
    "start_time": "2025-03-28T05:48:31.639Z"
   },
   {
    "duration": 7,
    "start_time": "2025-03-28T05:48:31.651Z"
   },
   {
    "duration": 20,
    "start_time": "2025-03-28T05:48:31.659Z"
   },
   {
    "duration": 33,
    "start_time": "2025-03-28T05:48:31.681Z"
   },
   {
    "duration": 22,
    "start_time": "2025-03-28T05:48:31.716Z"
   },
   {
    "duration": 36,
    "start_time": "2025-03-28T05:48:31.739Z"
   },
   {
    "duration": 836,
    "start_time": "2025-03-28T05:48:31.777Z"
   },
   {
    "duration": 604,
    "start_time": "2025-03-28T05:48:32.615Z"
   },
   {
    "duration": 596,
    "start_time": "2025-03-28T05:48:33.221Z"
   },
   {
    "duration": 553,
    "start_time": "2025-03-28T05:48:33.818Z"
   },
   {
    "duration": 4,
    "start_time": "2025-03-28T05:48:34.373Z"
   },
   {
    "duration": 10,
    "start_time": "2025-03-28T05:48:34.378Z"
   },
   {
    "duration": 66,
    "start_time": "2025-03-28T05:48:34.389Z"
   },
   {
    "duration": 0,
    "start_time": "2025-03-28T05:48:34.457Z"
   },
   {
    "duration": 0,
    "start_time": "2025-03-28T05:48:34.458Z"
   },
   {
    "duration": 0,
    "start_time": "2025-03-28T05:48:34.459Z"
   },
   {
    "duration": 0,
    "start_time": "2025-03-28T05:48:34.460Z"
   },
   {
    "duration": 0,
    "start_time": "2025-03-28T05:48:34.461Z"
   },
   {
    "duration": 0,
    "start_time": "2025-03-28T05:48:34.462Z"
   },
   {
    "duration": 0,
    "start_time": "2025-03-28T05:48:34.463Z"
   },
   {
    "duration": 0,
    "start_time": "2025-03-28T05:48:34.464Z"
   },
   {
    "duration": 0,
    "start_time": "2025-03-28T05:48:34.465Z"
   },
   {
    "duration": 0,
    "start_time": "2025-03-28T05:48:34.466Z"
   },
   {
    "duration": 0,
    "start_time": "2025-03-28T05:48:34.467Z"
   },
   {
    "duration": 0,
    "start_time": "2025-03-28T05:48:34.468Z"
   },
   {
    "duration": 0,
    "start_time": "2025-03-28T05:48:34.470Z"
   },
   {
    "duration": 0,
    "start_time": "2025-03-28T05:48:34.471Z"
   },
   {
    "duration": 0,
    "start_time": "2025-03-28T05:48:34.472Z"
   },
   {
    "duration": 0,
    "start_time": "2025-03-28T05:48:34.473Z"
   },
   {
    "duration": 0,
    "start_time": "2025-03-28T05:48:34.474Z"
   },
   {
    "duration": 0,
    "start_time": "2025-03-28T05:48:34.475Z"
   },
   {
    "duration": 0,
    "start_time": "2025-03-28T05:48:34.476Z"
   },
   {
    "duration": 0,
    "start_time": "2025-03-28T05:48:34.477Z"
   },
   {
    "duration": 6,
    "start_time": "2025-03-28T05:50:45.177Z"
   },
   {
    "duration": 5,
    "start_time": "2025-03-28T05:50:50.085Z"
   },
   {
    "duration": 31,
    "start_time": "2025-03-28T07:34:36.421Z"
   },
   {
    "duration": 30,
    "start_time": "2025-03-28T07:34:42.209Z"
   },
   {
    "duration": 31,
    "start_time": "2025-03-28T07:34:57.734Z"
   },
   {
    "duration": 40,
    "start_time": "2025-03-28T07:37:21.193Z"
   },
   {
    "duration": 40,
    "start_time": "2025-03-28T07:38:02.740Z"
   },
   {
    "duration": 6,
    "start_time": "2025-03-28T07:45:30.362Z"
   },
   {
    "duration": 22,
    "start_time": "2025-03-28T07:45:45.149Z"
   },
   {
    "duration": 9,
    "start_time": "2025-03-28T07:46:14.000Z"
   },
   {
    "duration": 9,
    "start_time": "2025-03-28T07:46:18.651Z"
   },
   {
    "duration": 14,
    "start_time": "2025-03-28T07:46:36.879Z"
   },
   {
    "duration": 13,
    "start_time": "2025-03-28T07:58:30.836Z"
   },
   {
    "duration": 11,
    "start_time": "2025-03-28T08:08:29.048Z"
   },
   {
    "duration": 85,
    "start_time": "2025-03-28T08:08:49.738Z"
   },
   {
    "duration": 131,
    "start_time": "2025-03-28T08:09:07.069Z"
   },
   {
    "duration": 4,
    "start_time": "2025-03-28T08:09:58.382Z"
   },
   {
    "duration": 4,
    "start_time": "2025-03-28T08:10:35.454Z"
   },
   {
    "duration": 5,
    "start_time": "2025-03-28T08:10:39.856Z"
   },
   {
    "duration": 5,
    "start_time": "2025-03-28T08:10:53.255Z"
   },
   {
    "duration": 126,
    "start_time": "2025-03-28T08:11:02.093Z"
   },
   {
    "duration": 7,
    "start_time": "2025-03-28T08:11:18.641Z"
   },
   {
    "duration": 8,
    "start_time": "2025-03-28T08:11:55.398Z"
   },
   {
    "duration": 10855,
    "start_time": "2025-03-28T08:32:24.744Z"
   },
   {
    "duration": 1015,
    "start_time": "2025-03-28T08:32:35.601Z"
   },
   {
    "duration": 4,
    "start_time": "2025-03-28T08:32:36.618Z"
   },
   {
    "duration": 274,
    "start_time": "2025-03-28T08:32:36.624Z"
   },
   {
    "duration": 1682,
    "start_time": "2025-03-28T08:32:36.900Z"
   },
   {
    "duration": 1190,
    "start_time": "2025-03-28T08:32:38.583Z"
   },
   {
    "duration": 4,
    "start_time": "2025-03-28T08:32:39.778Z"
   },
   {
    "duration": 5,
    "start_time": "2025-03-28T08:32:39.785Z"
   },
   {
    "duration": 7,
    "start_time": "2025-03-28T08:32:39.792Z"
   },
   {
    "duration": 25,
    "start_time": "2025-03-28T08:32:39.801Z"
   },
   {
    "duration": 146,
    "start_time": "2025-03-28T08:32:39.828Z"
   },
   {
    "duration": 271,
    "start_time": "2025-03-28T08:32:39.975Z"
   },
   {
    "duration": 0,
    "start_time": "2025-03-28T08:32:40.249Z"
   },
   {
    "duration": 0,
    "start_time": "2025-03-28T08:32:40.251Z"
   },
   {
    "duration": 0,
    "start_time": "2025-03-28T08:32:40.257Z"
   },
   {
    "duration": 0,
    "start_time": "2025-03-28T08:32:40.260Z"
   },
   {
    "duration": 0,
    "start_time": "2025-03-28T08:32:40.262Z"
   },
   {
    "duration": 0,
    "start_time": "2025-03-28T08:32:40.263Z"
   },
   {
    "duration": 0,
    "start_time": "2025-03-28T08:32:40.265Z"
   },
   {
    "duration": 0,
    "start_time": "2025-03-28T08:32:40.266Z"
   },
   {
    "duration": 0,
    "start_time": "2025-03-28T08:32:40.268Z"
   },
   {
    "duration": 1,
    "start_time": "2025-03-28T08:32:40.269Z"
   },
   {
    "duration": 0,
    "start_time": "2025-03-28T08:32:40.271Z"
   },
   {
    "duration": 0,
    "start_time": "2025-03-28T08:32:40.272Z"
   },
   {
    "duration": 0,
    "start_time": "2025-03-28T08:32:40.274Z"
   },
   {
    "duration": 0,
    "start_time": "2025-03-28T08:32:40.276Z"
   },
   {
    "duration": 0,
    "start_time": "2025-03-28T08:32:40.277Z"
   },
   {
    "duration": 0,
    "start_time": "2025-03-28T08:32:40.278Z"
   },
   {
    "duration": 0,
    "start_time": "2025-03-28T08:32:40.280Z"
   },
   {
    "duration": 0,
    "start_time": "2025-03-28T08:32:40.282Z"
   },
   {
    "duration": 1,
    "start_time": "2025-03-28T08:32:40.283Z"
   },
   {
    "duration": 0,
    "start_time": "2025-03-28T08:32:40.285Z"
   },
   {
    "duration": 0,
    "start_time": "2025-03-28T08:32:40.287Z"
   },
   {
    "duration": 0,
    "start_time": "2025-03-28T08:32:40.288Z"
   },
   {
    "duration": 0,
    "start_time": "2025-03-28T08:32:40.290Z"
   },
   {
    "duration": 0,
    "start_time": "2025-03-28T08:32:40.291Z"
   },
   {
    "duration": 0,
    "start_time": "2025-03-28T08:32:40.293Z"
   },
   {
    "duration": 0,
    "start_time": "2025-03-28T08:32:40.294Z"
   },
   {
    "duration": 0,
    "start_time": "2025-03-28T08:32:40.296Z"
   },
   {
    "duration": 0,
    "start_time": "2025-03-28T08:32:40.297Z"
   },
   {
    "duration": 0,
    "start_time": "2025-03-28T08:32:40.299Z"
   },
   {
    "duration": 0,
    "start_time": "2025-03-28T08:32:40.300Z"
   },
   {
    "duration": 0,
    "start_time": "2025-03-28T08:32:40.360Z"
   },
   {
    "duration": 0,
    "start_time": "2025-03-28T08:32:40.362Z"
   },
   {
    "duration": 0,
    "start_time": "2025-03-28T08:32:40.363Z"
   },
   {
    "duration": 0,
    "start_time": "2025-03-28T08:32:40.365Z"
   },
   {
    "duration": 0,
    "start_time": "2025-03-28T08:32:40.367Z"
   },
   {
    "duration": 0,
    "start_time": "2025-03-28T08:32:40.369Z"
   },
   {
    "duration": 0,
    "start_time": "2025-03-28T08:32:40.372Z"
   },
   {
    "duration": 0,
    "start_time": "2025-03-28T08:32:40.373Z"
   },
   {
    "duration": 0,
    "start_time": "2025-03-28T08:32:40.375Z"
   },
   {
    "duration": 0,
    "start_time": "2025-03-28T08:32:40.377Z"
   },
   {
    "duration": 0,
    "start_time": "2025-03-28T08:32:40.378Z"
   },
   {
    "duration": 0,
    "start_time": "2025-03-28T08:32:40.380Z"
   },
   {
    "duration": 0,
    "start_time": "2025-03-28T08:32:40.381Z"
   },
   {
    "duration": 0,
    "start_time": "2025-03-28T08:32:40.382Z"
   },
   {
    "duration": 0,
    "start_time": "2025-03-28T08:32:40.383Z"
   },
   {
    "duration": 0,
    "start_time": "2025-03-28T08:32:40.384Z"
   },
   {
    "duration": 0,
    "start_time": "2025-03-28T08:32:40.385Z"
   },
   {
    "duration": 0,
    "start_time": "2025-03-28T08:32:40.386Z"
   },
   {
    "duration": 0,
    "start_time": "2025-03-28T08:32:40.387Z"
   },
   {
    "duration": 0,
    "start_time": "2025-03-28T08:32:40.388Z"
   },
   {
    "duration": 0,
    "start_time": "2025-03-28T08:32:40.389Z"
   },
   {
    "duration": 0,
    "start_time": "2025-03-28T08:32:40.391Z"
   },
   {
    "duration": 0,
    "start_time": "2025-03-28T08:32:40.392Z"
   },
   {
    "duration": 0,
    "start_time": "2025-03-28T08:32:40.393Z"
   },
   {
    "duration": 0,
    "start_time": "2025-03-28T08:32:40.394Z"
   },
   {
    "duration": 0,
    "start_time": "2025-03-28T08:32:40.395Z"
   },
   {
    "duration": 0,
    "start_time": "2025-03-28T08:32:40.396Z"
   },
   {
    "duration": 0,
    "start_time": "2025-03-28T08:32:40.397Z"
   },
   {
    "duration": 0,
    "start_time": "2025-03-28T08:32:40.398Z"
   },
   {
    "duration": 0,
    "start_time": "2025-03-28T08:32:40.459Z"
   },
   {
    "duration": 0,
    "start_time": "2025-03-28T08:32:40.463Z"
   },
   {
    "duration": 0,
    "start_time": "2025-03-28T08:32:40.465Z"
   },
   {
    "duration": 0,
    "start_time": "2025-03-28T08:32:40.466Z"
   },
   {
    "duration": 0,
    "start_time": "2025-03-28T08:32:40.468Z"
   },
   {
    "duration": 0,
    "start_time": "2025-03-28T08:32:40.470Z"
   },
   {
    "duration": 0,
    "start_time": "2025-03-28T08:32:40.471Z"
   },
   {
    "duration": 0,
    "start_time": "2025-03-28T08:32:40.473Z"
   },
   {
    "duration": 0,
    "start_time": "2025-03-28T08:32:40.474Z"
   },
   {
    "duration": 0,
    "start_time": "2025-03-28T08:32:40.476Z"
   },
   {
    "duration": 0,
    "start_time": "2025-03-28T08:32:40.478Z"
   },
   {
    "duration": 0,
    "start_time": "2025-03-28T08:32:40.480Z"
   },
   {
    "duration": 0,
    "start_time": "2025-03-28T08:32:40.481Z"
   },
   {
    "duration": 0,
    "start_time": "2025-03-28T08:32:40.482Z"
   },
   {
    "duration": 0,
    "start_time": "2025-03-28T08:32:40.483Z"
   },
   {
    "duration": 0,
    "start_time": "2025-03-28T08:32:40.484Z"
   },
   {
    "duration": 16580,
    "start_time": "2025-03-28T09:50:26.347Z"
   },
   {
    "duration": 1138,
    "start_time": "2025-03-28T09:50:42.930Z"
   },
   {
    "duration": 4,
    "start_time": "2025-03-28T09:50:44.070Z"
   },
   {
    "duration": 300,
    "start_time": "2025-03-28T09:50:44.076Z"
   },
   {
    "duration": 1687,
    "start_time": "2025-03-28T09:50:44.378Z"
   },
   {
    "duration": 1252,
    "start_time": "2025-03-28T09:50:46.067Z"
   },
   {
    "duration": 14,
    "start_time": "2025-03-28T09:50:47.320Z"
   },
   {
    "duration": 4,
    "start_time": "2025-03-28T09:50:47.336Z"
   },
   {
    "duration": 8,
    "start_time": "2025-03-28T09:50:47.342Z"
   },
   {
    "duration": 23,
    "start_time": "2025-03-28T09:50:47.353Z"
   },
   {
    "duration": 130,
    "start_time": "2025-03-28T09:50:47.377Z"
   },
   {
    "duration": 350,
    "start_time": "2025-03-28T09:50:47.510Z"
   },
   {
    "duration": 0,
    "start_time": "2025-03-28T09:50:47.863Z"
   },
   {
    "duration": 0,
    "start_time": "2025-03-28T09:50:47.864Z"
   },
   {
    "duration": 0,
    "start_time": "2025-03-28T09:50:47.865Z"
   },
   {
    "duration": 0,
    "start_time": "2025-03-28T09:50:47.866Z"
   },
   {
    "duration": 0,
    "start_time": "2025-03-28T09:50:47.867Z"
   },
   {
    "duration": 0,
    "start_time": "2025-03-28T09:50:47.868Z"
   },
   {
    "duration": 0,
    "start_time": "2025-03-28T09:50:47.869Z"
   },
   {
    "duration": 0,
    "start_time": "2025-03-28T09:50:47.870Z"
   },
   {
    "duration": 0,
    "start_time": "2025-03-28T09:50:47.870Z"
   },
   {
    "duration": 0,
    "start_time": "2025-03-28T09:50:47.872Z"
   },
   {
    "duration": 0,
    "start_time": "2025-03-28T09:50:47.873Z"
   },
   {
    "duration": 0,
    "start_time": "2025-03-28T09:50:47.874Z"
   },
   {
    "duration": 0,
    "start_time": "2025-03-28T09:50:47.875Z"
   },
   {
    "duration": 0,
    "start_time": "2025-03-28T09:50:47.907Z"
   },
   {
    "duration": 0,
    "start_time": "2025-03-28T09:50:47.908Z"
   },
   {
    "duration": 0,
    "start_time": "2025-03-28T09:50:47.911Z"
   },
   {
    "duration": 0,
    "start_time": "2025-03-28T09:50:47.912Z"
   },
   {
    "duration": 0,
    "start_time": "2025-03-28T09:50:47.913Z"
   },
   {
    "duration": 0,
    "start_time": "2025-03-28T09:50:47.914Z"
   },
   {
    "duration": 0,
    "start_time": "2025-03-28T09:50:47.914Z"
   },
   {
    "duration": 0,
    "start_time": "2025-03-28T09:50:47.915Z"
   },
   {
    "duration": 0,
    "start_time": "2025-03-28T09:50:47.916Z"
   },
   {
    "duration": 0,
    "start_time": "2025-03-28T09:50:47.917Z"
   },
   {
    "duration": 0,
    "start_time": "2025-03-28T09:50:47.917Z"
   },
   {
    "duration": 0,
    "start_time": "2025-03-28T09:50:47.918Z"
   },
   {
    "duration": 0,
    "start_time": "2025-03-28T09:50:47.919Z"
   },
   {
    "duration": 0,
    "start_time": "2025-03-28T09:50:47.920Z"
   },
   {
    "duration": 0,
    "start_time": "2025-03-28T09:50:47.920Z"
   },
   {
    "duration": 0,
    "start_time": "2025-03-28T09:50:47.921Z"
   },
   {
    "duration": 0,
    "start_time": "2025-03-28T09:50:47.922Z"
   },
   {
    "duration": 0,
    "start_time": "2025-03-28T09:50:47.922Z"
   },
   {
    "duration": 0,
    "start_time": "2025-03-28T09:50:47.923Z"
   },
   {
    "duration": 0,
    "start_time": "2025-03-28T09:50:47.924Z"
   },
   {
    "duration": 0,
    "start_time": "2025-03-28T09:50:47.925Z"
   },
   {
    "duration": 0,
    "start_time": "2025-03-28T09:50:47.926Z"
   },
   {
    "duration": 0,
    "start_time": "2025-03-28T09:50:47.928Z"
   },
   {
    "duration": 0,
    "start_time": "2025-03-28T09:50:47.929Z"
   },
   {
    "duration": 0,
    "start_time": "2025-03-28T09:50:47.930Z"
   },
   {
    "duration": 1,
    "start_time": "2025-03-28T09:50:47.930Z"
   },
   {
    "duration": 0,
    "start_time": "2025-03-28T09:50:47.931Z"
   },
   {
    "duration": 0,
    "start_time": "2025-03-28T09:50:47.934Z"
   },
   {
    "duration": 0,
    "start_time": "2025-03-28T09:50:47.936Z"
   },
   {
    "duration": 0,
    "start_time": "2025-03-28T09:50:47.937Z"
   },
   {
    "duration": 0,
    "start_time": "2025-03-28T09:50:47.938Z"
   },
   {
    "duration": 0,
    "start_time": "2025-03-28T09:50:47.939Z"
   },
   {
    "duration": 0,
    "start_time": "2025-03-28T09:50:47.940Z"
   },
   {
    "duration": 0,
    "start_time": "2025-03-28T09:50:47.941Z"
   },
   {
    "duration": 0,
    "start_time": "2025-03-28T09:50:47.942Z"
   },
   {
    "duration": 0,
    "start_time": "2025-03-28T09:50:47.943Z"
   },
   {
    "duration": 0,
    "start_time": "2025-03-28T09:50:47.944Z"
   },
   {
    "duration": 0,
    "start_time": "2025-03-28T09:50:47.945Z"
   },
   {
    "duration": 0,
    "start_time": "2025-03-28T09:50:47.946Z"
   },
   {
    "duration": 0,
    "start_time": "2025-03-28T09:50:47.947Z"
   },
   {
    "duration": 0,
    "start_time": "2025-03-28T09:50:47.948Z"
   },
   {
    "duration": 0,
    "start_time": "2025-03-28T09:50:47.949Z"
   },
   {
    "duration": 0,
    "start_time": "2025-03-28T09:50:47.950Z"
   },
   {
    "duration": 0,
    "start_time": "2025-03-28T09:50:47.951Z"
   },
   {
    "duration": 0,
    "start_time": "2025-03-28T09:50:47.952Z"
   },
   {
    "duration": 0,
    "start_time": "2025-03-28T09:50:47.953Z"
   },
   {
    "duration": 0,
    "start_time": "2025-03-28T09:50:48.007Z"
   },
   {
    "duration": 0,
    "start_time": "2025-03-28T09:50:48.008Z"
   },
   {
    "duration": 0,
    "start_time": "2025-03-28T09:50:48.009Z"
   },
   {
    "duration": 0,
    "start_time": "2025-03-28T09:50:48.009Z"
   },
   {
    "duration": 0,
    "start_time": "2025-03-28T09:50:48.010Z"
   },
   {
    "duration": 0,
    "start_time": "2025-03-28T09:50:48.011Z"
   },
   {
    "duration": 0,
    "start_time": "2025-03-28T09:50:48.012Z"
   },
   {
    "duration": 0,
    "start_time": "2025-03-28T09:50:48.013Z"
   },
   {
    "duration": 0,
    "start_time": "2025-03-28T09:50:48.015Z"
   },
   {
    "duration": 0,
    "start_time": "2025-03-28T09:50:48.016Z"
   },
   {
    "duration": 0,
    "start_time": "2025-03-28T09:50:48.017Z"
   },
   {
    "duration": 0,
    "start_time": "2025-03-28T09:50:48.021Z"
   },
   {
    "duration": 0,
    "start_time": "2025-03-28T09:50:48.021Z"
   },
   {
    "duration": 0,
    "start_time": "2025-03-28T09:50:48.027Z"
   },
   {
    "duration": 0,
    "start_time": "2025-03-28T09:50:48.037Z"
   },
   {
    "duration": 0,
    "start_time": "2025-03-28T09:50:48.038Z"
   },
   {
    "duration": 194,
    "start_time": "2025-03-28T10:06:30.586Z"
   },
   {
    "duration": 118,
    "start_time": "2025-03-28T10:07:00.526Z"
   },
   {
    "duration": 134,
    "start_time": "2025-03-28T10:07:06.397Z"
   },
   {
    "duration": 114,
    "start_time": "2025-03-28T10:07:20.784Z"
   },
   {
    "duration": 113,
    "start_time": "2025-03-28T10:07:46.131Z"
   },
   {
    "duration": 110,
    "start_time": "2025-03-28T10:07:50.685Z"
   },
   {
    "duration": 127,
    "start_time": "2025-03-28T10:07:58.197Z"
   },
   {
    "duration": 112,
    "start_time": "2025-03-28T10:08:19.627Z"
   },
   {
    "duration": 109,
    "start_time": "2025-03-28T10:09:13.464Z"
   },
   {
    "duration": 187,
    "start_time": "2025-03-28T10:09:35.870Z"
   },
   {
    "duration": 10,
    "start_time": "2025-03-28T10:10:47.839Z"
   },
   {
    "duration": 126,
    "start_time": "2025-03-28T10:10:57.068Z"
   },
   {
    "duration": 11526,
    "start_time": "2025-03-28T10:12:19.745Z"
   },
   {
    "duration": 1113,
    "start_time": "2025-03-28T10:12:31.273Z"
   },
   {
    "duration": 3,
    "start_time": "2025-03-28T10:12:32.388Z"
   },
   {
    "duration": 292,
    "start_time": "2025-03-28T10:12:32.393Z"
   },
   {
    "duration": 1686,
    "start_time": "2025-03-28T10:12:32.686Z"
   },
   {
    "duration": 1270,
    "start_time": "2025-03-28T10:12:34.374Z"
   },
   {
    "duration": 5,
    "start_time": "2025-03-28T10:12:35.646Z"
   },
   {
    "duration": 74,
    "start_time": "2025-03-28T10:12:35.653Z"
   },
   {
    "duration": 108,
    "start_time": "2025-03-28T10:12:35.730Z"
   },
   {
    "duration": 55,
    "start_time": "2025-03-28T10:12:35.841Z"
   },
   {
    "duration": 161,
    "start_time": "2025-03-28T10:12:35.897Z"
   },
   {
    "duration": 121,
    "start_time": "2025-03-28T10:12:36.060Z"
   },
   {
    "duration": 38,
    "start_time": "2025-03-28T10:12:36.183Z"
   },
   {
    "duration": 238,
    "start_time": "2025-03-28T10:12:36.222Z"
   },
   {
    "duration": 1072,
    "start_time": "2025-03-28T10:12:36.462Z"
   },
   {
    "duration": 350,
    "start_time": "2025-03-28T10:12:37.537Z"
   },
   {
    "duration": 669,
    "start_time": "2025-03-28T10:12:37.890Z"
   },
   {
    "duration": 12,
    "start_time": "2025-03-28T10:12:38.562Z"
   },
   {
    "duration": 68,
    "start_time": "2025-03-28T10:12:38.576Z"
   },
   {
    "duration": 33,
    "start_time": "2025-03-28T10:12:38.646Z"
   },
   {
    "duration": 290,
    "start_time": "2025-03-28T10:12:38.681Z"
   },
   {
    "duration": 1656,
    "start_time": "2025-03-28T10:12:38.973Z"
   },
   {
    "duration": 22,
    "start_time": "2025-03-28T10:12:40.631Z"
   },
   {
    "duration": 29,
    "start_time": "2025-03-28T10:12:40.655Z"
   },
   {
    "duration": 19,
    "start_time": "2025-03-28T10:12:40.707Z"
   },
   {
    "duration": 33,
    "start_time": "2025-03-28T10:12:40.729Z"
   },
   {
    "duration": 230,
    "start_time": "2025-03-28T10:12:40.764Z"
   },
   {
    "duration": 1649,
    "start_time": "2025-03-28T10:12:40.998Z"
   },
   {
    "duration": 6,
    "start_time": "2025-03-28T10:12:42.649Z"
   },
   {
    "duration": 60,
    "start_time": "2025-03-28T10:12:42.656Z"
   },
   {
    "duration": 5,
    "start_time": "2025-03-28T10:12:42.723Z"
   },
   {
    "duration": 23,
    "start_time": "2025-03-28T10:12:42.729Z"
   },
   {
    "duration": 12,
    "start_time": "2025-03-28T10:12:42.754Z"
   },
   {
    "duration": 383,
    "start_time": "2025-03-28T10:12:42.768Z"
   },
   {
    "duration": 10,
    "start_time": "2025-03-28T10:12:43.153Z"
   },
   {
    "duration": 17,
    "start_time": "2025-03-28T10:12:43.165Z"
   },
   {
    "duration": 56,
    "start_time": "2025-03-28T10:12:43.184Z"
   },
   {
    "duration": 3,
    "start_time": "2025-03-28T10:12:43.242Z"
   },
   {
    "duration": 18,
    "start_time": "2025-03-28T10:12:43.246Z"
   },
   {
    "duration": 4,
    "start_time": "2025-03-28T10:12:43.265Z"
   },
   {
    "duration": 3,
    "start_time": "2025-03-28T10:12:43.271Z"
   },
   {
    "duration": 28,
    "start_time": "2025-03-28T10:12:43.276Z"
   },
   {
    "duration": 2675,
    "start_time": "2025-03-28T10:12:43.311Z"
   },
   {
    "duration": 18464,
    "start_time": "2025-03-28T10:12:45.988Z"
   },
   {
    "duration": 59,
    "start_time": "2025-03-28T10:13:04.454Z"
   },
   {
    "duration": 45,
    "start_time": "2025-03-28T10:13:04.518Z"
   },
   {
    "duration": 48,
    "start_time": "2025-03-28T10:13:04.565Z"
   },
   {
    "duration": 43,
    "start_time": "2025-03-28T10:13:04.614Z"
   },
   {
    "duration": 25,
    "start_time": "2025-03-28T10:13:04.659Z"
   },
   {
    "duration": 30,
    "start_time": "2025-03-28T10:13:04.685Z"
   },
   {
    "duration": 41,
    "start_time": "2025-03-28T10:13:04.721Z"
   },
   {
    "duration": 36,
    "start_time": "2025-03-28T10:13:04.763Z"
   },
   {
    "duration": 45,
    "start_time": "2025-03-28T10:13:04.801Z"
   },
   {
    "duration": 19,
    "start_time": "2025-03-28T10:13:04.848Z"
   },
   {
    "duration": 984,
    "start_time": "2025-03-28T10:13:04.869Z"
   },
   {
    "duration": 711,
    "start_time": "2025-03-28T10:13:05.855Z"
   },
   {
    "duration": 710,
    "start_time": "2025-03-28T10:13:06.567Z"
   },
   {
    "duration": 684,
    "start_time": "2025-03-28T10:13:07.279Z"
   },
   {
    "duration": 5,
    "start_time": "2025-03-28T10:13:07.965Z"
   },
   {
    "duration": 61,
    "start_time": "2025-03-28T10:13:07.971Z"
   },
   {
    "duration": 40,
    "start_time": "2025-03-28T10:13:08.034Z"
   },
   {
    "duration": 20,
    "start_time": "2025-03-28T10:13:08.076Z"
   },
   {
    "duration": 41,
    "start_time": "2025-03-28T10:13:08.097Z"
   },
   {
    "duration": 23,
    "start_time": "2025-03-28T10:13:08.140Z"
   },
   {
    "duration": 34,
    "start_time": "2025-03-28T10:13:08.164Z"
   },
   {
    "duration": 35,
    "start_time": "2025-03-28T10:13:08.199Z"
   },
   {
    "duration": 18,
    "start_time": "2025-03-28T10:13:08.236Z"
   },
   {
    "duration": 19,
    "start_time": "2025-03-28T10:13:08.256Z"
   },
   {
    "duration": 57,
    "start_time": "2025-03-28T10:13:08.276Z"
   },
   {
    "duration": 10,
    "start_time": "2025-03-28T10:13:08.335Z"
   },
   {
    "duration": 85,
    "start_time": "2025-03-28T10:13:08.346Z"
   },
   {
    "duration": 18963,
    "start_time": "2025-03-28T10:13:08.433Z"
   },
   {
    "duration": 37030,
    "start_time": "2025-03-28T10:13:27.397Z"
   },
   {
    "duration": 73,
    "start_time": "2025-03-28T10:14:04.429Z"
   },
   {
    "duration": 0,
    "start_time": "2025-03-28T10:14:04.505Z"
   },
   {
    "duration": 0,
    "start_time": "2025-03-28T10:14:04.507Z"
   },
   {
    "duration": 0,
    "start_time": "2025-03-28T10:14:04.508Z"
   },
   {
    "duration": 0,
    "start_time": "2025-03-28T10:14:04.509Z"
   },
   {
    "duration": 0,
    "start_time": "2025-03-28T10:14:04.511Z"
   },
   {
    "duration": 0,
    "start_time": "2025-03-28T10:14:04.512Z"
   },
   {
    "duration": 0,
    "start_time": "2025-03-28T10:14:04.513Z"
   },
   {
    "duration": 0,
    "start_time": "2025-03-28T10:14:04.514Z"
   },
   {
    "duration": 0,
    "start_time": "2025-03-28T10:14:04.515Z"
   },
   {
    "duration": 0,
    "start_time": "2025-03-28T10:14:04.516Z"
   },
   {
    "duration": 0,
    "start_time": "2025-03-28T10:14:04.517Z"
   },
   {
    "duration": 0,
    "start_time": "2025-03-28T10:14:04.518Z"
   },
   {
    "duration": 0,
    "start_time": "2025-03-28T10:14:04.520Z"
   },
   {
    "duration": 99,
    "start_time": "2025-03-28T10:17:39.830Z"
   },
   {
    "duration": 3,
    "start_time": "2025-03-28T10:18:32.035Z"
   },
   {
    "duration": 3,
    "start_time": "2025-03-28T10:18:41.459Z"
   },
   {
    "duration": 3,
    "start_time": "2025-03-28T10:18:45.043Z"
   },
   {
    "duration": 3,
    "start_time": "2025-03-28T10:18:47.865Z"
   },
   {
    "duration": 4,
    "start_time": "2025-03-28T11:10:29.947Z"
   },
   {
    "duration": 144,
    "start_time": "2025-03-28T11:10:37.004Z"
   },
   {
    "duration": 8403,
    "start_time": "2025-03-28T11:11:31.538Z"
   },
   {
    "duration": 4,
    "start_time": "2025-03-28T11:11:50.513Z"
   },
   {
    "duration": 47,
    "start_time": "2025-03-28T11:13:26.975Z"
   },
   {
    "duration": 11180,
    "start_time": "2025-03-28T11:16:26.018Z"
   },
   {
    "duration": 1013,
    "start_time": "2025-03-28T11:16:37.200Z"
   },
   {
    "duration": 4,
    "start_time": "2025-03-28T11:16:38.214Z"
   },
   {
    "duration": 261,
    "start_time": "2025-03-28T11:16:38.220Z"
   },
   {
    "duration": 1655,
    "start_time": "2025-03-28T11:16:38.483Z"
   },
   {
    "duration": 1135,
    "start_time": "2025-03-28T11:16:40.139Z"
   },
   {
    "duration": 5,
    "start_time": "2025-03-28T11:16:41.276Z"
   },
   {
    "duration": 21,
    "start_time": "2025-03-28T11:16:41.282Z"
   },
   {
    "duration": 20,
    "start_time": "2025-03-28T11:16:41.305Z"
   },
   {
    "duration": 25,
    "start_time": "2025-03-28T11:16:41.327Z"
   },
   {
    "duration": 105,
    "start_time": "2025-03-28T11:16:41.354Z"
   },
   {
    "duration": 104,
    "start_time": "2025-03-28T11:16:41.461Z"
   },
   {
    "duration": 23,
    "start_time": "2025-03-28T11:16:41.566Z"
   },
   {
    "duration": 183,
    "start_time": "2025-03-28T11:16:41.603Z"
   },
   {
    "duration": 931,
    "start_time": "2025-03-28T11:16:41.788Z"
   },
   {
    "duration": 289,
    "start_time": "2025-03-28T11:16:42.720Z"
   },
   {
    "duration": 570,
    "start_time": "2025-03-28T11:16:43.011Z"
   },
   {
    "duration": 21,
    "start_time": "2025-03-28T11:16:43.583Z"
   },
   {
    "duration": 21,
    "start_time": "2025-03-28T11:16:43.605Z"
   },
   {
    "duration": 9,
    "start_time": "2025-03-28T11:16:43.628Z"
   },
   {
    "duration": 247,
    "start_time": "2025-03-28T11:16:43.639Z"
   },
   {
    "duration": 1450,
    "start_time": "2025-03-28T11:16:43.888Z"
   },
   {
    "duration": 21,
    "start_time": "2025-03-28T11:16:45.340Z"
   },
   {
    "duration": 49,
    "start_time": "2025-03-28T11:16:45.363Z"
   },
   {
    "duration": 6,
    "start_time": "2025-03-28T11:16:45.413Z"
   },
   {
    "duration": 30,
    "start_time": "2025-03-28T11:16:45.420Z"
   },
   {
    "duration": 220,
    "start_time": "2025-03-28T11:16:45.452Z"
   },
   {
    "duration": 1462,
    "start_time": "2025-03-28T11:16:45.673Z"
   },
   {
    "duration": 5,
    "start_time": "2025-03-28T11:16:47.136Z"
   },
   {
    "duration": 38,
    "start_time": "2025-03-28T11:16:47.143Z"
   },
   {
    "duration": 4,
    "start_time": "2025-03-28T11:16:47.183Z"
   },
   {
    "duration": 16,
    "start_time": "2025-03-28T11:16:47.204Z"
   },
   {
    "duration": 12,
    "start_time": "2025-03-28T11:16:47.222Z"
   },
   {
    "duration": 361,
    "start_time": "2025-03-28T11:16:47.236Z"
   },
   {
    "duration": 11,
    "start_time": "2025-03-28T11:16:47.598Z"
   },
   {
    "duration": 15,
    "start_time": "2025-03-28T11:16:47.611Z"
   },
   {
    "duration": 30,
    "start_time": "2025-03-28T11:16:47.627Z"
   },
   {
    "duration": 4,
    "start_time": "2025-03-28T11:16:47.659Z"
   },
   {
    "duration": 40,
    "start_time": "2025-03-28T11:16:47.664Z"
   },
   {
    "duration": 4,
    "start_time": "2025-03-28T11:16:47.706Z"
   },
   {
    "duration": 13,
    "start_time": "2025-03-28T11:16:47.714Z"
   },
   {
    "duration": 4,
    "start_time": "2025-03-28T11:16:47.728Z"
   },
   {
    "duration": 2397,
    "start_time": "2025-03-28T11:16:47.734Z"
   },
   {
    "duration": 16483,
    "start_time": "2025-03-28T11:16:50.133Z"
   },
   {
    "duration": 43,
    "start_time": "2025-03-28T11:17:06.618Z"
   },
   {
    "duration": 49,
    "start_time": "2025-03-28T11:17:06.663Z"
   },
   {
    "duration": 67,
    "start_time": "2025-03-28T11:17:06.714Z"
   },
   {
    "duration": 53,
    "start_time": "2025-03-28T11:17:06.783Z"
   },
   {
    "duration": 29,
    "start_time": "2025-03-28T11:17:06.838Z"
   },
   {
    "duration": 21,
    "start_time": "2025-03-28T11:17:06.869Z"
   },
   {
    "duration": 44,
    "start_time": "2025-03-28T11:17:06.892Z"
   },
   {
    "duration": 57,
    "start_time": "2025-03-28T11:17:06.938Z"
   },
   {
    "duration": 73,
    "start_time": "2025-03-28T11:17:06.997Z"
   },
   {
    "duration": 37,
    "start_time": "2025-03-28T11:17:07.071Z"
   },
   {
    "duration": 915,
    "start_time": "2025-03-28T11:17:07.110Z"
   },
   {
    "duration": 620,
    "start_time": "2025-03-28T11:17:08.026Z"
   },
   {
    "duration": 589,
    "start_time": "2025-03-28T11:17:08.648Z"
   },
   {
    "duration": 559,
    "start_time": "2025-03-28T11:17:09.238Z"
   },
   {
    "duration": 11,
    "start_time": "2025-03-28T11:17:09.804Z"
   },
   {
    "duration": 39,
    "start_time": "2025-03-28T11:17:09.818Z"
   },
   {
    "duration": 75,
    "start_time": "2025-03-28T11:17:09.859Z"
   },
   {
    "duration": 11,
    "start_time": "2025-03-28T11:17:09.936Z"
   },
   {
    "duration": 106,
    "start_time": "2025-03-28T11:17:09.949Z"
   },
   {
    "duration": 51,
    "start_time": "2025-03-28T11:17:10.057Z"
   },
   {
    "duration": 46,
    "start_time": "2025-03-28T11:17:10.110Z"
   },
   {
    "duration": 80,
    "start_time": "2025-03-28T11:17:10.158Z"
   },
   {
    "duration": 40,
    "start_time": "2025-03-28T11:17:10.240Z"
   },
   {
    "duration": 37,
    "start_time": "2025-03-28T11:17:10.282Z"
   },
   {
    "duration": 80,
    "start_time": "2025-03-28T11:17:10.321Z"
   },
   {
    "duration": 18,
    "start_time": "2025-03-28T11:17:10.403Z"
   },
   {
    "duration": 101,
    "start_time": "2025-03-28T11:17:10.422Z"
   },
   {
    "duration": 16387,
    "start_time": "2025-03-28T11:17:10.525Z"
   },
   {
    "duration": 31695,
    "start_time": "2025-03-28T11:17:26.914Z"
   },
   {
    "duration": 72,
    "start_time": "2025-03-28T11:17:58.611Z"
   },
   {
    "duration": 3,
    "start_time": "2025-03-28T11:17:58.685Z"
   },
   {
    "duration": 4,
    "start_time": "2025-03-28T11:17:58.704Z"
   },
   {
    "duration": 72,
    "start_time": "2025-03-28T11:17:58.709Z"
   },
   {
    "duration": 0,
    "start_time": "2025-03-28T11:17:58.783Z"
   },
   {
    "duration": 0,
    "start_time": "2025-03-28T11:17:58.784Z"
   },
   {
    "duration": 0,
    "start_time": "2025-03-28T11:17:58.786Z"
   },
   {
    "duration": 0,
    "start_time": "2025-03-28T11:17:58.787Z"
   },
   {
    "duration": 0,
    "start_time": "2025-03-28T11:17:58.788Z"
   },
   {
    "duration": 0,
    "start_time": "2025-03-28T11:17:58.789Z"
   },
   {
    "duration": 0,
    "start_time": "2025-03-28T11:17:58.790Z"
   },
   {
    "duration": 597,
    "start_time": "2025-03-28T11:18:28.847Z"
   },
   {
    "duration": 16,
    "start_time": "2025-03-28T11:25:53.125Z"
   },
   {
    "duration": 122,
    "start_time": "2025-03-28T11:26:04.822Z"
   },
   {
    "duration": 3,
    "start_time": "2025-03-28T11:26:08.355Z"
   },
   {
    "duration": 4,
    "start_time": "2025-03-28T11:26:13.588Z"
   },
   {
    "duration": 509,
    "start_time": "2025-03-28T11:26:19.397Z"
   },
   {
    "duration": 9662,
    "start_time": "2025-03-28T11:26:46.289Z"
   },
   {
    "duration": 912,
    "start_time": "2025-03-28T11:26:55.954Z"
   },
   {
    "duration": 3,
    "start_time": "2025-03-28T11:26:56.867Z"
   },
   {
    "duration": 268,
    "start_time": "2025-03-28T11:26:56.872Z"
   },
   {
    "duration": 1608,
    "start_time": "2025-03-28T11:26:57.142Z"
   },
   {
    "duration": 1095,
    "start_time": "2025-03-28T11:26:58.752Z"
   },
   {
    "duration": 5,
    "start_time": "2025-03-28T11:26:59.850Z"
   },
   {
    "duration": 10,
    "start_time": "2025-03-28T11:26:59.857Z"
   },
   {
    "duration": 7,
    "start_time": "2025-03-28T11:26:59.868Z"
   },
   {
    "duration": 45,
    "start_time": "2025-03-28T11:26:59.876Z"
   },
   {
    "duration": 134,
    "start_time": "2025-03-28T11:26:59.922Z"
   },
   {
    "duration": 99,
    "start_time": "2025-03-28T11:27:00.057Z"
   },
   {
    "duration": 23,
    "start_time": "2025-03-28T11:27:00.158Z"
   },
   {
    "duration": 308,
    "start_time": "2025-03-28T11:27:00.184Z"
   },
   {
    "duration": 892,
    "start_time": "2025-03-28T11:27:00.493Z"
   },
   {
    "duration": 242,
    "start_time": "2025-03-28T11:27:01.386Z"
   },
   {
    "duration": 486,
    "start_time": "2025-03-28T11:27:01.630Z"
   },
   {
    "duration": 12,
    "start_time": "2025-03-28T11:27:02.117Z"
   },
   {
    "duration": 92,
    "start_time": "2025-03-28T11:27:02.131Z"
   },
   {
    "duration": 21,
    "start_time": "2025-03-28T11:27:02.224Z"
   },
   {
    "duration": 262,
    "start_time": "2025-03-28T11:27:02.246Z"
   },
   {
    "duration": 1416,
    "start_time": "2025-03-28T11:27:02.510Z"
   },
   {
    "duration": 19,
    "start_time": "2025-03-28T11:27:03.928Z"
   },
   {
    "duration": 25,
    "start_time": "2025-03-28T11:27:03.949Z"
   },
   {
    "duration": 4,
    "start_time": "2025-03-28T11:27:03.975Z"
   },
   {
    "duration": 81,
    "start_time": "2025-03-28T11:27:04.004Z"
   },
   {
    "duration": 193,
    "start_time": "2025-03-28T11:27:04.086Z"
   },
   {
    "duration": 1416,
    "start_time": "2025-03-28T11:27:04.281Z"
   },
   {
    "duration": 6,
    "start_time": "2025-03-28T11:27:05.703Z"
   },
   {
    "duration": 43,
    "start_time": "2025-03-28T11:27:05.710Z"
   },
   {
    "duration": 4,
    "start_time": "2025-03-28T11:27:05.754Z"
   },
   {
    "duration": 77,
    "start_time": "2025-03-28T11:27:05.759Z"
   },
   {
    "duration": 46,
    "start_time": "2025-03-28T11:27:05.838Z"
   },
   {
    "duration": 304,
    "start_time": "2025-03-28T11:27:05.886Z"
   },
   {
    "duration": 12,
    "start_time": "2025-03-28T11:27:06.192Z"
   },
   {
    "duration": 33,
    "start_time": "2025-03-28T11:27:06.206Z"
   },
   {
    "duration": 38,
    "start_time": "2025-03-28T11:27:06.240Z"
   },
   {
    "duration": 22,
    "start_time": "2025-03-28T11:27:06.280Z"
   },
   {
    "duration": 54,
    "start_time": "2025-03-28T11:27:06.303Z"
   },
   {
    "duration": 3,
    "start_time": "2025-03-28T11:27:06.359Z"
   },
   {
    "duration": 11,
    "start_time": "2025-03-28T11:27:06.367Z"
   },
   {
    "duration": 29,
    "start_time": "2025-03-28T11:27:06.380Z"
   },
   {
    "duration": 2329,
    "start_time": "2025-03-28T11:27:06.411Z"
   },
   {
    "duration": 16242,
    "start_time": "2025-03-28T11:27:08.742Z"
   },
   {
    "duration": 46,
    "start_time": "2025-03-28T11:27:24.986Z"
   },
   {
    "duration": 34,
    "start_time": "2025-03-28T11:27:25.033Z"
   },
   {
    "duration": 45,
    "start_time": "2025-03-28T11:27:25.068Z"
   },
   {
    "duration": 23,
    "start_time": "2025-03-28T11:27:25.115Z"
   },
   {
    "duration": 6,
    "start_time": "2025-03-28T11:27:25.140Z"
   },
   {
    "duration": 8,
    "start_time": "2025-03-28T11:27:25.147Z"
   },
   {
    "duration": 48,
    "start_time": "2025-03-28T11:27:25.156Z"
   },
   {
    "duration": 31,
    "start_time": "2025-03-28T11:27:25.206Z"
   },
   {
    "duration": 37,
    "start_time": "2025-03-28T11:27:25.238Z"
   },
   {
    "duration": 30,
    "start_time": "2025-03-28T11:27:25.277Z"
   },
   {
    "duration": 841,
    "start_time": "2025-03-28T11:27:25.309Z"
   },
   {
    "duration": 631,
    "start_time": "2025-03-28T11:27:26.151Z"
   },
   {
    "duration": 606,
    "start_time": "2025-03-28T11:27:26.784Z"
   },
   {
    "duration": 601,
    "start_time": "2025-03-28T11:27:27.392Z"
   },
   {
    "duration": 4,
    "start_time": "2025-03-28T11:27:27.994Z"
   },
   {
    "duration": 68,
    "start_time": "2025-03-28T11:27:28.003Z"
   },
   {
    "duration": 35,
    "start_time": "2025-03-28T11:27:28.073Z"
   },
   {
    "duration": 6,
    "start_time": "2025-03-28T11:27:28.110Z"
   },
   {
    "duration": 11,
    "start_time": "2025-03-28T11:27:28.118Z"
   },
   {
    "duration": 13,
    "start_time": "2025-03-28T11:27:28.130Z"
   },
   {
    "duration": 4,
    "start_time": "2025-03-28T11:27:28.145Z"
   },
   {
    "duration": 40,
    "start_time": "2025-03-28T11:27:28.151Z"
   },
   {
    "duration": 12,
    "start_time": "2025-03-28T11:27:28.194Z"
   },
   {
    "duration": 11,
    "start_time": "2025-03-28T11:27:28.208Z"
   },
   {
    "duration": 22,
    "start_time": "2025-03-28T11:27:28.221Z"
   },
   {
    "duration": 68,
    "start_time": "2025-03-28T11:27:28.245Z"
   },
   {
    "duration": 12,
    "start_time": "2025-03-28T11:27:28.315Z"
   },
   {
    "duration": 78,
    "start_time": "2025-03-28T11:27:28.329Z"
   },
   {
    "duration": 16703,
    "start_time": "2025-03-28T11:27:28.409Z"
   },
   {
    "duration": 31555,
    "start_time": "2025-03-28T11:27:45.114Z"
   },
   {
    "duration": 103,
    "start_time": "2025-03-28T11:28:16.671Z"
   },
   {
    "duration": 3,
    "start_time": "2025-03-28T11:28:16.776Z"
   },
   {
    "duration": 7,
    "start_time": "2025-03-28T11:28:16.781Z"
   },
   {
    "duration": 92,
    "start_time": "2025-03-28T11:28:16.790Z"
   },
   {
    "duration": 0,
    "start_time": "2025-03-28T11:28:16.884Z"
   },
   {
    "duration": 0,
    "start_time": "2025-03-28T11:28:16.886Z"
   },
   {
    "duration": 0,
    "start_time": "2025-03-28T11:28:16.888Z"
   },
   {
    "duration": 0,
    "start_time": "2025-03-28T11:28:16.889Z"
   },
   {
    "duration": 0,
    "start_time": "2025-03-28T11:28:16.891Z"
   },
   {
    "duration": 0,
    "start_time": "2025-03-28T11:28:16.892Z"
   },
   {
    "duration": 0,
    "start_time": "2025-03-28T11:28:16.894Z"
   },
   {
    "duration": 612,
    "start_time": "2025-03-28T11:28:32.785Z"
   },
   {
    "duration": 4,
    "start_time": "2025-03-28T11:29:28.708Z"
   },
   {
    "duration": 10366,
    "start_time": "2025-03-28T11:30:34.418Z"
   },
   {
    "duration": 1060,
    "start_time": "2025-03-28T11:30:44.786Z"
   },
   {
    "duration": 56,
    "start_time": "2025-03-28T11:30:45.848Z"
   },
   {
    "duration": 504,
    "start_time": "2025-03-28T11:30:45.906Z"
   },
   {
    "duration": 1943,
    "start_time": "2025-03-28T11:30:46.412Z"
   },
   {
    "duration": 1080,
    "start_time": "2025-03-28T11:30:48.357Z"
   },
   {
    "duration": 4,
    "start_time": "2025-03-28T11:30:49.439Z"
   },
   {
    "duration": 16,
    "start_time": "2025-03-28T11:30:49.444Z"
   },
   {
    "duration": 8,
    "start_time": "2025-03-28T11:30:49.462Z"
   },
   {
    "duration": 37,
    "start_time": "2025-03-28T11:30:49.473Z"
   },
   {
    "duration": 110,
    "start_time": "2025-03-28T11:30:49.512Z"
   },
   {
    "duration": 109,
    "start_time": "2025-03-28T11:30:49.623Z"
   },
   {
    "duration": 36,
    "start_time": "2025-03-28T11:30:49.733Z"
   },
   {
    "duration": 638,
    "start_time": "2025-03-28T11:30:49.771Z"
   },
   {
    "duration": 0,
    "start_time": "2025-03-28T11:30:50.414Z"
   },
   {
    "duration": 0,
    "start_time": "2025-03-28T11:30:50.416Z"
   },
   {
    "duration": 0,
    "start_time": "2025-03-28T11:30:50.418Z"
   },
   {
    "duration": 0,
    "start_time": "2025-03-28T11:30:50.419Z"
   },
   {
    "duration": 0,
    "start_time": "2025-03-28T11:30:50.420Z"
   },
   {
    "duration": 0,
    "start_time": "2025-03-28T11:30:50.422Z"
   },
   {
    "duration": 0,
    "start_time": "2025-03-28T11:30:50.423Z"
   },
   {
    "duration": 0,
    "start_time": "2025-03-28T11:30:50.425Z"
   },
   {
    "duration": 0,
    "start_time": "2025-03-28T11:30:50.427Z"
   },
   {
    "duration": 0,
    "start_time": "2025-03-28T11:30:50.428Z"
   },
   {
    "duration": 0,
    "start_time": "2025-03-28T11:30:50.429Z"
   },
   {
    "duration": 0,
    "start_time": "2025-03-28T11:30:50.431Z"
   },
   {
    "duration": 0,
    "start_time": "2025-03-28T11:30:50.432Z"
   },
   {
    "duration": 0,
    "start_time": "2025-03-28T11:30:50.435Z"
   },
   {
    "duration": 0,
    "start_time": "2025-03-28T11:30:50.436Z"
   },
   {
    "duration": 0,
    "start_time": "2025-03-28T11:30:50.437Z"
   },
   {
    "duration": 0,
    "start_time": "2025-03-28T11:30:50.438Z"
   },
   {
    "duration": 0,
    "start_time": "2025-03-28T11:30:50.439Z"
   },
   {
    "duration": 0,
    "start_time": "2025-03-28T11:30:50.440Z"
   },
   {
    "duration": 0,
    "start_time": "2025-03-28T11:30:50.441Z"
   },
   {
    "duration": 0,
    "start_time": "2025-03-28T11:30:50.442Z"
   },
   {
    "duration": 0,
    "start_time": "2025-03-28T11:30:50.443Z"
   },
   {
    "duration": 0,
    "start_time": "2025-03-28T11:30:50.444Z"
   },
   {
    "duration": 1,
    "start_time": "2025-03-28T11:30:50.444Z"
   },
   {
    "duration": 0,
    "start_time": "2025-03-28T11:30:50.445Z"
   },
   {
    "duration": 0,
    "start_time": "2025-03-28T11:30:50.447Z"
   },
   {
    "duration": 0,
    "start_time": "2025-03-28T11:30:50.448Z"
   },
   {
    "duration": 0,
    "start_time": "2025-03-28T11:30:50.450Z"
   },
   {
    "duration": 0,
    "start_time": "2025-03-28T11:30:50.451Z"
   },
   {
    "duration": 0,
    "start_time": "2025-03-28T11:30:50.504Z"
   },
   {
    "duration": 0,
    "start_time": "2025-03-28T11:30:50.505Z"
   },
   {
    "duration": 0,
    "start_time": "2025-03-28T11:30:50.507Z"
   },
   {
    "duration": 0,
    "start_time": "2025-03-28T11:30:50.507Z"
   },
   {
    "duration": 0,
    "start_time": "2025-03-28T11:30:50.508Z"
   },
   {
    "duration": 0,
    "start_time": "2025-03-28T11:30:50.509Z"
   },
   {
    "duration": 0,
    "start_time": "2025-03-28T11:30:50.510Z"
   },
   {
    "duration": 0,
    "start_time": "2025-03-28T11:30:50.512Z"
   },
   {
    "duration": 0,
    "start_time": "2025-03-28T11:30:50.513Z"
   },
   {
    "duration": 0,
    "start_time": "2025-03-28T11:30:50.515Z"
   },
   {
    "duration": 0,
    "start_time": "2025-03-28T11:30:50.516Z"
   },
   {
    "duration": 0,
    "start_time": "2025-03-28T11:30:50.517Z"
   },
   {
    "duration": 0,
    "start_time": "2025-03-28T11:30:50.519Z"
   },
   {
    "duration": 0,
    "start_time": "2025-03-28T11:30:50.520Z"
   },
   {
    "duration": 0,
    "start_time": "2025-03-28T11:30:50.521Z"
   },
   {
    "duration": 0,
    "start_time": "2025-03-28T11:30:50.523Z"
   },
   {
    "duration": 0,
    "start_time": "2025-03-28T11:30:50.524Z"
   },
   {
    "duration": 0,
    "start_time": "2025-03-28T11:30:50.525Z"
   },
   {
    "duration": 0,
    "start_time": "2025-03-28T11:30:50.526Z"
   },
   {
    "duration": 0,
    "start_time": "2025-03-28T11:30:50.528Z"
   },
   {
    "duration": 0,
    "start_time": "2025-03-28T11:30:50.529Z"
   },
   {
    "duration": 0,
    "start_time": "2025-03-28T11:30:50.530Z"
   },
   {
    "duration": 0,
    "start_time": "2025-03-28T11:30:50.531Z"
   },
   {
    "duration": 0,
    "start_time": "2025-03-28T11:30:50.532Z"
   },
   {
    "duration": 0,
    "start_time": "2025-03-28T11:30:50.533Z"
   },
   {
    "duration": 0,
    "start_time": "2025-03-28T11:30:50.534Z"
   },
   {
    "duration": 0,
    "start_time": "2025-03-28T11:30:50.535Z"
   },
   {
    "duration": 0,
    "start_time": "2025-03-28T11:30:50.536Z"
   },
   {
    "duration": 0,
    "start_time": "2025-03-28T11:30:50.542Z"
   },
   {
    "duration": 0,
    "start_time": "2025-03-28T11:30:50.603Z"
   },
   {
    "duration": 0,
    "start_time": "2025-03-28T11:30:50.604Z"
   },
   {
    "duration": 0,
    "start_time": "2025-03-28T11:30:50.606Z"
   },
   {
    "duration": 0,
    "start_time": "2025-03-28T11:30:50.608Z"
   },
   {
    "duration": 0,
    "start_time": "2025-03-28T11:30:50.609Z"
   },
   {
    "duration": 0,
    "start_time": "2025-03-28T11:30:50.611Z"
   },
   {
    "duration": 0,
    "start_time": "2025-03-28T11:30:50.613Z"
   },
   {
    "duration": 0,
    "start_time": "2025-03-28T11:30:50.614Z"
   },
   {
    "duration": 0,
    "start_time": "2025-03-28T11:30:50.615Z"
   },
   {
    "duration": 0,
    "start_time": "2025-03-28T11:30:50.617Z"
   },
   {
    "duration": 0,
    "start_time": "2025-03-28T11:30:50.618Z"
   },
   {
    "duration": 0,
    "start_time": "2025-03-28T11:30:50.619Z"
   },
   {
    "duration": 0,
    "start_time": "2025-03-28T11:30:50.620Z"
   },
   {
    "duration": 9630,
    "start_time": "2025-03-28T11:31:08.522Z"
   },
   {
    "duration": 991,
    "start_time": "2025-03-28T11:31:18.154Z"
   },
   {
    "duration": 4,
    "start_time": "2025-03-28T11:31:19.146Z"
   },
   {
    "duration": 258,
    "start_time": "2025-03-28T11:31:19.152Z"
   },
   {
    "duration": 1641,
    "start_time": "2025-03-28T11:31:19.411Z"
   },
   {
    "duration": 1138,
    "start_time": "2025-03-28T11:31:21.054Z"
   },
   {
    "duration": 10,
    "start_time": "2025-03-28T11:31:22.194Z"
   },
   {
    "duration": 16,
    "start_time": "2025-03-28T11:31:22.205Z"
   },
   {
    "duration": 87,
    "start_time": "2025-03-28T11:31:22.222Z"
   },
   {
    "duration": 40,
    "start_time": "2025-03-28T11:31:22.312Z"
   },
   {
    "duration": 106,
    "start_time": "2025-03-28T11:31:22.353Z"
   },
   {
    "duration": 103,
    "start_time": "2025-03-28T11:31:22.461Z"
   },
   {
    "duration": 26,
    "start_time": "2025-03-28T11:31:22.566Z"
   },
   {
    "duration": 211,
    "start_time": "2025-03-28T11:31:22.594Z"
   },
   {
    "duration": 922,
    "start_time": "2025-03-28T11:31:22.807Z"
   },
   {
    "duration": 290,
    "start_time": "2025-03-28T11:31:23.731Z"
   },
   {
    "duration": 548,
    "start_time": "2025-03-28T11:31:24.023Z"
   },
   {
    "duration": 13,
    "start_time": "2025-03-28T11:31:24.573Z"
   },
   {
    "duration": 81,
    "start_time": "2025-03-28T11:31:24.587Z"
   },
   {
    "duration": 13,
    "start_time": "2025-03-28T11:31:24.669Z"
   },
   {
    "duration": 213,
    "start_time": "2025-03-28T11:31:24.684Z"
   },
   {
    "duration": 1377,
    "start_time": "2025-03-28T11:31:24.903Z"
   },
   {
    "duration": 29,
    "start_time": "2025-03-28T11:31:26.282Z"
   },
   {
    "duration": 39,
    "start_time": "2025-03-28T11:31:26.313Z"
   },
   {
    "duration": 4,
    "start_time": "2025-03-28T11:31:26.353Z"
   },
   {
    "duration": 19,
    "start_time": "2025-03-28T11:31:26.358Z"
   },
   {
    "duration": 222,
    "start_time": "2025-03-28T11:31:26.378Z"
   },
   {
    "duration": 1527,
    "start_time": "2025-03-28T11:31:26.606Z"
   },
   {
    "duration": 7,
    "start_time": "2025-03-28T11:31:28.136Z"
   },
   {
    "duration": 59,
    "start_time": "2025-03-28T11:31:28.145Z"
   },
   {
    "duration": 4,
    "start_time": "2025-03-28T11:31:28.205Z"
   },
   {
    "duration": 59,
    "start_time": "2025-03-28T11:31:28.210Z"
   },
   {
    "duration": 51,
    "start_time": "2025-03-28T11:31:28.270Z"
   },
   {
    "duration": 341,
    "start_time": "2025-03-28T11:31:28.323Z"
   },
   {
    "duration": 10,
    "start_time": "2025-03-28T11:31:28.665Z"
   },
   {
    "duration": 37,
    "start_time": "2025-03-28T11:31:28.676Z"
   },
   {
    "duration": 56,
    "start_time": "2025-03-28T11:31:28.715Z"
   },
   {
    "duration": 5,
    "start_time": "2025-03-28T11:31:28.773Z"
   },
   {
    "duration": 54,
    "start_time": "2025-03-28T11:31:28.780Z"
   },
   {
    "duration": 21,
    "start_time": "2025-03-28T11:31:28.835Z"
   },
   {
    "duration": 16,
    "start_time": "2025-03-28T11:31:28.857Z"
   },
   {
    "duration": 63,
    "start_time": "2025-03-28T11:31:28.875Z"
   },
   {
    "duration": 2406,
    "start_time": "2025-03-28T11:31:28.940Z"
   },
   {
    "duration": 16247,
    "start_time": "2025-03-28T11:31:31.348Z"
   },
   {
    "duration": 46,
    "start_time": "2025-03-28T11:31:47.629Z"
   },
   {
    "duration": 34,
    "start_time": "2025-03-28T11:31:47.677Z"
   },
   {
    "duration": 24,
    "start_time": "2025-03-28T11:31:47.712Z"
   },
   {
    "duration": 33,
    "start_time": "2025-03-28T11:31:47.738Z"
   },
   {
    "duration": 12,
    "start_time": "2025-03-28T11:31:47.773Z"
   },
   {
    "duration": 20,
    "start_time": "2025-03-28T11:31:47.787Z"
   },
   {
    "duration": 41,
    "start_time": "2025-03-28T11:31:47.809Z"
   },
   {
    "duration": 49,
    "start_time": "2025-03-28T11:31:47.852Z"
   },
   {
    "duration": 29,
    "start_time": "2025-03-28T11:31:47.903Z"
   },
   {
    "duration": 25,
    "start_time": "2025-03-28T11:31:47.933Z"
   },
   {
    "duration": 888,
    "start_time": "2025-03-28T11:31:47.960Z"
   },
   {
    "duration": 625,
    "start_time": "2025-03-28T11:31:48.850Z"
   },
   {
    "duration": 618,
    "start_time": "2025-03-28T11:31:49.476Z"
   },
   {
    "duration": 567,
    "start_time": "2025-03-28T11:31:50.103Z"
   },
   {
    "duration": 4,
    "start_time": "2025-03-28T11:31:50.672Z"
   },
   {
    "duration": 13,
    "start_time": "2025-03-28T11:31:50.678Z"
   },
   {
    "duration": 37,
    "start_time": "2025-03-28T11:31:50.692Z"
   },
   {
    "duration": 6,
    "start_time": "2025-03-28T11:31:50.731Z"
   },
   {
    "duration": 12,
    "start_time": "2025-03-28T11:31:50.738Z"
   },
   {
    "duration": 33,
    "start_time": "2025-03-28T11:31:50.751Z"
   },
   {
    "duration": 4,
    "start_time": "2025-03-28T11:31:50.786Z"
   },
   {
    "duration": 25,
    "start_time": "2025-03-28T11:31:50.791Z"
   },
   {
    "duration": 35,
    "start_time": "2025-03-28T11:31:50.817Z"
   },
   {
    "duration": 10,
    "start_time": "2025-03-28T11:31:50.853Z"
   },
   {
    "duration": 12,
    "start_time": "2025-03-28T11:31:50.865Z"
   },
   {
    "duration": 69,
    "start_time": "2025-03-28T11:31:50.879Z"
   },
   {
    "duration": 11,
    "start_time": "2025-03-28T11:31:50.950Z"
   },
   {
    "duration": 78,
    "start_time": "2025-03-28T11:31:50.962Z"
   },
   {
    "duration": 17282,
    "start_time": "2025-03-28T11:31:51.042Z"
   },
   {
    "duration": 32347,
    "start_time": "2025-03-28T11:32:08.325Z"
   },
   {
    "duration": 107,
    "start_time": "2025-03-28T11:32:40.674Z"
   },
   {
    "duration": 3,
    "start_time": "2025-03-28T11:32:40.783Z"
   },
   {
    "duration": 8,
    "start_time": "2025-03-28T11:32:40.788Z"
   },
   {
    "duration": 10189,
    "start_time": "2025-03-28T11:41:08.359Z"
   },
   {
    "duration": 953,
    "start_time": "2025-03-28T11:41:18.551Z"
   },
   {
    "duration": 4,
    "start_time": "2025-03-28T11:41:19.506Z"
   },
   {
    "duration": 256,
    "start_time": "2025-03-28T11:41:19.512Z"
   },
   {
    "duration": 1575,
    "start_time": "2025-03-28T11:41:19.770Z"
   },
   {
    "duration": 1082,
    "start_time": "2025-03-28T11:41:21.346Z"
   },
   {
    "duration": 4,
    "start_time": "2025-03-28T11:41:22.430Z"
   },
   {
    "duration": 19,
    "start_time": "2025-03-28T11:41:22.436Z"
   },
   {
    "duration": 19,
    "start_time": "2025-03-28T11:41:22.457Z"
   },
   {
    "duration": 62,
    "start_time": "2025-03-28T11:41:22.480Z"
   },
   {
    "duration": 110,
    "start_time": "2025-03-28T11:41:22.544Z"
   },
   {
    "duration": 98,
    "start_time": "2025-03-28T11:41:22.655Z"
   },
   {
    "duration": 23,
    "start_time": "2025-03-28T11:41:22.755Z"
   },
   {
    "duration": 217,
    "start_time": "2025-03-28T11:41:22.779Z"
   },
   {
    "duration": 885,
    "start_time": "2025-03-28T11:41:22.998Z"
   },
   {
    "duration": 255,
    "start_time": "2025-03-28T11:41:23.885Z"
   },
   {
    "duration": 533,
    "start_time": "2025-03-28T11:41:24.142Z"
   },
   {
    "duration": 13,
    "start_time": "2025-03-28T11:41:24.677Z"
   },
   {
    "duration": 28,
    "start_time": "2025-03-28T11:41:24.692Z"
   },
   {
    "duration": 9,
    "start_time": "2025-03-28T11:41:24.722Z"
   },
   {
    "duration": 235,
    "start_time": "2025-03-28T11:41:24.733Z"
   },
   {
    "duration": 1376,
    "start_time": "2025-03-28T11:41:24.969Z"
   },
   {
    "duration": 18,
    "start_time": "2025-03-28T11:41:26.347Z"
   },
   {
    "duration": 43,
    "start_time": "2025-03-28T11:41:26.367Z"
   },
   {
    "duration": 4,
    "start_time": "2025-03-28T11:41:26.412Z"
   },
   {
    "duration": 37,
    "start_time": "2025-03-28T11:41:26.418Z"
   },
   {
    "duration": 201,
    "start_time": "2025-03-28T11:41:26.457Z"
   },
   {
    "duration": 1453,
    "start_time": "2025-03-28T11:41:26.664Z"
   },
   {
    "duration": 6,
    "start_time": "2025-03-28T11:41:28.119Z"
   },
   {
    "duration": 34,
    "start_time": "2025-03-28T11:41:28.127Z"
   },
   {
    "duration": 4,
    "start_time": "2025-03-28T11:41:28.162Z"
   },
   {
    "duration": 38,
    "start_time": "2025-03-28T11:41:28.168Z"
   },
   {
    "duration": 11,
    "start_time": "2025-03-28T11:41:28.208Z"
   },
   {
    "duration": 329,
    "start_time": "2025-03-28T11:41:28.221Z"
   },
   {
    "duration": 9,
    "start_time": "2025-03-28T11:41:28.551Z"
   },
   {
    "duration": 15,
    "start_time": "2025-03-28T11:41:28.562Z"
   },
   {
    "duration": 45,
    "start_time": "2025-03-28T11:41:28.578Z"
   },
   {
    "duration": 4,
    "start_time": "2025-03-28T11:41:28.625Z"
   },
   {
    "duration": 14,
    "start_time": "2025-03-28T11:41:28.630Z"
   },
   {
    "duration": 4,
    "start_time": "2025-03-28T11:41:28.645Z"
   },
   {
    "duration": 6,
    "start_time": "2025-03-28T11:41:28.650Z"
   },
   {
    "duration": 4,
    "start_time": "2025-03-28T11:41:28.658Z"
   },
   {
    "duration": 2359,
    "start_time": "2025-03-28T11:41:28.663Z"
   },
   {
    "duration": 16188,
    "start_time": "2025-03-28T11:41:31.024Z"
   },
   {
    "duration": 42,
    "start_time": "2025-03-28T11:41:47.214Z"
   },
   {
    "duration": 46,
    "start_time": "2025-03-28T11:41:47.258Z"
   },
   {
    "duration": 19,
    "start_time": "2025-03-28T11:41:47.306Z"
   },
   {
    "duration": 22,
    "start_time": "2025-03-28T11:41:47.327Z"
   },
   {
    "duration": 5,
    "start_time": "2025-03-28T11:41:47.351Z"
   },
   {
    "duration": 8,
    "start_time": "2025-03-28T11:41:47.358Z"
   },
   {
    "duration": 44,
    "start_time": "2025-03-28T11:41:47.368Z"
   },
   {
    "duration": 28,
    "start_time": "2025-03-28T11:41:47.414Z"
   },
   {
    "duration": 21,
    "start_time": "2025-03-28T11:41:47.444Z"
   },
   {
    "duration": 40,
    "start_time": "2025-03-28T11:41:47.466Z"
   },
   {
    "duration": 846,
    "start_time": "2025-03-28T11:41:47.508Z"
   },
   {
    "duration": 607,
    "start_time": "2025-03-28T11:41:48.355Z"
   },
   {
    "duration": 590,
    "start_time": "2025-03-28T11:41:48.963Z"
   },
   {
    "duration": 585,
    "start_time": "2025-03-28T11:41:49.555Z"
   },
   {
    "duration": 4,
    "start_time": "2025-03-28T11:41:50.142Z"
   },
   {
    "duration": 32,
    "start_time": "2025-03-28T11:41:50.148Z"
   },
   {
    "duration": 32,
    "start_time": "2025-03-28T11:41:50.181Z"
   },
   {
    "duration": 7,
    "start_time": "2025-03-28T11:41:50.214Z"
   },
   {
    "duration": 19,
    "start_time": "2025-03-28T11:41:50.222Z"
   },
   {
    "duration": 12,
    "start_time": "2025-03-28T11:41:50.243Z"
   },
   {
    "duration": 4,
    "start_time": "2025-03-28T11:41:50.256Z"
   },
   {
    "duration": 79,
    "start_time": "2025-03-28T11:41:50.261Z"
   },
   {
    "duration": 6,
    "start_time": "2025-03-28T11:41:50.342Z"
   },
   {
    "duration": 8,
    "start_time": "2025-03-28T11:41:50.350Z"
   },
   {
    "duration": 11,
    "start_time": "2025-03-28T11:41:50.359Z"
   },
   {
    "duration": 57,
    "start_time": "2025-03-28T11:41:50.372Z"
   },
   {
    "duration": 10,
    "start_time": "2025-03-28T11:41:50.431Z"
   },
   {
    "duration": 77,
    "start_time": "2025-03-28T11:41:50.443Z"
   },
   {
    "duration": 16757,
    "start_time": "2025-03-28T11:41:50.522Z"
   },
   {
    "duration": 31525,
    "start_time": "2025-03-28T11:42:07.281Z"
   },
   {
    "duration": 84,
    "start_time": "2025-03-28T11:42:38.808Z"
   },
   {
    "duration": 3,
    "start_time": "2025-03-28T11:42:38.904Z"
   },
   {
    "duration": 15,
    "start_time": "2025-03-28T11:42:38.909Z"
   },
   {
    "duration": 11075,
    "start_time": "2025-03-28T11:43:41.028Z"
   },
   {
    "duration": 928,
    "start_time": "2025-03-28T11:43:52.106Z"
   },
   {
    "duration": 3,
    "start_time": "2025-03-28T11:43:53.036Z"
   },
   {
    "duration": 254,
    "start_time": "2025-03-28T11:43:53.041Z"
   },
   {
    "duration": 1554,
    "start_time": "2025-03-28T11:43:53.296Z"
   },
   {
    "duration": 1102,
    "start_time": "2025-03-28T11:43:54.851Z"
   },
   {
    "duration": 5,
    "start_time": "2025-03-28T11:43:55.955Z"
   },
   {
    "duration": 8,
    "start_time": "2025-03-28T11:43:55.962Z"
   },
   {
    "duration": 14,
    "start_time": "2025-03-28T11:43:55.971Z"
   },
   {
    "duration": 38,
    "start_time": "2025-03-28T11:43:55.988Z"
   },
   {
    "duration": 114,
    "start_time": "2025-03-28T11:43:56.028Z"
   },
   {
    "duration": 105,
    "start_time": "2025-03-28T11:43:56.144Z"
   },
   {
    "duration": 24,
    "start_time": "2025-03-28T11:43:56.250Z"
   },
   {
    "duration": 209,
    "start_time": "2025-03-28T11:43:56.276Z"
   },
   {
    "duration": 933,
    "start_time": "2025-03-28T11:43:56.486Z"
   },
   {
    "duration": 272,
    "start_time": "2025-03-28T11:43:57.420Z"
   },
   {
    "duration": 540,
    "start_time": "2025-03-28T11:43:57.694Z"
   },
   {
    "duration": 13,
    "start_time": "2025-03-28T11:43:58.236Z"
   },
   {
    "duration": 34,
    "start_time": "2025-03-28T11:43:58.250Z"
   },
   {
    "duration": 11,
    "start_time": "2025-03-28T11:43:58.286Z"
   },
   {
    "duration": 209,
    "start_time": "2025-03-28T11:43:58.303Z"
   },
   {
    "duration": 1374,
    "start_time": "2025-03-28T11:43:58.514Z"
   },
   {
    "duration": 26,
    "start_time": "2025-03-28T11:43:59.890Z"
   },
   {
    "duration": 34,
    "start_time": "2025-03-28T11:43:59.917Z"
   },
   {
    "duration": 17,
    "start_time": "2025-03-28T11:43:59.953Z"
   },
   {
    "duration": 47,
    "start_time": "2025-03-28T11:43:59.971Z"
   },
   {
    "duration": 283,
    "start_time": "2025-03-28T11:44:00.020Z"
   },
   {
    "duration": 1396,
    "start_time": "2025-03-28T11:44:00.308Z"
   },
   {
    "duration": 5,
    "start_time": "2025-03-28T11:44:01.706Z"
   },
   {
    "duration": 42,
    "start_time": "2025-03-28T11:44:01.712Z"
   },
   {
    "duration": 3,
    "start_time": "2025-03-28T11:44:01.756Z"
   },
   {
    "duration": 30,
    "start_time": "2025-03-28T11:44:01.761Z"
   },
   {
    "duration": 46,
    "start_time": "2025-03-28T11:44:01.792Z"
   },
   {
    "duration": 335,
    "start_time": "2025-03-28T11:44:01.840Z"
   },
   {
    "duration": 9,
    "start_time": "2025-03-28T11:44:02.176Z"
   },
   {
    "duration": 30,
    "start_time": "2025-03-28T11:44:02.187Z"
   },
   {
    "duration": 42,
    "start_time": "2025-03-28T11:44:02.218Z"
   },
   {
    "duration": 27,
    "start_time": "2025-03-28T11:44:02.262Z"
   },
   {
    "duration": 44,
    "start_time": "2025-03-28T11:44:02.291Z"
   },
   {
    "duration": 4,
    "start_time": "2025-03-28T11:44:02.337Z"
   },
   {
    "duration": 6,
    "start_time": "2025-03-28T11:44:02.343Z"
   },
   {
    "duration": 8,
    "start_time": "2025-03-28T11:44:02.350Z"
   },
   {
    "duration": 2349,
    "start_time": "2025-03-28T11:44:02.359Z"
   },
   {
    "duration": 16578,
    "start_time": "2025-03-28T11:44:04.710Z"
   },
   {
    "duration": 46,
    "start_time": "2025-03-28T11:44:21.290Z"
   },
   {
    "duration": 37,
    "start_time": "2025-03-28T11:44:21.338Z"
   },
   {
    "duration": 44,
    "start_time": "2025-03-28T11:44:21.377Z"
   },
   {
    "duration": 28,
    "start_time": "2025-03-28T11:44:21.423Z"
   },
   {
    "duration": 31,
    "start_time": "2025-03-28T11:44:21.452Z"
   },
   {
    "duration": 29,
    "start_time": "2025-03-28T11:44:21.485Z"
   },
   {
    "duration": 29,
    "start_time": "2025-03-28T11:44:21.515Z"
   },
   {
    "duration": 30,
    "start_time": "2025-03-28T11:44:21.545Z"
   },
   {
    "duration": 32,
    "start_time": "2025-03-28T11:44:21.577Z"
   },
   {
    "duration": 30,
    "start_time": "2025-03-28T11:44:21.610Z"
   },
   {
    "duration": 817,
    "start_time": "2025-03-28T11:44:21.641Z"
   },
   {
    "duration": 660,
    "start_time": "2025-03-28T11:44:22.460Z"
   },
   {
    "duration": 622,
    "start_time": "2025-03-28T11:44:23.121Z"
   },
   {
    "duration": 575,
    "start_time": "2025-03-28T11:44:23.745Z"
   },
   {
    "duration": 5,
    "start_time": "2025-03-28T11:44:24.322Z"
   },
   {
    "duration": 52,
    "start_time": "2025-03-28T11:44:24.329Z"
   },
   {
    "duration": 31,
    "start_time": "2025-03-28T11:44:24.383Z"
   },
   {
    "duration": 9,
    "start_time": "2025-03-28T11:44:24.416Z"
   },
   {
    "duration": 10,
    "start_time": "2025-03-28T11:44:24.426Z"
   },
   {
    "duration": 19,
    "start_time": "2025-03-28T11:44:24.437Z"
   },
   {
    "duration": 28,
    "start_time": "2025-03-28T11:44:24.458Z"
   },
   {
    "duration": 28,
    "start_time": "2025-03-28T11:44:24.487Z"
   },
   {
    "duration": 6,
    "start_time": "2025-03-28T11:44:24.516Z"
   },
   {
    "duration": 31,
    "start_time": "2025-03-28T11:44:24.524Z"
   },
   {
    "duration": 18,
    "start_time": "2025-03-28T11:44:24.556Z"
   },
   {
    "duration": 56,
    "start_time": "2025-03-28T11:44:24.576Z"
   },
   {
    "duration": 11,
    "start_time": "2025-03-28T11:44:24.634Z"
   },
   {
    "duration": 81,
    "start_time": "2025-03-28T11:44:24.647Z"
   },
   {
    "duration": 17088,
    "start_time": "2025-03-28T11:44:24.729Z"
   },
   {
    "duration": 32914,
    "start_time": "2025-03-28T11:44:41.818Z"
   },
   {
    "duration": 97,
    "start_time": "2025-03-28T11:45:14.735Z"
   },
   {
    "duration": 3,
    "start_time": "2025-03-28T11:45:14.833Z"
   },
   {
    "duration": 16,
    "start_time": "2025-03-28T11:45:14.838Z"
   },
   {
    "duration": 11523,
    "start_time": "2025-03-28T12:26:25.481Z"
   },
   {
    "duration": 118,
    "start_time": "2025-03-28T12:27:13.610Z"
   },
   {
    "duration": 9706,
    "start_time": "2025-03-28T12:27:18.556Z"
   },
   {
    "duration": 1163,
    "start_time": "2025-03-28T12:27:28.265Z"
   },
   {
    "duration": 3,
    "start_time": "2025-03-28T12:27:29.430Z"
   },
   {
    "duration": 340,
    "start_time": "2025-03-28T12:27:29.435Z"
   },
   {
    "duration": 1580,
    "start_time": "2025-03-28T12:27:29.777Z"
   },
   {
    "duration": 1160,
    "start_time": "2025-03-28T12:27:31.359Z"
   },
   {
    "duration": 5,
    "start_time": "2025-03-28T12:27:32.521Z"
   },
   {
    "duration": 97,
    "start_time": "2025-03-28T12:27:32.527Z"
   },
   {
    "duration": 84,
    "start_time": "2025-03-28T12:27:32.627Z"
   },
   {
    "duration": 57,
    "start_time": "2025-03-28T12:27:32.713Z"
   },
   {
    "duration": 96,
    "start_time": "2025-03-28T12:27:32.772Z"
   },
   {
    "duration": 97,
    "start_time": "2025-03-28T12:27:32.870Z"
   },
   {
    "duration": 23,
    "start_time": "2025-03-28T12:27:32.968Z"
   },
   {
    "duration": 229,
    "start_time": "2025-03-28T12:27:33.003Z"
   },
   {
    "duration": 889,
    "start_time": "2025-03-28T12:27:33.233Z"
   },
   {
    "duration": 273,
    "start_time": "2025-03-28T12:27:34.124Z"
   },
   {
    "duration": 578,
    "start_time": "2025-03-28T12:27:34.404Z"
   },
   {
    "duration": 13,
    "start_time": "2025-03-28T12:27:34.983Z"
   },
   {
    "duration": 52,
    "start_time": "2025-03-28T12:27:34.998Z"
   },
   {
    "duration": 31,
    "start_time": "2025-03-28T12:27:35.052Z"
   },
   {
    "duration": 245,
    "start_time": "2025-03-28T12:27:35.085Z"
   },
   {
    "duration": 1373,
    "start_time": "2025-03-28T12:27:35.332Z"
   },
   {
    "duration": 20,
    "start_time": "2025-03-28T12:27:36.707Z"
   },
   {
    "duration": 46,
    "start_time": "2025-03-28T12:27:36.729Z"
   },
   {
    "duration": 16,
    "start_time": "2025-03-28T12:27:36.776Z"
   },
   {
    "duration": 56,
    "start_time": "2025-03-28T12:27:36.793Z"
   },
   {
    "duration": 215,
    "start_time": "2025-03-28T12:27:36.850Z"
   },
   {
    "duration": 1444,
    "start_time": "2025-03-28T12:27:37.069Z"
   },
   {
    "duration": 6,
    "start_time": "2025-03-28T12:27:38.514Z"
   },
   {
    "duration": 41,
    "start_time": "2025-03-28T12:27:38.522Z"
   },
   {
    "duration": 18,
    "start_time": "2025-03-28T12:27:38.564Z"
   },
   {
    "duration": 33,
    "start_time": "2025-03-28T12:27:38.583Z"
   },
   {
    "duration": 22,
    "start_time": "2025-03-28T12:27:38.618Z"
   },
   {
    "duration": 337,
    "start_time": "2025-03-28T12:27:38.642Z"
   },
   {
    "duration": 9,
    "start_time": "2025-03-28T12:27:38.981Z"
   },
   {
    "duration": 39,
    "start_time": "2025-03-28T12:27:38.992Z"
   },
   {
    "duration": 38,
    "start_time": "2025-03-28T12:27:39.033Z"
   },
   {
    "duration": 4,
    "start_time": "2025-03-28T12:27:39.074Z"
   },
   {
    "duration": 42,
    "start_time": "2025-03-28T12:27:39.080Z"
   },
   {
    "duration": 13,
    "start_time": "2025-03-28T12:27:39.124Z"
   },
   {
    "duration": 20,
    "start_time": "2025-03-28T12:27:39.138Z"
   },
   {
    "duration": 23,
    "start_time": "2025-03-28T12:27:39.160Z"
   },
   {
    "duration": 2455,
    "start_time": "2025-03-28T12:27:39.185Z"
   },
   {
    "duration": 16346,
    "start_time": "2025-03-28T12:27:41.642Z"
   },
   {
    "duration": 48,
    "start_time": "2025-03-28T12:27:57.990Z"
   },
   {
    "duration": 35,
    "start_time": "2025-03-28T12:27:58.040Z"
   },
   {
    "duration": 41,
    "start_time": "2025-03-28T12:27:58.076Z"
   },
   {
    "duration": 23,
    "start_time": "2025-03-28T12:27:58.119Z"
   },
   {
    "duration": 6,
    "start_time": "2025-03-28T12:27:58.143Z"
   },
   {
    "duration": 6,
    "start_time": "2025-03-28T12:27:58.150Z"
   },
   {
    "duration": 49,
    "start_time": "2025-03-28T12:27:58.157Z"
   },
   {
    "duration": 28,
    "start_time": "2025-03-28T12:27:58.208Z"
   },
   {
    "duration": 27,
    "start_time": "2025-03-28T12:27:58.238Z"
   },
   {
    "duration": 37,
    "start_time": "2025-03-28T12:27:58.266Z"
   },
   {
    "duration": 821,
    "start_time": "2025-03-28T12:27:58.304Z"
   },
   {
    "duration": 624,
    "start_time": "2025-03-28T12:27:59.127Z"
   },
   {
    "duration": 631,
    "start_time": "2025-03-28T12:27:59.753Z"
   },
   {
    "duration": 576,
    "start_time": "2025-03-28T12:28:00.385Z"
   },
   {
    "duration": 5,
    "start_time": "2025-03-28T12:28:00.964Z"
   },
   {
    "duration": 41,
    "start_time": "2025-03-28T12:28:00.971Z"
   },
   {
    "duration": 38,
    "start_time": "2025-03-28T12:28:01.014Z"
   },
   {
    "duration": 9,
    "start_time": "2025-03-28T12:28:01.053Z"
   },
   {
    "duration": 29,
    "start_time": "2025-03-28T12:28:01.064Z"
   },
   {
    "duration": 50,
    "start_time": "2025-03-28T12:28:01.095Z"
   },
   {
    "duration": 46,
    "start_time": "2025-03-28T12:28:01.147Z"
   },
   {
    "duration": 28,
    "start_time": "2025-03-28T12:28:01.194Z"
   },
   {
    "duration": 21,
    "start_time": "2025-03-28T12:28:01.223Z"
   },
   {
    "duration": 29,
    "start_time": "2025-03-28T12:28:01.246Z"
   },
   {
    "duration": 43,
    "start_time": "2025-03-28T12:28:01.276Z"
   },
   {
    "duration": 66,
    "start_time": "2025-03-28T12:28:01.321Z"
   },
   {
    "duration": 11,
    "start_time": "2025-03-28T12:28:01.389Z"
   },
   {
    "duration": 96,
    "start_time": "2025-03-28T12:28:01.402Z"
   },
   {
    "duration": 16760,
    "start_time": "2025-03-28T12:28:01.500Z"
   },
   {
    "duration": 31799,
    "start_time": "2025-03-28T12:28:18.261Z"
   },
   {
    "duration": 101,
    "start_time": "2025-03-28T12:28:50.061Z"
   },
   {
    "duration": 3,
    "start_time": "2025-03-28T12:28:50.164Z"
   },
   {
    "duration": 5,
    "start_time": "2025-03-28T12:28:50.169Z"
   },
   {
    "duration": 25382,
    "start_time": "2025-03-28T12:28:50.175Z"
   },
   {
    "duration": 0,
    "start_time": "2025-03-28T12:29:15.559Z"
   },
   {
    "duration": 0,
    "start_time": "2025-03-28T12:29:15.560Z"
   },
   {
    "duration": 0,
    "start_time": "2025-03-28T12:29:15.562Z"
   },
   {
    "duration": 0,
    "start_time": "2025-03-28T12:29:15.562Z"
   },
   {
    "duration": 0,
    "start_time": "2025-03-28T12:29:15.564Z"
   },
   {
    "duration": 0,
    "start_time": "2025-03-28T12:29:15.565Z"
   },
   {
    "duration": 0,
    "start_time": "2025-03-28T12:29:15.566Z"
   },
   {
    "duration": 7,
    "start_time": "2025-03-28T12:34:27.927Z"
   },
   {
    "duration": 9,
    "start_time": "2025-03-28T12:34:53.640Z"
   },
   {
    "duration": 9,
    "start_time": "2025-03-28T12:35:04.050Z"
   },
   {
    "duration": 10,
    "start_time": "2025-03-28T12:35:12.183Z"
   },
   {
    "duration": 25,
    "start_time": "2025-03-28T12:39:24.591Z"
   },
   {
    "duration": 7975,
    "start_time": "2025-03-28T12:39:42.839Z"
   },
   {
    "duration": 6053,
    "start_time": "2025-03-28T12:39:54.878Z"
   },
   {
    "duration": 4,
    "start_time": "2025-03-28T12:40:06.581Z"
   },
   {
    "duration": 25025,
    "start_time": "2025-03-28T12:40:17.286Z"
   },
   {
    "duration": 120,
    "start_time": "2025-03-28T12:57:48.583Z"
   },
   {
    "duration": 11089,
    "start_time": "2025-03-28T13:04:39.073Z"
   },
   {
    "duration": 1034,
    "start_time": "2025-03-28T13:04:50.165Z"
   },
   {
    "duration": 4,
    "start_time": "2025-03-28T13:04:51.204Z"
   },
   {
    "duration": 324,
    "start_time": "2025-03-28T13:04:51.209Z"
   },
   {
    "duration": 1686,
    "start_time": "2025-03-28T13:04:51.535Z"
   },
   {
    "duration": 1134,
    "start_time": "2025-03-28T13:04:53.223Z"
   },
   {
    "duration": 4,
    "start_time": "2025-03-28T13:04:54.359Z"
   },
   {
    "duration": 78,
    "start_time": "2025-03-28T13:04:54.364Z"
   },
   {
    "duration": 83,
    "start_time": "2025-03-28T13:04:54.444Z"
   },
   {
    "duration": 55,
    "start_time": "2025-03-28T13:04:54.530Z"
   },
   {
    "duration": 112,
    "start_time": "2025-03-28T13:04:54.586Z"
   },
   {
    "duration": 42,
    "start_time": "2025-03-28T13:04:54.700Z"
   },
   {
    "duration": 111,
    "start_time": "2025-03-28T13:04:54.744Z"
   },
   {
    "duration": 25,
    "start_time": "2025-03-28T13:04:54.857Z"
   },
   {
    "duration": 215,
    "start_time": "2025-03-28T13:04:54.883Z"
   },
   {
    "duration": 907,
    "start_time": "2025-03-28T13:04:55.099Z"
   },
   {
    "duration": 246,
    "start_time": "2025-03-28T13:04:56.008Z"
   },
   {
    "duration": 521,
    "start_time": "2025-03-28T13:04:56.256Z"
   },
   {
    "duration": 12,
    "start_time": "2025-03-28T13:04:56.779Z"
   },
   {
    "duration": 20,
    "start_time": "2025-03-28T13:04:56.803Z"
   },
   {
    "duration": 9,
    "start_time": "2025-03-28T13:04:56.824Z"
   },
   {
    "duration": 245,
    "start_time": "2025-03-28T13:04:56.835Z"
   },
   {
    "duration": 1471,
    "start_time": "2025-03-28T13:04:57.082Z"
   },
   {
    "duration": 22,
    "start_time": "2025-03-28T13:04:58.556Z"
   },
   {
    "duration": 42,
    "start_time": "2025-03-28T13:04:58.580Z"
   },
   {
    "duration": 14,
    "start_time": "2025-03-28T13:04:58.624Z"
   },
   {
    "duration": 58,
    "start_time": "2025-03-28T13:04:58.640Z"
   },
   {
    "duration": 215,
    "start_time": "2025-03-28T13:04:58.702Z"
   },
   {
    "duration": 1486,
    "start_time": "2025-03-28T13:04:58.918Z"
   },
   {
    "duration": 6,
    "start_time": "2025-03-28T13:05:00.405Z"
   },
   {
    "duration": 148,
    "start_time": "2025-03-28T13:05:00.412Z"
   },
   {
    "duration": 4,
    "start_time": "2025-03-28T13:05:00.562Z"
   },
   {
    "duration": 67,
    "start_time": "2025-03-28T13:05:00.567Z"
   },
   {
    "duration": 21,
    "start_time": "2025-03-28T13:05:00.636Z"
   },
   {
    "duration": 357,
    "start_time": "2025-03-28T13:05:00.658Z"
   },
   {
    "duration": 9,
    "start_time": "2025-03-28T13:05:01.017Z"
   },
   {
    "duration": 48,
    "start_time": "2025-03-28T13:05:01.028Z"
   },
   {
    "duration": 49,
    "start_time": "2025-03-28T13:05:01.077Z"
   },
   {
    "duration": 5,
    "start_time": "2025-03-28T13:05:01.127Z"
   },
   {
    "duration": 54,
    "start_time": "2025-03-28T13:05:01.134Z"
   },
   {
    "duration": 52,
    "start_time": "2025-03-28T13:05:01.190Z"
   },
   {
    "duration": 47,
    "start_time": "2025-03-28T13:05:01.244Z"
   },
   {
    "duration": 83,
    "start_time": "2025-03-28T13:05:01.293Z"
   },
   {
    "duration": 2645,
    "start_time": "2025-03-28T13:05:01.377Z"
   },
   {
    "duration": 17112,
    "start_time": "2025-03-28T13:05:04.024Z"
   },
   {
    "duration": 45,
    "start_time": "2025-03-28T13:05:21.138Z"
   },
   {
    "duration": 38,
    "start_time": "2025-03-28T13:05:21.184Z"
   },
   {
    "duration": 31,
    "start_time": "2025-03-28T13:05:21.223Z"
   },
   {
    "duration": 31,
    "start_time": "2025-03-28T13:05:21.256Z"
   },
   {
    "duration": 9,
    "start_time": "2025-03-28T13:05:21.288Z"
   },
   {
    "duration": 11,
    "start_time": "2025-03-28T13:05:21.303Z"
   },
   {
    "duration": 57,
    "start_time": "2025-03-28T13:05:21.316Z"
   },
   {
    "duration": 110,
    "start_time": "2025-03-28T13:05:21.374Z"
   },
   {
    "duration": 49,
    "start_time": "2025-03-28T13:05:21.486Z"
   },
   {
    "duration": 86,
    "start_time": "2025-03-28T13:05:21.537Z"
   },
   {
    "duration": 696,
    "start_time": "2025-03-28T13:05:21.624Z"
   },
   {
    "duration": 636,
    "start_time": "2025-03-28T13:05:22.322Z"
   },
   {
    "duration": 620,
    "start_time": "2025-03-28T13:05:22.960Z"
   },
   {
    "duration": 575,
    "start_time": "2025-03-28T13:05:23.581Z"
   },
   {
    "duration": 4,
    "start_time": "2025-03-28T13:05:24.157Z"
   },
   {
    "duration": 6,
    "start_time": "2025-03-28T13:05:24.162Z"
   },
   {
    "duration": 45,
    "start_time": "2025-03-28T13:05:24.169Z"
   },
   {
    "duration": 5,
    "start_time": "2025-03-28T13:05:24.216Z"
   },
   {
    "duration": 13,
    "start_time": "2025-03-28T13:05:24.223Z"
   },
   {
    "duration": 10,
    "start_time": "2025-03-28T13:05:24.238Z"
   },
   {
    "duration": 3,
    "start_time": "2025-03-28T13:05:24.250Z"
   },
   {
    "duration": 6,
    "start_time": "2025-03-28T13:05:24.255Z"
   },
   {
    "duration": 6,
    "start_time": "2025-03-28T13:05:24.263Z"
   },
   {
    "duration": 8,
    "start_time": "2025-03-28T13:05:24.303Z"
   },
   {
    "duration": 2,
    "start_time": "2025-03-28T13:05:24.313Z"
   },
   {
    "duration": 45,
    "start_time": "2025-03-28T13:05:24.316Z"
   },
   {
    "duration": 10,
    "start_time": "2025-03-28T13:05:24.363Z"
   },
   {
    "duration": 85,
    "start_time": "2025-03-28T13:05:24.374Z"
   },
   {
    "duration": 17078,
    "start_time": "2025-03-28T13:05:24.461Z"
   },
   {
    "duration": 31247,
    "start_time": "2025-03-28T13:05:41.540Z"
   },
   {
    "duration": 73,
    "start_time": "2025-03-28T13:06:12.788Z"
   },
   {
    "duration": 3,
    "start_time": "2025-03-28T13:06:12.862Z"
   },
   {
    "duration": 28,
    "start_time": "2025-03-28T13:06:12.866Z"
   },
   {
    "duration": 32,
    "start_time": "2025-03-28T13:06:12.896Z"
   },
   {
    "duration": 21473,
    "start_time": "2025-03-28T13:06:12.930Z"
   },
   {
    "duration": 0,
    "start_time": "2025-03-28T13:06:34.405Z"
   },
   {
    "duration": 0,
    "start_time": "2025-03-28T13:06:34.407Z"
   },
   {
    "duration": 0,
    "start_time": "2025-03-28T13:06:34.407Z"
   },
   {
    "duration": 0,
    "start_time": "2025-03-28T13:06:34.409Z"
   },
   {
    "duration": 0,
    "start_time": "2025-03-28T13:06:34.410Z"
   },
   {
    "duration": 0,
    "start_time": "2025-03-28T13:06:34.411Z"
   },
   {
    "duration": 0,
    "start_time": "2025-03-28T13:06:34.412Z"
   },
   {
    "duration": 11,
    "start_time": "2025-03-28T13:08:04.685Z"
   },
   {
    "duration": 9766,
    "start_time": "2025-03-28T13:08:41.686Z"
   },
   {
    "duration": 991,
    "start_time": "2025-03-28T13:08:51.454Z"
   },
   {
    "duration": 4,
    "start_time": "2025-03-28T13:08:52.446Z"
   },
   {
    "duration": 277,
    "start_time": "2025-03-28T13:08:52.452Z"
   },
   {
    "duration": 1599,
    "start_time": "2025-03-28T13:08:52.730Z"
   },
   {
    "duration": 1796,
    "start_time": "2025-03-28T13:08:54.331Z"
   },
   {
    "duration": 4,
    "start_time": "2025-03-28T13:08:56.128Z"
   },
   {
    "duration": 17,
    "start_time": "2025-03-28T13:08:56.133Z"
   },
   {
    "duration": 53,
    "start_time": "2025-03-28T13:08:56.152Z"
   },
   {
    "duration": 27,
    "start_time": "2025-03-28T13:08:56.208Z"
   },
   {
    "duration": 111,
    "start_time": "2025-03-28T13:08:56.236Z"
   },
   {
    "duration": 2,
    "start_time": "2025-03-28T13:08:56.348Z"
   },
   {
    "duration": 108,
    "start_time": "2025-03-28T13:08:56.352Z"
   },
   {
    "duration": 24,
    "start_time": "2025-03-28T13:08:56.461Z"
   },
   {
    "duration": 211,
    "start_time": "2025-03-28T13:08:56.487Z"
   },
   {
    "duration": 948,
    "start_time": "2025-03-28T13:08:56.704Z"
   },
   {
    "duration": 272,
    "start_time": "2025-03-28T13:08:57.654Z"
   },
   {
    "duration": 547,
    "start_time": "2025-03-28T13:08:57.927Z"
   },
   {
    "duration": 12,
    "start_time": "2025-03-28T13:08:58.475Z"
   },
   {
    "duration": 42,
    "start_time": "2025-03-28T13:08:58.488Z"
   },
   {
    "duration": 9,
    "start_time": "2025-03-28T13:08:58.531Z"
   },
   {
    "duration": 235,
    "start_time": "2025-03-28T13:08:58.542Z"
   },
   {
    "duration": 1404,
    "start_time": "2025-03-28T13:08:58.779Z"
   },
   {
    "duration": 28,
    "start_time": "2025-03-28T13:09:00.185Z"
   },
   {
    "duration": 60,
    "start_time": "2025-03-28T13:09:00.214Z"
   },
   {
    "duration": 15,
    "start_time": "2025-03-28T13:09:00.276Z"
   },
   {
    "duration": 64,
    "start_time": "2025-03-28T13:09:00.293Z"
   },
   {
    "duration": 229,
    "start_time": "2025-03-28T13:09:00.361Z"
   },
   {
    "duration": 1539,
    "start_time": "2025-03-28T13:09:00.592Z"
   },
   {
    "duration": 5,
    "start_time": "2025-03-28T13:09:02.133Z"
   },
   {
    "duration": 77,
    "start_time": "2025-03-28T13:09:02.139Z"
   },
   {
    "duration": 8,
    "start_time": "2025-03-28T13:09:02.217Z"
   },
   {
    "duration": 66,
    "start_time": "2025-03-28T13:09:02.227Z"
   },
   {
    "duration": 53,
    "start_time": "2025-03-28T13:09:02.295Z"
   },
   {
    "duration": 405,
    "start_time": "2025-03-28T13:09:02.349Z"
   },
   {
    "duration": 9,
    "start_time": "2025-03-28T13:09:02.756Z"
   },
   {
    "duration": 41,
    "start_time": "2025-03-28T13:09:02.766Z"
   },
   {
    "duration": 61,
    "start_time": "2025-03-28T13:09:02.809Z"
   },
   {
    "duration": 54,
    "start_time": "2025-03-28T13:09:02.872Z"
   },
   {
    "duration": 39,
    "start_time": "2025-03-28T13:09:02.928Z"
   },
   {
    "duration": 49,
    "start_time": "2025-03-28T13:09:02.969Z"
   },
   {
    "duration": 32,
    "start_time": "2025-03-28T13:09:03.020Z"
   },
   {
    "duration": 13,
    "start_time": "2025-03-28T13:09:03.053Z"
   },
   {
    "duration": 2578,
    "start_time": "2025-03-28T13:09:03.068Z"
   },
   {
    "duration": 9726,
    "start_time": "2025-03-28T13:09:13.783Z"
   },
   {
    "duration": 938,
    "start_time": "2025-03-28T13:09:23.511Z"
   },
   {
    "duration": 3,
    "start_time": "2025-03-28T13:09:24.451Z"
   },
   {
    "duration": 300,
    "start_time": "2025-03-28T13:09:24.456Z"
   },
   {
    "duration": 1593,
    "start_time": "2025-03-28T13:09:24.758Z"
   },
   {
    "duration": 1124,
    "start_time": "2025-03-28T13:09:26.353Z"
   },
   {
    "duration": 5,
    "start_time": "2025-03-28T13:09:27.478Z"
   },
   {
    "duration": 16,
    "start_time": "2025-03-28T13:09:27.484Z"
   },
   {
    "duration": 34,
    "start_time": "2025-03-28T13:09:27.504Z"
   },
   {
    "duration": 33,
    "start_time": "2025-03-28T13:09:27.540Z"
   },
   {
    "duration": 97,
    "start_time": "2025-03-28T13:09:27.575Z"
   },
   {
    "duration": 2,
    "start_time": "2025-03-28T13:09:27.674Z"
   },
   {
    "duration": 123,
    "start_time": "2025-03-28T13:09:27.677Z"
   },
   {
    "duration": 23,
    "start_time": "2025-03-28T13:09:27.804Z"
   },
   {
    "duration": 199,
    "start_time": "2025-03-28T13:09:27.829Z"
   },
   {
    "duration": 883,
    "start_time": "2025-03-28T13:09:28.030Z"
   },
   {
    "duration": 274,
    "start_time": "2025-03-28T13:09:28.915Z"
   },
   {
    "duration": 558,
    "start_time": "2025-03-28T13:09:29.191Z"
   },
   {
    "duration": 14,
    "start_time": "2025-03-28T13:09:29.751Z"
   },
   {
    "duration": 43,
    "start_time": "2025-03-28T13:09:29.768Z"
   },
   {
    "duration": 11,
    "start_time": "2025-03-28T13:09:29.812Z"
   },
   {
    "duration": 251,
    "start_time": "2025-03-28T13:09:29.825Z"
   },
   {
    "duration": 1404,
    "start_time": "2025-03-28T13:09:30.078Z"
   },
   {
    "duration": 28,
    "start_time": "2025-03-28T13:09:31.484Z"
   },
   {
    "duration": 27,
    "start_time": "2025-03-28T13:09:31.513Z"
   },
   {
    "duration": 3,
    "start_time": "2025-03-28T13:09:31.542Z"
   },
   {
    "duration": 18,
    "start_time": "2025-03-28T13:09:31.547Z"
   },
   {
    "duration": 238,
    "start_time": "2025-03-28T13:09:31.569Z"
   },
   {
    "duration": 1469,
    "start_time": "2025-03-28T13:09:31.808Z"
   },
   {
    "duration": 6,
    "start_time": "2025-03-28T13:09:33.279Z"
   },
   {
    "duration": 53,
    "start_time": "2025-03-28T13:09:33.286Z"
   },
   {
    "duration": 3,
    "start_time": "2025-03-28T13:09:33.341Z"
   },
   {
    "duration": 23,
    "start_time": "2025-03-28T13:09:33.346Z"
   },
   {
    "duration": 16,
    "start_time": "2025-03-28T13:09:33.371Z"
   },
   {
    "duration": 337,
    "start_time": "2025-03-28T13:09:33.389Z"
   },
   {
    "duration": 10,
    "start_time": "2025-03-28T13:09:33.728Z"
   },
   {
    "duration": 19,
    "start_time": "2025-03-28T13:09:33.739Z"
   },
   {
    "duration": 25,
    "start_time": "2025-03-28T13:09:33.760Z"
   },
   {
    "duration": 19,
    "start_time": "2025-03-28T13:09:33.786Z"
   },
   {
    "duration": 31,
    "start_time": "2025-03-28T13:09:33.807Z"
   },
   {
    "duration": 9,
    "start_time": "2025-03-28T13:09:33.839Z"
   },
   {
    "duration": 9,
    "start_time": "2025-03-28T13:09:33.849Z"
   },
   {
    "duration": 19,
    "start_time": "2025-03-28T13:09:33.860Z"
   },
   {
    "duration": 2365,
    "start_time": "2025-03-28T13:09:33.880Z"
   },
   {
    "duration": 16491,
    "start_time": "2025-03-28T13:09:36.246Z"
   },
   {
    "duration": 37,
    "start_time": "2025-03-28T13:09:52.738Z"
   },
   {
    "duration": 50,
    "start_time": "2025-03-28T13:09:52.776Z"
   },
   {
    "duration": 67,
    "start_time": "2025-03-28T13:09:52.827Z"
   },
   {
    "duration": 38,
    "start_time": "2025-03-28T13:09:52.896Z"
   },
   {
    "duration": 23,
    "start_time": "2025-03-28T13:09:52.936Z"
   },
   {
    "duration": 24,
    "start_time": "2025-03-28T13:09:52.960Z"
   },
   {
    "duration": 49,
    "start_time": "2025-03-28T13:09:52.986Z"
   },
   {
    "duration": 50,
    "start_time": "2025-03-28T13:09:53.036Z"
   },
   {
    "duration": 40,
    "start_time": "2025-03-28T13:09:53.088Z"
   },
   {
    "duration": 25,
    "start_time": "2025-03-28T13:09:53.130Z"
   },
   {
    "duration": 617,
    "start_time": "2025-03-28T13:09:53.157Z"
   },
   {
    "duration": 615,
    "start_time": "2025-03-28T13:09:53.776Z"
   },
   {
    "duration": 613,
    "start_time": "2025-03-28T13:09:54.393Z"
   },
   {
    "duration": 578,
    "start_time": "2025-03-28T13:09:55.007Z"
   },
   {
    "duration": 4,
    "start_time": "2025-03-28T13:09:55.587Z"
   },
   {
    "duration": 130,
    "start_time": "2025-03-28T13:09:55.592Z"
   },
   {
    "duration": 64,
    "start_time": "2025-03-28T13:09:55.725Z"
   },
   {
    "duration": 6,
    "start_time": "2025-03-28T13:09:55.791Z"
   },
   {
    "duration": 32,
    "start_time": "2025-03-28T13:09:55.799Z"
   },
   {
    "duration": 14,
    "start_time": "2025-03-28T13:09:55.833Z"
   },
   {
    "duration": 14,
    "start_time": "2025-03-28T13:09:55.849Z"
   },
   {
    "duration": 15,
    "start_time": "2025-03-28T13:09:55.865Z"
   },
   {
    "duration": 12,
    "start_time": "2025-03-28T13:09:55.881Z"
   },
   {
    "duration": 22,
    "start_time": "2025-03-28T13:09:55.895Z"
   },
   {
    "duration": 28,
    "start_time": "2025-03-28T13:09:55.918Z"
   },
   {
    "duration": 65,
    "start_time": "2025-03-28T13:09:55.948Z"
   },
   {
    "duration": 11,
    "start_time": "2025-03-28T13:09:56.014Z"
   },
   {
    "duration": 86,
    "start_time": "2025-03-28T13:09:56.026Z"
   },
   {
    "duration": 6457,
    "start_time": "2025-03-28T13:09:56.113Z"
   },
   {
    "duration": 9918,
    "start_time": "2025-03-28T13:10:02.572Z"
   },
   {
    "duration": 87,
    "start_time": "2025-03-28T13:10:12.492Z"
   },
   {
    "duration": 11,
    "start_time": "2025-03-28T13:10:12.581Z"
   },
   {
    "duration": 11,
    "start_time": "2025-03-28T13:10:12.594Z"
   },
   {
    "duration": 11,
    "start_time": "2025-03-28T13:10:12.607Z"
   },
   {
    "duration": 8,
    "start_time": "2025-03-28T13:10:12.620Z"
   },
   {
    "duration": 23296,
    "start_time": "2025-03-28T13:10:12.630Z"
   },
   {
    "duration": 0,
    "start_time": "2025-03-28T13:10:35.927Z"
   },
   {
    "duration": 0,
    "start_time": "2025-03-28T13:10:35.929Z"
   },
   {
    "duration": 0,
    "start_time": "2025-03-28T13:10:35.930Z"
   },
   {
    "duration": 0,
    "start_time": "2025-03-28T13:10:35.931Z"
   },
   {
    "duration": 0,
    "start_time": "2025-03-28T13:10:35.932Z"
   },
   {
    "duration": 0,
    "start_time": "2025-03-28T13:10:35.933Z"
   },
   {
    "duration": 0,
    "start_time": "2025-03-28T13:10:35.934Z"
   },
   {
    "duration": 10,
    "start_time": "2025-03-28T13:12:16.157Z"
   },
   {
    "duration": 67,
    "start_time": "2025-03-28T13:13:37.211Z"
   },
   {
    "duration": 5,
    "start_time": "2025-03-28T13:13:52.356Z"
   },
   {
    "duration": 17246,
    "start_time": "2025-03-28T13:13:57.602Z"
   },
   {
    "duration": 9860,
    "start_time": "2025-03-28T14:35:19.214Z"
   },
   {
    "duration": 1032,
    "start_time": "2025-03-28T14:35:29.076Z"
   },
   {
    "duration": 4,
    "start_time": "2025-03-28T14:35:30.109Z"
   },
   {
    "duration": 258,
    "start_time": "2025-03-28T14:35:30.115Z"
   },
   {
    "duration": 1650,
    "start_time": "2025-03-28T14:35:30.374Z"
   },
   {
    "duration": 1269,
    "start_time": "2025-03-28T14:35:32.026Z"
   },
   {
    "duration": 8,
    "start_time": "2025-03-28T14:35:33.297Z"
   },
   {
    "duration": 19,
    "start_time": "2025-03-28T14:35:33.307Z"
   },
   {
    "duration": 14,
    "start_time": "2025-03-28T14:35:33.328Z"
   },
   {
    "duration": 23,
    "start_time": "2025-03-28T14:35:33.344Z"
   },
   {
    "duration": 105,
    "start_time": "2025-03-28T14:35:33.368Z"
   },
   {
    "duration": 3,
    "start_time": "2025-03-28T14:35:33.475Z"
   },
   {
    "duration": 104,
    "start_time": "2025-03-28T14:35:33.479Z"
   },
   {
    "duration": 27,
    "start_time": "2025-03-28T14:35:33.584Z"
   },
   {
    "duration": 207,
    "start_time": "2025-03-28T14:35:33.613Z"
   },
   {
    "duration": 930,
    "start_time": "2025-03-28T14:35:33.823Z"
   },
   {
    "duration": 238,
    "start_time": "2025-03-28T14:35:34.755Z"
   },
   {
    "duration": 529,
    "start_time": "2025-03-28T14:35:34.995Z"
   },
   {
    "duration": 13,
    "start_time": "2025-03-28T14:35:35.525Z"
   },
   {
    "duration": 22,
    "start_time": "2025-03-28T14:35:35.540Z"
   },
   {
    "duration": 10,
    "start_time": "2025-03-28T14:35:35.563Z"
   },
   {
    "duration": 237,
    "start_time": "2025-03-28T14:35:35.574Z"
   },
   {
    "duration": 1372,
    "start_time": "2025-03-28T14:35:35.813Z"
   },
   {
    "duration": 32,
    "start_time": "2025-03-28T14:35:37.187Z"
   },
   {
    "duration": 45,
    "start_time": "2025-03-28T14:35:37.221Z"
   },
   {
    "duration": 7,
    "start_time": "2025-03-28T14:35:37.268Z"
   },
   {
    "duration": 74,
    "start_time": "2025-03-28T14:35:37.276Z"
   },
   {
    "duration": 216,
    "start_time": "2025-03-28T14:35:37.356Z"
   },
   {
    "duration": 1529,
    "start_time": "2025-03-28T14:35:37.574Z"
   },
   {
    "duration": 7,
    "start_time": "2025-03-28T14:35:39.105Z"
   },
   {
    "duration": 63,
    "start_time": "2025-03-28T14:35:39.114Z"
   },
   {
    "duration": 4,
    "start_time": "2025-03-28T14:35:39.179Z"
   },
   {
    "duration": 35,
    "start_time": "2025-03-28T14:35:39.185Z"
   },
   {
    "duration": 12,
    "start_time": "2025-03-28T14:35:39.222Z"
   },
   {
    "duration": 343,
    "start_time": "2025-03-28T14:35:39.236Z"
   },
   {
    "duration": 9,
    "start_time": "2025-03-28T14:35:39.580Z"
   },
   {
    "duration": 27,
    "start_time": "2025-03-28T14:35:39.591Z"
   },
   {
    "duration": 25,
    "start_time": "2025-03-28T14:35:39.620Z"
   },
   {
    "duration": 4,
    "start_time": "2025-03-28T14:35:39.647Z"
   },
   {
    "duration": 16,
    "start_time": "2025-03-28T14:35:39.653Z"
   },
   {
    "duration": 3,
    "start_time": "2025-03-28T14:35:39.671Z"
   },
   {
    "duration": 4,
    "start_time": "2025-03-28T14:35:39.704Z"
   },
   {
    "duration": 16,
    "start_time": "2025-03-28T14:35:39.710Z"
   },
   {
    "duration": 2336,
    "start_time": "2025-03-28T14:35:39.727Z"
   },
   {
    "duration": 16319,
    "start_time": "2025-03-28T14:35:42.065Z"
   },
   {
    "duration": 40,
    "start_time": "2025-03-28T14:35:58.386Z"
   },
   {
    "duration": 34,
    "start_time": "2025-03-28T14:35:58.428Z"
   },
   {
    "duration": 22,
    "start_time": "2025-03-28T14:35:58.463Z"
   },
   {
    "duration": 35,
    "start_time": "2025-03-28T14:35:58.486Z"
   },
   {
    "duration": 5,
    "start_time": "2025-03-28T14:35:58.522Z"
   },
   {
    "duration": 6,
    "start_time": "2025-03-28T14:35:58.528Z"
   },
   {
    "duration": 19,
    "start_time": "2025-03-28T14:35:58.535Z"
   },
   {
    "duration": 52,
    "start_time": "2025-03-28T14:35:58.555Z"
   },
   {
    "duration": 21,
    "start_time": "2025-03-28T14:35:58.609Z"
   },
   {
    "duration": 18,
    "start_time": "2025-03-28T14:35:58.631Z"
   },
   {
    "duration": 601,
    "start_time": "2025-03-28T14:35:58.650Z"
   },
   {
    "duration": 597,
    "start_time": "2025-03-28T14:35:59.253Z"
   },
   {
    "duration": 609,
    "start_time": "2025-03-28T14:35:59.852Z"
   },
   {
    "duration": 578,
    "start_time": "2025-03-28T14:36:00.463Z"
   },
   {
    "duration": 4,
    "start_time": "2025-03-28T14:36:01.043Z"
   },
   {
    "duration": 9,
    "start_time": "2025-03-28T14:36:01.048Z"
   },
   {
    "duration": 42,
    "start_time": "2025-03-28T14:36:01.059Z"
   },
   {
    "duration": 16,
    "start_time": "2025-03-28T14:36:01.103Z"
   },
   {
    "duration": 10,
    "start_time": "2025-03-28T14:36:01.121Z"
   },
   {
    "duration": 10,
    "start_time": "2025-03-28T14:36:01.132Z"
   },
   {
    "duration": 3,
    "start_time": "2025-03-28T14:36:01.144Z"
   },
   {
    "duration": 7,
    "start_time": "2025-03-28T14:36:01.149Z"
   },
   {
    "duration": 18,
    "start_time": "2025-03-28T14:36:01.157Z"
   },
   {
    "duration": 9,
    "start_time": "2025-03-28T14:36:01.177Z"
   },
   {
    "duration": 17,
    "start_time": "2025-03-28T14:36:01.205Z"
   },
   {
    "duration": 61,
    "start_time": "2025-03-28T14:36:01.224Z"
   },
   {
    "duration": 28,
    "start_time": "2025-03-28T14:36:01.287Z"
   },
   {
    "duration": 73,
    "start_time": "2025-03-28T14:36:01.317Z"
   },
   {
    "duration": 16855,
    "start_time": "2025-03-28T14:36:01.403Z"
   },
   {
    "duration": 30681,
    "start_time": "2025-03-28T14:36:18.260Z"
   },
   {
    "duration": 85,
    "start_time": "2025-03-28T14:36:48.943Z"
   },
   {
    "duration": 10,
    "start_time": "2025-03-28T14:36:49.030Z"
   },
   {
    "duration": 4,
    "start_time": "2025-03-28T14:36:49.042Z"
   },
   {
    "duration": 4,
    "start_time": "2025-03-28T14:36:49.048Z"
   },
   {
    "duration": 3,
    "start_time": "2025-03-28T14:36:49.054Z"
   },
   {
    "duration": 48105,
    "start_time": "2025-03-28T14:36:49.059Z"
   },
   {
    "duration": 67,
    "start_time": "2025-03-28T14:37:37.169Z"
   },
   {
    "duration": 0,
    "start_time": "2025-03-28T14:37:37.237Z"
   },
   {
    "duration": 0,
    "start_time": "2025-03-28T14:37:37.239Z"
   },
   {
    "duration": 0,
    "start_time": "2025-03-28T14:37:37.240Z"
   },
   {
    "duration": 0,
    "start_time": "2025-03-28T14:37:37.241Z"
   },
   {
    "duration": 0,
    "start_time": "2025-03-28T14:37:37.242Z"
   },
   {
    "duration": 0,
    "start_time": "2025-03-28T14:37:37.243Z"
   },
   {
    "duration": 4,
    "start_time": "2025-03-28T14:38:35.821Z"
   },
   {
    "duration": 51,
    "start_time": "2025-03-28T14:41:08.074Z"
   },
   {
    "duration": 11575,
    "start_time": "2025-03-28T14:41:16.761Z"
   },
   {
    "duration": 1640,
    "start_time": "2025-03-28T14:41:28.339Z"
   },
   {
    "duration": 3,
    "start_time": "2025-03-28T14:41:29.981Z"
   },
   {
    "duration": 243,
    "start_time": "2025-03-28T14:41:29.986Z"
   },
   {
    "duration": 1511,
    "start_time": "2025-03-28T14:41:30.231Z"
   },
   {
    "duration": 1118,
    "start_time": "2025-03-28T14:41:31.744Z"
   },
   {
    "duration": 5,
    "start_time": "2025-03-28T14:41:32.864Z"
   },
   {
    "duration": 46,
    "start_time": "2025-03-28T14:41:32.870Z"
   },
   {
    "duration": 11,
    "start_time": "2025-03-28T14:41:32.917Z"
   },
   {
    "duration": 37,
    "start_time": "2025-03-28T14:41:32.931Z"
   },
   {
    "duration": 97,
    "start_time": "2025-03-28T14:41:32.969Z"
   },
   {
    "duration": 3,
    "start_time": "2025-03-28T14:41:33.068Z"
   },
   {
    "duration": 128,
    "start_time": "2025-03-28T14:41:33.072Z"
   },
   {
    "duration": 24,
    "start_time": "2025-03-28T14:41:33.202Z"
   },
   {
    "duration": 226,
    "start_time": "2025-03-28T14:41:33.228Z"
   },
   {
    "duration": 869,
    "start_time": "2025-03-28T14:41:33.456Z"
   },
   {
    "duration": 273,
    "start_time": "2025-03-28T14:41:34.326Z"
   },
   {
    "duration": 585,
    "start_time": "2025-03-28T14:41:34.600Z"
   },
   {
    "duration": 22,
    "start_time": "2025-03-28T14:41:35.187Z"
   },
   {
    "duration": 31,
    "start_time": "2025-03-28T14:41:35.211Z"
   },
   {
    "duration": 10,
    "start_time": "2025-03-28T14:41:35.243Z"
   },
   {
    "duration": 228,
    "start_time": "2025-03-28T14:41:35.255Z"
   },
   {
    "duration": 1364,
    "start_time": "2025-03-28T14:41:35.484Z"
   },
   {
    "duration": 19,
    "start_time": "2025-03-28T14:41:36.850Z"
   },
   {
    "duration": 88,
    "start_time": "2025-03-28T14:41:36.871Z"
   },
   {
    "duration": 4,
    "start_time": "2025-03-28T14:41:36.960Z"
   },
   {
    "duration": 58,
    "start_time": "2025-03-28T14:41:36.965Z"
   },
   {
    "duration": 209,
    "start_time": "2025-03-28T14:41:37.027Z"
   },
   {
    "duration": 1457,
    "start_time": "2025-03-28T14:41:37.237Z"
   },
   {
    "duration": 5,
    "start_time": "2025-03-28T14:41:38.704Z"
   },
   {
    "duration": 45,
    "start_time": "2025-03-28T14:41:38.710Z"
   },
   {
    "duration": 4,
    "start_time": "2025-03-28T14:41:38.757Z"
   },
   {
    "duration": 34,
    "start_time": "2025-03-28T14:41:38.762Z"
   },
   {
    "duration": 28,
    "start_time": "2025-03-28T14:41:38.797Z"
   },
   {
    "duration": 345,
    "start_time": "2025-03-28T14:41:38.827Z"
   },
   {
    "duration": 9,
    "start_time": "2025-03-28T14:41:39.174Z"
   },
   {
    "duration": 44,
    "start_time": "2025-03-28T14:41:39.184Z"
   },
   {
    "duration": 31,
    "start_time": "2025-03-28T14:41:39.230Z"
   },
   {
    "duration": 4,
    "start_time": "2025-03-28T14:41:39.263Z"
   },
   {
    "duration": 16,
    "start_time": "2025-03-28T14:41:39.268Z"
   },
   {
    "duration": 3,
    "start_time": "2025-03-28T14:41:39.286Z"
   },
   {
    "duration": 4,
    "start_time": "2025-03-28T14:41:39.303Z"
   },
   {
    "duration": 20,
    "start_time": "2025-03-28T14:41:39.308Z"
   },
   {
    "duration": 2327,
    "start_time": "2025-03-28T14:41:39.330Z"
   },
   {
    "duration": 16502,
    "start_time": "2025-03-28T14:41:41.658Z"
   },
   {
    "duration": 42,
    "start_time": "2025-03-28T14:41:58.162Z"
   },
   {
    "duration": 33,
    "start_time": "2025-03-28T14:41:58.206Z"
   },
   {
    "duration": 23,
    "start_time": "2025-03-28T14:41:58.241Z"
   },
   {
    "duration": 42,
    "start_time": "2025-03-28T14:41:58.265Z"
   },
   {
    "duration": 5,
    "start_time": "2025-03-28T14:41:58.308Z"
   },
   {
    "duration": 6,
    "start_time": "2025-03-28T14:41:58.315Z"
   },
   {
    "duration": 23,
    "start_time": "2025-03-28T14:41:58.322Z"
   },
   {
    "duration": 28,
    "start_time": "2025-03-28T14:41:58.347Z"
   },
   {
    "duration": 44,
    "start_time": "2025-03-28T14:41:58.376Z"
   },
   {
    "duration": 22,
    "start_time": "2025-03-28T14:41:58.421Z"
   },
   {
    "duration": 619,
    "start_time": "2025-03-28T14:41:58.444Z"
   },
   {
    "duration": 623,
    "start_time": "2025-03-28T14:41:59.065Z"
   },
   {
    "duration": 630,
    "start_time": "2025-03-28T14:41:59.690Z"
   },
   {
    "duration": 564,
    "start_time": "2025-03-28T14:42:00.322Z"
   },
   {
    "duration": 16,
    "start_time": "2025-03-28T14:42:00.887Z"
   },
   {
    "duration": 35,
    "start_time": "2025-03-28T14:42:00.905Z"
   },
   {
    "duration": 53,
    "start_time": "2025-03-28T14:42:00.941Z"
   },
   {
    "duration": 8,
    "start_time": "2025-03-28T14:42:00.996Z"
   },
   {
    "duration": 26,
    "start_time": "2025-03-28T14:42:01.006Z"
   },
   {
    "duration": 11,
    "start_time": "2025-03-28T14:42:01.033Z"
   },
   {
    "duration": 4,
    "start_time": "2025-03-28T14:42:01.046Z"
   },
   {
    "duration": 7,
    "start_time": "2025-03-28T14:42:01.052Z"
   },
   {
    "duration": 6,
    "start_time": "2025-03-28T14:42:01.061Z"
   },
   {
    "duration": 23,
    "start_time": "2025-03-28T14:42:01.068Z"
   },
   {
    "duration": 86,
    "start_time": "2025-03-28T14:42:01.093Z"
   },
   {
    "duration": 82,
    "start_time": "2025-03-28T14:42:01.181Z"
   },
   {
    "duration": 11,
    "start_time": "2025-03-28T14:42:01.264Z"
   },
   {
    "duration": 84,
    "start_time": "2025-03-28T14:42:01.277Z"
   },
   {
    "duration": 17119,
    "start_time": "2025-03-28T14:42:01.363Z"
   },
   {
    "duration": 31762,
    "start_time": "2025-03-28T14:42:18.484Z"
   },
   {
    "duration": 95,
    "start_time": "2025-03-28T14:42:50.248Z"
   },
   {
    "duration": 11,
    "start_time": "2025-03-28T14:42:50.344Z"
   },
   {
    "duration": 3,
    "start_time": "2025-03-28T14:42:50.357Z"
   },
   {
    "duration": 5,
    "start_time": "2025-03-28T14:42:50.362Z"
   },
   {
    "duration": 4,
    "start_time": "2025-03-28T14:42:50.369Z"
   },
   {
    "duration": 10413,
    "start_time": "2025-03-28T14:44:21.639Z"
   },
   {
    "duration": 1566,
    "start_time": "2025-03-28T14:44:32.054Z"
   },
   {
    "duration": 4,
    "start_time": "2025-03-28T14:44:33.621Z"
   },
   {
    "duration": 257,
    "start_time": "2025-03-28T14:44:33.627Z"
   },
   {
    "duration": 1658,
    "start_time": "2025-03-28T14:44:33.887Z"
   },
   {
    "duration": 1829,
    "start_time": "2025-03-28T14:44:35.547Z"
   },
   {
    "duration": 5,
    "start_time": "2025-03-28T14:44:37.378Z"
   },
   {
    "duration": 20,
    "start_time": "2025-03-28T14:44:37.385Z"
   },
   {
    "duration": 23,
    "start_time": "2025-03-28T14:44:37.406Z"
   },
   {
    "duration": 28,
    "start_time": "2025-03-28T14:44:37.431Z"
   },
   {
    "duration": 98,
    "start_time": "2025-03-28T14:44:37.460Z"
   },
   {
    "duration": 3,
    "start_time": "2025-03-28T14:44:37.560Z"
   },
   {
    "duration": 146,
    "start_time": "2025-03-28T14:44:37.565Z"
   },
   {
    "duration": 23,
    "start_time": "2025-03-28T14:44:37.715Z"
   },
   {
    "duration": 208,
    "start_time": "2025-03-28T14:44:37.740Z"
   },
   {
    "duration": 905,
    "start_time": "2025-03-28T14:44:37.951Z"
   },
   {
    "duration": 265,
    "start_time": "2025-03-28T14:44:38.858Z"
   },
   {
    "duration": 567,
    "start_time": "2025-03-28T14:44:39.125Z"
   },
   {
    "duration": 18,
    "start_time": "2025-03-28T14:44:39.694Z"
   },
   {
    "duration": 26,
    "start_time": "2025-03-28T14:44:39.713Z"
   },
   {
    "duration": 9,
    "start_time": "2025-03-28T14:44:39.740Z"
   },
   {
    "duration": 255,
    "start_time": "2025-03-28T14:44:39.751Z"
   },
   {
    "duration": 1421,
    "start_time": "2025-03-28T14:44:40.008Z"
   },
   {
    "duration": 21,
    "start_time": "2025-03-28T14:44:41.431Z"
   },
   {
    "duration": 27,
    "start_time": "2025-03-28T14:44:41.453Z"
   },
   {
    "duration": 24,
    "start_time": "2025-03-28T14:44:41.481Z"
   },
   {
    "duration": 31,
    "start_time": "2025-03-28T14:44:41.507Z"
   },
   {
    "duration": 207,
    "start_time": "2025-03-28T14:44:41.540Z"
   },
   {
    "duration": 1455,
    "start_time": "2025-03-28T14:44:41.749Z"
   },
   {
    "duration": 6,
    "start_time": "2025-03-28T14:44:43.206Z"
   },
   {
    "duration": 61,
    "start_time": "2025-03-28T14:44:43.214Z"
   },
   {
    "duration": 4,
    "start_time": "2025-03-28T14:44:43.277Z"
   },
   {
    "duration": 16,
    "start_time": "2025-03-28T14:44:43.283Z"
   },
   {
    "duration": 12,
    "start_time": "2025-03-28T14:44:43.301Z"
   },
   {
    "duration": 318,
    "start_time": "2025-03-28T14:44:43.314Z"
   },
   {
    "duration": 10,
    "start_time": "2025-03-28T14:44:43.634Z"
   },
   {
    "duration": 17,
    "start_time": "2025-03-28T14:44:43.645Z"
   },
   {
    "duration": 49,
    "start_time": "2025-03-28T14:44:43.664Z"
   },
   {
    "duration": 5,
    "start_time": "2025-03-28T14:44:43.715Z"
   },
   {
    "duration": 16,
    "start_time": "2025-03-28T14:44:43.721Z"
   },
   {
    "duration": 4,
    "start_time": "2025-03-28T14:44:43.742Z"
   },
   {
    "duration": 13,
    "start_time": "2025-03-28T14:44:43.748Z"
   },
   {
    "duration": 4,
    "start_time": "2025-03-28T14:44:43.763Z"
   },
   {
    "duration": 2329,
    "start_time": "2025-03-28T14:44:43.769Z"
   },
   {
    "duration": 16861,
    "start_time": "2025-03-28T14:44:46.103Z"
   },
   {
    "duration": 65,
    "start_time": "2025-03-28T14:45:02.967Z"
   },
   {
    "duration": 36,
    "start_time": "2025-03-28T14:45:03.034Z"
   },
   {
    "duration": 32,
    "start_time": "2025-03-28T14:45:03.071Z"
   },
   {
    "duration": 34,
    "start_time": "2025-03-28T14:45:03.106Z"
   },
   {
    "duration": 5,
    "start_time": "2025-03-28T14:45:03.142Z"
   },
   {
    "duration": 101,
    "start_time": "2025-03-28T14:45:03.148Z"
   },
   {
    "duration": 29,
    "start_time": "2025-03-28T14:45:03.251Z"
   },
   {
    "duration": 70,
    "start_time": "2025-03-28T14:45:03.282Z"
   },
   {
    "duration": 48,
    "start_time": "2025-03-28T14:45:03.354Z"
   },
   {
    "duration": 104,
    "start_time": "2025-03-28T14:45:03.404Z"
   },
   {
    "duration": 1141,
    "start_time": "2025-03-28T14:45:03.510Z"
   },
   {
    "duration": 641,
    "start_time": "2025-03-28T14:45:04.653Z"
   },
   {
    "duration": 637,
    "start_time": "2025-03-28T14:45:05.296Z"
   },
   {
    "duration": 596,
    "start_time": "2025-03-28T14:45:05.935Z"
   },
   {
    "duration": 5,
    "start_time": "2025-03-28T14:45:06.533Z"
   },
   {
    "duration": 35,
    "start_time": "2025-03-28T14:45:06.540Z"
   },
   {
    "duration": 48,
    "start_time": "2025-03-28T14:45:06.577Z"
   },
   {
    "duration": 33,
    "start_time": "2025-03-28T14:45:06.626Z"
   },
   {
    "duration": 20,
    "start_time": "2025-03-28T14:45:06.661Z"
   },
   {
    "duration": 13,
    "start_time": "2025-03-28T14:45:06.682Z"
   },
   {
    "duration": 5,
    "start_time": "2025-03-28T14:45:06.697Z"
   },
   {
    "duration": 35,
    "start_time": "2025-03-28T14:45:06.704Z"
   },
   {
    "duration": 37,
    "start_time": "2025-03-28T14:45:06.741Z"
   },
   {
    "duration": 21,
    "start_time": "2025-03-28T14:45:06.780Z"
   },
   {
    "duration": 40,
    "start_time": "2025-03-28T14:45:06.803Z"
   },
   {
    "duration": 84,
    "start_time": "2025-03-28T14:45:06.845Z"
   },
   {
    "duration": 12,
    "start_time": "2025-03-28T14:45:06.931Z"
   },
   {
    "duration": 171,
    "start_time": "2025-03-28T14:45:06.945Z"
   },
   {
    "duration": 17053,
    "start_time": "2025-03-28T14:45:07.118Z"
   },
   {
    "duration": 32665,
    "start_time": "2025-03-28T14:45:24.173Z"
   },
   {
    "duration": 86,
    "start_time": "2025-03-28T14:45:56.840Z"
   },
   {
    "duration": 10,
    "start_time": "2025-03-28T14:45:56.928Z"
   },
   {
    "duration": 5,
    "start_time": "2025-03-28T14:45:56.939Z"
   },
   {
    "duration": 12,
    "start_time": "2025-03-28T14:45:56.945Z"
   },
   {
    "duration": 7,
    "start_time": "2025-03-28T14:45:56.960Z"
   },
   {
    "duration": 53,
    "start_time": "2025-03-28T14:47:42.040Z"
   },
   {
    "duration": 11277,
    "start_time": "2025-03-28T14:52:56.980Z"
   },
   {
    "duration": 1799,
    "start_time": "2025-03-28T14:53:08.260Z"
   },
   {
    "duration": 4,
    "start_time": "2025-03-28T14:53:10.060Z"
   },
   {
    "duration": 280,
    "start_time": "2025-03-28T14:53:10.066Z"
   },
   {
    "duration": 1705,
    "start_time": "2025-03-28T14:53:10.349Z"
   },
   {
    "duration": 1224,
    "start_time": "2025-03-28T14:53:12.056Z"
   },
   {
    "duration": 4,
    "start_time": "2025-03-28T14:53:13.281Z"
   },
   {
    "duration": 12,
    "start_time": "2025-03-28T14:53:13.287Z"
   },
   {
    "duration": 15,
    "start_time": "2025-03-28T14:53:13.300Z"
   },
   {
    "duration": 34,
    "start_time": "2025-03-28T14:53:13.318Z"
   },
   {
    "duration": 94,
    "start_time": "2025-03-28T14:53:13.353Z"
   },
   {
    "duration": 3,
    "start_time": "2025-03-28T14:53:13.448Z"
   },
   {
    "duration": 111,
    "start_time": "2025-03-28T14:53:13.452Z"
   },
   {
    "duration": 24,
    "start_time": "2025-03-28T14:53:13.565Z"
   },
   {
    "duration": 216,
    "start_time": "2025-03-28T14:53:13.591Z"
   },
   {
    "duration": 1005,
    "start_time": "2025-03-28T14:53:13.808Z"
   },
   {
    "duration": 304,
    "start_time": "2025-03-28T14:53:14.816Z"
   },
   {
    "duration": 611,
    "start_time": "2025-03-28T14:53:15.122Z"
   },
   {
    "duration": 12,
    "start_time": "2025-03-28T14:53:15.734Z"
   },
   {
    "duration": 26,
    "start_time": "2025-03-28T14:53:15.748Z"
   },
   {
    "duration": 11,
    "start_time": "2025-03-28T14:53:15.776Z"
   },
   {
    "duration": 244,
    "start_time": "2025-03-28T14:53:15.788Z"
   },
   {
    "duration": 1462,
    "start_time": "2025-03-28T14:53:16.034Z"
   },
   {
    "duration": 25,
    "start_time": "2025-03-28T14:53:17.498Z"
   },
   {
    "duration": 34,
    "start_time": "2025-03-28T14:53:17.525Z"
   },
   {
    "duration": 5,
    "start_time": "2025-03-28T14:53:17.562Z"
   },
   {
    "duration": 45,
    "start_time": "2025-03-28T14:53:17.569Z"
   },
   {
    "duration": 223,
    "start_time": "2025-03-28T14:53:17.619Z"
   },
   {
    "duration": 1448,
    "start_time": "2025-03-28T14:53:17.844Z"
   },
   {
    "duration": 10,
    "start_time": "2025-03-28T14:53:19.294Z"
   },
   {
    "duration": 28,
    "start_time": "2025-03-28T14:53:19.306Z"
   },
   {
    "duration": 3,
    "start_time": "2025-03-28T14:53:19.337Z"
   },
   {
    "duration": 28,
    "start_time": "2025-03-28T14:53:19.342Z"
   },
   {
    "duration": 13,
    "start_time": "2025-03-28T14:53:19.372Z"
   },
   {
    "duration": 367,
    "start_time": "2025-03-28T14:53:19.403Z"
   },
   {
    "duration": 11,
    "start_time": "2025-03-28T14:53:19.773Z"
   },
   {
    "duration": 37,
    "start_time": "2025-03-28T14:53:19.786Z"
   },
   {
    "duration": 34,
    "start_time": "2025-03-28T14:53:19.825Z"
   },
   {
    "duration": 9,
    "start_time": "2025-03-28T14:53:19.861Z"
   },
   {
    "duration": 40,
    "start_time": "2025-03-28T14:53:19.873Z"
   },
   {
    "duration": 4,
    "start_time": "2025-03-28T14:53:19.915Z"
   },
   {
    "duration": 6,
    "start_time": "2025-03-28T14:53:19.920Z"
   },
   {
    "duration": 20,
    "start_time": "2025-03-28T14:53:19.927Z"
   },
   {
    "duration": 2504,
    "start_time": "2025-03-28T14:53:19.949Z"
   },
   {
    "duration": 17070,
    "start_time": "2025-03-28T14:53:22.454Z"
   },
   {
    "duration": 82,
    "start_time": "2025-03-28T14:53:39.527Z"
   },
   {
    "duration": 35,
    "start_time": "2025-03-28T14:53:39.611Z"
   },
   {
    "duration": 23,
    "start_time": "2025-03-28T14:53:39.647Z"
   },
   {
    "duration": 42,
    "start_time": "2025-03-28T14:53:39.672Z"
   },
   {
    "duration": 6,
    "start_time": "2025-03-28T14:53:39.716Z"
   },
   {
    "duration": 7,
    "start_time": "2025-03-28T14:53:39.724Z"
   },
   {
    "duration": 23,
    "start_time": "2025-03-28T14:53:39.732Z"
   },
   {
    "duration": 62,
    "start_time": "2025-03-28T14:53:39.757Z"
   },
   {
    "duration": 33,
    "start_time": "2025-03-28T14:53:39.821Z"
   },
   {
    "duration": 24,
    "start_time": "2025-03-28T14:53:39.856Z"
   },
   {
    "duration": 626,
    "start_time": "2025-03-28T14:53:39.881Z"
   },
   {
    "duration": 652,
    "start_time": "2025-03-28T14:53:40.509Z"
   },
   {
    "duration": 607,
    "start_time": "2025-03-28T14:53:41.163Z"
   },
   {
    "duration": 577,
    "start_time": "2025-03-28T14:53:41.772Z"
   },
   {
    "duration": 4,
    "start_time": "2025-03-28T14:53:42.351Z"
   },
   {
    "duration": 15,
    "start_time": "2025-03-28T14:53:42.356Z"
   },
   {
    "duration": 42,
    "start_time": "2025-03-28T14:53:42.373Z"
   },
   {
    "duration": 7,
    "start_time": "2025-03-28T14:53:42.417Z"
   },
   {
    "duration": 17,
    "start_time": "2025-03-28T14:53:42.426Z"
   },
   {
    "duration": 21,
    "start_time": "2025-03-28T14:53:42.445Z"
   },
   {
    "duration": 4,
    "start_time": "2025-03-28T14:53:42.468Z"
   },
   {
    "duration": 25,
    "start_time": "2025-03-28T14:53:42.473Z"
   },
   {
    "duration": 25,
    "start_time": "2025-03-28T14:53:42.499Z"
   },
   {
    "duration": 8,
    "start_time": "2025-03-28T14:53:42.526Z"
   },
   {
    "duration": 20,
    "start_time": "2025-03-28T14:53:42.535Z"
   },
   {
    "duration": 71,
    "start_time": "2025-03-28T14:53:42.557Z"
   },
   {
    "duration": 12,
    "start_time": "2025-03-28T14:53:42.630Z"
   },
   {
    "duration": 85,
    "start_time": "2025-03-28T14:53:42.644Z"
   },
   {
    "duration": 3,
    "start_time": "2025-03-28T14:53:42.731Z"
   },
   {
    "duration": 62,
    "start_time": "2025-03-28T14:53:42.735Z"
   },
   {
    "duration": 99,
    "start_time": "2025-03-28T14:53:42.799Z"
   },
   {
    "duration": 10,
    "start_time": "2025-03-28T14:53:42.900Z"
   },
   {
    "duration": 13,
    "start_time": "2025-03-28T14:53:42.912Z"
   },
   {
    "duration": 3,
    "start_time": "2025-03-28T14:53:42.927Z"
   },
   {
    "duration": 20,
    "start_time": "2025-03-28T14:53:42.932Z"
   },
   {
    "duration": 5,
    "start_time": "2025-03-28T14:53:42.954Z"
   },
   {
    "duration": 503,
    "start_time": "2025-03-28T14:53:42.966Z"
   },
   {
    "duration": 0,
    "start_time": "2025-03-28T14:53:43.472Z"
   },
   {
    "duration": 0,
    "start_time": "2025-03-28T14:53:43.474Z"
   },
   {
    "duration": 0,
    "start_time": "2025-03-28T14:53:43.475Z"
   },
   {
    "duration": 0,
    "start_time": "2025-03-28T14:53:43.477Z"
   },
   {
    "duration": 0,
    "start_time": "2025-03-28T14:53:43.479Z"
   },
   {
    "duration": 0,
    "start_time": "2025-03-28T14:53:43.480Z"
   },
   {
    "duration": 0,
    "start_time": "2025-03-28T14:53:43.482Z"
   },
   {
    "duration": 8,
    "start_time": "2025-03-28T14:56:26.312Z"
   },
   {
    "duration": 9,
    "start_time": "2025-03-28T15:01:57.996Z"
   },
   {
    "duration": 11112,
    "start_time": "2025-03-28T15:03:55.479Z"
   },
   {
    "duration": 1816,
    "start_time": "2025-03-28T15:04:06.593Z"
   },
   {
    "duration": 4,
    "start_time": "2025-03-28T15:04:08.411Z"
   },
   {
    "duration": 263,
    "start_time": "2025-03-28T15:04:08.418Z"
   },
   {
    "duration": 1578,
    "start_time": "2025-03-28T15:04:08.683Z"
   },
   {
    "duration": 1181,
    "start_time": "2025-03-28T15:04:10.262Z"
   },
   {
    "duration": 4,
    "start_time": "2025-03-28T15:04:11.445Z"
   },
   {
    "duration": 8,
    "start_time": "2025-03-28T15:04:11.451Z"
   },
   {
    "duration": 7,
    "start_time": "2025-03-28T15:04:11.461Z"
   },
   {
    "duration": 49,
    "start_time": "2025-03-28T15:04:11.471Z"
   },
   {
    "duration": 107,
    "start_time": "2025-03-28T15:04:11.522Z"
   },
   {
    "duration": 3,
    "start_time": "2025-03-28T15:04:11.631Z"
   },
   {
    "duration": 113,
    "start_time": "2025-03-28T15:04:11.635Z"
   },
   {
    "duration": 24,
    "start_time": "2025-03-28T15:04:11.749Z"
   },
   {
    "duration": 208,
    "start_time": "2025-03-28T15:04:11.775Z"
   },
   {
    "duration": 903,
    "start_time": "2025-03-28T15:04:11.985Z"
   },
   {
    "duration": 295,
    "start_time": "2025-03-28T15:04:12.890Z"
   },
   {
    "duration": 543,
    "start_time": "2025-03-28T15:04:13.187Z"
   },
   {
    "duration": 12,
    "start_time": "2025-03-28T15:04:13.731Z"
   },
   {
    "duration": 29,
    "start_time": "2025-03-28T15:04:13.745Z"
   },
   {
    "duration": 10,
    "start_time": "2025-03-28T15:04:13.776Z"
   },
   {
    "duration": 228,
    "start_time": "2025-03-28T15:04:13.787Z"
   },
   {
    "duration": 1390,
    "start_time": "2025-03-28T15:04:14.016Z"
   },
   {
    "duration": 19,
    "start_time": "2025-03-28T15:04:15.408Z"
   },
   {
    "duration": 78,
    "start_time": "2025-03-28T15:04:15.429Z"
   },
   {
    "duration": 4,
    "start_time": "2025-03-28T15:04:15.508Z"
   },
   {
    "duration": 36,
    "start_time": "2025-03-28T15:04:15.513Z"
   },
   {
    "duration": 202,
    "start_time": "2025-03-28T15:04:15.553Z"
   },
   {
    "duration": 1440,
    "start_time": "2025-03-28T15:04:15.757Z"
   },
   {
    "duration": 6,
    "start_time": "2025-03-28T15:04:17.203Z"
   },
   {
    "duration": 49,
    "start_time": "2025-03-28T15:04:17.210Z"
   },
   {
    "duration": 4,
    "start_time": "2025-03-28T15:04:17.260Z"
   },
   {
    "duration": 86,
    "start_time": "2025-03-28T15:04:17.266Z"
   },
   {
    "duration": 15,
    "start_time": "2025-03-28T15:04:17.353Z"
   },
   {
    "duration": 396,
    "start_time": "2025-03-28T15:04:17.370Z"
   },
   {
    "duration": 12,
    "start_time": "2025-03-28T15:04:17.768Z"
   },
   {
    "duration": 29,
    "start_time": "2025-03-28T15:04:17.782Z"
   },
   {
    "duration": 31,
    "start_time": "2025-03-28T15:04:17.813Z"
   },
   {
    "duration": 30,
    "start_time": "2025-03-28T15:04:17.845Z"
   },
   {
    "duration": 21,
    "start_time": "2025-03-28T15:04:17.876Z"
   },
   {
    "duration": 5,
    "start_time": "2025-03-28T15:04:17.901Z"
   },
   {
    "duration": 12,
    "start_time": "2025-03-28T15:04:17.907Z"
   },
   {
    "duration": 34,
    "start_time": "2025-03-28T15:04:17.920Z"
   },
   {
    "duration": 2511,
    "start_time": "2025-03-28T15:04:17.956Z"
   },
   {
    "duration": 16807,
    "start_time": "2025-03-28T15:04:20.469Z"
   },
   {
    "duration": 52,
    "start_time": "2025-03-28T15:04:37.278Z"
   },
   {
    "duration": 35,
    "start_time": "2025-03-28T15:04:37.332Z"
   },
   {
    "duration": 41,
    "start_time": "2025-03-28T15:04:37.369Z"
   },
   {
    "duration": 39,
    "start_time": "2025-03-28T15:04:37.412Z"
   },
   {
    "duration": 27,
    "start_time": "2025-03-28T15:04:37.452Z"
   },
   {
    "duration": 13,
    "start_time": "2025-03-28T15:04:37.480Z"
   },
   {
    "duration": 21,
    "start_time": "2025-03-28T15:04:37.494Z"
   },
   {
    "duration": 48,
    "start_time": "2025-03-28T15:04:37.517Z"
   },
   {
    "duration": 41,
    "start_time": "2025-03-28T15:04:37.567Z"
   },
   {
    "duration": 58,
    "start_time": "2025-03-28T15:04:37.610Z"
   },
   {
    "duration": 580,
    "start_time": "2025-03-28T15:04:37.670Z"
   },
   {
    "duration": 640,
    "start_time": "2025-03-28T15:04:38.251Z"
   },
   {
    "duration": 605,
    "start_time": "2025-03-28T15:04:38.893Z"
   },
   {
    "duration": 609,
    "start_time": "2025-03-28T15:04:39.499Z"
   },
   {
    "duration": 4,
    "start_time": "2025-03-28T15:04:40.109Z"
   },
   {
    "duration": 12,
    "start_time": "2025-03-28T15:04:40.115Z"
   },
   {
    "duration": 52,
    "start_time": "2025-03-28T15:04:40.128Z"
   },
   {
    "duration": 6,
    "start_time": "2025-03-28T15:04:40.181Z"
   },
   {
    "duration": 14,
    "start_time": "2025-03-28T15:04:40.188Z"
   },
   {
    "duration": 12,
    "start_time": "2025-03-28T15:04:40.203Z"
   },
   {
    "duration": 23,
    "start_time": "2025-03-28T15:04:40.216Z"
   },
   {
    "duration": 31,
    "start_time": "2025-03-28T15:04:40.240Z"
   },
   {
    "duration": 21,
    "start_time": "2025-03-28T15:04:40.273Z"
   },
   {
    "duration": 36,
    "start_time": "2025-03-28T15:04:40.296Z"
   },
   {
    "duration": 25,
    "start_time": "2025-03-28T15:04:40.334Z"
   },
   {
    "duration": 64,
    "start_time": "2025-03-28T15:04:40.360Z"
   },
   {
    "duration": 12,
    "start_time": "2025-03-28T15:04:40.425Z"
   },
   {
    "duration": 95,
    "start_time": "2025-03-28T15:04:40.438Z"
   },
   {
    "duration": 3,
    "start_time": "2025-03-28T15:04:40.535Z"
   },
   {
    "duration": 21,
    "start_time": "2025-03-28T15:04:40.539Z"
   },
   {
    "duration": 111,
    "start_time": "2025-03-28T15:04:40.561Z"
   },
   {
    "duration": 10,
    "start_time": "2025-03-28T15:04:40.674Z"
   },
   {
    "duration": 10,
    "start_time": "2025-03-28T15:04:40.686Z"
   },
   {
    "duration": 28,
    "start_time": "2025-03-28T15:04:40.698Z"
   },
   {
    "duration": 45,
    "start_time": "2025-03-28T15:04:40.727Z"
   },
   {
    "duration": 34,
    "start_time": "2025-03-28T15:04:40.773Z"
   },
   {
    "duration": 21,
    "start_time": "2025-03-28T15:04:40.812Z"
   },
   {
    "duration": 27483,
    "start_time": "2025-03-28T15:04:40.835Z"
   },
   {
    "duration": 0,
    "start_time": "2025-03-28T15:05:08.320Z"
   },
   {
    "duration": 0,
    "start_time": "2025-03-28T15:05:08.321Z"
   },
   {
    "duration": 1,
    "start_time": "2025-03-28T15:05:08.322Z"
   },
   {
    "duration": 0,
    "start_time": "2025-03-28T15:05:08.324Z"
   },
   {
    "duration": 0,
    "start_time": "2025-03-28T15:05:08.324Z"
   },
   {
    "duration": 0,
    "start_time": "2025-03-28T15:05:08.325Z"
   },
   {
    "duration": 1,
    "start_time": "2025-03-28T15:05:08.326Z"
   },
   {
    "duration": 32458,
    "start_time": "2025-03-28T15:06:03.887Z"
   },
   {
    "duration": 28,
    "start_time": "2025-03-28T15:11:42.940Z"
   },
   {
    "duration": 9,
    "start_time": "2025-03-28T15:16:28.271Z"
   },
   {
    "duration": 3328,
    "start_time": "2025-03-28T15:16:35.802Z"
   },
   {
    "duration": 12,
    "start_time": "2025-03-28T15:17:40.081Z"
   },
   {
    "duration": 16176,
    "start_time": "2025-03-28T15:17:49.094Z"
   },
   {
    "duration": 42,
    "start_time": "2025-03-28T15:19:11.053Z"
   },
   {
    "duration": 6,
    "start_time": "2025-03-28T15:19:17.083Z"
   },
   {
    "duration": 11,
    "start_time": "2025-03-28T15:33:21.866Z"
   },
   {
    "duration": 32030,
    "start_time": "2025-03-28T15:33:26.013Z"
   },
   {
    "duration": 10941,
    "start_time": "2025-03-28T15:34:28.735Z"
   },
   {
    "duration": 1823,
    "start_time": "2025-03-28T15:34:39.678Z"
   },
   {
    "duration": 4,
    "start_time": "2025-03-28T15:34:41.502Z"
   },
   {
    "duration": 268,
    "start_time": "2025-03-28T15:34:41.507Z"
   },
   {
    "duration": 1660,
    "start_time": "2025-03-28T15:34:41.777Z"
   },
   {
    "duration": 1309,
    "start_time": "2025-03-28T15:34:43.439Z"
   },
   {
    "duration": 5,
    "start_time": "2025-03-28T15:34:44.750Z"
   },
   {
    "duration": 5,
    "start_time": "2025-03-28T15:34:44.757Z"
   },
   {
    "duration": 21,
    "start_time": "2025-03-28T15:34:44.764Z"
   },
   {
    "duration": 43,
    "start_time": "2025-03-28T15:34:44.786Z"
   },
   {
    "duration": 122,
    "start_time": "2025-03-28T15:34:44.831Z"
   },
   {
    "duration": 2,
    "start_time": "2025-03-28T15:34:44.956Z"
   },
   {
    "duration": 111,
    "start_time": "2025-03-28T15:34:44.959Z"
   },
   {
    "duration": 33,
    "start_time": "2025-03-28T15:34:45.076Z"
   },
   {
    "duration": 228,
    "start_time": "2025-03-28T15:34:45.111Z"
   },
   {
    "duration": 981,
    "start_time": "2025-03-28T15:34:45.340Z"
   },
   {
    "duration": 326,
    "start_time": "2025-03-28T15:34:46.323Z"
   },
   {
    "duration": 608,
    "start_time": "2025-03-28T15:34:46.651Z"
   },
   {
    "duration": 14,
    "start_time": "2025-03-28T15:34:47.261Z"
   },
   {
    "duration": 32,
    "start_time": "2025-03-28T15:34:47.277Z"
   },
   {
    "duration": 10,
    "start_time": "2025-03-28T15:34:47.311Z"
   },
   {
    "duration": 252,
    "start_time": "2025-03-28T15:34:47.323Z"
   },
   {
    "duration": 1437,
    "start_time": "2025-03-28T15:34:47.577Z"
   },
   {
    "duration": 21,
    "start_time": "2025-03-28T15:34:49.016Z"
   },
   {
    "duration": 33,
    "start_time": "2025-03-28T15:34:49.038Z"
   },
   {
    "duration": 3,
    "start_time": "2025-03-28T15:34:49.073Z"
   },
   {
    "duration": 41,
    "start_time": "2025-03-28T15:34:49.078Z"
   },
   {
    "duration": 218,
    "start_time": "2025-03-28T15:34:49.120Z"
   },
   {
    "duration": 1426,
    "start_time": "2025-03-28T15:34:49.340Z"
   },
   {
    "duration": 5,
    "start_time": "2025-03-28T15:34:50.768Z"
   },
   {
    "duration": 52,
    "start_time": "2025-03-28T15:34:50.775Z"
   },
   {
    "duration": 3,
    "start_time": "2025-03-28T15:34:50.829Z"
   },
   {
    "duration": 29,
    "start_time": "2025-03-28T15:34:50.834Z"
   },
   {
    "duration": 13,
    "start_time": "2025-03-28T15:34:50.864Z"
   },
   {
    "duration": 334,
    "start_time": "2025-03-28T15:34:50.878Z"
   },
   {
    "duration": 9,
    "start_time": "2025-03-28T15:34:51.214Z"
   },
   {
    "duration": 34,
    "start_time": "2025-03-28T15:34:51.225Z"
   },
   {
    "duration": 28,
    "start_time": "2025-03-28T15:34:51.261Z"
   },
   {
    "duration": 7,
    "start_time": "2025-03-28T15:34:51.290Z"
   },
   {
    "duration": 21,
    "start_time": "2025-03-28T15:34:51.303Z"
   },
   {
    "duration": 31,
    "start_time": "2025-03-28T15:34:51.330Z"
   },
   {
    "duration": 93,
    "start_time": "2025-03-28T15:34:51.363Z"
   },
   {
    "duration": 14,
    "start_time": "2025-03-28T15:34:51.457Z"
   },
   {
    "duration": 2361,
    "start_time": "2025-03-28T15:34:51.472Z"
   },
   {
    "duration": 17158,
    "start_time": "2025-03-28T15:34:53.834Z"
   },
   {
    "duration": 123,
    "start_time": "2025-03-28T15:35:10.995Z"
   },
   {
    "duration": 36,
    "start_time": "2025-03-28T15:35:11.120Z"
   },
   {
    "duration": 23,
    "start_time": "2025-03-28T15:35:11.157Z"
   },
   {
    "duration": 41,
    "start_time": "2025-03-28T15:35:11.182Z"
   },
   {
    "duration": 36,
    "start_time": "2025-03-28T15:35:11.224Z"
   },
   {
    "duration": 17,
    "start_time": "2025-03-28T15:35:11.262Z"
   },
   {
    "duration": 21,
    "start_time": "2025-03-28T15:35:11.281Z"
   },
   {
    "duration": 36,
    "start_time": "2025-03-28T15:35:11.304Z"
   },
   {
    "duration": 23,
    "start_time": "2025-03-28T15:35:11.341Z"
   },
   {
    "duration": 87,
    "start_time": "2025-03-28T15:35:11.366Z"
   },
   {
    "duration": 1037,
    "start_time": "2025-03-28T15:35:11.454Z"
   },
   {
    "duration": 683,
    "start_time": "2025-03-28T15:35:12.494Z"
   },
   {
    "duration": 635,
    "start_time": "2025-03-28T15:35:13.179Z"
   },
   {
    "duration": 603,
    "start_time": "2025-03-28T15:35:13.816Z"
   },
   {
    "duration": 4,
    "start_time": "2025-03-28T15:35:14.421Z"
   },
   {
    "duration": 18,
    "start_time": "2025-03-28T15:35:14.427Z"
   },
   {
    "duration": 35,
    "start_time": "2025-03-28T15:35:14.447Z"
   },
   {
    "duration": 21,
    "start_time": "2025-03-28T15:35:14.484Z"
   },
   {
    "duration": 11,
    "start_time": "2025-03-28T15:35:14.506Z"
   },
   {
    "duration": 16,
    "start_time": "2025-03-28T15:35:14.519Z"
   },
   {
    "duration": 4,
    "start_time": "2025-03-28T15:35:14.536Z"
   },
   {
    "duration": 13,
    "start_time": "2025-03-28T15:35:14.541Z"
   },
   {
    "duration": 17,
    "start_time": "2025-03-28T15:35:14.556Z"
   },
   {
    "duration": 33,
    "start_time": "2025-03-28T15:35:14.575Z"
   },
   {
    "duration": 21,
    "start_time": "2025-03-28T15:35:14.609Z"
   },
   {
    "duration": 103,
    "start_time": "2025-03-28T15:35:14.632Z"
   },
   {
    "duration": 11,
    "start_time": "2025-03-28T15:35:14.736Z"
   },
   {
    "duration": 89,
    "start_time": "2025-03-28T15:35:14.749Z"
   },
   {
    "duration": 2,
    "start_time": "2025-03-28T15:35:14.840Z"
   },
   {
    "duration": 5,
    "start_time": "2025-03-28T15:35:14.844Z"
   },
   {
    "duration": 104,
    "start_time": "2025-03-28T15:35:14.851Z"
   },
   {
    "duration": 11,
    "start_time": "2025-03-28T15:35:14.957Z"
   },
   {
    "duration": 11,
    "start_time": "2025-03-28T15:35:14.969Z"
   },
   {
    "duration": 4,
    "start_time": "2025-03-28T15:35:14.982Z"
   },
   {
    "duration": 39,
    "start_time": "2025-03-28T15:35:14.988Z"
   },
   {
    "duration": 61,
    "start_time": "2025-03-28T15:35:15.030Z"
   },
   {
    "duration": 36,
    "start_time": "2025-03-28T15:35:15.093Z"
   },
   {
    "duration": 13,
    "start_time": "2025-03-28T15:35:15.131Z"
   },
   {
    "duration": 74,
    "start_time": "2025-03-28T15:39:10.612Z"
   },
   {
    "duration": 11601,
    "start_time": "2025-03-28T15:39:17.441Z"
   },
   {
    "duration": 1844,
    "start_time": "2025-03-28T15:39:29.044Z"
   },
   {
    "duration": 4,
    "start_time": "2025-03-28T15:39:30.890Z"
   },
   {
    "duration": 300,
    "start_time": "2025-03-28T15:39:30.896Z"
   },
   {
    "duration": 1724,
    "start_time": "2025-03-28T15:39:31.204Z"
   },
   {
    "duration": 1310,
    "start_time": "2025-03-28T15:39:32.930Z"
   },
   {
    "duration": 5,
    "start_time": "2025-03-28T15:39:34.242Z"
   },
   {
    "duration": 13,
    "start_time": "2025-03-28T15:39:34.248Z"
   },
   {
    "duration": 27,
    "start_time": "2025-03-28T15:39:34.262Z"
   },
   {
    "duration": 54,
    "start_time": "2025-03-28T15:39:34.291Z"
   },
   {
    "duration": 103,
    "start_time": "2025-03-28T15:39:34.347Z"
   },
   {
    "duration": 2,
    "start_time": "2025-03-28T15:39:34.452Z"
   },
   {
    "duration": 132,
    "start_time": "2025-03-28T15:39:34.455Z"
   },
   {
    "duration": 34,
    "start_time": "2025-03-28T15:39:34.590Z"
   },
   {
    "duration": 229,
    "start_time": "2025-03-28T15:39:34.626Z"
   },
   {
    "duration": 968,
    "start_time": "2025-03-28T15:39:34.857Z"
   },
   {
    "duration": 329,
    "start_time": "2025-03-28T15:39:35.827Z"
   },
   {
    "duration": 602,
    "start_time": "2025-03-28T15:39:36.158Z"
   },
   {
    "duration": 14,
    "start_time": "2025-03-28T15:39:36.762Z"
   },
   {
    "duration": 35,
    "start_time": "2025-03-28T15:39:36.777Z"
   },
   {
    "duration": 21,
    "start_time": "2025-03-28T15:39:36.813Z"
   },
   {
    "duration": 258,
    "start_time": "2025-03-28T15:39:36.836Z"
   },
   {
    "duration": 1564,
    "start_time": "2025-03-28T15:39:37.096Z"
   },
   {
    "duration": 44,
    "start_time": "2025-03-28T15:39:38.661Z"
   },
   {
    "duration": 45,
    "start_time": "2025-03-28T15:39:38.706Z"
   },
   {
    "duration": 4,
    "start_time": "2025-03-28T15:39:38.753Z"
   },
   {
    "duration": 29,
    "start_time": "2025-03-28T15:39:38.759Z"
   },
   {
    "duration": 235,
    "start_time": "2025-03-28T15:39:38.790Z"
   },
   {
    "duration": 1590,
    "start_time": "2025-03-28T15:39:39.027Z"
   },
   {
    "duration": 8,
    "start_time": "2025-03-28T15:39:40.619Z"
   },
   {
    "duration": 81,
    "start_time": "2025-03-28T15:39:40.628Z"
   },
   {
    "duration": 3,
    "start_time": "2025-03-28T15:39:40.711Z"
   },
   {
    "duration": 31,
    "start_time": "2025-03-28T15:39:40.716Z"
   },
   {
    "duration": 13,
    "start_time": "2025-03-28T15:39:40.749Z"
   },
   {
    "duration": 348,
    "start_time": "2025-03-28T15:39:40.763Z"
   },
   {
    "duration": 9,
    "start_time": "2025-03-28T15:39:41.113Z"
   },
   {
    "duration": 33,
    "start_time": "2025-03-28T15:39:41.123Z"
   },
   {
    "duration": 27,
    "start_time": "2025-03-28T15:39:41.157Z"
   },
   {
    "duration": 19,
    "start_time": "2025-03-28T15:39:41.186Z"
   },
   {
    "duration": 14,
    "start_time": "2025-03-28T15:39:41.207Z"
   },
   {
    "duration": 4,
    "start_time": "2025-03-28T15:39:41.226Z"
   },
   {
    "duration": 4,
    "start_time": "2025-03-28T15:39:41.231Z"
   },
   {
    "duration": 4,
    "start_time": "2025-03-28T15:39:41.237Z"
   },
   {
    "duration": 2330,
    "start_time": "2025-03-28T15:39:41.242Z"
   },
   {
    "duration": 17104,
    "start_time": "2025-03-28T15:39:43.573Z"
   },
   {
    "duration": 84,
    "start_time": "2025-03-28T15:40:00.680Z"
   },
   {
    "duration": 60,
    "start_time": "2025-03-28T15:40:00.766Z"
   },
   {
    "duration": 28,
    "start_time": "2025-03-28T15:40:00.828Z"
   },
   {
    "duration": 44,
    "start_time": "2025-03-28T15:40:00.858Z"
   },
   {
    "duration": 33,
    "start_time": "2025-03-28T15:40:00.904Z"
   },
   {
    "duration": 34,
    "start_time": "2025-03-28T15:40:00.939Z"
   },
   {
    "duration": 69,
    "start_time": "2025-03-28T15:40:00.975Z"
   },
   {
    "duration": 31,
    "start_time": "2025-03-28T15:40:01.046Z"
   },
   {
    "duration": 23,
    "start_time": "2025-03-28T15:40:01.079Z"
   },
   {
    "duration": 37,
    "start_time": "2025-03-28T15:40:01.103Z"
   },
   {
    "duration": 909,
    "start_time": "2025-03-28T15:40:01.142Z"
   },
   {
    "duration": 653,
    "start_time": "2025-03-28T15:40:02.053Z"
   },
   {
    "duration": 595,
    "start_time": "2025-03-28T15:40:02.708Z"
   },
   {
    "duration": 556,
    "start_time": "2025-03-28T15:40:03.305Z"
   },
   {
    "duration": 4,
    "start_time": "2025-03-28T15:40:03.867Z"
   },
   {
    "duration": 25,
    "start_time": "2025-03-28T15:40:03.873Z"
   },
   {
    "duration": 58,
    "start_time": "2025-03-28T15:40:03.900Z"
   },
   {
    "duration": 9,
    "start_time": "2025-03-28T15:40:03.960Z"
   },
   {
    "duration": 32,
    "start_time": "2025-03-28T15:40:03.970Z"
   },
   {
    "duration": 32,
    "start_time": "2025-03-28T15:40:04.004Z"
   },
   {
    "duration": 4,
    "start_time": "2025-03-28T15:40:04.038Z"
   },
   {
    "duration": 7,
    "start_time": "2025-03-28T15:40:04.044Z"
   },
   {
    "duration": 11,
    "start_time": "2025-03-28T15:40:04.053Z"
   },
   {
    "duration": 12,
    "start_time": "2025-03-28T15:40:04.066Z"
   },
   {
    "duration": 16,
    "start_time": "2025-03-28T15:40:04.079Z"
   },
   {
    "duration": 85,
    "start_time": "2025-03-28T15:40:04.097Z"
   },
   {
    "duration": 21,
    "start_time": "2025-03-28T15:40:04.184Z"
   },
   {
    "duration": 79,
    "start_time": "2025-03-28T15:40:04.206Z"
   },
   {
    "duration": 2,
    "start_time": "2025-03-28T15:40:04.287Z"
   },
   {
    "duration": 38,
    "start_time": "2025-03-28T15:40:04.290Z"
   },
   {
    "duration": 83,
    "start_time": "2025-03-28T15:40:04.330Z"
   },
   {
    "duration": 9,
    "start_time": "2025-03-28T15:40:04.415Z"
   },
   {
    "duration": 10,
    "start_time": "2025-03-28T15:40:04.426Z"
   },
   {
    "duration": 5,
    "start_time": "2025-03-28T15:40:04.438Z"
   },
   {
    "duration": 26,
    "start_time": "2025-03-28T15:40:04.445Z"
   },
   {
    "duration": 3,
    "start_time": "2025-03-28T15:40:04.473Z"
   },
   {
    "duration": 8,
    "start_time": "2025-03-28T15:40:04.478Z"
   },
   {
    "duration": 33,
    "start_time": "2025-03-28T15:40:04.487Z"
   },
   {
    "duration": 12035,
    "start_time": "2025-03-28T15:43:04.149Z"
   },
   {
    "duration": 1897,
    "start_time": "2025-03-28T15:43:16.188Z"
   },
   {
    "duration": 4,
    "start_time": "2025-03-28T15:43:18.086Z"
   },
   {
    "duration": 257,
    "start_time": "2025-03-28T15:43:18.091Z"
   },
   {
    "duration": 1603,
    "start_time": "2025-03-28T15:43:18.350Z"
   },
   {
    "duration": 1213,
    "start_time": "2025-03-28T15:43:19.955Z"
   },
   {
    "duration": 5,
    "start_time": "2025-03-28T15:43:21.169Z"
   },
   {
    "duration": 35,
    "start_time": "2025-03-28T15:43:21.175Z"
   },
   {
    "duration": 18,
    "start_time": "2025-03-28T15:43:21.212Z"
   },
   {
    "duration": 30,
    "start_time": "2025-03-28T15:43:21.233Z"
   },
   {
    "duration": 111,
    "start_time": "2025-03-28T15:43:21.265Z"
   },
   {
    "duration": 3,
    "start_time": "2025-03-28T15:43:21.377Z"
   },
   {
    "duration": 157,
    "start_time": "2025-03-28T15:43:21.381Z"
   },
   {
    "duration": 22,
    "start_time": "2025-03-28T15:43:21.540Z"
   },
   {
    "duration": 225,
    "start_time": "2025-03-28T15:43:21.563Z"
   },
   {
    "duration": 906,
    "start_time": "2025-03-28T15:43:21.789Z"
   },
   {
    "duration": 289,
    "start_time": "2025-03-28T15:43:22.701Z"
   },
   {
    "duration": 581,
    "start_time": "2025-03-28T15:43:22.992Z"
   },
   {
    "duration": 13,
    "start_time": "2025-03-28T15:43:23.574Z"
   },
   {
    "duration": 33,
    "start_time": "2025-03-28T15:43:23.589Z"
   },
   {
    "duration": 10,
    "start_time": "2025-03-28T15:43:23.624Z"
   },
   {
    "duration": 256,
    "start_time": "2025-03-28T15:43:23.635Z"
   },
   {
    "duration": 1403,
    "start_time": "2025-03-28T15:43:23.892Z"
   },
   {
    "duration": 23,
    "start_time": "2025-03-28T15:43:25.297Z"
   },
   {
    "duration": 28,
    "start_time": "2025-03-28T15:43:25.321Z"
   },
   {
    "duration": 3,
    "start_time": "2025-03-28T15:43:25.351Z"
   },
   {
    "duration": 19,
    "start_time": "2025-03-28T15:43:25.355Z"
   },
   {
    "duration": 222,
    "start_time": "2025-03-28T15:43:25.378Z"
   },
   {
    "duration": 1487,
    "start_time": "2025-03-28T15:43:25.603Z"
   },
   {
    "duration": 16,
    "start_time": "2025-03-28T15:43:27.093Z"
   },
   {
    "duration": 58,
    "start_time": "2025-03-28T15:43:27.111Z"
   },
   {
    "duration": 7,
    "start_time": "2025-03-28T15:43:27.170Z"
   },
   {
    "duration": 31,
    "start_time": "2025-03-28T15:43:27.179Z"
   },
   {
    "duration": 14,
    "start_time": "2025-03-28T15:43:27.212Z"
   },
   {
    "duration": 361,
    "start_time": "2025-03-28T15:43:27.228Z"
   },
   {
    "duration": 20,
    "start_time": "2025-03-28T15:43:27.594Z"
   },
   {
    "duration": 22,
    "start_time": "2025-03-28T15:43:27.616Z"
   },
   {
    "duration": 63,
    "start_time": "2025-03-28T15:43:27.641Z"
   },
   {
    "duration": 4,
    "start_time": "2025-03-28T15:43:27.705Z"
   },
   {
    "duration": 19,
    "start_time": "2025-03-28T15:43:27.711Z"
   },
   {
    "duration": 3,
    "start_time": "2025-03-28T15:43:27.732Z"
   },
   {
    "duration": 6,
    "start_time": "2025-03-28T15:43:27.737Z"
   },
   {
    "duration": 9,
    "start_time": "2025-03-28T15:43:27.745Z"
   },
   {
    "duration": 2528,
    "start_time": "2025-03-28T15:43:27.756Z"
   },
   {
    "duration": 17446,
    "start_time": "2025-03-28T15:43:30.286Z"
   },
   {
    "duration": 102,
    "start_time": "2025-03-28T15:43:47.735Z"
   },
   {
    "duration": 35,
    "start_time": "2025-03-28T15:43:47.839Z"
   },
   {
    "duration": 30,
    "start_time": "2025-03-28T15:43:47.875Z"
   },
   {
    "duration": 25,
    "start_time": "2025-03-28T15:43:47.906Z"
   },
   {
    "duration": 12,
    "start_time": "2025-03-28T15:43:47.932Z"
   },
   {
    "duration": 30,
    "start_time": "2025-03-28T15:43:47.946Z"
   },
   {
    "duration": 37,
    "start_time": "2025-03-28T15:43:47.977Z"
   },
   {
    "duration": 32,
    "start_time": "2025-03-28T15:43:48.015Z"
   },
   {
    "duration": 30,
    "start_time": "2025-03-28T15:43:48.049Z"
   },
   {
    "duration": 25,
    "start_time": "2025-03-28T15:43:48.081Z"
   },
   {
    "duration": 598,
    "start_time": "2025-03-28T15:43:48.107Z"
   },
   {
    "duration": 605,
    "start_time": "2025-03-28T15:43:48.707Z"
   },
   {
    "duration": 624,
    "start_time": "2025-03-28T15:43:49.314Z"
   },
   {
    "duration": 576,
    "start_time": "2025-03-28T15:43:49.940Z"
   },
   {
    "duration": 4,
    "start_time": "2025-03-28T15:43:50.518Z"
   },
   {
    "duration": 22,
    "start_time": "2025-03-28T15:43:50.523Z"
   },
   {
    "duration": 39,
    "start_time": "2025-03-28T15:43:50.546Z"
   },
   {
    "duration": 8,
    "start_time": "2025-03-28T15:43:50.586Z"
   },
   {
    "duration": 12,
    "start_time": "2025-03-28T15:43:50.603Z"
   },
   {
    "duration": 44,
    "start_time": "2025-03-28T15:43:50.617Z"
   },
   {
    "duration": 15,
    "start_time": "2025-03-28T15:43:50.662Z"
   },
   {
    "duration": 12,
    "start_time": "2025-03-28T15:43:50.679Z"
   },
   {
    "duration": 9,
    "start_time": "2025-03-28T15:43:50.693Z"
   },
   {
    "duration": 13,
    "start_time": "2025-03-28T15:43:50.703Z"
   },
   {
    "duration": 31,
    "start_time": "2025-03-28T15:43:50.717Z"
   },
   {
    "duration": 88,
    "start_time": "2025-03-28T15:43:50.749Z"
   },
   {
    "duration": 11,
    "start_time": "2025-03-28T15:43:50.839Z"
   },
   {
    "duration": 82,
    "start_time": "2025-03-28T15:43:50.851Z"
   },
   {
    "duration": 3,
    "start_time": "2025-03-28T15:43:50.934Z"
   },
   {
    "duration": 5,
    "start_time": "2025-03-28T15:43:50.939Z"
   },
   {
    "duration": 89,
    "start_time": "2025-03-28T15:43:50.946Z"
   },
   {
    "duration": 10,
    "start_time": "2025-03-28T15:43:51.036Z"
   },
   {
    "duration": 37,
    "start_time": "2025-03-28T15:43:51.048Z"
   },
   {
    "duration": 4,
    "start_time": "2025-03-28T15:43:51.086Z"
   },
   {
    "duration": 19,
    "start_time": "2025-03-28T15:43:51.092Z"
   },
   {
    "duration": 4,
    "start_time": "2025-03-28T15:43:51.112Z"
   },
   {
    "duration": 7,
    "start_time": "2025-03-28T15:43:51.122Z"
   },
   {
    "duration": 9,
    "start_time": "2025-03-28T15:43:51.131Z"
   },
   {
    "duration": 10447,
    "start_time": "2025-03-28T15:53:48.399Z"
   },
   {
    "duration": 1773,
    "start_time": "2025-03-28T15:53:58.848Z"
   },
   {
    "duration": 4,
    "start_time": "2025-03-28T15:54:00.623Z"
   },
   {
    "duration": 279,
    "start_time": "2025-03-28T15:54:00.629Z"
   },
   {
    "duration": 1643,
    "start_time": "2025-03-28T15:54:00.911Z"
   },
   {
    "duration": 1137,
    "start_time": "2025-03-28T15:54:02.556Z"
   },
   {
    "duration": 10,
    "start_time": "2025-03-28T15:54:03.694Z"
   },
   {
    "duration": 11,
    "start_time": "2025-03-28T15:54:03.706Z"
   },
   {
    "duration": 7,
    "start_time": "2025-03-28T15:54:03.719Z"
   },
   {
    "duration": 27,
    "start_time": "2025-03-28T15:54:03.728Z"
   },
   {
    "duration": 113,
    "start_time": "2025-03-28T15:54:03.756Z"
   },
   {
    "duration": 2,
    "start_time": "2025-03-28T15:54:03.871Z"
   },
   {
    "duration": 100,
    "start_time": "2025-03-28T15:54:03.875Z"
   },
   {
    "duration": 35,
    "start_time": "2025-03-28T15:54:03.977Z"
   },
   {
    "duration": 203,
    "start_time": "2025-03-28T15:54:04.013Z"
   },
   {
    "duration": 935,
    "start_time": "2025-03-28T15:54:04.217Z"
   },
   {
    "duration": 280,
    "start_time": "2025-03-28T15:54:05.154Z"
   },
   {
    "duration": 546,
    "start_time": "2025-03-28T15:54:05.436Z"
   },
   {
    "duration": 23,
    "start_time": "2025-03-28T15:54:05.984Z"
   },
   {
    "duration": 42,
    "start_time": "2025-03-28T15:54:06.009Z"
   },
   {
    "duration": 9,
    "start_time": "2025-03-28T15:54:06.053Z"
   },
   {
    "duration": 210,
    "start_time": "2025-03-28T15:54:06.063Z"
   },
   {
    "duration": 1434,
    "start_time": "2025-03-28T15:54:06.275Z"
   },
   {
    "duration": 19,
    "start_time": "2025-03-28T15:54:07.711Z"
   },
   {
    "duration": 27,
    "start_time": "2025-03-28T15:54:07.732Z"
   },
   {
    "duration": 4,
    "start_time": "2025-03-28T15:54:07.760Z"
   },
   {
    "duration": 48,
    "start_time": "2025-03-28T15:54:07.765Z"
   },
   {
    "duration": 215,
    "start_time": "2025-03-28T15:54:07.818Z"
   },
   {
    "duration": 1478,
    "start_time": "2025-03-28T15:54:08.035Z"
   },
   {
    "duration": 5,
    "start_time": "2025-03-28T15:54:09.515Z"
   },
   {
    "duration": 38,
    "start_time": "2025-03-28T15:54:09.522Z"
   },
   {
    "duration": 4,
    "start_time": "2025-03-28T15:54:09.562Z"
   },
   {
    "duration": 43,
    "start_time": "2025-03-28T15:54:09.568Z"
   },
   {
    "duration": 13,
    "start_time": "2025-03-28T15:54:09.612Z"
   },
   {
    "duration": 355,
    "start_time": "2025-03-28T15:54:09.626Z"
   },
   {
    "duration": 9,
    "start_time": "2025-03-28T15:54:09.982Z"
   },
   {
    "duration": 24,
    "start_time": "2025-03-28T15:54:09.992Z"
   },
   {
    "duration": 24,
    "start_time": "2025-03-28T15:54:10.018Z"
   },
   {
    "duration": 4,
    "start_time": "2025-03-28T15:54:10.044Z"
   },
   {
    "duration": 25,
    "start_time": "2025-03-28T15:54:10.050Z"
   },
   {
    "duration": 15,
    "start_time": "2025-03-28T15:54:10.076Z"
   },
   {
    "duration": 21,
    "start_time": "2025-03-28T15:54:10.092Z"
   },
   {
    "duration": 5,
    "start_time": "2025-03-28T15:54:10.115Z"
   },
   {
    "duration": 2366,
    "start_time": "2025-03-28T15:54:10.122Z"
   },
   {
    "duration": 17402,
    "start_time": "2025-03-28T15:54:12.490Z"
   },
   {
    "duration": 37,
    "start_time": "2025-03-28T15:54:29.894Z"
   },
   {
    "duration": 35,
    "start_time": "2025-03-28T15:54:29.933Z"
   },
   {
    "duration": 44,
    "start_time": "2025-03-28T15:54:29.970Z"
   },
   {
    "duration": 88,
    "start_time": "2025-03-28T15:54:30.016Z"
   },
   {
    "duration": 51,
    "start_time": "2025-03-28T15:54:30.106Z"
   },
   {
    "duration": 14,
    "start_time": "2025-03-28T15:54:30.159Z"
   },
   {
    "duration": 40,
    "start_time": "2025-03-28T15:54:30.175Z"
   },
   {
    "duration": 40,
    "start_time": "2025-03-28T15:54:30.216Z"
   },
   {
    "duration": 42,
    "start_time": "2025-03-28T15:54:30.258Z"
   },
   {
    "duration": 65,
    "start_time": "2025-03-28T15:54:30.302Z"
   },
   {
    "duration": 638,
    "start_time": "2025-03-28T15:54:30.369Z"
   },
   {
    "duration": 634,
    "start_time": "2025-03-28T15:54:31.009Z"
   },
   {
    "duration": 639,
    "start_time": "2025-03-28T15:54:31.645Z"
   },
   {
    "duration": 591,
    "start_time": "2025-03-28T15:54:32.286Z"
   },
   {
    "duration": 4,
    "start_time": "2025-03-28T15:54:32.879Z"
   },
   {
    "duration": 30,
    "start_time": "2025-03-28T15:54:32.885Z"
   },
   {
    "duration": 38,
    "start_time": "2025-03-28T15:54:32.918Z"
   },
   {
    "duration": 9,
    "start_time": "2025-03-28T15:54:32.957Z"
   },
   {
    "duration": 12,
    "start_time": "2025-03-28T15:54:32.967Z"
   },
   {
    "duration": 23,
    "start_time": "2025-03-28T15:54:32.981Z"
   },
   {
    "duration": 12,
    "start_time": "2025-03-28T15:54:33.006Z"
   },
   {
    "duration": 6,
    "start_time": "2025-03-28T15:54:33.019Z"
   },
   {
    "duration": 7,
    "start_time": "2025-03-28T15:54:33.027Z"
   },
   {
    "duration": 9,
    "start_time": "2025-03-28T15:54:33.036Z"
   },
   {
    "duration": 35,
    "start_time": "2025-03-28T15:54:33.046Z"
   },
   {
    "duration": 112,
    "start_time": "2025-03-28T15:54:33.083Z"
   },
   {
    "duration": 11,
    "start_time": "2025-03-28T15:54:33.197Z"
   },
   {
    "duration": 82,
    "start_time": "2025-03-28T15:54:33.210Z"
   },
   {
    "duration": 9,
    "start_time": "2025-03-28T15:54:33.295Z"
   },
   {
    "duration": 25,
    "start_time": "2025-03-28T15:54:33.306Z"
   },
   {
    "duration": 76,
    "start_time": "2025-03-28T15:54:33.333Z"
   },
   {
    "duration": 11,
    "start_time": "2025-03-28T15:54:33.410Z"
   },
   {
    "duration": 39,
    "start_time": "2025-03-28T15:54:33.423Z"
   },
   {
    "duration": 76,
    "start_time": "2025-03-28T15:54:33.463Z"
   },
   {
    "duration": 17,
    "start_time": "2025-03-28T15:54:33.541Z"
   },
   {
    "duration": 11,
    "start_time": "2025-03-28T15:54:33.560Z"
   },
   {
    "duration": 2,
    "start_time": "2025-03-28T15:54:33.576Z"
   },
   {
    "duration": 5,
    "start_time": "2025-03-28T15:54:33.580Z"
   },
   {
    "duration": 10666,
    "start_time": "2025-03-28T15:55:48.883Z"
   },
   {
    "duration": 1745,
    "start_time": "2025-03-28T15:55:59.551Z"
   },
   {
    "duration": 4,
    "start_time": "2025-03-28T15:56:01.298Z"
   },
   {
    "duration": 269,
    "start_time": "2025-03-28T15:56:01.305Z"
   },
   {
    "duration": 1574,
    "start_time": "2025-03-28T15:56:01.576Z"
   },
   {
    "duration": 1085,
    "start_time": "2025-03-28T15:56:03.152Z"
   },
   {
    "duration": 4,
    "start_time": "2025-03-28T15:56:04.239Z"
   },
   {
    "duration": 11,
    "start_time": "2025-03-28T15:56:04.245Z"
   },
   {
    "duration": 11,
    "start_time": "2025-03-28T15:56:04.257Z"
   },
   {
    "duration": 40,
    "start_time": "2025-03-28T15:56:04.271Z"
   },
   {
    "duration": 106,
    "start_time": "2025-03-28T15:56:04.312Z"
   },
   {
    "duration": 2,
    "start_time": "2025-03-28T15:56:04.420Z"
   },
   {
    "duration": 104,
    "start_time": "2025-03-28T15:56:04.423Z"
   },
   {
    "duration": 23,
    "start_time": "2025-03-28T15:56:04.529Z"
   },
   {
    "duration": 215,
    "start_time": "2025-03-28T15:56:04.553Z"
   },
   {
    "duration": 922,
    "start_time": "2025-03-28T15:56:04.770Z"
   },
   {
    "duration": 283,
    "start_time": "2025-03-28T15:56:05.694Z"
   },
   {
    "duration": 578,
    "start_time": "2025-03-28T15:56:05.979Z"
   },
   {
    "duration": 12,
    "start_time": "2025-03-28T15:56:06.558Z"
   },
   {
    "duration": 47,
    "start_time": "2025-03-28T15:56:06.572Z"
   },
   {
    "duration": 11,
    "start_time": "2025-03-28T15:56:06.621Z"
   },
   {
    "duration": 238,
    "start_time": "2025-03-28T15:56:06.634Z"
   },
   {
    "duration": 1487,
    "start_time": "2025-03-28T15:56:06.874Z"
   },
   {
    "duration": 19,
    "start_time": "2025-03-28T15:56:08.363Z"
   },
   {
    "duration": 37,
    "start_time": "2025-03-28T15:56:08.384Z"
   },
   {
    "duration": 4,
    "start_time": "2025-03-28T15:56:08.423Z"
   },
   {
    "duration": 37,
    "start_time": "2025-03-28T15:56:08.429Z"
   },
   {
    "duration": 201,
    "start_time": "2025-03-28T15:56:08.470Z"
   },
   {
    "duration": 2245,
    "start_time": "2025-03-28T15:56:08.673Z"
   },
   {
    "duration": 5,
    "start_time": "2025-03-28T15:56:10.920Z"
   },
   {
    "duration": 37,
    "start_time": "2025-03-28T15:56:10.927Z"
   },
   {
    "duration": 4,
    "start_time": "2025-03-28T15:56:10.966Z"
   },
   {
    "duration": 41,
    "start_time": "2025-03-28T15:56:10.971Z"
   },
   {
    "duration": 13,
    "start_time": "2025-03-28T15:56:11.014Z"
   },
   {
    "duration": 330,
    "start_time": "2025-03-28T15:56:11.029Z"
   },
   {
    "duration": 10,
    "start_time": "2025-03-28T15:56:11.360Z"
   },
   {
    "duration": 33,
    "start_time": "2025-03-28T15:56:11.372Z"
   },
   {
    "duration": 26,
    "start_time": "2025-03-28T15:56:11.406Z"
   },
   {
    "duration": 3,
    "start_time": "2025-03-28T15:56:11.434Z"
   },
   {
    "duration": 91,
    "start_time": "2025-03-28T15:56:11.439Z"
   },
   {
    "duration": 4,
    "start_time": "2025-03-28T15:56:11.532Z"
   },
   {
    "duration": 12,
    "start_time": "2025-03-28T15:56:11.537Z"
   },
   {
    "duration": 12,
    "start_time": "2025-03-28T15:56:11.550Z"
   },
   {
    "duration": 2393,
    "start_time": "2025-03-28T15:56:11.564Z"
   },
   {
    "duration": 17112,
    "start_time": "2025-03-28T15:56:13.959Z"
   },
   {
    "duration": 58,
    "start_time": "2025-03-28T15:56:31.106Z"
   },
   {
    "duration": 73,
    "start_time": "2025-03-28T15:56:31.166Z"
   },
   {
    "duration": 28,
    "start_time": "2025-03-28T15:56:31.240Z"
   },
   {
    "duration": 39,
    "start_time": "2025-03-28T15:56:31.270Z"
   },
   {
    "duration": 14,
    "start_time": "2025-03-28T15:56:31.311Z"
   },
   {
    "duration": 11,
    "start_time": "2025-03-28T15:56:31.327Z"
   },
   {
    "duration": 21,
    "start_time": "2025-03-28T15:56:31.340Z"
   },
   {
    "duration": 47,
    "start_time": "2025-03-28T15:56:31.362Z"
   },
   {
    "duration": 31,
    "start_time": "2025-03-28T15:56:31.411Z"
   },
   {
    "duration": 42,
    "start_time": "2025-03-28T15:56:31.443Z"
   },
   {
    "duration": 644,
    "start_time": "2025-03-28T15:56:31.487Z"
   },
   {
    "duration": 680,
    "start_time": "2025-03-28T15:56:32.132Z"
   },
   {
    "duration": 630,
    "start_time": "2025-03-28T15:56:32.814Z"
   },
   {
    "duration": 580,
    "start_time": "2025-03-28T15:56:33.446Z"
   },
   {
    "duration": 5,
    "start_time": "2025-03-28T15:56:34.028Z"
   },
   {
    "duration": 5,
    "start_time": "2025-03-28T15:56:34.035Z"
   },
   {
    "duration": 28,
    "start_time": "2025-03-28T15:56:34.042Z"
   },
   {
    "duration": 32,
    "start_time": "2025-03-28T15:56:34.072Z"
   },
   {
    "duration": 14,
    "start_time": "2025-03-28T15:56:34.106Z"
   },
   {
    "duration": 14,
    "start_time": "2025-03-28T15:56:34.122Z"
   },
   {
    "duration": 4,
    "start_time": "2025-03-28T15:56:34.138Z"
   },
   {
    "duration": 5,
    "start_time": "2025-03-28T15:56:34.145Z"
   },
   {
    "duration": 11,
    "start_time": "2025-03-28T15:56:34.152Z"
   },
   {
    "duration": 45,
    "start_time": "2025-03-28T15:56:34.165Z"
   },
   {
    "duration": 28,
    "start_time": "2025-03-28T15:56:34.213Z"
   },
   {
    "duration": 69,
    "start_time": "2025-03-28T15:56:34.243Z"
   },
   {
    "duration": 11,
    "start_time": "2025-03-28T15:56:34.314Z"
   },
   {
    "duration": 77,
    "start_time": "2025-03-28T15:56:34.327Z"
   },
   {
    "duration": 3,
    "start_time": "2025-03-28T15:56:34.406Z"
   },
   {
    "duration": 15,
    "start_time": "2025-03-28T15:56:34.410Z"
   },
   {
    "duration": 109,
    "start_time": "2025-03-28T15:56:34.427Z"
   },
   {
    "duration": 10,
    "start_time": "2025-03-28T15:56:34.537Z"
   },
   {
    "duration": 27,
    "start_time": "2025-03-28T15:56:34.548Z"
   },
   {
    "duration": 45,
    "start_time": "2025-03-28T15:56:34.577Z"
   },
   {
    "duration": 37,
    "start_time": "2025-03-28T15:56:34.624Z"
   },
   {
    "duration": 6,
    "start_time": "2025-03-28T15:56:34.663Z"
   },
   {
    "duration": 9,
    "start_time": "2025-03-28T15:56:34.674Z"
   },
   {
    "duration": 38,
    "start_time": "2025-03-28T15:56:34.684Z"
   },
   {
    "duration": 1579,
    "start_time": "2025-03-28T16:02:52.336Z"
   },
   {
    "duration": 10369,
    "start_time": "2025-03-28T16:03:42.967Z"
   },
   {
    "duration": 1840,
    "start_time": "2025-03-28T16:03:53.338Z"
   },
   {
    "duration": 3,
    "start_time": "2025-03-28T16:03:55.180Z"
   },
   {
    "duration": 308,
    "start_time": "2025-03-28T16:03:55.185Z"
   },
   {
    "duration": 1562,
    "start_time": "2025-03-28T16:03:55.495Z"
   },
   {
    "duration": 1253,
    "start_time": "2025-03-28T16:03:57.059Z"
   },
   {
    "duration": 5,
    "start_time": "2025-03-28T16:03:58.313Z"
   },
   {
    "duration": 27,
    "start_time": "2025-03-28T16:03:58.319Z"
   },
   {
    "duration": 25,
    "start_time": "2025-03-28T16:03:58.348Z"
   },
   {
    "duration": 37,
    "start_time": "2025-03-28T16:03:58.376Z"
   },
   {
    "duration": 117,
    "start_time": "2025-03-28T16:03:58.415Z"
   },
   {
    "duration": 3,
    "start_time": "2025-03-28T16:03:58.533Z"
   },
   {
    "duration": 117,
    "start_time": "2025-03-28T16:03:58.537Z"
   },
   {
    "duration": 24,
    "start_time": "2025-03-28T16:03:58.655Z"
   },
   {
    "duration": 210,
    "start_time": "2025-03-28T16:03:58.680Z"
   },
   {
    "duration": 882,
    "start_time": "2025-03-28T16:03:58.891Z"
   },
   {
    "duration": 299,
    "start_time": "2025-03-28T16:03:59.774Z"
   },
   {
    "duration": 594,
    "start_time": "2025-03-28T16:04:00.074Z"
   },
   {
    "duration": 13,
    "start_time": "2025-03-28T16:04:00.670Z"
   },
   {
    "duration": 49,
    "start_time": "2025-03-28T16:04:00.685Z"
   },
   {
    "duration": 10,
    "start_time": "2025-03-28T16:04:00.736Z"
   },
   {
    "duration": 220,
    "start_time": "2025-03-28T16:04:00.747Z"
   },
   {
    "duration": 1443,
    "start_time": "2025-03-28T16:04:00.969Z"
   },
   {
    "duration": 29,
    "start_time": "2025-03-28T16:04:02.414Z"
   },
   {
    "duration": 59,
    "start_time": "2025-03-28T16:04:02.445Z"
   },
   {
    "duration": 4,
    "start_time": "2025-03-28T16:04:02.506Z"
   },
   {
    "duration": 36,
    "start_time": "2025-03-28T16:04:02.512Z"
   },
   {
    "duration": 306,
    "start_time": "2025-03-28T16:04:02.553Z"
   },
   {
    "duration": 1578,
    "start_time": "2025-03-28T16:04:02.861Z"
   },
   {
    "duration": 6,
    "start_time": "2025-03-28T16:04:04.441Z"
   },
   {
    "duration": 119,
    "start_time": "2025-03-28T16:04:04.449Z"
   },
   {
    "duration": 3,
    "start_time": "2025-03-28T16:04:04.570Z"
   },
   {
    "duration": 29,
    "start_time": "2025-03-28T16:04:04.575Z"
   },
   {
    "duration": 25,
    "start_time": "2025-03-28T16:04:04.606Z"
   },
   {
    "duration": 361,
    "start_time": "2025-03-28T16:04:04.632Z"
   },
   {
    "duration": 12,
    "start_time": "2025-03-28T16:04:04.995Z"
   },
   {
    "duration": 35,
    "start_time": "2025-03-28T16:04:05.009Z"
   },
   {
    "duration": 48,
    "start_time": "2025-03-28T16:04:05.046Z"
   },
   {
    "duration": 8,
    "start_time": "2025-03-28T16:04:05.096Z"
   },
   {
    "duration": 114,
    "start_time": "2025-03-28T16:04:05.106Z"
   },
   {
    "duration": 11,
    "start_time": "2025-03-28T16:04:05.222Z"
   },
   {
    "duration": 34,
    "start_time": "2025-03-28T16:04:05.235Z"
   },
   {
    "duration": 48,
    "start_time": "2025-03-28T16:04:05.271Z"
   },
   {
    "duration": 2450,
    "start_time": "2025-03-28T16:04:05.321Z"
   },
   {
    "duration": 16831,
    "start_time": "2025-03-28T16:04:07.773Z"
   },
   {
    "duration": 53,
    "start_time": "2025-03-28T16:04:24.606Z"
   },
   {
    "duration": 74,
    "start_time": "2025-03-28T16:04:24.661Z"
   },
   {
    "duration": 48,
    "start_time": "2025-03-28T16:04:24.737Z"
   },
   {
    "duration": 25,
    "start_time": "2025-03-28T16:04:24.786Z"
   },
   {
    "duration": 10,
    "start_time": "2025-03-28T16:04:24.813Z"
   },
   {
    "duration": 6,
    "start_time": "2025-03-28T16:04:24.825Z"
   },
   {
    "duration": 21,
    "start_time": "2025-03-28T16:04:24.833Z"
   },
   {
    "duration": 29,
    "start_time": "2025-03-28T16:04:24.856Z"
   },
   {
    "duration": 23,
    "start_time": "2025-03-28T16:04:24.903Z"
   },
   {
    "duration": 20,
    "start_time": "2025-03-28T16:04:24.928Z"
   },
   {
    "duration": 998,
    "start_time": "2025-03-28T16:04:24.949Z"
   },
   {
    "duration": 1020,
    "start_time": "2025-03-28T16:04:25.949Z"
   },
   {
    "duration": 627,
    "start_time": "2025-03-28T16:04:26.971Z"
   },
   {
    "duration": 579,
    "start_time": "2025-03-28T16:04:27.604Z"
   },
   {
    "duration": 4,
    "start_time": "2025-03-28T16:04:28.184Z"
   },
   {
    "duration": 14,
    "start_time": "2025-03-28T16:04:28.190Z"
   },
   {
    "duration": 30,
    "start_time": "2025-03-28T16:04:28.206Z"
   },
   {
    "duration": 8,
    "start_time": "2025-03-28T16:04:28.237Z"
   },
   {
    "duration": 11,
    "start_time": "2025-03-28T16:04:28.246Z"
   },
   {
    "duration": 30,
    "start_time": "2025-03-28T16:04:28.259Z"
   },
   {
    "duration": 4,
    "start_time": "2025-03-28T16:04:28.304Z"
   },
   {
    "duration": 9,
    "start_time": "2025-03-28T16:04:28.309Z"
   },
   {
    "duration": 6,
    "start_time": "2025-03-28T16:04:28.320Z"
   },
   {
    "duration": 9,
    "start_time": "2025-03-28T16:04:28.327Z"
   },
   {
    "duration": 31,
    "start_time": "2025-03-28T16:04:28.338Z"
   },
   {
    "duration": 132,
    "start_time": "2025-03-28T16:04:28.371Z"
   },
   {
    "duration": 12,
    "start_time": "2025-03-28T16:04:28.506Z"
   },
   {
    "duration": 99,
    "start_time": "2025-03-28T16:04:28.520Z"
   },
   {
    "duration": 3,
    "start_time": "2025-03-28T16:04:28.620Z"
   },
   {
    "duration": 20,
    "start_time": "2025-03-28T16:04:28.624Z"
   },
   {
    "duration": 94,
    "start_time": "2025-03-28T16:04:28.646Z"
   },
   {
    "duration": 10,
    "start_time": "2025-03-28T16:04:28.742Z"
   },
   {
    "duration": 20,
    "start_time": "2025-03-28T16:04:28.754Z"
   },
   {
    "duration": 17,
    "start_time": "2025-03-28T16:04:28.776Z"
   },
   {
    "duration": 30,
    "start_time": "2025-03-28T16:04:28.794Z"
   },
   {
    "duration": 4,
    "start_time": "2025-03-28T16:04:28.826Z"
   },
   {
    "duration": 24,
    "start_time": "2025-03-28T16:04:28.836Z"
   },
   {
    "duration": 63,
    "start_time": "2025-03-28T16:04:28.861Z"
   },
   {
    "duration": 160,
    "start_time": "2025-03-28T16:04:28.925Z"
   },
   {
    "duration": 0,
    "start_time": "2025-03-28T16:04:29.087Z"
   },
   {
    "duration": 0,
    "start_time": "2025-03-28T16:04:29.088Z"
   },
   {
    "duration": 0,
    "start_time": "2025-03-28T16:04:29.089Z"
   },
   {
    "duration": 0,
    "start_time": "2025-03-28T16:04:29.090Z"
   },
   {
    "duration": 0,
    "start_time": "2025-03-28T16:04:29.103Z"
   },
   {
    "duration": 0,
    "start_time": "2025-03-28T16:04:29.104Z"
   },
   {
    "duration": 0,
    "start_time": "2025-03-28T16:04:29.105Z"
   },
   {
    "duration": 0,
    "start_time": "2025-03-28T16:04:29.106Z"
   },
   {
    "duration": 0,
    "start_time": "2025-03-28T16:04:29.107Z"
   },
   {
    "duration": 0,
    "start_time": "2025-03-28T16:04:29.108Z"
   },
   {
    "duration": 0,
    "start_time": "2025-03-28T16:04:29.109Z"
   },
   {
    "duration": 10743,
    "start_time": "2025-03-28T16:06:37.957Z"
   },
   {
    "duration": 142,
    "start_time": "2025-03-28T16:06:52.832Z"
   },
   {
    "duration": 10229,
    "start_time": "2025-03-28T16:07:01.963Z"
   },
   {
    "duration": 125,
    "start_time": "2025-03-28T16:07:12.194Z"
   },
   {
    "duration": 0,
    "start_time": "2025-03-28T16:07:12.324Z"
   },
   {
    "duration": 0,
    "start_time": "2025-03-28T16:07:12.326Z"
   },
   {
    "duration": 0,
    "start_time": "2025-03-28T16:07:12.327Z"
   },
   {
    "duration": 0,
    "start_time": "2025-03-28T16:07:12.329Z"
   },
   {
    "duration": 0,
    "start_time": "2025-03-28T16:07:12.334Z"
   },
   {
    "duration": 0,
    "start_time": "2025-03-28T16:07:12.336Z"
   },
   {
    "duration": 0,
    "start_time": "2025-03-28T16:07:12.337Z"
   },
   {
    "duration": 0,
    "start_time": "2025-03-28T16:07:12.338Z"
   },
   {
    "duration": 0,
    "start_time": "2025-03-28T16:07:12.339Z"
   },
   {
    "duration": 0,
    "start_time": "2025-03-28T16:07:12.340Z"
   },
   {
    "duration": 0,
    "start_time": "2025-03-28T16:07:12.341Z"
   },
   {
    "duration": 0,
    "start_time": "2025-03-28T16:07:12.342Z"
   },
   {
    "duration": 0,
    "start_time": "2025-03-28T16:07:12.344Z"
   },
   {
    "duration": 0,
    "start_time": "2025-03-28T16:07:12.345Z"
   },
   {
    "duration": 0,
    "start_time": "2025-03-28T16:07:12.346Z"
   },
   {
    "duration": 0,
    "start_time": "2025-03-28T16:07:12.347Z"
   },
   {
    "duration": 0,
    "start_time": "2025-03-28T16:07:12.348Z"
   },
   {
    "duration": 0,
    "start_time": "2025-03-28T16:07:12.350Z"
   },
   {
    "duration": 0,
    "start_time": "2025-03-28T16:07:12.351Z"
   },
   {
    "duration": 1,
    "start_time": "2025-03-28T16:07:12.352Z"
   },
   {
    "duration": 0,
    "start_time": "2025-03-28T16:07:12.354Z"
   },
   {
    "duration": 0,
    "start_time": "2025-03-28T16:07:12.355Z"
   },
   {
    "duration": 0,
    "start_time": "2025-03-28T16:07:12.404Z"
   },
   {
    "duration": 0,
    "start_time": "2025-03-28T16:07:12.405Z"
   },
   {
    "duration": 0,
    "start_time": "2025-03-28T16:07:12.407Z"
   },
   {
    "duration": 0,
    "start_time": "2025-03-28T16:07:12.408Z"
   },
   {
    "duration": 0,
    "start_time": "2025-03-28T16:07:12.409Z"
   },
   {
    "duration": 0,
    "start_time": "2025-03-28T16:07:12.410Z"
   },
   {
    "duration": 0,
    "start_time": "2025-03-28T16:07:12.411Z"
   },
   {
    "duration": 0,
    "start_time": "2025-03-28T16:07:12.412Z"
   },
   {
    "duration": 0,
    "start_time": "2025-03-28T16:07:12.413Z"
   },
   {
    "duration": 0,
    "start_time": "2025-03-28T16:07:12.414Z"
   },
   {
    "duration": 0,
    "start_time": "2025-03-28T16:07:12.415Z"
   },
   {
    "duration": 0,
    "start_time": "2025-03-28T16:07:12.417Z"
   },
   {
    "duration": 0,
    "start_time": "2025-03-28T16:07:12.417Z"
   },
   {
    "duration": 0,
    "start_time": "2025-03-28T16:07:12.419Z"
   },
   {
    "duration": 0,
    "start_time": "2025-03-28T16:07:12.420Z"
   },
   {
    "duration": 0,
    "start_time": "2025-03-28T16:07:12.422Z"
   },
   {
    "duration": 0,
    "start_time": "2025-03-28T16:07:12.424Z"
   },
   {
    "duration": 0,
    "start_time": "2025-03-28T16:07:12.425Z"
   },
   {
    "duration": 0,
    "start_time": "2025-03-28T16:07:12.426Z"
   },
   {
    "duration": 0,
    "start_time": "2025-03-28T16:07:12.427Z"
   },
   {
    "duration": 0,
    "start_time": "2025-03-28T16:07:12.428Z"
   },
   {
    "duration": 0,
    "start_time": "2025-03-28T16:07:12.429Z"
   },
   {
    "duration": 0,
    "start_time": "2025-03-28T16:07:12.430Z"
   },
   {
    "duration": 0,
    "start_time": "2025-03-28T16:07:12.431Z"
   },
   {
    "duration": 0,
    "start_time": "2025-03-28T16:07:12.432Z"
   },
   {
    "duration": 0,
    "start_time": "2025-03-28T16:07:12.433Z"
   },
   {
    "duration": 0,
    "start_time": "2025-03-28T16:07:12.434Z"
   },
   {
    "duration": 0,
    "start_time": "2025-03-28T16:07:12.435Z"
   },
   {
    "duration": 0,
    "start_time": "2025-03-28T16:07:12.436Z"
   },
   {
    "duration": 0,
    "start_time": "2025-03-28T16:07:12.437Z"
   },
   {
    "duration": 0,
    "start_time": "2025-03-28T16:07:12.438Z"
   },
   {
    "duration": 0,
    "start_time": "2025-03-28T16:07:12.504Z"
   },
   {
    "duration": 0,
    "start_time": "2025-03-28T16:07:12.505Z"
   },
   {
    "duration": 0,
    "start_time": "2025-03-28T16:07:12.506Z"
   },
   {
    "duration": 0,
    "start_time": "2025-03-28T16:07:12.507Z"
   },
   {
    "duration": 0,
    "start_time": "2025-03-28T16:07:12.509Z"
   },
   {
    "duration": 0,
    "start_time": "2025-03-28T16:07:12.509Z"
   },
   {
    "duration": 0,
    "start_time": "2025-03-28T16:07:12.510Z"
   },
   {
    "duration": 0,
    "start_time": "2025-03-28T16:07:12.512Z"
   },
   {
    "duration": 0,
    "start_time": "2025-03-28T16:07:12.513Z"
   },
   {
    "duration": 0,
    "start_time": "2025-03-28T16:07:12.514Z"
   },
   {
    "duration": 0,
    "start_time": "2025-03-28T16:07:12.515Z"
   },
   {
    "duration": 0,
    "start_time": "2025-03-28T16:07:12.516Z"
   },
   {
    "duration": 0,
    "start_time": "2025-03-28T16:07:12.517Z"
   },
   {
    "duration": 0,
    "start_time": "2025-03-28T16:07:12.518Z"
   },
   {
    "duration": 0,
    "start_time": "2025-03-28T16:07:12.520Z"
   },
   {
    "duration": 0,
    "start_time": "2025-03-28T16:07:12.521Z"
   },
   {
    "duration": 0,
    "start_time": "2025-03-28T16:07:12.522Z"
   },
   {
    "duration": 0,
    "start_time": "2025-03-28T16:07:12.523Z"
   },
   {
    "duration": 0,
    "start_time": "2025-03-28T16:07:12.525Z"
   },
   {
    "duration": 0,
    "start_time": "2025-03-28T16:07:12.526Z"
   },
   {
    "duration": 0,
    "start_time": "2025-03-28T16:07:12.528Z"
   },
   {
    "duration": 0,
    "start_time": "2025-03-28T16:07:12.529Z"
   },
   {
    "duration": 0,
    "start_time": "2025-03-28T16:07:12.531Z"
   },
   {
    "duration": 0,
    "start_time": "2025-03-28T16:07:12.532Z"
   },
   {
    "duration": 0,
    "start_time": "2025-03-28T16:07:12.533Z"
   },
   {
    "duration": 0,
    "start_time": "2025-03-28T16:07:12.535Z"
   },
   {
    "duration": 0,
    "start_time": "2025-03-28T16:07:12.536Z"
   },
   {
    "duration": 0,
    "start_time": "2025-03-28T16:07:12.537Z"
   },
   {
    "duration": 0,
    "start_time": "2025-03-28T16:07:12.604Z"
   },
   {
    "duration": 0,
    "start_time": "2025-03-28T16:07:12.606Z"
   },
   {
    "duration": 0,
    "start_time": "2025-03-28T16:07:12.607Z"
   },
   {
    "duration": 0,
    "start_time": "2025-03-28T16:07:12.609Z"
   },
   {
    "duration": 0,
    "start_time": "2025-03-28T16:07:12.610Z"
   },
   {
    "duration": 0,
    "start_time": "2025-03-28T16:07:12.611Z"
   },
   {
    "duration": 0,
    "start_time": "2025-03-28T16:07:12.613Z"
   },
   {
    "duration": 0,
    "start_time": "2025-03-28T16:07:12.614Z"
   },
   {
    "duration": 0,
    "start_time": "2025-03-28T16:07:12.616Z"
   },
   {
    "duration": 0,
    "start_time": "2025-03-28T16:07:12.617Z"
   },
   {
    "duration": 0,
    "start_time": "2025-03-28T16:07:12.619Z"
   },
   {
    "duration": 0,
    "start_time": "2025-03-28T16:07:12.620Z"
   },
   {
    "duration": 0,
    "start_time": "2025-03-28T16:07:12.622Z"
   },
   {
    "duration": 5,
    "start_time": "2025-03-28T16:07:27.729Z"
   },
   {
    "duration": 9802,
    "start_time": "2025-03-28T16:10:03.112Z"
   },
   {
    "duration": 1628,
    "start_time": "2025-03-28T16:10:12.916Z"
   },
   {
    "duration": 4,
    "start_time": "2025-03-28T16:10:14.546Z"
   },
   {
    "duration": 259,
    "start_time": "2025-03-28T16:10:14.553Z"
   },
   {
    "duration": 1541,
    "start_time": "2025-03-28T16:10:14.814Z"
   },
   {
    "duration": 1150,
    "start_time": "2025-03-28T16:10:16.356Z"
   },
   {
    "duration": 4,
    "start_time": "2025-03-28T16:10:17.508Z"
   },
   {
    "duration": 28,
    "start_time": "2025-03-28T16:10:17.514Z"
   },
   {
    "duration": 17,
    "start_time": "2025-03-28T16:10:17.544Z"
   },
   {
    "duration": 34,
    "start_time": "2025-03-28T16:10:17.563Z"
   },
   {
    "duration": 137,
    "start_time": "2025-03-28T16:10:17.600Z"
   },
   {
    "duration": 3,
    "start_time": "2025-03-28T16:10:17.739Z"
   },
   {
    "duration": 140,
    "start_time": "2025-03-28T16:10:17.744Z"
   },
   {
    "duration": 34,
    "start_time": "2025-03-28T16:10:17.886Z"
   },
   {
    "duration": 200,
    "start_time": "2025-03-28T16:10:17.921Z"
   },
   {
    "duration": 932,
    "start_time": "2025-03-28T16:10:18.123Z"
   },
   {
    "duration": 300,
    "start_time": "2025-03-28T16:10:19.056Z"
   },
   {
    "duration": 614,
    "start_time": "2025-03-28T16:10:19.358Z"
   },
   {
    "duration": 14,
    "start_time": "2025-03-28T16:10:19.974Z"
   },
   {
    "duration": 18,
    "start_time": "2025-03-28T16:10:20.003Z"
   },
   {
    "duration": 18,
    "start_time": "2025-03-28T16:10:20.022Z"
   },
   {
    "duration": 236,
    "start_time": "2025-03-28T16:10:20.041Z"
   },
   {
    "duration": 1453,
    "start_time": "2025-03-28T16:10:20.278Z"
   },
   {
    "duration": 21,
    "start_time": "2025-03-28T16:10:21.732Z"
   },
   {
    "duration": 49,
    "start_time": "2025-03-28T16:10:21.755Z"
   },
   {
    "duration": 3,
    "start_time": "2025-03-28T16:10:21.806Z"
   },
   {
    "duration": 37,
    "start_time": "2025-03-28T16:10:21.811Z"
   },
   {
    "duration": 207,
    "start_time": "2025-03-28T16:10:21.853Z"
   },
   {
    "duration": 1468,
    "start_time": "2025-03-28T16:10:22.062Z"
   },
   {
    "duration": 5,
    "start_time": "2025-03-28T16:10:23.532Z"
   },
   {
    "duration": 55,
    "start_time": "2025-03-28T16:10:23.538Z"
   },
   {
    "duration": 9,
    "start_time": "2025-03-28T16:10:23.595Z"
   },
   {
    "duration": 17,
    "start_time": "2025-03-28T16:10:23.606Z"
   },
   {
    "duration": 13,
    "start_time": "2025-03-28T16:10:23.624Z"
   },
   {
    "duration": 351,
    "start_time": "2025-03-28T16:10:23.639Z"
   },
   {
    "duration": 13,
    "start_time": "2025-03-28T16:10:23.992Z"
   },
   {
    "duration": 55,
    "start_time": "2025-03-28T16:10:24.006Z"
   },
   {
    "duration": 98,
    "start_time": "2025-03-28T16:10:24.062Z"
   },
   {
    "duration": 4,
    "start_time": "2025-03-28T16:10:24.161Z"
   },
   {
    "duration": 17,
    "start_time": "2025-03-28T16:10:24.167Z"
   },
   {
    "duration": 5,
    "start_time": "2025-03-28T16:10:24.186Z"
   },
   {
    "duration": 4,
    "start_time": "2025-03-28T16:10:24.193Z"
   },
   {
    "duration": 11,
    "start_time": "2025-03-28T16:10:24.199Z"
   },
   {
    "duration": 2345,
    "start_time": "2025-03-28T16:10:24.211Z"
   },
   {
    "duration": 17390,
    "start_time": "2025-03-28T16:10:26.558Z"
   },
   {
    "duration": 40,
    "start_time": "2025-03-28T16:10:43.950Z"
   },
   {
    "duration": 44,
    "start_time": "2025-03-28T16:10:43.991Z"
   },
   {
    "duration": 26,
    "start_time": "2025-03-28T16:10:44.036Z"
   },
   {
    "duration": 24,
    "start_time": "2025-03-28T16:10:44.064Z"
   },
   {
    "duration": 5,
    "start_time": "2025-03-28T16:10:44.104Z"
   },
   {
    "duration": 6,
    "start_time": "2025-03-28T16:10:44.110Z"
   },
   {
    "duration": 20,
    "start_time": "2025-03-28T16:10:44.118Z"
   },
   {
    "duration": 29,
    "start_time": "2025-03-28T16:10:44.140Z"
   },
   {
    "duration": 47,
    "start_time": "2025-03-28T16:10:44.171Z"
   },
   {
    "duration": 19,
    "start_time": "2025-03-28T16:10:44.219Z"
   },
   {
    "duration": 617,
    "start_time": "2025-03-28T16:10:44.239Z"
   },
   {
    "duration": 647,
    "start_time": "2025-03-28T16:10:44.858Z"
   },
   {
    "duration": 633,
    "start_time": "2025-03-28T16:10:45.508Z"
   },
   {
    "duration": 586,
    "start_time": "2025-03-28T16:10:46.143Z"
   },
   {
    "duration": 5,
    "start_time": "2025-03-28T16:10:46.732Z"
   },
   {
    "duration": 20,
    "start_time": "2025-03-28T16:10:46.738Z"
   },
   {
    "duration": 47,
    "start_time": "2025-03-28T16:10:46.760Z"
   },
   {
    "duration": 7,
    "start_time": "2025-03-28T16:10:46.808Z"
   },
   {
    "duration": 11,
    "start_time": "2025-03-28T16:10:46.816Z"
   },
   {
    "duration": 10,
    "start_time": "2025-03-28T16:10:46.829Z"
   },
   {
    "duration": 6,
    "start_time": "2025-03-28T16:10:46.841Z"
   },
   {
    "duration": 5,
    "start_time": "2025-03-28T16:10:46.848Z"
   },
   {
    "duration": 6,
    "start_time": "2025-03-28T16:10:46.855Z"
   },
   {
    "duration": 44,
    "start_time": "2025-03-28T16:10:46.862Z"
   },
   {
    "duration": 16,
    "start_time": "2025-03-28T16:10:46.908Z"
   },
   {
    "duration": 77,
    "start_time": "2025-03-28T16:10:46.926Z"
   },
   {
    "duration": 11,
    "start_time": "2025-03-28T16:10:47.005Z"
   },
   {
    "duration": 64,
    "start_time": "2025-03-28T16:10:47.017Z"
   },
   {
    "duration": 3,
    "start_time": "2025-03-28T16:10:47.082Z"
   },
   {
    "duration": 47,
    "start_time": "2025-03-28T16:10:47.086Z"
   },
   {
    "duration": 70,
    "start_time": "2025-03-28T16:10:47.135Z"
   },
   {
    "duration": 10,
    "start_time": "2025-03-28T16:10:47.207Z"
   },
   {
    "duration": 28,
    "start_time": "2025-03-28T16:10:47.218Z"
   },
   {
    "duration": 98,
    "start_time": "2025-03-28T16:10:47.247Z"
   },
   {
    "duration": 0,
    "start_time": "2025-03-28T16:10:47.348Z"
   },
   {
    "duration": 0,
    "start_time": "2025-03-28T16:10:47.349Z"
   },
   {
    "duration": 0,
    "start_time": "2025-03-28T16:10:47.351Z"
   },
   {
    "duration": 0,
    "start_time": "2025-03-28T16:10:47.353Z"
   },
   {
    "duration": 0,
    "start_time": "2025-03-28T16:10:47.355Z"
   },
   {
    "duration": 0,
    "start_time": "2025-03-28T16:10:47.356Z"
   },
   {
    "duration": 0,
    "start_time": "2025-03-28T16:10:47.358Z"
   },
   {
    "duration": 0,
    "start_time": "2025-03-28T16:10:47.359Z"
   },
   {
    "duration": 0,
    "start_time": "2025-03-28T16:10:47.361Z"
   },
   {
    "duration": 0,
    "start_time": "2025-03-28T16:10:47.362Z"
   },
   {
    "duration": 0,
    "start_time": "2025-03-28T16:10:47.364Z"
   },
   {
    "duration": 0,
    "start_time": "2025-03-28T16:10:47.366Z"
   },
   {
    "duration": 0,
    "start_time": "2025-03-28T16:10:47.367Z"
   },
   {
    "duration": 0,
    "start_time": "2025-03-28T16:10:47.376Z"
   },
   {
    "duration": 0,
    "start_time": "2025-03-28T16:10:47.377Z"
   },
   {
    "duration": 0,
    "start_time": "2025-03-28T16:10:47.379Z"
   },
   {
    "duration": 0,
    "start_time": "2025-03-28T16:10:47.380Z"
   },
   {
    "duration": 125,
    "start_time": "2025-03-28T16:11:05.336Z"
   },
   {
    "duration": 761,
    "start_time": "2025-03-28T16:11:21.628Z"
   },
   {
    "duration": 3,
    "start_time": "2025-03-28T16:11:36.202Z"
   },
   {
    "duration": 10135,
    "start_time": "2025-03-28T16:57:37.691Z"
   },
   {
    "duration": 1666,
    "start_time": "2025-03-28T16:57:47.828Z"
   },
   {
    "duration": 4,
    "start_time": "2025-03-28T16:57:49.495Z"
   },
   {
    "duration": 253,
    "start_time": "2025-03-28T16:57:49.500Z"
   },
   {
    "duration": 1500,
    "start_time": "2025-03-28T16:57:49.756Z"
   },
   {
    "duration": 1138,
    "start_time": "2025-03-28T16:57:51.257Z"
   },
   {
    "duration": 9,
    "start_time": "2025-03-28T16:57:52.397Z"
   },
   {
    "duration": 21,
    "start_time": "2025-03-28T16:57:52.407Z"
   },
   {
    "duration": 10,
    "start_time": "2025-03-28T16:57:52.430Z"
   },
   {
    "duration": 30,
    "start_time": "2025-03-28T16:57:52.441Z"
   },
   {
    "duration": 102,
    "start_time": "2025-03-28T16:57:52.473Z"
   },
   {
    "duration": 3,
    "start_time": "2025-03-28T16:57:52.577Z"
   },
   {
    "duration": 111,
    "start_time": "2025-03-28T16:57:52.581Z"
   },
   {
    "duration": 23,
    "start_time": "2025-03-28T16:57:52.695Z"
   },
   {
    "duration": 201,
    "start_time": "2025-03-28T16:57:52.719Z"
   },
   {
    "duration": 881,
    "start_time": "2025-03-28T16:57:52.922Z"
   },
   {
    "duration": 275,
    "start_time": "2025-03-28T16:57:53.805Z"
   },
   {
    "duration": 574,
    "start_time": "2025-03-28T16:57:54.081Z"
   },
   {
    "duration": 13,
    "start_time": "2025-03-28T16:57:54.656Z"
   },
   {
    "duration": 42,
    "start_time": "2025-03-28T16:57:54.670Z"
   },
   {
    "duration": 11,
    "start_time": "2025-03-28T16:57:54.713Z"
   },
   {
    "duration": 234,
    "start_time": "2025-03-28T16:57:54.726Z"
   },
   {
    "duration": 1368,
    "start_time": "2025-03-28T16:57:54.961Z"
   },
   {
    "duration": 21,
    "start_time": "2025-03-28T16:57:56.331Z"
   },
   {
    "duration": 50,
    "start_time": "2025-03-28T16:57:56.354Z"
   },
   {
    "duration": 4,
    "start_time": "2025-03-28T16:57:56.406Z"
   },
   {
    "duration": 20,
    "start_time": "2025-03-28T16:57:56.412Z"
   },
   {
    "duration": 231,
    "start_time": "2025-03-28T16:57:56.433Z"
   },
   {
    "duration": 1423,
    "start_time": "2025-03-28T16:57:56.665Z"
   },
   {
    "duration": 15,
    "start_time": "2025-03-28T16:57:58.089Z"
   },
   {
    "duration": 36,
    "start_time": "2025-03-28T16:57:58.106Z"
   },
   {
    "duration": 4,
    "start_time": "2025-03-28T16:57:58.144Z"
   },
   {
    "duration": 25,
    "start_time": "2025-03-28T16:57:58.149Z"
   },
   {
    "duration": 29,
    "start_time": "2025-03-28T16:57:58.176Z"
   },
   {
    "duration": 314,
    "start_time": "2025-03-28T16:57:58.206Z"
   },
   {
    "duration": 10,
    "start_time": "2025-03-28T16:57:58.521Z"
   },
   {
    "duration": 23,
    "start_time": "2025-03-28T16:57:58.532Z"
   },
   {
    "duration": 24,
    "start_time": "2025-03-28T16:57:58.556Z"
   },
   {
    "duration": 23,
    "start_time": "2025-03-28T16:57:58.582Z"
   },
   {
    "duration": 16,
    "start_time": "2025-03-28T16:57:58.607Z"
   },
   {
    "duration": 3,
    "start_time": "2025-03-28T16:57:58.627Z"
   },
   {
    "duration": 5,
    "start_time": "2025-03-28T16:57:58.632Z"
   },
   {
    "duration": 4,
    "start_time": "2025-03-28T16:57:58.639Z"
   },
   {
    "duration": 2355,
    "start_time": "2025-03-28T16:57:58.644Z"
   },
   {
    "duration": 16015,
    "start_time": "2025-03-28T16:58:01.001Z"
   },
   {
    "duration": 48,
    "start_time": "2025-03-28T16:58:17.019Z"
   },
   {
    "duration": 55,
    "start_time": "2025-03-28T16:58:17.068Z"
   },
   {
    "duration": 20,
    "start_time": "2025-03-28T16:58:17.125Z"
   },
   {
    "duration": 23,
    "start_time": "2025-03-28T16:58:17.146Z"
   },
   {
    "duration": 34,
    "start_time": "2025-03-28T16:58:17.170Z"
   },
   {
    "duration": 7,
    "start_time": "2025-03-28T16:58:17.206Z"
   },
   {
    "duration": 21,
    "start_time": "2025-03-28T16:58:17.214Z"
   },
   {
    "duration": 28,
    "start_time": "2025-03-28T16:58:17.236Z"
   },
   {
    "duration": 46,
    "start_time": "2025-03-28T16:58:17.265Z"
   },
   {
    "duration": 28,
    "start_time": "2025-03-28T16:58:17.313Z"
   },
   {
    "duration": 845,
    "start_time": "2025-03-28T16:58:17.343Z"
   },
   {
    "duration": 619,
    "start_time": "2025-03-28T16:58:18.190Z"
   },
   {
    "duration": 610,
    "start_time": "2025-03-28T16:58:18.811Z"
   },
   {
    "duration": 616,
    "start_time": "2025-03-28T16:58:19.424Z"
   },
   {
    "duration": 5,
    "start_time": "2025-03-28T16:58:20.042Z"
   },
   {
    "duration": 118,
    "start_time": "2025-03-28T16:58:20.048Z"
   },
   {
    "duration": 94,
    "start_time": "2025-03-28T16:58:20.168Z"
   },
   {
    "duration": 8,
    "start_time": "2025-03-28T16:58:20.264Z"
   },
   {
    "duration": 16,
    "start_time": "2025-03-28T16:58:20.274Z"
   },
   {
    "duration": 15,
    "start_time": "2025-03-28T16:58:20.292Z"
   },
   {
    "duration": 5,
    "start_time": "2025-03-28T16:58:20.309Z"
   },
   {
    "duration": 11,
    "start_time": "2025-03-28T16:58:20.316Z"
   },
   {
    "duration": 11,
    "start_time": "2025-03-28T16:58:20.329Z"
   },
   {
    "duration": 9,
    "start_time": "2025-03-28T16:58:20.342Z"
   },
   {
    "duration": 13,
    "start_time": "2025-03-28T16:58:20.352Z"
   },
   {
    "duration": 88,
    "start_time": "2025-03-28T16:58:20.367Z"
   },
   {
    "duration": 10,
    "start_time": "2025-03-28T16:58:20.457Z"
   },
   {
    "duration": 74,
    "start_time": "2025-03-28T16:58:20.469Z"
   },
   {
    "duration": 2,
    "start_time": "2025-03-28T16:58:20.544Z"
   },
   {
    "duration": 22,
    "start_time": "2025-03-28T16:58:20.548Z"
   },
   {
    "duration": 113,
    "start_time": "2025-03-28T16:58:20.572Z"
   },
   {
    "duration": 9,
    "start_time": "2025-03-28T16:58:20.687Z"
   },
   {
    "duration": 12,
    "start_time": "2025-03-28T16:58:20.697Z"
   },
   {
    "duration": 6,
    "start_time": "2025-03-28T16:58:20.710Z"
   },
   {
    "duration": 6,
    "start_time": "2025-03-28T16:58:20.717Z"
   },
   {
    "duration": 19,
    "start_time": "2025-03-28T16:58:20.724Z"
   },
   {
    "duration": 4,
    "start_time": "2025-03-28T16:58:20.744Z"
   },
   {
    "duration": 14,
    "start_time": "2025-03-28T16:58:20.749Z"
   },
   {
    "duration": 17,
    "start_time": "2025-03-28T16:58:20.764Z"
   },
   {
    "duration": 4,
    "start_time": "2025-03-28T16:58:20.783Z"
   },
   {
    "duration": 7696,
    "start_time": "2025-03-28T16:58:20.788Z"
   },
   {
    "duration": 72,
    "start_time": "2025-03-28T16:58:28.485Z"
   },
   {
    "duration": 0,
    "start_time": "2025-03-28T16:58:28.559Z"
   },
   {
    "duration": 0,
    "start_time": "2025-03-28T16:58:28.561Z"
   },
   {
    "duration": 0,
    "start_time": "2025-03-28T16:58:28.562Z"
   },
   {
    "duration": 0,
    "start_time": "2025-03-28T16:58:28.564Z"
   },
   {
    "duration": 0,
    "start_time": "2025-03-28T16:58:28.565Z"
   },
   {
    "duration": 0,
    "start_time": "2025-03-28T16:58:28.567Z"
   },
   {
    "duration": 9,
    "start_time": "2025-03-28T17:01:17.317Z"
   },
   {
    "duration": 463,
    "start_time": "2025-03-28T17:01:22.868Z"
   },
   {
    "duration": 11,
    "start_time": "2025-03-28T17:05:54.815Z"
   },
   {
    "duration": 7917,
    "start_time": "2025-03-28T17:06:01.161Z"
   },
   {
    "duration": 7,
    "start_time": "2025-03-28T17:07:37.353Z"
   },
   {
    "duration": 5,
    "start_time": "2025-03-28T17:15:03.426Z"
   },
   {
    "duration": 3130,
    "start_time": "2025-03-28T17:15:13.692Z"
   },
   {
    "duration": 7232,
    "start_time": "2025-03-28T17:15:42.348Z"
   },
   {
    "duration": 8,
    "start_time": "2025-03-28T17:53:54.088Z"
   },
   {
    "duration": 6,
    "start_time": "2025-03-28T17:54:02.639Z"
   },
   {
    "duration": 5,
    "start_time": "2025-03-28T17:54:12.164Z"
   },
   {
    "duration": 7443,
    "start_time": "2025-03-28T17:54:21.993Z"
   },
   {
    "duration": 14,
    "start_time": "2025-03-28T17:55:07.218Z"
   },
   {
    "duration": 10411,
    "start_time": "2025-03-28T17:55:46.341Z"
   },
   {
    "duration": 1050,
    "start_time": "2025-03-28T17:55:56.754Z"
   },
   {
    "duration": 4,
    "start_time": "2025-03-28T17:55:57.805Z"
   },
   {
    "duration": 257,
    "start_time": "2025-03-28T17:55:57.811Z"
   },
   {
    "duration": 1587,
    "start_time": "2025-03-28T17:55:58.070Z"
   },
   {
    "duration": 1155,
    "start_time": "2025-03-28T17:55:59.658Z"
   },
   {
    "duration": 4,
    "start_time": "2025-03-28T17:56:00.815Z"
   },
   {
    "duration": 28,
    "start_time": "2025-03-28T17:56:00.821Z"
   },
   {
    "duration": 27,
    "start_time": "2025-03-28T17:56:00.850Z"
   },
   {
    "duration": 46,
    "start_time": "2025-03-28T17:56:00.880Z"
   },
   {
    "duration": 99,
    "start_time": "2025-03-28T17:56:00.928Z"
   },
   {
    "duration": 3,
    "start_time": "2025-03-28T17:56:01.028Z"
   },
   {
    "duration": 109,
    "start_time": "2025-03-28T17:56:01.032Z"
   },
   {
    "duration": 23,
    "start_time": "2025-03-28T17:56:01.142Z"
   },
   {
    "duration": 205,
    "start_time": "2025-03-28T17:56:01.167Z"
   },
   {
    "duration": 898,
    "start_time": "2025-03-28T17:56:01.374Z"
   },
   {
    "duration": 289,
    "start_time": "2025-03-28T17:56:02.274Z"
   },
   {
    "duration": 541,
    "start_time": "2025-03-28T17:56:02.564Z"
   },
   {
    "duration": 12,
    "start_time": "2025-03-28T17:56:03.106Z"
   },
   {
    "duration": 59,
    "start_time": "2025-03-28T17:56:03.120Z"
   },
   {
    "duration": 13,
    "start_time": "2025-03-28T17:56:03.180Z"
   },
   {
    "duration": 225,
    "start_time": "2025-03-28T17:56:03.195Z"
   },
   {
    "duration": 1362,
    "start_time": "2025-03-28T17:56:03.422Z"
   },
   {
    "duration": 27,
    "start_time": "2025-03-28T17:56:04.786Z"
   },
   {
    "duration": 47,
    "start_time": "2025-03-28T17:56:04.815Z"
   },
   {
    "duration": 3,
    "start_time": "2025-03-28T17:56:04.864Z"
   },
   {
    "duration": 31,
    "start_time": "2025-03-28T17:56:04.868Z"
   },
   {
    "duration": 219,
    "start_time": "2025-03-28T17:56:04.903Z"
   },
   {
    "duration": 1388,
    "start_time": "2025-03-28T17:56:05.124Z"
   },
   {
    "duration": 5,
    "start_time": "2025-03-28T17:56:06.514Z"
   },
   {
    "duration": 51,
    "start_time": "2025-03-28T17:56:06.521Z"
   },
   {
    "duration": 4,
    "start_time": "2025-03-28T17:56:06.573Z"
   },
   {
    "duration": 50,
    "start_time": "2025-03-28T17:56:06.580Z"
   },
   {
    "duration": 13,
    "start_time": "2025-03-28T17:56:06.632Z"
   },
   {
    "duration": 321,
    "start_time": "2025-03-28T17:56:06.647Z"
   },
   {
    "duration": 9,
    "start_time": "2025-03-28T17:56:06.970Z"
   },
   {
    "duration": 36,
    "start_time": "2025-03-28T17:56:06.980Z"
   },
   {
    "duration": 32,
    "start_time": "2025-03-28T17:56:07.018Z"
   },
   {
    "duration": 4,
    "start_time": "2025-03-28T17:56:07.051Z"
   },
   {
    "duration": 35,
    "start_time": "2025-03-28T17:56:07.056Z"
   },
   {
    "duration": 38,
    "start_time": "2025-03-28T17:56:07.092Z"
   },
   {
    "duration": 31,
    "start_time": "2025-03-28T17:56:07.131Z"
   },
   {
    "duration": 21,
    "start_time": "2025-03-28T17:56:07.164Z"
   },
   {
    "duration": 2373,
    "start_time": "2025-03-28T17:56:07.187Z"
   },
   {
    "duration": 16334,
    "start_time": "2025-03-28T17:56:09.562Z"
   },
   {
    "duration": 44,
    "start_time": "2025-03-28T17:56:25.898Z"
   },
   {
    "duration": 35,
    "start_time": "2025-03-28T17:56:25.944Z"
   },
   {
    "duration": 26,
    "start_time": "2025-03-28T17:56:26.005Z"
   },
   {
    "duration": 32,
    "start_time": "2025-03-28T17:56:26.032Z"
   },
   {
    "duration": 6,
    "start_time": "2025-03-28T17:56:26.066Z"
   },
   {
    "duration": 6,
    "start_time": "2025-03-28T17:56:26.074Z"
   },
   {
    "duration": 45,
    "start_time": "2025-03-28T17:56:26.082Z"
   },
   {
    "duration": 29,
    "start_time": "2025-03-28T17:56:26.129Z"
   },
   {
    "duration": 43,
    "start_time": "2025-03-28T17:56:26.160Z"
   },
   {
    "duration": 20,
    "start_time": "2025-03-28T17:56:26.205Z"
   },
   {
    "duration": 619,
    "start_time": "2025-03-28T17:56:26.226Z"
   },
   {
    "duration": 657,
    "start_time": "2025-03-28T17:56:26.847Z"
   },
   {
    "duration": 649,
    "start_time": "2025-03-28T17:56:27.505Z"
   },
   {
    "duration": 564,
    "start_time": "2025-03-28T17:56:28.156Z"
   },
   {
    "duration": 4,
    "start_time": "2025-03-28T17:56:28.722Z"
   },
   {
    "duration": 7,
    "start_time": "2025-03-28T17:56:28.728Z"
   },
   {
    "duration": 32,
    "start_time": "2025-03-28T17:56:28.737Z"
   },
   {
    "duration": 8,
    "start_time": "2025-03-28T17:56:28.770Z"
   },
   {
    "duration": 13,
    "start_time": "2025-03-28T17:56:28.804Z"
   },
   {
    "duration": 13,
    "start_time": "2025-03-28T17:56:28.818Z"
   },
   {
    "duration": 5,
    "start_time": "2025-03-28T17:56:28.833Z"
   },
   {
    "duration": 5,
    "start_time": "2025-03-28T17:56:28.840Z"
   },
   {
    "duration": 7,
    "start_time": "2025-03-28T17:56:28.847Z"
   },
   {
    "duration": 52,
    "start_time": "2025-03-28T17:56:28.855Z"
   },
   {
    "duration": 17,
    "start_time": "2025-03-28T17:56:28.909Z"
   },
   {
    "duration": 87,
    "start_time": "2025-03-28T17:56:28.928Z"
   },
   {
    "duration": 13,
    "start_time": "2025-03-28T17:56:29.017Z"
   },
   {
    "duration": 84,
    "start_time": "2025-03-28T17:56:29.032Z"
   },
   {
    "duration": 3,
    "start_time": "2025-03-28T17:56:29.118Z"
   },
   {
    "duration": 45,
    "start_time": "2025-03-28T17:56:29.123Z"
   },
   {
    "duration": 110,
    "start_time": "2025-03-28T17:56:29.170Z"
   },
   {
    "duration": 11,
    "start_time": "2025-03-28T17:56:29.281Z"
   },
   {
    "duration": 19,
    "start_time": "2025-03-28T17:56:29.293Z"
   },
   {
    "duration": 4,
    "start_time": "2025-03-28T17:56:29.314Z"
   },
   {
    "duration": 18,
    "start_time": "2025-03-28T17:56:29.320Z"
   },
   {
    "duration": 41,
    "start_time": "2025-03-28T17:56:29.340Z"
   },
   {
    "duration": 4,
    "start_time": "2025-03-28T17:56:29.388Z"
   },
   {
    "duration": 7,
    "start_time": "2025-03-28T17:56:29.394Z"
   },
   {
    "duration": 32,
    "start_time": "2025-03-28T17:56:29.402Z"
   },
   {
    "duration": 13,
    "start_time": "2025-03-28T17:56:29.436Z"
   },
   {
    "duration": 39,
    "start_time": "2025-03-28T17:56:29.451Z"
   },
   {
    "duration": 50,
    "start_time": "2025-03-28T17:56:29.491Z"
   },
   {
    "duration": 10107,
    "start_time": "2025-03-28T17:56:29.543Z"
   },
   {
    "duration": 67,
    "start_time": "2025-03-28T17:56:39.651Z"
   },
   {
    "duration": 0,
    "start_time": "2025-03-28T17:56:39.719Z"
   },
   {
    "duration": 0,
    "start_time": "2025-03-28T17:56:39.721Z"
   },
   {
    "duration": 0,
    "start_time": "2025-03-28T17:56:39.722Z"
   },
   {
    "duration": 0,
    "start_time": "2025-03-28T17:56:39.723Z"
   },
   {
    "duration": 0,
    "start_time": "2025-03-28T17:56:39.724Z"
   },
   {
    "duration": 0,
    "start_time": "2025-03-28T17:56:39.725Z"
   },
   {
    "duration": 9811,
    "start_time": "2025-03-28T17:58:29.244Z"
   },
   {
    "duration": 0,
    "start_time": "2025-03-28T18:04:47.224Z"
   },
   {
    "duration": 10384,
    "start_time": "2025-03-28T18:04:51.320Z"
   },
   {
    "duration": 24537,
    "start_time": "2025-03-28T18:05:20.585Z"
   },
   {
    "duration": 36869,
    "start_time": "2025-03-28T18:06:02.854Z"
   },
   {
    "duration": 48480,
    "start_time": "2025-03-28T18:06:47.899Z"
   },
   {
    "duration": 78,
    "start_time": "2025-03-28T18:11:38.729Z"
   },
   {
    "duration": 3778,
    "start_time": "2025-03-28T18:12:40.762Z"
   },
   {
    "duration": 39425,
    "start_time": "2025-03-28T18:13:40.901Z"
   },
   {
    "duration": 43227,
    "start_time": "2025-03-28T18:16:49.624Z"
   },
   {
    "duration": 692855,
    "start_time": "2025-03-28T18:20:34.180Z"
   },
   {
    "duration": 137926,
    "start_time": "2025-03-28T18:32:10.369Z"
   },
   {
    "duration": 26,
    "start_time": "2025-03-28T18:51:05.505Z"
   },
   {
    "duration": 4,
    "start_time": "2025-03-28T18:51:26.719Z"
   },
   {
    "duration": 39,
    "start_time": "2025-03-28T18:51:49.815Z"
   },
   {
    "duration": 119,
    "start_time": "2025-03-28T18:52:36.971Z"
   },
   {
    "duration": 14881,
    "start_time": "2025-03-29T05:20:53.080Z"
   },
   {
    "duration": 1026,
    "start_time": "2025-03-29T05:21:07.964Z"
   },
   {
    "duration": 5,
    "start_time": "2025-03-29T05:21:08.991Z"
   },
   {
    "duration": 231,
    "start_time": "2025-03-29T05:21:09.006Z"
   },
   {
    "duration": 1410,
    "start_time": "2025-03-29T05:21:09.239Z"
   },
   {
    "duration": 1102,
    "start_time": "2025-03-29T05:21:10.650Z"
   },
   {
    "duration": 4,
    "start_time": "2025-03-29T05:21:11.753Z"
   },
   {
    "duration": 14,
    "start_time": "2025-03-29T05:21:11.759Z"
   },
   {
    "duration": 15,
    "start_time": "2025-03-29T05:21:11.774Z"
   },
   {
    "duration": 41,
    "start_time": "2025-03-29T05:21:11.793Z"
   },
   {
    "duration": 95,
    "start_time": "2025-03-29T05:21:11.836Z"
   },
   {
    "duration": 2,
    "start_time": "2025-03-29T05:21:11.933Z"
   },
   {
    "duration": 105,
    "start_time": "2025-03-29T05:21:11.936Z"
   },
   {
    "duration": 23,
    "start_time": "2025-03-29T05:21:12.043Z"
   },
   {
    "duration": 217,
    "start_time": "2025-03-29T05:21:12.067Z"
   },
   {
    "duration": 848,
    "start_time": "2025-03-29T05:21:12.286Z"
   },
   {
    "duration": 261,
    "start_time": "2025-03-29T05:21:13.136Z"
   },
   {
    "duration": 536,
    "start_time": "2025-03-29T05:21:13.399Z"
   },
   {
    "duration": 13,
    "start_time": "2025-03-29T05:21:13.937Z"
   },
   {
    "duration": 39,
    "start_time": "2025-03-29T05:21:13.952Z"
   },
   {
    "duration": 34,
    "start_time": "2025-03-29T05:21:13.992Z"
   },
   {
    "duration": 221,
    "start_time": "2025-03-29T05:21:14.028Z"
   },
   {
    "duration": 1296,
    "start_time": "2025-03-29T05:21:14.251Z"
   },
   {
    "duration": 19,
    "start_time": "2025-03-29T05:21:15.549Z"
   },
   {
    "duration": 44,
    "start_time": "2025-03-29T05:21:15.569Z"
   },
   {
    "duration": 3,
    "start_time": "2025-03-29T05:21:15.615Z"
   },
   {
    "duration": 15,
    "start_time": "2025-03-29T05:21:15.620Z"
   },
   {
    "duration": 200,
    "start_time": "2025-03-29T05:21:15.639Z"
   },
   {
    "duration": 1335,
    "start_time": "2025-03-29T05:21:15.840Z"
   },
   {
    "duration": 4,
    "start_time": "2025-03-29T05:21:17.177Z"
   },
   {
    "duration": 49,
    "start_time": "2025-03-29T05:21:17.183Z"
   },
   {
    "duration": 3,
    "start_time": "2025-03-29T05:21:17.234Z"
   },
   {
    "duration": 18,
    "start_time": "2025-03-29T05:21:17.239Z"
   },
   {
    "duration": 12,
    "start_time": "2025-03-29T05:21:17.258Z"
   },
   {
    "duration": 322,
    "start_time": "2025-03-29T05:21:17.272Z"
   },
   {
    "duration": 12,
    "start_time": "2025-03-29T05:21:17.596Z"
   },
   {
    "duration": 14,
    "start_time": "2025-03-29T05:21:17.610Z"
   },
   {
    "duration": 23,
    "start_time": "2025-03-29T05:21:17.625Z"
   },
   {
    "duration": 4,
    "start_time": "2025-03-29T05:21:17.650Z"
   },
   {
    "duration": 26,
    "start_time": "2025-03-29T05:21:17.655Z"
   },
   {
    "duration": 25,
    "start_time": "2025-03-29T05:21:17.683Z"
   },
   {
    "duration": 4,
    "start_time": "2025-03-29T05:21:17.710Z"
   },
   {
    "duration": 6,
    "start_time": "2025-03-29T05:21:17.715Z"
   },
   {
    "duration": 2229,
    "start_time": "2025-03-29T05:21:17.722Z"
   },
   {
    "duration": 15572,
    "start_time": "2025-03-29T05:21:19.952Z"
   },
   {
    "duration": 45,
    "start_time": "2025-03-29T05:21:35.526Z"
   },
   {
    "duration": 52,
    "start_time": "2025-03-29T05:21:35.573Z"
   },
   {
    "duration": 34,
    "start_time": "2025-03-29T05:21:35.627Z"
   },
   {
    "duration": 21,
    "start_time": "2025-03-29T05:21:35.663Z"
   },
   {
    "duration": 29,
    "start_time": "2025-03-29T05:21:35.685Z"
   },
   {
    "duration": 22,
    "start_time": "2025-03-29T05:21:35.716Z"
   },
   {
    "duration": 33,
    "start_time": "2025-03-29T05:21:35.740Z"
   },
   {
    "duration": 28,
    "start_time": "2025-03-29T05:21:35.775Z"
   },
   {
    "duration": 32,
    "start_time": "2025-03-29T05:21:35.804Z"
   },
   {
    "duration": 20,
    "start_time": "2025-03-29T05:21:35.837Z"
   },
   {
    "duration": 560,
    "start_time": "2025-03-29T05:21:35.859Z"
   },
   {
    "duration": 596,
    "start_time": "2025-03-29T05:21:36.421Z"
   },
   {
    "duration": 566,
    "start_time": "2025-03-29T05:21:37.019Z"
   },
   {
    "duration": 541,
    "start_time": "2025-03-29T05:21:37.587Z"
   },
   {
    "duration": 4,
    "start_time": "2025-03-29T05:21:38.129Z"
   },
   {
    "duration": 69,
    "start_time": "2025-03-29T05:21:38.135Z"
   },
   {
    "duration": 27,
    "start_time": "2025-03-29T05:21:38.206Z"
   },
   {
    "duration": 6,
    "start_time": "2025-03-29T05:21:38.235Z"
   },
   {
    "duration": 10,
    "start_time": "2025-03-29T05:21:38.243Z"
   },
   {
    "duration": 10,
    "start_time": "2025-03-29T05:21:38.255Z"
   },
   {
    "duration": 3,
    "start_time": "2025-03-29T05:21:38.267Z"
   },
   {
    "duration": 5,
    "start_time": "2025-03-29T05:21:38.307Z"
   },
   {
    "duration": 7,
    "start_time": "2025-03-29T05:21:38.314Z"
   },
   {
    "duration": 23,
    "start_time": "2025-03-29T05:21:38.322Z"
   },
   {
    "duration": 16,
    "start_time": "2025-03-29T05:21:38.347Z"
   },
   {
    "duration": 75,
    "start_time": "2025-03-29T05:21:38.365Z"
   },
   {
    "duration": 15,
    "start_time": "2025-03-29T05:21:38.441Z"
   },
   {
    "duration": 102,
    "start_time": "2025-03-29T05:21:38.457Z"
   },
   {
    "duration": 3,
    "start_time": "2025-03-29T05:21:38.560Z"
   },
   {
    "duration": 14,
    "start_time": "2025-03-29T05:21:38.565Z"
   },
   {
    "duration": 121,
    "start_time": "2025-03-29T05:21:38.580Z"
   },
   {
    "duration": 43,
    "start_time": "2025-03-29T05:21:38.703Z"
   },
   {
    "duration": 49,
    "start_time": "2025-03-29T05:21:38.747Z"
   },
   {
    "duration": 12,
    "start_time": "2025-03-29T05:21:38.798Z"
   },
   {
    "duration": 31,
    "start_time": "2025-03-29T05:21:38.812Z"
   },
   {
    "duration": 51,
    "start_time": "2025-03-29T05:21:38.845Z"
   },
   {
    "duration": 16,
    "start_time": "2025-03-29T05:21:38.901Z"
   },
   {
    "duration": 3,
    "start_time": "2025-03-29T05:21:38.919Z"
   },
   {
    "duration": 5,
    "start_time": "2025-03-29T05:21:38.923Z"
   },
   {
    "duration": 10,
    "start_time": "2025-03-29T05:21:38.930Z"
   },
   {
    "duration": 6,
    "start_time": "2025-03-29T05:21:38.942Z"
   },
   {
    "duration": 6,
    "start_time": "2025-03-29T05:21:38.950Z"
   },
   {
    "duration": 9494,
    "start_time": "2025-03-29T05:21:38.957Z"
   },
   {
    "duration": 89,
    "start_time": "2025-03-29T05:21:48.453Z"
   },
   {
    "duration": 0,
    "start_time": "2025-03-29T05:21:48.543Z"
   },
   {
    "duration": 0,
    "start_time": "2025-03-29T05:21:48.544Z"
   },
   {
    "duration": 0,
    "start_time": "2025-03-29T05:21:48.546Z"
   },
   {
    "duration": 0,
    "start_time": "2025-03-29T05:21:48.547Z"
   },
   {
    "duration": 0,
    "start_time": "2025-03-29T05:21:48.548Z"
   },
   {
    "duration": 0,
    "start_time": "2025-03-29T05:21:48.549Z"
   },
   {
    "duration": 0,
    "start_time": "2025-03-29T05:21:48.551Z"
   },
   {
    "duration": 9011,
    "start_time": "2025-03-29T05:24:06.459Z"
   },
   {
    "duration": 887,
    "start_time": "2025-03-29T05:24:15.472Z"
   },
   {
    "duration": 3,
    "start_time": "2025-03-29T05:24:16.360Z"
   },
   {
    "duration": 231,
    "start_time": "2025-03-29T05:24:16.365Z"
   },
   {
    "duration": 1538,
    "start_time": "2025-03-29T05:24:16.598Z"
   },
   {
    "duration": 1029,
    "start_time": "2025-03-29T05:24:18.138Z"
   },
   {
    "duration": 4,
    "start_time": "2025-03-29T05:24:19.169Z"
   },
   {
    "duration": 8,
    "start_time": "2025-03-29T05:24:19.174Z"
   },
   {
    "duration": 7,
    "start_time": "2025-03-29T05:24:19.183Z"
   },
   {
    "duration": 24,
    "start_time": "2025-03-29T05:24:19.209Z"
   },
   {
    "duration": 103,
    "start_time": "2025-03-29T05:24:19.235Z"
   },
   {
    "duration": 2,
    "start_time": "2025-03-29T05:24:19.340Z"
   },
   {
    "duration": 97,
    "start_time": "2025-03-29T05:24:19.344Z"
   },
   {
    "duration": 22,
    "start_time": "2025-03-29T05:24:19.443Z"
   },
   {
    "duration": 208,
    "start_time": "2025-03-29T05:24:19.466Z"
   },
   {
    "duration": 829,
    "start_time": "2025-03-29T05:24:19.675Z"
   },
   {
    "duration": 256,
    "start_time": "2025-03-29T05:24:20.507Z"
   },
   {
    "duration": 534,
    "start_time": "2025-03-29T05:24:20.765Z"
   },
   {
    "duration": 16,
    "start_time": "2025-03-29T05:24:21.300Z"
   },
   {
    "duration": 32,
    "start_time": "2025-03-29T05:24:21.317Z"
   },
   {
    "duration": 8,
    "start_time": "2025-03-29T05:24:21.351Z"
   },
   {
    "duration": 195,
    "start_time": "2025-03-29T05:24:21.360Z"
   },
   {
    "duration": 1293,
    "start_time": "2025-03-29T05:24:21.557Z"
   },
   {
    "duration": 19,
    "start_time": "2025-03-29T05:24:22.851Z"
   },
   {
    "duration": 40,
    "start_time": "2025-03-29T05:24:22.871Z"
   },
   {
    "duration": 4,
    "start_time": "2025-03-29T05:24:22.912Z"
   },
   {
    "duration": 25,
    "start_time": "2025-03-29T05:24:22.917Z"
   },
   {
    "duration": 193,
    "start_time": "2025-03-29T05:24:22.946Z"
   },
   {
    "duration": 1319,
    "start_time": "2025-03-29T05:24:23.140Z"
   },
   {
    "duration": 5,
    "start_time": "2025-03-29T05:24:24.460Z"
   },
   {
    "duration": 48,
    "start_time": "2025-03-29T05:24:24.467Z"
   },
   {
    "duration": 3,
    "start_time": "2025-03-29T05:24:24.517Z"
   },
   {
    "duration": 16,
    "start_time": "2025-03-29T05:24:24.522Z"
   },
   {
    "duration": 12,
    "start_time": "2025-03-29T05:24:24.539Z"
   },
   {
    "duration": 318,
    "start_time": "2025-03-29T05:24:24.553Z"
   },
   {
    "duration": 9,
    "start_time": "2025-03-29T05:24:24.872Z"
   },
   {
    "duration": 26,
    "start_time": "2025-03-29T05:24:24.882Z"
   },
   {
    "duration": 24,
    "start_time": "2025-03-29T05:24:24.910Z"
   },
   {
    "duration": 4,
    "start_time": "2025-03-29T05:24:24.935Z"
   },
   {
    "duration": 13,
    "start_time": "2025-03-29T05:24:24.940Z"
   },
   {
    "duration": 4,
    "start_time": "2025-03-29T05:24:24.954Z"
   },
   {
    "duration": 3,
    "start_time": "2025-03-29T05:24:24.960Z"
   },
   {
    "duration": 3,
    "start_time": "2025-03-29T05:24:24.964Z"
   },
   {
    "duration": 2186,
    "start_time": "2025-03-29T05:24:24.969Z"
   },
   {
    "duration": 15319,
    "start_time": "2025-03-29T05:24:27.156Z"
   },
   {
    "duration": 45,
    "start_time": "2025-03-29T05:24:42.477Z"
   },
   {
    "duration": 33,
    "start_time": "2025-03-29T05:24:42.523Z"
   },
   {
    "duration": 31,
    "start_time": "2025-03-29T05:24:42.558Z"
   },
   {
    "duration": 25,
    "start_time": "2025-03-29T05:24:42.591Z"
   },
   {
    "duration": 46,
    "start_time": "2025-03-29T05:24:42.618Z"
   },
   {
    "duration": 5,
    "start_time": "2025-03-29T05:24:42.666Z"
   },
   {
    "duration": 20,
    "start_time": "2025-03-29T05:24:42.673Z"
   },
   {
    "duration": 45,
    "start_time": "2025-03-29T05:24:42.694Z"
   },
   {
    "duration": 20,
    "start_time": "2025-03-29T05:24:42.740Z"
   },
   {
    "duration": 17,
    "start_time": "2025-03-29T05:24:42.761Z"
   },
   {
    "duration": 533,
    "start_time": "2025-03-29T05:24:42.779Z"
   },
   {
    "duration": 568,
    "start_time": "2025-03-29T05:24:43.313Z"
   },
   {
    "duration": 568,
    "start_time": "2025-03-29T05:24:43.883Z"
   },
   {
    "duration": 507,
    "start_time": "2025-03-29T05:24:44.454Z"
   },
   {
    "duration": 4,
    "start_time": "2025-03-29T05:24:44.962Z"
   },
   {
    "duration": 6,
    "start_time": "2025-03-29T05:24:44.967Z"
   },
   {
    "duration": 38,
    "start_time": "2025-03-29T05:24:44.975Z"
   },
   {
    "duration": 6,
    "start_time": "2025-03-29T05:24:45.015Z"
   },
   {
    "duration": 25,
    "start_time": "2025-03-29T05:24:45.022Z"
   },
   {
    "duration": 27,
    "start_time": "2025-03-29T05:24:45.049Z"
   },
   {
    "duration": 10,
    "start_time": "2025-03-29T05:24:45.077Z"
   },
   {
    "duration": 11,
    "start_time": "2025-03-29T05:24:45.088Z"
   },
   {
    "duration": 7,
    "start_time": "2025-03-29T05:24:45.101Z"
   },
   {
    "duration": 9,
    "start_time": "2025-03-29T05:24:45.109Z"
   },
   {
    "duration": 17,
    "start_time": "2025-03-29T05:24:45.119Z"
   },
   {
    "duration": 79,
    "start_time": "2025-03-29T05:24:45.137Z"
   },
   {
    "duration": 10,
    "start_time": "2025-03-29T05:24:45.217Z"
   },
   {
    "duration": 78,
    "start_time": "2025-03-29T05:24:45.229Z"
   },
   {
    "duration": 2,
    "start_time": "2025-03-29T05:24:45.308Z"
   },
   {
    "duration": 12,
    "start_time": "2025-03-29T05:24:45.312Z"
   },
   {
    "duration": 118,
    "start_time": "2025-03-29T05:24:45.325Z"
   },
   {
    "duration": 10,
    "start_time": "2025-03-29T05:24:45.444Z"
   },
   {
    "duration": 10,
    "start_time": "2025-03-29T05:24:45.456Z"
   },
   {
    "duration": 16,
    "start_time": "2025-03-29T05:24:45.467Z"
   },
   {
    "duration": 5,
    "start_time": "2025-03-29T05:24:45.485Z"
   },
   {
    "duration": 27,
    "start_time": "2025-03-29T05:24:45.492Z"
   },
   {
    "duration": 18,
    "start_time": "2025-03-29T05:24:45.524Z"
   },
   {
    "duration": 20,
    "start_time": "2025-03-29T05:24:45.544Z"
   },
   {
    "duration": 16,
    "start_time": "2025-03-29T05:24:45.565Z"
   },
   {
    "duration": 13,
    "start_time": "2025-03-29T05:24:45.582Z"
   },
   {
    "duration": 3,
    "start_time": "2025-03-29T05:24:45.597Z"
   },
   {
    "duration": 6,
    "start_time": "2025-03-29T05:24:45.601Z"
   },
   {
    "duration": 9172,
    "start_time": "2025-03-29T05:24:45.608Z"
   },
   {
    "duration": 8976,
    "start_time": "2025-03-29T05:24:54.781Z"
   },
   {
    "duration": 39158,
    "start_time": "2025-03-29T05:25:03.758Z"
   },
   {
    "duration": 40673,
    "start_time": "2025-03-29T05:25:42.918Z"
   },
   {
    "duration": 111451,
    "start_time": "2025-03-29T05:26:23.593Z"
   },
   {
    "duration": 27,
    "start_time": "2025-03-29T05:28:15.046Z"
   },
   {
    "duration": 100,
    "start_time": "2025-03-29T05:28:15.075Z"
   },
   {
    "duration": 928417,
    "start_time": "2025-03-29T05:28:15.176Z"
   },
   {
    "duration": 9,
    "start_time": "2025-03-29T05:54:02.638Z"
   },
   {
    "duration": 5,
    "start_time": "2025-03-29T05:54:08.749Z"
   },
   {
    "duration": 8,
    "start_time": "2025-03-29T05:54:41.481Z"
   },
   {
    "duration": 40,
    "start_time": "2025-03-29T05:54:55.433Z"
   },
   {
    "duration": 391423,
    "start_time": "2025-03-29T05:56:10.973Z"
   },
   {
    "duration": 10,
    "start_time": "2025-03-29T07:07:42.513Z"
   },
   {
    "duration": 9,
    "start_time": "2025-03-29T07:13:16.686Z"
   },
   {
    "duration": 4,
    "start_time": "2025-03-29T07:13:23.433Z"
   },
   {
    "duration": 9066,
    "start_time": "2025-03-29T07:31:38.575Z"
   },
   {
    "duration": 894,
    "start_time": "2025-03-29T07:31:47.643Z"
   },
   {
    "duration": 4,
    "start_time": "2025-03-29T07:31:48.538Z"
   },
   {
    "duration": 231,
    "start_time": "2025-03-29T07:31:48.543Z"
   },
   {
    "duration": 1470,
    "start_time": "2025-03-29T07:31:48.775Z"
   },
   {
    "duration": 1765,
    "start_time": "2025-03-29T07:31:50.246Z"
   },
   {
    "duration": 5,
    "start_time": "2025-03-29T07:31:52.013Z"
   },
   {
    "duration": 6,
    "start_time": "2025-03-29T07:31:52.020Z"
   },
   {
    "duration": 16,
    "start_time": "2025-03-29T07:31:52.028Z"
   },
   {
    "duration": 21,
    "start_time": "2025-03-29T07:31:52.047Z"
   },
   {
    "duration": 111,
    "start_time": "2025-03-29T07:31:52.070Z"
   },
   {
    "duration": 2,
    "start_time": "2025-03-29T07:31:52.183Z"
   },
   {
    "duration": 99,
    "start_time": "2025-03-29T07:31:52.187Z"
   },
   {
    "duration": 30,
    "start_time": "2025-03-29T07:31:52.288Z"
   },
   {
    "duration": 179,
    "start_time": "2025-03-29T07:31:52.320Z"
   },
   {
    "duration": 830,
    "start_time": "2025-03-29T07:31:52.501Z"
   },
   {
    "duration": 236,
    "start_time": "2025-03-29T07:31:53.332Z"
   },
   {
    "duration": 477,
    "start_time": "2025-03-29T07:31:53.570Z"
   },
   {
    "duration": 12,
    "start_time": "2025-03-29T07:31:54.049Z"
   },
   {
    "duration": 24,
    "start_time": "2025-03-29T07:31:54.063Z"
   },
   {
    "duration": 22,
    "start_time": "2025-03-29T07:31:54.089Z"
   },
   {
    "duration": 214,
    "start_time": "2025-03-29T07:31:54.112Z"
   },
   {
    "duration": 1260,
    "start_time": "2025-03-29T07:31:54.328Z"
   },
   {
    "duration": 32,
    "start_time": "2025-03-29T07:31:55.590Z"
   },
   {
    "duration": 25,
    "start_time": "2025-03-29T07:31:55.623Z"
   },
   {
    "duration": 4,
    "start_time": "2025-03-29T07:31:55.649Z"
   },
   {
    "duration": 17,
    "start_time": "2025-03-29T07:31:55.655Z"
   },
   {
    "duration": 210,
    "start_time": "2025-03-29T07:31:55.677Z"
   },
   {
    "duration": 1291,
    "start_time": "2025-03-29T07:31:55.888Z"
   },
   {
    "duration": 4,
    "start_time": "2025-03-29T07:31:57.181Z"
   },
   {
    "duration": 42,
    "start_time": "2025-03-29T07:31:57.187Z"
   },
   {
    "duration": 5,
    "start_time": "2025-03-29T07:31:57.231Z"
   },
   {
    "duration": 17,
    "start_time": "2025-03-29T07:31:57.238Z"
   },
   {
    "duration": 12,
    "start_time": "2025-03-29T07:31:57.257Z"
   },
   {
    "duration": 320,
    "start_time": "2025-03-29T07:31:57.270Z"
   },
   {
    "duration": 17,
    "start_time": "2025-03-29T07:31:57.591Z"
   },
   {
    "duration": 23,
    "start_time": "2025-03-29T07:31:57.610Z"
   },
   {
    "duration": 25,
    "start_time": "2025-03-29T07:31:57.634Z"
   },
   {
    "duration": 3,
    "start_time": "2025-03-29T07:31:57.660Z"
   },
   {
    "duration": 14,
    "start_time": "2025-03-29T07:31:57.665Z"
   },
   {
    "duration": 3,
    "start_time": "2025-03-29T07:31:57.681Z"
   },
   {
    "duration": 5,
    "start_time": "2025-03-29T07:31:57.706Z"
   },
   {
    "duration": 22,
    "start_time": "2025-03-29T07:31:57.712Z"
   },
   {
    "duration": 2112,
    "start_time": "2025-03-29T07:31:57.736Z"
   },
   {
    "duration": 15219,
    "start_time": "2025-03-29T07:31:59.849Z"
   },
   {
    "duration": 37,
    "start_time": "2025-03-29T07:32:15.069Z"
   },
   {
    "duration": 69,
    "start_time": "2025-03-29T07:32:15.107Z"
   },
   {
    "duration": 25,
    "start_time": "2025-03-29T07:32:15.178Z"
   },
   {
    "duration": 22,
    "start_time": "2025-03-29T07:32:15.205Z"
   },
   {
    "duration": 5,
    "start_time": "2025-03-29T07:32:15.229Z"
   },
   {
    "duration": 9,
    "start_time": "2025-03-29T07:32:15.236Z"
   },
   {
    "duration": 20,
    "start_time": "2025-03-29T07:32:15.246Z"
   },
   {
    "duration": 46,
    "start_time": "2025-03-29T07:32:15.267Z"
   },
   {
    "duration": 25,
    "start_time": "2025-03-29T07:32:15.314Z"
   },
   {
    "duration": 22,
    "start_time": "2025-03-29T07:32:15.340Z"
   },
   {
    "duration": 538,
    "start_time": "2025-03-29T07:32:15.363Z"
   },
   {
    "duration": 560,
    "start_time": "2025-03-29T07:32:15.902Z"
   },
   {
    "duration": 566,
    "start_time": "2025-03-29T07:32:16.463Z"
   },
   {
    "duration": 532,
    "start_time": "2025-03-29T07:32:17.031Z"
   },
   {
    "duration": 4,
    "start_time": "2025-03-29T07:32:17.564Z"
   },
   {
    "duration": 6,
    "start_time": "2025-03-29T07:32:17.569Z"
   },
   {
    "duration": 41,
    "start_time": "2025-03-29T07:32:17.577Z"
   },
   {
    "duration": 7,
    "start_time": "2025-03-29T07:32:17.619Z"
   },
   {
    "duration": 11,
    "start_time": "2025-03-29T07:32:17.628Z"
   },
   {
    "duration": 10,
    "start_time": "2025-03-29T07:32:17.641Z"
   },
   {
    "duration": 25,
    "start_time": "2025-03-29T07:32:17.652Z"
   },
   {
    "duration": 8,
    "start_time": "2025-03-29T07:32:17.678Z"
   },
   {
    "duration": 5,
    "start_time": "2025-03-29T07:32:17.688Z"
   },
   {
    "duration": 19,
    "start_time": "2025-03-29T07:32:17.694Z"
   },
   {
    "duration": 23,
    "start_time": "2025-03-29T07:32:17.714Z"
   },
   {
    "duration": 88,
    "start_time": "2025-03-29T07:32:17.739Z"
   },
   {
    "duration": 11,
    "start_time": "2025-03-29T07:32:17.829Z"
   },
   {
    "duration": 78,
    "start_time": "2025-03-29T07:32:17.841Z"
   },
   {
    "duration": 3,
    "start_time": "2025-03-29T07:32:17.921Z"
   },
   {
    "duration": 4,
    "start_time": "2025-03-29T07:32:17.925Z"
   },
   {
    "duration": 90,
    "start_time": "2025-03-29T07:32:17.931Z"
   },
   {
    "duration": 9,
    "start_time": "2025-03-29T07:32:18.023Z"
   },
   {
    "duration": 11,
    "start_time": "2025-03-29T07:32:18.034Z"
   },
   {
    "duration": 3,
    "start_time": "2025-03-29T07:32:18.046Z"
   },
   {
    "duration": 3,
    "start_time": "2025-03-29T07:32:18.051Z"
   },
   {
    "duration": 22,
    "start_time": "2025-03-29T07:32:18.055Z"
   },
   {
    "duration": 9,
    "start_time": "2025-03-29T07:32:18.083Z"
   },
   {
    "duration": 3,
    "start_time": "2025-03-29T07:32:18.106Z"
   },
   {
    "duration": 11,
    "start_time": "2025-03-29T07:32:18.111Z"
   },
   {
    "duration": 9,
    "start_time": "2025-03-29T07:32:18.124Z"
   },
   {
    "duration": 3,
    "start_time": "2025-03-29T07:32:18.134Z"
   },
   {
    "duration": 5,
    "start_time": "2025-03-29T07:32:18.139Z"
   },
   {
    "duration": 9491,
    "start_time": "2025-03-29T07:32:18.145Z"
   },
   {
    "duration": 9050,
    "start_time": "2025-03-29T07:32:27.637Z"
   },
   {
    "duration": 42944,
    "start_time": "2025-03-29T07:32:36.688Z"
   },
   {
    "duration": 40915,
    "start_time": "2025-03-29T07:33:19.634Z"
   },
   {
    "duration": 85,
    "start_time": "2025-03-29T07:34:00.551Z"
   },
   {
    "duration": 4,
    "start_time": "2025-03-29T07:34:00.637Z"
   },
   {
    "duration": 29,
    "start_time": "2025-03-29T07:34:00.643Z"
   },
   {
    "duration": 78,
    "start_time": "2025-03-29T07:34:00.673Z"
   },
   {
    "duration": 0,
    "start_time": "2025-03-29T07:34:00.753Z"
   },
   {
    "duration": 15943,
    "start_time": "2025-03-29T09:01:48.975Z"
   },
   {
    "duration": 1129,
    "start_time": "2025-03-29T09:02:04.920Z"
   },
   {
    "duration": 24,
    "start_time": "2025-03-29T09:02:06.051Z"
   },
   {
    "duration": 281,
    "start_time": "2025-03-29T09:02:06.078Z"
   },
   {
    "duration": 1724,
    "start_time": "2025-03-29T09:02:06.365Z"
   },
   {
    "duration": 1186,
    "start_time": "2025-03-29T09:02:08.090Z"
   },
   {
    "duration": 5,
    "start_time": "2025-03-29T09:02:09.278Z"
   },
   {
    "duration": 11,
    "start_time": "2025-03-29T09:02:09.284Z"
   },
   {
    "duration": 15,
    "start_time": "2025-03-29T09:02:09.296Z"
   },
   {
    "duration": 28,
    "start_time": "2025-03-29T09:02:09.314Z"
   },
   {
    "duration": 111,
    "start_time": "2025-03-29T09:02:09.344Z"
   },
   {
    "duration": 12,
    "start_time": "2025-03-29T09:02:09.457Z"
   },
   {
    "duration": 105,
    "start_time": "2025-03-29T09:02:09.470Z"
   },
   {
    "duration": 37,
    "start_time": "2025-03-29T09:02:09.577Z"
   },
   {
    "duration": 204,
    "start_time": "2025-03-29T09:02:09.616Z"
   },
   {
    "duration": 956,
    "start_time": "2025-03-29T09:02:09.822Z"
   },
   {
    "duration": 273,
    "start_time": "2025-03-29T09:02:10.780Z"
   },
   {
    "duration": 583,
    "start_time": "2025-03-29T09:02:11.054Z"
   },
   {
    "duration": 12,
    "start_time": "2025-03-29T09:02:11.639Z"
   },
   {
    "duration": 59,
    "start_time": "2025-03-29T09:02:11.652Z"
   },
   {
    "duration": 105,
    "start_time": "2025-03-29T09:02:11.713Z"
   },
   {
    "duration": 224,
    "start_time": "2025-03-29T09:02:11.819Z"
   },
   {
    "duration": 1458,
    "start_time": "2025-03-29T09:02:12.045Z"
   },
   {
    "duration": 19,
    "start_time": "2025-03-29T09:02:13.505Z"
   },
   {
    "duration": 49,
    "start_time": "2025-03-29T09:02:13.525Z"
   },
   {
    "duration": 4,
    "start_time": "2025-03-29T09:02:13.576Z"
   },
   {
    "duration": 19,
    "start_time": "2025-03-29T09:02:13.581Z"
   },
   {
    "duration": 232,
    "start_time": "2025-03-29T09:02:13.604Z"
   },
   {
    "duration": 1468,
    "start_time": "2025-03-29T09:02:13.838Z"
   },
   {
    "duration": 5,
    "start_time": "2025-03-29T09:02:15.308Z"
   },
   {
    "duration": 187,
    "start_time": "2025-03-29T09:02:15.314Z"
   },
   {
    "duration": 92,
    "start_time": "2025-03-29T09:02:15.503Z"
   },
   {
    "duration": 96,
    "start_time": "2025-03-29T09:02:15.596Z"
   },
   {
    "duration": 15,
    "start_time": "2025-03-29T09:02:15.695Z"
   },
   {
    "duration": 421,
    "start_time": "2025-03-29T09:02:15.712Z"
   },
   {
    "duration": 9,
    "start_time": "2025-03-29T09:02:16.135Z"
   },
   {
    "duration": 34,
    "start_time": "2025-03-29T09:02:16.145Z"
   },
   {
    "duration": 25,
    "start_time": "2025-03-29T09:02:16.181Z"
   },
   {
    "duration": 4,
    "start_time": "2025-03-29T09:02:16.207Z"
   },
   {
    "duration": 21,
    "start_time": "2025-03-29T09:02:16.213Z"
   },
   {
    "duration": 4,
    "start_time": "2025-03-29T09:02:16.235Z"
   },
   {
    "duration": 30,
    "start_time": "2025-03-29T09:02:16.240Z"
   },
   {
    "duration": 31,
    "start_time": "2025-03-29T09:02:16.272Z"
   },
   {
    "duration": 2536,
    "start_time": "2025-03-29T09:02:16.304Z"
   },
   {
    "duration": 17152,
    "start_time": "2025-03-29T09:02:18.841Z"
   },
   {
    "duration": 36,
    "start_time": "2025-03-29T09:02:36.016Z"
   },
   {
    "duration": 45,
    "start_time": "2025-03-29T09:02:36.054Z"
   },
   {
    "duration": 22,
    "start_time": "2025-03-29T09:02:36.101Z"
   },
   {
    "duration": 50,
    "start_time": "2025-03-29T09:02:36.125Z"
   },
   {
    "duration": 7,
    "start_time": "2025-03-29T09:02:36.177Z"
   },
   {
    "duration": 21,
    "start_time": "2025-03-29T09:02:36.186Z"
   },
   {
    "duration": 46,
    "start_time": "2025-03-29T09:02:36.209Z"
   },
   {
    "duration": 46,
    "start_time": "2025-03-29T09:02:36.258Z"
   },
   {
    "duration": 37,
    "start_time": "2025-03-29T09:02:36.306Z"
   },
   {
    "duration": 38,
    "start_time": "2025-03-29T09:02:36.344Z"
   },
   {
    "duration": 629,
    "start_time": "2025-03-29T09:02:36.384Z"
   },
   {
    "duration": 689,
    "start_time": "2025-03-29T09:02:37.015Z"
   },
   {
    "duration": 644,
    "start_time": "2025-03-29T09:02:37.706Z"
   },
   {
    "duration": 601,
    "start_time": "2025-03-29T09:02:38.352Z"
   },
   {
    "duration": 11,
    "start_time": "2025-03-29T09:02:38.962Z"
   },
   {
    "duration": 16,
    "start_time": "2025-03-29T09:02:38.977Z"
   },
   {
    "duration": 30,
    "start_time": "2025-03-29T09:02:38.994Z"
   },
   {
    "duration": 7,
    "start_time": "2025-03-29T09:02:39.026Z"
   },
   {
    "duration": 10,
    "start_time": "2025-03-29T09:02:39.034Z"
   },
   {
    "duration": 29,
    "start_time": "2025-03-29T09:02:39.046Z"
   },
   {
    "duration": 5,
    "start_time": "2025-03-29T09:02:39.077Z"
   },
   {
    "duration": 19,
    "start_time": "2025-03-29T09:02:39.083Z"
   },
   {
    "duration": 7,
    "start_time": "2025-03-29T09:02:39.104Z"
   },
   {
    "duration": 9,
    "start_time": "2025-03-29T09:02:39.113Z"
   },
   {
    "duration": 17,
    "start_time": "2025-03-29T09:02:39.124Z"
   },
   {
    "duration": 81,
    "start_time": "2025-03-29T09:02:39.143Z"
   },
   {
    "duration": 12,
    "start_time": "2025-03-29T09:02:39.226Z"
   },
   {
    "duration": 85,
    "start_time": "2025-03-29T09:02:39.240Z"
   },
   {
    "duration": 2,
    "start_time": "2025-03-29T09:02:39.327Z"
   },
   {
    "duration": 30,
    "start_time": "2025-03-29T09:02:39.331Z"
   },
   {
    "duration": 111,
    "start_time": "2025-03-29T09:02:39.363Z"
   },
   {
    "duration": 10,
    "start_time": "2025-03-29T09:02:39.476Z"
   },
   {
    "duration": 4,
    "start_time": "2025-03-29T09:02:39.488Z"
   },
   {
    "duration": 3,
    "start_time": "2025-03-29T09:02:39.494Z"
   },
   {
    "duration": 25,
    "start_time": "2025-03-29T09:02:39.499Z"
   },
   {
    "duration": 29,
    "start_time": "2025-03-29T09:02:39.526Z"
   },
   {
    "duration": 17,
    "start_time": "2025-03-29T09:02:39.560Z"
   },
   {
    "duration": 28,
    "start_time": "2025-03-29T09:02:39.579Z"
   },
   {
    "duration": 10,
    "start_time": "2025-03-29T09:02:39.609Z"
   },
   {
    "duration": 18,
    "start_time": "2025-03-29T09:02:39.621Z"
   },
   {
    "duration": 5,
    "start_time": "2025-03-29T09:02:39.640Z"
   },
   {
    "duration": 6,
    "start_time": "2025-03-29T09:02:39.646Z"
   },
   {
    "duration": 10733,
    "start_time": "2025-03-29T09:02:39.653Z"
   },
   {
    "duration": 10415,
    "start_time": "2025-03-29T09:02:50.388Z"
   },
   {
    "duration": 288879,
    "start_time": "2025-03-29T09:03:00.805Z"
   },
   {
    "duration": 44550,
    "start_time": "2025-03-29T09:07:49.686Z"
   },
   {
    "duration": 81,
    "start_time": "2025-03-29T09:08:34.238Z"
   },
   {
    "duration": 3,
    "start_time": "2025-03-29T09:08:34.321Z"
   },
   {
    "duration": 84,
    "start_time": "2025-03-29T09:08:34.325Z"
   },
   {
    "duration": 67,
    "start_time": "2025-03-29T09:08:34.411Z"
   },
   {
    "duration": 0,
    "start_time": "2025-03-29T09:08:34.480Z"
   },
   {
    "duration": 4,
    "start_time": "2025-03-29T09:46:33.651Z"
   },
   {
    "duration": 5,
    "start_time": "2025-03-29T09:47:07.715Z"
   },
   {
    "duration": 5,
    "start_time": "2025-03-29T09:47:18.675Z"
   },
   {
    "duration": 3,
    "start_time": "2025-03-29T09:47:40.877Z"
   },
   {
    "duration": 9923,
    "start_time": "2025-03-29T10:15:48.532Z"
   },
   {
    "duration": 975,
    "start_time": "2025-03-29T10:15:58.457Z"
   },
   {
    "duration": 4,
    "start_time": "2025-03-29T10:15:59.434Z"
   },
   {
    "duration": 274,
    "start_time": "2025-03-29T10:15:59.440Z"
   },
   {
    "duration": 1666,
    "start_time": "2025-03-29T10:15:59.716Z"
   },
   {
    "duration": 1179,
    "start_time": "2025-03-29T10:16:01.384Z"
   },
   {
    "duration": 5,
    "start_time": "2025-03-29T10:16:02.566Z"
   },
   {
    "duration": 42,
    "start_time": "2025-03-29T10:16:02.574Z"
   },
   {
    "duration": 29,
    "start_time": "2025-03-29T10:16:02.618Z"
   },
   {
    "duration": 58,
    "start_time": "2025-03-29T10:16:02.651Z"
   },
   {
    "duration": 139,
    "start_time": "2025-03-29T10:16:02.711Z"
   },
   {
    "duration": 11,
    "start_time": "2025-03-29T10:16:02.852Z"
   },
   {
    "duration": 280,
    "start_time": "2025-03-29T10:16:02.866Z"
   },
   {
    "duration": 27,
    "start_time": "2025-03-29T10:16:03.148Z"
   },
   {
    "duration": 272,
    "start_time": "2025-03-29T10:16:03.177Z"
   },
   {
    "duration": 1004,
    "start_time": "2025-03-29T10:16:03.451Z"
   },
   {
    "duration": 292,
    "start_time": "2025-03-29T10:16:04.456Z"
   },
   {
    "duration": 623,
    "start_time": "2025-03-29T10:16:04.750Z"
   },
   {
    "duration": 13,
    "start_time": "2025-03-29T10:16:05.376Z"
   },
   {
    "duration": 23,
    "start_time": "2025-03-29T10:16:05.390Z"
   },
   {
    "duration": 9,
    "start_time": "2025-03-29T10:16:05.414Z"
   },
   {
    "duration": 259,
    "start_time": "2025-03-29T10:16:05.425Z"
   },
   {
    "duration": 1522,
    "start_time": "2025-03-29T10:16:05.686Z"
   },
   {
    "duration": 21,
    "start_time": "2025-03-29T10:16:07.210Z"
   },
   {
    "duration": 68,
    "start_time": "2025-03-29T10:16:07.232Z"
   },
   {
    "duration": 7,
    "start_time": "2025-03-29T10:16:07.302Z"
   },
   {
    "duration": 46,
    "start_time": "2025-03-29T10:16:07.310Z"
   },
   {
    "duration": 255,
    "start_time": "2025-03-29T10:16:07.360Z"
   },
   {
    "duration": 1508,
    "start_time": "2025-03-29T10:16:07.617Z"
   },
   {
    "duration": 5,
    "start_time": "2025-03-29T10:16:09.127Z"
   },
   {
    "duration": 137,
    "start_time": "2025-03-29T10:16:09.133Z"
   },
   {
    "duration": 4,
    "start_time": "2025-03-29T10:16:09.274Z"
   },
   {
    "duration": 32,
    "start_time": "2025-03-29T10:16:09.280Z"
   },
   {
    "duration": 28,
    "start_time": "2025-03-29T10:16:09.314Z"
   },
   {
    "duration": 352,
    "start_time": "2025-03-29T10:16:09.344Z"
   },
   {
    "duration": 8,
    "start_time": "2025-03-29T10:16:09.698Z"
   },
   {
    "duration": 28,
    "start_time": "2025-03-29T10:16:09.708Z"
   },
   {
    "duration": 38,
    "start_time": "2025-03-29T10:16:09.738Z"
   },
   {
    "duration": 4,
    "start_time": "2025-03-29T10:16:09.778Z"
   },
   {
    "duration": 24,
    "start_time": "2025-03-29T10:16:09.783Z"
   },
   {
    "duration": 4,
    "start_time": "2025-03-29T10:16:09.809Z"
   },
   {
    "duration": 11,
    "start_time": "2025-03-29T10:16:09.814Z"
   },
   {
    "duration": 27,
    "start_time": "2025-03-29T10:16:09.827Z"
   },
   {
    "duration": 2475,
    "start_time": "2025-03-29T10:16:09.856Z"
   },
   {
    "duration": 17187,
    "start_time": "2025-03-29T10:16:12.332Z"
   },
   {
    "duration": 46,
    "start_time": "2025-03-29T10:16:29.520Z"
   },
   {
    "duration": 41,
    "start_time": "2025-03-29T10:16:29.569Z"
   },
   {
    "duration": 78,
    "start_time": "2025-03-29T10:16:29.612Z"
   },
   {
    "duration": 63,
    "start_time": "2025-03-29T10:16:29.692Z"
   },
   {
    "duration": 31,
    "start_time": "2025-03-29T10:16:29.757Z"
   },
   {
    "duration": 47,
    "start_time": "2025-03-29T10:16:29.790Z"
   },
   {
    "duration": 74,
    "start_time": "2025-03-29T10:16:29.838Z"
   },
   {
    "duration": 94,
    "start_time": "2025-03-29T10:16:29.914Z"
   },
   {
    "duration": 161,
    "start_time": "2025-03-29T10:16:30.009Z"
   },
   {
    "duration": 122,
    "start_time": "2025-03-29T10:16:30.173Z"
   },
   {
    "duration": 718,
    "start_time": "2025-03-29T10:16:30.297Z"
   },
   {
    "duration": 659,
    "start_time": "2025-03-29T10:16:31.017Z"
   },
   {
    "duration": 667,
    "start_time": "2025-03-29T10:16:31.678Z"
   },
   {
    "duration": 618,
    "start_time": "2025-03-29T10:16:32.347Z"
   },
   {
    "duration": 6,
    "start_time": "2025-03-29T10:16:32.967Z"
   },
   {
    "duration": 18,
    "start_time": "2025-03-29T10:16:32.975Z"
   },
   {
    "duration": 63,
    "start_time": "2025-03-29T10:16:32.994Z"
   },
   {
    "duration": 8,
    "start_time": "2025-03-29T10:16:33.059Z"
   },
   {
    "duration": 21,
    "start_time": "2025-03-29T10:16:33.069Z"
   },
   {
    "duration": 19,
    "start_time": "2025-03-29T10:16:33.092Z"
   },
   {
    "duration": 14,
    "start_time": "2025-03-29T10:16:33.112Z"
   },
   {
    "duration": 16,
    "start_time": "2025-03-29T10:16:33.127Z"
   },
   {
    "duration": 119,
    "start_time": "2025-03-29T10:16:33.144Z"
   },
   {
    "duration": 40,
    "start_time": "2025-03-29T10:16:33.266Z"
   },
   {
    "duration": 68,
    "start_time": "2025-03-29T10:16:33.307Z"
   },
   {
    "duration": 80,
    "start_time": "2025-03-29T10:16:33.377Z"
   },
   {
    "duration": 13,
    "start_time": "2025-03-29T10:16:33.459Z"
   },
   {
    "duration": 97,
    "start_time": "2025-03-29T10:16:33.474Z"
   },
   {
    "duration": 4,
    "start_time": "2025-03-29T10:16:33.573Z"
   },
   {
    "duration": 33,
    "start_time": "2025-03-29T10:16:33.578Z"
   },
   {
    "duration": 216,
    "start_time": "2025-03-29T10:16:33.612Z"
   },
   {
    "duration": 3,
    "start_time": "2025-03-29T10:16:33.830Z"
   },
   {
    "duration": 5,
    "start_time": "2025-03-29T10:16:33.835Z"
   },
   {
    "duration": 10,
    "start_time": "2025-03-29T10:16:33.841Z"
   },
   {
    "duration": 107,
    "start_time": "2025-03-29T10:16:33.853Z"
   },
   {
    "duration": 89,
    "start_time": "2025-03-29T10:16:33.962Z"
   },
   {
    "duration": 8,
    "start_time": "2025-03-29T10:16:34.058Z"
   },
   {
    "duration": 33,
    "start_time": "2025-03-29T10:16:34.068Z"
   },
   {
    "duration": 11,
    "start_time": "2025-03-29T10:16:34.102Z"
   },
   {
    "duration": 8,
    "start_time": "2025-03-29T10:16:34.115Z"
   },
   {
    "duration": 8,
    "start_time": "2025-03-29T10:16:34.124Z"
   },
   {
    "duration": 68050,
    "start_time": "2025-03-29T10:16:34.133Z"
   },
   {
    "duration": 4,
    "start_time": "2025-03-29T10:17:42.184Z"
   },
   {
    "duration": 66250,
    "start_time": "2025-03-29T10:17:42.190Z"
   },
   {
    "duration": 986551,
    "start_time": "2025-03-29T10:18:48.442Z"
   },
   {
    "duration": 121543,
    "start_time": "2025-03-29T10:35:14.995Z"
   },
   {
    "duration": 3,
    "start_time": "2025-03-29T10:37:16.540Z"
   },
   {
    "duration": 14,
    "start_time": "2025-03-29T10:37:16.544Z"
   },
   {
    "duration": 13,
    "start_time": "2025-03-29T10:37:16.559Z"
   },
   {
    "duration": 1674,
    "start_time": "2025-03-29T10:37:16.573Z"
   },
   {
    "duration": 5,
    "start_time": "2025-03-29T10:47:08.133Z"
   },
   {
    "duration": 123,
    "start_time": "2025-03-29T10:48:49.559Z"
   },
   {
    "duration": 1706,
    "start_time": "2025-03-29T10:49:09.677Z"
   },
   {
    "duration": 12,
    "start_time": "2025-03-29T11:05:22.509Z"
   },
   {
    "duration": 182,
    "start_time": "2025-03-29T11:06:36.062Z"
   },
   {
    "duration": 184283,
    "start_time": "2025-03-29T11:18:26.106Z"
   },
   {
    "duration": 10455,
    "start_time": "2025-03-29T11:22:09.031Z"
   },
   {
    "duration": 1073,
    "start_time": "2025-03-29T11:22:19.488Z"
   },
   {
    "duration": 5,
    "start_time": "2025-03-29T11:22:20.572Z"
   },
   {
    "duration": 307,
    "start_time": "2025-03-29T11:22:20.580Z"
   },
   {
    "duration": 1714,
    "start_time": "2025-03-29T11:22:20.889Z"
   },
   {
    "duration": 1251,
    "start_time": "2025-03-29T11:22:22.605Z"
   },
   {
    "duration": 14,
    "start_time": "2025-03-29T11:22:23.858Z"
   },
   {
    "duration": 18,
    "start_time": "2025-03-29T11:22:23.874Z"
   },
   {
    "duration": 29,
    "start_time": "2025-03-29T11:22:23.894Z"
   },
   {
    "duration": 32,
    "start_time": "2025-03-29T11:22:23.927Z"
   },
   {
    "duration": 147,
    "start_time": "2025-03-29T11:22:23.961Z"
   },
   {
    "duration": 11,
    "start_time": "2025-03-29T11:22:24.109Z"
   },
   {
    "duration": 118,
    "start_time": "2025-03-29T11:22:24.122Z"
   },
   {
    "duration": 33,
    "start_time": "2025-03-29T11:22:24.242Z"
   },
   {
    "duration": 250,
    "start_time": "2025-03-29T11:22:24.279Z"
   },
   {
    "duration": 1010,
    "start_time": "2025-03-29T11:22:24.531Z"
   },
   {
    "duration": 316,
    "start_time": "2025-03-29T11:22:25.542Z"
   },
   {
    "duration": 635,
    "start_time": "2025-03-29T11:22:25.861Z"
   },
   {
    "duration": 14,
    "start_time": "2025-03-29T11:22:26.498Z"
   },
   {
    "duration": 25,
    "start_time": "2025-03-29T11:22:26.514Z"
   },
   {
    "duration": 30,
    "start_time": "2025-03-29T11:22:26.541Z"
   },
   {
    "duration": 253,
    "start_time": "2025-03-29T11:22:26.573Z"
   },
   {
    "duration": 1657,
    "start_time": "2025-03-29T11:22:26.828Z"
   },
   {
    "duration": 21,
    "start_time": "2025-03-29T11:22:28.489Z"
   },
   {
    "duration": 28,
    "start_time": "2025-03-29T11:22:28.511Z"
   },
   {
    "duration": 4,
    "start_time": "2025-03-29T11:22:28.540Z"
   },
   {
    "duration": 41,
    "start_time": "2025-03-29T11:22:28.545Z"
   },
   {
    "duration": 245,
    "start_time": "2025-03-29T11:22:28.593Z"
   },
   {
    "duration": 1641,
    "start_time": "2025-03-29T11:22:28.840Z"
   },
   {
    "duration": 11,
    "start_time": "2025-03-29T11:22:30.483Z"
   },
   {
    "duration": 77,
    "start_time": "2025-03-29T11:22:30.497Z"
   },
   {
    "duration": 6,
    "start_time": "2025-03-29T11:22:30.576Z"
   },
   {
    "duration": 73,
    "start_time": "2025-03-29T11:22:30.584Z"
   },
   {
    "duration": 41,
    "start_time": "2025-03-29T11:22:30.659Z"
   },
   {
    "duration": 369,
    "start_time": "2025-03-29T11:22:30.702Z"
   },
   {
    "duration": 18,
    "start_time": "2025-03-29T11:22:31.077Z"
   },
   {
    "duration": 26,
    "start_time": "2025-03-29T11:22:31.098Z"
   },
   {
    "duration": 27,
    "start_time": "2025-03-29T11:22:31.126Z"
   },
   {
    "duration": 17,
    "start_time": "2025-03-29T11:22:31.155Z"
   },
   {
    "duration": 23,
    "start_time": "2025-03-29T11:22:31.176Z"
   },
   {
    "duration": 3,
    "start_time": "2025-03-29T11:22:31.201Z"
   },
   {
    "duration": 6,
    "start_time": "2025-03-29T11:22:31.206Z"
   },
   {
    "duration": 187,
    "start_time": "2025-03-29T11:22:31.214Z"
   },
   {
    "duration": 2716,
    "start_time": "2025-03-29T11:22:31.403Z"
   },
   {
    "duration": 18831,
    "start_time": "2025-03-29T11:22:34.120Z"
   },
   {
    "duration": 49,
    "start_time": "2025-03-29T11:22:52.953Z"
   },
   {
    "duration": 37,
    "start_time": "2025-03-29T11:22:53.004Z"
   },
   {
    "duration": 57,
    "start_time": "2025-03-29T11:22:53.043Z"
   },
   {
    "duration": 22,
    "start_time": "2025-03-29T11:22:53.102Z"
   },
   {
    "duration": 6,
    "start_time": "2025-03-29T11:22:53.126Z"
   },
   {
    "duration": 12,
    "start_time": "2025-03-29T11:22:53.133Z"
   },
   {
    "duration": 50,
    "start_time": "2025-03-29T11:22:53.147Z"
   },
   {
    "duration": 29,
    "start_time": "2025-03-29T11:22:53.200Z"
   },
   {
    "duration": 295,
    "start_time": "2025-03-29T11:22:53.230Z"
   },
   {
    "duration": 31,
    "start_time": "2025-03-29T11:22:53.526Z"
   },
   {
    "duration": 765,
    "start_time": "2025-03-29T11:22:53.558Z"
   },
   {
    "duration": 768,
    "start_time": "2025-03-29T11:22:54.325Z"
   },
   {
    "duration": 742,
    "start_time": "2025-03-29T11:22:55.095Z"
   },
   {
    "duration": 676,
    "start_time": "2025-03-29T11:22:55.839Z"
   },
   {
    "duration": 5,
    "start_time": "2025-03-29T11:22:56.516Z"
   },
   {
    "duration": 7,
    "start_time": "2025-03-29T11:22:56.522Z"
   },
   {
    "duration": 61,
    "start_time": "2025-03-29T11:22:56.531Z"
   },
   {
    "duration": 11,
    "start_time": "2025-03-29T11:22:56.594Z"
   },
   {
    "duration": 11,
    "start_time": "2025-03-29T11:22:56.607Z"
   },
   {
    "duration": 11,
    "start_time": "2025-03-29T11:22:56.621Z"
   },
   {
    "duration": 39,
    "start_time": "2025-03-29T11:22:56.635Z"
   },
   {
    "duration": 6,
    "start_time": "2025-03-29T11:22:56.680Z"
   },
   {
    "duration": 18,
    "start_time": "2025-03-29T11:22:56.688Z"
   },
   {
    "duration": 12,
    "start_time": "2025-03-29T11:22:56.708Z"
   },
   {
    "duration": 23,
    "start_time": "2025-03-29T11:22:56.722Z"
   },
   {
    "duration": 89,
    "start_time": "2025-03-29T11:22:56.747Z"
   },
   {
    "duration": 10,
    "start_time": "2025-03-29T11:22:56.838Z"
   },
   {
    "duration": 95,
    "start_time": "2025-03-29T11:22:56.864Z"
   },
   {
    "duration": 10,
    "start_time": "2025-03-29T11:22:56.961Z"
   },
   {
    "duration": 20,
    "start_time": "2025-03-29T11:22:56.977Z"
   },
   {
    "duration": 211,
    "start_time": "2025-03-29T11:22:56.999Z"
   },
   {
    "duration": 4,
    "start_time": "2025-03-29T11:22:57.213Z"
   },
   {
    "duration": 318,
    "start_time": "2025-03-29T11:22:57.219Z"
   },
   {
    "duration": 53,
    "start_time": "2025-03-29T11:22:57.540Z"
   },
   {
    "duration": 91,
    "start_time": "2025-03-29T11:22:57.595Z"
   },
   {
    "duration": 7,
    "start_time": "2025-03-29T11:22:57.688Z"
   },
   {
    "duration": 5,
    "start_time": "2025-03-29T11:22:57.706Z"
   },
   {
    "duration": 17,
    "start_time": "2025-03-29T11:22:57.713Z"
   },
   {
    "duration": 4,
    "start_time": "2025-03-29T11:22:57.732Z"
   },
   {
    "duration": 5,
    "start_time": "2025-03-29T11:22:57.738Z"
   },
   {
    "duration": 23,
    "start_time": "2025-03-29T11:22:57.745Z"
   },
   {
    "duration": 76380,
    "start_time": "2025-03-29T11:22:57.772Z"
   },
   {
    "duration": 21,
    "start_time": "2025-03-29T11:24:14.154Z"
   },
   {
    "duration": 68927,
    "start_time": "2025-03-29T11:24:14.177Z"
   },
   {
    "duration": 2,
    "start_time": "2025-03-29T11:25:23.106Z"
   },
   {
    "duration": 188090,
    "start_time": "2025-03-29T11:25:23.110Z"
   },
   {
    "duration": 0,
    "start_time": "2025-03-29T11:28:31.202Z"
   },
   {
    "duration": 0,
    "start_time": "2025-03-29T11:28:31.204Z"
   },
   {
    "duration": 0,
    "start_time": "2025-03-29T11:28:31.205Z"
   },
   {
    "duration": 0,
    "start_time": "2025-03-29T11:28:31.206Z"
   },
   {
    "duration": 0,
    "start_time": "2025-03-29T11:28:31.208Z"
   },
   {
    "duration": 0,
    "start_time": "2025-03-29T11:28:31.209Z"
   },
   {
    "duration": 0,
    "start_time": "2025-03-29T11:28:31.211Z"
   },
   {
    "duration": 0,
    "start_time": "2025-03-29T11:28:31.213Z"
   },
   {
    "duration": 130294,
    "start_time": "2025-03-29T11:29:37.844Z"
   },
   {
    "duration": 6,
    "start_time": "2025-03-29T11:34:36.381Z"
   },
   {
    "duration": 1684,
    "start_time": "2025-03-29T11:34:39.118Z"
   },
   {
    "duration": 175,
    "start_time": "2025-03-29T11:35:28.278Z"
   },
   {
    "duration": 997,
    "start_time": "2025-03-29T11:37:33.337Z"
   },
   {
    "duration": 147,
    "start_time": "2025-03-29T11:39:46.640Z"
   },
   {
    "duration": 1341,
    "start_time": "2025-03-29T11:41:33.280Z"
   },
   {
    "duration": 14996,
    "start_time": "2025-03-29T11:43:06.272Z"
   },
   {
    "duration": 124532,
    "start_time": "2025-03-29T11:43:30.597Z"
   },
   {
    "duration": 6,
    "start_time": "2025-03-29T11:48:40.770Z"
   },
   {
    "duration": 9906,
    "start_time": "2025-03-29T11:52:03.239Z"
   },
   {
    "duration": 1656,
    "start_time": "2025-03-29T11:52:13.148Z"
   },
   {
    "duration": 3,
    "start_time": "2025-03-29T11:52:14.806Z"
   },
   {
    "duration": 258,
    "start_time": "2025-03-29T11:52:14.811Z"
   },
   {
    "duration": 1639,
    "start_time": "2025-03-29T11:52:15.070Z"
   },
   {
    "duration": 1182,
    "start_time": "2025-03-29T11:52:16.711Z"
   },
   {
    "duration": 5,
    "start_time": "2025-03-29T11:52:17.894Z"
   },
   {
    "duration": 6,
    "start_time": "2025-03-29T11:52:17.901Z"
   },
   {
    "duration": 16,
    "start_time": "2025-03-29T11:52:17.908Z"
   },
   {
    "duration": 42,
    "start_time": "2025-03-29T11:52:17.927Z"
   },
   {
    "duration": 112,
    "start_time": "2025-03-29T11:52:17.970Z"
   },
   {
    "duration": 2,
    "start_time": "2025-03-29T11:52:18.084Z"
   },
   {
    "duration": 108,
    "start_time": "2025-03-29T11:52:18.088Z"
   },
   {
    "duration": 23,
    "start_time": "2025-03-29T11:52:18.198Z"
   },
   {
    "duration": 214,
    "start_time": "2025-03-29T11:52:18.223Z"
   },
   {
    "duration": 919,
    "start_time": "2025-03-29T11:52:18.438Z"
   },
   {
    "duration": 299,
    "start_time": "2025-03-29T11:52:19.361Z"
   },
   {
    "duration": 602,
    "start_time": "2025-03-29T11:52:19.662Z"
   },
   {
    "duration": 13,
    "start_time": "2025-03-29T11:52:20.266Z"
   },
   {
    "duration": 86,
    "start_time": "2025-03-29T11:52:20.281Z"
   },
   {
    "duration": 11,
    "start_time": "2025-03-29T11:52:20.369Z"
   },
   {
    "duration": 234,
    "start_time": "2025-03-29T11:52:20.382Z"
   },
   {
    "duration": 1469,
    "start_time": "2025-03-29T11:52:20.618Z"
   },
   {
    "duration": 20,
    "start_time": "2025-03-29T11:52:22.089Z"
   },
   {
    "duration": 52,
    "start_time": "2025-03-29T11:52:22.111Z"
   },
   {
    "duration": 3,
    "start_time": "2025-03-29T11:52:22.165Z"
   },
   {
    "duration": 49,
    "start_time": "2025-03-29T11:52:22.170Z"
   },
   {
    "duration": 215,
    "start_time": "2025-03-29T11:52:22.224Z"
   },
   {
    "duration": 1513,
    "start_time": "2025-03-29T11:52:22.440Z"
   },
   {
    "duration": 10,
    "start_time": "2025-03-29T11:52:23.955Z"
   },
   {
    "duration": 103,
    "start_time": "2025-03-29T11:52:23.967Z"
   },
   {
    "duration": 4,
    "start_time": "2025-03-29T11:52:24.072Z"
   },
   {
    "duration": 32,
    "start_time": "2025-03-29T11:52:24.078Z"
   },
   {
    "duration": 14,
    "start_time": "2025-03-29T11:52:24.112Z"
   },
   {
    "duration": 338,
    "start_time": "2025-03-29T11:52:24.128Z"
   },
   {
    "duration": 11,
    "start_time": "2025-03-29T11:52:24.468Z"
   },
   {
    "duration": 17,
    "start_time": "2025-03-29T11:52:24.481Z"
   },
   {
    "duration": 27,
    "start_time": "2025-03-29T11:52:24.500Z"
   },
   {
    "duration": 35,
    "start_time": "2025-03-29T11:52:24.529Z"
   },
   {
    "duration": 14,
    "start_time": "2025-03-29T11:52:24.566Z"
   },
   {
    "duration": 4,
    "start_time": "2025-03-29T11:52:24.583Z"
   },
   {
    "duration": 15,
    "start_time": "2025-03-29T11:52:24.589Z"
   },
   {
    "duration": 18,
    "start_time": "2025-03-29T11:52:24.606Z"
   },
   {
    "duration": 2403,
    "start_time": "2025-03-29T11:52:24.625Z"
   },
   {
    "duration": 16737,
    "start_time": "2025-03-29T11:52:27.030Z"
   },
   {
    "duration": 43,
    "start_time": "2025-03-29T11:52:43.812Z"
   },
   {
    "duration": 36,
    "start_time": "2025-03-29T11:52:43.857Z"
   },
   {
    "duration": 34,
    "start_time": "2025-03-29T11:52:43.895Z"
   },
   {
    "duration": 53,
    "start_time": "2025-03-29T11:52:43.931Z"
   },
   {
    "duration": 8,
    "start_time": "2025-03-29T11:52:43.987Z"
   },
   {
    "duration": 8,
    "start_time": "2025-03-29T11:52:43.996Z"
   },
   {
    "duration": 21,
    "start_time": "2025-03-29T11:52:44.006Z"
   },
   {
    "duration": 58,
    "start_time": "2025-03-29T11:52:44.029Z"
   },
   {
    "duration": 23,
    "start_time": "2025-03-29T11:52:44.089Z"
   },
   {
    "duration": 19,
    "start_time": "2025-03-29T11:52:44.114Z"
   },
   {
    "duration": 612,
    "start_time": "2025-03-29T11:52:44.163Z"
   },
   {
    "duration": 640,
    "start_time": "2025-03-29T11:52:44.776Z"
   },
   {
    "duration": 659,
    "start_time": "2025-03-29T11:52:45.418Z"
   },
   {
    "duration": 575,
    "start_time": "2025-03-29T11:52:46.079Z"
   },
   {
    "duration": 7,
    "start_time": "2025-03-29T11:52:46.656Z"
   },
   {
    "duration": 27,
    "start_time": "2025-03-29T11:52:46.664Z"
   },
   {
    "duration": 31,
    "start_time": "2025-03-29T11:52:46.692Z"
   },
   {
    "duration": 6,
    "start_time": "2025-03-29T11:52:46.725Z"
   },
   {
    "duration": 13,
    "start_time": "2025-03-29T11:52:46.733Z"
   },
   {
    "duration": 19,
    "start_time": "2025-03-29T11:52:46.747Z"
   },
   {
    "duration": 5,
    "start_time": "2025-03-29T11:52:46.768Z"
   },
   {
    "duration": 13,
    "start_time": "2025-03-29T11:52:46.774Z"
   },
   {
    "duration": 7,
    "start_time": "2025-03-29T11:52:46.789Z"
   },
   {
    "duration": 8,
    "start_time": "2025-03-29T11:52:46.798Z"
   },
   {
    "duration": 18,
    "start_time": "2025-03-29T11:52:46.808Z"
   },
   {
    "duration": 95,
    "start_time": "2025-03-29T11:52:46.828Z"
   },
   {
    "duration": 11,
    "start_time": "2025-03-29T11:52:46.925Z"
   },
   {
    "duration": 112,
    "start_time": "2025-03-29T11:52:46.938Z"
   },
   {
    "duration": 3,
    "start_time": "2025-03-29T11:52:47.052Z"
   },
   {
    "duration": 5,
    "start_time": "2025-03-29T11:52:47.057Z"
   },
   {
    "duration": 194,
    "start_time": "2025-03-29T11:52:47.064Z"
   },
   {
    "duration": 3,
    "start_time": "2025-03-29T11:52:47.260Z"
   },
   {
    "duration": 8,
    "start_time": "2025-03-29T11:52:47.264Z"
   },
   {
    "duration": 24,
    "start_time": "2025-03-29T11:52:47.274Z"
   },
   {
    "duration": 73,
    "start_time": "2025-03-29T11:52:47.300Z"
   },
   {
    "duration": 5,
    "start_time": "2025-03-29T11:52:47.374Z"
   },
   {
    "duration": 3,
    "start_time": "2025-03-29T11:52:47.384Z"
   },
   {
    "duration": 12,
    "start_time": "2025-03-29T11:52:47.389Z"
   },
   {
    "duration": 25,
    "start_time": "2025-03-29T11:52:47.403Z"
   },
   {
    "duration": 5,
    "start_time": "2025-03-29T11:52:47.431Z"
   },
   {
    "duration": 13,
    "start_time": "2025-03-29T11:52:47.438Z"
   },
   {
    "duration": 66178,
    "start_time": "2025-03-29T11:52:47.456Z"
   },
   {
    "duration": 5,
    "start_time": "2025-03-29T11:53:53.636Z"
   },
   {
    "duration": 65297,
    "start_time": "2025-03-29T11:53:53.642Z"
   },
   {
    "duration": 9892,
    "start_time": "2025-03-29T12:05:50.838Z"
   },
   {
    "duration": 1004,
    "start_time": "2025-03-29T12:06:00.732Z"
   },
   {
    "duration": 4,
    "start_time": "2025-03-29T12:06:01.738Z"
   },
   {
    "duration": 341,
    "start_time": "2025-03-29T12:06:01.743Z"
   },
   {
    "duration": 1641,
    "start_time": "2025-03-29T12:06:02.085Z"
   },
   {
    "duration": 1169,
    "start_time": "2025-03-29T12:06:03.728Z"
   },
   {
    "duration": 4,
    "start_time": "2025-03-29T12:06:04.899Z"
   },
   {
    "duration": 19,
    "start_time": "2025-03-29T12:06:04.905Z"
   },
   {
    "duration": 83,
    "start_time": "2025-03-29T12:06:04.926Z"
   },
   {
    "duration": 28,
    "start_time": "2025-03-29T12:06:05.012Z"
   },
   {
    "duration": 102,
    "start_time": "2025-03-29T12:06:05.042Z"
   },
   {
    "duration": 3,
    "start_time": "2025-03-29T12:06:05.145Z"
   },
   {
    "duration": 137,
    "start_time": "2025-03-29T12:06:05.150Z"
   },
   {
    "duration": 24,
    "start_time": "2025-03-29T12:06:05.289Z"
   },
   {
    "duration": 217,
    "start_time": "2025-03-29T12:06:05.315Z"
   },
   {
    "duration": 933,
    "start_time": "2025-03-29T12:06:05.534Z"
   },
   {
    "duration": 286,
    "start_time": "2025-03-29T12:06:06.469Z"
   },
   {
    "duration": 575,
    "start_time": "2025-03-29T12:06:06.761Z"
   },
   {
    "duration": 14,
    "start_time": "2025-03-29T12:06:07.338Z"
   },
   {
    "duration": 44,
    "start_time": "2025-03-29T12:06:07.354Z"
   },
   {
    "duration": 49,
    "start_time": "2025-03-29T12:06:07.400Z"
   },
   {
    "duration": 267,
    "start_time": "2025-03-29T12:06:07.451Z"
   },
   {
    "duration": 1435,
    "start_time": "2025-03-29T12:06:07.720Z"
   },
   {
    "duration": 25,
    "start_time": "2025-03-29T12:06:09.156Z"
   },
   {
    "duration": 32,
    "start_time": "2025-03-29T12:06:09.183Z"
   },
   {
    "duration": 4,
    "start_time": "2025-03-29T12:06:09.217Z"
   },
   {
    "duration": 41,
    "start_time": "2025-03-29T12:06:09.222Z"
   },
   {
    "duration": 218,
    "start_time": "2025-03-29T12:06:09.267Z"
   },
   {
    "duration": 1470,
    "start_time": "2025-03-29T12:06:09.487Z"
   },
   {
    "duration": 5,
    "start_time": "2025-03-29T12:06:10.963Z"
   },
   {
    "duration": 97,
    "start_time": "2025-03-29T12:06:10.970Z"
   },
   {
    "duration": 4,
    "start_time": "2025-03-29T12:06:11.069Z"
   },
   {
    "duration": 36,
    "start_time": "2025-03-29T12:06:11.074Z"
   },
   {
    "duration": 17,
    "start_time": "2025-03-29T12:06:11.111Z"
   },
   {
    "duration": 317,
    "start_time": "2025-03-29T12:06:11.130Z"
   },
   {
    "duration": 18,
    "start_time": "2025-03-29T12:06:11.449Z"
   },
   {
    "duration": 16,
    "start_time": "2025-03-29T12:06:11.469Z"
   },
   {
    "duration": 26,
    "start_time": "2025-03-29T12:06:11.487Z"
   },
   {
    "duration": 4,
    "start_time": "2025-03-29T12:06:11.515Z"
   },
   {
    "duration": 42,
    "start_time": "2025-03-29T12:06:11.520Z"
   },
   {
    "duration": 4,
    "start_time": "2025-03-29T12:06:11.564Z"
   },
   {
    "duration": 8,
    "start_time": "2025-03-29T12:06:11.570Z"
   },
   {
    "duration": 6,
    "start_time": "2025-03-29T12:06:11.579Z"
   },
   {
    "duration": 2344,
    "start_time": "2025-03-29T12:06:11.586Z"
   },
   {
    "duration": 16755,
    "start_time": "2025-03-29T12:06:13.932Z"
   },
   {
    "duration": 37,
    "start_time": "2025-03-29T12:06:30.689Z"
   },
   {
    "duration": 44,
    "start_time": "2025-03-29T12:06:30.728Z"
   },
   {
    "duration": 34,
    "start_time": "2025-03-29T12:06:30.773Z"
   },
   {
    "duration": 24,
    "start_time": "2025-03-29T12:06:30.808Z"
   },
   {
    "duration": 16,
    "start_time": "2025-03-29T12:06:30.834Z"
   },
   {
    "duration": 22,
    "start_time": "2025-03-29T12:06:30.852Z"
   },
   {
    "duration": 29,
    "start_time": "2025-03-29T12:06:30.876Z"
   },
   {
    "duration": 31,
    "start_time": "2025-03-29T12:06:30.907Z"
   },
   {
    "duration": 109,
    "start_time": "2025-03-29T12:06:30.939Z"
   },
   {
    "duration": 21,
    "start_time": "2025-03-29T12:06:31.051Z"
   },
   {
    "duration": 603,
    "start_time": "2025-03-29T12:06:31.074Z"
   },
   {
    "duration": 628,
    "start_time": "2025-03-29T12:06:31.679Z"
   },
   {
    "duration": 621,
    "start_time": "2025-03-29T12:06:32.309Z"
   },
   {
    "duration": 571,
    "start_time": "2025-03-29T12:06:32.932Z"
   },
   {
    "duration": 5,
    "start_time": "2025-03-29T12:06:33.505Z"
   },
   {
    "duration": 230,
    "start_time": "2025-03-29T12:06:33.512Z"
   },
   {
    "duration": 31,
    "start_time": "2025-03-29T12:06:33.744Z"
   },
   {
    "duration": 8,
    "start_time": "2025-03-29T12:06:33.777Z"
   },
   {
    "duration": 21,
    "start_time": "2025-03-29T12:06:33.787Z"
   },
   {
    "duration": 11,
    "start_time": "2025-03-29T12:06:33.810Z"
   },
   {
    "duration": 4,
    "start_time": "2025-03-29T12:06:33.822Z"
   },
   {
    "duration": 12,
    "start_time": "2025-03-29T12:06:33.828Z"
   },
   {
    "duration": 29,
    "start_time": "2025-03-29T12:06:33.842Z"
   },
   {
    "duration": 27,
    "start_time": "2025-03-29T12:06:33.873Z"
   },
   {
    "duration": 27,
    "start_time": "2025-03-29T12:06:33.902Z"
   },
   {
    "duration": 62,
    "start_time": "2025-03-29T12:06:33.931Z"
   },
   {
    "duration": 11,
    "start_time": "2025-03-29T12:06:33.995Z"
   },
   {
    "duration": 78,
    "start_time": "2025-03-29T12:06:34.008Z"
   },
   {
    "duration": 3,
    "start_time": "2025-03-29T12:06:34.088Z"
   },
   {
    "duration": 16,
    "start_time": "2025-03-29T12:06:34.092Z"
   },
   {
    "duration": 188,
    "start_time": "2025-03-29T12:06:34.110Z"
   },
   {
    "duration": 3,
    "start_time": "2025-03-29T12:06:34.300Z"
   },
   {
    "duration": 7,
    "start_time": "2025-03-29T12:06:34.305Z"
   },
   {
    "duration": 14,
    "start_time": "2025-03-29T12:06:34.313Z"
   },
   {
    "duration": 187,
    "start_time": "2025-03-29T12:06:34.328Z"
   },
   {
    "duration": 4,
    "start_time": "2025-03-29T12:06:34.516Z"
   },
   {
    "duration": 5,
    "start_time": "2025-03-29T12:06:34.526Z"
   },
   {
    "duration": 8,
    "start_time": "2025-03-29T12:06:34.532Z"
   },
   {
    "duration": 23,
    "start_time": "2025-03-29T12:06:34.541Z"
   },
   {
    "duration": 13,
    "start_time": "2025-03-29T12:06:34.566Z"
   },
   {
    "duration": 45,
    "start_time": "2025-03-29T12:06:34.581Z"
   },
   {
    "duration": 65876,
    "start_time": "2025-03-29T12:06:34.628Z"
   },
   {
    "duration": 4,
    "start_time": "2025-03-29T12:07:40.506Z"
   },
   {
    "duration": 65009,
    "start_time": "2025-03-29T12:07:40.512Z"
   },
   {
    "duration": 290861,
    "start_time": "2025-03-29T12:08:45.522Z"
   },
   {
    "duration": 123882,
    "start_time": "2025-03-29T12:13:36.385Z"
   },
   {
    "duration": 2,
    "start_time": "2025-03-29T12:15:40.269Z"
   },
   {
    "duration": 14,
    "start_time": "2025-03-29T12:15:40.272Z"
   },
   {
    "duration": 23,
    "start_time": "2025-03-29T12:15:40.288Z"
   },
   {
    "duration": 1720,
    "start_time": "2025-03-29T12:15:40.313Z"
   },
   {
    "duration": 5,
    "start_time": "2025-03-29T12:15:42.035Z"
   },
   {
    "duration": 164,
    "start_time": "2025-03-29T12:15:42.042Z"
   },
   {
    "duration": 127,
    "start_time": "2025-03-29T12:15:42.208Z"
   },
   {
    "duration": 0,
    "start_time": "2025-03-29T12:15:42.337Z"
   },
   {
    "duration": 0,
    "start_time": "2025-03-29T12:15:42.339Z"
   },
   {
    "duration": 0,
    "start_time": "2025-03-29T12:15:42.341Z"
   },
   {
    "duration": 0,
    "start_time": "2025-03-29T12:15:42.342Z"
   },
   {
    "duration": 9968,
    "start_time": "2025-03-29T12:16:05.336Z"
   },
   {
    "duration": 1003,
    "start_time": "2025-03-29T12:16:15.306Z"
   },
   {
    "duration": 4,
    "start_time": "2025-03-29T12:16:16.311Z"
   },
   {
    "duration": 350,
    "start_time": "2025-03-29T12:16:16.317Z"
   },
   {
    "duration": 1541,
    "start_time": "2025-03-29T12:16:16.668Z"
   },
   {
    "duration": 1145,
    "start_time": "2025-03-29T12:16:18.211Z"
   },
   {
    "duration": 5,
    "start_time": "2025-03-29T12:16:19.358Z"
   },
   {
    "duration": 8,
    "start_time": "2025-03-29T12:16:19.364Z"
   },
   {
    "duration": 20,
    "start_time": "2025-03-29T12:16:19.373Z"
   },
   {
    "duration": 26,
    "start_time": "2025-03-29T12:16:19.396Z"
   },
   {
    "duration": 111,
    "start_time": "2025-03-29T12:16:19.423Z"
   },
   {
    "duration": 2,
    "start_time": "2025-03-29T12:16:19.536Z"
   },
   {
    "duration": 107,
    "start_time": "2025-03-29T12:16:19.540Z"
   },
   {
    "duration": 34,
    "start_time": "2025-03-29T12:16:19.648Z"
   },
   {
    "duration": 306,
    "start_time": "2025-03-29T12:16:19.683Z"
   },
   {
    "duration": 911,
    "start_time": "2025-03-29T12:16:19.990Z"
   },
   {
    "duration": 285,
    "start_time": "2025-03-29T12:16:20.903Z"
   },
   {
    "duration": 573,
    "start_time": "2025-03-29T12:16:21.190Z"
   },
   {
    "duration": 13,
    "start_time": "2025-03-29T12:16:21.765Z"
   },
   {
    "duration": 39,
    "start_time": "2025-03-29T12:16:21.780Z"
   },
   {
    "duration": 11,
    "start_time": "2025-03-29T12:16:21.820Z"
   },
   {
    "duration": 231,
    "start_time": "2025-03-29T12:16:21.833Z"
   },
   {
    "duration": 1409,
    "start_time": "2025-03-29T12:16:22.066Z"
   },
   {
    "duration": 20,
    "start_time": "2025-03-29T12:16:23.477Z"
   },
   {
    "duration": 42,
    "start_time": "2025-03-29T12:16:23.499Z"
   },
   {
    "duration": 4,
    "start_time": "2025-03-29T12:16:23.543Z"
   },
   {
    "duration": 31,
    "start_time": "2025-03-29T12:16:23.548Z"
   },
   {
    "duration": 233,
    "start_time": "2025-03-29T12:16:23.584Z"
   },
   {
    "duration": 1506,
    "start_time": "2025-03-29T12:16:23.819Z"
   },
   {
    "duration": 5,
    "start_time": "2025-03-29T12:16:25.327Z"
   },
   {
    "duration": 48,
    "start_time": "2025-03-29T12:16:25.334Z"
   },
   {
    "duration": 4,
    "start_time": "2025-03-29T12:16:25.384Z"
   },
   {
    "duration": 29,
    "start_time": "2025-03-29T12:16:25.390Z"
   },
   {
    "duration": 13,
    "start_time": "2025-03-29T12:16:25.421Z"
   },
   {
    "duration": 367,
    "start_time": "2025-03-29T12:16:25.436Z"
   },
   {
    "duration": 9,
    "start_time": "2025-03-29T12:16:25.804Z"
   },
   {
    "duration": 20,
    "start_time": "2025-03-29T12:16:25.815Z"
   },
   {
    "duration": 43,
    "start_time": "2025-03-29T12:16:25.836Z"
   },
   {
    "duration": 4,
    "start_time": "2025-03-29T12:16:25.881Z"
   },
   {
    "duration": 16,
    "start_time": "2025-03-29T12:16:25.887Z"
   },
   {
    "duration": 4,
    "start_time": "2025-03-29T12:16:25.905Z"
   },
   {
    "duration": 13,
    "start_time": "2025-03-29T12:16:25.911Z"
   },
   {
    "duration": 4,
    "start_time": "2025-03-29T12:16:25.926Z"
   },
   {
    "duration": 2431,
    "start_time": "2025-03-29T12:16:25.931Z"
   },
   {
    "duration": 16695,
    "start_time": "2025-03-29T12:16:28.364Z"
   },
   {
    "duration": 42,
    "start_time": "2025-03-29T12:16:45.061Z"
   },
   {
    "duration": 36,
    "start_time": "2025-03-29T12:16:45.104Z"
   },
   {
    "duration": 21,
    "start_time": "2025-03-29T12:16:45.162Z"
   },
   {
    "duration": 27,
    "start_time": "2025-03-29T12:16:45.184Z"
   },
   {
    "duration": 6,
    "start_time": "2025-03-29T12:16:45.213Z"
   },
   {
    "duration": 17,
    "start_time": "2025-03-29T12:16:45.220Z"
   },
   {
    "duration": 38,
    "start_time": "2025-03-29T12:16:45.239Z"
   },
   {
    "duration": 30,
    "start_time": "2025-03-29T12:16:45.279Z"
   },
   {
    "duration": 44,
    "start_time": "2025-03-29T12:16:45.311Z"
   },
   {
    "duration": 25,
    "start_time": "2025-03-29T12:16:45.356Z"
   },
   {
    "duration": 705,
    "start_time": "2025-03-29T12:16:45.382Z"
   },
   {
    "duration": 685,
    "start_time": "2025-03-29T12:16:46.089Z"
   },
   {
    "duration": 642,
    "start_time": "2025-03-29T12:16:46.775Z"
   },
   {
    "duration": 640,
    "start_time": "2025-03-29T12:16:47.419Z"
   },
   {
    "duration": 4,
    "start_time": "2025-03-29T12:16:48.062Z"
   },
   {
    "duration": 9,
    "start_time": "2025-03-29T12:16:48.068Z"
   },
   {
    "duration": 30,
    "start_time": "2025-03-29T12:16:48.078Z"
   },
   {
    "duration": 7,
    "start_time": "2025-03-29T12:16:48.109Z"
   },
   {
    "duration": 20,
    "start_time": "2025-03-29T12:16:48.118Z"
   },
   {
    "duration": 28,
    "start_time": "2025-03-29T12:16:48.140Z"
   },
   {
    "duration": 5,
    "start_time": "2025-03-29T12:16:48.170Z"
   },
   {
    "duration": 9,
    "start_time": "2025-03-29T12:16:48.176Z"
   },
   {
    "duration": 6,
    "start_time": "2025-03-29T12:16:48.187Z"
   },
   {
    "duration": 15,
    "start_time": "2025-03-29T12:16:48.195Z"
   },
   {
    "duration": 20,
    "start_time": "2025-03-29T12:16:48.211Z"
   },
   {
    "duration": 95,
    "start_time": "2025-03-29T12:16:48.233Z"
   },
   {
    "duration": 12,
    "start_time": "2025-03-29T12:16:48.330Z"
   },
   {
    "duration": 154,
    "start_time": "2025-03-29T12:16:48.343Z"
   },
   {
    "duration": 2,
    "start_time": "2025-03-29T12:16:48.499Z"
   },
   {
    "duration": 19,
    "start_time": "2025-03-29T12:16:48.503Z"
   },
   {
    "duration": 143,
    "start_time": "2025-03-29T12:16:48.523Z"
   },
   {
    "duration": 3,
    "start_time": "2025-03-29T12:16:48.668Z"
   },
   {
    "duration": 37,
    "start_time": "2025-03-29T12:16:48.672Z"
   },
   {
    "duration": 55,
    "start_time": "2025-03-29T12:16:48.711Z"
   },
   {
    "duration": 81,
    "start_time": "2025-03-29T12:16:48.768Z"
   },
   {
    "duration": 5,
    "start_time": "2025-03-29T12:16:48.851Z"
   },
   {
    "duration": 2,
    "start_time": "2025-03-29T12:16:48.862Z"
   },
   {
    "duration": 13,
    "start_time": "2025-03-29T12:16:48.866Z"
   },
   {
    "duration": 9,
    "start_time": "2025-03-29T12:16:48.880Z"
   },
   {
    "duration": 13,
    "start_time": "2025-03-29T12:16:48.890Z"
   },
   {
    "duration": 6,
    "start_time": "2025-03-29T12:16:48.905Z"
   },
   {
    "duration": 65241,
    "start_time": "2025-03-29T12:16:48.912Z"
   },
   {
    "duration": 8,
    "start_time": "2025-03-29T12:17:54.155Z"
   },
   {
    "duration": 63449,
    "start_time": "2025-03-29T12:17:54.165Z"
   },
   {
    "duration": 238161,
    "start_time": "2025-03-29T12:18:57.615Z"
   },
   {
    "duration": 126267,
    "start_time": "2025-03-29T12:22:55.778Z"
   },
   {
    "duration": 3,
    "start_time": "2025-03-29T12:25:02.046Z"
   },
   {
    "duration": 40,
    "start_time": "2025-03-29T12:25:02.051Z"
   },
   {
    "duration": 49,
    "start_time": "2025-03-29T12:25:02.093Z"
   },
   {
    "duration": 792,
    "start_time": "2025-03-29T12:25:02.143Z"
   },
   {
    "duration": 6,
    "start_time": "2025-03-29T12:25:02.937Z"
   },
   {
    "duration": 176,
    "start_time": "2025-03-29T12:25:02.945Z"
   },
   {
    "duration": 123,
    "start_time": "2025-03-29T12:25:03.122Z"
   },
   {
    "duration": 0,
    "start_time": "2025-03-29T12:25:03.247Z"
   },
   {
    "duration": 0,
    "start_time": "2025-03-29T12:25:03.248Z"
   },
   {
    "duration": 0,
    "start_time": "2025-03-29T12:25:03.250Z"
   },
   {
    "duration": 0,
    "start_time": "2025-03-29T12:25:03.251Z"
   },
   {
    "duration": 11,
    "start_time": "2025-03-29T13:01:59.755Z"
   },
   {
    "duration": 885,
    "start_time": "2025-03-29T13:03:15.117Z"
   },
   {
    "duration": 122996,
    "start_time": "2025-03-29T13:05:29.471Z"
   },
   {
    "duration": 186,
    "start_time": "2025-03-29T13:10:31.854Z"
   },
   {
    "duration": 65,
    "start_time": "2025-03-29T13:48:38.414Z"
   },
   {
    "duration": 9684,
    "start_time": "2025-03-29T14:16:30.811Z"
   },
   {
    "duration": 1003,
    "start_time": "2025-03-29T14:16:40.498Z"
   },
   {
    "duration": 4,
    "start_time": "2025-03-29T14:16:41.503Z"
   },
   {
    "duration": 259,
    "start_time": "2025-03-29T14:16:41.509Z"
   },
   {
    "duration": 1544,
    "start_time": "2025-03-29T14:16:41.770Z"
   },
   {
    "duration": 1177,
    "start_time": "2025-03-29T14:16:43.315Z"
   },
   {
    "duration": 4,
    "start_time": "2025-03-29T14:16:44.494Z"
   },
   {
    "duration": 35,
    "start_time": "2025-03-29T14:16:44.499Z"
   },
   {
    "duration": 22,
    "start_time": "2025-03-29T14:16:44.535Z"
   },
   {
    "duration": 28,
    "start_time": "2025-03-29T14:16:44.559Z"
   },
   {
    "duration": 110,
    "start_time": "2025-03-29T14:16:44.589Z"
   },
   {
    "duration": 3,
    "start_time": "2025-03-29T14:16:44.700Z"
   },
   {
    "duration": 102,
    "start_time": "2025-03-29T14:16:44.704Z"
   },
   {
    "duration": 24,
    "start_time": "2025-03-29T14:16:44.807Z"
   },
   {
    "duration": 212,
    "start_time": "2025-03-29T14:16:44.833Z"
   },
   {
    "duration": 916,
    "start_time": "2025-03-29T14:16:45.046Z"
   },
   {
    "duration": 284,
    "start_time": "2025-03-29T14:16:45.964Z"
   },
   {
    "duration": 599,
    "start_time": "2025-03-29T14:16:46.250Z"
   },
   {
    "duration": 21,
    "start_time": "2025-03-29T14:16:46.851Z"
   },
   {
    "duration": 18,
    "start_time": "2025-03-29T14:16:46.874Z"
   },
   {
    "duration": 9,
    "start_time": "2025-03-29T14:16:46.894Z"
   },
   {
    "duration": 238,
    "start_time": "2025-03-29T14:16:46.905Z"
   },
   {
    "duration": 1429,
    "start_time": "2025-03-29T14:16:47.145Z"
   },
   {
    "duration": 21,
    "start_time": "2025-03-29T14:16:48.575Z"
   },
   {
    "duration": 36,
    "start_time": "2025-03-29T14:16:48.597Z"
   },
   {
    "duration": 4,
    "start_time": "2025-03-29T14:16:48.634Z"
   },
   {
    "duration": 34,
    "start_time": "2025-03-29T14:16:48.639Z"
   },
   {
    "duration": 226,
    "start_time": "2025-03-29T14:16:48.678Z"
   },
   {
    "duration": 1456,
    "start_time": "2025-03-29T14:16:48.906Z"
   },
   {
    "duration": 5,
    "start_time": "2025-03-29T14:16:50.364Z"
   },
   {
    "duration": 38,
    "start_time": "2025-03-29T14:16:50.371Z"
   },
   {
    "duration": 4,
    "start_time": "2025-03-29T14:16:50.410Z"
   },
   {
    "duration": 29,
    "start_time": "2025-03-29T14:16:50.415Z"
   },
   {
    "duration": 27,
    "start_time": "2025-03-29T14:16:50.446Z"
   },
   {
    "duration": 331,
    "start_time": "2025-03-29T14:16:50.474Z"
   },
   {
    "duration": 10,
    "start_time": "2025-03-29T14:16:50.807Z"
   },
   {
    "duration": 43,
    "start_time": "2025-03-29T14:16:50.819Z"
   },
   {
    "duration": 26,
    "start_time": "2025-03-29T14:16:50.863Z"
   },
   {
    "duration": 4,
    "start_time": "2025-03-29T14:16:50.891Z"
   },
   {
    "duration": 25,
    "start_time": "2025-03-29T14:16:50.896Z"
   },
   {
    "duration": 5,
    "start_time": "2025-03-29T14:16:50.922Z"
   },
   {
    "duration": 25,
    "start_time": "2025-03-29T14:16:50.929Z"
   },
   {
    "duration": 14,
    "start_time": "2025-03-29T14:16:50.956Z"
   },
   {
    "duration": 2355,
    "start_time": "2025-03-29T14:16:50.971Z"
   },
   {
    "duration": 16587,
    "start_time": "2025-03-29T14:16:53.328Z"
   },
   {
    "duration": 46,
    "start_time": "2025-03-29T14:17:09.917Z"
   },
   {
    "duration": 35,
    "start_time": "2025-03-29T14:17:09.965Z"
   },
   {
    "duration": 31,
    "start_time": "2025-03-29T14:17:10.002Z"
   },
   {
    "duration": 36,
    "start_time": "2025-03-29T14:17:10.034Z"
   },
   {
    "duration": 7,
    "start_time": "2025-03-29T14:17:10.072Z"
   },
   {
    "duration": 64,
    "start_time": "2025-03-29T14:17:10.081Z"
   },
   {
    "duration": 42,
    "start_time": "2025-03-29T14:17:10.146Z"
   },
   {
    "duration": 30,
    "start_time": "2025-03-29T14:17:10.189Z"
   },
   {
    "duration": 32,
    "start_time": "2025-03-29T14:17:10.221Z"
   },
   {
    "duration": 24,
    "start_time": "2025-03-29T14:17:10.255Z"
   },
   {
    "duration": 606,
    "start_time": "2025-03-29T14:17:10.280Z"
   },
   {
    "duration": 631,
    "start_time": "2025-03-29T14:17:10.887Z"
   },
   {
    "duration": 623,
    "start_time": "2025-03-29T14:17:11.520Z"
   },
   {
    "duration": 586,
    "start_time": "2025-03-29T14:17:12.145Z"
   },
   {
    "duration": 55,
    "start_time": "2025-03-29T14:17:12.732Z"
   },
   {
    "duration": 44,
    "start_time": "2025-03-29T14:17:12.788Z"
   },
   {
    "duration": 20,
    "start_time": "2025-03-29T14:17:12.834Z"
   },
   {
    "duration": 19,
    "start_time": "2025-03-29T14:17:12.856Z"
   },
   {
    "duration": 77,
    "start_time": "2025-03-29T14:17:12.877Z"
   },
   {
    "duration": 11,
    "start_time": "2025-03-29T14:17:12.956Z"
   },
   {
    "duration": 17350,
    "start_time": "2025-03-29T14:17:12.968Z"
   },
   {
    "duration": 130,
    "start_time": "2025-03-29T14:17:30.320Z"
   },
   {
    "duration": 10,
    "start_time": "2025-03-29T14:17:30.452Z"
   },
   {
    "duration": 44,
    "start_time": "2025-03-29T14:17:30.464Z"
   },
   {
    "duration": 63833,
    "start_time": "2025-03-29T14:17:30.510Z"
   },
   {
    "duration": 63,
    "start_time": "2025-03-29T14:18:34.345Z"
   },
   {
    "duration": 0,
    "start_time": "2025-03-29T14:18:34.410Z"
   },
   {
    "duration": 0,
    "start_time": "2025-03-29T14:18:34.411Z"
   },
   {
    "duration": 0,
    "start_time": "2025-03-29T14:18:34.413Z"
   },
   {
    "duration": 0,
    "start_time": "2025-03-29T14:18:34.414Z"
   },
   {
    "duration": 0,
    "start_time": "2025-03-29T14:18:34.415Z"
   },
   {
    "duration": 0,
    "start_time": "2025-03-29T14:18:34.416Z"
   },
   {
    "duration": 0,
    "start_time": "2025-03-29T14:18:34.418Z"
   },
   {
    "duration": 0,
    "start_time": "2025-03-29T14:18:34.419Z"
   },
   {
    "duration": 0,
    "start_time": "2025-03-29T14:18:34.420Z"
   },
   {
    "duration": 0,
    "start_time": "2025-03-29T14:18:34.421Z"
   },
   {
    "duration": 0,
    "start_time": "2025-03-29T14:18:34.422Z"
   },
   {
    "duration": 0,
    "start_time": "2025-03-29T14:18:34.423Z"
   },
   {
    "duration": 0,
    "start_time": "2025-03-29T14:18:34.425Z"
   },
   {
    "duration": 0,
    "start_time": "2025-03-29T14:18:34.426Z"
   },
   {
    "duration": 390901,
    "start_time": "2025-03-29T14:30:22.579Z"
   },
   {
    "duration": 10749,
    "start_time": "2025-03-29T15:02:30.651Z"
   },
   {
    "duration": 1001,
    "start_time": "2025-03-29T15:02:41.403Z"
   },
   {
    "duration": 4,
    "start_time": "2025-03-29T15:02:42.406Z"
   },
   {
    "duration": 322,
    "start_time": "2025-03-29T15:02:42.411Z"
   },
   {
    "duration": 9898,
    "start_time": "2025-03-29T15:02:48.294Z"
   },
   {
    "duration": 993,
    "start_time": "2025-03-29T15:02:58.194Z"
   },
   {
    "duration": 4,
    "start_time": "2025-03-29T15:02:59.189Z"
   },
   {
    "duration": 261,
    "start_time": "2025-03-29T15:02:59.195Z"
   },
   {
    "duration": 1613,
    "start_time": "2025-03-29T15:02:59.457Z"
   },
   {
    "duration": 1154,
    "start_time": "2025-03-29T15:03:01.072Z"
   },
   {
    "duration": 5,
    "start_time": "2025-03-29T15:03:02.227Z"
   },
   {
    "duration": 39,
    "start_time": "2025-03-29T15:03:02.233Z"
   },
   {
    "duration": 61,
    "start_time": "2025-03-29T15:03:02.273Z"
   },
   {
    "duration": 32,
    "start_time": "2025-03-29T15:03:02.337Z"
   },
   {
    "duration": 170,
    "start_time": "2025-03-29T15:03:02.371Z"
   },
   {
    "duration": 47,
    "start_time": "2025-03-29T15:03:02.543Z"
   },
   {
    "duration": 114,
    "start_time": "2025-03-29T15:03:02.592Z"
   },
   {
    "duration": 23,
    "start_time": "2025-03-29T15:03:02.708Z"
   },
   {
    "duration": 234,
    "start_time": "2025-03-29T15:03:02.733Z"
   },
   {
    "duration": 934,
    "start_time": "2025-03-29T15:03:02.969Z"
   },
   {
    "duration": 299,
    "start_time": "2025-03-29T15:03:03.905Z"
   },
   {
    "duration": 595,
    "start_time": "2025-03-29T15:03:04.206Z"
   },
   {
    "duration": 13,
    "start_time": "2025-03-29T15:03:04.802Z"
   },
   {
    "duration": 30,
    "start_time": "2025-03-29T15:03:04.816Z"
   },
   {
    "duration": 22,
    "start_time": "2025-03-29T15:03:04.848Z"
   },
   {
    "duration": 356,
    "start_time": "2025-03-29T15:03:04.872Z"
   },
   {
    "duration": 1457,
    "start_time": "2025-03-29T15:03:05.230Z"
   },
   {
    "duration": 28,
    "start_time": "2025-03-29T15:03:06.689Z"
   },
   {
    "duration": 50,
    "start_time": "2025-03-29T15:03:06.719Z"
   },
   {
    "duration": 4,
    "start_time": "2025-03-29T15:03:06.771Z"
   },
   {
    "duration": 32,
    "start_time": "2025-03-29T15:03:06.777Z"
   },
   {
    "duration": 220,
    "start_time": "2025-03-29T15:03:06.814Z"
   },
   {
    "duration": 1521,
    "start_time": "2025-03-29T15:03:07.036Z"
   },
   {
    "duration": 6,
    "start_time": "2025-03-29T15:03:08.562Z"
   },
   {
    "duration": 65,
    "start_time": "2025-03-29T15:03:08.570Z"
   },
   {
    "duration": 4,
    "start_time": "2025-03-29T15:03:08.637Z"
   },
   {
    "duration": 27,
    "start_time": "2025-03-29T15:03:08.643Z"
   },
   {
    "duration": 14,
    "start_time": "2025-03-29T15:03:08.672Z"
   },
   {
    "duration": 342,
    "start_time": "2025-03-29T15:03:08.688Z"
   },
   {
    "duration": 9,
    "start_time": "2025-03-29T15:03:09.032Z"
   },
   {
    "duration": 30,
    "start_time": "2025-03-29T15:03:09.043Z"
   },
   {
    "duration": 26,
    "start_time": "2025-03-29T15:03:09.075Z"
   },
   {
    "duration": 4,
    "start_time": "2025-03-29T15:03:09.103Z"
   },
   {
    "duration": 16,
    "start_time": "2025-03-29T15:03:09.108Z"
   },
   {
    "duration": 3,
    "start_time": "2025-03-29T15:03:09.126Z"
   },
   {
    "duration": 4,
    "start_time": "2025-03-29T15:03:09.163Z"
   },
   {
    "duration": 9,
    "start_time": "2025-03-29T15:03:09.168Z"
   },
   {
    "duration": 2346,
    "start_time": "2025-03-29T15:03:09.178Z"
   },
   {
    "duration": 16933,
    "start_time": "2025-03-29T15:03:11.526Z"
   },
   {
    "duration": 40,
    "start_time": "2025-03-29T15:03:28.460Z"
   },
   {
    "duration": 63,
    "start_time": "2025-03-29T15:03:28.502Z"
   },
   {
    "duration": 31,
    "start_time": "2025-03-29T15:03:28.566Z"
   },
   {
    "duration": 25,
    "start_time": "2025-03-29T15:03:28.599Z"
   },
   {
    "duration": 6,
    "start_time": "2025-03-29T15:03:28.625Z"
   },
   {
    "duration": 34,
    "start_time": "2025-03-29T15:03:28.633Z"
   },
   {
    "duration": 37,
    "start_time": "2025-03-29T15:03:28.670Z"
   },
   {
    "duration": 65,
    "start_time": "2025-03-29T15:03:28.709Z"
   },
   {
    "duration": 42,
    "start_time": "2025-03-29T15:03:28.776Z"
   },
   {
    "duration": 53,
    "start_time": "2025-03-29T15:03:28.820Z"
   },
   {
    "duration": 669,
    "start_time": "2025-03-29T15:03:28.876Z"
   },
   {
    "duration": 659,
    "start_time": "2025-03-29T15:03:29.547Z"
   },
   {
    "duration": 621,
    "start_time": "2025-03-29T15:03:30.208Z"
   },
   {
    "duration": 577,
    "start_time": "2025-03-29T15:03:30.830Z"
   },
   {
    "duration": 61,
    "start_time": "2025-03-29T15:03:31.409Z"
   },
   {
    "duration": 7,
    "start_time": "2025-03-29T15:03:31.471Z"
   },
   {
    "duration": 84,
    "start_time": "2025-03-29T15:03:31.479Z"
   },
   {
    "duration": 46,
    "start_time": "2025-03-29T15:03:31.564Z"
   },
   {
    "duration": 98,
    "start_time": "2025-03-29T15:03:31.612Z"
   },
   {
    "duration": 11,
    "start_time": "2025-03-29T15:03:31.711Z"
   },
   {
    "duration": 17459,
    "start_time": "2025-03-29T15:03:31.724Z"
   },
   {
    "duration": 132,
    "start_time": "2025-03-29T15:03:49.186Z"
   },
   {
    "duration": 3,
    "start_time": "2025-03-29T15:03:49.320Z"
   },
   {
    "duration": 13,
    "start_time": "2025-03-29T15:03:49.325Z"
   },
   {
    "duration": 64051,
    "start_time": "2025-03-29T15:03:49.340Z"
   },
   {
    "duration": 104270,
    "start_time": "2025-03-29T15:04:53.393Z"
   },
   {
    "duration": 0,
    "start_time": "2025-03-29T15:26:39.107Z"
   },
   {
    "duration": 0,
    "start_time": "2025-03-29T15:26:39.108Z"
   },
   {
    "duration": 0,
    "start_time": "2025-03-29T15:26:39.109Z"
   },
   {
    "duration": 0,
    "start_time": "2025-03-29T15:26:39.110Z"
   },
   {
    "duration": 0,
    "start_time": "2025-03-29T15:26:39.111Z"
   },
   {
    "duration": 0,
    "start_time": "2025-03-29T15:26:39.112Z"
   },
   {
    "duration": 0,
    "start_time": "2025-03-29T15:26:39.113Z"
   },
   {
    "duration": 0,
    "start_time": "2025-03-29T15:26:39.114Z"
   },
   {
    "duration": 0,
    "start_time": "2025-03-29T15:26:39.115Z"
   },
   {
    "duration": 0,
    "start_time": "2025-03-29T15:26:39.116Z"
   },
   {
    "duration": 0,
    "start_time": "2025-03-29T15:26:39.117Z"
   },
   {
    "duration": 4,
    "start_time": "2025-03-29T15:26:55.069Z"
   },
   {
    "duration": 119872,
    "start_time": "2025-03-29T15:54:29.127Z"
   },
   {
    "duration": 896,
    "start_time": "2025-03-29T16:20:46.347Z"
   },
   {
    "duration": 6,
    "start_time": "2025-03-29T16:28:00.891Z"
   },
   {
    "duration": 10,
    "start_time": "2025-03-29T16:28:05.355Z"
   },
   {
    "duration": 857,
    "start_time": "2025-03-29T16:28:32.213Z"
   },
   {
    "duration": 125690,
    "start_time": "2025-03-29T16:37:43.238Z"
   },
   {
    "duration": 5,
    "start_time": "2025-03-29T16:40:36.550Z"
   },
   {
    "duration": 1064,
    "start_time": "2025-03-29T16:43:10.707Z"
   },
   {
    "duration": 116,
    "start_time": "2025-03-29T16:46:25.967Z"
   },
   {
    "duration": 168,
    "start_time": "2025-03-29T16:46:39.973Z"
   },
   {
    "duration": 195,
    "start_time": "2025-03-29T16:46:54.613Z"
   },
   {
    "duration": 190,
    "start_time": "2025-03-29T16:47:03.803Z"
   },
   {
    "duration": 10309,
    "start_time": "2025-03-29T16:56:23.957Z"
   },
   {
    "duration": 1031,
    "start_time": "2025-03-29T16:56:34.270Z"
   },
   {
    "duration": 3,
    "start_time": "2025-03-29T16:56:35.303Z"
   },
   {
    "duration": 313,
    "start_time": "2025-03-29T16:56:35.309Z"
   },
   {
    "duration": 1791,
    "start_time": "2025-03-29T16:56:35.623Z"
   },
   {
    "duration": 1185,
    "start_time": "2025-03-29T16:56:37.416Z"
   },
   {
    "duration": 5,
    "start_time": "2025-03-29T16:56:38.603Z"
   },
   {
    "duration": 14,
    "start_time": "2025-03-29T16:56:38.610Z"
   },
   {
    "duration": 8,
    "start_time": "2025-03-29T16:56:38.625Z"
   },
   {
    "duration": 46,
    "start_time": "2025-03-29T16:56:38.635Z"
   },
   {
    "duration": 128,
    "start_time": "2025-03-29T16:56:38.683Z"
   },
   {
    "duration": 3,
    "start_time": "2025-03-29T16:56:38.813Z"
   },
   {
    "duration": 103,
    "start_time": "2025-03-29T16:56:38.818Z"
   },
   {
    "duration": 24,
    "start_time": "2025-03-29T16:56:38.922Z"
   },
   {
    "duration": 215,
    "start_time": "2025-03-29T16:56:38.948Z"
   },
   {
    "duration": 944,
    "start_time": "2025-03-29T16:56:39.165Z"
   },
   {
    "duration": 303,
    "start_time": "2025-03-29T16:56:40.110Z"
   },
   {
    "duration": 606,
    "start_time": "2025-03-29T16:56:40.414Z"
   },
   {
    "duration": 13,
    "start_time": "2025-03-29T16:56:41.022Z"
   },
   {
    "duration": 211,
    "start_time": "2025-03-29T16:56:41.036Z"
   },
   {
    "duration": 11,
    "start_time": "2025-03-29T16:56:41.249Z"
   },
   {
    "duration": 231,
    "start_time": "2025-03-29T16:56:41.262Z"
   },
   {
    "duration": 1457,
    "start_time": "2025-03-29T16:56:41.495Z"
   },
   {
    "duration": 26,
    "start_time": "2025-03-29T16:56:42.954Z"
   },
   {
    "duration": 283,
    "start_time": "2025-03-29T16:56:42.983Z"
   },
   {
    "duration": 5,
    "start_time": "2025-03-29T16:56:43.267Z"
   },
   {
    "duration": 46,
    "start_time": "2025-03-29T16:56:43.273Z"
   },
   {
    "duration": 228,
    "start_time": "2025-03-29T16:56:43.325Z"
   },
   {
    "duration": 1499,
    "start_time": "2025-03-29T16:56:43.555Z"
   },
   {
    "duration": 7,
    "start_time": "2025-03-29T16:56:45.056Z"
   },
   {
    "duration": 56,
    "start_time": "2025-03-29T16:56:45.065Z"
   },
   {
    "duration": 4,
    "start_time": "2025-03-29T16:56:45.123Z"
   },
   {
    "duration": 34,
    "start_time": "2025-03-29T16:56:45.129Z"
   },
   {
    "duration": 99,
    "start_time": "2025-03-29T16:56:45.165Z"
   },
   {
    "duration": 335,
    "start_time": "2025-03-29T16:56:45.266Z"
   },
   {
    "duration": 13,
    "start_time": "2025-03-29T16:56:45.603Z"
   },
   {
    "duration": 52,
    "start_time": "2025-03-29T16:56:45.619Z"
   },
   {
    "duration": 29,
    "start_time": "2025-03-29T16:56:45.673Z"
   },
   {
    "duration": 6,
    "start_time": "2025-03-29T16:56:45.706Z"
   },
   {
    "duration": 16,
    "start_time": "2025-03-29T16:56:45.713Z"
   },
   {
    "duration": 31,
    "start_time": "2025-03-29T16:56:45.731Z"
   },
   {
    "duration": 6,
    "start_time": "2025-03-29T16:56:45.765Z"
   },
   {
    "duration": 5,
    "start_time": "2025-03-29T16:56:45.774Z"
   },
   {
    "duration": 2558,
    "start_time": "2025-03-29T16:56:45.782Z"
   },
   {
    "duration": 17477,
    "start_time": "2025-03-29T16:56:48.342Z"
   },
   {
    "duration": 48,
    "start_time": "2025-03-29T16:57:05.821Z"
   },
   {
    "duration": 38,
    "start_time": "2025-03-29T16:57:05.871Z"
   },
   {
    "duration": 111,
    "start_time": "2025-03-29T16:57:05.912Z"
   },
   {
    "duration": 68,
    "start_time": "2025-03-29T16:57:06.025Z"
   },
   {
    "duration": 38,
    "start_time": "2025-03-29T16:57:06.095Z"
   },
   {
    "duration": 31,
    "start_time": "2025-03-29T16:57:06.135Z"
   },
   {
    "duration": 85,
    "start_time": "2025-03-29T16:57:06.167Z"
   },
   {
    "duration": 77,
    "start_time": "2025-03-29T16:57:06.254Z"
   },
   {
    "duration": 80,
    "start_time": "2025-03-29T16:57:06.333Z"
   },
   {
    "duration": 48,
    "start_time": "2025-03-29T16:57:06.415Z"
   },
   {
    "duration": 663,
    "start_time": "2025-03-29T16:57:06.465Z"
   },
   {
    "duration": 696,
    "start_time": "2025-03-29T16:57:07.131Z"
   },
   {
    "duration": 646,
    "start_time": "2025-03-29T16:57:07.830Z"
   },
   {
    "duration": 605,
    "start_time": "2025-03-29T16:57:08.478Z"
   },
   {
    "duration": 48,
    "start_time": "2025-03-29T16:57:09.086Z"
   },
   {
    "duration": 8,
    "start_time": "2025-03-29T16:57:09.135Z"
   },
   {
    "duration": 21,
    "start_time": "2025-03-29T16:57:09.163Z"
   },
   {
    "duration": 65,
    "start_time": "2025-03-29T16:57:09.186Z"
   },
   {
    "duration": 91,
    "start_time": "2025-03-29T16:57:09.253Z"
   },
   {
    "duration": 12,
    "start_time": "2025-03-29T16:57:09.346Z"
   },
   {
    "duration": 19076,
    "start_time": "2025-03-29T16:57:09.360Z"
   },
   {
    "duration": 139,
    "start_time": "2025-03-29T16:57:28.438Z"
   },
   {
    "duration": 3,
    "start_time": "2025-03-29T16:57:28.579Z"
   },
   {
    "duration": 3,
    "start_time": "2025-03-29T16:57:28.584Z"
   },
   {
    "duration": 69689,
    "start_time": "2025-03-29T16:57:28.589Z"
   },
   {
    "duration": 1220000,
    "start_time": "2025-03-29T16:58:38.280Z"
   },
   {
    "duration": 118593,
    "start_time": "2025-03-29T17:18:58.281Z"
   },
   {
    "duration": 906,
    "start_time": "2025-03-29T17:20:56.876Z"
   },
   {
    "duration": 6,
    "start_time": "2025-03-29T17:20:57.783Z"
   },
   {
    "duration": 821,
    "start_time": "2025-03-29T17:20:57.790Z"
   },
   {
    "duration": 119845,
    "start_time": "2025-03-29T17:20:58.612Z"
   },
   {
    "duration": 173,
    "start_time": "2025-03-29T17:22:58.462Z"
   }
  ],
  "kernelspec": {
   "display_name": "Python 3 (ipykernel)",
   "language": "python",
   "name": "python3"
  },
  "language_info": {
   "codemirror_mode": {
    "name": "ipython",
    "version": 3
   },
   "file_extension": ".py",
   "mimetype": "text/x-python",
   "name": "python",
   "nbconvert_exporter": "python",
   "pygments_lexer": "ipython3",
   "version": "3.10.16"
  },
  "toc": {
   "base_numbering": 1,
   "nav_menu": {},
   "number_sections": true,
   "sideBar": true,
   "skip_h1_title": true,
   "title_cell": "Table of Contents",
   "title_sidebar": "Contents",
   "toc_cell": false,
   "toc_position": {
    "height": "calc(100% - 180px)",
    "left": "10px",
    "top": "150px",
    "width": "271.852px"
   },
   "toc_section_display": true,
   "toc_window_display": true
  }
 },
 "nbformat": 4,
 "nbformat_minor": 4
}

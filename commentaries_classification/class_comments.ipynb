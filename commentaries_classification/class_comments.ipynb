{
 "cells": [
  {
   "cell_type": "markdown",
   "metadata": {
    "toc": true
   },
   "source": [
    "<h1>Содержание<span class=\"tocSkip\"></span></h1>\n",
    "<div class=\"toc\"><ul class=\"toc-item\"><li><span><a href=\"#Подготовка-данных-к-обучению\" data-toc-modified-id=\"Подготовка-данных-к-обучению-1\"><span class=\"toc-item-num\">1&nbsp;&nbsp;</span>Подготовка данных к обучению</a></span><ul class=\"toc-item\"><li><span><a href=\"#Загрузка-и-предпросмотр\" data-toc-modified-id=\"Загрузка-и-предпросмотр-1.1\"><span class=\"toc-item-num\">1.1&nbsp;&nbsp;</span>Загрузка и предпросмотр</a></span></li><li><span><a href=\"#Подготовка-текста\" data-toc-modified-id=\"Подготовка-текста-1.2\"><span class=\"toc-item-num\">1.2&nbsp;&nbsp;</span>Подготовка текста</a></span></li></ul></li><li><span><a href=\"#Обучение\" data-toc-modified-id=\"Обучение-2\"><span class=\"toc-item-num\">2&nbsp;&nbsp;</span>Обучение</a></span><ul class=\"toc-item\"><li><span><a href=\"#Подбор-гиперпараметров\" data-toc-modified-id=\"Подбор-гиперпараметров-2.1\"><span class=\"toc-item-num\">2.1&nbsp;&nbsp;</span>Подбор гиперпараметров</a></span></li><li><span><a href=\"#Выбор-модели\" data-toc-modified-id=\"Выбор-модели-2.2\"><span class=\"toc-item-num\">2.2&nbsp;&nbsp;</span>Выбор модели</a></span></li></ul></li><li><span><a href=\"#Выводы\" data-toc-modified-id=\"Выводы-3\"><span class=\"toc-item-num\">3&nbsp;&nbsp;</span>Выводы</a></span></li><li><span><a href=\"#Чек-лист-проверки\" data-toc-modified-id=\"Чек-лист-проверки-4\"><span class=\"toc-item-num\">4&nbsp;&nbsp;</span>Чек-лист проверки</a></span></li></ul></div>"
   ]
  },
  {
   "cell_type": "markdown",
   "metadata": {},
   "source": [
    "**Импорт библиотек:**"
   ]
  },
  {
   "cell_type": "code",
   "execution_count": 1,
   "metadata": {},
   "outputs": [
    {
     "name": "stderr",
     "output_type": "stream",
     "text": [
      "[nltk_data] Downloading package punkt to /home/dormak/nltk_data...\n",
      "[nltk_data]   Package punkt is already up-to-date!\n",
      "[nltk_data] Downloading package punkt_tab to /home/dormak/nltk_data...\n",
      "[nltk_data]   Package punkt_tab is already up-to-date!\n",
      "[nltk_data] Downloading package wordnet to /home/dormak/nltk_data...\n",
      "[nltk_data]   Package wordnet is already up-to-date!\n",
      "[nltk_data] Downloading package averaged_perceptron_tagger to\n",
      "[nltk_data]     /home/dormak/nltk_data...\n",
      "[nltk_data]   Package averaged_perceptron_tagger is already up-to-\n",
      "[nltk_data]       date!\n",
      "[nltk_data] Downloading package averaged_perceptron_tagger_eng to\n",
      "[nltk_data]     /home/dormak/nltk_data...\n",
      "[nltk_data]   Package averaged_perceptron_tagger_eng is already up-to-\n",
      "[nltk_data]       date!\n",
      "[nltk_data] Downloading package stopwords to /home/dormak/nltk_data...\n",
      "[nltk_data]   Package stopwords is already up-to-date!\n"
     ]
    }
   ],
   "source": [
    "import pandas as pd\n",
    "\n",
    "! pip install pymystem3 -q\n",
    "from pymystem3 import Mystem\n",
    "\n",
    "import re\n",
    "\n",
    "from nltk.stem import WordNetLemmatizer\n",
    "from nltk import word_tokenize, pos_tag\n",
    "import nltk\n",
    "from nltk.corpus import wordnet, stopwords\n",
    "nltk.download('punkt')\n",
    "nltk.download('punkt_tab') \n",
    "nltk.download('wordnet')\n",
    "nltk.download('averaged_perceptron_tagger')\n",
    "nltk.download('averaged_perceptron_tagger_eng')\n",
    "nltk.download('stopwords')\n",
    "\n",
    "import matplotlib.pyplot as plt\n",
    "\n",
    "import numpy as np\n",
    "\n",
    "from tqdm import tqdm\n",
    "\n",
    "from joblib import Parallel, delayed\n",
    "\n",
    "from sklearn.feature_extraction.text import TfidfVectorizer\n",
    "from sklearn.linear_model import LogisticRegression\n",
    "from sklearn.svm import LinearSVC\n",
    "from sklearn.model_selection import GridSearchCV, RandomizedSearchCV, train_test_split\n",
    "from sklearn.pipeline import Pipeline\n",
    "from sklearn.metrics import classification_report, confusion_matrix, ConfusionMatrixDisplay, f1_score\n",
    "\n",
    "from lightgbm import LGBMClassifier\n",
    "\n",
    "import warnings\n",
    "warnings.filterwarnings('ignore')"
   ]
  },
  {
   "cell_type": "markdown",
   "metadata": {},
   "source": [
    "## Подготовка данных к обучению"
   ]
  },
  {
   "cell_type": "markdown",
   "metadata": {},
   "source": [
    "### Загрузка и предпросмотр"
   ]
  },
  {
   "cell_type": "markdown",
   "metadata": {
    "scrolled": true
   },
   "source": [
    "Загрузим предоставленную таблицу с локального источника или онлайн:"
   ]
  },
  {
   "cell_type": "code",
   "execution_count": 2,
   "metadata": {},
   "outputs": [],
   "source": [
    "try:\n",
    "    df = pd.read_csv('toxic_comments.csv', index_col=0)\n",
    "except:\n",
    "    df = pd.read_csv('datasets/toxic_comments.csv', index_col=0)"
   ]
  },
  {
   "cell_type": "code",
   "execution_count": 3,
   "metadata": {
    "scrolled": true
   },
   "outputs": [
    {
     "data": {
      "text/html": [
       "<div>\n",
       "<style scoped>\n",
       "    .dataframe tbody tr th:only-of-type {\n",
       "        vertical-align: middle;\n",
       "    }\n",
       "\n",
       "    .dataframe tbody tr th {\n",
       "        vertical-align: top;\n",
       "    }\n",
       "\n",
       "    .dataframe thead th {\n",
       "        text-align: right;\n",
       "    }\n",
       "</style>\n",
       "<table border=\"1\" class=\"dataframe\">\n",
       "  <thead>\n",
       "    <tr style=\"text-align: right;\">\n",
       "      <th></th>\n",
       "      <th>text</th>\n",
       "      <th>toxic</th>\n",
       "    </tr>\n",
       "  </thead>\n",
       "  <tbody>\n",
       "    <tr>\n",
       "      <th>0</th>\n",
       "      <td>Explanation\\nWhy the edits made under my usern...</td>\n",
       "      <td>0</td>\n",
       "    </tr>\n",
       "    <tr>\n",
       "      <th>1</th>\n",
       "      <td>D'aww! He matches this background colour I'm s...</td>\n",
       "      <td>0</td>\n",
       "    </tr>\n",
       "    <tr>\n",
       "      <th>2</th>\n",
       "      <td>Hey man, I'm really not trying to edit war. It...</td>\n",
       "      <td>0</td>\n",
       "    </tr>\n",
       "    <tr>\n",
       "      <th>3</th>\n",
       "      <td>\"\\nMore\\nI can't make any real suggestions on ...</td>\n",
       "      <td>0</td>\n",
       "    </tr>\n",
       "    <tr>\n",
       "      <th>4</th>\n",
       "      <td>You, sir, are my hero. Any chance you remember...</td>\n",
       "      <td>0</td>\n",
       "    </tr>\n",
       "  </tbody>\n",
       "</table>\n",
       "</div>"
      ],
      "text/plain": [
       "                                                text  toxic\n",
       "0  Explanation\\nWhy the edits made under my usern...      0\n",
       "1  D'aww! He matches this background colour I'm s...      0\n",
       "2  Hey man, I'm really not trying to edit war. It...      0\n",
       "3  \"\\nMore\\nI can't make any real suggestions on ...      0\n",
       "4  You, sir, are my hero. Any chance you remember...      0"
      ]
     },
     "execution_count": 3,
     "metadata": {},
     "output_type": "execute_result"
    }
   ],
   "source": [
    "df.head()"
   ]
  },
  {
   "cell_type": "code",
   "execution_count": 4,
   "metadata": {
    "scrolled": true
   },
   "outputs": [
    {
     "name": "stdout",
     "output_type": "stream",
     "text": [
      "<class 'pandas.core.frame.DataFrame'>\n",
      "Index: 159292 entries, 0 to 159450\n",
      "Data columns (total 2 columns):\n",
      " #   Column  Non-Null Count   Dtype \n",
      "---  ------  --------------   ----- \n",
      " 0   text    159292 non-null  object\n",
      " 1   toxic   159292 non-null  int64 \n",
      "dtypes: int64(1), object(1)\n",
      "memory usage: 3.6+ MB\n"
     ]
    }
   ],
   "source": [
    "df.info()"
   ]
  },
  {
   "cell_type": "markdown",
   "metadata": {},
   "source": [
    "Таблица содержит 159292 размеченных по тональности комментариев. Нулевых строк не наблюдаем."
   ]
  },
  {
   "cell_type": "code",
   "execution_count": 5,
   "metadata": {},
   "outputs": [],
   "source": [
    "df['length'] = df['text'].apply(len)"
   ]
  },
  {
   "cell_type": "code",
   "execution_count": 6,
   "metadata": {},
   "outputs": [
    {
     "data": {
      "text/plain": [
       "count    159292.000000\n",
       "mean        393.691303\n",
       "std         590.111825\n",
       "min           5.000000\n",
       "25%          95.000000\n",
       "50%         205.000000\n",
       "75%         435.000000\n",
       "max        5000.000000\n",
       "Name: length, dtype: float64"
      ]
     },
     "execution_count": 6,
     "metadata": {},
     "output_type": "execute_result"
    }
   ],
   "source": [
    "df['length'].describe()"
   ]
  },
  {
   "cell_type": "code",
   "execution_count": 7,
   "metadata": {
    "scrolled": true
   },
   "outputs": [
    {
     "data": {
      "image/png": "[encoded data removed]",
      "text/plain": [
       "<Figure size 640x480 with 1 Axes>"
      ]
     },
     "metadata": {},
     "output_type": "display_data"
    }
   ],
   "source": [
    "df['length'].hist(bins=30, edgecolor='black', grid=True)\n",
    "plt.xlabel('Длина текста, символов')\n",
    "plt.ylabel('Количество наблюдений')\n",
    "plt.title('Гистограмма распределения длины текстов комментариев')\n",
    "plt.show()"
   ]
  },
  {
   "cell_type": "markdown",
   "metadata": {},
   "source": [
    "Все наши комментарии не меньше 5 символов, встречаются и огромные тексты в 5000. В среднем тексты не превышают 400 символов."
   ]
  },
  {
   "cell_type": "code",
   "execution_count": 8,
   "metadata": {},
   "outputs": [
    {
     "data": {
      "text/plain": [
       "toxic\n",
       "0    143106\n",
       "1     16186\n",
       "Name: count, dtype: int64"
      ]
     },
     "execution_count": 8,
     "metadata": {},
     "output_type": "execute_result"
    }
   ],
   "source": [
    "df['toxic'].value_counts()"
   ]
  },
  {
   "cell_type": "markdown",
   "metadata": {},
   "source": [
    "Большинство комментариев в таблице имеют положительную оценку. Поэтому таргет несбалансированный, стоит это учесть про формировании тренировочной и тестовой выборок и настройки модели."
   ]
  },
  {
   "cell_type": "markdown",
   "metadata": {},
   "source": [
    "**Вывод:** из исходных данных получили 159292 размеченных комментариев. Датасет не содержит поврежденных или нулевых данных. Наблюдаем значительный дисбаланс в данных."
   ]
  },
  {
   "cell_type": "markdown",
   "metadata": {},
   "source": [
    "### Подготовка текста"
   ]
  },
  {
   "cell_type": "markdown",
   "metadata": {},
   "source": [
    "Проведем очиcтку и лемматизацию текста: воспользуемся библиотекой `pymystem3`."
   ]
  },
  {
   "cell_type": "code",
   "execution_count": 9,
   "metadata": {},
   "outputs": [],
   "source": [
    "m = Mystem()"
   ]
  },
  {
   "cell_type": "markdown",
   "metadata": {},
   "source": [
    "Лемматизируем, очистим от ненужных символов и приведем в нижний регистр:"
   ]
  },
  {
   "cell_type": "code",
   "execution_count": 10,
   "metadata": {},
   "outputs": [],
   "source": [
    "def prepare_text(text):\n",
    "    \n",
    "    lemm_list = m.lemmatize(text)\n",
    "    lemm_text = ''.join(lemm_list)\n",
    "    cleared_text = re.sub(r'[^a-zA-Z]', ' ', lemm_text).lower().split()\n",
    "    \n",
    "    return \" \".join(cleared_text)"
   ]
  },
  {
   "cell_type": "code",
   "execution_count": 11,
   "metadata": {
    "scrolled": true
   },
   "outputs": [
    {
     "name": "stdout",
     "output_type": "stream",
     "text": [
      "CPU times: user 106 ms, sys: 19.6 ms, total: 126 ms\n",
      "Wall time: 734 ms\n"
     ]
    }
   ],
   "source": [
    "%%time\n",
    "df['mystem'] = df['text'].head(1000).apply(prepare_text)"
   ]
  },
  {
   "cell_type": "markdown",
   "metadata": {},
   "source": [
    "Данная библиотека хорошо лемматизирует русские тексты, посмотрим на результат обработки тектса на английском языке:"
   ]
  },
  {
   "cell_type": "code",
   "execution_count": 12,
   "metadata": {},
   "outputs": [
    {
     "data": {
      "text/plain": [
       "'oh and the girl above started her arguments with me she stuck her nose where it doesn t belong i believe the argument was between me and yvesnimmo but like i said the situation was settled and i apologized thanks'"
      ]
     },
     "execution_count": 12,
     "metadata": {},
     "output_type": "execute_result"
    }
   ],
   "source": [
    "df['mystem'][14]"
   ]
  },
  {
   "cell_type": "code",
   "execution_count": 13,
   "metadata": {},
   "outputs": [
    {
     "data": {
      "text/plain": [
       "\"Oh, and the girl above started her arguments with me. She stuck her nose where it doesn't belong. I believe the argument was between me and Yvesnimmo. But like I said, the situation was settled and I apologized. Thanks,\""
      ]
     },
     "execution_count": 13,
     "metadata": {},
     "output_type": "execute_result"
    }
   ],
   "source": [
    "df['text'][14]"
   ]
  },
  {
   "cell_type": "markdown",
   "metadata": {},
   "source": [
    "Данные тексты никак не отличаются по форме слов. Используем для лемматизации другую библиотеку:"
   ]
  },
  {
   "cell_type": "code",
   "execution_count": 14,
   "metadata": {},
   "outputs": [],
   "source": [
    "\n",
    "\n",
    "def get_wordnet_pos(tag):\n",
    "    \n",
    "    if tag.startswith('J'):\n",
    "        return wordnet.ADJ\n",
    "    elif tag.startswith('V'):\n",
    "        return wordnet.VERB\n",
    "    elif tag.startswith('N'):\n",
    "        return wordnet.NOUN\n",
    "    elif tag.startswith('R'):\n",
    "        return wordnet.ADV\n",
    "    else:\n",
    "        return wordnet.NOUN  \n",
    "\n",
    "def lemmatize_nltk(text):\n",
    "\n",
    "    text = re.sub(r'[^a-zA-Z]', ' ', text).lower()\n",
    "    tokens = word_tokenize(text)\n",
    "    pos_tags = pos_tag(tokens)\n",
    "\n",
    "    lemmatizer = WordNetLemmatizer()\n",
    "\n",
    "    lemmas = [\n",
    "        lemmatizer.lemmatize(word, get_wordnet_pos(tag))\n",
    "        for word, tag in pos_tags\n",
    "    ]\n",
    "    return ' '.join(lemmas)"
   ]
  },
  {
   "cell_type": "code",
   "execution_count": 15,
   "metadata": {},
   "outputs": [
    {
     "name": "stdout",
     "output_type": "stream",
     "text": [
      "CPU times: user 3.59 s, sys: 66.9 ms, total: 3.65 s\n",
      "Wall time: 3.66 s\n"
     ]
    }
   ],
   "source": [
    "%%time\n",
    "df['nltk'] = df['text'].head(1000).apply(lemmatize_nltk)"
   ]
  },
  {
   "cell_type": "code",
   "execution_count": 16,
   "metadata": {
    "scrolled": true
   },
   "outputs": [
    {
     "data": {
      "text/plain": [
       "'oh and the girl above start her argument with me she stick her nose where it doesn t belong i believe the argument be between me and yvesnimmo but like i say the situation be settle and i apologize thanks'"
      ]
     },
     "execution_count": 16,
     "metadata": {},
     "output_type": "execute_result"
    }
   ],
   "source": [
    "df['nltk'][14]"
   ]
  },
  {
   "cell_type": "code",
   "execution_count": 17,
   "metadata": {
    "scrolled": true
   },
   "outputs": [
    {
     "data": {
      "text/plain": [
       "'oh and the girl above started her arguments with me she stuck her nose where it doesn t belong i believe the argument was between me and yvesnimmo but like i said the situation was settled and i apologized thanks'"
      ]
     },
     "execution_count": 17,
     "metadata": {},
     "output_type": "execute_result"
    }
   ],
   "source": [
    "df['mystem'][14]"
   ]
  },
  {
   "cell_type": "markdown",
   "metadata": {},
   "source": [
    "Разница видна сразу, будем использовать библиотеку `nltk`. Остается проблема, что при использовании данной библиотеки процесс в 5 раз будет проходить медленнее. Используем библиотеку `joblib` для ускорения выполнения функции:"
   ]
  },
  {
   "cell_type": "code",
   "execution_count": 18,
   "metadata": {},
   "outputs": [
    {
     "name": "stderr",
     "output_type": "stream",
     "text": [
      "100%|██████████████████████████████████████| 1000/1000 [00:02<00:00, 423.35it/s]"
     ]
    },
    {
     "name": "stdout",
     "output_type": "stream",
     "text": [
      "CPU times: user 2.37 s, sys: 51.8 ms, total: 2.42 s\n",
      "Wall time: 2.41 s\n"
     ]
    },
    {
     "name": "stderr",
     "output_type": "stream",
     "text": [
      "\n"
     ]
    }
   ],
   "source": [
    "%%time\n",
    "texts = df['text'].head(1000)\n",
    "df.loc[:999, 'nltk_parallel'] = Parallel(n_jobs=-1, backend='threading')(delayed(lemmatize_nltk)(text) for text in tqdm(texts))"
   ]
  },
  {
   "cell_type": "markdown",
   "metadata": {},
   "source": [
    "Ускорили выполнение лемматизации. Лемматизируем исходный текст."
   ]
  },
  {
   "cell_type": "code",
   "execution_count": 19,
   "metadata": {},
   "outputs": [
    {
     "name": "stderr",
     "output_type": "stream",
     "text": [
      "100%|██████████████████████████████████| 159292/159292 [05:58<00:00, 444.86it/s]\n"
     ]
    }
   ],
   "source": [
    "texts = df['text']\n",
    "df['text_prepared'] = Parallel(n_jobs=-1, backend='threading')(delayed(lemmatize_nltk)(text) for text in tqdm(texts))"
   ]
  },
  {
   "cell_type": "markdown",
   "metadata": {},
   "source": [
    "Комментарии подготовили, теперь сформируем выборки: тренировочную, валидационную и тестовую:"
   ]
  },
  {
   "cell_type": "code",
   "execution_count": 20,
   "metadata": {},
   "outputs": [],
   "source": [
    "RANDOM_STATE = 13\n",
    "\n",
    "X_train, X_test, y_train, y_test = train_test_split(\n",
    "    df['text_prepared'],\n",
    "    df['toxic'],\n",
    "    test_size=0.2,\n",
    "    stratify=df['toxic'],\n",
    "    random_state=RANDOM_STATE\n",
    ")\n",
    "\n",
    "X_train, X_val, y_train, y_val = train_test_split(\n",
    "    X_train,\n",
    "    y_train,\n",
    "    test_size=0.25,\n",
    "    stratify=y_train,\n",
    "    random_state=RANDOM_STATE\n",
    ")"
   ]
  },
  {
   "cell_type": "markdown",
   "metadata": {},
   "source": [
    "Просто на тексте модель классификации обучить удастся не на каждой модели. Сформируем признаки на основе частоты употребления слов с помощью вычисления величины TF-IDF. Вычтем из словаря стоп-слова, которые не несут смысловой нагрузки, а также зададим набор из униграмм и биграмм."
   ]
  },
  {
   "cell_type": "code",
   "execution_count": 21,
   "metadata": {},
   "outputs": [],
   "source": [
    "stop_words = list(set(stopwords.words('english')))\n",
    "count_tf_idf = TfidfVectorizer(stop_words=stop_words, ngram_range=(1, 2))\n",
    "\n",
    "X_train_tfidf = count_tf_idf.fit_transform(X_train)\n",
    "X_val_tfidf = count_tf_idf.transform(X_val)\n",
    "X_test_tfidf = count_tf_idf.transform(X_test)"
   ]
  },
  {
   "cell_type": "markdown",
   "metadata": {},
   "source": [
    "## Обучение"
   ]
  },
  {
   "cell_type": "markdown",
   "metadata": {},
   "source": [
    "### Подбор гиперпараметров"
   ]
  },
  {
   "cell_type": "markdown",
   "metadata": {},
   "source": [
    "Обучим последовательно несколько моделей. Вначале сделаем подбор гиперпараметров, затем сравним лучшие модели между собой на валидационной выборке. Из этих моделей выберем самую лучшую и измерим ф-меру на тестовой выборке. Первой моделью будет LogisticRegression:"
   ]
  },
  {
   "cell_type": "code",
   "execution_count": 22,
   "metadata": {},
   "outputs": [
    {
     "data": {
      "text/plain": [
       "(95574, 1660876)"
      ]
     },
     "execution_count": 22,
     "metadata": {},
     "output_type": "execute_result"
    }
   ],
   "source": [
    "X_train_tfidf.shape"
   ]
  },
  {
   "cell_type": "code",
   "execution_count": 23,
   "metadata": {},
   "outputs": [
    {
     "name": "stdout",
     "output_type": "stream",
     "text": [
      "Fitting 3 folds for each of 10 candidates, totalling 30 fits\n",
      "Лучший результат f1-score: 0.7720730181927613\n"
     ]
    }
   ],
   "source": [
    "pipeline = Pipeline([\n",
    "    ('clf', LogisticRegression(class_weight='balanced', \n",
    "                               max_iter=500,\n",
    "                               tol=1e-3,\n",
    "                               random_state=RANDOM_STATE, \n",
    "                               solver='saga'))\n",
    "])\n",
    "\n",
    "param_grid = {\n",
    "\n",
    "    'clf__C': np.linspace(5, 15, 11),\n",
    "    'clf__penalty': ['l1', 'l2']\n",
    "}\n",
    "\n",
    "logreg = RandomizedSearchCV(pipeline, \n",
    "                            param_distributions=param_grid, \n",
    "                            cv=3, \n",
    "                            scoring='f1', \n",
    "                            n_jobs=-1,\n",
    "                            n_iter=10,\n",
    "                            random_state=RANDOM_STATE,\n",
    "                            verbose=1\n",
    "                           )\n",
    "logreg.fit(X_train_tfidf, y_train)\n",
    "print('Лучший результат f1-score:', logreg.best_score_)"
   ]
  },
  {
   "cell_type": "code",
   "execution_count": 24,
   "metadata": {},
   "outputs": [],
   "source": [
    "pd.set_option('display.max_colwidth', None)"
   ]
  },
  {
   "cell_type": "code",
   "execution_count": 25,
   "metadata": {},
   "outputs": [
    {
     "data": {
      "text/html": [
       "<div>\n",
       "<style scoped>\n",
       "    .dataframe tbody tr th:only-of-type {\n",
       "        vertical-align: middle;\n",
       "    }\n",
       "\n",
       "    .dataframe tbody tr th {\n",
       "        vertical-align: top;\n",
       "    }\n",
       "\n",
       "    .dataframe thead th {\n",
       "        text-align: right;\n",
       "    }\n",
       "</style>\n",
       "<table border=\"1\" class=\"dataframe\">\n",
       "  <thead>\n",
       "    <tr style=\"text-align: right;\">\n",
       "      <th></th>\n",
       "      <th>rank_test_score</th>\n",
       "      <th>mean_test_score</th>\n",
       "      <th>params</th>\n",
       "      <th>mean_fit_time</th>\n",
       "    </tr>\n",
       "  </thead>\n",
       "  <tbody>\n",
       "    <tr>\n",
       "      <th>1</th>\n",
       "      <td>1</td>\n",
       "      <td>0.772073</td>\n",
       "      <td>{'clf__penalty': 'l1', 'clf__C': 12.0}</td>\n",
       "      <td>1278.883896</td>\n",
       "    </tr>\n",
       "    <tr>\n",
       "      <th>4</th>\n",
       "      <td>2</td>\n",
       "      <td>0.771764</td>\n",
       "      <td>{'clf__penalty': 'l1', 'clf__C': 9.0}</td>\n",
       "      <td>1117.885496</td>\n",
       "    </tr>\n",
       "    <tr>\n",
       "      <th>2</th>\n",
       "      <td>3</td>\n",
       "      <td>0.768294</td>\n",
       "      <td>{'clf__penalty': 'l1', 'clf__C': 5.0}</td>\n",
       "      <td>1421.971672</td>\n",
       "    </tr>\n",
       "    <tr>\n",
       "      <th>5</th>\n",
       "      <td>4</td>\n",
       "      <td>0.767765</td>\n",
       "      <td>{'clf__penalty': 'l2', 'clf__C': 7.0}</td>\n",
       "      <td>107.817845</td>\n",
       "    </tr>\n",
       "    <tr>\n",
       "      <th>6</th>\n",
       "      <td>5</td>\n",
       "      <td>0.767257</td>\n",
       "      <td>{'clf__penalty': 'l2', 'clf__C': 8.0}</td>\n",
       "      <td>113.517129</td>\n",
       "    </tr>\n",
       "  </tbody>\n",
       "</table>\n",
       "</div>"
      ],
      "text/plain": [
       "   rank_test_score  mean_test_score                                  params  \\\n",
       "1                1         0.772073  {'clf__penalty': 'l1', 'clf__C': 12.0}   \n",
       "4                2         0.771764   {'clf__penalty': 'l1', 'clf__C': 9.0}   \n",
       "2                3         0.768294   {'clf__penalty': 'l1', 'clf__C': 5.0}   \n",
       "5                4         0.767765   {'clf__penalty': 'l2', 'clf__C': 7.0}   \n",
       "6                5         0.767257   {'clf__penalty': 'l2', 'clf__C': 8.0}   \n",
       "\n",
       "   mean_fit_time  \n",
       "1    1278.883896  \n",
       "4    1117.885496  \n",
       "2    1421.971672  \n",
       "5     107.817845  \n",
       "6     113.517129  "
      ]
     },
     "execution_count": 25,
     "metadata": {},
     "output_type": "execute_result"
    }
   ],
   "source": [
    "result = pd.DataFrame(logreg.cv_results_).sort_values('rank_test_score')\n",
    "result[['rank_test_score', 'mean_test_score', 'params', 'mean_fit_time']].head(5)"
   ]
  },
  {
   "cell_type": "markdown",
   "metadata": {},
   "source": [
    "Лучшая модель из логрега уже удовлетворяет требованиям на этапе обучения."
   ]
  },
  {
   "cell_type": "markdown",
   "metadata": {},
   "source": [
    "Следующая модель это SVC:"
   ]
  },
  {
   "cell_type": "code",
   "execution_count": 26,
   "metadata": {},
   "outputs": [
    {
     "name": "stdout",
     "output_type": "stream",
     "text": [
      "Лучший результат f1-score: 0.7683270354616067\n"
     ]
    }
   ],
   "source": [
    "pipeline = Pipeline([\n",
    "    ('clf', LinearSVC(class_weight='balanced', max_iter=2000))\n",
    "])\n",
    "\n",
    "param_grid = {\n",
    "\n",
    "    'clf__C': np.linspace(0.1, 1, 10),\n",
    "\n",
    "}\n",
    "\n",
    "svc = GridSearchCV(pipeline, \n",
    "                            param_grid, \n",
    "                            cv=5, \n",
    "                            scoring='f1', \n",
    "                            n_jobs=-1, \n",
    "                           )\n",
    "\n",
    "svc.fit(X_train_tfidf, y_train)\n",
    "print('Лучший результат f1-score:', svc.best_score_)"
   ]
  },
  {
   "cell_type": "code",
   "execution_count": 27,
   "metadata": {},
   "outputs": [
    {
     "data": {
      "text/html": [
       "<div>\n",
       "<style scoped>\n",
       "    .dataframe tbody tr th:only-of-type {\n",
       "        vertical-align: middle;\n",
       "    }\n",
       "\n",
       "    .dataframe tbody tr th {\n",
       "        vertical-align: top;\n",
       "    }\n",
       "\n",
       "    .dataframe thead th {\n",
       "        text-align: right;\n",
       "    }\n",
       "</style>\n",
       "<table border=\"1\" class=\"dataframe\">\n",
       "  <thead>\n",
       "    <tr style=\"text-align: right;\">\n",
       "      <th></th>\n",
       "      <th>rank_test_score</th>\n",
       "      <th>mean_test_score</th>\n",
       "      <th>params</th>\n",
       "      <th>mean_fit_time</th>\n",
       "    </tr>\n",
       "  </thead>\n",
       "  <tbody>\n",
       "    <tr>\n",
       "      <th>4</th>\n",
       "      <td>1</td>\n",
       "      <td>0.768327</td>\n",
       "      <td>{'clf__C': 0.5}</td>\n",
       "      <td>4.363703</td>\n",
       "    </tr>\n",
       "    <tr>\n",
       "      <th>3</th>\n",
       "      <td>2</td>\n",
       "      <td>0.768119</td>\n",
       "      <td>{'clf__C': 0.4}</td>\n",
       "      <td>3.924767</td>\n",
       "    </tr>\n",
       "    <tr>\n",
       "      <th>5</th>\n",
       "      <td>3</td>\n",
       "      <td>0.768027</td>\n",
       "      <td>{'clf__C': 0.6}</td>\n",
       "      <td>4.911219</td>\n",
       "    </tr>\n",
       "    <tr>\n",
       "      <th>2</th>\n",
       "      <td>4</td>\n",
       "      <td>0.767467</td>\n",
       "      <td>{'clf__C': 0.30000000000000004}</td>\n",
       "      <td>3.309274</td>\n",
       "    </tr>\n",
       "    <tr>\n",
       "      <th>6</th>\n",
       "      <td>5</td>\n",
       "      <td>0.767384</td>\n",
       "      <td>{'clf__C': 0.7000000000000001}</td>\n",
       "      <td>5.405885</td>\n",
       "    </tr>\n",
       "  </tbody>\n",
       "</table>\n",
       "</div>"
      ],
      "text/plain": [
       "   rank_test_score  mean_test_score                           params  \\\n",
       "4                1         0.768327                  {'clf__C': 0.5}   \n",
       "3                2         0.768119                  {'clf__C': 0.4}   \n",
       "5                3         0.768027                  {'clf__C': 0.6}   \n",
       "2                4         0.767467  {'clf__C': 0.30000000000000004}   \n",
       "6                5         0.767384   {'clf__C': 0.7000000000000001}   \n",
       "\n",
       "   mean_fit_time  \n",
       "4       4.363703  \n",
       "3       3.924767  \n",
       "5       4.911219  \n",
       "2       3.309274  \n",
       "6       5.405885  "
      ]
     },
     "execution_count": 27,
     "metadata": {},
     "output_type": "execute_result"
    }
   ],
   "source": [
    "result = pd.DataFrame(svc.cv_results_).sort_values('rank_test_score')\n",
    "result[['rank_test_score', 'mean_test_score', 'params', 'mean_fit_time']].head(5)"
   ]
  },
  {
   "cell_type": "markdown",
   "metadata": {},
   "source": [
    "SVC показывает немногим меньший результат, но имеет огромное преимущество в скорости обучения."
   ]
  },
  {
   "cell_type": "markdown",
   "metadata": {},
   "source": [
    "И последней станет ансамблиевая модель - LGBMClassifier:"
   ]
  },
  {
   "cell_type": "code",
   "execution_count": 28,
   "metadata": {},
   "outputs": [
    {
     "name": "stdout",
     "output_type": "stream",
     "text": [
      "Лучший результат f1-score: 0.7378073878076229\n"
     ]
    }
   ],
   "source": [
    "pipeline = Pipeline([\n",
    "    ('lgbm', LGBMClassifier(class_weight='balanced', random_state=RANDOM_STATE, verbose=-1))\n",
    "])\n",
    "\n",
    "param_grid = {\n",
    "\n",
    "    'lgbm__n_estimators': [50, 70, 100],\n",
    "    'lgbm__learning_rate': [0.1, 0.25, 0.5],\n",
    "    'lgbm__num_leaves': [20, 30, 40],\n",
    "    'lgbm__max_depth': [5, 10, 20],\n",
    "    'lgbm__reg_lambda': [0.1, 0.5, 1]\n",
    "}\n",
    "\n",
    "lgbm = RandomizedSearchCV(\n",
    "    pipeline,\n",
    "    param_distributions=param_grid,\n",
    "    scoring='f1',\n",
    "    cv=5,\n",
    "    n_jobs=-1,\n",
    "    random_state=RANDOM_STATE\n",
    ")\n",
    "\n",
    "lgbm.fit(X_train_tfidf, y_train)\n",
    "print('Лучший результат f1-score:', lgbm.best_score_)"
   ]
  },
  {
   "cell_type": "code",
   "execution_count": 29,
   "metadata": {},
   "outputs": [
    {
     "data": {
      "text/html": [
       "<div>\n",
       "<style scoped>\n",
       "    .dataframe tbody tr th:only-of-type {\n",
       "        vertical-align: middle;\n",
       "    }\n",
       "\n",
       "    .dataframe tbody tr th {\n",
       "        vertical-align: top;\n",
       "    }\n",
       "\n",
       "    .dataframe thead th {\n",
       "        text-align: right;\n",
       "    }\n",
       "</style>\n",
       "<table border=\"1\" class=\"dataframe\">\n",
       "  <thead>\n",
       "    <tr style=\"text-align: right;\">\n",
       "      <th></th>\n",
       "      <th>rank_test_score</th>\n",
       "      <th>mean_test_score</th>\n",
       "      <th>params</th>\n",
       "      <th>mean_fit_time</th>\n",
       "    </tr>\n",
       "  </thead>\n",
       "  <tbody>\n",
       "    <tr>\n",
       "      <th>7</th>\n",
       "      <td>1</td>\n",
       "      <td>0.737807</td>\n",
       "      <td>{'lgbm__reg_lambda': 0.1, 'lgbm__num_leaves': 30, 'lgbm__n_estimators': 70, 'lgbm__max_depth': 20, 'lgbm__learning_rate': 0.5}</td>\n",
       "      <td>127.464701</td>\n",
       "    </tr>\n",
       "    <tr>\n",
       "      <th>8</th>\n",
       "      <td>2</td>\n",
       "      <td>0.731433</td>\n",
       "      <td>{'lgbm__reg_lambda': 1, 'lgbm__num_leaves': 40, 'lgbm__n_estimators': 50, 'lgbm__max_depth': 20, 'lgbm__learning_rate': 0.5}</td>\n",
       "      <td>124.190662</td>\n",
       "    </tr>\n",
       "    <tr>\n",
       "      <th>0</th>\n",
       "      <td>3</td>\n",
       "      <td>0.728802</td>\n",
       "      <td>{'lgbm__reg_lambda': 0.5, 'lgbm__num_leaves': 20, 'lgbm__n_estimators': 70, 'lgbm__max_depth': 20, 'lgbm__learning_rate': 0.25}</td>\n",
       "      <td>141.789386</td>\n",
       "    </tr>\n",
       "    <tr>\n",
       "      <th>9</th>\n",
       "      <td>4</td>\n",
       "      <td>0.723465</td>\n",
       "      <td>{'lgbm__reg_lambda': 1, 'lgbm__num_leaves': 40, 'lgbm__n_estimators': 100, 'lgbm__max_depth': 5, 'lgbm__learning_rate': 0.25}</td>\n",
       "      <td>81.454617</td>\n",
       "    </tr>\n",
       "    <tr>\n",
       "      <th>5</th>\n",
       "      <td>5</td>\n",
       "      <td>0.721573</td>\n",
       "      <td>{'lgbm__reg_lambda': 0.1, 'lgbm__num_leaves': 40, 'lgbm__n_estimators': 50, 'lgbm__max_depth': 10, 'lgbm__learning_rate': 0.25}</td>\n",
       "      <td>116.008534</td>\n",
       "    </tr>\n",
       "  </tbody>\n",
       "</table>\n",
       "</div>"
      ],
      "text/plain": [
       "   rank_test_score  mean_test_score  \\\n",
       "7                1         0.737807   \n",
       "8                2         0.731433   \n",
       "0                3         0.728802   \n",
       "9                4         0.723465   \n",
       "5                5         0.721573   \n",
       "\n",
       "                                                                                                                            params  \\\n",
       "7   {'lgbm__reg_lambda': 0.1, 'lgbm__num_leaves': 30, 'lgbm__n_estimators': 70, 'lgbm__max_depth': 20, 'lgbm__learning_rate': 0.5}   \n",
       "8     {'lgbm__reg_lambda': 1, 'lgbm__num_leaves': 40, 'lgbm__n_estimators': 50, 'lgbm__max_depth': 20, 'lgbm__learning_rate': 0.5}   \n",
       "0  {'lgbm__reg_lambda': 0.5, 'lgbm__num_leaves': 20, 'lgbm__n_estimators': 70, 'lgbm__max_depth': 20, 'lgbm__learning_rate': 0.25}   \n",
       "9    {'lgbm__reg_lambda': 1, 'lgbm__num_leaves': 40, 'lgbm__n_estimators': 100, 'lgbm__max_depth': 5, 'lgbm__learning_rate': 0.25}   \n",
       "5  {'lgbm__reg_lambda': 0.1, 'lgbm__num_leaves': 40, 'lgbm__n_estimators': 50, 'lgbm__max_depth': 10, 'lgbm__learning_rate': 0.25}   \n",
       "\n",
       "   mean_fit_time  \n",
       "7     127.464701  \n",
       "8     124.190662  \n",
       "0     141.789386  \n",
       "9      81.454617  \n",
       "5     116.008534  "
      ]
     },
     "execution_count": 29,
     "metadata": {},
     "output_type": "execute_result"
    }
   ],
   "source": [
    "result = pd.DataFrame(lgbm.cv_results_).sort_values('rank_test_score')\n",
    "result[['rank_test_score', 'mean_test_score', 'params', 'mean_fit_time']].head(5)"
   ]
  },
  {
   "cell_type": "markdown",
   "metadata": {},
   "source": [
    "Всех хуже на тренировочных данных себя проявила эта модель, которая даже не соответствует пороговому значению метрики."
   ]
  },
  {
   "cell_type": "markdown",
   "metadata": {},
   "source": [
    "Лидерами стал логрег(0.77) и метод опорных векторов(0.77), немного уступает градиентный бустинг(0.74)."
   ]
  },
  {
   "cell_type": "markdown",
   "metadata": {},
   "source": [
    "### Выбор модели"
   ]
  },
  {
   "cell_type": "markdown",
   "metadata": {},
   "source": [
    "Протестируем выбранные модели на валидационной выборке. Сравним по выбранным метрикам ф-меры обучающей и валидационной выборок, также рассморим метрику `recall`, т.к. в задаче классификации тональности текста важным моментом является не допустить принятие негативно окрашенных комментариев за положительные, т.е. максимизировать метрику `recall`."
   ]
  },
  {
   "cell_type": "code",
   "execution_count": 30,
   "metadata": {
    "scrolled": true
   },
   "outputs": [
    {
     "data": {
      "text/html": [
       "<div>\n",
       "<style scoped>\n",
       "    .dataframe tbody tr th:only-of-type {\n",
       "        vertical-align: middle;\n",
       "    }\n",
       "\n",
       "    .dataframe tbody tr th {\n",
       "        vertical-align: top;\n",
       "    }\n",
       "\n",
       "    .dataframe thead th {\n",
       "        text-align: right;\n",
       "    }\n",
       "</style>\n",
       "<table border=\"1\" class=\"dataframe\">\n",
       "  <thead>\n",
       "    <tr style=\"text-align: right;\">\n",
       "      <th></th>\n",
       "      <th>f1_score_validation</th>\n",
       "      <th>f1_score_train</th>\n",
       "      <th>f1_score_difference</th>\n",
       "      <th>recall</th>\n",
       "      <th>train_time</th>\n",
       "    </tr>\n",
       "  </thead>\n",
       "  <tbody>\n",
       "    <tr>\n",
       "      <th>LogisticRegression</th>\n",
       "      <td>0.768294</td>\n",
       "      <td>0.772073</td>\n",
       "      <td>-0.003779</td>\n",
       "      <td>0.818968</td>\n",
       "      <td>1278.883896</td>\n",
       "    </tr>\n",
       "    <tr>\n",
       "      <th>LinearSVC</th>\n",
       "      <td>0.784515</td>\n",
       "      <td>0.768327</td>\n",
       "      <td>0.016188</td>\n",
       "      <td>0.801359</td>\n",
       "      <td>4.363703</td>\n",
       "    </tr>\n",
       "    <tr>\n",
       "      <th>LGBMClassifier</th>\n",
       "      <td>0.740466</td>\n",
       "      <td>0.737807</td>\n",
       "      <td>0.002659</td>\n",
       "      <td>0.833797</td>\n",
       "      <td>127.464701</td>\n",
       "    </tr>\n",
       "  </tbody>\n",
       "</table>\n",
       "</div>"
      ],
      "text/plain": [
       "                    f1_score_validation  f1_score_train  f1_score_difference  \\\n",
       "LogisticRegression             0.768294        0.772073            -0.003779   \n",
       "LinearSVC                      0.784515        0.768327             0.016188   \n",
       "LGBMClassifier                 0.740466        0.737807             0.002659   \n",
       "\n",
       "                      recall   train_time  \n",
       "LogisticRegression  0.818968  1278.883896  \n",
       "LinearSVC           0.801359     4.363703  \n",
       "LGBMClassifier      0.833797   127.464701  "
      ]
     },
     "execution_count": 30,
     "metadata": {},
     "output_type": "execute_result"
    }
   ],
   "source": [
    "models = {'LogisticRegression': logreg,\n",
    "          'LinearSVC': svc, \n",
    "          'LGBMClassifier': lgbm\n",
    "         }\n",
    "\n",
    "results = {}\n",
    "\n",
    "for name, model in models.items():\n",
    "\n",
    "    predictions = model.predict(X_val_tfidf)\n",
    "\n",
    "    report = classification_report(y_val, predictions, digits=4, output_dict=True)\n",
    "\n",
    "    \n",
    "    results[name] = {\n",
    "        'f1_score_validation': report['1']['f1-score'],\n",
    "        'f1_score_train': model.cv_results_['mean_test_score'][model.best_index_],\n",
    "        'f1_score_difference': report['1']['f1-score'] - model.cv_results_['mean_test_score'][model.best_index_],\n",
    "        'recall': report['1']['recall'],\n",
    "        'train_time': model.cv_results_['mean_fit_time'][model.best_index_]   \n",
    "    }\n",
    "    \n",
    "df_results = pd.DataFrame(results).T\n",
    "df_results"
   ]
  },
  {
   "cell_type": "markdown",
   "metadata": {},
   "source": [
    "Логрег и метод опорных векторов имеют почти одинаковый показатель метрики *f1-score* как на обучении, так и на валидации, причем на валидации результат немного выше. Уступает этим моделям ансамбль деревьев, немного не дотягивая до порогового значения метрики. Однако немного лучше идентифицирует сообщения с отрицательной тональностью.\n",
    "\n",
    "Обе модели (LogisticRegression, LinearSVC) удовлетворяют требованиям, главное отличие заключается во времени обучения LinearSVC в 9 раз быстрее, что можно воспринять за преимущество, особенно, если обучать данные динамически во время использования сайта\\приложения. Поэтому финальной моделью посчитаем LinearSVC и протестируем на тестовой выборке."
   ]
  },
  {
   "cell_type": "code",
   "execution_count": 31,
   "metadata": {},
   "outputs": [
    {
     "name": "stdout",
     "output_type": "stream",
     "text": [
      "              precision    recall  f1-score   support\n",
      "\n",
      "           0      0.976     0.972     0.974     28622\n",
      "           1      0.762     0.785     0.773      3237\n",
      "\n",
      "    accuracy                          0.953     31859\n",
      "   macro avg      0.869     0.878     0.873     31859\n",
      "weighted avg      0.954     0.953     0.953     31859\n",
      "\n"
     ]
    }
   ],
   "source": [
    "prediction_test = svc.predict(X_test_tfidf) \n",
    "print(classification_report(y_test, prediction_test, digits=3))\n",
    "\n"
   ]
  },
  {
   "cell_type": "code",
   "execution_count": 32,
   "metadata": {},
   "outputs": [
    {
     "data": {
      "image/png": "[encoded data removed]",
      "text/plain": [
       "<Figure size 640x480 with 2 Axes>"
      ]
     },
     "metadata": {},
     "output_type": "display_data"
    }
   ],
   "source": [
    "cm = confusion_matrix(y_test, prediction_test)\n",
    "disp = ConfusionMatrixDisplay(confusion_matrix=cm)\n",
    "disp.plot(cmap=plt.cm.Blues)\n",
    "plt.title('Confusion Matrix на тестовой выборке')\n",
    "plt.show()"
   ]
  },
  {
   "cell_type": "markdown",
   "metadata": {},
   "source": [
    "На тестовых данных данных модель удовлетворяет метрики *f1-score*(0.77). Токсичные комментарии, определенные моделью, на 24%  состоят из ложноположительных, в тоже время около 21% токсичных модель не удается отследить верно."
   ]
  },
  {
   "cell_type": "markdown",
   "metadata": {},
   "source": [
    "## Выводы"
   ]
  },
  {
   "cell_type": "markdown",
   "metadata": {},
   "source": [
    "Данный проект был проведен для создания классификационной модели по определению тональности комментариев интернет магазина **Викишоп**. \n",
    "\n",
    "Перед тем как приступить к подбору классификационной модели была проведена подготовка текста:\n",
    "1. Очистка текста от ненужных символов.\n",
    "2. Проведена лемматизация текстов комментариев.\n",
    "3. Разбиение текста на токены - в одно и два слова.\n",
    "3. Векторизация текстов путем использования подсчета использования токенов в текстах.\n",
    "\n",
    "После этого из трех моделей: *LogisticRegression*, *LinearSVC* и *LGBMClassifier* была выбрана наиболее подходящая по метрике **f1-score** модель. Перед этим в каждой модели были подобраны комбинации гиперпараметров, позволяющих получить максимальное значение ф-меры. Так были получены следующие результаты:\n",
    "+ *LogisticRegression*: 0.77 на тренировочной и 0.78 на валидационной выборках;\n",
    "+ *LinearSVC*: 0.77 на тренировочной и 0.78 на валидационной выборках;\n",
    "+ *LGBMClassifier*: 0.74 на тренировочной и 0.74 на валидационной выборках.\n",
    "\n",
    "В итоге в качестве исполняющей модели была выбрана модель *LinearSVC*, которая имела практически одинаковый результат в метриках с *LogisticRegression*, однако превосходила по скорости обучения в 9 раз.\n",
    "\n",
    "В финальном тестировании выбранная модель, основанная на методе опорных векторов показала следуюшие результаты:\n",
    "+ **f1-score**:  0.773\n",
    "+ **recall**: 0.785\n",
    "+ **precision**: 0.761.\n",
    "\n",
    "Данные результаты показывают, что модель правильно находит 78,5% токсичных комментариев, однако сбалансированная ф-мера превышает пороговое значение, установленное заказчиком. "
   ]
  }
 ],
 "metadata": {
  "ExecuteTimeLog": [
   {
    "duration": 3129,
    "start_time": "2025-04-10T08:52:57.898Z"
   },
   {
    "duration": 3242,
    "start_time": "2025-04-10T08:53:09.683Z"
   },
   {
    "duration": 3,
    "start_time": "2025-04-10T08:53:17.793Z"
   },
   {
    "duration": 3,
    "start_time": "2025-04-10T08:53:55.131Z"
   },
   {
    "duration": 770,
    "start_time": "2025-04-10T08:54:41.858Z"
   },
   {
    "duration": 64,
    "start_time": "2025-04-10T08:54:58.247Z"
   },
   {
    "duration": 587,
    "start_time": "2025-04-10T08:55:04.800Z"
   },
   {
    "duration": 4,
    "start_time": "2025-04-10T08:55:21.886Z"
   },
   {
    "duration": 10,
    "start_time": "2025-04-10T08:55:39.127Z"
   },
   {
    "duration": 4,
    "start_time": "2025-04-10T08:55:43.668Z"
   },
   {
    "duration": 1638,
    "start_time": "2025-04-10T09:13:01.951Z"
   },
   {
    "duration": 5,
    "start_time": "2025-04-10T09:13:28.881Z"
   },
   {
    "duration": 4741,
    "start_time": "2025-04-10T09:15:12.404Z"
   },
   {
    "duration": 8,
    "start_time": "2025-04-10T09:16:25.018Z"
   },
   {
    "duration": 4,
    "start_time": "2025-04-10T09:16:47.700Z"
   },
   {
    "duration": 4,
    "start_time": "2025-04-10T09:16:52.296Z"
   },
   {
    "duration": 5,
    "start_time": "2025-04-10T09:17:05.094Z"
   },
   {
    "duration": 3,
    "start_time": "2025-04-10T09:17:18.095Z"
   },
   {
    "duration": 4,
    "start_time": "2025-04-10T09:17:22.750Z"
   },
   {
    "duration": 4,
    "start_time": "2025-04-10T09:17:50.266Z"
   },
   {
    "duration": 4,
    "start_time": "2025-04-10T09:17:53.394Z"
   },
   {
    "duration": 4,
    "start_time": "2025-04-10T09:18:01.626Z"
   },
   {
    "duration": 4,
    "start_time": "2025-04-10T09:18:05.278Z"
   },
   {
    "duration": 32083,
    "start_time": "2025-04-10T09:32:51.916Z"
   },
   {
    "duration": 5702,
    "start_time": "2025-04-10T09:34:08.246Z"
   },
   {
    "duration": 5,
    "start_time": "2025-04-10T09:35:32.728Z"
   },
   {
    "duration": 9,
    "start_time": "2025-04-10T09:37:17.835Z"
   },
   {
    "duration": 101,
    "start_time": "2025-04-10T09:47:44.388Z"
   },
   {
    "duration": 3804,
    "start_time": "2025-04-10T09:52:20.693Z"
   },
   {
    "duration": 3665,
    "start_time": "2025-04-10T09:54:06.362Z"
   },
   {
    "duration": 4,
    "start_time": "2025-04-10T09:55:39.538Z"
   },
   {
    "duration": 2708,
    "start_time": "2025-04-10T10:01:24.912Z"
   },
   {
    "duration": 532,
    "start_time": "2025-04-10T10:03:03.760Z"
   },
   {
    "duration": 463,
    "start_time": "2025-04-10T10:03:26.711Z"
   },
   {
    "duration": 8738,
    "start_time": "2025-04-10T10:03:42.024Z"
   },
   {
    "duration": 4,
    "start_time": "2025-04-10T10:04:14.516Z"
   },
   {
    "duration": 4,
    "start_time": "2025-04-10T10:04:53.208Z"
   },
   {
    "duration": 6654,
    "start_time": "2025-04-10T10:18:31.090Z"
   },
   {
    "duration": 3338,
    "start_time": "2025-04-10T10:18:54.759Z"
   },
   {
    "duration": 2871,
    "start_time": "2025-04-10T10:18:58.100Z"
   },
   {
    "duration": 3,
    "start_time": "2025-04-10T10:19:00.972Z"
   },
   {
    "duration": 145,
    "start_time": "2025-04-10T10:19:00.977Z"
   },
   {
    "duration": 1284,
    "start_time": "2025-04-10T10:19:01.124Z"
   },
   {
    "duration": 10,
    "start_time": "2025-04-10T10:19:02.410Z"
   },
   {
    "duration": 491,
    "start_time": "2025-04-10T10:19:02.422Z"
   },
   {
    "duration": 0,
    "start_time": "2025-04-10T10:19:02.916Z"
   },
   {
    "duration": 0,
    "start_time": "2025-04-10T10:19:02.918Z"
   },
   {
    "duration": 0,
    "start_time": "2025-04-10T10:19:02.919Z"
   },
   {
    "duration": 0,
    "start_time": "2025-04-10T10:19:02.921Z"
   },
   {
    "duration": 0,
    "start_time": "2025-04-10T10:19:02.922Z"
   },
   {
    "duration": 0,
    "start_time": "2025-04-10T10:19:02.924Z"
   },
   {
    "duration": 0,
    "start_time": "2025-04-10T10:19:02.925Z"
   },
   {
    "duration": 0,
    "start_time": "2025-04-10T10:19:02.927Z"
   },
   {
    "duration": 1,
    "start_time": "2025-04-10T10:19:02.928Z"
   },
   {
    "duration": 0,
    "start_time": "2025-04-10T10:19:02.930Z"
   },
   {
    "duration": 0,
    "start_time": "2025-04-10T10:19:02.931Z"
   },
   {
    "duration": 0,
    "start_time": "2025-04-10T10:19:02.932Z"
   },
   {
    "duration": 0,
    "start_time": "2025-04-10T10:19:02.934Z"
   },
   {
    "duration": 0,
    "start_time": "2025-04-10T10:19:02.935Z"
   },
   {
    "duration": 0,
    "start_time": "2025-04-10T10:19:02.937Z"
   },
   {
    "duration": 0,
    "start_time": "2025-04-10T10:19:02.938Z"
   },
   {
    "duration": 13,
    "start_time": "2025-04-10T10:19:44.883Z"
   },
   {
    "duration": 358,
    "start_time": "2025-04-10T10:19:51.269Z"
   },
   {
    "duration": 3241,
    "start_time": "2025-04-10T10:19:56.682Z"
   },
   {
    "duration": 2091,
    "start_time": "2025-04-10T10:19:59.926Z"
   },
   {
    "duration": 3,
    "start_time": "2025-04-10T10:20:02.018Z"
   },
   {
    "duration": 69,
    "start_time": "2025-04-10T10:20:02.023Z"
   },
   {
    "duration": 1232,
    "start_time": "2025-04-10T10:20:02.094Z"
   },
   {
    "duration": 10,
    "start_time": "2025-04-10T10:20:03.327Z"
   },
   {
    "duration": 480,
    "start_time": "2025-04-10T10:20:03.339Z"
   },
   {
    "duration": 0,
    "start_time": "2025-04-10T10:20:03.821Z"
   },
   {
    "duration": 0,
    "start_time": "2025-04-10T10:20:03.822Z"
   },
   {
    "duration": 0,
    "start_time": "2025-04-10T10:20:03.823Z"
   },
   {
    "duration": 0,
    "start_time": "2025-04-10T10:20:03.824Z"
   },
   {
    "duration": 0,
    "start_time": "2025-04-10T10:20:03.825Z"
   },
   {
    "duration": 0,
    "start_time": "2025-04-10T10:20:03.827Z"
   },
   {
    "duration": 0,
    "start_time": "2025-04-10T10:20:03.827Z"
   },
   {
    "duration": 0,
    "start_time": "2025-04-10T10:20:03.828Z"
   },
   {
    "duration": 0,
    "start_time": "2025-04-10T10:20:03.829Z"
   },
   {
    "duration": 0,
    "start_time": "2025-04-10T10:20:03.831Z"
   },
   {
    "duration": 0,
    "start_time": "2025-04-10T10:20:03.832Z"
   },
   {
    "duration": 0,
    "start_time": "2025-04-10T10:20:03.833Z"
   },
   {
    "duration": 0,
    "start_time": "2025-04-10T10:20:03.834Z"
   },
   {
    "duration": 0,
    "start_time": "2025-04-10T10:20:03.835Z"
   },
   {
    "duration": 0,
    "start_time": "2025-04-10T10:20:03.836Z"
   },
   {
    "duration": 0,
    "start_time": "2025-04-10T10:20:03.837Z"
   },
   {
    "duration": 12605,
    "start_time": "2025-04-10T10:21:47.378Z"
   },
   {
    "duration": 433,
    "start_time": "2025-04-10T10:22:12.667Z"
   },
   {
    "duration": 3323,
    "start_time": "2025-04-10T10:22:17.415Z"
   },
   {
    "duration": 2395,
    "start_time": "2025-04-10T10:22:20.741Z"
   },
   {
    "duration": 3,
    "start_time": "2025-04-10T10:22:23.138Z"
   },
   {
    "duration": 213,
    "start_time": "2025-04-10T10:22:23.143Z"
   },
   {
    "duration": 1342,
    "start_time": "2025-04-10T10:22:23.358Z"
   },
   {
    "duration": 11,
    "start_time": "2025-04-10T10:22:24.702Z"
   },
   {
    "duration": 11768,
    "start_time": "2025-04-10T10:22:24.715Z"
   },
   {
    "duration": 1544,
    "start_time": "2025-04-10T10:22:36.486Z"
   },
   {
    "duration": 0,
    "start_time": "2025-04-10T10:22:38.032Z"
   },
   {
    "duration": 0,
    "start_time": "2025-04-10T10:22:38.033Z"
   },
   {
    "duration": 0,
    "start_time": "2025-04-10T10:22:38.034Z"
   },
   {
    "duration": 0,
    "start_time": "2025-04-10T10:22:38.035Z"
   },
   {
    "duration": 0,
    "start_time": "2025-04-10T10:22:38.036Z"
   },
   {
    "duration": 0,
    "start_time": "2025-04-10T10:22:38.037Z"
   },
   {
    "duration": 0,
    "start_time": "2025-04-10T10:22:38.038Z"
   },
   {
    "duration": 0,
    "start_time": "2025-04-10T10:22:38.039Z"
   },
   {
    "duration": 0,
    "start_time": "2025-04-10T10:22:38.040Z"
   },
   {
    "duration": 0,
    "start_time": "2025-04-10T10:22:38.042Z"
   },
   {
    "duration": 0,
    "start_time": "2025-04-10T10:22:38.042Z"
   },
   {
    "duration": 0,
    "start_time": "2025-04-10T10:22:38.043Z"
   },
   {
    "duration": 0,
    "start_time": "2025-04-10T10:22:38.044Z"
   },
   {
    "duration": 0,
    "start_time": "2025-04-10T10:22:38.045Z"
   },
   {
    "duration": 0,
    "start_time": "2025-04-10T10:22:38.046Z"
   },
   {
    "duration": 0,
    "start_time": "2025-04-10T10:22:38.047Z"
   },
   {
    "duration": 3468,
    "start_time": "2025-04-10T10:23:00.296Z"
   },
   {
    "duration": 2295,
    "start_time": "2025-04-10T10:23:03.767Z"
   },
   {
    "duration": 3,
    "start_time": "2025-04-10T10:23:06.064Z"
   },
   {
    "duration": 83,
    "start_time": "2025-04-10T10:23:06.069Z"
   },
   {
    "duration": 1509,
    "start_time": "2025-04-10T10:23:06.153Z"
   },
   {
    "duration": 12,
    "start_time": "2025-04-10T10:23:07.665Z"
   },
   {
    "duration": 36,
    "start_time": "2025-04-10T10:23:07.679Z"
   },
   {
    "duration": 1192,
    "start_time": "2025-04-10T10:23:07.717Z"
   },
   {
    "duration": 0,
    "start_time": "2025-04-10T10:23:08.911Z"
   },
   {
    "duration": 0,
    "start_time": "2025-04-10T10:23:08.912Z"
   },
   {
    "duration": 0,
    "start_time": "2025-04-10T10:23:08.914Z"
   },
   {
    "duration": 0,
    "start_time": "2025-04-10T10:23:08.915Z"
   },
   {
    "duration": 0,
    "start_time": "2025-04-10T10:23:08.916Z"
   },
   {
    "duration": 0,
    "start_time": "2025-04-10T10:23:08.917Z"
   },
   {
    "duration": 0,
    "start_time": "2025-04-10T10:23:08.919Z"
   },
   {
    "duration": 0,
    "start_time": "2025-04-10T10:23:08.920Z"
   },
   {
    "duration": 0,
    "start_time": "2025-04-10T10:23:08.921Z"
   },
   {
    "duration": 0,
    "start_time": "2025-04-10T10:23:08.922Z"
   },
   {
    "duration": 0,
    "start_time": "2025-04-10T10:23:08.924Z"
   },
   {
    "duration": 0,
    "start_time": "2025-04-10T10:23:08.925Z"
   },
   {
    "duration": 0,
    "start_time": "2025-04-10T10:23:08.926Z"
   },
   {
    "duration": 0,
    "start_time": "2025-04-10T10:23:08.927Z"
   },
   {
    "duration": 0,
    "start_time": "2025-04-10T10:23:08.928Z"
   },
   {
    "duration": 0,
    "start_time": "2025-04-10T10:23:08.929Z"
   },
   {
    "duration": 17344,
    "start_time": "2025-04-10T10:24:24.487Z"
   },
   {
    "duration": 1677,
    "start_time": "2025-04-10T10:25:01.700Z"
   },
   {
    "duration": 2786,
    "start_time": "2025-04-10T10:25:12.607Z"
   },
   {
    "duration": 3217,
    "start_time": "2025-04-10T10:25:22.538Z"
   },
   {
    "duration": 3,
    "start_time": "2025-04-10T10:25:28.111Z"
   },
   {
    "duration": 3,
    "start_time": "2025-04-10T10:25:30.640Z"
   },
   {
    "duration": 1219,
    "start_time": "2025-04-10T10:25:33.025Z"
   },
   {
    "duration": 10,
    "start_time": "2025-04-10T10:25:42.326Z"
   },
   {
    "duration": 5,
    "start_time": "2025-04-10T10:26:07.640Z"
   },
   {
    "duration": 4770,
    "start_time": "2025-04-10T10:26:12.219Z"
   },
   {
    "duration": 7,
    "start_time": "2025-04-10T10:26:58.611Z"
   },
   {
    "duration": 3640,
    "start_time": "2025-04-10T10:27:02.161Z"
   },
   {
    "duration": 1252,
    "start_time": "2025-04-10T10:27:36.675Z"
   },
   {
    "duration": 4,
    "start_time": "2025-04-10T10:31:24.859Z"
   },
   {
    "duration": 4,
    "start_time": "2025-04-10T10:33:41.372Z"
   },
   {
    "duration": 3263,
    "start_time": "2025-04-10T10:33:50.308Z"
   },
   {
    "duration": 6,
    "start_time": "2025-04-10T10:43:47.632Z"
   },
   {
    "duration": 31696,
    "start_time": "2025-04-10T10:43:55.487Z"
   },
   {
    "duration": 4,
    "start_time": "2025-04-10T10:48:07.099Z"
   },
   {
    "duration": 34223,
    "start_time": "2025-04-10T10:48:11.869Z"
   },
   {
    "duration": 33602,
    "start_time": "2025-04-10T10:49:07.864Z"
   },
   {
    "duration": 4,
    "start_time": "2025-04-10T10:49:47.094Z"
   },
   {
    "duration": 200,
    "start_time": "2025-04-10T10:50:24.454Z"
   },
   {
    "duration": 35893,
    "start_time": "2025-04-10T10:52:35.634Z"
   },
   {
    "duration": 34643,
    "start_time": "2025-04-10T10:54:38.692Z"
   },
   {
    "duration": 33337,
    "start_time": "2025-04-10T10:57:46.657Z"
   },
   {
    "duration": 4,
    "start_time": "2025-04-10T11:09:30.702Z"
   },
   {
    "duration": 4,
    "start_time": "2025-04-10T11:09:40.490Z"
   },
   {
    "duration": 5,
    "start_time": "2025-04-10T11:09:50.104Z"
   },
   {
    "duration": 7483,
    "start_time": "2025-04-10T11:19:50.589Z"
   },
   {
    "duration": 563251,
    "start_time": "2025-04-10T11:22:56.138Z"
   },
   {
    "duration": 5195,
    "start_time": "2025-04-10T12:42:56.651Z"
   },
   {
    "duration": 3035,
    "start_time": "2025-04-10T12:43:45.616Z"
   },
   {
    "duration": 14,
    "start_time": "2025-04-10T12:44:12.624Z"
   },
   {
    "duration": 30,
    "start_time": "2025-04-10T12:44:23.119Z"
   },
   {
    "duration": 3,
    "start_time": "2025-04-10T12:44:33.490Z"
   },
   {
    "duration": 4,
    "start_time": "2025-04-10T12:44:36.279Z"
   },
   {
    "duration": 1236,
    "start_time": "2025-04-10T12:44:59.492Z"
   },
   {
    "duration": 1470,
    "start_time": "2025-04-10T12:45:14.764Z"
   },
   {
    "duration": 11,
    "start_time": "2025-04-10T12:45:23.614Z"
   },
   {
    "duration": 5,
    "start_time": "2025-04-10T12:46:42.880Z"
   },
   {
    "duration": 5215,
    "start_time": "2025-04-10T12:47:30.894Z"
   },
   {
    "duration": 4,
    "start_time": "2025-04-10T12:47:47.643Z"
   },
   {
    "duration": 4,
    "start_time": "2025-04-10T12:47:58.547Z"
   },
   {
    "duration": 4,
    "start_time": "2025-04-10T12:48:14.967Z"
   },
   {
    "duration": 4,
    "start_time": "2025-04-10T12:51:49.629Z"
   },
   {
    "duration": 391,
    "start_time": "2025-04-10T12:52:11.278Z"
   },
   {
    "duration": 3,
    "start_time": "2025-04-10T12:52:35.346Z"
   },
   {
    "duration": 47,
    "start_time": "2025-04-10T12:52:38.348Z"
   },
   {
    "duration": 5,
    "start_time": "2025-04-10T12:52:49.573Z"
   },
   {
    "duration": 3,
    "start_time": "2025-04-10T12:52:56.350Z"
   },
   {
    "duration": 43,
    "start_time": "2025-04-10T12:52:58.079Z"
   },
   {
    "duration": 4,
    "start_time": "2025-04-10T12:53:00.020Z"
   },
   {
    "duration": 4,
    "start_time": "2025-04-10T12:53:13.994Z"
   },
   {
    "duration": 3778,
    "start_time": "2025-04-10T13:00:48.110Z"
   },
   {
    "duration": 3573,
    "start_time": "2025-04-10T13:01:13.218Z"
   },
   {
    "duration": 211,
    "start_time": "2025-04-10T13:18:12.866Z"
   },
   {
    "duration": 12,
    "start_time": "2025-04-10T13:19:16.477Z"
   },
   {
    "duration": 4,
    "start_time": "2025-04-10T13:19:32.265Z"
   },
   {
    "duration": 4,
    "start_time": "2025-04-10T13:19:34.607Z"
   },
   {
    "duration": 6,
    "start_time": "2025-04-10T13:19:38.928Z"
   },
   {
    "duration": 4,
    "start_time": "2025-04-10T13:22:20.083Z"
   },
   {
    "duration": 3584,
    "start_time": "2025-04-10T13:23:17.546Z"
   },
   {
    "duration": 4,
    "start_time": "2025-04-10T13:23:49.876Z"
   },
   {
    "duration": 4,
    "start_time": "2025-04-10T13:23:52.477Z"
   },
   {
    "duration": 4318,
    "start_time": "2025-04-10T16:33:54.200Z"
   },
   {
    "duration": 2444,
    "start_time": "2025-04-10T16:33:58.520Z"
   },
   {
    "duration": 15,
    "start_time": "2025-04-10T16:34:00.966Z"
   },
   {
    "duration": 66,
    "start_time": "2025-04-10T16:34:00.983Z"
   },
   {
    "duration": 33,
    "start_time": "2025-04-10T16:34:01.051Z"
   },
   {
    "duration": 30,
    "start_time": "2025-04-10T16:34:01.086Z"
   },
   {
    "duration": 1399,
    "start_time": "2025-04-10T16:34:01.118Z"
   },
   {
    "duration": 24,
    "start_time": "2025-04-10T16:34:02.519Z"
   },
   {
    "duration": 6,
    "start_time": "2025-04-10T16:34:02.545Z"
   },
   {
    "duration": 5331,
    "start_time": "2025-04-10T16:34:02.554Z"
   },
   {
    "duration": 5,
    "start_time": "2025-04-10T16:34:07.886Z"
   },
   {
    "duration": 14,
    "start_time": "2025-04-10T16:34:07.893Z"
   },
   {
    "duration": 6,
    "start_time": "2025-04-10T16:34:07.909Z"
   },
   {
    "duration": 3971,
    "start_time": "2025-04-10T16:34:07.917Z"
   },
   {
    "duration": 118,
    "start_time": "2025-04-10T16:34:11.890Z"
   },
   {
    "duration": 2,
    "start_time": "2025-04-10T16:34:12.010Z"
   },
   {
    "duration": 3,
    "start_time": "2025-04-10T16:34:12.014Z"
   },
   {
    "duration": 5,
    "start_time": "2025-04-10T16:34:12.019Z"
   },
   {
    "duration": 3834,
    "start_time": "2025-04-10T16:34:12.025Z"
   },
   {
    "duration": 5,
    "start_time": "2025-04-10T16:34:15.860Z"
   },
   {
    "duration": 17,
    "start_time": "2025-04-10T16:34:15.866Z"
   },
   {
    "duration": 4756,
    "start_time": "2025-04-10T16:35:00.623Z"
   },
   {
    "duration": 2190,
    "start_time": "2025-04-10T16:35:05.381Z"
   },
   {
    "duration": 15,
    "start_time": "2025-04-10T16:35:07.573Z"
   },
   {
    "duration": 65,
    "start_time": "2025-04-10T16:35:07.589Z"
   },
   {
    "duration": 15,
    "start_time": "2025-04-10T16:35:07.657Z"
   },
   {
    "duration": 41,
    "start_time": "2025-04-10T16:35:07.674Z"
   },
   {
    "duration": 1337,
    "start_time": "2025-04-10T16:35:07.717Z"
   },
   {
    "duration": 10,
    "start_time": "2025-04-10T16:35:09.056Z"
   },
   {
    "duration": 19,
    "start_time": "2025-04-10T16:35:09.068Z"
   },
   {
    "duration": 5027,
    "start_time": "2025-04-10T16:35:09.088Z"
   },
   {
    "duration": 4,
    "start_time": "2025-04-10T16:35:14.117Z"
   },
   {
    "duration": 20,
    "start_time": "2025-04-10T16:35:14.138Z"
   },
   {
    "duration": 30,
    "start_time": "2025-04-10T16:35:14.160Z"
   },
   {
    "duration": 3973,
    "start_time": "2025-04-10T16:35:14.194Z"
   },
   {
    "duration": 5,
    "start_time": "2025-04-10T16:35:18.169Z"
   },
   {
    "duration": 28,
    "start_time": "2025-04-10T16:35:18.176Z"
   },
   {
    "duration": 23,
    "start_time": "2025-04-10T16:35:18.205Z"
   },
   {
    "duration": 24,
    "start_time": "2025-04-10T16:35:18.230Z"
   },
   {
    "duration": 34,
    "start_time": "2025-04-10T16:35:18.256Z"
   },
   {
    "duration": 2176,
    "start_time": "2025-04-10T16:35:18.292Z"
   },
   {
    "duration": 0,
    "start_time": "2025-04-10T16:35:20.470Z"
   },
   {
    "duration": 610523,
    "start_time": "2025-04-10T16:37:14.504Z"
   },
   {
    "duration": 2423,
    "start_time": "2025-04-10T16:49:46.161Z"
   },
   {
    "duration": 5,
    "start_time": "2025-04-10T16:49:56.170Z"
   },
   {
    "duration": 3,
    "start_time": "2025-04-10T16:50:25.921Z"
   },
   {
    "duration": 3,
    "start_time": "2025-04-10T16:50:34.431Z"
   },
   {
    "duration": 15,
    "start_time": "2025-04-10T16:50:40.104Z"
   },
   {
    "duration": 2,
    "start_time": "2025-04-10T16:54:33.956Z"
   },
   {
    "duration": 9924,
    "start_time": "2025-04-10T16:54:37.093Z"
   },
   {
    "duration": 11,
    "start_time": "2025-04-10T16:54:51.782Z"
   },
   {
    "duration": 4,
    "start_time": "2025-04-10T16:56:03.556Z"
   },
   {
    "duration": 4,
    "start_time": "2025-04-10T16:56:06.568Z"
   },
   {
    "duration": 4,
    "start_time": "2025-04-10T16:56:29.990Z"
   },
   {
    "duration": 4,
    "start_time": "2025-04-10T16:56:36.139Z"
   },
   {
    "duration": 3,
    "start_time": "2025-04-10T16:56:51.110Z"
   },
   {
    "duration": 6634,
    "start_time": "2025-04-10T17:03:34.972Z"
   },
   {
    "duration": 9,
    "start_time": "2025-04-10T17:06:06.968Z"
   },
   {
    "duration": 11,
    "start_time": "2025-04-10T17:29:46.129Z"
   },
   {
    "duration": 4235,
    "start_time": "2025-04-11T09:11:03.812Z"
   },
   {
    "duration": 2160,
    "start_time": "2025-04-11T09:11:08.050Z"
   },
   {
    "duration": 15,
    "start_time": "2025-04-11T09:11:10.212Z"
   },
   {
    "duration": 41,
    "start_time": "2025-04-11T09:11:10.229Z"
   },
   {
    "duration": 2,
    "start_time": "2025-04-11T09:11:10.272Z"
   },
   {
    "duration": 8,
    "start_time": "2025-04-11T09:11:10.276Z"
   },
   {
    "duration": 1331,
    "start_time": "2025-04-11T09:11:10.285Z"
   },
   {
    "duration": 22,
    "start_time": "2025-04-11T09:11:11.618Z"
   },
   {
    "duration": 5,
    "start_time": "2025-04-11T09:11:11.642Z"
   },
   {
    "duration": 5102,
    "start_time": "2025-04-11T09:11:11.651Z"
   },
   {
    "duration": 4,
    "start_time": "2025-04-11T09:11:16.755Z"
   },
   {
    "duration": 12,
    "start_time": "2025-04-11T09:11:16.761Z"
   },
   {
    "duration": 8,
    "start_time": "2025-04-11T09:11:16.775Z"
   },
   {
    "duration": 3992,
    "start_time": "2025-04-11T09:11:16.784Z"
   },
   {
    "duration": 182,
    "start_time": "2025-04-11T09:11:20.778Z"
   },
   {
    "duration": 3,
    "start_time": "2025-04-11T09:11:20.963Z"
   },
   {
    "duration": 57,
    "start_time": "2025-04-11T09:11:20.968Z"
   },
   {
    "duration": 27,
    "start_time": "2025-04-11T09:11:21.027Z"
   },
   {
    "duration": 8,
    "start_time": "2025-04-11T09:11:21.056Z"
   },
   {
    "duration": 612563,
    "start_time": "2025-04-11T09:11:21.065Z"
   },
   {
    "duration": 2221,
    "start_time": "2025-04-11T09:21:33.629Z"
   },
   {
    "duration": 37,
    "start_time": "2025-04-11T09:21:35.852Z"
   },
   {
    "duration": 52,
    "start_time": "2025-04-11T09:21:35.891Z"
   },
   {
    "duration": 10051,
    "start_time": "2025-04-11T09:21:35.944Z"
   },
   {
    "duration": 11,
    "start_time": "2025-04-11T09:21:45.997Z"
   },
   {
    "duration": 8,
    "start_time": "2025-04-11T09:21:46.010Z"
   },
   {
    "duration": 20,
    "start_time": "2025-04-11T09:21:46.020Z"
   },
   {
    "duration": 2,
    "start_time": "2025-04-11T09:21:46.044Z"
   },
   {
    "duration": 25,
    "start_time": "2025-04-11T09:21:46.048Z"
   },
   {
    "duration": 22,
    "start_time": "2025-04-11T09:21:46.075Z"
   },
   {
    "duration": 3,
    "start_time": "2025-04-11T09:29:18.054Z"
   },
   {
    "duration": 151,
    "start_time": "2025-04-11T09:36:27.069Z"
   },
   {
    "duration": 1243,
    "start_time": "2025-04-11T09:37:30.062Z"
   },
   {
    "duration": 14,
    "start_time": "2025-04-11T09:37:57.212Z"
   },
   {
    "duration": 7580,
    "start_time": "2025-04-11T09:44:53.000Z"
   },
   {
    "duration": 7305,
    "start_time": "2025-04-11T09:45:35.235Z"
   },
   {
    "duration": 7150,
    "start_time": "2025-04-11T09:50:20.870Z"
   },
   {
    "duration": 12,
    "start_time": "2025-04-11T09:50:29.883Z"
   },
   {
    "duration": 10,
    "start_time": "2025-04-11T09:50:36.521Z"
   },
   {
    "duration": 7205,
    "start_time": "2025-04-11T09:51:21.455Z"
   },
   {
    "duration": 58,
    "start_time": "2025-04-11T09:59:03.304Z"
   },
   {
    "duration": 5254,
    "start_time": "2025-04-11T10:00:01.131Z"
   },
   {
    "duration": 2671,
    "start_time": "2025-04-11T10:00:06.387Z"
   },
   {
    "duration": 14,
    "start_time": "2025-04-11T10:00:09.060Z"
   },
   {
    "duration": 50,
    "start_time": "2025-04-11T10:00:09.076Z"
   },
   {
    "duration": 14,
    "start_time": "2025-04-11T10:00:09.127Z"
   },
   {
    "duration": 26,
    "start_time": "2025-04-11T10:00:09.143Z"
   },
   {
    "duration": 1377,
    "start_time": "2025-04-11T10:00:09.171Z"
   },
   {
    "duration": 12,
    "start_time": "2025-04-11T10:00:10.550Z"
   },
   {
    "duration": 64,
    "start_time": "2025-04-11T10:00:10.564Z"
   },
   {
    "duration": 5329,
    "start_time": "2025-04-11T10:00:10.631Z"
   },
   {
    "duration": 4,
    "start_time": "2025-04-11T10:00:15.962Z"
   },
   {
    "duration": 57,
    "start_time": "2025-04-11T10:00:15.968Z"
   },
   {
    "duration": 6,
    "start_time": "2025-04-11T10:00:16.026Z"
   },
   {
    "duration": 4070,
    "start_time": "2025-04-11T10:00:16.034Z"
   },
   {
    "duration": 8,
    "start_time": "2025-04-11T10:00:20.106Z"
   },
   {
    "duration": 20,
    "start_time": "2025-04-11T10:00:20.115Z"
   },
   {
    "duration": 19,
    "start_time": "2025-04-11T10:00:20.137Z"
   },
   {
    "duration": 21,
    "start_time": "2025-04-11T10:00:20.158Z"
   },
   {
    "duration": 25,
    "start_time": "2025-04-11T10:00:20.181Z"
   },
   {
    "duration": 620002,
    "start_time": "2025-04-11T10:00:20.208Z"
   },
   {
    "duration": 2397,
    "start_time": "2025-04-11T10:10:40.212Z"
   },
   {
    "duration": 13,
    "start_time": "2025-04-11T10:10:42.611Z"
   },
   {
    "duration": 34,
    "start_time": "2025-04-11T10:10:42.626Z"
   },
   {
    "duration": 123,
    "start_time": "2025-04-11T10:10:42.662Z"
   },
   {
    "duration": 0,
    "start_time": "2025-04-11T10:10:42.787Z"
   },
   {
    "duration": 0,
    "start_time": "2025-04-11T10:10:42.788Z"
   },
   {
    "duration": 0,
    "start_time": "2025-04-11T10:10:42.789Z"
   },
   {
    "duration": 0,
    "start_time": "2025-04-11T10:10:42.791Z"
   },
   {
    "duration": 0,
    "start_time": "2025-04-11T10:10:42.792Z"
   },
   {
    "duration": 1,
    "start_time": "2025-04-11T10:10:42.793Z"
   },
   {
    "duration": 0,
    "start_time": "2025-04-11T10:10:42.794Z"
   },
   {
    "duration": 0,
    "start_time": "2025-04-11T10:10:42.796Z"
   },
   {
    "duration": 0,
    "start_time": "2025-04-11T10:10:42.797Z"
   },
   {
    "duration": 0,
    "start_time": "2025-04-11T10:10:42.799Z"
   },
   {
    "duration": 3,
    "start_time": "2025-04-11T10:10:53.469Z"
   },
   {
    "duration": 126,
    "start_time": "2025-04-11T10:10:56.461Z"
   },
   {
    "duration": 13,
    "start_time": "2025-04-11T10:11:00.423Z"
   },
   {
    "duration": 7283,
    "start_time": "2025-04-11T10:11:04.165Z"
   },
   {
    "duration": 4,
    "start_time": "2025-04-11T10:11:14.016Z"
   },
   {
    "duration": 8044,
    "start_time": "2025-04-11T10:12:51.306Z"
   },
   {
    "duration": 10,
    "start_time": "2025-04-11T10:20:54.786Z"
   },
   {
    "duration": 41098,
    "start_time": "2025-04-11T10:21:36.049Z"
   },
   {
    "duration": 18,
    "start_time": "2025-04-11T10:26:06.660Z"
   },
   {
    "duration": 11,
    "start_time": "2025-04-11T10:27:42.557Z"
   },
   {
    "duration": 26,
    "start_time": "2025-04-11T10:28:01.079Z"
   },
   {
    "duration": 17,
    "start_time": "2025-04-11T10:28:12.985Z"
   },
   {
    "duration": 100952,
    "start_time": "2025-04-11T10:34:48.103Z"
   },
   {
    "duration": 10,
    "start_time": "2025-04-11T10:42:10.166Z"
   },
   {
    "duration": 10,
    "start_time": "2025-04-11T10:42:22.942Z"
   },
   {
    "duration": 48175,
    "start_time": "2025-04-11T10:43:04.481Z"
   },
   {
    "duration": 13,
    "start_time": "2025-04-11T10:45:57.552Z"
   },
   {
    "duration": 30,
    "start_time": "2025-04-11T10:46:06.996Z"
   },
   {
    "duration": 49,
    "start_time": "2025-04-11T10:47:11.255Z"
   },
   {
    "duration": 6,
    "start_time": "2025-04-11T10:47:49.841Z"
   },
   {
    "duration": 5,
    "start_time": "2025-04-11T10:47:54.634Z"
   },
   {
    "duration": 81,
    "start_time": "2025-04-11T10:50:51.044Z"
   },
   {
    "duration": 162,
    "start_time": "2025-04-11T11:10:37.318Z"
   },
   {
    "duration": 12,
    "start_time": "2025-04-11T11:10:46.710Z"
   },
   {
    "duration": 7170,
    "start_time": "2025-04-11T11:10:50.239Z"
   },
   {
    "duration": 53,
    "start_time": "2025-04-11T11:15:10.044Z"
   },
   {
    "duration": 7,
    "start_time": "2025-04-11T11:19:22.396Z"
   },
   {
    "duration": 51,
    "start_time": "2025-04-11T11:19:38.719Z"
   },
   {
    "duration": 4285,
    "start_time": "2025-04-11T11:19:43.937Z"
   },
   {
    "duration": 2588,
    "start_time": "2025-04-11T11:19:48.225Z"
   },
   {
    "duration": 25,
    "start_time": "2025-04-11T11:19:50.814Z"
   },
   {
    "duration": 36,
    "start_time": "2025-04-11T11:19:50.842Z"
   },
   {
    "duration": 12,
    "start_time": "2025-04-11T11:19:50.880Z"
   },
   {
    "duration": 17,
    "start_time": "2025-04-11T11:19:50.895Z"
   },
   {
    "duration": 1359,
    "start_time": "2025-04-11T11:19:50.914Z"
   },
   {
    "duration": 12,
    "start_time": "2025-04-11T11:19:52.275Z"
   },
   {
    "duration": 20,
    "start_time": "2025-04-11T11:19:52.289Z"
   },
   {
    "duration": 5105,
    "start_time": "2025-04-11T11:19:52.312Z"
   },
   {
    "duration": 4,
    "start_time": "2025-04-11T11:19:57.419Z"
   },
   {
    "duration": 44,
    "start_time": "2025-04-11T11:19:57.425Z"
   },
   {
    "duration": 45,
    "start_time": "2025-04-11T11:19:57.471Z"
   },
   {
    "duration": 3967,
    "start_time": "2025-04-11T11:19:57.518Z"
   },
   {
    "duration": 8,
    "start_time": "2025-04-11T11:20:01.487Z"
   },
   {
    "duration": 37,
    "start_time": "2025-04-11T11:20:01.497Z"
   },
   {
    "duration": 83,
    "start_time": "2025-04-11T11:20:01.535Z"
   },
   {
    "duration": 31,
    "start_time": "2025-04-11T11:20:01.620Z"
   },
   {
    "duration": 17,
    "start_time": "2025-04-11T11:20:01.653Z"
   },
   {
    "duration": 7,
    "start_time": "2025-04-11T11:20:01.672Z"
   },
   {
    "duration": 199,
    "start_time": "2025-04-11T11:20:01.682Z"
   },
   {
    "duration": 0,
    "start_time": "2025-04-11T11:20:01.883Z"
   },
   {
    "duration": 0,
    "start_time": "2025-04-11T11:20:01.885Z"
   },
   {
    "duration": 0,
    "start_time": "2025-04-11T11:20:01.887Z"
   },
   {
    "duration": 0,
    "start_time": "2025-04-11T11:20:01.888Z"
   },
   {
    "duration": 0,
    "start_time": "2025-04-11T11:20:01.889Z"
   },
   {
    "duration": 0,
    "start_time": "2025-04-11T11:20:01.890Z"
   },
   {
    "duration": 0,
    "start_time": "2025-04-11T11:20:01.891Z"
   },
   {
    "duration": 0,
    "start_time": "2025-04-11T11:20:01.892Z"
   },
   {
    "duration": 0,
    "start_time": "2025-04-11T11:20:01.894Z"
   },
   {
    "duration": 0,
    "start_time": "2025-04-11T11:20:01.895Z"
   },
   {
    "duration": 0,
    "start_time": "2025-04-11T11:20:01.896Z"
   },
   {
    "duration": 1,
    "start_time": "2025-04-11T11:20:01.897Z"
   },
   {
    "duration": 0,
    "start_time": "2025-04-11T11:20:01.899Z"
   },
   {
    "duration": 0,
    "start_time": "2025-04-11T11:20:01.900Z"
   },
   {
    "duration": 0,
    "start_time": "2025-04-11T11:20:01.901Z"
   },
   {
    "duration": 0,
    "start_time": "2025-04-11T11:20:01.902Z"
   },
   {
    "duration": 0,
    "start_time": "2025-04-11T11:20:01.940Z"
   },
   {
    "duration": 3074,
    "start_time": "2025-04-11T11:21:20.918Z"
   },
   {
    "duration": 10,
    "start_time": "2025-04-11T11:21:35.368Z"
   },
   {
    "duration": 9,
    "start_time": "2025-04-11T11:22:22.940Z"
   },
   {
    "duration": 3,
    "start_time": "2025-04-11T11:22:49.896Z"
   },
   {
    "duration": 3,
    "start_time": "2025-04-11T11:22:59.705Z"
   },
   {
    "duration": 349,
    "start_time": "2025-04-11T11:23:01.946Z"
   },
   {
    "duration": 14,
    "start_time": "2025-04-11T11:23:05.794Z"
   },
   {
    "duration": 708,
    "start_time": "2025-04-11T11:23:08.868Z"
   },
   {
    "duration": 13,
    "start_time": "2025-04-11T11:23:51.905Z"
   },
   {
    "duration": 6,
    "start_time": "2025-04-11T11:24:01.655Z"
   },
   {
    "duration": 18,
    "start_time": "2025-04-11T11:24:25.978Z"
   },
   {
    "duration": 55,
    "start_time": "2025-04-11T11:25:32.951Z"
   },
   {
    "duration": 4645,
    "start_time": "2025-04-11T11:25:47.401Z"
   },
   {
    "duration": 2314,
    "start_time": "2025-04-11T11:25:52.049Z"
   },
   {
    "duration": 15,
    "start_time": "2025-04-11T11:25:54.364Z"
   },
   {
    "duration": 50,
    "start_time": "2025-04-11T11:25:54.380Z"
   },
   {
    "duration": 8,
    "start_time": "2025-04-11T11:25:54.432Z"
   },
   {
    "duration": 14,
    "start_time": "2025-04-11T11:25:54.441Z"
   },
   {
    "duration": 1365,
    "start_time": "2025-04-11T11:25:54.456Z"
   },
   {
    "duration": 23,
    "start_time": "2025-04-11T11:25:55.823Z"
   },
   {
    "duration": 6,
    "start_time": "2025-04-11T11:25:55.848Z"
   },
   {
    "duration": 5237,
    "start_time": "2025-04-11T11:25:55.856Z"
   },
   {
    "duration": 5,
    "start_time": "2025-04-11T11:26:01.095Z"
   },
   {
    "duration": 33,
    "start_time": "2025-04-11T11:26:01.102Z"
   },
   {
    "duration": 15,
    "start_time": "2025-04-11T11:26:01.137Z"
   },
   {
    "duration": 4054,
    "start_time": "2025-04-11T11:26:01.158Z"
   },
   {
    "duration": 7,
    "start_time": "2025-04-11T11:26:05.214Z"
   },
   {
    "duration": 17,
    "start_time": "2025-04-11T11:26:05.240Z"
   },
   {
    "duration": 37,
    "start_time": "2025-04-11T11:26:05.259Z"
   },
   {
    "duration": 42,
    "start_time": "2025-04-11T11:26:05.298Z"
   },
   {
    "duration": 35,
    "start_time": "2025-04-11T11:26:05.342Z"
   },
   {
    "duration": 26,
    "start_time": "2025-04-11T11:26:05.379Z"
   },
   {
    "duration": 4139,
    "start_time": "2025-04-11T11:26:05.407Z"
   },
   {
    "duration": 2,
    "start_time": "2025-04-11T11:26:09.548Z"
   },
   {
    "duration": 2353,
    "start_time": "2025-04-11T11:26:09.552Z"
   },
   {
    "duration": 33,
    "start_time": "2025-04-11T11:26:11.907Z"
   },
   {
    "duration": 52,
    "start_time": "2025-04-11T11:26:11.942Z"
   },
   {
    "duration": 18,
    "start_time": "2025-04-11T11:26:11.996Z"
   },
   {
    "duration": 24,
    "start_time": "2025-04-11T11:26:12.016Z"
   },
   {
    "duration": 3,
    "start_time": "2025-04-11T11:26:12.042Z"
   },
   {
    "duration": 4374,
    "start_time": "2025-04-11T11:27:07.772Z"
   },
   {
    "duration": 4096,
    "start_time": "2025-04-11T11:27:12.148Z"
   },
   {
    "duration": 15,
    "start_time": "2025-04-11T11:27:16.246Z"
   },
   {
    "duration": 38,
    "start_time": "2025-04-11T11:27:16.263Z"
   },
   {
    "duration": 22,
    "start_time": "2025-04-11T11:27:16.304Z"
   },
   {
    "duration": 42,
    "start_time": "2025-04-11T11:27:16.328Z"
   },
   {
    "duration": 1390,
    "start_time": "2025-04-11T11:27:16.372Z"
   },
   {
    "duration": 11,
    "start_time": "2025-04-11T11:27:17.764Z"
   },
   {
    "duration": 5,
    "start_time": "2025-04-11T11:27:17.776Z"
   },
   {
    "duration": 5214,
    "start_time": "2025-04-11T11:27:17.783Z"
   },
   {
    "duration": 4,
    "start_time": "2025-04-11T11:27:22.999Z"
   },
   {
    "duration": 32,
    "start_time": "2025-04-11T11:27:23.004Z"
   },
   {
    "duration": 12,
    "start_time": "2025-04-11T11:27:23.037Z"
   },
   {
    "duration": 4003,
    "start_time": "2025-04-11T11:27:23.053Z"
   },
   {
    "duration": 7,
    "start_time": "2025-04-11T11:27:27.058Z"
   },
   {
    "duration": 29,
    "start_time": "2025-04-11T11:27:27.066Z"
   },
   {
    "duration": 10,
    "start_time": "2025-04-11T11:27:27.097Z"
   },
   {
    "duration": 2,
    "start_time": "2025-04-11T11:27:27.109Z"
   },
   {
    "duration": 4070,
    "start_time": "2025-04-11T11:27:27.113Z"
   },
   {
    "duration": 2,
    "start_time": "2025-04-11T11:27:31.185Z"
   },
   {
    "duration": 29,
    "start_time": "2025-04-11T11:27:31.189Z"
   },
   {
    "duration": 4547,
    "start_time": "2025-04-11T11:27:31.219Z"
   },
   {
    "duration": 2,
    "start_time": "2025-04-11T11:27:35.768Z"
   },
   {
    "duration": 114,
    "start_time": "2025-04-11T11:27:35.772Z"
   },
   {
    "duration": 87,
    "start_time": "2025-04-11T11:27:35.887Z"
   },
   {
    "duration": 13,
    "start_time": "2025-04-11T11:27:35.976Z"
   },
   {
    "duration": 35,
    "start_time": "2025-04-11T11:27:35.991Z"
   },
   {
    "duration": 1180,
    "start_time": "2025-04-11T11:27:36.028Z"
   },
   {
    "duration": 0,
    "start_time": "2025-04-11T11:27:37.210Z"
   },
   {
    "duration": 0,
    "start_time": "2025-04-11T11:27:37.211Z"
   },
   {
    "duration": 0,
    "start_time": "2025-04-11T11:27:37.212Z"
   },
   {
    "duration": 0,
    "start_time": "2025-04-11T11:27:37.214Z"
   },
   {
    "duration": 0,
    "start_time": "2025-04-11T11:27:37.215Z"
   },
   {
    "duration": 0,
    "start_time": "2025-04-11T11:27:37.216Z"
   },
   {
    "duration": 0,
    "start_time": "2025-04-11T11:27:37.217Z"
   },
   {
    "duration": 0,
    "start_time": "2025-04-11T11:27:37.218Z"
   },
   {
    "duration": 4266,
    "start_time": "2025-04-11T11:28:15.917Z"
   },
   {
    "duration": 2285,
    "start_time": "2025-04-11T11:28:20.186Z"
   },
   {
    "duration": 15,
    "start_time": "2025-04-11T11:28:22.473Z"
   },
   {
    "duration": 53,
    "start_time": "2025-04-11T11:28:22.490Z"
   },
   {
    "duration": 2,
    "start_time": "2025-04-11T11:28:22.545Z"
   },
   {
    "duration": 8,
    "start_time": "2025-04-11T11:28:22.549Z"
   },
   {
    "duration": 1319,
    "start_time": "2025-04-11T11:28:22.559Z"
   },
   {
    "duration": 11,
    "start_time": "2025-04-11T11:28:23.880Z"
   },
   {
    "duration": 4,
    "start_time": "2025-04-11T11:28:23.893Z"
   },
   {
    "duration": 5165,
    "start_time": "2025-04-11T11:28:23.900Z"
   },
   {
    "duration": 4,
    "start_time": "2025-04-11T11:28:29.067Z"
   },
   {
    "duration": 14,
    "start_time": "2025-04-11T11:28:29.073Z"
   },
   {
    "duration": 5,
    "start_time": "2025-04-11T11:28:29.088Z"
   },
   {
    "duration": 4064,
    "start_time": "2025-04-11T11:28:29.095Z"
   },
   {
    "duration": 5,
    "start_time": "2025-04-11T11:28:33.160Z"
   },
   {
    "duration": 21,
    "start_time": "2025-04-11T11:28:33.167Z"
   },
   {
    "duration": 34,
    "start_time": "2025-04-11T11:28:33.190Z"
   },
   {
    "duration": 10,
    "start_time": "2025-04-11T11:28:33.226Z"
   },
   {
    "duration": 7,
    "start_time": "2025-04-11T11:28:33.238Z"
   },
   {
    "duration": 629334,
    "start_time": "2025-04-11T11:28:33.246Z"
   },
   {
    "duration": 2,
    "start_time": "2025-04-11T11:39:02.582Z"
   },
   {
    "duration": 7402,
    "start_time": "2025-04-11T11:39:02.586Z"
   },
   {
    "duration": 2,
    "start_time": "2025-04-11T11:39:09.991Z"
   },
   {
    "duration": 773,
    "start_time": "2025-04-11T11:39:09.995Z"
   },
   {
    "duration": 123,
    "start_time": "2025-04-11T11:39:10.770Z"
   },
   {
    "duration": 18,
    "start_time": "2025-04-11T11:39:10.896Z"
   },
   {
    "duration": 7,
    "start_time": "2025-04-11T11:39:10.916Z"
   },
   {
    "duration": 161,
    "start_time": "2025-04-11T11:39:10.928Z"
   },
   {
    "duration": 15,
    "start_time": "2025-04-11T11:39:11.091Z"
   },
   {
    "duration": 7499,
    "start_time": "2025-04-11T11:39:11.108Z"
   },
   {
    "duration": 5,
    "start_time": "2025-04-11T11:39:18.609Z"
   },
   {
    "duration": 48531,
    "start_time": "2025-04-11T11:39:18.616Z"
   },
   {
    "duration": 17,
    "start_time": "2025-04-11T11:40:07.149Z"
   },
   {
    "duration": 3,
    "start_time": "2025-04-11T11:40:07.168Z"
   },
   {
    "duration": 103,
    "start_time": "2025-04-11T11:40:07.173Z"
   },
   {
    "duration": 50510,
    "start_time": "2025-04-11T11:40:07.278Z"
   },
   {
    "duration": 28,
    "start_time": "2025-04-11T12:21:14.952Z"
   },
   {
    "duration": 73624,
    "start_time": "2025-04-11T12:22:36.402Z"
   },
   {
    "duration": 170,
    "start_time": "2025-04-11T12:29:25.416Z"
   },
   {
    "duration": 323018,
    "start_time": "2025-04-11T12:30:37.254Z"
   },
   {
    "duration": 0,
    "start_time": "2025-04-11T12:44:48.279Z"
   },
   {
    "duration": 51439,
    "start_time": "2025-04-11T12:44:51.436Z"
   },
   {
    "duration": 232707,
    "start_time": "2025-04-11T12:46:59.691Z"
   },
   {
    "duration": 12,
    "start_time": "2025-04-11T13:01:27.779Z"
   },
   {
    "duration": 20,
    "start_time": "2025-04-11T13:09:53.928Z"
   },
   {
    "duration": 130,
    "start_time": "2025-04-11T13:10:02.060Z"
   },
   {
    "duration": 1189,
    "start_time": "2025-04-11T13:12:15.600Z"
   },
   {
    "duration": 1163,
    "start_time": "2025-04-11T13:12:27.442Z"
   },
   {
    "duration": 10,
    "start_time": "2025-04-11T13:23:41.886Z"
   },
   {
    "duration": 5322,
    "start_time": "2025-04-11T13:23:48.479Z"
   },
   {
    "duration": 2800,
    "start_time": "2025-04-11T13:23:53.803Z"
   },
   {
    "duration": 14,
    "start_time": "2025-04-11T13:23:56.605Z"
   },
   {
    "duration": 72,
    "start_time": "2025-04-11T13:23:56.621Z"
   },
   {
    "duration": 3,
    "start_time": "2025-04-11T13:23:56.695Z"
   },
   {
    "duration": 25,
    "start_time": "2025-04-11T13:23:56.700Z"
   },
   {
    "duration": 1835,
    "start_time": "2025-04-11T13:23:56.727Z"
   },
   {
    "duration": 18,
    "start_time": "2025-04-11T13:23:58.567Z"
   },
   {
    "duration": 6,
    "start_time": "2025-04-11T13:23:58.588Z"
   },
   {
    "duration": 7177,
    "start_time": "2025-04-11T13:23:58.596Z"
   },
   {
    "duration": 9,
    "start_time": "2025-04-11T13:24:05.775Z"
   },
   {
    "duration": 38,
    "start_time": "2025-04-11T13:24:05.790Z"
   },
   {
    "duration": 24,
    "start_time": "2025-04-11T13:24:05.830Z"
   },
   {
    "duration": 5763,
    "start_time": "2025-04-11T13:24:05.857Z"
   },
   {
    "duration": 37,
    "start_time": "2025-04-11T13:24:11.621Z"
   },
   {
    "duration": 23,
    "start_time": "2025-04-11T13:24:11.660Z"
   },
   {
    "duration": 22,
    "start_time": "2025-04-11T13:24:11.685Z"
   },
   {
    "duration": 6,
    "start_time": "2025-04-11T13:24:11.709Z"
   },
   {
    "duration": 8,
    "start_time": "2025-04-11T13:24:11.717Z"
   },
   {
    "duration": 765132,
    "start_time": "2025-04-11T13:24:11.727Z"
   },
   {
    "duration": 4,
    "start_time": "2025-04-11T13:36:56.861Z"
   },
   {
    "duration": 9339,
    "start_time": "2025-04-11T13:36:56.867Z"
   },
   {
    "duration": 2,
    "start_time": "2025-04-11T13:37:06.208Z"
   },
   {
    "duration": 81,
    "start_time": "2025-04-11T13:37:06.212Z"
   },
   {
    "duration": 170,
    "start_time": "2025-04-11T13:37:06.295Z"
   },
   {
    "duration": 413,
    "start_time": "2025-04-11T13:37:06.468Z"
   },
   {
    "duration": 14,
    "start_time": "2025-04-11T13:37:06.883Z"
   },
   {
    "duration": 190,
    "start_time": "2025-04-11T13:37:06.901Z"
   },
   {
    "duration": 14,
    "start_time": "2025-04-11T13:37:07.092Z"
   },
   {
    "duration": 9123,
    "start_time": "2025-04-11T13:37:07.107Z"
   },
   {
    "duration": 9,
    "start_time": "2025-04-11T13:37:16.232Z"
   },
   {
    "duration": 50712,
    "start_time": "2025-04-11T13:37:16.250Z"
   },
   {
    "duration": 90,
    "start_time": "2025-04-11T13:38:06.965Z"
   },
   {
    "duration": 4,
    "start_time": "2025-04-11T13:38:07.058Z"
   },
   {
    "duration": 160,
    "start_time": "2025-04-11T13:38:07.065Z"
   },
   {
    "duration": 66894,
    "start_time": "2025-04-11T13:38:07.227Z"
   },
   {
    "duration": 4800,
    "start_time": "2025-04-11T13:40:22.756Z"
   },
   {
    "duration": 2765,
    "start_time": "2025-04-11T13:40:27.569Z"
   },
   {
    "duration": 25,
    "start_time": "2025-04-11T13:40:30.339Z"
   },
   {
    "duration": 95,
    "start_time": "2025-04-11T13:40:30.368Z"
   },
   {
    "duration": 107,
    "start_time": "2025-04-11T13:40:30.465Z"
   },
   {
    "duration": 55,
    "start_time": "2025-04-11T13:40:30.574Z"
   },
   {
    "duration": 1721,
    "start_time": "2025-04-11T13:40:30.631Z"
   },
   {
    "duration": 16,
    "start_time": "2025-04-11T13:40:32.356Z"
   },
   {
    "duration": 5,
    "start_time": "2025-04-11T13:40:32.374Z"
   },
   {
    "duration": 6181,
    "start_time": "2025-04-11T13:40:32.383Z"
   },
   {
    "duration": 4,
    "start_time": "2025-04-11T13:40:38.566Z"
   },
   {
    "duration": 35,
    "start_time": "2025-04-11T13:40:38.572Z"
   },
   {
    "duration": 21,
    "start_time": "2025-04-11T13:40:38.609Z"
   },
   {
    "duration": 5027,
    "start_time": "2025-04-11T13:40:38.632Z"
   },
   {
    "duration": 11,
    "start_time": "2025-04-11T13:40:43.662Z"
   },
   {
    "duration": 22,
    "start_time": "2025-04-11T13:40:43.675Z"
   },
   {
    "duration": 28,
    "start_time": "2025-04-11T13:40:43.699Z"
   },
   {
    "duration": 46,
    "start_time": "2025-04-11T13:40:43.730Z"
   },
   {
    "duration": 33,
    "start_time": "2025-04-11T13:40:43.779Z"
   },
   {
    "duration": 700748,
    "start_time": "2025-04-11T13:40:43.814Z"
   },
   {
    "duration": 4,
    "start_time": "2025-04-11T13:52:24.565Z"
   },
   {
    "duration": 8040,
    "start_time": "2025-04-11T13:52:24.572Z"
   },
   {
    "duration": 3,
    "start_time": "2025-04-11T13:52:32.614Z"
   },
   {
    "duration": 84,
    "start_time": "2025-04-11T13:52:32.619Z"
   },
   {
    "duration": 80,
    "start_time": "2025-04-11T13:52:32.706Z"
   },
   {
    "duration": 486,
    "start_time": "2025-04-11T13:52:32.788Z"
   },
   {
    "duration": 3,
    "start_time": "2025-04-11T13:52:33.276Z"
   },
   {
    "duration": 79,
    "start_time": "2025-04-11T13:52:33.283Z"
   },
   {
    "duration": 0,
    "start_time": "2025-04-11T13:52:33.365Z"
   },
   {
    "duration": 0,
    "start_time": "2025-04-11T13:52:33.367Z"
   },
   {
    "duration": 0,
    "start_time": "2025-04-11T13:52:33.367Z"
   },
   {
    "duration": 0,
    "start_time": "2025-04-11T13:52:33.368Z"
   },
   {
    "duration": 1,
    "start_time": "2025-04-11T13:52:33.369Z"
   },
   {
    "duration": 0,
    "start_time": "2025-04-11T13:52:33.371Z"
   },
   {
    "duration": 0,
    "start_time": "2025-04-11T13:52:33.372Z"
   },
   {
    "duration": 0,
    "start_time": "2025-04-11T13:52:33.374Z"
   },
   {
    "duration": 0,
    "start_time": "2025-04-11T13:52:33.375Z"
   },
   {
    "duration": 0,
    "start_time": "2025-04-11T13:52:33.376Z"
   },
   {
    "duration": 0,
    "start_time": "2025-04-11T13:52:33.377Z"
   },
   {
    "duration": 0,
    "start_time": "2025-04-11T13:52:33.378Z"
   },
   {
    "duration": 0,
    "start_time": "2025-04-11T13:52:33.379Z"
   },
   {
    "duration": 0,
    "start_time": "2025-04-11T13:52:33.380Z"
   },
   {
    "duration": 4033,
    "start_time": "2025-04-11T15:37:23.666Z"
   },
   {
    "duration": 2892,
    "start_time": "2025-04-11T15:37:27.702Z"
   },
   {
    "duration": 13,
    "start_time": "2025-04-11T15:37:30.595Z"
   },
   {
    "duration": 143,
    "start_time": "2025-04-11T15:37:30.609Z"
   },
   {
    "duration": 20,
    "start_time": "2025-04-11T15:37:30.753Z"
   },
   {
    "duration": 18,
    "start_time": "2025-04-11T15:37:30.775Z"
   },
   {
    "duration": 1363,
    "start_time": "2025-04-11T15:37:30.795Z"
   },
   {
    "duration": 9,
    "start_time": "2025-04-11T15:37:32.161Z"
   },
   {
    "duration": 23,
    "start_time": "2025-04-11T15:37:32.171Z"
   },
   {
    "duration": 4933,
    "start_time": "2025-04-11T15:37:32.196Z"
   },
   {
    "duration": 14,
    "start_time": "2025-04-11T15:37:37.130Z"
   },
   {
    "duration": 9,
    "start_time": "2025-04-11T15:37:37.145Z"
   },
   {
    "duration": 14,
    "start_time": "2025-04-11T15:37:37.155Z"
   },
   {
    "duration": 3739,
    "start_time": "2025-04-11T15:37:37.170Z"
   },
   {
    "duration": 6,
    "start_time": "2025-04-11T15:37:40.910Z"
   },
   {
    "duration": 24,
    "start_time": "2025-04-11T15:37:40.917Z"
   },
   {
    "duration": 9,
    "start_time": "2025-04-11T15:37:40.942Z"
   },
   {
    "duration": 8,
    "start_time": "2025-04-11T15:37:40.953Z"
   },
   {
    "duration": 4,
    "start_time": "2025-04-11T15:37:40.962Z"
   },
   {
    "duration": 577626,
    "start_time": "2025-04-11T15:37:40.967Z"
   },
   {
    "duration": 2,
    "start_time": "2025-04-11T15:47:18.595Z"
   },
   {
    "duration": 7256,
    "start_time": "2025-04-11T15:47:18.598Z"
   },
   {
    "duration": 3,
    "start_time": "2025-04-11T15:47:25.855Z"
   },
   {
    "duration": 49,
    "start_time": "2025-04-11T15:47:25.859Z"
   },
   {
    "duration": 673,
    "start_time": "2025-04-11T15:47:25.910Z"
   },
   {
    "duration": 10,
    "start_time": "2025-04-11T15:47:26.584Z"
   },
   {
    "duration": 7,
    "start_time": "2025-04-11T15:47:26.596Z"
   },
   {
    "duration": 70,
    "start_time": "2025-04-11T15:47:26.606Z"
   },
   {
    "duration": 0,
    "start_time": "2025-04-11T15:47:26.677Z"
   },
   {
    "duration": 0,
    "start_time": "2025-04-11T15:47:26.679Z"
   },
   {
    "duration": 0,
    "start_time": "2025-04-11T15:47:26.680Z"
   },
   {
    "duration": 0,
    "start_time": "2025-04-11T15:47:26.681Z"
   },
   {
    "duration": 0,
    "start_time": "2025-04-11T15:47:26.683Z"
   },
   {
    "duration": 0,
    "start_time": "2025-04-11T15:47:26.684Z"
   },
   {
    "duration": 0,
    "start_time": "2025-04-11T15:47:26.685Z"
   },
   {
    "duration": 0,
    "start_time": "2025-04-11T15:47:26.687Z"
   },
   {
    "duration": 0,
    "start_time": "2025-04-11T15:47:26.688Z"
   },
   {
    "duration": 0,
    "start_time": "2025-04-11T15:47:26.690Z"
   },
   {
    "duration": 0,
    "start_time": "2025-04-11T15:47:26.691Z"
   },
   {
    "duration": 0,
    "start_time": "2025-04-11T15:47:26.692Z"
   },
   {
    "duration": 0,
    "start_time": "2025-04-11T15:47:26.693Z"
   },
   {
    "duration": 0,
    "start_time": "2025-04-11T15:47:26.694Z"
   },
   {
    "duration": 47,
    "start_time": "2025-04-12T09:53:40.357Z"
   },
   {
    "duration": 4813,
    "start_time": "2025-04-12T09:55:57.669Z"
   },
   {
    "duration": 102,
    "start_time": "2025-04-12T09:56:07.448Z"
   },
   {
    "duration": 114,
    "start_time": "2025-04-12T09:56:17.090Z"
   },
   {
    "duration": 2629,
    "start_time": "2025-04-12T09:57:58.370Z"
   },
   {
    "duration": 15,
    "start_time": "2025-04-12T09:58:15.718Z"
   },
   {
    "duration": 9,
    "start_time": "2025-04-12T09:58:29.539Z"
   },
   {
    "duration": 66,
    "start_time": "2025-04-12T09:58:39.497Z"
   },
   {
    "duration": 3979,
    "start_time": "2025-04-12T09:59:51.063Z"
   },
   {
    "duration": 3,
    "start_time": "2025-04-12T09:59:55.045Z"
   },
   {
    "duration": 117,
    "start_time": "2025-04-12T09:59:55.050Z"
   },
   {
    "duration": 0,
    "start_time": "2025-04-12T09:59:55.170Z"
   },
   {
    "duration": 0,
    "start_time": "2025-04-12T09:59:55.171Z"
   },
   {
    "duration": 0,
    "start_time": "2025-04-12T09:59:55.176Z"
   },
   {
    "duration": 0,
    "start_time": "2025-04-12T09:59:55.177Z"
   },
   {
    "duration": 0,
    "start_time": "2025-04-12T09:59:55.178Z"
   },
   {
    "duration": 0,
    "start_time": "2025-04-12T09:59:55.179Z"
   },
   {
    "duration": 0,
    "start_time": "2025-04-12T09:59:55.180Z"
   },
   {
    "duration": 0,
    "start_time": "2025-04-12T09:59:55.181Z"
   },
   {
    "duration": 0,
    "start_time": "2025-04-12T09:59:55.182Z"
   },
   {
    "duration": 0,
    "start_time": "2025-04-12T09:59:55.183Z"
   },
   {
    "duration": 0,
    "start_time": "2025-04-12T09:59:55.184Z"
   },
   {
    "duration": 0,
    "start_time": "2025-04-12T09:59:55.185Z"
   },
   {
    "duration": 0,
    "start_time": "2025-04-12T09:59:55.186Z"
   },
   {
    "duration": 0,
    "start_time": "2025-04-12T09:59:55.187Z"
   },
   {
    "duration": 0,
    "start_time": "2025-04-12T09:59:55.188Z"
   },
   {
    "duration": 0,
    "start_time": "2025-04-12T09:59:55.189Z"
   },
   {
    "duration": 0,
    "start_time": "2025-04-12T09:59:55.190Z"
   },
   {
    "duration": 0,
    "start_time": "2025-04-12T09:59:55.191Z"
   },
   {
    "duration": 0,
    "start_time": "2025-04-12T09:59:55.192Z"
   },
   {
    "duration": 0,
    "start_time": "2025-04-12T09:59:55.193Z"
   },
   {
    "duration": 0,
    "start_time": "2025-04-12T09:59:55.194Z"
   },
   {
    "duration": 0,
    "start_time": "2025-04-12T09:59:55.196Z"
   },
   {
    "duration": 0,
    "start_time": "2025-04-12T09:59:55.196Z"
   },
   {
    "duration": 0,
    "start_time": "2025-04-12T09:59:55.197Z"
   },
   {
    "duration": 0,
    "start_time": "2025-04-12T09:59:55.198Z"
   },
   {
    "duration": 0,
    "start_time": "2025-04-12T09:59:55.199Z"
   },
   {
    "duration": 0,
    "start_time": "2025-04-12T09:59:55.200Z"
   },
   {
    "duration": 0,
    "start_time": "2025-04-12T09:59:55.201Z"
   },
   {
    "duration": 0,
    "start_time": "2025-04-12T09:59:55.202Z"
   },
   {
    "duration": 0,
    "start_time": "2025-04-12T09:59:55.203Z"
   },
   {
    "duration": 0,
    "start_time": "2025-04-12T09:59:55.204Z"
   },
   {
    "duration": 0,
    "start_time": "2025-04-12T09:59:55.205Z"
   },
   {
    "duration": 0,
    "start_time": "2025-04-12T09:59:55.206Z"
   },
   {
    "duration": 0,
    "start_time": "2025-04-12T09:59:55.207Z"
   },
   {
    "duration": 0,
    "start_time": "2025-04-12T09:59:55.208Z"
   },
   {
    "duration": 0,
    "start_time": "2025-04-12T09:59:55.209Z"
   },
   {
    "duration": 0,
    "start_time": "2025-04-12T09:59:55.210Z"
   },
   {
    "duration": 0,
    "start_time": "2025-04-12T09:59:55.211Z"
   },
   {
    "duration": 0,
    "start_time": "2025-04-12T09:59:55.276Z"
   },
   {
    "duration": 0,
    "start_time": "2025-04-12T09:59:55.277Z"
   },
   {
    "duration": 0,
    "start_time": "2025-04-12T09:59:55.278Z"
   },
   {
    "duration": 0,
    "start_time": "2025-04-12T09:59:55.280Z"
   },
   {
    "duration": 3944,
    "start_time": "2025-04-12T10:00:38.820Z"
   },
   {
    "duration": 2,
    "start_time": "2025-04-12T10:00:42.766Z"
   },
   {
    "duration": 2510,
    "start_time": "2025-04-12T10:00:42.770Z"
   },
   {
    "duration": 13,
    "start_time": "2025-04-12T10:00:45.282Z"
   },
   {
    "duration": 51,
    "start_time": "2025-04-12T10:00:45.296Z"
   },
   {
    "duration": 2,
    "start_time": "2025-04-12T10:00:45.348Z"
   },
   {
    "duration": 20,
    "start_time": "2025-04-12T10:00:45.352Z"
   },
   {
    "duration": 1307,
    "start_time": "2025-04-12T10:00:45.374Z"
   },
   {
    "duration": 10,
    "start_time": "2025-04-12T10:00:46.683Z"
   },
   {
    "duration": 4,
    "start_time": "2025-04-12T10:00:46.695Z"
   },
   {
    "duration": 4817,
    "start_time": "2025-04-12T10:00:46.701Z"
   },
   {
    "duration": 4,
    "start_time": "2025-04-12T10:00:51.520Z"
   },
   {
    "duration": 34,
    "start_time": "2025-04-12T10:00:51.525Z"
   },
   {
    "duration": 42,
    "start_time": "2025-04-12T10:00:51.563Z"
   },
   {
    "duration": 3640,
    "start_time": "2025-04-12T10:00:51.606Z"
   },
   {
    "duration": 164,
    "start_time": "2025-04-12T10:00:55.247Z"
   },
   {
    "duration": 3,
    "start_time": "2025-04-12T10:00:55.412Z"
   },
   {
    "duration": 10,
    "start_time": "2025-04-12T10:00:55.416Z"
   },
   {
    "duration": 12,
    "start_time": "2025-04-12T10:00:55.428Z"
   },
   {
    "duration": 30,
    "start_time": "2025-04-12T10:00:55.442Z"
   },
   {
    "duration": 562618,
    "start_time": "2025-04-12T10:00:55.473Z"
   },
   {
    "duration": 3,
    "start_time": "2025-04-12T10:10:18.092Z"
   },
   {
    "duration": 13,
    "start_time": "2025-04-12T10:10:18.096Z"
   },
   {
    "duration": 10,
    "start_time": "2025-04-12T10:10:18.111Z"
   },
   {
    "duration": 3,
    "start_time": "2025-04-12T10:10:18.122Z"
   },
   {
    "duration": 7,
    "start_time": "2025-04-12T10:10:18.127Z"
   },
   {
    "duration": 10,
    "start_time": "2025-04-12T10:10:18.135Z"
   },
   {
    "duration": 35,
    "start_time": "2025-04-12T10:10:18.146Z"
   },
   {
    "duration": 83,
    "start_time": "2025-04-12T10:10:18.182Z"
   },
   {
    "duration": 0,
    "start_time": "2025-04-12T10:10:18.266Z"
   },
   {
    "duration": 0,
    "start_time": "2025-04-12T10:10:18.268Z"
   },
   {
    "duration": 0,
    "start_time": "2025-04-12T10:10:18.268Z"
   },
   {
    "duration": 0,
    "start_time": "2025-04-12T10:10:18.269Z"
   },
   {
    "duration": 0,
    "start_time": "2025-04-12T10:10:18.270Z"
   },
   {
    "duration": 0,
    "start_time": "2025-04-12T10:10:18.271Z"
   },
   {
    "duration": 0,
    "start_time": "2025-04-12T10:10:18.273Z"
   },
   {
    "duration": 0,
    "start_time": "2025-04-12T10:10:18.274Z"
   },
   {
    "duration": 0,
    "start_time": "2025-04-12T10:10:18.275Z"
   },
   {
    "duration": 0,
    "start_time": "2025-04-12T10:10:18.276Z"
   },
   {
    "duration": 0,
    "start_time": "2025-04-12T10:10:18.276Z"
   },
   {
    "duration": 0,
    "start_time": "2025-04-12T10:10:18.277Z"
   },
   {
    "duration": 0,
    "start_time": "2025-04-12T10:10:18.279Z"
   },
   {
    "duration": 0,
    "start_time": "2025-04-12T10:10:18.280Z"
   },
   {
    "duration": 0,
    "start_time": "2025-04-12T10:10:18.281Z"
   },
   {
    "duration": 84,
    "start_time": "2025-04-12T10:11:35.772Z"
   },
   {
    "duration": 73,
    "start_time": "2025-04-12T10:19:17.788Z"
   },
   {
    "duration": 51,
    "start_time": "2025-04-12T10:19:54.256Z"
   },
   {
    "duration": 895,
    "start_time": "2025-04-12T10:20:01.918Z"
   },
   {
    "duration": 45,
    "start_time": "2025-04-12T10:20:04.874Z"
   },
   {
    "duration": 3001,
    "start_time": "2025-04-12T10:20:16.092Z"
   },
   {
    "duration": 2915,
    "start_time": "2025-04-12T10:20:23.721Z"
   },
   {
    "duration": 69,
    "start_time": "2025-04-12T10:20:38.487Z"
   },
   {
    "duration": 13,
    "start_time": "2025-04-12T10:21:31.410Z"
   },
   {
    "duration": 4,
    "start_time": "2025-04-12T10:21:37.069Z"
   },
   {
    "duration": 5,
    "start_time": "2025-04-12T10:21:39.155Z"
   },
   {
    "duration": 2,
    "start_time": "2025-04-12T10:21:52.635Z"
   },
   {
    "duration": 53,
    "start_time": "2025-04-12T10:22:54.726Z"
   },
   {
    "duration": 4030,
    "start_time": "2025-04-12T10:23:00.015Z"
   },
   {
    "duration": 2742,
    "start_time": "2025-04-12T10:23:09.018Z"
   },
   {
    "duration": 3,
    "start_time": "2025-04-12T10:23:18.346Z"
   },
   {
    "duration": 3946,
    "start_time": "2025-04-12T10:24:21.827Z"
   },
   {
    "duration": 3032,
    "start_time": "2025-04-12T10:24:30.372Z"
   },
   {
    "duration": 48,
    "start_time": "2025-04-12T10:25:45.328Z"
   },
   {
    "duration": 4042,
    "start_time": "2025-04-12T10:25:48.218Z"
   },
   {
    "duration": 2877,
    "start_time": "2025-04-12T10:26:16.866Z"
   },
   {
    "duration": 4440,
    "start_time": "2025-04-12T11:14:07.470Z"
   },
   {
    "duration": 2904,
    "start_time": "2025-04-12T11:14:16.003Z"
   },
   {
    "duration": 4067,
    "start_time": "2025-04-12T11:21:08.097Z"
   },
   {
    "duration": 2,
    "start_time": "2025-04-12T11:21:12.166Z"
   },
   {
    "duration": 4693,
    "start_time": "2025-04-12T11:30:06.245Z"
   },
   {
    "duration": 3,
    "start_time": "2025-04-12T11:30:10.940Z"
   },
   {
    "duration": 2485,
    "start_time": "2025-04-12T11:30:10.945Z"
   },
   {
    "duration": 14,
    "start_time": "2025-04-12T11:30:13.433Z"
   },
   {
    "duration": 54,
    "start_time": "2025-04-12T11:30:13.449Z"
   },
   {
    "duration": 3,
    "start_time": "2025-04-12T11:30:13.505Z"
   },
   {
    "duration": 7,
    "start_time": "2025-04-12T11:30:13.510Z"
   },
   {
    "duration": 1236,
    "start_time": "2025-04-12T11:30:13.518Z"
   },
   {
    "duration": 24,
    "start_time": "2025-04-12T11:30:14.756Z"
   },
   {
    "duration": 5,
    "start_time": "2025-04-12T11:30:14.782Z"
   },
   {
    "duration": 4921,
    "start_time": "2025-04-12T11:30:14.789Z"
   },
   {
    "duration": 6,
    "start_time": "2025-04-12T11:30:19.712Z"
   },
   {
    "duration": 12,
    "start_time": "2025-04-12T11:30:19.719Z"
   },
   {
    "duration": 12,
    "start_time": "2025-04-12T11:30:19.733Z"
   },
   {
    "duration": 3852,
    "start_time": "2025-04-12T11:30:19.748Z"
   },
   {
    "duration": 5,
    "start_time": "2025-04-12T11:30:23.602Z"
   },
   {
    "duration": 42,
    "start_time": "2025-04-12T11:30:23.608Z"
   },
   {
    "duration": 6,
    "start_time": "2025-04-12T11:30:23.652Z"
   },
   {
    "duration": 3,
    "start_time": "2025-04-12T11:30:23.659Z"
   },
   {
    "duration": 8,
    "start_time": "2025-04-12T11:30:23.663Z"
   },
   {
    "duration": 576664,
    "start_time": "2025-04-12T11:30:23.672Z"
   },
   {
    "duration": 2,
    "start_time": "2025-04-12T11:40:00.338Z"
   },
   {
    "duration": 126,
    "start_time": "2025-04-12T11:40:00.342Z"
   },
   {
    "duration": 112,
    "start_time": "2025-04-12T11:40:00.470Z"
   },
   {
    "duration": 169,
    "start_time": "2025-04-12T11:40:00.583Z"
   },
   {
    "duration": 41,
    "start_time": "2025-04-12T11:40:00.754Z"
   },
   {
    "duration": 39,
    "start_time": "2025-04-12T11:40:00.797Z"
   },
   {
    "duration": 13,
    "start_time": "2025-04-12T11:40:00.840Z"
   },
   {
    "duration": 50,
    "start_time": "2025-04-12T11:48:59.164Z"
   },
   {
    "duration": 7,
    "start_time": "2025-04-12T11:53:40.257Z"
   },
   {
    "duration": 5267,
    "start_time": "2025-04-14T08:34:00.518Z"
   },
   {
    "duration": 112,
    "start_time": "2025-04-14T08:38:56.390Z"
   },
   {
    "duration": 84,
    "start_time": "2025-04-14T08:39:09.902Z"
   },
   {
    "duration": 167,
    "start_time": "2025-04-14T08:39:15.169Z"
   },
   {
    "duration": 1097,
    "start_time": "2025-04-14T08:40:31.008Z"
   },
   {
    "duration": 15,
    "start_time": "2025-04-14T08:40:40.360Z"
   },
   {
    "duration": 8,
    "start_time": "2025-04-14T08:40:46.759Z"
   },
   {
    "duration": 1034,
    "start_time": "2025-04-14T08:41:15.413Z"
   },
   {
    "duration": 7,
    "start_time": "2025-04-14T08:41:20.893Z"
   },
   {
    "duration": 34,
    "start_time": "2025-04-14T08:41:26.809Z"
   },
   {
    "duration": 4,
    "start_time": "2025-04-14T08:53:58.134Z"
   },
   {
    "duration": 821,
    "start_time": "2025-04-14T08:56:00.385Z"
   },
   {
    "duration": 3,
    "start_time": "2025-04-14T08:56:18.740Z"
   },
   {
    "duration": 223,
    "start_time": "2025-04-14T08:56:22.337Z"
   },
   {
    "duration": 194,
    "start_time": "2025-04-14T08:56:38.156Z"
   },
   {
    "duration": 9,
    "start_time": "2025-04-14T08:56:52.832Z"
   },
   {
    "duration": 98,
    "start_time": "2025-04-14T08:58:44.327Z"
   },
   {
    "duration": 8,
    "start_time": "2025-04-14T08:58:47.150Z"
   },
   {
    "duration": 167,
    "start_time": "2025-04-14T08:58:51.564Z"
   },
   {
    "duration": 213,
    "start_time": "2025-04-14T08:58:56.394Z"
   },
   {
    "duration": 15,
    "start_time": "2025-04-14T08:59:16.340Z"
   },
   {
    "duration": 12,
    "start_time": "2025-04-14T09:01:02.405Z"
   },
   {
    "duration": 12,
    "start_time": "2025-04-14T09:01:11.697Z"
   },
   {
    "duration": 9,
    "start_time": "2025-04-14T09:01:38.091Z"
   },
   {
    "duration": 9,
    "start_time": "2025-04-14T09:02:07.424Z"
   },
   {
    "duration": 15,
    "start_time": "2025-04-14T09:02:15.226Z"
   },
   {
    "duration": 5,
    "start_time": "2025-04-14T09:16:15.633Z"
   },
   {
    "duration": 9,
    "start_time": "2025-04-14T09:16:26.150Z"
   },
   {
    "duration": 1666,
    "start_time": "2025-04-14T09:18:39.257Z"
   },
   {
    "duration": 304,
    "start_time": "2025-04-14T09:20:49.245Z"
   },
   {
    "duration": 3,
    "start_time": "2025-04-14T09:59:07.754Z"
   },
   {
    "duration": 4,
    "start_time": "2025-04-14T09:59:53.615Z"
   },
   {
    "duration": 1394,
    "start_time": "2025-04-14T10:02:16.453Z"
   },
   {
    "duration": 6,
    "start_time": "2025-04-14T10:06:40.980Z"
   },
   {
    "duration": 5,
    "start_time": "2025-04-14T10:06:46.464Z"
   },
   {
    "duration": 4,
    "start_time": "2025-04-14T10:07:41.618Z"
   },
   {
    "duration": 5,
    "start_time": "2025-04-14T10:07:45.225Z"
   },
   {
    "duration": 3,
    "start_time": "2025-04-14T10:08:01.065Z"
   },
   {
    "duration": 5,
    "start_time": "2025-04-14T10:11:06.136Z"
   },
   {
    "duration": 5278,
    "start_time": "2025-04-14T10:11:13.895Z"
   },
   {
    "duration": 5,
    "start_time": "2025-04-14T10:11:43.099Z"
   },
   {
    "duration": 4,
    "start_time": "2025-04-14T10:11:50.209Z"
   },
   {
    "duration": 4192,
    "start_time": "2025-04-14T10:18:26.334Z"
   },
   {
    "duration": 4,
    "start_time": "2025-04-14T10:19:13.869Z"
   },
   {
    "duration": 668274,
    "start_time": "2025-04-14T10:20:47.674Z"
   },
   {
    "duration": 7,
    "start_time": "2025-04-14T12:15:10.981Z"
   },
   {
    "duration": 4,
    "start_time": "2025-04-14T12:25:31.879Z"
   },
   {
    "duration": 19,
    "start_time": "2025-04-14T12:25:40.197Z"
   },
   {
    "duration": 297,
    "start_time": "2025-04-14T12:25:46.734Z"
   },
   {
    "duration": 69,
    "start_time": "2025-04-14T12:28:14.128Z"
   },
   {
    "duration": 88,
    "start_time": "2025-04-14T13:20:23.503Z"
   },
   {
    "duration": 122,
    "start_time": "2025-04-14T13:27:16.337Z"
   },
   {
    "duration": 12,
    "start_time": "2025-04-14T13:27:22.039Z"
   },
   {
    "duration": 11,
    "start_time": "2025-04-14T13:30:08.943Z"
   },
   {
    "duration": 3088,
    "start_time": "2025-04-14T13:30:15.349Z"
   },
   {
    "duration": 5,
    "start_time": "2025-04-14T13:30:31.559Z"
   },
   {
    "duration": 7409,
    "start_time": "2025-04-14T13:32:59.537Z"
   },
   {
    "duration": 77,
    "start_time": "2025-04-14T14:20:32.837Z"
   },
   {
    "duration": 87,
    "start_time": "2025-04-14T14:20:59.188Z"
   },
   {
    "duration": 1320465,
    "start_time": "2025-04-14T14:21:12.786Z"
   },
   {
    "duration": 3,
    "start_time": "2025-04-14T14:45:05.387Z"
   },
   {
    "duration": 17,
    "start_time": "2025-04-14T14:45:08.008Z"
   },
   {
    "duration": 14,
    "start_time": "2025-04-14T14:45:18.165Z"
   },
   {
    "duration": 25,
    "start_time": "2025-04-14T14:46:12.853Z"
   },
   {
    "duration": 14,
    "start_time": "2025-04-14T14:46:56.537Z"
   },
   {
    "duration": 76,
    "start_time": "2025-04-14T14:48:06.385Z"
   },
   {
    "duration": 13,
    "start_time": "2025-04-14T14:49:42.263Z"
   },
   {
    "duration": 48747,
    "start_time": "2025-04-14T14:50:03.178Z"
   },
   {
    "duration": 1383930,
    "start_time": "2025-04-14T14:51:21.931Z"
   },
   {
    "duration": 14,
    "start_time": "2025-04-14T15:17:59.608Z"
   },
   {
    "duration": 86,
    "start_time": "2025-04-14T15:19:30.492Z"
   },
   {
    "duration": 1876130,
    "start_time": "2025-04-14T15:19:52.510Z"
   },
   {
    "duration": 14,
    "start_time": "2025-04-14T15:54:28.561Z"
   },
   {
    "duration": 88,
    "start_time": "2025-04-14T16:00:07.757Z"
   },
   {
    "duration": 16,
    "start_time": "2025-04-14T16:00:16.504Z"
   },
   {
    "duration": 0,
    "start_time": "2025-04-14T16:04:41.359Z"
   },
   {
    "duration": 1756485,
    "start_time": "2025-04-14T16:04:58.574Z"
   },
   {
    "duration": 4456,
    "start_time": "2025-04-14T17:08:42.385Z"
   },
   {
    "duration": 1702690,
    "start_time": "2025-04-14T17:08:55.768Z"
   },
   {
    "duration": 14,
    "start_time": "2025-04-14T17:43:29.926Z"
   },
   {
    "duration": 29,
    "start_time": "2025-04-14T17:45:10.092Z"
   },
   {
    "duration": 4520,
    "start_time": "2025-04-14T17:45:29.246Z"
   },
   {
    "duration": 836859,
    "start_time": "2025-04-14T17:45:38.051Z"
   },
   {
    "duration": 15,
    "start_time": "2025-04-14T18:05:25.876Z"
   },
   {
    "duration": 17272,
    "start_time": "2025-04-14T18:06:42.027Z"
   },
   {
    "duration": 3753165,
    "start_time": "2025-04-14T18:07:06.364Z"
   },
   {
    "duration": 15,
    "start_time": "2025-04-14T20:08:27.174Z"
   },
   {
    "duration": 978,
    "start_time": "2025-04-15T03:54:32.573Z"
   },
   {
    "duration": 4355,
    "start_time": "2025-04-15T03:54:58.652Z"
   },
   {
    "duration": 916,
    "start_time": "2025-04-15T03:55:03.009Z"
   },
   {
    "duration": 15,
    "start_time": "2025-04-15T03:55:03.927Z"
   },
   {
    "duration": 46,
    "start_time": "2025-04-15T03:55:03.943Z"
   },
   {
    "duration": 68,
    "start_time": "2025-04-15T03:55:03.990Z"
   },
   {
    "duration": 202,
    "start_time": "2025-04-15T03:55:04.060Z"
   },
   {
    "duration": 14,
    "start_time": "2025-04-15T03:55:04.264Z"
   },
   {
    "duration": 287,
    "start_time": "2025-04-15T03:55:04.280Z"
   },
   {
    "duration": 6,
    "start_time": "2025-04-15T03:55:04.568Z"
   },
   {
    "duration": 4,
    "start_time": "2025-04-15T03:55:04.576Z"
   },
   {
    "duration": 13,
    "start_time": "2025-04-15T03:55:04.581Z"
   },
   {
    "duration": 1270,
    "start_time": "2025-04-15T03:55:04.595Z"
   },
   {
    "duration": 13,
    "start_time": "2025-04-15T03:55:05.867Z"
   },
   {
    "duration": 79,
    "start_time": "2025-04-15T03:55:05.882Z"
   },
   {
    "duration": 5,
    "start_time": "2025-04-15T03:55:05.963Z"
   },
   {
    "duration": 4513,
    "start_time": "2025-04-15T03:55:05.969Z"
   },
   {
    "duration": 3,
    "start_time": "2025-04-15T03:55:10.484Z"
   },
   {
    "duration": 13,
    "start_time": "2025-04-15T03:55:10.489Z"
   },
   {
    "duration": 3423,
    "start_time": "2025-04-15T03:55:10.503Z"
   },
   {
    "duration": 529778,
    "start_time": "2025-04-15T03:55:13.935Z"
   },
   {
    "duration": 6213,
    "start_time": "2025-04-15T04:04:03.715Z"
   },
   {
    "duration": 116,
    "start_time": "2025-04-15T04:04:09.930Z"
   },
   {
    "duration": 612,
    "start_time": "2025-04-15T04:04:10.048Z"
   },
   {
    "duration": 6156,
    "start_time": "2025-04-15T04:04:10.662Z"
   },
   {
    "duration": 14621,
    "start_time": "2025-04-15T04:04:16.820Z"
   },
   {
    "duration": 1756879,
    "start_time": "2025-04-15T04:04:31.443Z"
   },
   {
    "duration": 12,
    "start_time": "2025-04-15T04:33:48.323Z"
   },
   {
    "duration": 13,
    "start_time": "2025-04-15T04:33:48.339Z"
   },
   {
    "duration": 6237,
    "start_time": "2025-04-15T04:33:48.354Z"
   },
   {
    "duration": 145,
    "start_time": "2025-04-15T04:33:54.592Z"
   },
   {
    "duration": 0,
    "start_time": "2025-04-15T04:33:54.739Z"
   },
   {
    "duration": 0,
    "start_time": "2025-04-15T04:33:54.740Z"
   },
   {
    "duration": 0,
    "start_time": "2025-04-15T04:33:54.741Z"
   },
   {
    "duration": 0,
    "start_time": "2025-04-15T04:33:54.742Z"
   },
   {
    "duration": 0,
    "start_time": "2025-04-15T04:33:54.743Z"
   },
   {
    "duration": 0,
    "start_time": "2025-04-15T04:33:54.744Z"
   },
   {
    "duration": 0,
    "start_time": "2025-04-15T04:33:54.745Z"
   },
   {
    "duration": 0,
    "start_time": "2025-04-15T04:33:54.747Z"
   },
   {
    "duration": 0,
    "start_time": "2025-04-15T04:33:54.748Z"
   },
   {
    "duration": 0,
    "start_time": "2025-04-15T04:33:54.749Z"
   },
   {
    "duration": 35,
    "start_time": "2025-04-15T05:27:50.398Z"
   },
   {
    "duration": 37,
    "start_time": "2025-04-15T05:29:43.080Z"
   },
   {
    "duration": 10,
    "start_time": "2025-04-15T05:31:26.486Z"
   },
   {
    "duration": 4,
    "start_time": "2025-04-15T05:31:36.876Z"
   },
   {
    "duration": 66954,
    "start_time": "2025-04-15T05:35:14.019Z"
   },
   {
    "duration": 189336,
    "start_time": "2025-04-15T05:36:59.081Z"
   },
   {
    "duration": 13,
    "start_time": "2025-04-15T05:40:23.275Z"
   },
   {
    "duration": 10,
    "start_time": "2025-04-15T05:41:31.033Z"
   },
   {
    "duration": 3,
    "start_time": "2025-04-15T05:41:43.712Z"
   },
   {
    "duration": 12,
    "start_time": "2025-04-15T05:41:45.949Z"
   },
   {
    "duration": 11,
    "start_time": "2025-04-15T05:41:52.358Z"
   },
   {
    "duration": 11,
    "start_time": "2025-04-15T05:41:57.630Z"
   },
   {
    "duration": 4,
    "start_time": "2025-04-15T05:42:27.912Z"
   },
   {
    "duration": 46266,
    "start_time": "2025-04-15T05:43:13.735Z"
   },
   {
    "duration": 13,
    "start_time": "2025-04-15T05:44:36.052Z"
   },
   {
    "duration": 14813,
    "start_time": "2025-04-15T05:45:46.137Z"
   },
   {
    "duration": 144276,
    "start_time": "2025-04-15T05:46:23.929Z"
   },
   {
    "duration": 13,
    "start_time": "2025-04-15T05:48:54.634Z"
   },
   {
    "duration": 31000,
    "start_time": "2025-04-15T05:49:39.214Z"
   },
   {
    "duration": 256549,
    "start_time": "2025-04-15T05:50:24.411Z"
   },
   {
    "duration": 12,
    "start_time": "2025-04-15T05:57:02.619Z"
   },
   {
    "duration": 15168,
    "start_time": "2025-04-15T05:57:24.274Z"
   },
   {
    "duration": 135235,
    "start_time": "2025-04-15T05:57:48.551Z"
   },
   {
    "duration": 15,
    "start_time": "2025-04-15T07:42:39.027Z"
   },
   {
    "duration": 14,
    "start_time": "2025-04-15T08:40:05.772Z"
   },
   {
    "duration": 1160,
    "start_time": "2025-04-15T09:02:17.605Z"
   },
   {
    "duration": 1109,
    "start_time": "2025-04-15T09:03:10.859Z"
   },
   {
    "duration": 1238,
    "start_time": "2025-04-15T09:10:21.748Z"
   },
   {
    "duration": 8,
    "start_time": "2025-04-15T09:10:33.492Z"
   },
   {
    "duration": 3989,
    "start_time": "2025-04-15T09:11:03.769Z"
   },
   {
    "duration": 969,
    "start_time": "2025-04-15T09:11:07.760Z"
   },
   {
    "duration": 13,
    "start_time": "2025-04-15T09:11:08.730Z"
   },
   {
    "duration": 38,
    "start_time": "2025-04-15T09:11:08.746Z"
   },
   {
    "duration": 85,
    "start_time": "2025-04-15T09:11:08.786Z"
   },
   {
    "duration": 298,
    "start_time": "2025-04-15T09:11:08.873Z"
   },
   {
    "duration": 64,
    "start_time": "2025-04-15T09:11:09.173Z"
   },
   {
    "duration": 536,
    "start_time": "2025-04-15T09:11:09.238Z"
   },
   {
    "duration": 6,
    "start_time": "2025-04-15T09:11:09.776Z"
   },
   {
    "duration": 2,
    "start_time": "2025-04-15T09:11:09.836Z"
   },
   {
    "duration": 4,
    "start_time": "2025-04-15T09:11:09.840Z"
   },
   {
    "duration": 1644,
    "start_time": "2025-04-15T09:11:09.845Z"
   },
   {
    "duration": 10,
    "start_time": "2025-04-15T09:11:11.492Z"
   },
   {
    "duration": 65,
    "start_time": "2025-04-15T09:11:11.504Z"
   },
   {
    "duration": 5,
    "start_time": "2025-04-15T09:11:11.571Z"
   },
   {
    "duration": 4493,
    "start_time": "2025-04-15T09:11:11.578Z"
   },
   {
    "duration": 5,
    "start_time": "2025-04-15T09:11:16.072Z"
   },
   {
    "duration": 5,
    "start_time": "2025-04-15T09:11:16.078Z"
   },
   {
    "duration": 3517,
    "start_time": "2025-04-15T09:11:16.085Z"
   },
   {
    "duration": 540982,
    "start_time": "2025-04-15T09:11:19.604Z"
   },
   {
    "duration": 6539,
    "start_time": "2025-04-15T09:20:20.588Z"
   },
   {
    "duration": 116,
    "start_time": "2025-04-15T09:20:27.129Z"
   },
   {
    "duration": 687,
    "start_time": "2025-04-15T09:20:27.247Z"
   },
   {
    "duration": 6184,
    "start_time": "2025-04-15T09:20:27.935Z"
   },
   {
    "duration": 15082,
    "start_time": "2025-04-15T09:20:34.120Z"
   },
   {
    "duration": 1839036,
    "start_time": "2025-04-15T09:20:49.204Z"
   },
   {
    "duration": 4,
    "start_time": "2025-04-15T09:51:28.242Z"
   },
   {
    "duration": 12,
    "start_time": "2025-04-15T09:51:28.254Z"
   },
   {
    "duration": 5,
    "start_time": "2025-04-15T09:51:28.268Z"
   },
   {
    "duration": 8,
    "start_time": "2025-04-15T09:51:28.274Z"
   },
   {
    "duration": 164713,
    "start_time": "2025-04-15T09:51:28.283Z"
   },
   {
    "duration": 12,
    "start_time": "2025-04-15T09:54:12.998Z"
   },
   {
    "duration": 0,
    "start_time": "2025-04-15T10:08:55.324Z"
   },
   {
    "duration": 0,
    "start_time": "2025-04-15T10:08:55.325Z"
   },
   {
    "duration": 0,
    "start_time": "2025-04-15T10:08:55.326Z"
   },
   {
    "duration": 0,
    "start_time": "2025-04-15T10:08:55.327Z"
   },
   {
    "duration": 0,
    "start_time": "2025-04-15T10:08:55.335Z"
   },
   {
    "duration": 0,
    "start_time": "2025-04-15T10:08:55.336Z"
   },
   {
    "duration": 0,
    "start_time": "2025-04-15T10:08:55.337Z"
   },
   {
    "duration": 0,
    "start_time": "2025-04-15T10:08:55.338Z"
   },
   {
    "duration": 0,
    "start_time": "2025-04-15T10:08:55.339Z"
   },
   {
    "duration": 0,
    "start_time": "2025-04-15T10:08:55.339Z"
   },
   {
    "duration": 0,
    "start_time": "2025-04-15T10:08:55.340Z"
   },
   {
    "duration": 4471365,
    "start_time": "2025-04-15T10:09:03.370Z"
   },
   {
    "duration": 15,
    "start_time": "2025-04-15T11:24:03.924Z"
   },
   {
    "duration": 6812301,
    "start_time": "2025-04-15T11:33:06.481Z"
   },
   {
    "duration": 14,
    "start_time": "2025-04-15T13:27:03.368Z"
   },
   {
    "duration": 3133,
    "start_time": "2025-04-15T13:29:52.203Z"
   },
   {
    "duration": 19,
    "start_time": "2025-04-15T13:30:49.961Z"
   },
   {
    "duration": 52,
    "start_time": "2025-04-15T13:31:50.072Z"
   },
   {
    "duration": 50,
    "start_time": "2025-04-15T13:37:22.403Z"
   },
   {
    "duration": 167,
    "start_time": "2025-04-15T13:38:38.166Z"
   },
   {
    "duration": 12,
    "start_time": "2025-04-15T13:48:23.328Z"
   },
   {
    "duration": 45,
    "start_time": "2025-04-15T13:48:41.246Z"
   },
   {
    "duration": 41,
    "start_time": "2025-04-15T13:48:46.566Z"
   },
   {
    "duration": 44,
    "start_time": "2025-04-15T13:49:04.926Z"
   },
   {
    "duration": 51,
    "start_time": "2025-04-15T13:49:36.062Z"
   },
   {
    "duration": 73,
    "start_time": "2025-04-15T13:53:27.637Z"
   },
   {
    "duration": 800,
    "start_time": "2025-04-15T13:53:52.687Z"
   },
   {
    "duration": 786,
    "start_time": "2025-04-15T13:56:13.503Z"
   },
   {
    "duration": 46,
    "start_time": "2025-04-15T14:06:38.500Z"
   },
   {
    "duration": 45,
    "start_time": "2025-04-15T14:06:48.128Z"
   },
   {
    "duration": 7,
    "start_time": "2025-04-15T14:29:15.531Z"
   },
   {
    "duration": 3859,
    "start_time": "2025-04-15T14:29:24.382Z"
   },
   {
    "duration": 924,
    "start_time": "2025-04-15T14:29:28.244Z"
   },
   {
    "duration": 15,
    "start_time": "2025-04-15T14:29:29.169Z"
   },
   {
    "duration": 49,
    "start_time": "2025-04-15T14:29:29.187Z"
   },
   {
    "duration": 66,
    "start_time": "2025-04-15T14:29:29.239Z"
   },
   {
    "duration": 208,
    "start_time": "2025-04-15T14:29:29.306Z"
   },
   {
    "duration": 20,
    "start_time": "2025-04-15T14:29:29.516Z"
   },
   {
    "duration": 259,
    "start_time": "2025-04-15T14:29:29.538Z"
   },
   {
    "duration": 8,
    "start_time": "2025-04-15T14:29:29.799Z"
   },
   {
    "duration": 2,
    "start_time": "2025-04-15T14:29:29.809Z"
   },
   {
    "duration": 22,
    "start_time": "2025-04-15T14:29:29.813Z"
   },
   {
    "duration": 1241,
    "start_time": "2025-04-15T14:29:29.837Z"
   },
   {
    "duration": 11,
    "start_time": "2025-04-15T14:29:31.080Z"
   },
   {
    "duration": 18,
    "start_time": "2025-04-15T14:29:31.092Z"
   },
   {
    "duration": 18,
    "start_time": "2025-04-15T14:29:31.112Z"
   },
   {
    "duration": 4819,
    "start_time": "2025-04-15T14:29:31.132Z"
   },
   {
    "duration": 5,
    "start_time": "2025-04-15T14:29:35.953Z"
   },
   {
    "duration": 22,
    "start_time": "2025-04-15T14:29:35.960Z"
   },
   {
    "duration": 3712,
    "start_time": "2025-04-15T14:29:35.985Z"
   },
   {
    "duration": 4460,
    "start_time": "2025-04-15T14:39:52.641Z"
   },
   {
    "duration": 906,
    "start_time": "2025-04-15T14:39:57.103Z"
   },
   {
    "duration": 14,
    "start_time": "2025-04-15T14:39:58.010Z"
   },
   {
    "duration": 33,
    "start_time": "2025-04-15T14:39:58.035Z"
   },
   {
    "duration": 77,
    "start_time": "2025-04-15T14:39:58.070Z"
   },
   {
    "duration": 241,
    "start_time": "2025-04-15T14:39:58.149Z"
   },
   {
    "duration": 14,
    "start_time": "2025-04-15T14:39:58.391Z"
   },
   {
    "duration": 262,
    "start_time": "2025-04-15T14:39:58.406Z"
   },
   {
    "duration": 5,
    "start_time": "2025-04-15T14:39:58.670Z"
   },
   {
    "duration": 36,
    "start_time": "2025-04-15T14:39:58.677Z"
   },
   {
    "duration": 4,
    "start_time": "2025-04-15T14:39:58.714Z"
   },
   {
    "duration": 1197,
    "start_time": "2025-04-15T14:39:58.720Z"
   },
   {
    "duration": 18,
    "start_time": "2025-04-15T14:39:59.919Z"
   },
   {
    "duration": 4,
    "start_time": "2025-04-15T14:39:59.940Z"
   },
   {
    "duration": 13,
    "start_time": "2025-04-15T14:39:59.945Z"
   },
   {
    "duration": 4672,
    "start_time": "2025-04-15T14:39:59.960Z"
   },
   {
    "duration": 4,
    "start_time": "2025-04-15T14:40:04.636Z"
   },
   {
    "duration": 98,
    "start_time": "2025-04-15T14:40:04.642Z"
   },
   {
    "duration": 3619,
    "start_time": "2025-04-15T14:40:04.742Z"
   },
   {
    "duration": 4447,
    "start_time": "2025-04-15T14:40:58.019Z"
   },
   {
    "duration": 941,
    "start_time": "2025-04-15T14:41:02.469Z"
   },
   {
    "duration": 24,
    "start_time": "2025-04-15T14:41:03.412Z"
   },
   {
    "duration": 84,
    "start_time": "2025-04-15T14:41:03.439Z"
   },
   {
    "duration": 67,
    "start_time": "2025-04-15T14:41:03.524Z"
   },
   {
    "duration": 187,
    "start_time": "2025-04-15T14:41:03.593Z"
   },
   {
    "duration": 13,
    "start_time": "2025-04-15T14:41:03.782Z"
   },
   {
    "duration": 276,
    "start_time": "2025-04-15T14:41:03.797Z"
   },
   {
    "duration": 6,
    "start_time": "2025-04-15T14:41:04.075Z"
   },
   {
    "duration": 9,
    "start_time": "2025-04-15T14:41:04.083Z"
   },
   {
    "duration": 4,
    "start_time": "2025-04-15T14:41:04.094Z"
   },
   {
    "duration": 1289,
    "start_time": "2025-04-15T14:41:04.100Z"
   },
   {
    "duration": 9,
    "start_time": "2025-04-15T14:41:05.391Z"
   },
   {
    "duration": 72,
    "start_time": "2025-04-15T14:41:05.402Z"
   },
   {
    "duration": 11,
    "start_time": "2025-04-15T14:41:05.476Z"
   },
   {
    "duration": 4569,
    "start_time": "2025-04-15T14:41:05.488Z"
   },
   {
    "duration": 4,
    "start_time": "2025-04-15T14:41:10.058Z"
   },
   {
    "duration": 10,
    "start_time": "2025-04-15T14:41:10.064Z"
   },
   {
    "duration": 3405,
    "start_time": "2025-04-15T14:41:10.075Z"
   },
   {
    "duration": 3847,
    "start_time": "2025-04-15T14:55:13.301Z"
   },
   {
    "duration": 1320,
    "start_time": "2025-04-15T14:55:17.150Z"
   },
   {
    "duration": 64,
    "start_time": "2025-04-15T14:55:18.472Z"
   },
   {
    "duration": 35,
    "start_time": "2025-04-15T14:55:18.538Z"
   },
   {
    "duration": 173,
    "start_time": "2025-04-15T14:55:18.574Z"
   },
   {
    "duration": 311,
    "start_time": "2025-04-15T14:55:18.749Z"
   },
   {
    "duration": 14,
    "start_time": "2025-04-15T14:55:19.061Z"
   },
   {
    "duration": 263,
    "start_time": "2025-04-15T14:55:19.076Z"
   },
   {
    "duration": 5,
    "start_time": "2025-04-15T14:55:19.341Z"
   },
   {
    "duration": 9,
    "start_time": "2025-04-15T14:55:19.349Z"
   },
   {
    "duration": 4,
    "start_time": "2025-04-15T14:55:19.360Z"
   },
   {
    "duration": 1213,
    "start_time": "2025-04-15T14:55:19.366Z"
   },
   {
    "duration": 11,
    "start_time": "2025-04-15T14:55:20.582Z"
   },
   {
    "duration": 16,
    "start_time": "2025-04-15T14:55:20.595Z"
   },
   {
    "duration": 6,
    "start_time": "2025-04-15T14:55:20.613Z"
   },
   {
    "duration": 4408,
    "start_time": "2025-04-15T14:55:20.620Z"
   },
   {
    "duration": 4,
    "start_time": "2025-04-15T14:55:25.035Z"
   },
   {
    "duration": 27,
    "start_time": "2025-04-15T14:55:25.041Z"
   },
   {
    "duration": 3373,
    "start_time": "2025-04-15T14:55:25.070Z"
   },
   {
    "duration": 524409,
    "start_time": "2025-04-15T14:55:28.444Z"
   },
   {
    "duration": 114,
    "start_time": "2025-04-15T15:04:12.855Z"
   },
   {
    "duration": 6345,
    "start_time": "2025-04-15T15:04:12.971Z"
   },
   {
    "duration": 14852,
    "start_time": "2025-04-15T15:04:19.318Z"
   },
   {
    "duration": 1790169,
    "start_time": "2025-04-15T15:04:34.172Z"
   },
   {
    "duration": 3,
    "start_time": "2025-04-15T15:34:24.343Z"
   },
   {
    "duration": 141,
    "start_time": "2025-04-15T15:34:24.347Z"
   },
   {
    "duration": 2,
    "start_time": "2025-04-15T15:34:24.490Z"
   },
   {
    "duration": 136120,
    "start_time": "2025-04-15T15:34:24.496Z"
   },
   {
    "duration": 20,
    "start_time": "2025-04-15T15:36:40.618Z"
   },
   {
    "duration": 3,
    "start_time": "2025-04-15T15:36:40.640Z"
   },
   {
    "duration": 9,
    "start_time": "2025-04-15T15:36:40.644Z"
   },
   {
    "duration": 129,
    "start_time": "2025-04-15T15:36:40.655Z"
   },
   {
    "duration": 0,
    "start_time": "2025-04-15T15:36:40.786Z"
   },
   {
    "duration": 0,
    "start_time": "2025-04-15T15:36:40.787Z"
   },
   {
    "duration": 0,
    "start_time": "2025-04-15T15:36:40.788Z"
   },
   {
    "duration": 0,
    "start_time": "2025-04-15T15:36:40.789Z"
   },
   {
    "duration": 0,
    "start_time": "2025-04-15T15:36:40.790Z"
   },
   {
    "duration": 0,
    "start_time": "2025-04-15T15:36:40.791Z"
   },
   {
    "duration": 0,
    "start_time": "2025-04-15T15:36:40.792Z"
   },
   {
    "duration": 0,
    "start_time": "2025-04-15T15:36:40.792Z"
   },
   {
    "duration": 0,
    "start_time": "2025-04-15T15:36:40.793Z"
   },
   {
    "duration": 0,
    "start_time": "2025-04-15T15:36:40.794Z"
   },
   {
    "duration": 0,
    "start_time": "2025-04-15T15:36:40.795Z"
   },
   {
    "duration": 0,
    "start_time": "2025-04-15T15:36:40.796Z"
   },
   {
    "duration": 0,
    "start_time": "2025-04-15T15:36:40.797Z"
   },
   {
    "duration": 0,
    "start_time": "2025-04-15T15:36:40.799Z"
   },
   {
    "duration": 4038,
    "start_time": "2025-04-15T17:44:07.007Z"
   },
   {
    "duration": 934,
    "start_time": "2025-04-15T17:44:11.047Z"
   },
   {
    "duration": 11,
    "start_time": "2025-04-15T17:44:11.982Z"
   },
   {
    "duration": 53,
    "start_time": "2025-04-15T17:44:11.994Z"
   },
   {
    "duration": 66,
    "start_time": "2025-04-15T17:44:12.049Z"
   },
   {
    "duration": 24,
    "start_time": "2025-04-15T17:44:12.116Z"
   },
   {
    "duration": 275,
    "start_time": "2025-04-15T17:44:12.141Z"
   },
   {
    "duration": 7,
    "start_time": "2025-04-15T17:44:12.418Z"
   },
   {
    "duration": 2,
    "start_time": "2025-04-15T17:44:12.436Z"
   },
   {
    "duration": 4,
    "start_time": "2025-04-15T17:44:12.439Z"
   },
   {
    "duration": 1214,
    "start_time": "2025-04-15T17:44:12.444Z"
   },
   {
    "duration": 10,
    "start_time": "2025-04-15T17:44:13.660Z"
   },
   {
    "duration": 4,
    "start_time": "2025-04-15T17:44:13.672Z"
   },
   {
    "duration": 4,
    "start_time": "2025-04-15T17:44:13.679Z"
   },
   {
    "duration": 4575,
    "start_time": "2025-04-15T17:44:13.685Z"
   },
   {
    "duration": 4,
    "start_time": "2025-04-15T17:44:18.261Z"
   },
   {
    "duration": 3,
    "start_time": "2025-04-15T17:44:18.267Z"
   },
   {
    "duration": 3505,
    "start_time": "2025-04-15T17:44:18.272Z"
   },
   {
    "duration": 26471,
    "start_time": "2025-04-15T17:44:21.778Z"
   },
   {
    "duration": 0,
    "start_time": "2025-04-15T17:44:48.251Z"
   },
   {
    "duration": 0,
    "start_time": "2025-04-15T17:44:48.253Z"
   },
   {
    "duration": 0,
    "start_time": "2025-04-15T17:44:48.254Z"
   },
   {
    "duration": 0,
    "start_time": "2025-04-15T17:44:48.255Z"
   },
   {
    "duration": 0,
    "start_time": "2025-04-15T17:44:48.257Z"
   },
   {
    "duration": 0,
    "start_time": "2025-04-15T17:44:48.258Z"
   },
   {
    "duration": 0,
    "start_time": "2025-04-15T17:44:48.259Z"
   },
   {
    "duration": 0,
    "start_time": "2025-04-15T17:44:48.260Z"
   },
   {
    "duration": 0,
    "start_time": "2025-04-15T17:44:48.261Z"
   },
   {
    "duration": 0,
    "start_time": "2025-04-15T17:44:48.262Z"
   },
   {
    "duration": 0,
    "start_time": "2025-04-15T17:44:48.263Z"
   },
   {
    "duration": 0,
    "start_time": "2025-04-15T17:44:48.264Z"
   },
   {
    "duration": 0,
    "start_time": "2025-04-15T17:44:48.265Z"
   },
   {
    "duration": 0,
    "start_time": "2025-04-15T17:44:48.266Z"
   },
   {
    "duration": 0,
    "start_time": "2025-04-15T17:44:48.267Z"
   },
   {
    "duration": 0,
    "start_time": "2025-04-15T17:44:48.268Z"
   },
   {
    "duration": 0,
    "start_time": "2025-04-15T17:44:48.269Z"
   },
   {
    "duration": 0,
    "start_time": "2025-04-15T17:44:48.270Z"
   },
   {
    "duration": 0,
    "start_time": "2025-04-15T17:44:48.271Z"
   },
   {
    "duration": 0,
    "start_time": "2025-04-15T17:44:48.273Z"
   },
   {
    "duration": 0,
    "start_time": "2025-04-15T17:44:48.274Z"
   },
   {
    "duration": 0,
    "start_time": "2025-04-15T17:44:48.275Z"
   },
   {
    "duration": 0,
    "start_time": "2025-04-15T17:44:48.276Z"
   },
   {
    "duration": 0,
    "start_time": "2025-04-15T17:44:48.277Z"
   },
   {
    "duration": 0,
    "start_time": "2025-04-15T17:44:48.278Z"
   },
   {
    "duration": 4796,
    "start_time": "2025-04-15T17:46:22.013Z"
   },
   {
    "duration": 926,
    "start_time": "2025-04-15T17:46:26.811Z"
   },
   {
    "duration": 10,
    "start_time": "2025-04-15T17:46:27.739Z"
   },
   {
    "duration": 41,
    "start_time": "2025-04-15T17:46:27.750Z"
   },
   {
    "duration": 76,
    "start_time": "2025-04-15T17:46:27.792Z"
   },
   {
    "duration": 13,
    "start_time": "2025-04-15T17:46:27.869Z"
   },
   {
    "duration": 265,
    "start_time": "2025-04-15T17:46:27.883Z"
   },
   {
    "duration": 5,
    "start_time": "2025-04-15T17:46:28.150Z"
   },
   {
    "duration": 2,
    "start_time": "2025-04-15T17:46:28.157Z"
   },
   {
    "duration": 3,
    "start_time": "2025-04-15T17:46:28.162Z"
   },
   {
    "duration": 1250,
    "start_time": "2025-04-15T17:46:28.166Z"
   },
   {
    "duration": 20,
    "start_time": "2025-04-15T17:46:29.418Z"
   },
   {
    "duration": 4,
    "start_time": "2025-04-15T17:46:29.440Z"
   },
   {
    "duration": 10,
    "start_time": "2025-04-15T17:46:29.446Z"
   },
   {
    "duration": 4704,
    "start_time": "2025-04-15T17:46:29.458Z"
   },
   {
    "duration": 5,
    "start_time": "2025-04-15T17:46:34.164Z"
   },
   {
    "duration": 20,
    "start_time": "2025-04-15T17:46:34.171Z"
   },
   {
    "duration": 3616,
    "start_time": "2025-04-15T17:46:34.194Z"
   },
   {
    "duration": 533903,
    "start_time": "2025-04-15T17:46:37.812Z"
   },
   {
    "duration": 115,
    "start_time": "2025-04-15T17:55:31.717Z"
   },
   {
    "duration": 21685,
    "start_time": "2025-04-15T17:55:31.833Z"
   },
   {
    "duration": 145656,
    "start_time": "2025-04-15T17:55:53.520Z"
   },
   {
    "duration": 0,
    "start_time": "2025-04-15T17:58:19.178Z"
   },
   {
    "duration": 0,
    "start_time": "2025-04-15T17:58:19.179Z"
   },
   {
    "duration": 0,
    "start_time": "2025-04-15T17:58:19.180Z"
   },
   {
    "duration": 0,
    "start_time": "2025-04-15T17:58:19.181Z"
   },
   {
    "duration": 0,
    "start_time": "2025-04-15T17:58:19.182Z"
   },
   {
    "duration": 0,
    "start_time": "2025-04-15T17:58:19.183Z"
   },
   {
    "duration": 0,
    "start_time": "2025-04-15T17:58:19.184Z"
   },
   {
    "duration": 0,
    "start_time": "2025-04-15T17:58:19.185Z"
   },
   {
    "duration": 0,
    "start_time": "2025-04-15T17:58:19.186Z"
   },
   {
    "duration": 0,
    "start_time": "2025-04-15T17:58:19.187Z"
   },
   {
    "duration": 0,
    "start_time": "2025-04-15T17:58:19.188Z"
   },
   {
    "duration": 0,
    "start_time": "2025-04-15T17:58:19.189Z"
   },
   {
    "duration": 0,
    "start_time": "2025-04-15T17:58:19.190Z"
   },
   {
    "duration": 1,
    "start_time": "2025-04-15T17:58:19.190Z"
   },
   {
    "duration": 0,
    "start_time": "2025-04-15T17:58:19.191Z"
   },
   {
    "duration": 0,
    "start_time": "2025-04-15T17:58:19.192Z"
   },
   {
    "duration": 0,
    "start_time": "2025-04-15T17:58:19.193Z"
   },
   {
    "duration": 0,
    "start_time": "2025-04-15T17:58:19.194Z"
   },
   {
    "duration": 0,
    "start_time": "2025-04-15T17:58:19.195Z"
   },
   {
    "duration": 0,
    "start_time": "2025-04-15T17:58:19.196Z"
   },
   {
    "duration": 0,
    "start_time": "2025-04-15T17:58:19.196Z"
   },
   {
    "duration": 4127,
    "start_time": "2025-04-15T18:03:00.581Z"
   },
   {
    "duration": 942,
    "start_time": "2025-04-15T18:03:04.710Z"
   },
   {
    "duration": 12,
    "start_time": "2025-04-15T18:03:05.654Z"
   },
   {
    "duration": 35,
    "start_time": "2025-04-15T18:03:05.669Z"
   },
   {
    "duration": 93,
    "start_time": "2025-04-15T18:03:05.706Z"
   },
   {
    "duration": 26,
    "start_time": "2025-04-15T18:03:05.801Z"
   },
   {
    "duration": 271,
    "start_time": "2025-04-15T18:03:05.829Z"
   },
   {
    "duration": 7,
    "start_time": "2025-04-15T18:03:06.102Z"
   },
   {
    "duration": 9,
    "start_time": "2025-04-15T18:03:06.111Z"
   },
   {
    "duration": 3,
    "start_time": "2025-04-15T18:03:06.135Z"
   },
   {
    "duration": 1250,
    "start_time": "2025-04-15T18:03:06.140Z"
   },
   {
    "duration": 10,
    "start_time": "2025-04-15T18:03:07.392Z"
   },
   {
    "duration": 6,
    "start_time": "2025-04-15T18:03:07.403Z"
   },
   {
    "duration": 25,
    "start_time": "2025-04-15T18:03:07.410Z"
   },
   {
    "duration": 5976,
    "start_time": "2025-04-15T18:03:07.437Z"
   },
   {
    "duration": 4,
    "start_time": "2025-04-15T18:03:13.415Z"
   },
   {
    "duration": 16,
    "start_time": "2025-04-15T18:03:13.420Z"
   },
   {
    "duration": 3476,
    "start_time": "2025-04-15T18:03:13.437Z"
   },
   {
    "duration": 541682,
    "start_time": "2025-04-15T18:03:16.915Z"
   },
   {
    "duration": 123,
    "start_time": "2025-04-15T18:12:18.599Z"
   },
   {
    "duration": 20576,
    "start_time": "2025-04-15T18:12:18.724Z"
   },
   {
    "duration": 1823255,
    "start_time": "2025-04-15T18:12:39.302Z"
   },
   {
    "duration": 2,
    "start_time": "2025-04-15T18:43:02.559Z"
   },
   {
    "duration": 31,
    "start_time": "2025-04-15T18:43:02.563Z"
   },
   {
    "duration": 151696,
    "start_time": "2025-04-15T18:43:02.595Z"
   },
   {
    "duration": 12,
    "start_time": "2025-04-15T18:45:34.293Z"
   },
   {
    "duration": 3995,
    "start_time": "2025-04-15T18:59:49.944Z"
   },
   {
    "duration": 1658,
    "start_time": "2025-04-15T18:59:53.941Z"
   },
   {
    "duration": 10,
    "start_time": "2025-04-15T18:59:55.601Z"
   },
   {
    "duration": 41,
    "start_time": "2025-04-15T18:59:55.614Z"
   },
   {
    "duration": 78,
    "start_time": "2025-04-15T18:59:55.657Z"
   },
   {
    "duration": 13,
    "start_time": "2025-04-15T18:59:55.737Z"
   },
   {
    "duration": 273,
    "start_time": "2025-04-15T18:59:55.752Z"
   },
   {
    "duration": 11,
    "start_time": "2025-04-15T18:59:56.026Z"
   },
   {
    "duration": 2,
    "start_time": "2025-04-15T18:59:56.039Z"
   },
   {
    "duration": 4,
    "start_time": "2025-04-15T18:59:56.044Z"
   },
   {
    "duration": 1253,
    "start_time": "2025-04-15T18:59:56.049Z"
   },
   {
    "duration": 10,
    "start_time": "2025-04-15T18:59:57.303Z"
   },
   {
    "duration": 21,
    "start_time": "2025-04-15T18:59:57.315Z"
   },
   {
    "duration": 8,
    "start_time": "2025-04-15T18:59:57.338Z"
   },
   {
    "duration": 4632,
    "start_time": "2025-04-15T18:59:57.347Z"
   },
   {
    "duration": 5,
    "start_time": "2025-04-15T19:00:01.981Z"
   },
   {
    "duration": 37,
    "start_time": "2025-04-15T19:00:01.987Z"
   },
   {
    "duration": 3730,
    "start_time": "2025-04-15T19:00:02.026Z"
   },
   {
    "duration": 539959,
    "start_time": "2025-04-15T19:00:05.758Z"
   },
   {
    "duration": 126,
    "start_time": "2025-04-15T19:09:05.719Z"
   },
   {
    "duration": 21346,
    "start_time": "2025-04-15T19:09:05.847Z"
   },
   {
    "duration": 1818045,
    "start_time": "2025-04-15T19:09:27.195Z"
   },
   {
    "duration": 3,
    "start_time": "2025-04-15T19:39:45.242Z"
   },
   {
    "duration": 23,
    "start_time": "2025-04-15T19:39:45.247Z"
   },
   {
    "duration": 152439,
    "start_time": "2025-04-15T19:39:45.272Z"
   },
   {
    "duration": 12,
    "start_time": "2025-04-15T19:42:17.712Z"
   },
   {
    "duration": 7149691,
    "start_time": "2025-04-15T19:42:17.725Z"
   },
   {
    "duration": 23,
    "start_time": "2025-04-15T21:41:27.421Z"
   },
   {
    "duration": 50,
    "start_time": "2025-04-15T21:41:27.446Z"
   },
   {
    "duration": 57,
    "start_time": "2025-04-15T21:41:27.498Z"
   },
   {
    "duration": 164,
    "start_time": "2025-04-15T21:41:27.556Z"
   },
   {
    "duration": 1839,
    "start_time": "2025-04-15T21:41:27.721Z"
   },
   {
    "duration": 91,
    "start_time": "2025-04-15T21:41:29.562Z"
   },
   {
    "duration": 0,
    "start_time": "2025-04-15T21:41:29.654Z"
   },
   {
    "duration": 0,
    "start_time": "2025-04-15T21:41:29.656Z"
   },
   {
    "duration": 0,
    "start_time": "2025-04-15T21:41:29.657Z"
   },
   {
    "duration": 0,
    "start_time": "2025-04-15T21:41:29.658Z"
   },
   {
    "duration": 0,
    "start_time": "2025-04-15T21:41:29.659Z"
   },
   {
    "duration": 0,
    "start_time": "2025-04-15T21:41:29.660Z"
   },
   {
    "duration": 0,
    "start_time": "2025-04-15T21:41:29.661Z"
   },
   {
    "duration": 48,
    "start_time": "2025-04-16T04:54:59.141Z"
   },
   {
    "duration": 4276,
    "start_time": "2025-04-16T04:55:33.851Z"
   },
   {
    "duration": 0,
    "start_time": "2025-04-16T04:55:38.131Z"
   },
   {
    "duration": 0,
    "start_time": "2025-04-16T04:55:38.133Z"
   },
   {
    "duration": 0,
    "start_time": "2025-04-16T04:55:38.133Z"
   },
   {
    "duration": 0,
    "start_time": "2025-04-16T04:55:38.135Z"
   },
   {
    "duration": 0,
    "start_time": "2025-04-16T04:55:38.136Z"
   },
   {
    "duration": 0,
    "start_time": "2025-04-16T04:55:38.137Z"
   },
   {
    "duration": 0,
    "start_time": "2025-04-16T04:55:38.138Z"
   },
   {
    "duration": 0,
    "start_time": "2025-04-16T04:55:38.139Z"
   },
   {
    "duration": 0,
    "start_time": "2025-04-16T04:55:38.140Z"
   },
   {
    "duration": 0,
    "start_time": "2025-04-16T04:55:38.141Z"
   },
   {
    "duration": 0,
    "start_time": "2025-04-16T04:55:38.142Z"
   },
   {
    "duration": 0,
    "start_time": "2025-04-16T04:55:38.143Z"
   },
   {
    "duration": 0,
    "start_time": "2025-04-16T04:55:38.144Z"
   },
   {
    "duration": 0,
    "start_time": "2025-04-16T04:55:38.145Z"
   },
   {
    "duration": 0,
    "start_time": "2025-04-16T04:55:38.146Z"
   },
   {
    "duration": 0,
    "start_time": "2025-04-16T04:55:38.148Z"
   },
   {
    "duration": 0,
    "start_time": "2025-04-16T04:55:38.149Z"
   },
   {
    "duration": 0,
    "start_time": "2025-04-16T04:55:38.150Z"
   },
   {
    "duration": 0,
    "start_time": "2025-04-16T04:55:38.151Z"
   },
   {
    "duration": 0,
    "start_time": "2025-04-16T04:55:38.152Z"
   },
   {
    "duration": 0,
    "start_time": "2025-04-16T04:55:38.153Z"
   },
   {
    "duration": 0,
    "start_time": "2025-04-16T04:55:38.154Z"
   },
   {
    "duration": 0,
    "start_time": "2025-04-16T04:55:38.155Z"
   },
   {
    "duration": 0,
    "start_time": "2025-04-16T04:55:38.157Z"
   },
   {
    "duration": 0,
    "start_time": "2025-04-16T04:55:38.158Z"
   },
   {
    "duration": 0,
    "start_time": "2025-04-16T04:55:38.159Z"
   },
   {
    "duration": 0,
    "start_time": "2025-04-16T04:55:38.159Z"
   },
   {
    "duration": 0,
    "start_time": "2025-04-16T04:55:38.161Z"
   },
   {
    "duration": 0,
    "start_time": "2025-04-16T04:55:38.162Z"
   },
   {
    "duration": 0,
    "start_time": "2025-04-16T04:55:38.163Z"
   },
   {
    "duration": 0,
    "start_time": "2025-04-16T04:55:38.164Z"
   },
   {
    "duration": 0,
    "start_time": "2025-04-16T04:55:38.165Z"
   },
   {
    "duration": 0,
    "start_time": "2025-04-16T04:55:38.166Z"
   },
   {
    "duration": 0,
    "start_time": "2025-04-16T04:55:38.167Z"
   },
   {
    "duration": 0,
    "start_time": "2025-04-16T04:55:38.168Z"
   },
   {
    "duration": 0,
    "start_time": "2025-04-16T04:55:38.169Z"
   },
   {
    "duration": 0,
    "start_time": "2025-04-16T04:55:38.171Z"
   },
   {
    "duration": 0,
    "start_time": "2025-04-16T04:55:38.172Z"
   },
   {
    "duration": 0,
    "start_time": "2025-04-16T04:55:38.173Z"
   },
   {
    "duration": 0,
    "start_time": "2025-04-16T04:55:38.238Z"
   },
   {
    "duration": 5637,
    "start_time": "2025-04-16T04:55:59.203Z"
   },
   {
    "duration": 1006,
    "start_time": "2025-04-16T04:56:04.842Z"
   },
   {
    "duration": 18,
    "start_time": "2025-04-16T04:56:05.849Z"
   },
   {
    "duration": 44,
    "start_time": "2025-04-16T04:56:05.869Z"
   },
   {
    "duration": 81,
    "start_time": "2025-04-16T04:56:05.915Z"
   },
   {
    "duration": 15,
    "start_time": "2025-04-16T04:56:05.997Z"
   },
   {
    "duration": 319,
    "start_time": "2025-04-16T04:56:06.014Z"
   },
   {
    "duration": 6,
    "start_time": "2025-04-16T04:56:06.338Z"
   },
   {
    "duration": 97,
    "start_time": "2025-04-16T04:56:06.346Z"
   },
   {
    "duration": 5,
    "start_time": "2025-04-16T04:56:06.446Z"
   },
   {
    "duration": 1360,
    "start_time": "2025-04-16T04:56:06.452Z"
   },
   {
    "duration": 24,
    "start_time": "2025-04-16T04:56:07.814Z"
   },
   {
    "duration": 4,
    "start_time": "2025-04-16T04:56:07.840Z"
   },
   {
    "duration": 6,
    "start_time": "2025-04-16T04:56:07.845Z"
   },
   {
    "duration": 5669,
    "start_time": "2025-04-16T04:56:07.853Z"
   },
   {
    "duration": 4,
    "start_time": "2025-04-16T04:56:13.523Z"
   },
   {
    "duration": 4,
    "start_time": "2025-04-16T04:56:13.538Z"
   },
   {
    "duration": 3953,
    "start_time": "2025-04-16T04:56:13.543Z"
   },
   {
    "duration": 616667,
    "start_time": "2025-04-16T04:56:17.498Z"
   },
   {
    "duration": 157,
    "start_time": "2025-04-16T05:06:34.167Z"
   },
   {
    "duration": 24538,
    "start_time": "2025-04-16T05:06:34.325Z"
   },
   {
    "duration": 1865091,
    "start_time": "2025-04-16T05:06:58.865Z"
   },
   {
    "duration": 2,
    "start_time": "2025-04-16T05:38:03.958Z"
   },
   {
    "duration": 18,
    "start_time": "2025-04-16T05:38:03.962Z"
   },
   {
    "duration": 183413,
    "start_time": "2025-04-16T05:38:03.982Z"
   },
   {
    "duration": 13,
    "start_time": "2025-04-16T05:41:07.396Z"
   },
   {
    "duration": 7062291,
    "start_time": "2025-04-16T05:41:07.412Z"
   },
   {
    "duration": 13,
    "start_time": "2025-04-16T07:38:49.707Z"
   },
   {
    "duration": 139,
    "start_time": "2025-04-16T07:38:49.722Z"
   },
   {
    "duration": 0,
    "start_time": "2025-04-16T07:38:49.863Z"
   },
   {
    "duration": 0,
    "start_time": "2025-04-16T07:38:49.864Z"
   },
   {
    "duration": 0,
    "start_time": "2025-04-16T07:38:49.866Z"
   },
   {
    "duration": 0,
    "start_time": "2025-04-16T07:38:49.867Z"
   },
   {
    "duration": 0,
    "start_time": "2025-04-16T07:38:49.868Z"
   },
   {
    "duration": 0,
    "start_time": "2025-04-16T07:38:49.869Z"
   },
   {
    "duration": 0,
    "start_time": "2025-04-16T07:38:49.870Z"
   },
   {
    "duration": 0,
    "start_time": "2025-04-16T07:38:49.871Z"
   },
   {
    "duration": 0,
    "start_time": "2025-04-16T07:38:49.872Z"
   },
   {
    "duration": 0,
    "start_time": "2025-04-16T07:38:49.873Z"
   },
   {
    "duration": 0,
    "start_time": "2025-04-16T07:38:49.874Z"
   },
   {
    "duration": 0,
    "start_time": "2025-04-16T07:38:49.875Z"
   },
   {
    "duration": 2095,
    "start_time": "2025-04-16T07:43:49.684Z"
   },
   {
    "duration": 2065,
    "start_time": "2025-04-16T07:46:18.933Z"
   },
   {
    "duration": 52,
    "start_time": "2025-04-16T08:00:02.369Z"
   },
   {
    "duration": 167,
    "start_time": "2025-04-16T08:03:42.472Z"
   },
   {
    "duration": 135,
    "start_time": "2025-04-16T08:08:35.045Z"
   },
   {
    "duration": 169,
    "start_time": "2025-04-16T08:11:53.363Z"
   }
  ],
  "kernelspec": {
   "display_name": "Python 3 (ipykernel)",
   "language": "python",
   "name": "python3"
  },
  "language_info": {
   "codemirror_mode": {
    "name": "ipython",
    "version": 3
   },
   "file_extension": ".py",
   "mimetype": "text/x-python",
   "name": "python",
   "nbconvert_exporter": "python",
   "pygments_lexer": "ipython3",
   "version": "3.10.16"
  },
  "toc": {
   "base_numbering": 1,
   "nav_menu": {},
   "number_sections": true,
   "sideBar": true,
   "skip_h1_title": true,
   "title_cell": "Содержание",
   "title_sidebar": "Contents",
   "toc_cell": true,
   "toc_position": {
    "height": "calc(100% - 180px)",
    "left": "10px",
    "top": "150px",
    "width": "302.373px"
   },
   "toc_section_display": true,
   "toc_window_display": true
  }
 },
 "nbformat": 4,
 "nbformat_minor": 4
}
